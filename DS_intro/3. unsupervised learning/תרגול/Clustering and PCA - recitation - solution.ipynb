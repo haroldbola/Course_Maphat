{
 "cells": [
  {
   "cell_type": "markdown",
   "metadata": {},
   "source": [
    "# Clustering an PCA - recitation"
   ]
  },
  {
   "cell_type": "markdown",
   "metadata": {},
   "source": [
    "``\n",
    "In this recitation, you will experience with implementing linear two clustering models: KMeans and DBSCAN. You will also implement a linear decomposition algorithm, PCA.\n",
    "``"
   ]
  },
  {
   "cell_type": "code",
   "execution_count": 1,
   "metadata": {},
   "outputs": [],
   "source": [
    "from sklearn.datasets import make_blobs\n",
    "from matplotlib import pyplot as plt\n",
    "import numpy as np"
   ]
  },
  {
   "cell_type": "markdown",
   "metadata": {},
   "source": [
    "``\n",
    "Start by generatig data and visualise it. Try to pick an insteresting looking dataset.\n",
    "``"
   ]
  },
  {
   "cell_type": "code",
   "execution_count": 2,
   "metadata": {},
   "outputs": [],
   "source": [
    "NUM_SAMPLES = 500\n",
    "data, labels = make_blobs(n_samples=NUM_SAMPLES, centers=3)"
   ]
  },
  {
   "cell_type": "markdown",
   "metadata": {},
   "source": [
    "``\n",
    "Plot the generated data\n",
    "``"
   ]
  },
  {
   "cell_type": "code",
   "execution_count": 3,
   "metadata": {},
   "outputs": [
    {
     "data": {
      "text/plain": [
       "<matplotlib.collections.PathCollection at 0x224eb37d488>"
      ]
     },
     "execution_count": 3,
     "metadata": {},
     "output_type": "execute_result"
    },
    {
     "data": {
      "image/png": "[encoded data removed]",
      "text/plain": [
       "<Figure size 432x288 with 1 Axes>"
      ]
     },
     "metadata": {
      "needs_background": "light"
     },
     "output_type": "display_data"
    }
   ],
   "source": [
    "plt.scatter(data[:, 0], data[:, 1])"
   ]
  },
  {
   "cell_type": "code",
   "execution_count": 4,
   "metadata": {},
   "outputs": [],
   "source": [
    "def plot_clusters(clusters_points):\n",
    "    \"\"\"A utility function that plots each cluster in a different color\"\"\"\n",
    "    fig = plt.figure()\n",
    "    for cluster_points in clusters_points:\n",
    "        cluster_points = np.array(cluster_points)\n",
    "        plt.scatter(cluster_points[:, 0], cluster_points[:, 1])\n",
    "    return fig"
   ]
  },
  {
   "cell_type": "markdown",
   "metadata": {},
   "source": [
    "# KMeans\n"
   ]
  },
  {
   "cell_type": "markdown",
   "metadata": {},
   "source": [
    "``\n",
    "Implement the KMeans algorithm. Use wikipedia and google if you aren't sure what to do.\n",
    "``"
   ]
  },
  {
   "cell_type": "code",
   "execution_count": 5,
   "metadata": {},
   "outputs": [],
   "source": [
    "\n",
    "def get_closest_center(point, centers):\n",
    "    \"\"\"Given a point and a list of centers, this function returns the closest center to the point.\"\"\"\n",
    "    center_distance = np.linalg.norm(point - centers, axis=1)\n",
    "    closest_center = np.argmin(center_distance)\n",
    "    return closest_center\n",
    "\n",
    "def kmeans(data, clusters_num, eps=1e-8):\n",
    "    \"\"\"A function implementing KMeans.\n",
    "    \n",
    "    Gets as input the data (data), wanted number of clusters (clusters_num), \n",
    "    and a converagence parameter (eps).\n",
    "    \n",
    "    Returns a list of clusters, each is a list of points (cluster_points), and the center of each cluster (centers). \n",
    "    \"\"\"\n",
    "    center_inds = np.random.choice(data.shape[0], clusters_num)\n",
    "    centers = data[center_inds]\n",
    "    delta_centers = 2*eps\n",
    "    counter = 0\n",
    "    new_centers = np.array(centers)\n",
    "    while delta_centers > eps:\n",
    "        cluster_points = [[] for i in range(clusters_num)]\n",
    "        for point in data:\n",
    "            closest_center = get_closest_center(point, centers)\n",
    "            cluster_points[closest_center].append(point)\n",
    "        for i in range(clusters_num):\n",
    "            new_centers[i] = np.mean(np.array(cluster_points[i]), axis=0)\n",
    "        delta_centers = np.max(np.linalg.norm(new_centers - centers))\n",
    "        centers = np.array(new_centers)\n",
    "        counter += 1\n",
    "    return cluster_points, centers"
   ]
  },
  {
   "cell_type": "markdown",
   "metadata": {},
   "source": [
    "``\n",
    "Plot your results\n",
    "``"
   ]
  },
  {
   "cell_type": "code",
   "execution_count": 6,
   "metadata": {},
   "outputs": [
    {
     "data": {
      "text/plain": [
       "<bound method Figure.show of <Figure size 432x288 with 1 Axes>>"
      ]
     },
     "execution_count": 6,
     "metadata": {},
     "output_type": "execute_result"
    },
    {
     "data": {
      "image/png": "[encoded data removed]",
      "text/plain": [
       "<Figure size 432x288 with 1 Axes>"
      ]
     },
     "metadata": {
      "needs_background": "light"
     },
     "output_type": "display_data"
    }
   ],
   "source": [
    "cluster_points, centers = kmeans(data, 3)\n",
    "fig = plot_clusters(cluster_points)\n",
    "plt.scatter(centers[:, 0], centers[:, 1]) # Also plots the centers of the clusters.\n",
    "fig.show"
   ]
  },
  {
   "cell_type": "markdown",
   "metadata": {},
   "source": [
    "# DBSCAN"
   ]
  },
  {
   "cell_type": "markdown",
   "metadata": {},
   "source": [
    "``\n",
    "Implement the DBSCAN algorithm. Again, use wikipedia and google if you aren't sure what to do.\n",
    "``"
   ]
  },
  {
   "cell_type": "code",
   "execution_count": 7,
   "metadata": {},
   "outputs": [],
   "source": [
    "def get_neighbors(point, data, eps):\n",
    "    \"\"\"Given a point, this function returns a list of all the \n",
    "    points that are closer than 'eps' to it.\n",
    "    \"\"\"\n",
    "    distances = np.linalg.norm(data[point] - data, axis=1)\n",
    "    neighbors = np.nonzero(distances < eps)[0]\n",
    "    return list(neighbors)\n",
    "\n",
    "def dbscan(data, eps, min_points=1):\n",
    "    \"\"\"A function implementing DBScan.\n",
    "    \n",
    "    Gets as input the data (data), the maximal neighbor distance (eps), \n",
    "    and the minimum number of points in a cluster (min_points).\n",
    "    \n",
    "    Returns a list of labels for each point in tha data (labels). \n",
    "    \"\"\"\n",
    "    labels = np.zeros(data.shape[0])\n",
    "    cluster_counter = 0\n",
    "    for point in range(data.shape[0]):\n",
    "        if labels[point] > 0:\n",
    "            continue\n",
    "        neighbors = get_neighbors(point, data, eps)\n",
    "        if len(neighbors) <= min_points:\n",
    "            labels[point] = -1\n",
    "        else:\n",
    "            cluster_counter += 1\n",
    "            labels[point] = cluster_counter\n",
    "            neighbors.remove(point)\n",
    "            seed = neighbors\n",
    "            while seed:\n",
    "                point = seed[0]\n",
    "                seed.remove(point)\n",
    "                if labels[point] > 0:\n",
    "                    continue\n",
    "                labels[point] = cluster_counter\n",
    "                neighbors = get_neighbors(point, data, eps)\n",
    "                seed += [x for x in neighbors if labels[x] <= 0 and x not in seed]\n",
    "    return labels"
   ]
  },
  {
   "cell_type": "markdown",
   "metadata": {},
   "source": [
    "``\n",
    "Plot your results\n",
    "``"
   ]
  },
  {
   "cell_type": "code",
   "execution_count": 8,
   "metadata": {},
   "outputs": [
    {
     "data": {
      "text/plain": [
       "<bound method Figure.show of <Figure size 432x288 with 1 Axes>>"
      ]
     },
     "execution_count": 8,
     "metadata": {},
     "output_type": "execute_result"
    },
    {
     "data": {
      "image/png": "[encoded data removed]",
      "text/plain": [
       "<Figure size 432x288 with 1 Axes>"
      ]
     },
     "metadata": {
      "needs_background": "light"
     },
     "output_type": "display_data"
    }
   ],
   "source": [
    "labels = dbscan(data, 1, 1)\n",
    "clusters_points = []\n",
    "for label in np.unique(labels):\n",
    "    clusters_points.append(data[labels==label])\n",
    "fig = plot_clusters(clusters_points)\n",
    "fig.show"
   ]
  },
  {
   "cell_type": "markdown",
   "metadata": {},
   "source": [
    "# PCA"
   ]
  },
  {
   "cell_type": "markdown",
   "metadata": {},
   "source": [
    "``\n",
    "Read about PCA and it's relation to the SVD algorithm. a good source can be found here: https://intoli.com/blog/pca-and-svd/.\n",
    "In this section we will implement a simple version of PCA wehre you calculate all of the compomemts.\n",
    "\n",
    "Don't forget to first change the mean of your data to 0.\n",
    "``"
   ]
  },
  {
   "cell_type": "code",
   "execution_count": 9,
   "metadata": {},
   "outputs": [],
   "source": [
    "def pca(data):\n",
    "    \"\"\"A function implementing PCA.\n",
    "    \n",
    "    Gets as input the data (data).\n",
    "    \n",
    "    Returns the data after the pca transformation (transformed_data), \n",
    "    and the components in the previous basis (components). \n",
    "    \"\"\"\n",
    "    data -= data.mean(axis=0)\n",
    "    u, s, vh = np.linalg.svd(data)\n",
    "    components = vh.transpose()\n",
    "    transformed_data = data @ vh\n",
    "    return transformed_data, components"
   ]
  },
  {
   "cell_type": "markdown",
   "metadata": {},
   "source": [
    "``\n",
    "Plot your results\n",
    "``"
   ]
  },
  {
   "cell_type": "code",
   "execution_count": 10,
   "metadata": {},
   "outputs": [
    {
     "data": {
      "text/plain": [
       "<matplotlib.collections.PathCollection at 0x224eb497c88>"
      ]
     },
     "execution_count": 10,
     "metadata": {},
     "output_type": "execute_result"
    },
    {
     "data": {
      "image/png": "[encoded data removed]",
      "text/plain": [
       "<Figure size 432x288 with 1 Axes>"
      ]
     },
     "metadata": {
      "needs_background": "light"
     },
     "output_type": "display_data"
    }
   ],
   "source": [
    "transformed_data, components = pca(data)\n",
    "plt.scatter(transformed_data[:, 0], transformed_data[:, 1])"
   ]
  },
  {
   "cell_type": "markdown",
   "metadata": {},
   "source": [
    "``\n",
    "Compare with sklearn.decomposition.PCA\n",
    "``"
   ]
  },
  {
   "cell_type": "code",
   "execution_count": 11,
   "metadata": {},
   "outputs": [],
   "source": [
    "from sklearn.decomposition import PCA"
   ]
  },
  {
   "cell_type": "code",
   "execution_count": 12,
   "metadata": {},
   "outputs": [
    {
     "data": {
      "text/plain": [
       "(array([[ 0.7339295 , -0.67922565],\n",
       "        [-0.67922565, -0.7339295 ]]), array([[-0.7339295 , -0.67922565],\n",
       "        [ 0.67922565, -0.7339295 ]]))"
      ]
     },
     "execution_count": 12,
     "metadata": {},
     "output_type": "execute_result"
    }
   ],
   "source": [
    "sk_pca = PCA()\n",
    "sk_pca.fit(data)\n",
    "sk_pca.components_, components"
   ]
  }
 ],
 "metadata": {
  "kernelspec": {
   "display_name": "Python 3",
   "language": "python",
   "name": "python3"
  },
  "language_info": {
   "codemirror_mode": {
    "name": "ipython",
    "version": 3
   },
   "file_extension": ".py",
   "mimetype": "text/x-python",
   "name": "python",
   "nbconvert_exporter": "python",
   "pygments_lexer": "ipython3",
   "version": "3.7.3rc1"
  }
 },
 "nbformat": 4,
 "nbformat_minor": 4
}
