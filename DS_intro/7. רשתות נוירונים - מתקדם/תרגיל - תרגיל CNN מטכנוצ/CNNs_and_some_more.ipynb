{
 "cells": [
  {
   "cell_type": "markdown",
   "metadata": {
    "id": "b06n77U3vrd7"
   },
   "source": [
    "## CNN's and other cool neural networks stuff\n",
    "```During this exercise you will train, examine and visualize convolutional neural networks. Images are a very unique example of high dimensional data. There are, indeed, many dimensions - even for low-resolution images (let's say, 32x32 pixels), while regarding each pixel as a feature, you can end up with hundreds of features. Such large vectors are, generally speaking, hard to visualize, but images make it all much easier, you can just draw the image. We will use this nice property to explore our networks. ```\n",
    "\n",
    "~```Ittai Haran```"
   ]
  },
  {
   "cell_type": "markdown",
   "metadata": {
    "id": "aUnwIzqtvreC"
   },
   "source": [
    "### Examining CNNs"
   ]
  },
  {
   "cell_type": "code",
   "execution_count": 3,
   "metadata": {
    "id": "jDGRgotgvreC"
   },
   "outputs": [],
   "source": [
    "import pandas as pd\n",
    "import numpy as np\n",
    "from keras.layers import Dense, Input, Conv2D, Flatten, MaxPool2D, Dropout, Softmax\n",
    "from keras.models import Model, Sequential\n",
    "\n",
    "import matplotlib.pyplot as plt\n",
    "%matplotlib inline"
   ]
  },
  {
   "cell_type": "markdown",
   "metadata": {
    "id": "bJadVgEZvreD"
   },
   "source": [
    "```As you recall, you used before the MNIST dataset. Now we will use a much harder dataset - CIFAR10, which contains low resolution images of 10 different objects - airplace, automobile, bird, cat, deer, dog, frog, horse, ship and truck. Start by loading the dataset.\n",
    "Notice: the values given to pixels are in the range [0,255]. You might want to move them to the range [0,1] for later use in your neural networks.```"
   ]
  },
  {
   "cell_type": "code",
   "execution_count": 5,
   "metadata": {
    "colab": {
     "base_uri": "https://localhost:8080/"
    },
    "id": "1hkt3FBsvreD",
    "outputId": "1d46b9ea-bf84-4307-89db-4dce380c193c"
   },
   "outputs": [
    {
     "name": "stdout",
     "output_type": "stream",
     "text": [
      "Downloading data from https://www.cs.toronto.edu/~kriz/cifar-10-python.tar.gz\n",
      "170500096/170498071 [==============================] - 3s 0us/step\n"
     ]
    }
   ],
   "source": [
    "from keras.datasets import cifar10\n",
    "(X_train, Y_train), (X_test, Y_test) = cifar10.load_data()\n",
    "num_to_words = {0:'airplane',1:'automobile',2:'bird',3:'cat', 4:'deer', 5:'dog', 6:'frog', 7:'horse', 8:'ship', 9:'truck'}"
   ]
  },
  {
   "cell_type": "code",
   "execution_count": 6,
   "metadata": {
    "colab": {
     "base_uri": "https://localhost:8080/"
    },
    "id": "5ZmtdGE2vreE",
    "outputId": "49e1a17d-ac39-43dd-d145-428eb2fe741d"
   },
   "outputs": [
    {
     "name": "stdout",
     "output_type": "stream",
     "text": [
      "(50000, 32, 32, 3)\n",
      "(50000, 1)\n"
     ]
    }
   ],
   "source": [
    "X_train = X_train/255.0\n",
    "X_test = X_test/255.0\n",
    "\n",
    "print(X_train.shape)\n",
    "print(Y_train.shape)"
   ]
  },
  {
   "cell_type": "markdown",
   "metadata": {
    "id": "kxA-XOJcvreE"
   },
   "source": [
    "```Draw a random picture using plt.imshow function.```"
   ]
  },
  {
   "cell_type": "code",
   "execution_count": 18,
   "metadata": {
    "colab": {
     "base_uri": "https://localhost:8080/",
     "height": 266
    },
    "id": "1X65fVCNvreE",
    "outputId": "f3558d79-433a-4d4f-ea30-06262e309f35"
   },
   "outputs": [
    {
     "data": {
      "image/png": "[encoded data removed]",
      "text/plain": [
       "<Figure size 432x288 with 1 Axes>"
      ]
     },
     "metadata": {
      "needs_background": "light",
      "tags": []
     },
     "output_type": "display_data"
    }
   ],
   "source": [
    "idx = np.random.randint(0, X_train.shape[0])\n",
    "\n",
    "plt.imshow(X_train[idx])\n",
    "plt.show()"
   ]
  },
  {
   "cell_type": "markdown",
   "metadata": {
    "id": "GWvlt34FvreE"
   },
   "source": [
    "```Create a fully connected neural network that predicts the right class. after compiling your neural network (model.compile) you can use model.summary to print the architecture of your network. Use it, and make sure you have less than 2,000,000 parameters. Use any activations you'ld like.\n",
    "Notice: Youl'd probably like to use the softmax activation on your last layer. Your network will have to get flattened vectors (or get matrices and flatten them on her own, using the Flatten layer) - what shape should your input have?\n",
    "Use the adam optimizer. What should be the loss in this classification problem?```"
   ]
  },
  {
   "cell_type": "code",
   "execution_count": null,
   "metadata": {
    "colab": {
     "base_uri": "https://localhost:8080/"
    },
    "id": "KCqh_W5_vreF",
    "outputId": "ed01e966-a82b-47f8-8e61-6d93877ae492"
   },
   "outputs": [
    {
     "name": "stdout",
     "output_type": "stream",
     "text": [
      "Model: \"sequential_5\"\n",
      "_________________________________________________________________\n",
      "Layer (type)                 Output Shape              Param #   \n",
      "=================================================================\n",
      "flatten_3 (Flatten)          (None, 3072)              0         \n",
      "_________________________________________________________________\n",
      "dense_17 (Dense)             (None, 500)               1536500   \n",
      "_________________________________________________________________\n",
      "dense_18 (Dense)             (None, 500)               250500    \n",
      "_________________________________________________________________\n",
      "dense_19 (Dense)             (None, 250)               125250    \n",
      "_________________________________________________________________\n",
      "dense_20 (Dense)             (None, 100)               25100     \n",
      "_________________________________________________________________\n",
      "dense_21 (Dense)             (None, 10)                1010      \n",
      "=================================================================\n",
      "Total params: 1,938,360\n",
      "Trainable params: 1,938,360\n",
      "Non-trainable params: 0\n",
      "_________________________________________________________________\n"
     ]
    }
   ],
   "source": [
    "model = Sequential()\n",
    "\n",
    "input_shape = X_train.shape[1:]\n",
    "\n",
    "model.add(Input((input_shape)))\n",
    "model.add(Flatten())\n",
    "\n",
    "model.add(Dense(500, activation='tanh'))\n",
    "model.add(Dense(500, activation='tanh'))\n",
    "model.add(Dense(250, activation='tanh'))\n",
    "model.add(Dense(100, activation='tanh'))\n",
    "\n",
    "model.add(Dense(10, activation='softmax'))\n",
    "model.compile(loss='categorical_crossentropy', optimizer='adam')\n",
    "model.summary()"
   ]
  },
  {
   "cell_type": "code",
   "execution_count": 10,
   "metadata": {
    "colab": {
     "base_uri": "https://localhost:8080/"
    },
    "id": "mck0eVHAxywe",
    "outputId": "32c7c5f1-2d78-4c6e-f8a9-42bda63349d5"
   },
   "outputs": [
    {
     "name": "stdout",
     "output_type": "stream",
     "text": [
      "(50000, 10)\n"
     ]
    }
   ],
   "source": [
    "Y_training = np.eye(10)[Y_train.reshape(-1)]\n",
    "print(Y_training.shape)"
   ]
  },
  {
   "cell_type": "markdown",
   "metadata": {
    "id": "4XqlVw5jvreF"
   },
   "source": [
    "```Train your network for 40 epochs (or 10 minutes, whichever comes faster) and get train accuracy of more than 0.6. What is the accuracy computed on the test? Would you say you are in overfit situation? explain your answer.```"
   ]
  },
  {
   "cell_type": "code",
   "execution_count": null,
   "metadata": {
    "colab": {
     "base_uri": "https://localhost:8080/"
    },
    "id": "F7SUATIuvreF",
    "outputId": "3d5ec493-3f24-4821-929b-4a4ceaf64923"
   },
   "outputs": [
    {
     "name": "stdout",
     "output_type": "stream",
     "text": [
      "Epoch 1/40\n",
      "100/100 - 9s - loss: 2.0754\n",
      "Epoch 2/40\n",
      "100/100 - 9s - loss: 1.8192\n",
      "Epoch 3/40\n",
      "100/100 - 9s - loss: 1.7314\n",
      "Epoch 4/40\n",
      "100/100 - 9s - loss: 1.6777\n",
      "Epoch 5/40\n",
      "100/100 - 8s - loss: 1.6320\n",
      "Epoch 6/40\n",
      "100/100 - 8s - loss: 1.6123\n",
      "Epoch 7/40\n",
      "100/100 - 8s - loss: 1.5548\n",
      "Epoch 8/40\n",
      "100/100 - 8s - loss: 1.5441\n",
      "Epoch 9/40\n",
      "100/100 - 8s - loss: 1.5112\n",
      "Epoch 10/40\n",
      "100/100 - 9s - loss: 1.4858\n",
      "Epoch 11/40\n",
      "100/100 - 9s - loss: 1.4614\n",
      "Epoch 12/40\n",
      "100/100 - 9s - loss: 1.4508\n",
      "Epoch 13/40\n",
      "100/100 - 9s - loss: 1.4192\n",
      "Epoch 14/40\n",
      "100/100 - 9s - loss: 1.4035\n",
      "Epoch 15/40\n",
      "100/100 - 9s - loss: 1.4001\n",
      "Epoch 16/40\n",
      "100/100 - 9s - loss: 1.3740\n",
      "Epoch 17/40\n",
      "100/100 - 9s - loss: 1.3640\n",
      "Epoch 18/40\n",
      "100/100 - 9s - loss: 1.3563\n",
      "Epoch 19/40\n",
      "100/100 - 9s - loss: 1.3351\n",
      "Epoch 20/40\n",
      "100/100 - 9s - loss: 1.3203\n",
      "Epoch 21/40\n",
      "100/100 - 12s - loss: 1.3223\n",
      "Epoch 22/40\n",
      "100/100 - 9s - loss: 1.2881\n",
      "Epoch 23/40\n",
      "100/100 - 9s - loss: 1.2741\n",
      "Epoch 24/40\n",
      "100/100 - 9s - loss: 1.2715\n",
      "Epoch 25/40\n",
      "100/100 - 9s - loss: 1.2627\n",
      "Epoch 26/40\n",
      "100/100 - 8s - loss: 1.2490\n",
      "Epoch 27/40\n",
      "100/100 - 9s - loss: 1.2384\n",
      "Epoch 28/40\n",
      "100/100 - 9s - loss: 1.2307\n",
      "Epoch 29/40\n",
      "100/100 - 9s - loss: 1.2226\n",
      "Epoch 30/40\n",
      "100/100 - 9s - loss: 1.1996\n",
      "Epoch 31/40\n",
      "100/100 - 9s - loss: 1.2018\n",
      "Epoch 32/40\n",
      "100/100 - 9s - loss: 1.1738\n",
      "Epoch 33/40\n",
      "100/100 - 9s - loss: 1.1846\n",
      "Epoch 34/40\n",
      "100/100 - 9s - loss: 1.1729\n",
      "Epoch 35/40\n",
      "100/100 - 9s - loss: 1.1505\n",
      "Epoch 36/40\n",
      "100/100 - 9s - loss: 1.1752\n",
      "Epoch 37/40\n",
      "100/100 - 9s - loss: 1.1354\n",
      "Epoch 38/40\n",
      "100/100 - 9s - loss: 1.1172\n",
      "Epoch 39/40\n",
      "100/100 - 9s - loss: 1.1117\n",
      "Epoch 40/40\n",
      "100/100 - 9s - loss: 1.0994\n"
     ]
    },
    {
     "data": {
      "text/plain": [
       "<tensorflow.python.keras.callbacks.History at 0x7fbcd7646550>"
      ]
     },
     "execution_count": 26,
     "metadata": {
      "tags": []
     },
     "output_type": "execute_result"
    }
   ],
   "source": [
    "model.fit(X_train, Y_training, batch_size=500, epochs=40, verbose=2)"
   ]
  },
  {
   "cell_type": "code",
   "execution_count": null,
   "metadata": {
    "colab": {
     "base_uri": "https://localhost:8080/"
    },
    "id": "aAgs2Vrc0PIu",
    "outputId": "f2495ceb-4185-491f-f154-f869a5797f82"
   },
   "outputs": [
    {
     "name": "stdout",
     "output_type": "stream",
     "text": [
      "train acc 0.61168\n",
      "test acc 0.5051\n"
     ]
    }
   ],
   "source": [
    "from sklearn.metrics import accuracy_score\n",
    "\n",
    "print(\"train acc\", accuracy_score(np.argmax(model.predict(X_train, batch_size=500), axis=-1), Y_train))\n",
    "print(\"test acc\", accuracy_score(np.argmax(model.predict(X_test, batch_size=500), axis=-1), Y_test))"
   ]
  },
  {
   "cell_type": "markdown",
   "metadata": {
    "id": "9RAMNCYKvreF"
   },
   "source": [
    "```We will now attack the same problem using a simple CNN. Build a CNN model as follows:```\n",
    "- ```Input layer```\n",
    "- ```Convolutional layer of 32 filters of size (3,3) with relu activation```\n",
    "- ```Convolutional layer of 32 filters of size (3,3) with relu activation```\n",
    "- ```Max pooling layer```\n",
    "- ```Dropout layer of p=0.25```\n",
    "- ```Convolutional layer of 64 filters of size (3,3) with relu activation```\n",
    "- ```Convolutional layer of 64 filters of size (3,3) with relu activation```\n",
    "- ```Max pooling layer```\n",
    "- ```Dropout layer of p=0.25```\n",
    "- ```Flattning layer (Flatten in keras)```\n",
    "- ```Fully connected layer of 200 hidden units```\n",
    "- ```Dropout layer of p=0.5```\n",
    "- ```Output layer```\n",
    "\n",
    "```Use the same loss as with the fully connected model and the same optimizer. How many weights are there in your network? Train it for 40 epochs. What train loss did you get? What test loss did you get? How is it similar to the fully connected case?```"
   ]
  },
  {
   "cell_type": "code",
   "execution_count": 7,
   "metadata": {
    "colab": {
     "base_uri": "https://localhost:8080/"
    },
    "id": "-9eJrrrfvreG",
    "outputId": "65fe7ec1-becc-4b3b-e0e1-05040a587216"
   },
   "outputs": [
    {
     "name": "stdout",
     "output_type": "stream",
     "text": [
      "Model: \"sequential\"\n",
      "_________________________________________________________________\n",
      "Layer (type)                 Output Shape              Param #   \n",
      "=================================================================\n",
      "conv2d (Conv2D)              (None, 30, 30, 32)        896       \n",
      "_________________________________________________________________\n",
      "conv2d_1 (Conv2D)            (None, 28, 28, 32)        9248      \n",
      "_________________________________________________________________\n",
      "max_pooling2d (MaxPooling2D) (None, 14, 14, 32)        0         \n",
      "_________________________________________________________________\n",
      "dropout (Dropout)            (None, 14, 14, 32)        0         \n",
      "_________________________________________________________________\n",
      "conv2d_2 (Conv2D)            (None, 12, 12, 64)        18496     \n",
      "_________________________________________________________________\n",
      "conv2d_3 (Conv2D)            (None, 10, 10, 64)        36928     \n",
      "_________________________________________________________________\n",
      "flatten (Flatten)            (None, 6400)              0         \n",
      "_________________________________________________________________\n",
      "dense (Dense)                (None, 200)               1280200   \n",
      "_________________________________________________________________\n",
      "dropout_1 (Dropout)          (None, 200)               0         \n",
      "_________________________________________________________________\n",
      "dense_1 (Dense)              (None, 10)                2010      \n",
      "=================================================================\n",
      "Total params: 1,347,778\n",
      "Trainable params: 1,347,778\n",
      "Non-trainable params: 0\n",
      "_________________________________________________________________\n"
     ]
    }
   ],
   "source": [
    "model = Sequential()\n",
    "\n",
    "input_shape = X_train.shape[1:]\n",
    "\n",
    "model.add(Input((input_shape)))\n",
    "model.add(Conv2D(32, (3,3), activation='relu'))\n",
    "model.add(Conv2D(32, (3,3), activation='relu'))\n",
    "model.add(MaxPool2D())\n",
    "model.add(Dropout(0.25))\n",
    "\n",
    "model.add(Conv2D(64, (3,3), activation='relu'))\n",
    "model.add(Conv2D(64, (3,3), activation='relu'))\n",
    "model.add(Flatten())\n",
    "\n",
    "model.add(Dense(200, activation='tanh'))\n",
    "model.add(Dropout(0.5))\n",
    "\n",
    "model.add(Dense(10, activation='softmax'))\n",
    "\n",
    "model.compile(loss='categorical_crossentropy', optimizer='adam')\n",
    "model.summary()"
   ]
  },
  {
   "cell_type": "code",
   "execution_count": 8,
   "metadata": {
    "colab": {
     "base_uri": "https://localhost:8080/"
    },
    "id": "0YgUya6EuMUZ",
    "outputId": "6ebfe18d-f383-4bae-e1c4-519b569bb212"
   },
   "outputs": [
    {
     "name": "stdout",
     "output_type": "stream",
     "text": [
      "[name: \"/device:CPU:0\"\n",
      "device_type: \"CPU\"\n",
      "memory_limit: 268435456\n",
      "locality {\n",
      "}\n",
      "incarnation: 8689924844148885400\n",
      ", name: \"/device:GPU:0\"\n",
      "device_type: \"GPU\"\n",
      "memory_limit: 15692777408\n",
      "locality {\n",
      "  bus_id: 1\n",
      "  links {\n",
      "  }\n",
      "}\n",
      "incarnation: 5762070220710346401\n",
      "physical_device_desc: \"device: 0, name: Tesla P100-PCIE-16GB, pci bus id: 0000:00:04.0, compute capability: 6.0\"\n",
      "]\n"
     ]
    }
   ],
   "source": [
    "import keras\n",
    "import tensorflow as tf\n",
    "\n",
    "# print(keras.__version__)\n",
    "# print(\"Num GPUs Available: \", len(tf.config.experimental.list_physical_devices('GPU')))\n",
    "\n",
    "from tensorflow.python.client import device_lib\n",
    "print(device_lib.list_local_devices())"
   ]
  },
  {
   "cell_type": "code",
   "execution_count": 11,
   "metadata": {
    "colab": {
     "base_uri": "https://localhost:8080/"
    },
    "id": "5KP_lSd52cs_",
    "outputId": "44533a0b-24e1-407f-977d-b19b9596da6a"
   },
   "outputs": [
    {
     "name": "stdout",
     "output_type": "stream",
     "text": [
      "Epoch 1/40\n",
      "100/100 - 8s - loss: 1.7480\n",
      "Epoch 2/40\n",
      "100/100 - 1s - loss: 1.3567\n",
      "Epoch 3/40\n",
      "100/100 - 1s - loss: 1.2019\n",
      "Epoch 4/40\n",
      "100/100 - 1s - loss: 1.0898\n",
      "Epoch 5/40\n",
      "100/100 - 1s - loss: 1.0133\n",
      "Epoch 6/40\n",
      "100/100 - 1s - loss: 0.9506\n",
      "Epoch 7/40\n",
      "100/100 - 1s - loss: 0.8965\n",
      "Epoch 8/40\n",
      "100/100 - 1s - loss: 0.8550\n",
      "Epoch 9/40\n",
      "100/100 - 1s - loss: 0.8237\n",
      "Epoch 10/40\n",
      "100/100 - 1s - loss: 0.7799\n",
      "Epoch 11/40\n",
      "100/100 - 1s - loss: 0.7481\n",
      "Epoch 12/40\n",
      "100/100 - 1s - loss: 0.7284\n",
      "Epoch 13/40\n",
      "100/100 - 1s - loss: 0.7042\n",
      "Epoch 14/40\n",
      "100/100 - 1s - loss: 0.6822\n",
      "Epoch 15/40\n",
      "100/100 - 1s - loss: 0.6573\n",
      "Epoch 16/40\n",
      "100/100 - 1s - loss: 0.6316\n",
      "Epoch 17/40\n",
      "100/100 - 1s - loss: 0.6192\n",
      "Epoch 18/40\n",
      "100/100 - 1s - loss: 0.6012\n",
      "Epoch 19/40\n",
      "100/100 - 1s - loss: 0.5772\n",
      "Epoch 20/40\n",
      "100/100 - 1s - loss: 0.5662\n",
      "Epoch 21/40\n",
      "100/100 - 1s - loss: 0.5472\n",
      "Epoch 22/40\n",
      "100/100 - 1s - loss: 0.5289\n",
      "Epoch 23/40\n",
      "100/100 - 1s - loss: 0.5176\n",
      "Epoch 24/40\n",
      "100/100 - 1s - loss: 0.5106\n",
      "Epoch 25/40\n",
      "100/100 - 1s - loss: 0.4890\n",
      "Epoch 26/40\n",
      "100/100 - 1s - loss: 0.4745\n",
      "Epoch 27/40\n",
      "100/100 - 1s - loss: 0.4678\n",
      "Epoch 28/40\n",
      "100/100 - 1s - loss: 0.4532\n",
      "Epoch 29/40\n",
      "100/100 - 1s - loss: 0.4338\n",
      "Epoch 30/40\n",
      "100/100 - 1s - loss: 0.4376\n",
      "Epoch 31/40\n",
      "100/100 - 1s - loss: 0.4207\n",
      "Epoch 32/40\n",
      "100/100 - 1s - loss: 0.4104\n",
      "Epoch 33/40\n",
      "100/100 - 1s - loss: 0.4029\n",
      "Epoch 34/40\n",
      "100/100 - 1s - loss: 0.3978\n",
      "Epoch 35/40\n",
      "100/100 - 1s - loss: 0.3887\n",
      "Epoch 36/40\n",
      "100/100 - 1s - loss: 0.3653\n",
      "Epoch 37/40\n",
      "100/100 - 1s - loss: 0.3640\n",
      "Epoch 38/40\n",
      "100/100 - 1s - loss: 0.3601\n",
      "Epoch 39/40\n",
      "100/100 - 1s - loss: 0.3511\n",
      "Epoch 40/40\n",
      "100/100 - 1s - loss: 0.3427\n"
     ]
    },
    {
     "data": {
      "text/plain": [
       "<tensorflow.python.keras.callbacks.History at 0x7f3d2002d550>"
      ]
     },
     "execution_count": 11,
     "metadata": {
      "tags": []
     },
     "output_type": "execute_result"
    }
   ],
   "source": [
    "model.fit(X_train, Y_training, batch_size=500, epochs=40, verbose=2)"
   ]
  },
  {
   "cell_type": "code",
   "execution_count": 13,
   "metadata": {
    "colab": {
     "base_uri": "https://localhost:8080/"
    },
    "id": "BjO5UYGU2hT_",
    "outputId": "6463aa3c-73de-4749-8ccd-0fc42194969f"
   },
   "outputs": [
    {
     "name": "stdout",
     "output_type": "stream",
     "text": [
      "train acc 0.94442\n",
      "test acc 0.7485\n"
     ]
    }
   ],
   "source": [
    "from sklearn.metrics import accuracy_score\n",
    "\n",
    "print(\"train acc\", accuracy_score(np.argmax(model.predict(X_train, batch_size=500), axis=-1), Y_train))\n",
    "print(\"test acc\", accuracy_score(np.argmax(model.predict(X_test, batch_size=500), axis=-1), Y_test))"
   ]
  },
  {
   "cell_type": "markdown",
   "metadata": {
    "id": "eLSl60fJvreG"
   },
   "source": [
    "```We will now experience with visualization and interpretation of the network. Given a single image, we would like to know what parts of the image contribute most to the prediction of the network. In order to do, each time we will black out part of the image, to get all the possible images with blacked out part:```\n",
    "\n",
    "![title](resources/image_for_notebook.png)\n",
    "\n",
    "```In total you will have, for a 32x32 image, 1,024 blacked images. Write a function that, given an image (32x32x3 matrix) and a parameter``` $a$ ```, creates a new tensor (of shape 1024x32x32x3) so that tensor[num] is the original image with a blacked out square of edge size``` $a$ ```, concentrated around the (num//32,num%32)-pixel. We will call the output tensor the \"variation tensor\".```"
   ]
  },
  {
   "cell_type": "code",
   "execution_count": 14,
   "metadata": {
    "id": "MEC3s_LRvreG"
   },
   "outputs": [],
   "source": [
    "def create_blacked_image(image, edge_size):\n",
    "  res = np.empty(shape=(1024, 32, 32, 3))\n",
    "  for i in range(1024):\n",
    "    res[i,:,:,:] = image\n",
    "    x_begin = int(max(((i//32)-(edge_size/2)), 0))\n",
    "    y_begin = int(max(((i%32)-(edge_size/2)), 0))\n",
    "\n",
    "    x_end = int((i//32)+(edge_size/2))\n",
    "    y_end = int((i%32)+(edge_size/2))\n",
    "\n",
    "    res[i, x_begin: x_end, y_begin: y_end, :] = 0\n",
    "  return res"
   ]
  },
  {
   "cell_type": "markdown",
   "metadata": {
    "id": "6FnkTMqyvreG"
   },
   "source": [
    "```Use``` $a=4$ ```and choose a random image from the test segment that got labeled correctly using your model. Create, using the function you recently wrote, the variation tensor. Create the model's predictions for every blacked image in the tensor (using model.predict(tensor)).\n",
    "You will get a matrix of shape 1024x10. Take only the column that matches the image's label, so you get a 1024-dimensions vector. Reshape it to be a 32x32 image. Now every pixel tells the probability of the model to label the image correctly, while there is a blacked out square concentrated around that pixel. Show the original image and the image you got. Normalize the scale of the image you got to the range [0,1] using plt.imshow(..., vmin=0, vmax=1).\n",
    "Take your time to examine the procedure you just created on different images.```"
   ]
  },
  {
   "cell_type": "code",
   "execution_count": 27,
   "metadata": {
    "colab": {
     "base_uri": "https://localhost:8080/",
     "height": 486
    },
    "id": "tK-k7tDvvreG",
    "outputId": "5ad51af4-cc56-4b6d-dd9d-ac892a75a8c4"
   },
   "outputs": [
    {
     "data": {
      "image/png": "[encoded data removed]",
      "text/plain": [
       "<Figure size 576x576 with 20 Axes>"
      ]
     },
     "metadata": {
      "needs_background": "light",
      "tags": []
     },
     "output_type": "display_data"
    }
   ],
   "source": [
    "# y_predict = np.argmax(model.predict(X_test, batch_size=500), axis=-1)\n",
    "idx_chosen_img = 1\n",
    "\n",
    "image_chosen = X_test[idx_chosen_img]\n",
    "blacked_image = create_blacked_image(image_chosen, edge_size=4)\n",
    "\n",
    "fig, ax = plt.subplots(5,4, figsize=(8,8))\n",
    "for i in range(5):\n",
    "  for j in range(4):\n",
    "    ax[i][j].imshow(blacked_image[1004 + (i*4) + j])\n",
    "plt.show()"
   ]
  },
  {
   "cell_type": "code",
   "execution_count": 35,
   "metadata": {
    "colab": {
     "base_uri": "https://localhost:8080/",
     "height": 252
    },
    "id": "XiESb5Ipw6vT",
    "outputId": "eae6cf58-a99b-4a97-af90-67da1e0dd872"
   },
   "outputs": [
    {
     "data": {
      "image/png": "[encoded data removed]",
      "text/plain": [
       "<Figure size 576x576 with 2 Axes>"
      ]
     },
     "metadata": {
      "needs_background": "light",
      "tags": []
     },
     "output_type": "display_data"
    }
   ],
   "source": [
    "y_blacked_image = model.predict(blacked_image, batch_size=500)\n",
    "y_blacked_image = y_blacked_image[:, Y_test[idx_chosen_img]]\n",
    "y_blacked_image_reshaped = y_blacked_image.reshape(32, 32)\n",
    "\n",
    "fig, ax = plt.subplots(1,2, figsize=(8,8))\n",
    "ax[0].imshow(image_chosen)\n",
    "ax[1].imshow(y_blacked_image_reshaped, vmin=0, vmax=1)\n",
    "plt.show()"
   ]
  },
  {
   "cell_type": "markdown",
   "metadata": {
    "id": "u_NRB-XUvreH"
   },
   "source": [
    "```You can get a concept of \"network focus\" using the visualization you created.\n",
    "Given the heatmap you created, find the 80 pixels with smallest values. That means, the pixels that, when removing a square around them, we get the maximum damage to the network prediction. Mark these pixels in the original image (actually, in a copy of the original image - you don't want to destroy your data) by adding 0.5 to the red component of the rgb.\n",
    "Show the original image, the heatmap image and the marked image.```"
   ]
  },
  {
   "cell_type": "code",
   "execution_count": 56,
   "metadata": {
    "colab": {
     "base_uri": "https://localhost:8080/",
     "height": 283
    },
    "id": "VklT99yOvreH",
    "outputId": "8c89d313-a305-4291-f5aa-50eafe4f3a7a"
   },
   "outputs": [
    {
     "name": "stderr",
     "output_type": "stream",
     "text": [
      "Clipping input data to the valid range for imshow with RGB data ([0..1] for floats or [0..255] for integers).\n"
     ]
    },
    {
     "data": {
      "image/png": "[encoded data removed]",
      "text/plain": [
       "<Figure size 432x288 with 1 Axes>"
      ]
     },
     "metadata": {
      "needs_background": "light",
      "tags": []
     },
     "output_type": "display_data"
    }
   ],
   "source": [
    "copy_image = X_test[idx_chosen_img]\n",
    "\n",
    "red_copy = copy_image[:,:,0]\n",
    "red_copy = red_copy.flatten()\n",
    "\n",
    "indices = np.argpartition(y_blacked_image.flatten(), 80)[0:80]\n",
    "red_copy[indices] += 0.5\n",
    "\n",
    "copy_image[:,:,0] = red_copy.reshape(32, 32)\n",
    "\n",
    "plt.imshow(copy_image)\n",
    "plt.show()"
   ]
  },
  {
   "cell_type": "markdown",
   "metadata": {
    "id": "WZ02r1qFvreH"
   },
   "source": [
    "### Transfer learning"
   ]
  },
  {
   "cell_type": "markdown",
   "metadata": {
    "id": "9-BL7gIwvreH"
   },
   "source": [
    "```We've talked in class about transfer learning. Here you will experience with a simple task of transfer learning. We will take a VGGFace model, trained to predict faces among 2,622 classes, and use it to discriminate between the faces of following celebrities: Alicia Vikander, Amy Adams and Andy Serkis. We will do it by cutting out the last layers and replacing them with layers of our own.```"
   ]
  },
  {
   "cell_type": "code",
   "execution_count": 58,
   "metadata": {
    "colab": {
     "base_uri": "https://localhost:8080/"
    },
    "id": "0o6dxwI56IFY",
    "outputId": "7764aac2-9aa7-4b86-fca7-dff9bc816980"
   },
   "outputs": [
    {
     "name": "stdout",
     "output_type": "stream",
     "text": [
      "Collecting keras_vggface\n",
      "  Downloading https://files.pythonhosted.org/packages/2f/7d/5f0319ebdc09ac1a2272364fa9583f5067b6f8aff93fbbf8835d81cbaad7/keras_vggface-0.6-py3-none-any.whl\n",
      "Requirement already satisfied: keras in /usr/local/lib/python3.6/dist-packages (from keras_vggface) (2.4.3)\n",
      "Requirement already satisfied: pyyaml in /usr/local/lib/python3.6/dist-packages (from keras_vggface) (3.13)\n",
      "Requirement already satisfied: numpy>=1.9.1 in /usr/local/lib/python3.6/dist-packages (from keras_vggface) (1.19.5)\n",
      "Requirement already satisfied: scipy>=0.14 in /usr/local/lib/python3.6/dist-packages (from keras_vggface) (1.4.1)\n",
      "Requirement already satisfied: h5py in /usr/local/lib/python3.6/dist-packages (from keras_vggface) (2.10.0)\n",
      "Requirement already satisfied: pillow in /usr/local/lib/python3.6/dist-packages (from keras_vggface) (7.0.0)\n",
      "Requirement already satisfied: six>=1.9.0 in /usr/local/lib/python3.6/dist-packages (from keras_vggface) (1.15.0)\n",
      "Installing collected packages: keras-vggface\n",
      "Successfully installed keras-vggface-0.6\n"
     ]
    }
   ],
   "source": [
    "!pip install keras_vggface"
   ]
  },
  {
   "cell_type": "code",
   "execution_count": 60,
   "metadata": {
    "colab": {
     "base_uri": "https://localhost:8080/"
    },
    "id": "tNZDZLrb6N83",
    "outputId": "da5361a7-519c-4c70-a542-baf60c37fb24"
   },
   "outputs": [
    {
     "name": "stdout",
     "output_type": "stream",
     "text": [
      "Collecting keras_applications\n",
      "\u001b[?25l  Downloading https://files.pythonhosted.org/packages/71/e3/19762fdfc62877ae9102edf6342d71b28fbfd9dea3d2f96a882ce099b03f/Keras_Applications-1.0.8-py3-none-any.whl (50kB)\n",
      "\r",
      "\u001b[K     |██████▌                         | 10kB 26.7MB/s eta 0:00:01\r",
      "\u001b[K     |█████████████                   | 20kB 15.1MB/s eta 0:00:01\r",
      "\u001b[K     |███████████████████▍            | 30kB 13.1MB/s eta 0:00:01\r",
      "\u001b[K     |█████████████████████████▉      | 40kB 11.9MB/s eta 0:00:01\r",
      "\u001b[K     |████████████████████████████████| 51kB 4.4MB/s \n",
      "\u001b[?25hRequirement already satisfied: numpy>=1.9.1 in /usr/local/lib/python3.6/dist-packages (from keras_applications) (1.19.5)\n",
      "Requirement already satisfied: h5py in /usr/local/lib/python3.6/dist-packages (from keras_applications) (2.10.0)\n",
      "Requirement already satisfied: six in /usr/local/lib/python3.6/dist-packages (from h5py->keras_applications) (1.15.0)\n",
      "Installing collected packages: keras-applications\n",
      "Successfully installed keras-applications-1.0.8\n"
     ]
    }
   ],
   "source": [
    "!pip install keras_applications"
   ]
  },
  {
   "cell_type": "code",
   "execution_count": 9,
   "metadata": {
    "id": "qhMQdCPVvreH",
    "scrolled": true
   },
   "outputs": [
    {
     "ename": "ImportError",
     "evalue": "cannot import name 'imagenet_utils' from 'keras.applications.imagenet_utils' (C:\\Users\\RONENAH\\Anaconda3\\envs\\formation_env\\lib\\site-packages\\keras\\applications\\imagenet_utils.py)",
     "output_type": "error",
     "traceback": [
      "\u001b[1;31m---------------------------------------------------------------------------\u001b[0m",
      "\u001b[1;31mImportError\u001b[0m                               Traceback (most recent call last)",
      "\u001b[1;32m<ipython-input-9-b9378ec42164>\u001b[0m in \u001b[0;36m<module>\u001b[1;34m\u001b[0m\n\u001b[0;32m      1\u001b[0m \u001b[1;31m# from keras_vggface import VGGFace, utils # an extra directory supplied with the exercise (https://drive.google.com/open?id=1ax6V-FVfXKci3ZdybWHK8AK11A2yjH5m)\u001b[0m\u001b[1;33m\u001b[0m\u001b[1;33m\u001b[0m\u001b[1;33m\u001b[0m\u001b[0m\n\u001b[0;32m      2\u001b[0m \u001b[1;33m\u001b[0m\u001b[0m\n\u001b[1;32m----> 3\u001b[1;33m \u001b[1;32mfrom\u001b[0m \u001b[0mkeras_vggface\u001b[0m\u001b[1;33m.\u001b[0m\u001b[0mvggface\u001b[0m \u001b[1;32mimport\u001b[0m \u001b[0mVGGFace\u001b[0m\u001b[1;33m\u001b[0m\u001b[1;33m\u001b[0m\u001b[0m\n\u001b[0m\u001b[0;32m      4\u001b[0m \u001b[1;32mfrom\u001b[0m \u001b[0msklearn\u001b[0m\u001b[1;33m.\u001b[0m\u001b[0mmodel_selection\u001b[0m \u001b[1;32mimport\u001b[0m \u001b[0mtrain_test_split\u001b[0m\u001b[1;33m\u001b[0m\u001b[1;33m\u001b[0m\u001b[0m\n\u001b[0;32m      5\u001b[0m \u001b[1;33m\u001b[0m\u001b[0m\n",
      "\u001b[1;32m~\\Documents\\GitHub\\Course_Maphat\\DS_intro\\7. רשתות נוירונים - מתקדם\\תרגיל - תרגיל CNN מטכנוצ\\keras_vggface\\__init__.py\u001b[0m in \u001b[0;36m<module>\u001b[1;34m\u001b[0m\n\u001b[1;32m----> 1\u001b[1;33m \u001b[1;32mfrom\u001b[0m \u001b[0mkeras_vggface\u001b[0m\u001b[1;33m.\u001b[0m\u001b[0mvggface\u001b[0m \u001b[1;32mimport\u001b[0m \u001b[0mVGGFace\u001b[0m\u001b[1;33m\u001b[0m\u001b[1;33m\u001b[0m\u001b[0m\n\u001b[0m\u001b[0;32m      2\u001b[0m \u001b[1;32mfrom\u001b[0m \u001b[0mkeras_vggface\u001b[0m\u001b[1;33m.\u001b[0m\u001b[0mversion\u001b[0m \u001b[1;32mimport\u001b[0m \u001b[0m__version__\u001b[0m\u001b[1;33m\u001b[0m\u001b[1;33m\u001b[0m\u001b[0m\n",
      "\u001b[1;32m~\\Documents\\GitHub\\Course_Maphat\\DS_intro\\7. רשתות נוירונים - מתקדם\\תרגיל - תרגיל CNN מטכנוצ\\keras_vggface\\vggface.py\u001b[0m in \u001b[0;36m<module>\u001b[1;34m\u001b[0m\n\u001b[0;32m      7\u001b[0m '''\n\u001b[0;32m      8\u001b[0m \u001b[1;32mfrom\u001b[0m \u001b[0m__future__\u001b[0m \u001b[1;32mimport\u001b[0m \u001b[0mprint_function\u001b[0m\u001b[1;33m\u001b[0m\u001b[1;33m\u001b[0m\u001b[0m\n\u001b[1;32m----> 9\u001b[1;33m \u001b[1;32mfrom\u001b[0m \u001b[0mkeras_vggface\u001b[0m\u001b[1;33m.\u001b[0m\u001b[0mmodels\u001b[0m \u001b[1;32mimport\u001b[0m \u001b[0mRESNET50\u001b[0m\u001b[1;33m,\u001b[0m \u001b[0mVGG16\u001b[0m\u001b[1;33m,\u001b[0m \u001b[0mSENET50\u001b[0m\u001b[1;33m\u001b[0m\u001b[1;33m\u001b[0m\u001b[0m\n\u001b[0m\u001b[0;32m     10\u001b[0m \u001b[1;33m\u001b[0m\u001b[0m\n\u001b[0;32m     11\u001b[0m \u001b[1;33m\u001b[0m\u001b[0m\n",
      "\u001b[1;32m~\\Documents\\GitHub\\Course_Maphat\\DS_intro\\7. רשתות נוירונים - מתקדם\\תרגיל - תרגיל CNN מטכנוצ\\keras_vggface\\models.py\u001b[0m in \u001b[0;36m<module>\u001b[1;34m\u001b[0m\n\u001b[0;32m     13\u001b[0m     \u001b[0mGlobalMaxPooling2D\u001b[0m\u001b[1;33m,\u001b[0m \u001b[0mActivation\u001b[0m\u001b[1;33m,\u001b[0m \u001b[0mConv2D\u001b[0m\u001b[1;33m,\u001b[0m \u001b[0mMaxPooling2D\u001b[0m\u001b[1;33m,\u001b[0m \u001b[0mBatchNormalization\u001b[0m\u001b[1;33m,\u001b[0m\u001b[0;31m \u001b[0m\u001b[0;31m\\\u001b[0m\u001b[1;33m\u001b[0m\u001b[1;33m\u001b[0m\u001b[0m\n\u001b[0;32m     14\u001b[0m     \u001b[0mAveragePooling2D\u001b[0m\u001b[1;33m,\u001b[0m \u001b[0mReshape\u001b[0m\u001b[1;33m,\u001b[0m \u001b[0mPermute\u001b[0m\u001b[1;33m,\u001b[0m \u001b[0mmultiply\u001b[0m\u001b[1;33m\u001b[0m\u001b[1;33m\u001b[0m\u001b[0m\n\u001b[1;32m---> 15\u001b[1;33m \u001b[1;32mfrom\u001b[0m \u001b[0mkeras\u001b[0m\u001b[1;33m.\u001b[0m\u001b[0mapplications\u001b[0m\u001b[1;33m.\u001b[0m\u001b[0mimagenet_utils\u001b[0m \u001b[1;32mimport\u001b[0m \u001b[0mimagenet_utils\u001b[0m\u001b[1;33m\u001b[0m\u001b[1;33m\u001b[0m\u001b[0m\n\u001b[0m\u001b[0;32m     16\u001b[0m \u001b[0m_obtain_input_shape\u001b[0m \u001b[1;33m=\u001b[0m \u001b[0mimagenet_utils\u001b[0m\u001b[1;33m.\u001b[0m\u001b[0m_obtain_input_shape\u001b[0m\u001b[1;33m\u001b[0m\u001b[1;33m\u001b[0m\u001b[0m\n\u001b[0;32m     17\u001b[0m \u001b[1;32mfrom\u001b[0m \u001b[0mkeras\u001b[0m\u001b[1;33m.\u001b[0m\u001b[0mutils\u001b[0m \u001b[1;32mimport\u001b[0m \u001b[0mlayer_utils\u001b[0m\u001b[1;33m\u001b[0m\u001b[1;33m\u001b[0m\u001b[0m\n",
      "\u001b[1;31mImportError\u001b[0m: cannot import name 'imagenet_utils' from 'keras.applications.imagenet_utils' (C:\\Users\\RONENAH\\Anaconda3\\envs\\formation_env\\lib\\site-packages\\keras\\applications\\imagenet_utils.py)"
     ]
    }
   ],
   "source": [
    "# from keras_vggface import VGGFace, utils # an extra directory supplied with the exercise (https://drive.google.com/open?id=1ax6V-FVfXKci3ZdybWHK8AK11A2yjH5m)\n",
    "\n",
    "from keras_vggface.vggface import VGGFace\n",
    "from sklearn.model_selection import train_test_split\n",
    "\n",
    "#This next import will help you with augmentation - generating augmented photos from your originals.\n",
    "#Read about this general teqnique, and also about ImageDataGenerator\n",
    "from keras.preprocessing.image import ImageDataGenerator\n",
    "from keras.layers import Flatten, Dense\n",
    "from keras.models import Model"
   ]
  },
  {
   "cell_type": "markdown",
   "metadata": {
    "id": "6VcucWbAvreI"
   },
   "source": [
    "```Start by loading the data in images.pkl and in images_labels.pkl. Show an image of Alicia, Amy and Andy, and make sure you can tell the difference ;)```\n",
    "\n",
    "(can be found in: https://drive.google.com/open?id=1go4U-nI4H5kBz6hstI4_PYtzS35jHEDM)"
   ]
  },
  {
   "cell_type": "code",
   "execution_count": 67,
   "metadata": {
    "colab": {
     "base_uri": "https://localhost:8080/"
    },
    "id": "OShq2SJuvreI",
    "outputId": "3e11de72-9032-4fcf-883c-0039542f9e8c"
   },
   "outputs": [
    {
     "name": "stdout",
     "output_type": "stream",
     "text": [
      "[]\n"
     ]
    }
   ],
   "source": [
    "with open('images.pkl', 'rb') as f:\n",
    "    X = pickle.load(f)\n",
    "with open('images_labels.pkl', 'rb') as f:\n",
    "    Y = pickle.load(f)\n",
    "\n",
    "fig, ax = plt.subplots(1,3)\n",
    "ax[0].imshow(X[6])\n",
    "ax[1].imshow(X[3])\n",
    "ax[2].imshow(X[0])\n",
    "plt.show()"
   ]
  },
  {
   "cell_type": "markdown",
   "metadata": {
    "id": "tUTJUD3UvreJ"
   },
   "source": [
    "```In transfer learning we take a trained model, cut off its end and replace it with some layers of our own. Hence we will have to preprocess our data the same way it was preprocessed when training VGGFace. Use the following line to do so:```\n",
    "```python\n",
    "X_processed = utils.preprocess_input(X.copy().astype(float), version=1)\n",
    "```\n",
    "```Transform the values of Y to be [1 0] or [0 1]. Split your data to 80% train data and 20% test data.```"
   ]
  },
  {
   "cell_type": "code",
   "execution_count": null,
   "metadata": {
    "id": "Jo6UQfjQvreJ"
   },
   "outputs": [],
   "source": []
  },
  {
   "cell_type": "markdown",
   "metadata": {
    "id": "jvvkhJ8IvreJ"
   },
   "source": [
    "```Let's look at the VGGFace model we are about to use. Load it:```"
   ]
  },
  {
   "cell_type": "code",
   "execution_count": null,
   "metadata": {
    "id": "RNGBq7N2vreJ"
   },
   "outputs": [],
   "source": [
    "vgg_model = VGGFace()"
   ]
  },
  {
   "cell_type": "markdown",
   "metadata": {
    "id": "FSIA2hlovreJ"
   },
   "source": [
    "```The model is fitted to predict the name of the celebrity in the pictures it gets. Read the example picture given to you in face_example.pkl. Show it. Transform it into a tensor of shape (1, 224, 224, 3) and use utils.preprocess_input as seen before to get it ready to enter to your network. Use```\n",
    "```python\n",
    "utils.decode_predictions(model.predict(x))\n",
    "```\n",
    "```To get 5 most probable classes. Who is the man in the picture?```"
   ]
  },
  {
   "cell_type": "code",
   "execution_count": null,
   "metadata": {
    "id": "MkLJESL1vreK"
   },
   "outputs": [],
   "source": []
  },
  {
   "cell_type": "markdown",
   "metadata": {
    "id": "YjHA2H_YvreK"
   },
   "source": [
    "```Let's return to our dataset. As you could impress, it's a pretty small one. Hence we can try to make it bigger using augmentations of the data. We will do it here using a mechanism supplied by keras. Create an instance of keras.preprocessing.image.ImageDataGenerator, which will define how you will create augmentations of each original image you've created. Choose all the parameters on your own (consider, for example, rotation_range, zoom_range, width_shift_range, horizontal_flip and so on).```"
   ]
  },
  {
   "cell_type": "code",
   "execution_count": null,
   "metadata": {
    "id": "vWAAttxjvreK"
   },
   "outputs": [],
   "source": []
  },
  {
   "cell_type": "markdown",
   "metadata": {
    "id": "4mbbhIP3vreK"
   },
   "source": [
    "```Follow the following instructions:```\n",
    "- ```Examine the architecture of the VGGFace model using .summary(). Understand what it means to replace the last 2 dense layers (including the final softmax layer). How many weights are there in the model?```\n",
    "- ```Use .get_layer() to retrieve the last layer which you want to keep in your new network```\n",
    "- ```Create 2 new Dense layers which continue the previous pretrained layers (the last layer should have a softmax activation, for the first one try tanh)```\n",
    "- ```Create a new model with the input of the original model as input (vgg_model.input), and which outputs the new dense-softmax layer```\n",
    "- ```Freeze all of the layers except the last 2 using .layers on the new model, and .trainable = False. This will stop you from training those layers```\n",
    "- ```Compile the model with sgd optimizer and with metric=['accuracy'] (what does it do?)```"
   ]
  },
  {
   "cell_type": "code",
   "execution_count": null,
   "metadata": {
    "id": "yoatosvrvreK"
   },
   "outputs": [],
   "source": []
  },
  {
   "cell_type": "markdown",
   "metadata": {
    "id": "UNPC3v1OvreL"
   },
   "source": [
    "```Now you're ready to train the model:```\n",
    "- ```Use .fit_generator() and not .fit(), since you'll be using the augmentor you created```\n",
    "- ```Use .flow() on the instance of ImageDataGenerator as the first input```\n",
    "- ```Choose a combination of batch_size(within .flow) and steps_per_epoch which will create a total number of images that you want per each epoch. You will have to use small batches (~20) so you won't get memory error```\n",
    "- ```Use the test segment to validate your results - you can compute your score on the validation if you add validation_data=(X_test, Y_test) in your .fit_generator function```\n",
    "\n",
    "```Could you transfer the VGGFace model to your new task?```"
   ]
  },
  {
   "cell_type": "code",
   "execution_count": null,
   "metadata": {
    "id": "FxBUKpCxvreL"
   },
   "outputs": [],
   "source": []
  }
 ],
 "metadata": {
  "accelerator": "GPU",
  "colab": {
   "collapsed_sections": [],
   "name": "CNNs and some more.ipynb",
   "provenance": []
  },
  "kernelspec": {
   "display_name": "Python 3",
   "language": "python",
   "name": "python3"
  },
  "language_info": {
   "codemirror_mode": {
    "name": "ipython",
    "version": 3
   },
   "file_extension": ".py",
   "mimetype": "text/x-python",
   "name": "python",
   "nbconvert_exporter": "python",
   "pygments_lexer": "ipython3",
   "version": "3.8.5"
  }
 },
 "nbformat": 4,
 "nbformat_minor": 1
}
