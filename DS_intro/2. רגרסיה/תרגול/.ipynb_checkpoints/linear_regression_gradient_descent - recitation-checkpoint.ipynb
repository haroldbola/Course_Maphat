{
 "cells": [
  {
   "cell_type": "markdown",
   "metadata": {
    "colab_type": "text",
    "id": "DGus9VbgHz9U"
   },
   "source": [
    "# Linear Regression - recitation"
   ]
  },
  {
   "cell_type": "markdown",
   "metadata": {},
   "source": [
    "``\n",
    "In this short excersice, you will experience with implementing linear regression for 2D points.\n",
    "It may give you a deeper understanding about the limits this model has, and how it works.\n",
    "``"
   ]
  },
  {
   "cell_type": "markdown",
   "metadata": {
    "colab_type": "text",
    "id": "x7lMVE9uIXHt"
   },
   "source": [
    "## Imports"
   ]
  },
  {
   "cell_type": "code",
   "execution_count": 1,
   "metadata": {
    "colab": {},
    "colab_type": "code",
    "id": "_OJ1P6ppH9Qm"
   },
   "outputs": [],
   "source": [
    "from sklearn.datasets import make_regression\n",
    "from matplotlib import pyplot as plt\n",
    "import numpy as np"
   ]
  },
  {
   "cell_type": "markdown",
   "metadata": {
    "colab_type": "text",
    "id": "-LBL2DD2ITs6"
   },
   "source": [
    "## Generate Data"
   ]
  },
  {
   "cell_type": "code",
   "execution_count": 3,
   "metadata": {
    "colab": {},
    "colab_type": "code",
    "id": "Z6yyIYJ-ILoe"
   },
   "outputs": [
    {
     "name": "stdout",
     "output_type": "stream",
     "text": [
      "X (100, 1)\n",
      "y (100, 1)\n"
     ]
    }
   ],
   "source": [
    "NOISE = 15\n",
    "NUM_SAMPLES = 100\n",
    "\n",
    "X, y = make_regression(n_samples=NUM_SAMPLES, n_features=1, noise=NOISE)\n",
    "y = np.resize(y,(NUM_SAMPLES,1))\n",
    "X.transpose();\n",
    "\n",
    "print(\"X\", X.shape)\n",
    "print(\"y\", y.shape)"
   ]
  },
  {
   "cell_type": "markdown",
   "metadata": {
    "colab_type": "text",
    "id": "2E0iEW1kJS6R"
   },
   "source": [
    "## Plot Data"
   ]
  },
  {
   "cell_type": "code",
   "execution_count": 4,
   "metadata": {
    "colab": {
     "base_uri": "https://localhost:8080/",
     "height": 365
    },
    "colab_type": "code",
    "id": "4Y1xHBhpJaLd",
    "outputId": "09d6ed83-345a-4722-c047-abdb3122d446"
   },
   "outputs": [
    {
     "data": {
      "text/plain": [
       "<matplotlib.collections.PathCollection at 0x2ba15f18240>"
      ]
     },
     "execution_count": 4,
     "metadata": {},
     "output_type": "execute_result"
    },
    {
     "data": {
      "image/png": "[encoded data removed]",
      "text/plain": [
       "<Figure size 432x288 with 1 Axes>"
      ]
     },
     "metadata": {
      "needs_background": "light"
     },
     "output_type": "display_data"
    }
   ],
   "source": [
    "plt.scatter(X, y)"
   ]
  },
  {
   "cell_type": "markdown",
   "metadata": {
    "colab_type": "text",
    "id": "GzOKaKxeIWtg"
   },
   "source": [
    "## Implement Linear Regression"
   ]
  },
  {
   "cell_type": "markdown",
   "metadata": {},
   "source": [
    "```\n",
    "If you remember, the simple Linear Regression in 2D defined as follows:\n",
    "\n",
    "Two arrays: X = {x_1, x_2, ..., x_n}, Y = {y_1, y_2, ..., y_n}\n",
    "The goal is to find values b,m such that the cost function:\n",
    "```\n",
    "\n",
    "$$Loss(b,m) = \\frac{1}{n}\\overset{n}{\\underset{i=1}{\\sum}} (m x_i + b - y_i)^2$$\n",
    "\n",
    "```\n",
    "is minimal.\n",
    "The way to do it is by derivating Loss(b,m):\n",
    "```\n",
    "$$\\frac{dL(b,m)}{db} = \\frac{1}{n}\\overset{n}{\\underset{i=1}{\\sum}} 2(m x_i + b - y_i), \\hspace{1cm} \\frac{dL(b,m)}{dm} = \\frac{1}{n}\\overset{n}{\\underset{i=1}{\\sum}} 2x_i(m x_i + b - y_i)$$\n",
    "\n",
    "```\n",
    "And do gradient steps with it:\n",
    "```\n",
    "\n",
    "$$b_{j+1} = b_{j} - \\alpha \\frac{dL(b_j,m_j)}{db}, \\hspace{1cm} m_{j+1} = m_{j} - \\alpha \\frac{dL(b_j,m_j)}{dm}$$\n",
    "\n",
    "($\\alpha$ = learning rate)"
   ]
  },
  {
   "cell_type": "code",
   "execution_count": 7,
   "metadata": {
    "colab": {},
    "colab_type": "code",
    "id": "zrrv8qfDIJ86"
   },
   "outputs": [],
   "source": [
    "def linear_regression(X, y, m_current=0, b_current=0, epochs=10000, learning_rate=0.0001):\n",
    "    N = float(len(y)) # Number of examples\n",
    "    \n",
    "    m_list = [m_current]\n",
    "    b_list = [b_current]\n",
    "    \n",
    "    # Perform Gradient (GD)\n",
    "    for i in range(epochs):\n",
    "        # Evaluate current model\n",
    "        y_current = b_current + m_current*X\n",
    "        \n",
    "        sub = np.array(y - y_current)\n",
    "        sub_square = sub ** 2\n",
    "        cost = (1/N) * np.sum(sub_square)\n",
    "        \n",
    "        # Calculate Gradient\n",
    "        m_gradient = -(2/N) * np.sum(X*sub)\n",
    "        b_gradient = -(2/N) * np.sum(sub)\n",
    "        \n",
    "        # Make one GD step\n",
    "        m_current = m_current - (learning_rate*m_gradient)\n",
    "        b_current = b_current - (learning_rate*b_gradient)\n",
    "         \n",
    "        m_list.append(m_current)\n",
    "        b_list.append(b_current)\n",
    "          \n",
    "    return m_current, b_current, cost, m_list, b_list"
   ]
  },
  {
   "cell_type": "markdown",
   "metadata": {
    "colab_type": "text",
    "id": "QtZYP22XJrgN"
   },
   "source": [
    "## Do Regression"
   ]
  },
  {
   "cell_type": "code",
   "execution_count": 8,
   "metadata": {
    "colab": {},
    "colab_type": "code",
    "id": "2b8JA5THJq8a"
   },
   "outputs": [],
   "source": [
    "m, b, cost, m_list, b_list = linear_regression(X, y, # The examples\n",
    "                                               m_current=10, b_current=-10, # The starting point for m and b\n",
    "                                               learning_rate=0.3, # The learning rate, will be discussed later\n",
    "                                               epochs=50 # Number of GD steps\n",
    "                                              )"
   ]
  },
  {
   "cell_type": "markdown",
   "metadata": {
    "colab_type": "text",
    "id": "78igeRAzKHM9"
   },
   "source": [
    "## Plot data and learned model line"
   ]
  },
  {
   "cell_type": "code",
   "execution_count": 9,
   "metadata": {
    "colab": {
     "base_uri": "https://localhost:8080/",
     "height": 365
    },
    "colab_type": "code",
    "id": "BfFOH7lZKLVw",
    "outputId": "9ca2383f-c401-4db9-bd50-e8328be8b3dc"
   },
   "outputs": [
    {
     "data": {
      "text/plain": [
       "[<matplotlib.lines.Line2D at 0x2ba15fe39b0>]"
      ]
     },
     "execution_count": 9,
     "metadata": {},
     "output_type": "execute_result"
    },
    {
     "data": {
      "image/png": "[encoded data removed]",
      "text/plain": [
       "<Figure size 432x288 with 1 Axes>"
      ]
     },
     "metadata": {
      "needs_background": "light"
     },
     "output_type": "display_data"
    }
   ],
   "source": [
    "# Plot data\n",
    "plt.scatter(X, y)\n",
    "\n",
    "# Plot model line\n",
    "x1 = -3\n",
    "x2 = 3\n",
    "y1 = m * x1 + b\n",
    "y2 = m * x2 + b\n",
    "\n",
    "plt.plot([x1, x2 ], [y1, y2], 'r-')"
   ]
  },
  {
   "cell_type": "markdown",
   "metadata": {
    "colab_type": "text",
    "id": "oXpvDElSLnjr"
   },
   "source": [
    "# Visualizing Gradient Descent and learning rate"
   ]
  },
  {
   "cell_type": "markdown",
   "metadata": {},
   "source": [
    "``Now lets see how the gradient descent process works in our linear regression function``"
   ]
  },
  {
   "cell_type": "markdown",
   "metadata": {
    "colab_type": "text",
    "id": "yRL_oroXWyjU"
   },
   "source": [
    "## Create a function to calculate the cost for each value of m and b"
   ]
  },
  {
   "cell_type": "code",
   "execution_count": 16,
   "metadata": {
    "colab": {},
    "colab_type": "code",
    "id": "es37APRwLvU_"
   },
   "outputs": [],
   "source": [
    "def calc_cost(X, Y, m, b):\n",
    "    \"\"\"\n",
    "    X: array\n",
    "    Y: array\n",
    "    \"\"\"\n",
    "    \n",
    "    N = len(y)\n",
    "    y_current = b + (m*X)\n",
    "    sub = np.array(y - y_current)\n",
    "    sub_square = sub ** 2\n",
    "    cost = (1/N) * np.sum(sub_square)\n",
    "    \n",
    "    return cost\n",
    "\n",
    "calc_cost_v = np.vectorize(lambda m, b: calc_cost(X, y, m, b))"
   ]
  },
  {
   "cell_type": "markdown",
   "metadata": {
    "colab_type": "text",
    "id": "_WI3QIpZW8lz"
   },
   "source": [
    "## Do regression with different learning rates"
   ]
  },
  {
   "cell_type": "code",
   "execution_count": 17,
   "metadata": {
    "colab": {},
    "colab_type": "code",
    "id": "pboTPN-7Ut82"
   },
   "outputs": [],
   "source": [
    "learning_rates = [0.0001, 0.001, 0.01, 0.1, 0.5, 0.94]\n",
    "n_lr = len(learning_rates)\n",
    "ms, bs, costs, m_lists, b_lists = [None] * n_lr, [None] * n_lr, [None] * n_lr, [None] * n_lr, [None] * n_lr\n",
    "\n",
    "for i, lr in enumerate(learning_rates):\n",
    "    ms[i], bs[i], costs[i], m_lists[i], b_lists[i] = linear_regression(X, y, m_current=10, b_current=-10, learning_rate=lr, epochs=50)"
   ]
  },
  {
   "cell_type": "markdown",
   "metadata": {
    "colab_type": "text",
    "id": "Nd6bEQkiXVMj"
   },
   "source": [
    "## Plot the loss and the learning curve"
   ]
  },
  {
   "cell_type": "markdown",
   "metadata": {},
   "source": [
    "``In this part we will draw the movement of m and b regarding the different learning rates.\n",
    "This can give us a notion about how the choice of lr impact the convergence of the algorithm.``"
   ]
  },
  {
   "cell_type": "code",
   "execution_count": 18,
   "metadata": {
    "colab": {
     "base_uri": "https://localhost:8080/",
     "height": 317
    },
    "colab_type": "code",
    "id": "rQ6z2TO5Mfdv",
    "outputId": "07a17e89-516c-4dd3-d096-a10c09e3dfcd"
   },
   "outputs": [
    {
     "data": {
      "image/png": "[encoded data removed]",
      "text/plain": [
       "<Figure size 432x288 with 6 Axes>"
      ]
     },
     "metadata": {
      "needs_background": "light"
     },
     "output_type": "display_data"
    }
   ],
   "source": [
    "# Determine range for plotting\n",
    "x_start, x_end, y_start, y_end = m-70, m+70, b-70, b+70\n",
    "m_range = np.linspace(x_start, x_end, 100)\n",
    "b_range = np.linspace(y_start, y_end, 100)\n",
    "\n",
    "# Calculate loss function\n",
    "mm, bb = np.meshgrid(m_range, b_range)\n",
    "loss_surface = calc_cost_v(mm, bb)\n",
    "\n",
    "# Plot learning curves\n",
    "f, axarr = plt.subplots(2, 3)\n",
    "for i in range(n_lr):\n",
    "    axarr[i//3,i%3].set_title('LR={}'.format(learning_rates[i]))\n",
    "    axarr[i//3,i%3].imshow(loss_surface, cmap='hot', interpolation='nearest', extent=[int(x_start), int(x_end), int(y_start), int(y_end)])\n",
    "    axarr[i//3,i%3].plot(m_lists[i] ,b_lists[i], 'w-o')"
   ]
  },
  {
   "cell_type": "markdown",
   "metadata": {},
   "source": [
    "### Bonus* - Polynomial regression"
   ]
  },
  {
   "cell_type": "code",
   "execution_count": 29,
   "metadata": {},
   "outputs": [],
   "source": [
    "Y_poly = 3*X**2 - 2*X + 15"
   ]
  },
  {
   "cell_type": "code",
   "execution_count": 30,
   "metadata": {},
   "outputs": [
    {
     "data": {
      "text/plain": [
       "<matplotlib.collections.PathCollection at 0x2ba17273780>"
      ]
     },
     "execution_count": 30,
     "metadata": {},
     "output_type": "execute_result"
    },
    {
     "data": {
      "image/png": "[encoded data removed]",
      "text/plain": [
       "<Figure size 432x288 with 1 Axes>"
      ]
     },
     "metadata": {
      "needs_background": "light"
     },
     "output_type": "display_data"
    }
   ],
   "source": [
    "plt.scatter(X, Y_poly)"
   ]
  },
  {
   "cell_type": "markdown",
   "metadata": {},
   "source": [
    "```\n",
    "Try to modify the function \"linear_regression\" so now it will return parameters a,b,c such that minimize the cost:\n",
    "```\n",
    "$$Loss(b,m) = \\frac{1}{n}\\overset{n}{\\underset{i=1}{\\sum}} (a x_i^2 + bx_i + c - y^{(poly)}_i)^2$$\n"
   ]
  },
  {
   "cell_type": "code",
   "execution_count": 45,
   "metadata": {},
   "outputs": [
    {
     "data": {
      "text/plain": [
       "[<matplotlib.lines.Line2D at 0x2ba18a1d358>]"
      ]
     },
     "execution_count": 45,
     "metadata": {},
     "output_type": "execute_result"
    },
    {
     "data": {
      "image/png": "[encoded data removed]",
      "text/plain": [
       "<Figure size 432x288 with 1 Axes>"
      ]
     },
     "metadata": {
      "needs_background": "light"
     },
     "output_type": "display_data"
    }
   ],
   "source": [
    "def linear_regression(X, y, a=0, b=0, c=0, epochs=10000, learning_rate=0.0001):\n",
    "    N = float(len(y)) # Number of examples\n",
    "    \n",
    "    a_list = [a]\n",
    "    b_list = [b]\n",
    "    c_list = [c]\n",
    "    \n",
    "    # Perform Gradient (GD)\n",
    "    for i in range(epochs):\n",
    "        # Evaluate current model\n",
    "        y_current = c + b*X + a*(X**2)\n",
    "        \n",
    "        sub = np.array(y - y_current)\n",
    "        sub_square = sub ** 2\n",
    "        cost = (1/N) * np.sum(sub_square)\n",
    "                \n",
    "        # Calculate Gradient\n",
    "        a_gradient = -(2/N) * np.sum((X**2)*sub)\n",
    "        b_gradient = -(2/N) * np.sum(X*sub)\n",
    "        c_gradient = -(2/N) * np.sum(sub)\n",
    "        \n",
    "        a_gradient = -(2 / N) * sum((X**2) * (y - y_current)) # Derivative with respect to a\n",
    "        b_gradient = -(2 / N) * sum(X * (y - y_current)) # Derivative with respect to b\n",
    "        c_gradient = -(2 / N) * sum(y - y_current) # Derivative with respect to c\n",
    "        \n",
    "        # Make one GD step\n",
    "        a = a - (learning_rate * a_gradient) # Update a\n",
    "        b = b - (learning_rate * b_gradient) # Update b\n",
    "        c = c - (learning_rate * c_gradient) # Update c\n",
    "         \n",
    "        a_list.append(a)\n",
    "        b_list.append(b)\n",
    "        c_list.append(c)\n",
    "          \n",
    "    return a, b, c, cost, a_list, b_list, c_list\n",
    "\n",
    "a, b, c, cost, a_list, b_list, c_list = linear_regression(X, Y_poly, # The examples\n",
    "                                            a=10, b=-10, c=10, # The starting point for a, b and c\n",
    "                                               learning_rate=0.03, # The learning rate, will be discussed later\n",
    "                                               epochs=500 # Number of GD steps\n",
    "                                              )\n",
    "\n",
    "# print(\"a\", a, \"b\", b, \"c\", c)\n",
    "\n",
    "plt.scatter(X, Y_poly)\n",
    "\n",
    "x_line = np.linspace(np.min(X), np.max(X), 500)\n",
    "y_line = (a) * x_line**2 + (b) * x_line + (c)\n",
    "\n",
    "plt.plot(x_line, y_line, 'r-')\n",
    "\n",
    "# Test for values of A\n",
    "# plt.figure()\n",
    "# plt.plot(np.arange(len(a_list)), a_list)\n",
    "# plt.show()"
   ]
  },
  {
   "cell_type": "code",
   "execution_count": null,
   "metadata": {},
   "outputs": [],
   "source": []
  }
 ],
 "metadata": {
  "colab": {
   "collapsed_sections": [],
   "name": "linear_regression_gradient_descent.ipynb",
   "provenance": []
  },
  "kernelspec": {
   "display_name": "Python 3",
   "language": "python",
   "name": "python3"
  },
  "language_info": {
   "codemirror_mode": {
    "name": "ipython",
    "version": 3
   },
   "file_extension": ".py",
   "mimetype": "text/x-python",
   "name": "python",
   "nbconvert_exporter": "python",
   "pygments_lexer": "ipython3",
   "version": "3.7.3rc1"
  }
 },
 "nbformat": 4,
 "nbformat_minor": 4
}
