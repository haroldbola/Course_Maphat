{
 "cells": [
  {
   "cell_type": "markdown",
   "metadata": {},
   "source": [
    "# Regression - Excercise"
   ]
  },
  {
   "cell_type": "markdown",
   "metadata": {},
   "source": [
    "```In this exercise you will experience with simple features of the linear and logistic regressions, and will get to know some interesting features of those regressions.```\n",
    "\n",
    "~```Ittai Haran```"
   ]
  },
  {
   "cell_type": "code",
   "execution_count": 62,
   "metadata": {},
   "outputs": [],
   "source": [
    "import numpy as np\n",
    "import pandas as pd\n",
    "import matplotlib.pyplot as plt\n",
    "import sklearn"
   ]
  },
  {
   "cell_type": "markdown",
   "metadata": {},
   "source": [
    "## Coefficients and some more"
   ]
  },
  {
   "cell_type": "markdown",
   "metadata": {},
   "source": [
    "```We will start by exploring several concepts regarding linear and logistic regression. To that matter, we will prefer working using a generated dataset. Start by generating (using numpy and np.random) the following dataset:```\n",
    "\n",
    "$X \\sim \\cal N(0,1)^3$ ```(i.e X consists of 3-dimensional vectors)```\n",
    "\n",
    "$Y = 0.3\\cdot X[:,0] + 0.5\\cdot X[:,1] - 0.7\\cdot X[:,2] + 1$\n",
    "\n",
    "```Generate 1,000 samples.```"
   ]
  },
  {
   "cell_type": "code",
   "execution_count": 63,
   "metadata": {},
   "outputs": [],
   "source": [
    "X = np.random.normal(0,1,size=(1000,3))\n",
    "\n",
    "Y = 0.3*X[:,0] + 0.5*X[:,1] - 0.7*X[:,2] + 1"
   ]
  },
  {
   "cell_type": "markdown",
   "metadata": {},
   "source": [
    "```Train a simple linear regression (sklearn.linear_model.LinearRegression) on the data. What coefficients did you get using your regression? Did you expect those coefficients?```"
   ]
  },
  {
   "cell_type": "code",
   "execution_count": 64,
   "metadata": {},
   "outputs": [
    {
     "name": "stdout",
     "output_type": "stream",
     "text": [
      "coeff [ 0.3  0.5 -0.7] intercept 1.0\n",
      "1.0\n"
     ]
    }
   ],
   "source": [
    "from sklearn.linear_model import LinearRegression\n",
    "\n",
    "def linear_reg(X,Y):\n",
    "    mdl = LinearRegression()\n",
    "    mdl.fit(X, Y)\n",
    "    print(\"coeff\", mdl.coef_, \"intercept\", mdl.intercept_)\n",
    "    print(mdl.score(X, Y))\n",
    "\n",
    "linear_reg(X,Y)\n",
    "# We expect those coefficients, those are the coefficicients for the original formula"
   ]
  },
  {
   "cell_type": "markdown",
   "metadata": {},
   "source": [
    "```We will now conduct a similar experiment, only this time using logistic regression, with minor adjustments:```\n",
    "\n",
    "$X \\sim \\cal N(0,1)^3$ ```(i.e X consists of 3-dimensional vectors)```\n",
    "\n",
    "$Y = (0.3\\cdot X[:,0] + 0.5\\cdot X[:,1] - 0.7\\cdot X[:,2] \\geq 1)$\n",
    "\n",
    "```Generate 1,000 samples.```"
   ]
  },
  {
   "cell_type": "code",
   "execution_count": 65,
   "metadata": {},
   "outputs": [],
   "source": [
    "X = np.random.normal(0,1,size=(1000,3))\n",
    "Y = (0.3*X[:,0] + 0.5*X[:,1] - 0.7*X[:,2]) >= 1"
   ]
  },
  {
   "cell_type": "markdown",
   "metadata": {},
   "source": [
    "```Train a simple logistic regression (sklearn.linear_model.LogisticRegression) on the data. What coefficients did you get using your logistic regression? Did you expect those coefficients? Why, or why not?```"
   ]
  },
  {
   "cell_type": "code",
   "execution_count": 66,
   "metadata": {},
   "outputs": [
    {
     "name": "stdout",
     "output_type": "stream",
     "text": [
      "coeff [[ 2.18393026  3.68026436 -5.32078109]] intercept [-7.85150792]\n",
      "0.992\n"
     ]
    },
    {
     "data": {
      "text/plain": [
       "LogisticRegression()"
      ]
     },
     "execution_count": 66,
     "metadata": {},
     "output_type": "execute_result"
    }
   ],
   "source": [
    "from sklearn.linear_model import LogisticRegression\n",
    "\n",
    "\n",
    "def logistic_reg(X,Y):\n",
    "    mdl = LogisticRegression()\n",
    "    mdl.fit(X, Y)\n",
    "    print(\"coeff\", mdl.coef_, \"intercept\", mdl.intercept_)\n",
    "    print(mdl.score(X, Y))\n",
    "    \n",
    "    return mdl\n",
    "    \n",
    "logistic_reg(X,Y)"
   ]
  },
  {
   "cell_type": "markdown",
   "metadata": {},
   "source": [
    "```Repeat this experiment, this time with 10,000 samples and 100,000 samples. Did you get different coefficients? Why or why not?```"
   ]
  },
  {
   "cell_type": "code",
   "execution_count": 67,
   "metadata": {},
   "outputs": [
    {
     "name": "stdout",
     "output_type": "stream",
     "text": [
      "coeff [[  4.98725773   8.39021475 -11.87414978]] intercept [-17.01351959]\n",
      "0.9982\n",
      "coeff [[ 10.87331643  18.13789145 -25.3837384 ]] intercept [-36.31162917]\n",
      "0.99973\n"
     ]
    },
    {
     "data": {
      "text/plain": [
       "<matplotlib.collections.PathCollection at 0x27de8c68bb0>"
      ]
     },
     "execution_count": 67,
     "metadata": {},
     "output_type": "execute_result"
    },
    {
     "data": {
      "image/png": "[encoded data removed]",
      "text/plain": [
       "<Figure size 432x288 with 1 Axes>"
      ]
     },
     "metadata": {
      "needs_background": "light"
     },
     "output_type": "display_data"
    }
   ],
   "source": [
    "def second_experiment(n_samples):\n",
    "    X = np.random.normal(0,1,size=(n_samples,3))\n",
    "    Y = (0.3*X[:,0] + 0.5*X[:,1] - 0.7*X[:,2]) >= 1\n",
    "    \n",
    "    return logistic_reg(X,Y)\n",
    "\n",
    "mdl_1 = second_experiment(10000)\n",
    "mdl_2 = second_experiment(100000)\n",
    "\n",
    "X = np.random.normal(0,1,size=(1000,3))\n",
    "Y = (0.3*X[:,0] + 0.5*X[:,1] - 0.7*X[:,2]) >= 1\n",
    "\n",
    "plt.scatter(Y, mdl_1.predict(X))\n",
    "plt.scatter(Y, mdl_2.predict(X))"
   ]
  },
  {
   "cell_type": "markdown",
   "metadata": {},
   "source": [
    "## Non-linear linear regressions"
   ]
  },
  {
   "cell_type": "markdown",
   "metadata": {},
   "source": [
    "```Load the data in func_1_train.csv.\n",
    "Can be found in: https://drive.google.com/open?id=1y3HtVk0N1q4xYn_qczDcdkZfGpy23z9l```"
   ]
  },
  {
   "cell_type": "code",
   "execution_count": 68,
   "metadata": {},
   "outputs": [],
   "source": [
    "df = pd.read_csv('resources/func_1_train.csv')"
   ]
  },
  {
   "cell_type": "markdown",
   "metadata": {},
   "source": [
    "```Draw a scatter plot of y as a function of x. What kind of functions would you like to fit here?```"
   ]
  },
  {
   "cell_type": "code",
   "execution_count": 69,
   "metadata": {},
   "outputs": [
    {
     "data": {
      "image/png": "[encoded data removed]",
      "text/plain": [
       "<Figure size 432x288 with 1 Axes>"
      ]
     },
     "metadata": {
      "needs_background": "light"
     },
     "output_type": "display_data"
    }
   ],
   "source": [
    "plt.scatter(df[\"x\"], df[\"y\"])\n",
    "plt.show()\n",
    "\n",
    "# Hyperbolic function"
   ]
  },
  {
   "cell_type": "markdown",
   "metadata": {},
   "source": [
    "```Try fitting a linear regression. Draw the data points and the function you fitted on the same plot.```"
   ]
  },
  {
   "cell_type": "code",
   "execution_count": 70,
   "metadata": {},
   "outputs": [
    {
     "data": {
      "image/png": "[encoded data removed]",
      "text/plain": [
       "<Figure size 432x288 with 1 Axes>"
      ]
     },
     "metadata": {
      "needs_background": "light"
     },
     "output_type": "display_data"
    }
   ],
   "source": [
    "mdl = LinearRegression()\n",
    "x_reshaped = df[\"x\"].to_numpy().reshape(-1, 1)\n",
    "mdl.fit(x_reshaped, df[\"y\"])\n",
    "\n",
    "plt.scatter(df['x'], df['y'])\n",
    "plt.scatter(df['x'], mdl.predict(x_reshaped))\n",
    "plt.show()"
   ]
  },
  {
   "cell_type": "markdown",
   "metadata": {},
   "source": [
    "```Let's do some feature extraction. Create a dataset with the features (X, X**2, X**3, ..., X**49). Now try fitting a linear regression using your new dataset. Draw your results on the same graph as before. Judge your results using func_1_test and using the mean squared error metric.```\n",
    "\n",
    "```Can be found in: https://drive.google.com/open?id=1ipm09QTjVZWFgh-zc70rxWLGPWYEt1Kb```"
   ]
  },
  {
   "cell_type": "markdown",
   "metadata": {},
   "source": [
    "```How come you could a model that isn't under fitted? You did still use a linear regression. Can you explain those results? However, your model seemed to be over fitted (why?). Why is that?```"
   ]
  },
  {
   "cell_type": "code",
   "execution_count": 71,
   "metadata": {},
   "outputs": [
    {
     "data": {
      "image/png": "[encoded data removed]",
      "text/plain": [
       "<Figure size 432x288 with 1 Axes>"
      ]
     },
     "metadata": {
      "needs_background": "light"
     },
     "output_type": "display_data"
    },
    {
     "name": "stdout",
     "output_type": "stream",
     "text": [
      "train MSE 0.0008293514345477682\n",
      "test MSE 0.0031958784492352064\n"
     ]
    }
   ],
   "source": [
    "X = df['x']\n",
    "\n",
    "dataset = np.zeros(shape=(X.shape[0], 50))\n",
    "dataset[:, 0] = X\n",
    "\n",
    "for i in range(2, 50):\n",
    "    dataset[:, i] = X ** i\n",
    "    \n",
    "mdl = LinearRegression()\n",
    "mdl.fit(dataset, df['y'])\n",
    "\n",
    "plt.scatter(X, df['y'])\n",
    "plt.scatter(X, mdl.predict(dataset))\n",
    "plt.show()\n",
    "\n",
    "from sklearn.metrics import mean_squared_error\n",
    "df_func_1_test = pd.read_csv('resources/func_1_test.csv')\n",
    "\n",
    "test_set = np.zeros(shape=(X.shape[0], 50))\n",
    "test_set[:, 0] = df_func_1_test['x']\n",
    "\n",
    "for i in range(2, 50):\n",
    "    test_set[:, i] = df_func_1_test['x'] ** i\n",
    "\n",
    "print(\"train MSE\", mean_squared_error(df['y'], mdl.predict(dataset)))\n",
    "print(\"test MSE\", mean_squared_error(df_func_1_test['y'], mdl.predict(test_set)))\n",
    "\n",
    "\n",
    "# The model is indeed over-fitted. \n",
    "# We can see that the regression function has too much variations, it is sensible to the noise.\n",
    "# Furthermore, there is a big difference betweence the train loss and the test loss\n",
    "\n",
    "# The model is over-fitter because the features extracted are dependant, and we didnt use regularization"
   ]
  },
  {
   "cell_type": "markdown",
   "metadata": {},
   "source": [
    "```You can try using a regularized regression to avoid over fitting. Use sklearn.linear_model.Ridge with different alphas until you get nice fit (judge it using your plots and using func_1_test and the mean squared error metric). Could you get better results?```"
   ]
  },
  {
   "cell_type": "code",
   "execution_count": 72,
   "metadata": {},
   "outputs": [
    {
     "data": {
      "image/png": "[encoded data removed]",
      "text/plain": [
       "<Figure size 432x288 with 1 Axes>"
      ]
     },
     "metadata": {
      "needs_background": "light"
     },
     "output_type": "display_data"
    },
    {
     "name": "stdout",
     "output_type": "stream",
     "text": [
      "train MSE 0.0010002363876606116\n",
      "test MSE 0.0009639268229301272\n"
     ]
    }
   ],
   "source": [
    "from sklearn.linear_model import Ridge\n",
    "\n",
    "mdl_ridge = Ridge(alpha=0.05, fit_intercept=True)\n",
    "mdl_ridge.fit(dataset, df['y'])\n",
    "\n",
    "plt.scatter(X, df['y'])\n",
    "plt.scatter(X, mdl_ridge.predict(dataset))\n",
    "plt.show()\n",
    "\n",
    "print(\"train MSE\", mean_squared_error(df['y'], mdl_ridge.predict(dataset)))\n",
    "print(\"test MSE\", mean_squared_error(df_func_1_test['y'], mdl_ridge.predict(test_set)))\n",
    "\n",
    "# No overfitting :)"
   ]
  },
  {
   "cell_type": "markdown",
   "metadata": {},
   "source": [
    "## Working on a real life data"
   ]
  },
  {
   "cell_type": "markdown",
   "metadata": {},
   "source": [
    "```Start by loading house_data.csv. For our current purposes we will need only the numeric columns. Take only the numeric columns, using pandas.DataFrame.dtypes. Use fillna(0) to get rid of nans (the the column Id. can tell why?).```\n",
    "\n",
    "```Can be found in: https://drive.google.com/open?id=1ID2h8mzjXLRbay5pE0QN1v5-jc86203L```"
   ]
  },
  {
   "cell_type": "code",
   "execution_count": 73,
   "metadata": {},
   "outputs": [
    {
     "name": "stdout",
     "output_type": "stream",
     "text": [
      "Index(['Id', 'MSSubClass', 'MSZoning', 'LotFrontage', 'LotArea', 'Street',\n",
      "       'Alley', 'LotShape', 'LandContour', 'Utilities', 'LotConfig',\n",
      "       'LandSlope', 'Neighborhood', 'Condition1', 'Condition2', 'BldgType',\n",
      "       'HouseStyle', 'OverallQual', 'OverallCond', 'YearBuilt', 'YearRemodAdd',\n",
      "       'RoofStyle', 'RoofMatl', 'Exterior1st', 'Exterior2nd', 'MasVnrType',\n",
      "       'MasVnrArea', 'ExterQual', 'ExterCond', 'Foundation', 'BsmtQual',\n",
      "       'BsmtCond', 'BsmtExposure', 'BsmtFinType1', 'BsmtFinSF1',\n",
      "       'BsmtFinType2', 'BsmtFinSF2', 'BsmtUnfSF', 'TotalBsmtSF', 'Heating',\n",
      "       'HeatingQC', 'CentralAir', 'Electrical', '1stFlrSF', '2ndFlrSF',\n",
      "       'LowQualFinSF', 'GrLivArea', 'BsmtFullBath', 'BsmtHalfBath', 'FullBath',\n",
      "       'HalfBath', 'BedroomAbvGr', 'KitchenAbvGr', 'KitchenQual',\n",
      "       'TotRmsAbvGrd', 'Functional', 'Fireplaces', 'FireplaceQu', 'GarageType',\n",
      "       'GarageYrBlt', 'GarageFinish', 'GarageCars', 'GarageArea', 'GarageQual',\n",
      "       'GarageCond', 'PavedDrive', 'WoodDeckSF', 'OpenPorchSF',\n",
      "       'EnclosedPorch', '3SsnPorch', 'ScreenPorch', 'PoolArea', 'PoolQC',\n",
      "       'Fence', 'MiscFeature', 'MiscVal', 'MoSold', 'YrSold', 'SaleType',\n",
      "       'SaleCondition', 'SalePrice'],\n",
      "      dtype='object')\n"
     ]
    },
    {
     "data": {
      "text/plain": [
       "0     Y\n",
       "29    N\n",
       "Name: CentralAir, dtype: object"
      ]
     },
     "execution_count": 73,
     "metadata": {},
     "output_type": "execute_result"
    }
   ],
   "source": [
    "df = pd.read_csv('resources\\house_data.csv')\n",
    "\n",
    "print(df.columns)\n",
    "df['CentralAir'].drop_duplicates()"
   ]
  },
  {
   "cell_type": "code",
   "execution_count": 74,
   "metadata": {},
   "outputs": [],
   "source": [
    "for col in df.columns:\n",
    "    if (df[col].dtype != \"int64\") and (df[col].dtype != \"float64\"):\n",
    "        df = df.drop(col, axis=1)\n",
    "\n",
    "df = df.fillna(0)"
   ]
  },
  {
   "cell_type": "markdown",
   "metadata": {},
   "source": [
    "```We would like to predict the SalePrice columns. Create, using your data, the features dataset and the target dataset. Use sklearn.model_selection.train_test_split and create a train segment of 0.7 of your data and test segment of 0.3 of your data.```"
   ]
  },
  {
   "cell_type": "code",
   "execution_count": 75,
   "metadata": {},
   "outputs": [],
   "source": [
    "from sklearn.model_selection import train_test_split\n",
    "\n",
    "X = df.drop('SalePrice', axis=1).to_numpy()\n",
    "Y = df['SalePrice'].to_numpy()"
   ]
  },
  {
   "cell_type": "markdown",
   "metadata": {},
   "source": [
    "```Try fitting the best linear regression you can (evaluate yourself using mean squared error). You can also use ridge regression with different alphas.```"
   ]
  },
  {
   "cell_type": "code",
   "execution_count": 76,
   "metadata": {},
   "outputs": [
    {
     "name": "stdout",
     "output_type": "stream",
     "text": [
      "Number of features =  37\n",
      "smaller MSE obtained is  1953980745.822968\n",
      "best alpha is 0\n"
     ]
    }
   ],
   "source": [
    "def make_classification(X, Y):\n",
    "    X_train, X_test, Y_train, Y_test = train_test_split(X, Y, train_size=0.7)\n",
    "    linear_mdl = LinearRegression()\n",
    "    linear_mdl.fit(X_train, Y_train)\n",
    "\n",
    "    best_mse = mean_squared_error(Y_test, linear_mdl.predict(X_test))\n",
    "    best_alpha = 0\n",
    "    \n",
    "    for i in np.logspace(0.0001, 200, 200):\n",
    "        mdl_ridge = Ridge(alpha=i, fit_intercept=True)\n",
    "        mdl_ridge.fit(X_train, Y_train)\n",
    "    \n",
    "        mse_ridge = mean_squared_error(Y_test, mdl_ridge.predict(X_test))\n",
    "        if mse_ridge < best_mse:\n",
    "            best_alpha = i\n",
    "            best_mse = mse_ridge\n",
    "            \n",
    "    print(\"Number of features = \", X.shape[1])\n",
    "    print(\"smaller MSE obtained is \", best_mse)\n",
    "    print(\"best alpha is\", best_alpha)\n",
    "    \n",
    "make_classification(X, Y)"
   ]
  },
  {
   "cell_type": "markdown",
   "metadata": {},
   "source": [
    "```If you would look closely, you will find out that you dropped the columns LotShape and LandContour. This time try not dropping them, and instead replace them with a 1-hot encoding of them (consider``` [pandas.get_dummies](https://pandas.pydata.org/pandas-docs/stable/reference/api/pandas.get_dummies.html))```.\n",
    "Try getting better results on the test segment using your ridge regressions. compare the new results with the old ones.```"
   ]
  },
  {
   "cell_type": "code",
   "execution_count": 77,
   "metadata": {},
   "outputs": [
    {
     "name": "stdout",
     "output_type": "stream",
     "text": [
      "Number of features =  43\n",
      "smaller MSE obtained is  2042419567.1396043\n",
      "best alpha is 0\n"
     ]
    }
   ],
   "source": [
    "df = pd.read_csv('resources\\house_data.csv')\n",
    "\n",
    "LotShape = pd.get_dummies(df[\"LotShape\"],prefix=\"LotShape\", drop_first=True).to_numpy()\n",
    "LandContour = pd.get_dummies(df[\"LandContour\"],prefix=\"LandContour\", drop_first=True).to_numpy()\n",
    "\n",
    "X_ShapeContour = np.concatenate((X, LotShape, LandContour), axis=1)\n",
    "\n",
    "make_classification(X_ShapeContour, Y)"
   ]
  },
  {
   "cell_type": "markdown",
   "metadata": {},
   "source": [
    "```Now add more features to your dataframe:```\n",
    "- ```LotArea in squared meters ( it's currently in units of squared feet)```\n",
    "- ```1stFlrSF + 2ndFlrSF```\n",
    "- ```GarageArea**0.5```\n",
    "- ```LotArea / (BedroomAbvGr+1)```\n",
    "- ```LotArea / (mean LotArea for houses built in that same year + 1e-5) - you might want to use``` [pandas merge function](https://www.google.com/search?q=pandas+merge&oq=pandas+merge&aqs=chrome..69i57l2j69i59l3j69i60.2080j0j9&sourceid=chrome&ie=UTF-8)\n",
    "- ```Ranking of LotArea (largest house has 1, the second largest has 2 and so on)```\n",
    "- ```One hot encoding of LotConfig```\n",
    "\n",
    "```Are they improve the results?.```"
   ]
  },
  {
   "cell_type": "code",
   "execution_count": 81,
   "metadata": {},
   "outputs": [
    {
     "name": "stdout",
     "output_type": "stream",
     "text": [
      "Number of features =  51\n",
      "smaller MSE obtained is  1966848381.7659993\n",
      "best alpha is 0\n"
     ]
    }
   ],
   "source": [
    "X_added = np.zeros(shape=(X.shape[0], 8))\n",
    "\n",
    "X_added[:, 0] = (df['1stFlrSF'] + df['2ndFlrSF']).to_numpy()\n",
    "X_added[:, 1] = df['GarageArea'].to_numpy() ** 0.5\n",
    "X_added[:, 2] = (df['LotArea'] / (df['BedroomAbvGr']+1).to_numpy())\n",
    "X_added[:, 3:7] = pd.get_dummies(df[\"LotConfig\"],prefix=\"LotConfig\", drop_first=True).to_numpy()\n",
    "X_added[:, 7] = df['LotArea'].rank().to_numpy()\n",
    "\n",
    "X_ShapeContour_8added = np.concatenate((X_ShapeContour, X_added), axis=1)\n",
    "make_classification(X_ShapeContour_8added, Y)"
   ]
  },
  {
   "cell_type": "markdown",
   "metadata": {},
   "source": [
    "## Bonus"
   ]
  },
  {
   "cell_type": "markdown",
   "metadata": {},
   "source": [
    "```Think of a feature of your own that improve the result.```"
   ]
  },
  {
   "cell_type": "code",
   "execution_count": 83,
   "metadata": {},
   "outputs": [
    {
     "name": "stdout",
     "output_type": "stream",
     "text": [
      "Number of features =  60\n",
      "smaller MSE obtained is  1366692530.7412763\n",
      "best alpha is 0\n"
     ]
    }
   ],
   "source": [
    "X_added = np.zeros(shape=(X.shape[0], 9))\n",
    "\n",
    "X_added[:, 0:5] = pd.get_dummies(df[\"SaleCondition\"],prefix=\"SaleCondition\", drop_first=True).to_numpy()\n",
    "X_added[:, 5:7] = pd.get_dummies(df[\"CentralAir\"],prefix=\"CentralAir\", drop_first=True).to_numpy()\n",
    "X_added[:, 7] = df['YearBuilt'].to_numpy()\n",
    "X_added[:, 8] = df['GrLivArea'].to_numpy()\n",
    "\n",
    "\n",
    "X_ShapeContour_8added_Bonus = np.concatenate((X_ShapeContour_8added, X_added), axis=1)\n",
    "make_classification(X_ShapeContour_8added_Bonus, Y)"
   ]
  },
  {
   "cell_type": "markdown",
   "metadata": {},
   "source": [
    "```Use KNN regression (sklearn.neighbors.KNeighborsRegressor).\n",
    "Compare the results to the linear regression.```"
   ]
  },
  {
   "cell_type": "code",
   "execution_count": 85,
   "metadata": {},
   "outputs": [
    {
     "name": "stdout",
     "output_type": "stream",
     "text": [
      "1902722018.3881547\n"
     ]
    }
   ],
   "source": [
    "from sklearn.neighbors import KNeighborsRegressor\n",
    "\n",
    "X_train, X_test, Y_train, Y_test = train_test_split(X_ShapeContour_8added_Bonus, Y, train_size=0.7)\n",
    "KNN_mdl = KNeighborsRegressor()\n",
    "KNN_mdl.fit(X_train, Y_train)\n",
    "\n",
    "best_mse = mean_squared_error(Y_test, KNN_mdl.predict(X_test))\n",
    "print(best_mse)\n",
    "\n",
    "# MSE is higher than linear regression"
   ]
  },
  {
   "cell_type": "code",
   "execution_count": null,
   "metadata": {},
   "outputs": [],
   "source": []
  }
 ],
 "metadata": {
  "kernelspec": {
   "display_name": "Python 3",
   "language": "python",
   "name": "python3"
  },
  "language_info": {
   "codemirror_mode": {
    "name": "ipython",
    "version": 3
   },
   "file_extension": ".py",
   "mimetype": "text/x-python",
   "name": "python",
   "nbconvert_exporter": "python",
   "pygments_lexer": "ipython3",
   "version": "3.8.5"
  }
 },
 "nbformat": 4,
 "nbformat_minor": 4
}
