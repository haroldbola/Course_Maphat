{
 "cells": [
  {
   "cell_type": "markdown",
   "metadata": {
    "colab_type": "text",
    "id": "g52QVAiPpF7e"
   },
   "source": [
    "## Making trees work - Exercise\n",
    "```In this exercise you will experience with Decision Trees and Random Forests. During this part you will explore the different features of them and will plot your results. Hence, whenever exploration tasks are marked with (*), know that you are asked to plot two graphs (on the same plot): the training score against the explored feature and the test score against it.```\n",
    "\n",
    "```~Ittai Haran```"
   ]
  },
  {
   "cell_type": "code",
   "execution_count": 1,
   "metadata": {
    "colab": {},
    "colab_type": "code",
    "id": "dORsK-VtpF7g"
   },
   "outputs": [],
   "source": [
    "import numpy as np\n",
    "import pandas as pd\n",
    "import matplotlib.pyplot as plt\n",
    "%matplotlib inline"
   ]
  },
  {
   "cell_type": "markdown",
   "metadata": {
    "colab_type": "text",
    "id": "cCDKC8TlpF7m"
   },
   "source": [
    "```Read the dataset. In this dataset, you are provided over a hundred variables describing attributes of life insurance applicants. The task is to predict the \"Response\" variable.```"
   ]
  },
  {
   "cell_type": "code",
   "execution_count": 2,
   "metadata": {
    "colab": {},
    "colab_type": "code",
    "id": "rk1IzO26pF7n"
   },
   "outputs": [],
   "source": [
    "from sklearn.model_selection import train_test_split\n",
    "\n",
    "df = pd.read_csv('insurance_fixed.csv')\n",
    "X = df.drop(['Response'], axis = 1)\n",
    "Y = df['Response']\n",
    "X_train, X_test, Y_train, Y_test = train_test_split(X, Y, train_size = 0.7, test_size = 0.3)"
   ]
  },
  {
   "cell_type": "markdown",
   "metadata": {
    "colab_type": "text",
    "id": "GySuderHpF7r"
   },
   "source": [
    "```We will start by using Decision trees. Use a simple DecisionTreeClassifier with default values to predict on your train and on your test. Evaluate the model using the accuracy metric, which you can find in sklearn.```"
   ]
  },
  {
   "cell_type": "code",
   "execution_count": 3,
   "metadata": {
    "colab": {},
    "colab_type": "code",
    "id": "MsRfdxfBpF7s"
   },
   "outputs": [],
   "source": [
    "from sklearn.tree import DecisionTreeClassifier\n",
    "from sklearn.metrics import accuracy_score"
   ]
  },
  {
   "cell_type": "code",
   "execution_count": 4,
   "metadata": {
    "colab": {
     "base_uri": "https://localhost:8080/",
     "height": 51
    },
    "colab_type": "code",
    "executionInfo": {
     "elapsed": 2372,
     "status": "ok",
     "timestamp": 1583853062816,
     "user": {
      "displayName": "יואב פלטי",
      "photoUrl": "",
      "userId": "14341008001842646858"
     },
     "user_tz": -120
    },
    "id": "ixAOeEn7pF7x",
    "outputId": "12378190-3f49-402c-b052-dbd48bacd73a"
   },
   "outputs": [
    {
     "name": "stdout",
     "output_type": "stream",
     "text": [
      "score on training: 0.9999759418755714\n",
      "score on test: 0.42997474038731404\n"
     ]
    }
   ],
   "source": [
    "basic_tree = DecisionTreeClassifier()\n",
    "basic_tree.fit(X_train, Y_train)\n",
    "print('score on training: {score}'.format(score = accuracy_score(Y_train, basic_tree.predict(X_train))))\n",
    "print('score on test: {score}'.format(score = accuracy_score(Y_test, basic_tree.predict(X_test))))"
   ]
  },
  {
   "cell_type": "markdown",
   "metadata": {
    "colab_type": "text",
    "id": "L0RczRj8pF74"
   },
   "source": [
    "```Unfortunately, you are at overfit. Now let's try to get better. Try playing with the max depth of the tree, for``` $1\\leq depth \\leq25$ ```(*) (This means you are asked to plot some graphs, remember? :) )```\n",
    "\n",
    "```Choose the optimal max_depth based on the graph you got.```"
   ]
  },
  {
   "cell_type": "code",
   "execution_count": 5,
   "metadata": {
    "colab": {
     "base_uri": "https://localhost:8080/",
     "height": 295
    },
    "colab_type": "code",
    "executionInfo": {
     "elapsed": 23718,
     "status": "ok",
     "timestamp": 1583853147190,
     "user": {
      "displayName": "יואב פלטי",
      "photoUrl": "",
      "userId": "14341008001842646858"
     },
     "user_tz": -120
    },
    "id": "PN66cQqUpF75",
    "outputId": "db6852f7-c4c5-4d30-d6a2-721683866f52"
   },
   "outputs": [
    {
     "ename": "KeyboardInterrupt",
     "evalue": "",
     "output_type": "error",
     "traceback": [
      "\u001b[1;31m---------------------------------------------------------------------------\u001b[0m",
      "\u001b[1;31mKeyboardInterrupt\u001b[0m                         Traceback (most recent call last)",
      "\u001b[1;32m<ipython-input-5-6061b96c6f82>\u001b[0m in \u001b[0;36m<module>\u001b[1;34m\u001b[0m\n\u001b[0;32m      4\u001b[0m \u001b[1;32mfor\u001b[0m \u001b[0mmax_depth\u001b[0m \u001b[1;32min\u001b[0m \u001b[0mdepths\u001b[0m\u001b[1;33m:\u001b[0m\u001b[1;33m\u001b[0m\u001b[0m\n\u001b[0;32m      5\u001b[0m     \u001b[0mbasic_tree\u001b[0m \u001b[1;33m=\u001b[0m \u001b[0mDecisionTreeClassifier\u001b[0m\u001b[1;33m(\u001b[0m\u001b[0mmax_depth\u001b[0m\u001b[1;33m=\u001b[0m\u001b[0mmax_depth\u001b[0m\u001b[1;33m)\u001b[0m\u001b[1;33m\u001b[0m\u001b[0m\n\u001b[1;32m----> 6\u001b[1;33m     \u001b[0mbasic_tree\u001b[0m\u001b[1;33m.\u001b[0m\u001b[0mfit\u001b[0m\u001b[1;33m(\u001b[0m\u001b[0mX_train\u001b[0m\u001b[1;33m,\u001b[0m \u001b[0mY_train\u001b[0m\u001b[1;33m)\u001b[0m\u001b[1;33m\u001b[0m\u001b[0m\n\u001b[0m\u001b[0;32m      7\u001b[0m     \u001b[0mtraining_score\u001b[0m\u001b[1;33m.\u001b[0m\u001b[0mappend\u001b[0m\u001b[1;33m(\u001b[0m\u001b[0maccuracy_score\u001b[0m\u001b[1;33m(\u001b[0m\u001b[0mY_train\u001b[0m\u001b[1;33m,\u001b[0m \u001b[0mbasic_tree\u001b[0m\u001b[1;33m.\u001b[0m\u001b[0mpredict\u001b[0m\u001b[1;33m(\u001b[0m\u001b[0mX_train\u001b[0m\u001b[1;33m)\u001b[0m\u001b[1;33m)\u001b[0m\u001b[1;33m)\u001b[0m\u001b[1;33m\u001b[0m\u001b[0m\n\u001b[0;32m      8\u001b[0m     \u001b[0mtest_score\u001b[0m\u001b[1;33m.\u001b[0m\u001b[0mappend\u001b[0m\u001b[1;33m(\u001b[0m\u001b[0maccuracy_score\u001b[0m\u001b[1;33m(\u001b[0m\u001b[0mY_test\u001b[0m\u001b[1;33m,\u001b[0m \u001b[0mbasic_tree\u001b[0m\u001b[1;33m.\u001b[0m\u001b[0mpredict\u001b[0m\u001b[1;33m(\u001b[0m\u001b[0mX_test\u001b[0m\u001b[1;33m)\u001b[0m\u001b[1;33m)\u001b[0m\u001b[1;33m)\u001b[0m\u001b[1;33m\u001b[0m\u001b[0m\n",
      "\u001b[1;32m~\\Anaconda3\\lib\\site-packages\\sklearn\\tree\\tree.py\u001b[0m in \u001b[0;36mfit\u001b[1;34m(self, X, y, sample_weight, check_input, X_idx_sorted)\u001b[0m\n\u001b[0;32m    814\u001b[0m             \u001b[0msample_weight\u001b[0m\u001b[1;33m=\u001b[0m\u001b[0msample_weight\u001b[0m\u001b[1;33m,\u001b[0m\u001b[1;33m\u001b[0m\u001b[0m\n\u001b[0;32m    815\u001b[0m             \u001b[0mcheck_input\u001b[0m\u001b[1;33m=\u001b[0m\u001b[0mcheck_input\u001b[0m\u001b[1;33m,\u001b[0m\u001b[1;33m\u001b[0m\u001b[0m\n\u001b[1;32m--> 816\u001b[1;33m             X_idx_sorted=X_idx_sorted)\n\u001b[0m\u001b[0;32m    817\u001b[0m         \u001b[1;32mreturn\u001b[0m \u001b[0mself\u001b[0m\u001b[1;33m\u001b[0m\u001b[0m\n\u001b[0;32m    818\u001b[0m \u001b[1;33m\u001b[0m\u001b[0m\n",
      "\u001b[1;32m~\\Anaconda3\\lib\\site-packages\\sklearn\\tree\\tree.py\u001b[0m in \u001b[0;36mfit\u001b[1;34m(self, X, y, sample_weight, check_input, X_idx_sorted)\u001b[0m\n\u001b[0;32m    378\u001b[0m                                            min_impurity_split)\n\u001b[0;32m    379\u001b[0m \u001b[1;33m\u001b[0m\u001b[0m\n\u001b[1;32m--> 380\u001b[1;33m         \u001b[0mbuilder\u001b[0m\u001b[1;33m.\u001b[0m\u001b[0mbuild\u001b[0m\u001b[1;33m(\u001b[0m\u001b[0mself\u001b[0m\u001b[1;33m.\u001b[0m\u001b[0mtree_\u001b[0m\u001b[1;33m,\u001b[0m \u001b[0mX\u001b[0m\u001b[1;33m,\u001b[0m \u001b[0my\u001b[0m\u001b[1;33m,\u001b[0m \u001b[0msample_weight\u001b[0m\u001b[1;33m,\u001b[0m \u001b[0mX_idx_sorted\u001b[0m\u001b[1;33m)\u001b[0m\u001b[1;33m\u001b[0m\u001b[0m\n\u001b[0m\u001b[0;32m    381\u001b[0m \u001b[1;33m\u001b[0m\u001b[0m\n\u001b[0;32m    382\u001b[0m         \u001b[1;32mif\u001b[0m \u001b[0mself\u001b[0m\u001b[1;33m.\u001b[0m\u001b[0mn_outputs_\u001b[0m \u001b[1;33m==\u001b[0m \u001b[1;36m1\u001b[0m\u001b[1;33m:\u001b[0m\u001b[1;33m\u001b[0m\u001b[0m\n",
      "\u001b[1;31mKeyboardInterrupt\u001b[0m: "
     ]
    }
   ],
   "source": [
    "training_score = []\n",
    "test_score = []\n",
    "depths = range(1,26)\n",
    "for max_depth in depths:\n",
    "    basic_tree = DecisionTreeClassifier(max_depth=max_depth)\n",
    "    basic_tree.fit(X_train, Y_train)\n",
    "    training_score.append(accuracy_score(Y_train, basic_tree.predict(X_train)))\n",
    "    test_score.append(accuracy_score(Y_test, basic_tree.predict(X_test)))\n",
    "    \n",
    "plt.plot(depths, training_score,label=\"train\")\n",
    "plt.plot(depths, test_score,label=\"test\")\n",
    "plt.xlabel('max depth')\n",
    "plt.ylabel('score')\n",
    "plt.title('score againts max depth of the tree')\n",
    "plt.show()"
   ]
  },
  {
   "cell_type": "markdown",
   "metadata": {
    "colab_type": "text",
    "id": "C5RIqukxpF7-"
   },
   "source": [
    "```Choose the best max_depth you found. Now try playing with min_samples_leaf. use the following values: [1, 10, 100, 300,700, 1000]. Do it also with max_depth = 20. What can we learn from the graphs? Please answer the question``` $\\ \\underline{in\\ another\\ cell}$ ```.(*)```"
   ]
  },
  {
   "cell_type": "code",
   "execution_count": null,
   "metadata": {
    "colab": {
     "base_uri": "https://localhost:8080/",
     "height": 575
    },
    "colab_type": "code",
    "executionInfo": {
     "elapsed": 8867,
     "status": "ok",
     "timestamp": 1583853237733,
     "user": {
      "displayName": "יואב פלטי",
      "photoUrl": "",
      "userId": "14341008001842646858"
     },
     "user_tz": -120
    },
    "id": "qKGLSnDupF8A",
    "outputId": "bcfd5f3b-ca80-4f00-f3a9-7e996c362119"
   },
   "outputs": [],
   "source": [
    "for max_depth in [7,20]:\n",
    "    training_score = []\n",
    "    test_score = []\n",
    "    min_samples_leaves = [1, 10, 100, 300,700, 1000]\n",
    "    for min_samples_leaf in min_samples_leaves:\n",
    "        basic_tree = DecisionTreeClassifier(max_depth=max_depth, min_samples_leaf=min_samples_leaf)\n",
    "        basic_tree.fit(X_train, Y_train)\n",
    "        training_score.append(accuracy_score(Y_train, basic_tree.predict(X_train)))\n",
    "        test_score.append(accuracy_score(Y_test, basic_tree.predict(X_test)))\n",
    "    plt.plot(min_samples_leaves, training_score,label=\"train\")\n",
    "    plt.plot(min_samples_leaves, test_score,label=\"test\")\n",
    "    plt.xlabel('min_samples_leaf')\n",
    "    plt.ylabel('score')\n",
    "    plt.legend()\n",
    "    plt.title('score againts max min samples leaf of the tree, depth='+str(max_depth))\n",
    "    plt.show()"
   ]
  },
  {
   "cell_type": "markdown",
   "metadata": {
    "colab_type": "text",
    "id": "35MbmLPmpF8G"
   },
   "source": [
    "```Decision Tree is a very nice algorithm, especially because it is very intuitive and explainable. We can even draw it!\n",
    "Train a simple Decision Tree with max_depth = 3. Call it basic_tree and run the cell below. Examine the file tree.png you created.```"
   ]
  },
  {
   "cell_type": "code",
   "execution_count": 6,
   "metadata": {
    "colab": {},
    "colab_type": "code",
    "id": "KZ1GgxCjpF8H"
   },
   "outputs": [],
   "source": [
    "basic_tree = DecisionTreeClassifier(max_depth=3)\n",
    "basic_tree = basic_tree.fit(X_train, Y_train)"
   ]
  },
  {
   "cell_type": "code",
   "execution_count": 7,
   "metadata": {
    "colab": {},
    "colab_type": "code",
    "id": "2WzCbcIapF8L"
   },
   "outputs": [],
   "source": [
    "from sklearn.tree import export_graphviz\n",
    "export_graphviz(basic_tree, out_file = 'tree.dot', filled  = True,\n",
    "                rounded = True, feature_names = X_train.columns)\n",
    "!dot -Tpng tree.dot -o tree.png"
   ]
  },
  {
   "cell_type": "markdown",
   "metadata": {
    "colab_type": "text",
    "id": "q8KKQVMxpF8O"
   },
   "source": [
    "```Look at the tree you got. What, would you say, are the most important features?\n",
    "As you recall, we talked about feature importance in class. Use the attribute feature_importance_ of your tree to get a list of the most important features.```"
   ]
  },
  {
   "cell_type": "code",
   "execution_count": 9,
   "metadata": {
    "colab": {
     "base_uri": "https://localhost:8080/",
     "height": 1000
    },
    "colab_type": "code",
    "executionInfo": {
     "elapsed": 667,
     "status": "ok",
     "timestamp": 1583853620241,
     "user": {
      "displayName": "יואב פלטי",
      "photoUrl": "",
      "userId": "14341008001842646858"
     },
     "user_tz": -120
    },
    "id": "QLykZJIVpF8P",
    "outputId": "4bee2e94-bd2e-465f-c8fe-45fbc749c16c"
   },
   "outputs": [
    {
     "data": {
      "text/plain": [
       "[('BMI', 0.5553001206628454),\n",
       " ('Medical_History_23', 0.20055949809801182),\n",
       " ('Medical_History_4', 0.19148556584579865),\n",
       " ('Product_Info_4', 0.052654815393344205),\n",
       " ('Product_Info_1', 0.0),\n",
       " ('Product_Info_3', 0.0),\n",
       " ('Product_Info_5', 0.0),\n",
       " ('Product_Info_6', 0.0),\n",
       " ('Product_Info_7', 0.0),\n",
       " ('Ins_Age', 0.0),\n",
       " ('Ht', 0.0),\n",
       " ('Wt', 0.0),\n",
       " ('Employment_Info_1', 0.0),\n",
       " ('Employment_Info_2', 0.0),\n",
       " ('Employment_Info_3', 0.0),\n",
       " ('Employment_Info_4', 0.0),\n",
       " ('Employment_Info_5', 0.0),\n",
       " ('Employment_Info_6', 0.0),\n",
       " ('InsuredInfo_1', 0.0),\n",
       " ('InsuredInfo_2', 0.0),\n",
       " ('InsuredInfo_3', 0.0),\n",
       " ('InsuredInfo_4', 0.0),\n",
       " ('InsuredInfo_5', 0.0),\n",
       " ('InsuredInfo_6', 0.0),\n",
       " ('InsuredInfo_7', 0.0),\n",
       " ('Insurance_History_1', 0.0),\n",
       " ('Insurance_History_2', 0.0),\n",
       " ('Insurance_History_3', 0.0),\n",
       " ('Insurance_History_4', 0.0),\n",
       " ('Insurance_History_5', 0.0),\n",
       " ('Insurance_History_7', 0.0),\n",
       " ('Insurance_History_8', 0.0),\n",
       " ('Insurance_History_9', 0.0),\n",
       " ('Family_Hist_1', 0.0),\n",
       " ('Family_Hist_2', 0.0),\n",
       " ('Family_Hist_3', 0.0),\n",
       " ('Family_Hist_4', 0.0),\n",
       " ('Family_Hist_5', 0.0),\n",
       " ('Medical_History_1', 0.0),\n",
       " ('Medical_History_2', 0.0),\n",
       " ('Medical_History_3', 0.0),\n",
       " ('Medical_History_5', 0.0),\n",
       " ('Medical_History_6', 0.0),\n",
       " ('Medical_History_7', 0.0),\n",
       " ('Medical_History_8', 0.0),\n",
       " ('Medical_History_9', 0.0),\n",
       " ('Medical_History_10', 0.0),\n",
       " ('Medical_History_11', 0.0),\n",
       " ('Medical_History_12', 0.0),\n",
       " ('Medical_History_13', 0.0),\n",
       " ('Medical_History_14', 0.0),\n",
       " ('Medical_History_15', 0.0),\n",
       " ('Medical_History_16', 0.0),\n",
       " ('Medical_History_17', 0.0),\n",
       " ('Medical_History_18', 0.0),\n",
       " ('Medical_History_19', 0.0),\n",
       " ('Medical_History_20', 0.0),\n",
       " ('Medical_History_21', 0.0),\n",
       " ('Medical_History_22', 0.0),\n",
       " ('Medical_History_24', 0.0),\n",
       " ('Medical_History_25', 0.0),\n",
       " ('Medical_History_26', 0.0),\n",
       " ('Medical_History_27', 0.0),\n",
       " ('Medical_History_28', 0.0),\n",
       " ('Medical_History_29', 0.0),\n",
       " ('Medical_History_30', 0.0),\n",
       " ('Medical_History_31', 0.0),\n",
       " ('Medical_History_32', 0.0),\n",
       " ('Medical_History_33', 0.0),\n",
       " ('Medical_History_34', 0.0),\n",
       " ('Medical_History_35', 0.0),\n",
       " ('Medical_History_36', 0.0),\n",
       " ('Medical_History_37', 0.0),\n",
       " ('Medical_History_38', 0.0),\n",
       " ('Medical_History_39', 0.0),\n",
       " ('Medical_History_40', 0.0),\n",
       " ('Medical_History_41', 0.0),\n",
       " ('Medical_Keyword_1', 0.0),\n",
       " ('Medical_Keyword_2', 0.0),\n",
       " ('Medical_Keyword_3', 0.0),\n",
       " ('Medical_Keyword_4', 0.0),\n",
       " ('Medical_Keyword_5', 0.0),\n",
       " ('Medical_Keyword_6', 0.0),\n",
       " ('Medical_Keyword_7', 0.0),\n",
       " ('Medical_Keyword_8', 0.0),\n",
       " ('Medical_Keyword_9', 0.0),\n",
       " ('Medical_Keyword_10', 0.0),\n",
       " ('Medical_Keyword_11', 0.0),\n",
       " ('Medical_Keyword_12', 0.0),\n",
       " ('Medical_Keyword_13', 0.0),\n",
       " ('Medical_Keyword_14', 0.0),\n",
       " ('Medical_Keyword_15', 0.0),\n",
       " ('Medical_Keyword_16', 0.0),\n",
       " ('Medical_Keyword_17', 0.0),\n",
       " ('Medical_Keyword_18', 0.0),\n",
       " ('Medical_Keyword_19', 0.0),\n",
       " ('Medical_Keyword_20', 0.0),\n",
       " ('Medical_Keyword_21', 0.0),\n",
       " ('Medical_Keyword_22', 0.0),\n",
       " ('Medical_Keyword_23', 0.0),\n",
       " ('Medical_Keyword_24', 0.0),\n",
       " ('Medical_Keyword_25', 0.0),\n",
       " ('Medical_Keyword_26', 0.0),\n",
       " ('Medical_Keyword_27', 0.0),\n",
       " ('Medical_Keyword_28', 0.0),\n",
       " ('Medical_Keyword_29', 0.0),\n",
       " ('Medical_Keyword_30', 0.0),\n",
       " ('Medical_Keyword_31', 0.0),\n",
       " ('Medical_Keyword_32', 0.0),\n",
       " ('Medical_Keyword_33', 0.0),\n",
       " ('Medical_Keyword_34', 0.0),\n",
       " ('Medical_Keyword_35', 0.0),\n",
       " ('Medical_Keyword_36', 0.0),\n",
       " ('Medical_Keyword_37', 0.0),\n",
       " ('Medical_Keyword_38', 0.0),\n",
       " ('Medical_Keyword_39', 0.0),\n",
       " ('Medical_Keyword_40', 0.0),\n",
       " ('Medical_Keyword_41', 0.0),\n",
       " ('Medical_Keyword_42', 0.0),\n",
       " ('Medical_Keyword_43', 0.0),\n",
       " ('Medical_Keyword_44', 0.0),\n",
       " ('Medical_Keyword_45', 0.0),\n",
       " ('Medical_Keyword_46', 0.0),\n",
       " ('Medical_Keyword_47', 0.0),\n",
       " ('Medical_Keyword_48', 0.0)]"
      ]
     },
     "execution_count": 9,
     "metadata": {},
     "output_type": "execute_result"
    }
   ],
   "source": [
    "sorted(zip(X.columns, basic_tree.feature_importances_), key = lambda x: -x[1])"
   ]
  },
  {
   "cell_type": "markdown",
   "metadata": {
    "colab_type": "text",
    "id": "Z0jvG9yjpF8V"
   },
   "source": [
    "```We will now move to Random Forest. Repeat the exlporations tasks with a Random forest with 100 trees (max depth and min samples leaf). In addition, vary the number of trees between 10 and 400, while maintaining low max_depth (*) and the max_feature parameter, between 0.1 and 1 (*). Try explaining the graphs you see ``` $\\ \\underline{in\\ a\\ different\\ cell}$ ```. Use the flag n_jobs = -1 in your experiments to accelerate your computation time. Make sure to understand where your model is overfitted.```"
   ]
  },
  {
   "cell_type": "code",
   "execution_count": 10,
   "metadata": {
    "colab": {},
    "colab_type": "code",
    "id": "8xqkizM7pF8W"
   },
   "outputs": [],
   "source": [
    "from sklearn.ensemble import RandomForestClassifier"
   ]
  },
  {
   "cell_type": "code",
   "execution_count": 11,
   "metadata": {
    "colab": {
     "base_uri": "https://localhost:8080/",
     "height": 295
    },
    "colab_type": "code",
    "executionInfo": {
     "elapsed": 56013,
     "status": "ok",
     "timestamp": 1583853922855,
     "user": {
      "displayName": "יואב פלטי",
      "photoUrl": "",
      "userId": "14341008001842646858"
     },
     "user_tz": -120
    },
    "id": "0mmVfHC1pF8b",
    "outputId": "40052c6c-2a82-4a3a-a87d-e5a6d748739e",
    "scrolled": true
   },
   "outputs": [
    {
     "data": {
      "image/png": "[encoded data removed]",
      "text/plain": [
       "<Figure size 432x288 with 1 Axes>"
      ]
     },
     "metadata": {
      "needs_background": "light"
     },
     "output_type": "display_data"
    }
   ],
   "source": [
    "training_score = []\n",
    "test_score = []\n",
    "number_of_trees = [10,40,80,120,180,200,250,300,350,400]\n",
    "for number in number_of_trees:\n",
    "    random_forest = RandomForestClassifier(n_estimators=number, max_depth=4)\n",
    "    random_forest.fit(X_train, Y_train)\n",
    "    training_score.append(accuracy_score(Y_train, random_forest.predict(X_train)))\n",
    "    test_score.append(accuracy_score(Y_test, random_forest.predict(X_test)))\n",
    "plt.plot(number_of_trees, training_score,label=\"train\")\n",
    "plt.plot(number_of_trees, test_score,label=\"test\")\n",
    "plt.xlabel('number of trees')\n",
    "plt.ylabel('score')\n",
    "plt.legend()\n",
    "plt.title('score againts number of trees in the forest')\n",
    "plt.show()"
   ]
  },
  {
   "cell_type": "code",
   "execution_count": 12,
   "metadata": {
    "colab": {
     "base_uri": "https://localhost:8080/",
     "height": 295
    },
    "colab_type": "code",
    "executionInfo": {
     "elapsed": 705,
     "status": "ok",
     "timestamp": 1583854857004,
     "user": {
      "displayName": "יואב פלטי",
      "photoUrl": "",
      "userId": "14341008001842646858"
     },
     "user_tz": -120
    },
    "id": "M-YLDxjapF8f",
    "outputId": "f2bba702-b486-465f-dd01-e6db4682d1b9"
   },
   "outputs": [
    {
     "data": {
      "image/png": "[encoded data removed]",
      "text/plain": [
       "<Figure size 432x288 with 1 Axes>"
      ]
     },
     "metadata": {
      "needs_background": "light"
     },
     "output_type": "display_data"
    }
   ],
   "source": [
    "training_score = []\n",
    "test_score = []\n",
    "max_features_list = np.arange(0.1,1.1,0.1)\n",
    "for max_features in max_features_list:\n",
    "    random_forest = RandomForestClassifier(n_estimators=100, max_depth=12, max_features=max_features, n_jobs = -1)\n",
    "    random_forest.fit(X_train, Y_train)\n",
    "    training_score.append(accuracy_score(Y_train, random_forest.predict(X_train)))\n",
    "    test_score.append(accuracy_score(Y_test, random_forest.predict(X_test)))\n",
    "plt.plot(max_features_list, training_score, label='train')\n",
    "plt.plot(max_features_list, test_score, label='test')\n",
    "plt.xlabel('max features')\n",
    "plt.ylabel('score')\n",
    "plt.legend()\n",
    "plt.title('score againts max features in the forest')\n",
    "plt.show()"
   ]
  },
  {
   "cell_type": "markdown",
   "metadata": {
    "colab_type": "text",
    "id": "ZvpnDiOnpF8l"
   },
   "source": [
    "```As you could see, at least one of your graphs turned out to be very noisy. Use K Fold cross validation to evalute your model more accurately. In K Fold cross validation we split our data into K segments, and for each ``` $1 \\leq i\\leq K$ ``` we test our model on the i-th segment while training it using the others.```"
   ]
  },
  {
   "cell_type": "code",
   "execution_count": 16,
   "metadata": {
    "colab": {
     "base_uri": "https://localhost:8080/",
     "height": 626
    },
    "colab_type": "code",
    "executionInfo": {
     "elapsed": 500375,
     "status": "error",
     "timestamp": 1583855748801,
     "user": {
      "displayName": "יואב פלטי",
      "photoUrl": "",
      "userId": "14341008001842646858"
     },
     "user_tz": -120
    },
    "id": "ENnxFMjfpF8m",
    "outputId": "29804192-2ee3-491e-a9fc-ee328e9d336c"
   },
   "outputs": [
    {
     "data": {
      "image/png": "[encoded data removed]",
      "text/plain": [
       "<Figure size 432x288 with 1 Axes>"
      ]
     },
     "metadata": {
      "needs_background": "light"
     },
     "output_type": "display_data"
    }
   ],
   "source": [
    "from sklearn.model_selection import KFold\n",
    "\n",
    "def get_acc_on_folds(clf, X, Y, all_but, seg):\n",
    "    clf.fit(X.iloc[all_but], Y.iloc[all_but])\n",
    "    return accuracy_score(Y.iloc[all_but], clf.predict(X.iloc[all_but])), accuracy_score(Y.iloc[seg], clf.predict(X.iloc[seg]))\n",
    "\n",
    "training_score = []\n",
    "test_score = []\n",
    "number_of_trees = [10,40,80,120,180,200,250,300,350,400]\n",
    "for number in number_of_trees:\n",
    "    k_fold = KFold(5)\n",
    "    all_grades = list(map(lambda x: get_acc_on_folds(RandomForestClassifier(n_estimators=number, max_depth=7), X, Y, x[0], x[1]), k_fold.split(X,Y)))\n",
    "    training_score.append(np.mean(list(map(lambda x: x[0], all_grades))))\n",
    "    test_score.append(np.mean(list(map(lambda x: x[1], all_grades))))\n",
    "plt.plot(number_of_trees, training_score,label='train')\n",
    "plt.plot(number_of_trees, test_score,label='test')\n",
    "plt.xlabel('number of trees')\n",
    "plt.ylabel('score')\n",
    "plt.legend()\n",
    "plt.title('score againts number of trees in the forest')\n",
    "plt.show()"
   ]
  },
  {
   "cell_type": "markdown",
   "metadata": {
    "colab_type": "text",
    "id": "1y3_HqecpF8s"
   },
   "source": [
    "```Use the Random Forest to surpass the best score you got using Decision Tree.```"
   ]
  },
  {
   "cell_type": "code",
   "execution_count": 18,
   "metadata": {
    "colab": {},
    "colab_type": "code",
    "id": "4TSpGBcapF8u",
    "outputId": "8bcf4c14-e63f-4559-f2e6-a4cc4a2b787d",
    "scrolled": true
   },
   "outputs": [
    {
     "name": "stdout",
     "output_type": "stream",
     "text": [
      "0.5667695761998316\n"
     ]
    }
   ],
   "source": [
    "random_forest = RandomForestClassifier(n_estimators=200, max_depth=16, max_features=0.8, n_jobs=-1)\n",
    "random_forest.fit(X_train, Y_train)\n",
    "print(accuracy_score(Y_test, random_forest.predict(X_test)))"
   ]
  },
  {
   "cell_type": "markdown",
   "metadata": {
    "colab_type": "text",
    "id": "-HwGHHPupF81"
   },
   "source": [
    "## Extra thinking on feature importance"
   ]
  },
  {
   "cell_type": "markdown",
   "metadata": {
    "colab_type": "text",
    "id": "2iwrD4UepF85"
   },
   "source": [
    "```We talked about feature importance in class. get the feature importance of each feature using a decision tree and using a random forest. Use in both cases the best hyper parameters you found so far. Discuss the differences between the answers``` $\\underline{in\\ a\\ cell}$."
   ]
  },
  {
   "cell_type": "code",
   "execution_count": 19,
   "metadata": {
    "colab": {},
    "colab_type": "code",
    "id": "yMDKekt1pF86",
    "outputId": "3e7281fe-3801-4069-f2e0-ad068d1cd072"
   },
   "outputs": [
    {
     "data": {
      "text/plain": [
       "[('BMI', 0.17469493576615644),\n",
       " ('Product_Info_4', 0.05968031482527182),\n",
       " ('Medical_History_4', 0.054882063428079525),\n",
       " ('Ins_Age', 0.048012755812632056),\n",
       " ('Wt', 0.04731473899286288),\n",
       " ('Medical_History_15', 0.04475838460612278),\n",
       " ('Medical_History_23', 0.04118083289779813),\n",
       " ('Employment_Info_1', 0.032500160651194064),\n",
       " ('Medical_History_2', 0.025845017595819784),\n",
       " ('Medical_History_1', 0.025501949966085364),\n",
       " ('Family_Hist_3', 0.024479237823536),\n",
       " ('Employment_Info_6', 0.023154697715299117),\n",
       " ('Family_Hist_4', 0.021942568567606985),\n",
       " ('Medical_Keyword_3', 0.021717489099357248),\n",
       " ('Medical_Keyword_15', 0.019430163534435264),\n",
       " ('Insurance_History_5', 0.01886489401817816),\n",
       " ('Ht', 0.018566682864826056),\n",
       " ('Family_Hist_5', 0.0179908235578377),\n",
       " ('Family_Hist_2', 0.01617108089755288),\n",
       " ('InsuredInfo_3', 0.015167757704958209),\n",
       " ('InsuredInfo_6', 0.011326720190101067),\n",
       " ('Employment_Info_2', 0.011277617521231431),\n",
       " ('Medical_History_24', 0.010157769423606088),\n",
       " ('Medical_History_30', 0.00896855348984992),\n",
       " ('Family_Hist_1', 0.007929588837384705),\n",
       " ('Employment_Info_4', 0.007839998051007439),\n",
       " ('Medical_History_40', 0.005445411439232735),\n",
       " ('Insurance_History_8', 0.005369707659402408),\n",
       " ('Medical_History_39', 0.005339655465935813),\n",
       " ('Medical_History_13', 0.005131397534558594),\n",
       " ('InsuredInfo_1', 0.004720063543396478),\n",
       " ('Medical_History_28', 0.0046959191364910795),\n",
       " ('Medical_History_41', 0.004611695409828596),\n",
       " ('Medical_History_9', 0.0045017058704616),\n",
       " ('Medical_History_29', 0.004407091326721698),\n",
       " ('Medical_History_33', 0.003965152995986418),\n",
       " ('Medical_History_16', 0.003798762202454846),\n",
       " ('Medical_History_34', 0.003775427498138363),\n",
       " ('Insurance_History_4', 0.003751965701217077),\n",
       " ('Product_Info_6', 0.0033998386011247906),\n",
       " ('Medical_Keyword_23', 0.0032850574436162697),\n",
       " ('Medical_History_18', 0.0032201057996224134),\n",
       " ('InsuredInfo_2', 0.0031737653016096394),\n",
       " ('Medical_Keyword_25', 0.0031715845236414894),\n",
       " ('Product_Info_3', 0.0031384545592558952),\n",
       " ('InsuredInfo_4', 0.0031187962995404645),\n",
       " ('Product_Info_1', 0.002975821840354564),\n",
       " ('Insurance_History_7', 0.00295361022674348),\n",
       " ('Medical_History_8', 0.0027885978571638445),\n",
       " ('Insurance_History_2', 0.002773506553791068),\n",
       " ('Medical_Keyword_37', 0.002758984001448039),\n",
       " ('Medical_History_21', 0.0027197953380521333),\n",
       " ('Insurance_History_1', 0.0026892353328561197),\n",
       " ('InsuredInfo_7', 0.002662886326131957),\n",
       " ('Medical_History_3', 0.0026428166310054763),\n",
       " ('InsuredInfo_5', 0.002621583304801969),\n",
       " ('Medical_History_36', 0.002611139221124631),\n",
       " ('Medical_History_12', 0.002573832205907307),\n",
       " ('Employment_Info_3', 0.0024648653873308585),\n",
       " ('Medical_Keyword_40', 0.002442199879412521),\n",
       " ('Medical_Keyword_42', 0.0023951540334091973),\n",
       " ('Medical_History_5', 0.00238855517119323),\n",
       " ('Medical_History_20', 0.002373612819040372),\n",
       " ('Medical_History_25', 0.002288011222446759),\n",
       " ('Medical_History_26', 0.0021330340912223415),\n",
       " ('Employment_Info_5', 0.002014934054712894),\n",
       " ('Medical_Keyword_48', 0.0019761955189156774),\n",
       " ('Medical_History_6', 0.0019570433980577143),\n",
       " ('Insurance_History_9', 0.001946041636203231),\n",
       " ('Medical_Keyword_1', 0.0018515501113418296),\n",
       " ('Medical_History_17', 0.001790458542292247),\n",
       " ('Medical_History_37', 0.0017157166895575362),\n",
       " ('Medical_History_7', 0.0016222574883654316),\n",
       " ('Medical_Keyword_10', 0.0016048410711262387),\n",
       " ('Medical_Keyword_41', 0.0016022538862356217),\n",
       " ('Medical_History_19', 0.0015703845838405707),\n",
       " ('Medical_Keyword_11', 0.0014629546010064525),\n",
       " ('Medical_Keyword_22', 0.0014461782703371164),\n",
       " ('Medical_Keyword_33', 0.0014101730247611133),\n",
       " ('Insurance_History_3', 0.00136869664178969),\n",
       " ('Medical_History_10', 0.0013628903432537408),\n",
       " ('Medical_Keyword_47', 0.0012864076526282447),\n",
       " ('Medical_Keyword_24', 0.0012654938295939093),\n",
       " ('Medical_History_27', 0.0012247353521026632),\n",
       " ('Medical_Keyword_38', 0.0011776812231594584),\n",
       " ('Medical_Keyword_30', 0.0011239727382175565),\n",
       " ('Medical_Keyword_34', 0.001084784972952748),\n",
       " ('Medical_History_14', 0.001073694603472287),\n",
       " ('Product_Info_7', 0.001020616971097353),\n",
       " ('Medical_Keyword_35', 0.0009937063765360448),\n",
       " ('Medical_History_32', 0.0009725584290915371),\n",
       " ('Medical_History_22', 0.0009659793154199447),\n",
       " ('Medical_Keyword_32', 0.0009180873392528904),\n",
       " ('Medical_History_31', 0.0009159723841563921),\n",
       " ('Medical_Keyword_28', 0.0008811097953566348),\n",
       " ('Medical_Keyword_21', 0.0008657421532626937),\n",
       " ('Medical_Keyword_7', 0.0008633313080492922),\n",
       " ('Medical_Keyword_4', 0.0008349473611746411),\n",
       " ('Medical_History_11', 0.0008340202029815588),\n",
       " ('Medical_Keyword_26', 0.0007839003989573711),\n",
       " ('Medical_Keyword_27', 0.0007585764525617355),\n",
       " ('Medical_Keyword_31', 0.0007484851939712194),\n",
       " ('Medical_Keyword_16', 0.0007302304018375388),\n",
       " ('Medical_Keyword_12', 0.0006827381789661437),\n",
       " ('Medical_Keyword_43', 0.0006694198801505294),\n",
       " ('Medical_Keyword_29', 0.0006518339234216172),\n",
       " ('Medical_Keyword_46', 0.0006246042108733196),\n",
       " ('Medical_Keyword_36', 0.0006199539920178568),\n",
       " ('Medical_Keyword_17', 0.0006168552650446905),\n",
       " ('Medical_Keyword_6', 0.0006128284525324157),\n",
       " ('Medical_Keyword_45', 0.0006010514803553376),\n",
       " ('Medical_History_38', 0.0005967450639685997),\n",
       " ('Medical_Keyword_9', 0.00059310854599148),\n",
       " ('Medical_Keyword_5', 0.0005539545326978326),\n",
       " ('Product_Info_5', 0.0005104292364945212),\n",
       " ('Medical_Keyword_18', 0.0004903177270246057),\n",
       " ('Medical_Keyword_39', 0.0004880421972556738),\n",
       " ('Medical_Keyword_19', 0.00048796304376004946),\n",
       " ('Medical_Keyword_14', 0.00046530451674443147),\n",
       " ('Medical_Keyword_13', 0.00041864799211617526),\n",
       " ('Medical_Keyword_44', 0.00040625108028574506),\n",
       " ('Medical_Keyword_8', 0.00040358883139262453),\n",
       " ('Medical_Keyword_20', 0.00037812893200369046),\n",
       " ('Medical_Keyword_2', 0.0003312916689875607),\n",
       " ('Medical_History_35', 0.00013473933582068475)]"
      ]
     },
     "execution_count": 19,
     "metadata": {},
     "output_type": "execute_result"
    }
   ],
   "source": [
    "sorted(zip(X.columns, random_forest.feature_importances_), key=lambda x: -x[1])"
   ]
  },
  {
   "cell_type": "markdown",
   "metadata": {
    "colab_type": "text",
    "id": "3SlxzyfhpF9A"
   },
   "source": [
    "```We can define a concept of feature importance for linear regression: Suppose you have two features, ```$x_1$ ```and``` $x_2$. ```Suppose that you got a linear regression of the form```\n",
    "\n",
    "$y = 100\\cdot x_1 + 1\\cdot x_2$\n",
    "\n",
    "```What feature is more important? What if we have -100 instead of 100? Generalize this idea to any number of features. Train a linear regression on your data and get the feature importances.```"
   ]
  },
  {
   "cell_type": "code",
   "execution_count": 44,
   "metadata": {
    "colab": {},
    "colab_type": "code",
    "id": "qPhWu2E7pF9C"
   },
   "outputs": [],
   "source": [
    "from sklearn.linear_model import LinearRegression, LogisticRegression"
   ]
  },
  {
   "cell_type": "code",
   "execution_count": 21,
   "metadata": {
    "colab": {},
    "colab_type": "code",
    "id": "GEj4hnvQpF9G",
    "outputId": "93280869-e766-4b0b-916e-750b073030ca"
   },
   "outputs": [
    {
     "data": {
      "text/plain": [
       "[('Wt', -3.851328947880328),\n",
       " ('BMI', -3.1613232732597645),\n",
       " ('Insurance_History_5', -2.9944537630749677),\n",
       " ('Ht', 2.171407106199229),\n",
       " ('Medical_History_5', -1.8284865257127285),\n",
       " ('Medical_Keyword_3', -1.4854674081456505),\n",
       " ('Ins_Age', -1.2881705218959296),\n",
       " ('Medical_History_35', -1.2773878250076005),\n",
       " ('Medical_History_4', 1.1901119593685983),\n",
       " ('Medical_Keyword_38', -1.0923123751995762),\n",
       " ('Medical_History_20', 1.0640665079497043),\n",
       " ('InsuredInfo_2', -0.9836326923246099),\n",
       " ('Medical_History_30', -0.9493234159897195),\n",
       " ('Medical_Keyword_41', 0.9248768396279567),\n",
       " ('Medical_Keyword_9', -0.8873611387107558),\n",
       " ('Product_Info_4', 0.8160259730876822),\n",
       " ('Medical_History_18', -0.7984273750043757),\n",
       " ('Medical_History_11', 0.7475215530063843),\n",
       " ('Medical_History_17', 0.6616692026652575),\n",
       " ('InsuredInfo_5', -0.5830158521821777),\n",
       " ('Medical_History_40', 0.5654445294185401),\n",
       " ('Medical_History_27', 0.5115338311100649),\n",
       " ('Medical_History_7', 0.4969189490842192),\n",
       " ('Employment_Info_4', -0.4890962252927647),\n",
       " ('Medical_Keyword_2', 0.48694392388011964),\n",
       " ('Medical_History_19', -0.47883681566091496),\n",
       " ('Family_Hist_4', 0.4744917327548145),\n",
       " ('Medical_History_31', 0.47381779621286874),\n",
       " ('Family_Hist_2', 0.4318782191673886),\n",
       " ('Medical_Keyword_19', 0.43011181526056125),\n",
       " ('Medical_Keyword_34', 0.4167114362365574),\n",
       " ('Medical_Keyword_45', 0.41383997504471975),\n",
       " ('Medical_History_23', 0.4102185393693918),\n",
       " ('Medical_History_26', 0.40341355837967857),\n",
       " ('Insurance_History_2', -0.39839783386597727),\n",
       " ('InsuredInfo_7', -0.3899934151435222),\n",
       " ('Medical_History_25', 0.3780489907479644),\n",
       " ('Medical_History_38', -0.3692441739024958),\n",
       " ('Medical_History_28', -0.3225750103632054),\n",
       " ('Medical_Keyword_33', 0.32213379575164586),\n",
       " ('Medical_Keyword_18', -0.3142603386892229),\n",
       " ('Medical_Keyword_46', 0.3092748422568959),\n",
       " ('Family_Hist_3', 0.30857036373518254),\n",
       " ('Medical_Keyword_35', 0.29483245953769416),\n",
       " ('Medical_Keyword_25', 0.28568841720051585),\n",
       " ('Medical_History_22', 0.28355602149183634),\n",
       " ('Medical_Keyword_6', 0.2817124939753094),\n",
       " ('Medical_History_13', 0.2802980057430956),\n",
       " ('Insurance_History_1', -0.271334707346488),\n",
       " ('Medical_Keyword_29', 0.26248823944369476),\n",
       " ('Medical_Keyword_39', 0.25947122519261256),\n",
       " ('Medical_History_37', 0.25674280343576406),\n",
       " ('Medical_Keyword_31', -0.2511584199191068),\n",
       " ('Medical_History_33', 0.2445201916180415),\n",
       " ('InsuredInfo_6', 0.23758937041736428),\n",
       " ('Medical_Keyword_22', 0.23636830382107746),\n",
       " ('Product_Info_5', -0.23336271028268035),\n",
       " ('Medical_Keyword_15', 0.22969461435022354),\n",
       " ('Medical_History_3', 0.22937370891512965),\n",
       " ('Family_Hist_5', 0.21710535476511866),\n",
       " ('Medical_Keyword_12', 0.21425949729112606),\n",
       " ('Medical_Keyword_47', -0.20364418360026737),\n",
       " ('Medical_Keyword_11', 0.20306226469450805),\n",
       " ('Medical_History_12', -0.20143716515388385),\n",
       " ('Medical_Keyword_17', -0.20064148698361528),\n",
       " ('Medical_Keyword_26', 0.19952142074716675),\n",
       " ('Medical_Keyword_20', 0.18809825258772384),\n",
       " ('InsuredInfo_1', -0.17655083320741083),\n",
       " ('Medical_Keyword_48', -0.1737556886833906),\n",
       " ('Medical_History_14', 0.17249462330266355),\n",
       " ('Medical_Keyword_23', 0.1641152163924226),\n",
       " ('Medical_Keyword_7', 0.16340191362411274),\n",
       " ('Medical_History_39', 0.16150280522590713),\n",
       " ('Employment_Info_3', -0.15861636710289084),\n",
       " ('Medical_Keyword_37', -0.15517812052588353),\n",
       " ('Medical_Keyword_16', 0.15355460924306558),\n",
       " ('Medical_Keyword_43', -0.15321287640706172),\n",
       " ('Medical_Keyword_30', 0.15133345923993918),\n",
       " ('Medical_Keyword_27', 0.12309233715028395),\n",
       " ('Medical_Keyword_36', 0.09468971471380128),\n",
       " ('Product_Info_1', -0.0942834860965744),\n",
       " ('Insurance_History_3', 0.09115648355962391),\n",
       " ('Insurance_History_9', -0.08991670273570682),\n",
       " ('Medical_Keyword_28', 0.08518625050780478),\n",
       " ('Medical_Keyword_14', 0.07914844691042063),\n",
       " ('Medical_History_21', 0.07795914442525537),\n",
       " ('Insurance_History_8', 0.07466182835331486),\n",
       " ('Employment_Info_1', 0.07405025378652377),\n",
       " ('Medical_Keyword_4', -0.06458830546872643),\n",
       " ('Medical_History_29', 0.06451614146914048),\n",
       " ('Medical_History_6', 0.06275888299068899),\n",
       " ('Medical_Keyword_21', 0.06231708259065429),\n",
       " ('Employment_Info_5', 0.05989896604784595),\n",
       " ('Insurance_History_4', 0.05732344389542254),\n",
       " ('Medical_Keyword_13', 0.05622657356199659),\n",
       " ('Medical_Keyword_24', -0.05483481929925139),\n",
       " ('Product_Info_7', 0.05208008839691841),\n",
       " ('Medical_History_8', 0.051997228620368464),\n",
       " ('Medical_Keyword_8', 0.05127120499363741),\n",
       " ('Medical_Keyword_10', 0.04912828405948419),\n",
       " ('Employment_Info_6', 0.045093116450150794),\n",
       " ('Medical_History_36', -0.039145821086241706),\n",
       " ('Insurance_History_7', 0.037661930967477164),\n",
       " ('Medical_History_41', 0.03155024137225293),\n",
       " ('Product_Info_6', -0.031355503725038036),\n",
       " ('Medical_Keyword_44', -0.028114747720285434),\n",
       " ('Medical_Keyword_5', 0.02578760542443257),\n",
       " ('Family_Hist_1', -0.025219261512816005),\n",
       " ('Medical_Keyword_40', 0.022359016026502372),\n",
       " ('Medical_History_16', -0.014047076627146243),\n",
       " ('Medical_Keyword_42', -0.012930350741342925),\n",
       " ('Medical_Keyword_1', -0.00977375417683194),\n",
       " ('Medical_History_34', 0.005838580123944004),\n",
       " ('Medical_History_9', -0.0055497861052778985),\n",
       " ('Medical_History_15', 0.005483248800322416),\n",
       " ('Medical_History_1', 0.005286144567861695),\n",
       " ('Product_Info_3', -0.0050265983720751695),\n",
       " ('Medical_History_32', 0.004920896922479989),\n",
       " ('InsuredInfo_4', 0.003751357962555213),\n",
       " ('Medical_History_24', 0.002576535824133419),\n",
       " ('Medical_Keyword_32', 0.0019621901337073186),\n",
       " ('Employment_Info_2', 0.001319536103418173),\n",
       " ('Medical_History_10', 0.0012607917659018808),\n",
       " ('InsuredInfo_3', -0.0007279856963608444),\n",
       " ('Medical_History_2', 7.933819429495337e-05)]"
      ]
     },
     "execution_count": 21,
     "metadata": {},
     "output_type": "execute_result"
    }
   ],
   "source": [
    "model = LinearRegression(n_jobs=-1)\n",
    "model.fit(X_train, Y_train)\n",
    "sorted(zip(X.columns, model.coef_), key=lambda x: -abs(x[1]))"
   ]
  },
  {
   "cell_type": "markdown",
   "metadata": {
    "colab_type": "text",
    "id": "R4yWO2QCpF9K"
   },
   "source": [
    "## Ensemble methods and stacking\n",
    "```In this part we will explore the concept of model stacking: that is, training a model, the combining model, on the outputs of several other models. Hence, the stacking method has two steps: first we train our models, and than we train the combining model using the outputs of those models.```"
   ]
  },
  {
   "cell_type": "markdown",
   "metadata": {
    "colab_type": "text",
    "id": "M-FbbNyGpF9L"
   },
   "source": [
    "```In the setting of stacking models it is very important to train the several models on one segment of the data and train the combining model on another segment. Hence, start by splitting the data to 3 segments: train_1 segment, 35% of the data, train_2 segment, 35% of the data, and test segment, the last 30% of the data.```"
   ]
  },
  {
   "cell_type": "code",
   "execution_count": 22,
   "metadata": {
    "colab": {},
    "colab_type": "code",
    "id": "rQPD4h1SpF9M"
   },
   "outputs": [],
   "source": [
    "df = pd.read_csv('insurance_fixed.csv')\n",
    "segments_train_test = np.split(df.index.values, (len(df)*np.array([0.35,0.7])).astype(int))\n",
    "segments = segments_train_test[:-1]\n",
    "test_segment = segments_train_test[-1]\n",
    "\n",
    "X_test = df.iloc[test_segment].drop(['Response'], axis = 1)\n",
    "Y_test = df.iloc[test_segment]['Response']"
   ]
  },
  {
   "cell_type": "markdown",
   "metadata": {
    "colab_type": "text",
    "id": "gPZXRSYUpF9P"
   },
   "source": [
    "```Our first experiment is as follows: train a random forest of simple decision trees (30 trees, max_depth = 3), using train_1. Use the estimators of the forest to create 30*8=240 features: for each estimator get the probabilities it gives for the target to belong to any of the classes. You can get the list of the estimators using RandomForestClassifier.estimators_ and have the probabilities mentioned using model.predict_proba.\n",
    "Using the new features you got (and them only), train a logistic regression (LogisticRegression).\n",
    "Compare between the accuracy of the first random forest (on the test segment) and the accuracy of the stacked models (again, on the test segment).```"
   ]
  },
  {
   "cell_type": "code",
   "execution_count": 5,
   "metadata": {
    "colab": {},
    "colab_type": "code",
    "id": "U1RJE4DdpF9Q"
   },
   "outputs": [],
   "source": [
    "from sklearn.ensemble import RandomForestClassifier\n",
    "from sklearn.linear_model import LogisticRegression\n",
    "from sklearn.metrics import accuracy_score, log_loss"
   ]
  },
  {
   "cell_type": "code",
   "execution_count": 47,
   "metadata": {
    "colab": {},
    "colab_type": "code",
    "id": "GiV3-74ppF9T"
   },
   "outputs": [
    {
     "name": "stdout",
     "output_type": "stream",
     "text": [
      "model accuracy: 0.479202918888577\n",
      "log loss: 1.4863954734621634\n"
     ]
    },
    {
     "name": "stderr",
     "output_type": "stream",
     "text": [
      "C:\\Users\\user\\Anaconda3\\lib\\site-packages\\sklearn\\linear_model\\logistic.py:432: FutureWarning: Default solver will be changed to 'lbfgs' in 0.22. Specify a solver to silence this warning.\n",
      "  FutureWarning)\n",
      "C:\\Users\\user\\Anaconda3\\lib\\site-packages\\sklearn\\linear_model\\logistic.py:469: FutureWarning: Default multi_class will be changed to 'auto' in 0.22. Specify the multi_class option to silence this warning.\n",
      "  \"this warning.\", FutureWarning)\n"
     ]
    },
    {
     "name": "stdout",
     "output_type": "stream",
     "text": [
      "model accuracy: 0.5185517822060062\n",
      "log loss: 1.3929669304177288\n"
     ]
    }
   ],
   "source": [
    "model_1 = RandomForestClassifier(n_estimators=30, max_depth=3, max_features=0.8, n_jobs=-1)\n",
    "\n",
    "X = df.iloc[segments[0]].drop(['Response'], axis = 1)\n",
    "Y = df.iloc[segments[0]]['Response']\n",
    "model_1.fit(X,Y)\n",
    "print('model accuracy: ' +str(accuracy_score(Y_test, model_1.predict(X_test).astype(int))))\n",
    "print('log loss: ' + str(log_loss(Y_test, model_1.predict_proba(X_test))))\n",
    "\n",
    "X = df.iloc[segments[1]].drop(['Response'], axis = 1)\n",
    "Y = df.iloc[segments[1]]['Response']\n",
    "all_results = np.concatenate(list(map(lambda x: x.predict_proba(X), model_1.estimators_)), axis=-1)\n",
    "\n",
    "model = LogisticRegression()\n",
    "model.fit(all_results, Y)\n",
    "\n",
    "all_results_test = np.concatenate(list(map(lambda x: x.predict_proba(X_test), model_1.estimators_)), axis=-1)\n",
    "predictions = model.predict_proba(all_results_test)\n",
    "\n",
    "print('model accuracy: ' + str(accuracy_score(Y_test, model.predict(all_results_test))))\n",
    "print('log loss: ' + str(log_loss(Y_test, model.predict_proba(all_results_test))))"
   ]
  },
  {
   "cell_type": "markdown",
   "metadata": {
    "colab_type": "text",
    "id": "bImcVjakpF9Y"
   },
   "source": [
    "```We will conduct a similar experiment: create a set of at least 5 different models, of different kinds - use algorithms we talked about in class. Stack them to get a better model. Compare the accuracies of the models to the accuracy of your stacked model.```"
   ]
  },
  {
   "cell_type": "code",
   "execution_count": 50,
   "metadata": {
    "colab": {},
    "colab_type": "code",
    "id": "UToxqmhYpF9Z"
   },
   "outputs": [],
   "source": [
    "from sklearn.tree import DecisionTreeClassifier\n",
    "from sklearn.neighbors import KNeighborsClassifier\n",
    "from sklearn.linear_model import LinearRegression, LogisticRegressionCV, LogisticRegression, RidgeClassifier, RidgeClassifierCV"
   ]
  },
  {
   "cell_type": "code",
   "execution_count": 51,
   "metadata": {
    "colab": {},
    "colab_type": "code",
    "id": "UHhjlWQhpF9f"
   },
   "outputs": [],
   "source": [
    "from sklearn.ensemble import AdaBoostClassifier, RandomForestClassifier\n",
    "from sklearn.svm import SVC"
   ]
  },
  {
   "cell_type": "code",
   "execution_count": 56,
   "metadata": {
    "colab": {},
    "colab_type": "code",
    "id": "_Yl6yBqlpF9i"
   },
   "outputs": [
    {
     "name": "stderr",
     "output_type": "stream",
     "text": [
      "C:\\Users\\user\\Anaconda3\\lib\\site-packages\\sklearn\\linear_model\\logistic.py:432: FutureWarning: Default solver will be changed to 'lbfgs' in 0.22. Specify a solver to silence this warning.\n",
      "  FutureWarning)\n",
      "C:\\Users\\user\\Anaconda3\\lib\\site-packages\\sklearn\\linear_model\\logistic.py:469: FutureWarning: Default multi_class will be changed to 'auto' in 0.22. Specify the multi_class option to silence this warning.\n",
      "  \"this warning.\", FutureWarning)\n"
     ]
    }
   ],
   "source": [
    "model_1 = DecisionTreeClassifier(max_depth=7)\n",
    "model_2 = KNeighborsClassifier(3, n_jobs=-1)\n",
    "model_3 = KNeighborsClassifier(6, n_jobs=-1)\n",
    "model_4 = AdaBoostClassifier()\n",
    "model_5 = LogisticRegression()\n",
    "model_6 = RandomForestClassifier(n_estimators=200, max_depth=16, max_features=0.8, n_jobs=-1)\n",
    "all_models = [model_1, model_2, model_3, model_4, model_5, model_6]\n",
    "\n",
    "X = df.iloc[segments[0]].drop(['Response'], axis = 1)\n",
    "Y = df.iloc[segments[0]]['Response']\n",
    "all_models = list(map(lambda x: x.fit(X,Y), all_models))\n",
    "all_accs = list(map(lambda x: accuracy_score(Y_test, x.predict(X_test)), all_models))\n",
    "all_results_test = np.concatenate(list(map(lambda x: x.predict_proba(X_test), all_models)), axis=-1)\n",
    "\n",
    "X_seg_1 = df.iloc[segments[1]].drop(['Response'], axis = 1)\n",
    "Y_seg_1 = df.iloc[segments[1]]['Response']\n",
    "all_results = np.concatenate(list(map(lambda x: x.predict_proba(X_seg_1), all_models)), axis=-1)"
   ]
  },
  {
   "cell_type": "code",
   "execution_count": 57,
   "metadata": {
    "colab": {},
    "colab_type": "code",
    "id": "KzP5nTixpF9m"
   },
   "outputs": [
    {
     "name": "stdout",
     "output_type": "stream",
     "text": [
      "all accuracies: [0.5272523154644962, 0.27577883805781644, 0.3213022733651417, 0.4971653101319113, 0.491103003087286, 0.5621105809710918]\n",
      "final accuracy: 0.5461689587426326\n"
     ]
    }
   ],
   "source": [
    "model = RidgeClassifier()\n",
    "model.fit(all_results, Y_seg_1)\n",
    "\n",
    "predictions = model.predict(all_results_test)\n",
    "\n",
    "print('all accuracies: ' + str(all_accs))\n",
    "print('final accuracy: ' + str(accuracy_score(Y_test, predictions)))"
   ]
  },
  {
   "cell_type": "markdown",
   "metadata": {
    "colab_type": "text",
    "id": "IV5JVDjhpF9q"
   },
   "source": [
    "```As we said earlier, it is very important use two different train segments. What happens if you use the same train segment in both steps of the stacked model? Note that you now use more data to train your models, and also your combining model. Do you get better results? Do it and explain your results ```$\\underline{\\ in\\ a\\ cell\\ below.}$"
   ]
  },
  {
   "cell_type": "code",
   "execution_count": 55,
   "metadata": {
    "colab": {},
    "colab_type": "code",
    "id": "Mhgue2bHpF9r"
   },
   "outputs": [
    {
     "name": "stderr",
     "output_type": "stream",
     "text": [
      "C:\\Users\\user\\Anaconda3\\lib\\site-packages\\sklearn\\linear_model\\logistic.py:432: FutureWarning: Default solver will be changed to 'lbfgs' in 0.22. Specify a solver to silence this warning.\n",
      "  FutureWarning)\n",
      "C:\\Users\\user\\Anaconda3\\lib\\site-packages\\sklearn\\linear_model\\logistic.py:469: FutureWarning: Default multi_class will be changed to 'auto' in 0.22. Specify the multi_class option to silence this warning.\n",
      "  \"this warning.\", FutureWarning)\n"
     ]
    },
    {
     "name": "stdout",
     "output_type": "stream",
     "text": [
      "all accuracies: [0.5270839180465899, 0.27577883805781644, 0.3213022733651417, 0.4971653101319113, 0.491103003087286, 0.5608195341004771]\n",
      "final accuracy: 0.5451585742351951\n"
     ]
    }
   ],
   "source": [
    "df = pd.read_csv('insurance_fixed.csv')\n",
    "segments_train_test = np.split(df.index.values, (len(df)*np.array([0.7])).astype(int))\n",
    "segments = segments_train_test[:-1]\n",
    "segments = segments + segments\n",
    "test_segment = segments_train_test[-1]\n",
    "\n",
    "X_test = df.iloc[test_segment].drop(['Response'], axis = 1)\n",
    "Y_test = df.iloc[test_segment]['Response']\n",
    "\n",
    "model_1 = DecisionTreeClassifier(max_depth=7)\n",
    "model_2 = KNeighborsClassifier(3, n_jobs=-1)\n",
    "model_3 = KNeighborsClassifier(6, n_jobs=-1)\n",
    "model_4 = AdaBoostClassifier()\n",
    "model_5 = LogisticRegression()\n",
    "model_6 = RandomForestClassifier(n_estimators=200, max_depth=16, max_features=0.8, n_jobs=-1)\n",
    "all_models = [model_1, model_2, model_3, model_4, model_5, model_6]\n",
    "\n",
    "X = df.iloc[segments[0]].drop(['Response'], axis = 1)\n",
    "Y = df.iloc[segments[0]]['Response']\n",
    "all_models = list(map(lambda x: x.fit(X,Y), all_models))\n",
    "all_accs = list(map(lambda x: accuracy_score(Y_test, x.predict(X_test)), all_models))\n",
    "all_results_test = np.concatenate(list(map(lambda x: x.predict_proba(X_test), all_models)), axis=-1)\n",
    "\n",
    "X_seg_1 = df.iloc[segments[1]].drop(['Response'], axis = 1)\n",
    "Y_seg_1 = df.iloc[segments[1]]['Response']\n",
    "all_results = np.concatenate(list(map(lambda x: x.predict_proba(X_seg_1), all_models)), axis=-1)\n",
    "\n",
    "model = RidgeClassifier()\n",
    "model.fit(all_results, Y_seg_1)\n",
    "\n",
    "predictions = model.predict(all_results_test)\n",
    "\n",
    "print('all accuracies: ' + str(all_accs))\n",
    "print('final accuracy: ' + str(accuracy_score(Y_test, predictions)))"
   ]
  },
  {
   "cell_type": "code",
   "execution_count": null,
   "metadata": {},
   "outputs": [],
   "source": []
  }
 ],
 "metadata": {
  "colab": {
   "collapsed_sections": [],
   "name": "exercise 2 - supervised learning - solution.ipynb",
   "provenance": [],
   "toc_visible": true
  },
  "kernelspec": {
   "display_name": "Python 3",
   "language": "python",
   "name": "python3"
  },
  "language_info": {
   "codemirror_mode": {
    "name": "ipython",
    "version": 3
   },
   "file_extension": ".py",
   "mimetype": "text/x-python",
   "name": "python",
   "nbconvert_exporter": "python",
   "pygments_lexer": "ipython3",
   "version": "3.8.5"
  }
 },
 "nbformat": 4,
 "nbformat_minor": 4
}
