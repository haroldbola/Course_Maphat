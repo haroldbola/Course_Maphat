{
 "cells": [
  {
   "cell_type": "markdown",
   "metadata": {
    "colab_type": "text",
    "id": "fzssrdQ6p9ec"
   },
   "source": [
    "## Making trees work - Exercise\n",
    "```In this exercise you will experience with Decision Trees and Random Forests. During this part you will explore the different features of them and will plot your results. Hence, whenever exploration tasks are marked with (*), know that you are asked to plot two graphs (on the same plot): the training score against the explored feature and the test score against it.```\n",
    "\n",
    "```~Ittai Haran```"
   ]
  },
  {
   "cell_type": "code",
   "execution_count": 1,
   "metadata": {
    "colab": {},
    "colab_type": "code",
    "id": "BHCtFsfWp9ef"
   },
   "outputs": [],
   "source": [
    "import numpy as np\n",
    "import pandas as pd\n",
    "import matplotlib.pyplot as plt\n",
    "%matplotlib inline"
   ]
  },
  {
   "cell_type": "markdown",
   "metadata": {
    "colab_type": "text",
    "id": "y7a3_4Cxp9ek"
   },
   "source": [
    "```Read the dataset. In this dataset, you are provided over a hundred variables describing attributes of life insurance applicants. The task is to predict the \"Response\" variable.```\n",
    "\n",
    "```the dataset can be found in: ```https://drive.google.com/open?id=1t_P64gM1M1_c2n4PvH7AZoELH2CNh6ui"
   ]
  },
  {
   "cell_type": "code",
   "execution_count": 3,
   "metadata": {
    "colab": {},
    "colab_type": "code",
    "id": "vAp2cUCDp9el"
   },
   "outputs": [],
   "source": [
    "from sklearn.model_selection import train_test_split\n",
    "\n",
    "df = pd.read_csv('insurance_fixed.csv')\n",
    "X = df.drop(['Response'], axis = 1)\n",
    "Y = df['Response']\n",
    "X_train, X_test, Y_train, Y_test = train_test_split(X, Y, train_size = 0.7, test_size = 0.3)"
   ]
  },
  {
   "cell_type": "markdown",
   "metadata": {
    "colab_type": "text",
    "id": "e3WxH3Xsp9ep"
   },
   "source": [
    "```We will start by using Decision trees. Use a simple DecisionTreeClassifier with default values to predict on your train and on your test. Evaluate the model using the accuracy metric, which you can find in sklearn.```"
   ]
  },
  {
   "cell_type": "code",
   "execution_count": 4,
   "metadata": {
    "colab": {},
    "colab_type": "code",
    "id": "AiB56h8rp9eq"
   },
   "outputs": [],
   "source": [
    "from sklearn.tree import DecisionTreeClassifier\n",
    "from sklearn.metrics import accuracy_score"
   ]
  },
  {
   "cell_type": "code",
   "execution_count": 5,
   "metadata": {
    "colab": {},
    "colab_type": "code",
    "id": "tgJAkBKNp9eu"
   },
   "outputs": [
    {
     "name": "stdout",
     "output_type": "stream",
     "text": [
      "test acc= 0.4272242492281785\n",
      "train acc= 0.9999518837511427\n"
     ]
    }
   ],
   "source": [
    "decision_tree_mdl = DecisionTreeClassifier()\n",
    "decision_tree_mdl.fit(X_train, Y_train)\n",
    "\n",
    "y_predict = decision_tree_mdl.predict(X_test)\n",
    "test_acc = accuracy_score(Y_test, y_predict)\n",
    "\n",
    "print(\"test acc=\", test_acc)\n",
    "print(\"train acc=\", accuracy_score(Y_train, decision_tree_mdl.predict(X_train)))"
   ]
  },
  {
   "cell_type": "markdown",
   "metadata": {
    "colab_type": "text",
    "id": "606IhCe_p9ey"
   },
   "source": [
    "```Unfortunately, you are at overfit. Now let's try to get better. Try playing with the max depth of the tree, for``` $1\\leq depth \\leq25$ ```(*) (This means you are asked to plot some graphs, remember? :) )```\n",
    "\n",
    "```Choose the optimal max_depth based on the graph you got.```"
   ]
  },
  {
   "cell_type": "code",
   "execution_count": 6,
   "metadata": {
    "colab": {},
    "colab_type": "code",
    "id": "exoVKRxpp9ez"
   },
   "outputs": [
    {
     "name": "stderr",
     "output_type": "stream",
     "text": [
      "100%|██████████████████████████████████████████████████████████████████████████████████| 25/25 [00:20<00:00,  1.22it/s]\n"
     ]
    },
    {
     "data": {
      "text/plain": [
       "'\\nWe can see on he graph that the best depth is 10\\n'"
      ]
     },
     "execution_count": 6,
     "metadata": {},
     "output_type": "execute_result"
    },
    {
     "data": {
      "image/png": "[encoded data removed]",
      "text/plain": [
       "<Figure size 432x288 with 1 Axes>"
      ]
     },
     "metadata": {
      "needs_background": "light"
     },
     "output_type": "display_data"
    }
   ],
   "source": [
    "from tqdm import tqdm\n",
    "\n",
    "list_depths = np.linspace(1, 25, 25)\n",
    "list_acc = []\n",
    "for depth in tqdm(list_depths):\n",
    "    decision_tree_mdl = DecisionTreeClassifier(max_depth=depth)\n",
    "    decision_tree_mdl.fit(X_train, Y_train)\n",
    "\n",
    "    y_predict = decision_tree_mdl.predict(X_test)\n",
    "    test_acc = accuracy_score(Y_test, y_predict)\n",
    "    list_acc.append(test_acc)\n",
    "\n",
    "plt.plot(list_depths, list_acc)\n",
    "\n",
    "\"\"\"\n",
    "We can see on he graph that the best depth is 10\n",
    "\"\"\""
   ]
  },
  {
   "cell_type": "markdown",
   "metadata": {
    "colab_type": "text",
    "id": "K1zQ3fa2p9e3"
   },
   "source": [
    "```Choose the best max_depth you found. Now try playing with min_samples_leaf. use the following values:\n",
    "[1, 10, 100, 300,700, 1000]. Do it also with max_depth = 20. What can we learn from the graphs? Please answer the question ```$\\ \\underline{in\\ another\\ cell}$```.(*)```"
   ]
  },
  {
   "cell_type": "code",
   "execution_count": 7,
   "metadata": {
    "colab": {},
    "colab_type": "code",
    "id": "ODRBOJmHp9e5"
   },
   "outputs": [
    {
     "name": "stderr",
     "output_type": "stream",
     "text": [
      "100%|████████████████████████████████████████████████████████████████████████████████████| 6/6 [00:03<00:00,  1.81it/s]\n"
     ]
    },
    {
     "data": {
      "image/png": "[encoded data removed]",
      "text/plain": [
       "<Figure size 432x288 with 1 Axes>"
      ]
     },
     "metadata": {
      "needs_background": "light"
     },
     "output_type": "display_data"
    },
    {
     "name": "stderr",
     "output_type": "stream",
     "text": [
      "100%|████████████████████████████████████████████████████████████████████████████████████| 6/6 [00:04<00:00,  1.39it/s]\n"
     ]
    },
    {
     "data": {
      "image/png": "[encoded data removed]",
      "text/plain": [
       "<Figure size 432x288 with 1 Axes>"
      ]
     },
     "metadata": {
      "needs_background": "light"
     },
     "output_type": "display_data"
    }
   ],
   "source": [
    "list_sample_leaf = [1, 10, 100, 300,700, 1000]\n",
    "\n",
    "\n",
    "def seach_sample_leaf(list_sample_leaf, depth):\n",
    "    list_acc = []\n",
    "    for sample_leaf in tqdm(list_sample_leaf):\n",
    "        decision_tree_mdl = DecisionTreeClassifier(max_depth=depth, min_samples_leaf=sample_leaf)\n",
    "        decision_tree_mdl.fit(X_train, Y_train)\n",
    "\n",
    "        y_predict = decision_tree_mdl.predict(X_test)\n",
    "        test_acc = accuracy_score(Y_test, y_predict)\n",
    "        list_acc.append(test_acc)\n",
    "\n",
    "    plt.plot(list_sample_leaf, list_acc)\n",
    "    plt.show()\n",
    "    plt.close()\n",
    "    \n",
    "\n",
    "seach_sample_leaf(list_sample_leaf, depth=10)\n",
    "seach_sample_leaf(list_sample_leaf, depth=20)"
   ]
  },
  {
   "cell_type": "code",
   "execution_count": 8,
   "metadata": {},
   "outputs": [
    {
     "data": {
      "text/plain": [
       "'\\nIt is not correct to choose the best value for one hyper-parameter, and then use this value in order to search values of others hyper-parameters. We need to search over all the \\n'"
      ]
     },
     "execution_count": 8,
     "metadata": {},
     "output_type": "execute_result"
    }
   ],
   "source": [
    "\"\"\"\n",
    "It is not correct to choose the best value for one hyper-parameter, and then use this value in order to search values of others hyper-parameters. We need to search over all the \n",
    "\"\"\""
   ]
  },
  {
   "cell_type": "markdown",
   "metadata": {
    "colab_type": "text",
    "id": "G47JuWJyp9e9"
   },
   "source": [
    "```Decision Tree is a very nice algorithm, especially because it is very intuitive and explainable. We can even draw it!\n",
    "Train a simple Decision Tree with max_depth = 3. Call it basic_tree and run the cell below. Examine the file tree.png you created.```"
   ]
  },
  {
   "cell_type": "code",
   "execution_count": 9,
   "metadata": {},
   "outputs": [
    {
     "data": {
      "text/plain": [
       "DecisionTreeClassifier(max_depth=3)"
      ]
     },
     "execution_count": 9,
     "metadata": {},
     "output_type": "execute_result"
    }
   ],
   "source": [
    "basic_tree = DecisionTreeClassifier(max_depth=3)\n",
    "basic_tree.fit(X_train, Y_train)"
   ]
  },
  {
   "cell_type": "code",
   "execution_count": 11,
   "metadata": {
    "colab": {},
    "colab_type": "code",
    "id": "TdDoacrwp9fD"
   },
   "outputs": [
    {
     "name": "stderr",
     "output_type": "stream",
     "text": [
      "'dot' is not recognized as an internal or external command,\n",
      "operable program or batch file.\n"
     ]
    }
   ],
   "source": [
    "from sklearn.tree import export_graphviz\n",
    "export_graphviz(basic_tree, out_file = 'tree.dot', filled  = True,\n",
    "                rounded = True, feature_names = df.drop([\"Response\"], axis=1).columns)\n",
    "!dot -Tpng tree.dot -o tree.png"
   ]
  },
  {
   "cell_type": "markdown",
   "metadata": {
    "colab_type": "text",
    "id": "o4lKwhgnp9fK"
   },
   "source": [
    "```Look at the tree you got. What, would you say, are the most important features?\n",
    "As you recall, we talked about feature importance in the lecture notes. Use the attribute feature_importance_ of your tree to get a list of the most important features.```"
   ]
  },
  {
   "cell_type": "code",
   "execution_count": 12,
   "metadata": {
    "colab": {},
    "colab_type": "code",
    "id": "8ssS7KPYp9fM"
   },
   "outputs": [
    {
     "data": {
      "image/png": "[encoded data removed]",
      "text/plain": [
       "<Figure size 1080x1080 with 1 Axes>"
      ]
     },
     "metadata": {
      "needs_background": "light"
     },
     "output_type": "display_data"
    }
   ],
   "source": [
    "importances = basic_tree.feature_importances_\n",
    "indices = np.argsort(importances)[::-1]\n",
    "features_name = df.drop([\"Response\"], axis=1).columns\n",
    "\n",
    "# Take only 5 best\n",
    "importances_20 = importances[indices][0:6]\n",
    "features_20 = features_name[indices][0:6]\n",
    "\n",
    "plt.figure(figsize=(15,15))\n",
    "plt.title(\"Feature importances\")\n",
    "plt.bar(features_20, importances_20,\n",
    "        color=\"r\", align=\"center\")\n",
    "plt.show()\n",
    "plt.close()"
   ]
  },
  {
   "cell_type": "markdown",
   "metadata": {
    "colab_type": "text",
    "id": "HQvMNPvvp9fP"
   },
   "source": [
    "```We will now move to Random Forest. Repeat the exlporations tasks with a Random forest with 100 trees (max depth and min samples leaf). In addition, vary the number of trees between 10 and 400, while maintaining low max_depth (*) and the max_feature parameter, between 0.1 and 1 (*). Try explaining the graphs you see ```$\\ \\underline{in\\ a\\ different\\ cell}$```. Use the flag n_jobs = -1 in your experiments to accelerate your computation time. Make sure to understand where your model is overfitted.```"
   ]
  },
  {
   "cell_type": "code",
   "execution_count": 13,
   "metadata": {
    "colab": {},
    "colab_type": "code",
    "id": "s9rw9Kqjp9fQ"
   },
   "outputs": [],
   "source": [
    "from sklearn.ensemble import RandomForestClassifier"
   ]
  },
  {
   "cell_type": "code",
   "execution_count": 14,
   "metadata": {
    "colab": {},
    "colab_type": "code",
    "id": "zjWk9kkUp9fW"
   },
   "outputs": [
    {
     "name": "stderr",
     "output_type": "stream",
     "text": [
      "100%|██████████████████████████████████████████████████████████████████████████████████| 20/20 [00:38<00:00,  1.94s/it]\n"
     ]
    },
    {
     "data": {
      "image/png": "[encoded data removed]",
      "text/plain": [
       "<Figure size 432x288 with 1 Axes>"
      ]
     },
     "metadata": {
      "needs_background": "light"
     },
     "output_type": "display_data"
    },
    {
     "name": "stderr",
     "output_type": "stream",
     "text": [
      "100%|██████████████████████████████████████████████████████████████████████████████████| 20/20 [01:22<00:00,  4.14s/it]\n"
     ]
    },
    {
     "data": {
      "image/png": "[encoded data removed]",
      "text/plain": [
       "<Figure size 432x288 with 1 Axes>"
      ]
     },
     "metadata": {
      "needs_background": "light"
     },
     "output_type": "display_data"
    }
   ],
   "source": [
    "def search_nb_estimators(depth):\n",
    "    test_acc, train_acc = [], []\n",
    "    number_of_trees = np.linspace(10, 400, 20, dtype=int)\n",
    "\n",
    "    for tree in tqdm(number_of_trees):\n",
    "        random_forest = RandomForestClassifier(n_estimators=tree, max_depth=depth, n_jobs=-1)\n",
    "        random_forest.fit(X_train, Y_train)\n",
    "        test_acc.append(accuracy_score(Y_test, random_forest.predict(X_test)))\n",
    "        train_acc.append(accuracy_score(Y_train, random_forest.predict(X_train)))\n",
    "\n",
    "    plt.figure()\n",
    "    plt.title(\"Depth=\" + str(depth))\n",
    "    plt.plot(number_of_trees, test_acc, label=\"test\")\n",
    "    plt.plot(number_of_trees, train_acc, label=\"train\")\n",
    "    plt.legend()\n",
    "    plt.show()\n",
    "    plt.close()\n",
    "    \n",
    "search_nb_estimators(depth=4)\n",
    "search_nb_estimators(depth=10)"
   ]
  },
  {
   "cell_type": "code",
   "execution_count": 15,
   "metadata": {},
   "outputs": [
    {
     "name": "stderr",
     "output_type": "stream",
     "text": [
      "100%|██████████████████████████████████████████████████████████████████████████████████| 10/10 [00:02<00:00,  4.49it/s]\n"
     ]
    },
    {
     "data": {
      "image/png": "[encoded data removed]",
      "text/plain": [
       "<Figure size 432x288 with 1 Axes>"
      ]
     },
     "metadata": {
      "needs_background": "light"
     },
     "output_type": "display_data"
    }
   ],
   "source": [
    "max_features_list = np.arange(0.1,1.1,0.1)\n",
    "test_acc, train_acc = [], []\n",
    "\n",
    "for max_features in tqdm(max_features_list):\n",
    "    random_forest = RandomForestClassifier(n_estimators=2, max_depth=4, n_jobs=-1, max_features=max_features)\n",
    "    random_forest.fit(X_train, Y_train)\n",
    "    test_acc.append(accuracy_score(Y_test, random_forest.predict(X_test)))\n",
    "    train_acc.append(accuracy_score(Y_train, random_forest.predict(X_train)))\n",
    "    \n",
    "plt.figure()\n",
    "plt.plot(max_features_list, test_acc, label=\"test\")\n",
    "plt.plot(max_features_list, train_acc, label=\"train\")\n",
    "plt.legend()\n",
    "plt.show()"
   ]
  },
  {
   "cell_type": "markdown",
   "metadata": {
    "colab_type": "text",
    "id": "yiBm0FYKp9fa"
   },
   "source": [
    "```As you could see, at least one of your graphs turned out to be very noisy. Use K Fold cross validation to evalute your model more accurately. In K Fold cross validation we split our data into K segments, and for each ```$\\ 1\\leq i\\leq K\\ $``` we test our model on the i-th segment while training it using the others.```"
   ]
  },
  {
   "cell_type": "markdown",
   "metadata": {
    "colab_type": "text",
    "id": "vF9_f7Yrp9fe"
   },
   "source": [
    "```Use the Random Forest to surpass the best score you got using Decision Tree.```"
   ]
  },
  {
   "cell_type": "code",
   "execution_count": null,
   "metadata": {
    "colab": {},
    "colab_type": "code",
    "id": "cgm4u659p9ff"
   },
   "outputs": [
    {
     "name": "stdout",
     "output_type": "stream",
     "text": [
      "Fitting 3 folds for each of 200 candidates, totalling 600 fits\n"
     ]
    }
   ],
   "source": [
    "from sklearn.metrics import make_scorer\n",
    "from sklearn import metrics\n",
    "from sklearn.model_selection import RandomizedSearchCV\n",
    "\n",
    "rf_model = RandomForestClassifier()\n",
    "\n",
    "max_features = np.arange(0.1,1.1,0.1)\n",
    "min_samples_split = [5, 10, 15]\n",
    "min_samples_leaf = [1, 2, 4, 5]\n",
    "bootstrap = [True, False]\n",
    "criterion = ['gini', 'entropy']\n",
    "n_estimators = [10,40,80,120,180,200,250,300]\n",
    "max_depth = np.linspace(1, 20, 20, dtype=int)\n",
    "\n",
    "random_grid = {'n_estimators': n_estimators,\n",
    "               'max_features': max_features,\n",
    "               'max_depth': max_depth,\n",
    "               'min_samples_split': min_samples_split,\n",
    "               'min_samples_leaf': min_samples_leaf,\n",
    "               'bootstrap': bootstrap,\n",
    "               'criterion': criterion,\n",
    "               }\n",
    "\n",
    "scoring = make_scorer(metrics.accuracy_score)\n",
    "\n",
    "random_model = RandomizedSearchCV(estimator=rf_model, param_distributions=random_grid,\n",
    "                                              n_iter=200, verbose=2, n_jobs=-1,\n",
    "                                              return_train_score=True, cv=3, scoring=scoring)\n",
    "random_model.fit(X_train, Y_train)\n",
    "\n",
    "y_pred = random_model.predict(X_test)\n",
    "print(\"Final accuracy\", accuracy_score(Y_test, y_pred))\n",
    "print(\"Best params\", random_model.best_params_)"
   ]
  },
  {
   "cell_type": "markdown",
   "metadata": {
    "colab_type": "text",
    "id": "tGhmyNw0p9fj"
   },
   "source": [
    "## Extra thinking on feature importance"
   ]
  },
  {
   "cell_type": "markdown",
   "metadata": {
    "colab_type": "text",
    "id": "PbXXU8wHp9fl"
   },
   "source": [
    "```We talked about feature importance in the lecture notes. get the feature importance of each feature using a decision tree and using a random forest. Use in both cases the best hyper parameters you found so far. Discuss the differences between the answers``` $\\underline{in\\ a\\ cell}$."
   ]
  },
  {
   "cell_type": "code",
   "execution_count": 6,
   "metadata": {
    "colab": {},
    "colab_type": "code",
    "id": "5YWe7OXHp9fn"
   },
   "outputs": [
    {
     "data": {
      "image/png": "[encoded data removed]",
      "text/plain": [
       "<Figure size 1080x1080 with 1 Axes>"
      ]
     },
     "metadata": {
      "needs_background": "light"
     },
     "output_type": "display_data"
    }
   ],
   "source": [
    "rf_model = RandomForestClassifier()\n",
    "rf_model.fit(X_train, Y_train)\n",
    "\n",
    "importances = rf_model.feature_importances_\n",
    "indices = np.argsort(importances)[::-1]\n",
    "features_name = df.drop([\"Response\"], axis=1).columns\n",
    "\n",
    "# Take only 5 best\n",
    "importances_20 = importances[indices][0:6]\n",
    "features_20 = features_name[indices][0:6]\n",
    "\n",
    "plt.figure(figsize=(15,15))\n",
    "plt.title(\"Feature importances according to RandomForestClassifier\")\n",
    "plt.bar(features_20, importances_20,\n",
    "        color=\"r\", align=\"center\")\n",
    "plt.show()\n",
    "plt.close()"
   ]
  },
  {
   "cell_type": "markdown",
   "metadata": {
    "colab_type": "text",
    "id": "hG6DkTTJp9fs"
   },
   "source": [
    "```We can define a concept of feature importance for linear regression: Suppose you have two features, ```$x_1$ ```and``` $x_2$. ```Suppose that you got a linear regression of the form```\n",
    "\n",
    "$y = 100\\cdot x_1 + 1\\cdot x_2$\n",
    "\n",
    "```What feature is more important? What if we have -100 instead of 100? Generalize this idea to any number of features. Train a linear regression on your data and get the feature importances.```"
   ]
  },
  {
   "cell_type": "code",
   "execution_count": 11,
   "metadata": {
    "colab": {},
    "colab_type": "code",
    "id": "qfyUj613p9fu"
   },
   "outputs": [],
   "source": [
    "from sklearn.linear_model import LogisticRegression"
   ]
  },
  {
   "cell_type": "code",
   "execution_count": null,
   "metadata": {
    "colab": {},
    "colab_type": "code",
    "id": "JC7giU7Qp9fz"
   },
   "outputs": [],
   "source": [
    "linear_model = LogisticRegression(n_jobs=-1, max_iter=5000)\n",
    "linear_model.fit(X_train, Y_train)\n",
    "\n",
    "importances = linear_model.coef_\n",
    "indices = np.argsort(importances)[::-1]\n",
    "print(indices.shape)\n",
    "features_name = df.drop([\"Response\"], axis=1).columns\n",
    "\n",
    "# Take only 5 best\n",
    "importances_20 = importances[indices][0:6]\n",
    "features_20 = features_name[indices][0:6]\n",
    "\n",
    "plt.figure(figsize=(15,15))\n",
    "plt.title(\"Feature importances according to LogisticRegression\")\n",
    "plt.bar(features_20, importances_20,\n",
    "        color=\"r\", align=\"center\")\n",
    "plt.show()\n",
    "plt.close()\n",
    "\n",
    "x_1 = np.linspace(1, 100, 100)\n",
    "x_2 = np.linspace(1, 100, 100)\n",
    "y = 100*x_1 + x_2\n",
    "X = np.concatenate((x_1, x_2))\n",
    "print(X.shape)\n",
    "\n",
    "linear_model.fit(X, y)\n",
    "print(linear_model.coef_)"
   ]
  },
  {
   "cell_type": "markdown",
   "metadata": {
    "colab_type": "text",
    "id": "EVpv87ulp9f3"
   },
   "source": [
    "## Ensemble methods and stacking\n",
    "```In this part we will explore the concept of model stacking: that is, training a model, the combining model, on the outputs of several other models. Hence, the stacking method has two steps: first we train our models, and than we train the combining model using the outputs of those models.```"
   ]
  },
  {
   "cell_type": "markdown",
   "metadata": {
    "colab_type": "text",
    "id": "7VTlcjE7p9f4"
   },
   "source": [
    "```In the setting of stacking models it is very important to train the several models on one segment of the data and train the combining model on another segment. Hence, start by splitting the data to 3 segments: train_1 segment, 35% of the data, train_2 segment, 35% of the data, and test segment, the last 30% of the data.```"
   ]
  },
  {
   "cell_type": "code",
   "execution_count": 13,
   "metadata": {
    "colab": {},
    "colab_type": "code",
    "id": "vwZliyTSp9f5"
   },
   "outputs": [],
   "source": [
    "from sklearn.model_selection import train_test_split\n",
    "\n",
    "df = pd.read_csv('insurance_fixed.csv')\n",
    "X = df.drop(['Response'], axis = 1)\n",
    "Y = df['Response']\n",
    "\n",
    "X_train, X_test, Y_train, Y_test = train_test_split(X, Y, train_size = 0.7, test_size = 0.3)\n",
    "X_train_1, X_train_2, Y_train_1, Y_train_2 = train_test_split(X_train, Y_train, train_size = 0.5, test_size = 0.5)"
   ]
  },
  {
   "cell_type": "markdown",
   "metadata": {
    "colab_type": "text",
    "id": "f4vnyD6dp9f8"
   },
   "source": [
    "```Our first experiment is as follows: train a random forest of simple decision trees (30 trees, max_depth = 3), using train_1. Use the estimators of the forest to create 30*8=240 features: for each estimator get the probabilities it gives for the target to belong to any of the classes. You can get the list of the estimators using RandomForestClassifier.estimators_ and have the probabilities mentioned using model.predict_proba.\n",
    "Using the new features you got (and them only), train a logistic regression (LogisticRegression).\n",
    "Compare between the accuracy of the first random forest (on the test segment) and the accuracy of the stacked models (again, on the test segment).```"
   ]
  },
  {
   "cell_type": "code",
   "execution_count": 14,
   "metadata": {
    "colab": {},
    "colab_type": "code",
    "id": "8Hqn9a7Dp9f9"
   },
   "outputs": [],
   "source": [
    "from sklearn.ensemble import RandomForestClassifier\n",
    "from sklearn.linear_model import LogisticRegression\n",
    "from sklearn.metrics import accuracy_score, log_loss"
   ]
  },
  {
   "cell_type": "code",
   "execution_count": 16,
   "metadata": {
    "colab": {},
    "colab_type": "code",
    "id": "pjVZ-Ne9p9gC"
   },
   "outputs": [
    {
     "name": "stdout",
     "output_type": "stream",
     "text": [
      "acc_rf= 0.3939938254280101\n",
      "acc_linear= 0.5217513331462251\n"
     ]
    }
   ],
   "source": [
    "model_rf = RandomForestClassifier(n_estimators=30, max_depth=3, n_jobs=-1)\n",
    "model_rf.fit(X_train_1,Y_train_1)\n",
    "\n",
    "predicts_train_2 = np.concatenate(list(map(lambda x: x.predict_proba(X_train_2), model_rf.estimators_)), axis=-1)\n",
    "linear_model = LogisticRegression(max_iter=5000)\n",
    "linear_model.fit(predicts_train_2, Y_train_2)\n",
    "\n",
    "acc_rf = accuracy_score(Y_test, model_rf.predict(X_test))\n",
    "\n",
    "predicts_test = np.concatenate(list(map(lambda x: x.predict_proba(X_test), model_rf.estimators_)), axis=-1)\n",
    "acc_linear = accuracy_score(Y_test, linear_model.predict(predicts_test))\n",
    "\n",
    "print(\"acc_rf=\", acc_rf)\n",
    "print(\"acc_linear=\", acc_linear)"
   ]
  },
  {
   "cell_type": "markdown",
   "metadata": {
    "colab_type": "text",
    "id": "b7hRZrXnp9gG"
   },
   "source": [
    "```We will conduct a similar experiment: create a set of at least 5 different models, of different kinds - use algorithms we talked about in the course. Stack them to get a better model. Compare the accuracies of the models to the accuracy of your stacked model.```"
   ]
  },
  {
   "cell_type": "code",
   "execution_count": 19,
   "metadata": {
    "colab": {},
    "colab_type": "code",
    "id": "LJN0tyBqp9gI"
   },
   "outputs": [],
   "source": [
    "from sklearn.tree import DecisionTreeClassifier\n",
    "from sklearn.neighbors import KNeighborsClassifier\n",
    "from sklearn.linear_model import LinearRegression, LogisticRegressionCV, LogisticRegression, RidgeClassifier, RidgeClassifierCV"
   ]
  },
  {
   "cell_type": "code",
   "execution_count": 30,
   "metadata": {
    "colab": {},
    "colab_type": "code",
    "id": "ur5FBy-1p9gL"
   },
   "outputs": [
    {
     "name": "stdout",
     "output_type": "stream",
     "text": [
      "predictions_train_2 (20783, 32)\n",
      "predictions_test (17815, 32)\n",
      "acc_decision_tree= 0.4189727757507718\n",
      "acc_knn= 0.3002525961268594\n",
      "acc_logistic= 0.35116474880718496\n",
      "acc_rf= 0.35116474880718496\n",
      "acc_ridge= 0.5014313780522032\n"
     ]
    }
   ],
   "source": [
    "decision_tree_model = DecisionTreeClassifier()\n",
    "knn_model = KNeighborsClassifier(n_jobs=-1)\n",
    "logistic_model = LogisticRegression(n_jobs=-1)\n",
    "model_rf = RandomForestClassifier(n_estimators=30, max_depth=3, n_jobs=-1)\n",
    "models = [decision_tree_model, knn_model, logistic_model, model_rf]\n",
    "\n",
    "predictions_train_2 = np.empty(shape=(X_train_2.shape[0],0))\n",
    "predictions_test = np.empty(shape=(X_test.shape[0],0))\n",
    "for model in models:\n",
    "    model.fit(X_train_1, Y_train_1)\n",
    "    \n",
    "    model_prediction_train_2 = model.predict_proba(X_train_2)\n",
    "    predictions_train_2 = np.concatenate((predictions_train_2, model_prediction_train_2), axis=1)\n",
    "    \n",
    "    model_prediction_test = model.predict_proba(X_test)\n",
    "    predictions_test = np.concatenate((predictions_test, model_prediction_test), axis=1)\n",
    "    \n",
    "print(\"predictions_train_2\", predictions_train_2.shape)\n",
    "print(\"predictions_test\", predictions_test.shape)\n",
    "\n",
    "ridge_model = RidgeClassifier()\n",
    "ridge_model.fit(predictions_train_2, Y_train_2)\n",
    "\n",
    "acc_decision_tree = accuracy_score(Y_test, decision_tree_model.predict(X_test))\n",
    "acc_knn = accuracy_score(Y_test, knn_model.predict(X_test))\n",
    "acc_logistic = accuracy_score(Y_test, logistic_model.predict(X_test))\n",
    "acc_rf = accuracy_score(Y_test, model_rf.predict(X_test))\n",
    "\n",
    "acc_ridge = accuracy_score(Y_test, ridge_model.predict(predictions_test))\n",
    "\n",
    "print(\"acc_decision_tree=\", acc_decision_tree)\n",
    "print(\"acc_knn=\", acc_knn)\n",
    "print(\"acc_logistic=\", acc_logistic)\n",
    "print(\"acc_rf=\", acc_logistic)\n",
    "print(\"acc_ridge=\", acc_ridge)"
   ]
  },
  {
   "cell_type": "markdown",
   "metadata": {
    "colab_type": "text",
    "id": "0eCU_NVUp9gP"
   },
   "source": [
    "```As we said earlier, it is very important use two different train segments. What happens if you use the same train segment in both steps of the stacked model? Note that you now use more data to train your models, and also your combining model. Do you get better results? Do it and explain your results ```$\\underline{\\ in\\ a\\ cell\\ below.}$"
   ]
  },
  {
   "cell_type": "code",
   "execution_count": null,
   "metadata": {
    "colab": {},
    "colab_type": "code",
    "id": "1EEYQWXVp9gR"
   },
   "outputs": [],
   "source": [
    "\"\"\"\n",
    "If I use the same train segment in both steps of the stacked model, I could over-fit the data really easily.\n",
    "Indeed, the ensemble model will take as input the probabilities of the stacked models. Those probabilities will be always correct, because this is the train set of the stacked models.\n",
    "\n",
    "Then the ensemble model will learn to \"trust\" the model which got the best result on the train set, which is not what we want.\n",
    "\"\"\""
   ]
  }
 ],
 "metadata": {
  "colab": {
   "name": "exercise 2 - supervised learning (and some clustering).ipynb",
   "provenance": [],
   "version": "0.3.2"
  },
  "kernelspec": {
   "display_name": "Python 3",
   "language": "python",
   "name": "python3"
  },
  "language_info": {
   "codemirror_mode": {
    "name": "ipython",
    "version": 3
   },
   "file_extension": ".py",
   "mimetype": "text/x-python",
   "name": "python",
   "nbconvert_exporter": "python",
   "pygments_lexer": "ipython3",
   "version": "3.8.5"
  }
 },
 "nbformat": 4,
 "nbformat_minor": 4
}
