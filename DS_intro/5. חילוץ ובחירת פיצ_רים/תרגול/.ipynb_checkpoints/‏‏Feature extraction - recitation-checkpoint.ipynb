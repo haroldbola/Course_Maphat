{
 "cells": [
  {
   "cell_type": "markdown",
   "metadata": {},
   "source": [
    "# BOW & TF-IDF - recitation"
   ]
  },
  {
   "cell_type": "markdown",
   "metadata": {},
   "source": [
    "``\n",
    "In this recitation, you will experience with implementing \"tf-idf document vectorizer\", and see how it can be use to solve practical problem.\n",
    "``"
   ]
  },
  {
   "cell_type": "code",
   "execution_count": 1,
   "metadata": {},
   "outputs": [],
   "source": [
    "import pandas as pd\n",
    "import numpy as np\n",
    "import matplotlib.pyplot as plt\n",
    "\n",
    "from functools import reduce\n",
    "import operator\n",
    "\n",
    "from sklearn.model_selection import train_test_split\n",
    "from sklearn.metrics import confusion_matrix"
   ]
  },
  {
   "cell_type": "markdown",
   "metadata": {},
   "source": [
    "```What we going to do here is to solve the next problem:\n",
    "Given a set of articles writen by different authors, we want to decide the \"authorship\" of a new article writen by one of the authors.```"
   ]
  },
  {
   "cell_type": "code",
   "execution_count": 2,
   "metadata": {},
   "outputs": [],
   "source": [
    "## can be found in: https://drive.google.com/open?id=1Ni5Rb_q9gdCIGPW2i1oyH2a5G823fOio\n",
    "df = pd.read_csv('data/Gungor_2018_VictorianAuthorAttribution.csv')"
   ]
  },
  {
   "cell_type": "code",
   "execution_count": 3,
   "metadata": {},
   "outputs": [
    {
     "data": {
      "text/html": [
       "<div>\n",
       "<style scoped>\n",
       "    .dataframe tbody tr th:only-of-type {\n",
       "        vertical-align: middle;\n",
       "    }\n",
       "\n",
       "    .dataframe tbody tr th {\n",
       "        vertical-align: top;\n",
       "    }\n",
       "\n",
       "    .dataframe thead th {\n",
       "        text-align: right;\n",
       "    }\n",
       "</style>\n",
       "<table border=\"1\" class=\"dataframe\">\n",
       "  <thead>\n",
       "    <tr style=\"text-align: right;\">\n",
       "      <th></th>\n",
       "      <th>article_count</th>\n",
       "    </tr>\n",
       "    <tr>\n",
       "      <th>author</th>\n",
       "      <th></th>\n",
       "    </tr>\n",
       "  </thead>\n",
       "  <tbody>\n",
       "    <tr>\n",
       "      <th>8</th>\n",
       "      <td>6914</td>\n",
       "    </tr>\n",
       "    <tr>\n",
       "      <th>14</th>\n",
       "      <td>2696</td>\n",
       "    </tr>\n",
       "    <tr>\n",
       "      <th>19</th>\n",
       "      <td>1543</td>\n",
       "    </tr>\n",
       "    <tr>\n",
       "      <th>21</th>\n",
       "      <td>2307</td>\n",
       "    </tr>\n",
       "    <tr>\n",
       "      <th>26</th>\n",
       "      <td>4441</td>\n",
       "    </tr>\n",
       "    <tr>\n",
       "      <th>33</th>\n",
       "      <td>1742</td>\n",
       "    </tr>\n",
       "    <tr>\n",
       "      <th>37</th>\n",
       "      <td>2387</td>\n",
       "    </tr>\n",
       "    <tr>\n",
       "      <th>39</th>\n",
       "      <td>2266</td>\n",
       "    </tr>\n",
       "    <tr>\n",
       "      <th>45</th>\n",
       "      <td>2312</td>\n",
       "    </tr>\n",
       "    <tr>\n",
       "      <th>48</th>\n",
       "      <td>1825</td>\n",
       "    </tr>\n",
       "  </tbody>\n",
       "</table>\n",
       "</div>"
      ],
      "text/plain": [
       "        article_count\n",
       "author               \n",
       "8                6914\n",
       "14               2696\n",
       "19               1543\n",
       "21               2307\n",
       "26               4441\n",
       "33               1742\n",
       "37               2387\n",
       "39               2266\n",
       "45               2312\n",
       "48               1825"
      ]
     },
     "execution_count": 3,
     "metadata": {},
     "output_type": "execute_result"
    }
   ],
   "source": [
    "## we have articles of 10 different authors\n",
    "df.groupby('author').agg(article_count=pd.NamedAgg(column=\"text\", aggfunc=\"count\"))"
   ]
  },
  {
   "cell_type": "markdown",
   "metadata": {},
   "source": [
    "## \"bag of words\" (BOW)\n",
    "\n",
    "wikipedia link: https://en.wikipedia.org/wiki/Bag-of-words_model\n",
    "\n",
    "```Bag of words is a way to represent a document (or a sentance) as the \"counts\" of the words in it.```\n",
    "\n",
    "``That way, if we have the vocabulary of the language (all the words in the language) and we agree on some order of thses words (say [\"television\", \"mouse\", ...]), we can represent any socument as a vector that each value in it is the count of the corresponding word in the document.``\n",
    "\n",
    "example:\n",
    "\n",
    "```doc       = \"John likes to watch movies. Mary likes movies too.\n",
    "vocabulary = [\"John, \"likes\", \"to\", \"watch\", \"movies\", \"Mary\", \"too\", \"book\"].\n",
    "=> bow = [1, 2, 1, 1, 2, 1, 1, 0].```\n",
    "\n",
    "With this representation we can measure \"distance\" between documents.\n",
    "\n",
    "```The most way to do it is \"cosine similaruty\". For vector v1, and vector v2, we define \"cosine similaruty\" as:```\n",
    "\n",
    "$$similarity(v1, v2) = \\frac{<v1, w2>}{\\lVert v1 \\rVert \\cdot \\lVert v2 \\rVert}$$\n",
    "\n",
    "```And it is the value of``` $cos(\\theta)$, ```where``` $\\theta$ ```is the angle between v1 and v2. (big similarity(v1, v2) means v1 and v2 are close to each other)```\n",
    "\n",
    "(Explanation can be found in: https://en.wikipedia.org/wiki/Cosine_similarity)"
   ]
  },
  {
   "cell_type": "markdown",
   "metadata": {},
   "source": [
    "``Lets make our articles to be in BOW shape:``"
   ]
  },
  {
   "cell_type": "code",
   "execution_count": 4,
   "metadata": {},
   "outputs": [],
   "source": [
    "def clean_words(document):\n",
    "    \n",
    "    doc_strings = document.split(' ')\n",
    "    doc_strings = [i.strip() for i in doc_strings]\n",
    "    doc_strings = [i for i in doc_strings if i != '']\n",
    "    \n",
    "    return doc_strings"
   ]
  },
  {
   "cell_type": "code",
   "execution_count": 5,
   "metadata": {},
   "outputs": [],
   "source": [
    "documents = df['text'].apply(clean_words).tolist()\n",
    "authors = df['author'].values"
   ]
  },
  {
   "cell_type": "markdown",
   "metadata": {},
   "source": [
    "``Lets spit the data into train and test. We remember that the meaning of the train and test is: data we have (train), and data we will see in the future (test).``\n",
    "\n",
    "``Because we have only the train data when we \"learn\", the words we consider for the model are only the words we see in the train.``"
   ]
  },
  {
   "cell_type": "code",
   "execution_count": 6,
   "metadata": {},
   "outputs": [],
   "source": [
    "train_docs, test_docs, train_authors, test_authors = train_test_split(documents, authors)"
   ]
  },
  {
   "cell_type": "code",
   "execution_count": 7,
   "metadata": {},
   "outputs": [],
   "source": [
    "all_words = reduce(operator.iconcat, train_docs, [])\n",
    "vocabulary = np.array(list(set(all_words))) # the vocabulary composed only from the words in the train"
   ]
  },
  {
   "cell_type": "markdown",
   "metadata": {},
   "source": [
    "Now we create vectorizer that given the vocabulary, can turn documents to BOW vectors:"
   ]
  },
  {
   "cell_type": "code",
   "execution_count": 8,
   "metadata": {},
   "outputs": [],
   "source": [
    "def create_document_vectorizer(words):\n",
    "    \n",
    "    indexer = {w:i for i,w in enumerate(words)}\n",
    "    \n",
    "    def vectorizer(document):\n",
    "        N, vocab_size = len(documents), len(words)\n",
    "        vec = np.zeros(vocab_size)\n",
    "        for w in document:\n",
    "            if w in indexer: # if we dont have the word in the vocabulary we not counting it\n",
    "                vec[indexer[w]] += 1\n",
    "        return vec\n",
    "    \n",
    "    return vectorizer"
   ]
  },
  {
   "cell_type": "code",
   "execution_count": 9,
   "metadata": {},
   "outputs": [],
   "source": [
    "vectorizer = create_document_vectorizer(vocabulary)"
   ]
  },
  {
   "cell_type": "code",
   "execution_count": 10,
   "metadata": {},
   "outputs": [
    {
     "name": "stdout",
     "output_type": "stream",
     "text": [
      "train_bow_vectors (21324, 10000)\n",
      "test_bow_vectors (7109, 10000)\n"
     ]
    }
   ],
   "source": [
    "train_bow_vectors = np.vstack([vectorizer(doc) for doc in train_docs])\n",
    "test_bow_vectors = np.vstack([vectorizer(doc) for doc in test_docs])\n",
    "\n",
    "print(\"train_bow_vectors\", train_bow_vectors.shape)\n",
    "print(\"test_bow_vectors\", test_bow_vectors.shape)"
   ]
  },
  {
   "cell_type": "code",
   "execution_count": 17,
   "metadata": {},
   "outputs": [],
   "source": [
    "def pairwise_cosine_similarity(vecs1, vecs2):\n",
    "    \"\"\"\n",
    "    vecs1: N1 x M dim matrix (N1 vectors with dim M)\n",
    "    vecs2: N2 x M dim matrix (N2 vectors with dim M)\n",
    "    \n",
    "    return: N1 x N2 dim matrix \"scores\", where scores[i,j] = cosine_similarity(vecs1[i], vecs2[j])\n",
    "    \"\"\"\n",
    "    \n",
    "    norms_vecs1 = np.linalg.norm(vecs1, axis=1)\n",
    "    norms_vecs2 = np.linalg.norm(vecs2, axis=1)\n",
    "\n",
    "    print(\"norms_vecs1\", norms_vecs1.shape)\n",
    "    print(\"norms_vecs2\", norms_vecs2.shape)\n",
    "\n",
    "    vecs1_normalized = (vecs1.T / norms_vecs1).T\n",
    "    vecs2_normalized = (vecs2.T / norms_vecs2).T\n",
    "    \n",
    "    print(\"vecs1_normalized\", vecs1_normalized.shape)\n",
    "    print(\"vecs2_normalized\", vecs2_normalized.shape)\n",
    "    \n",
    "    scores = vecs1_normalized @ vecs2_normalized.T\n",
    "    print(\"scores\", scores.shape)\n",
    "    \n",
    "    return scores"
   ]
  },
  {
   "cell_type": "markdown",
   "metadata": {},
   "source": [
    "```In order to decise the author of every document in the test, we will calculate the cosine similarity between every doc in the test to every doc in the train.\n",
    "We will say that the author of a document in the test is the author of its \"most similar document in the train\". (highest score)```"
   ]
  },
  {
   "cell_type": "code",
   "execution_count": 18,
   "metadata": {},
   "outputs": [
    {
     "name": "stdout",
     "output_type": "stream",
     "text": [
      "norms_vecs1 (7109,)\n",
      "norms_vecs2 (21324,)\n",
      "vecs1_normalized (7109, 10000)\n",
      "vecs2_normalized (21324, 10000)\n",
      "scores (7109, 21324)\n"
     ]
    }
   ],
   "source": [
    "scores = pairwise_cosine_similarity(test_bow_vectors, train_bow_vectors)"
   ]
  },
  {
   "cell_type": "code",
   "execution_count": 19,
   "metadata": {},
   "outputs": [],
   "source": [
    "predicted_authors = train_authors[scores.argmax(axis=1)]"
   ]
  },
  {
   "cell_type": "code",
   "execution_count": 20,
   "metadata": {},
   "outputs": [
    {
     "name": "stdout",
     "output_type": "stream",
     "text": [
      "accuracy:  0.899845266563511\n"
     ]
    }
   ],
   "source": [
    "print('accuracy: ', np.mean(predicted_authors == test_authors))"
   ]
  },
  {
   "cell_type": "code",
   "execution_count": 21,
   "metadata": {},
   "outputs": [
    {
     "name": "stdout",
     "output_type": "stream",
     "text": [
      "confision matrix:\n"
     ]
    },
    {
     "data": {
      "text/plain": [
       "array([[1549,   22,    6,   13,   11,   16,   16,   20,   31,   26],\n",
       "       [  19,  564,    1,    4,    9,    6,    2,   12,   33,    5],\n",
       "       [  18,    4,  354,    0,    0,    0,   13,    0,    0,   13],\n",
       "       [  18,    2,    2,  476,    1,    9,   12,   27,   14,    5],\n",
       "       [   3,    0,    1,    0, 1103,    0,    1,    0,    0,    0],\n",
       "       [  12,    2,    1,    3,    1,  401,    3,    9,    8,    9],\n",
       "       [  32,    3,   14,    8,    3,    5,  497,    3,    7,   15],\n",
       "       [   8,    1,    0,    9,    0,    0,    1,  570,    9,    3],\n",
       "       [  25,   12,    5,    5,    8,    8,    9,   12,  496,    6],\n",
       "       [  16,    6,    2,    3,    2,    2,   14,    5,    8,  387]],\n",
       "      dtype=int64)"
      ]
     },
     "execution_count": 21,
     "metadata": {},
     "output_type": "execute_result"
    }
   ],
   "source": [
    "print('confision matrix:')\n",
    "confusion_matrix(test_authors, predicted_authors)"
   ]
  },
  {
   "cell_type": "markdown",
   "metadata": {},
   "source": [
    "```Not bad hah? Lets see how can we improve it.```"
   ]
  },
  {
   "cell_type": "markdown",
   "metadata": {},
   "source": [
    "## tf-idf (term frequency–inverse document frequency)\n",
    "\n",
    "wikipedia link: https://en.wikipedia.org/wiki/Tf%E2%80%93idf\n",
    "\n",
    "```Main problem of \"bag of words\" approach (in addition to the lost of \"words order\"), is that we give significant wight to \"stop words.```\n",
    "\n",
    "<b>stop words:</b> ```are the most common words in the language (i.e. it, I, was, to, ...), and they can be found in almost all documents. Therfore, they cannot help us \"distinguish\" between documents, and usualy their value in the BOW vector is very high compared to other words.```\n",
    "\n",
    "```tf-idf come to solve this problem by giving \"score\" to each word that represent: how much this word \"distinguish\" the documents we have.```\n",
    "\n",
    "Say we $N$ documents $\\{doc_1, ..., doc_N\\}$, and vocabulary $\\{w_1, ..., w_M\\}$.\n",
    "\n",
    "We define $n_w$ = \"in how many documents w appears\".\n",
    "\n",
    "Lets define the \"idf\" (inverse document frequency) score for a word $w$ as: $idf(w) = log(\\frac{N}{n_w + 1})$\n",
    "\n",
    "```(low idf value means \"stop word\", and high as distinguishing word)```\n",
    "\n",
    "\n",
    "```We now can improve our BOW representation of some new document by multiplying every value in the BOW vector with the corresponting idf score\n",
    "(td-idf[i] = bow[i]*idf[i]), and get tf-idf representation.```\n",
    "\n",
    "\n",
    "\n",
    "<b>Remark:</b>\n",
    "\n",
    "```The training process of this tf-idf \"model\" is the calculation of the idf scores.\n",
    "(And there are more ways to calculate idf scores)```"
   ]
  },
  {
   "cell_type": "code",
   "execution_count": 24,
   "metadata": {},
   "outputs": [],
   "source": [
    "def culc_idf_scores(bow_vectors):\n",
    "    \"\"\"\n",
    "    bow_vectors: matrix of shape (num documents x vocabulary size)\n",
    "    \n",
    "    return: idf score for every word in the vocabulary\n",
    "    \"\"\"\n",
    "    \n",
    "    n_w = np.sum(bow_vectors!=0, axis=0)\n",
    "    idf = np.log(bow_vectors.shape[0]/(n_w+1))\n",
    "    \n",
    "    return idf"
   ]
  },
  {
   "cell_type": "code",
   "execution_count": 25,
   "metadata": {},
   "outputs": [],
   "source": [
    "idf = culc_idf_scores(train_bow_vectors)"
   ]
  },
  {
   "cell_type": "markdown",
   "metadata": {},
   "source": [
    "```Lets see which words got low scores:```"
   ]
  },
  {
   "cell_type": "code",
   "execution_count": 26,
   "metadata": {},
   "outputs": [
    {
     "data": {
      "text/plain": [
       "array(['a', 'to', 'in', 'the', 'and', 'of', 'for', 'it', 'that', 'with',\n",
       "       'as', 'on', 'at', 'but', 'not', 'be', 'by', 'all', 'was', 's', 'Γ',\n",
       "       'he', 'from', 'his', 'this', 'have', 'i', 'no', 'so', 'had', 'is',\n",
       "       'one', 'an', 'which', 'or', 'there', 'were', 'when', 'they', 'if',\n",
       "       'been', 'him', 'more', 'what', 'would', 'who', 'out', 'than',\n",
       "       'into', 'them'], dtype='<U16')"
      ]
     },
     "execution_count": 26,
     "metadata": {},
     "output_type": "execute_result"
    }
   ],
   "source": [
    "vocabulary[np.argsort(idf)[:50]]"
   ]
  },
  {
   "cell_type": "markdown",
   "metadata": {},
   "source": [
    "```Lets see which words got high scores:```"
   ]
  },
  {
   "cell_type": "code",
   "execution_count": 27,
   "metadata": {},
   "outputs": [
    {
     "data": {
      "text/plain": [
       "array(['definitely', 'mattered', 'annoy', 'victoria', 'tinted', 'draped',\n",
       "       'risked', 'ordeal', 'photographs', 'tipped', 'balcony', 'scant',\n",
       "       'cracks', 'arouse', 'overtook', 'cowardice', 'chasing', 'overcoat',\n",
       "       'galloped', 'xxx', 'overgrown', 'comments', 'spire', 'links',\n",
       "       'prefers', 'photograph', 'slips', 'leafy', 'confidences',\n",
       "       'outbreak', 'splendidly', 'selecting', 'tinged', 'typical',\n",
       "       'propped', 'laboriously', 'distasteful', 'richness', 'hymns',\n",
       "       'invest', 'greetings', 'permitting', 'gust', 'occupants', 'oval',\n",
       "       'willow', 'cope', 'illusions', 'shaven', 'gaudy'], dtype='<U16')"
      ]
     },
     "execution_count": 27,
     "metadata": {},
     "output_type": "execute_result"
    }
   ],
   "source": [
    "vocabulary[np.argsort(idf)[::-1][:50]]"
   ]
  },
  {
   "cell_type": "code",
   "execution_count": 28,
   "metadata": {},
   "outputs": [],
   "source": [
    "train_tfidf_vectors = train_bow_vectors * idf\n",
    "test_tfidf_vectors  = test_bow_vectors * idf"
   ]
  },
  {
   "cell_type": "code",
   "execution_count": 29,
   "metadata": {},
   "outputs": [
    {
     "name": "stdout",
     "output_type": "stream",
     "text": [
      "norms_vecs1 (7109,)\n",
      "norms_vecs2 (21324,)\n",
      "vecs1_normalized (7109, 10000)\n",
      "vecs2_normalized (21324, 10000)\n",
      "scores (7109, 21324)\n"
     ]
    }
   ],
   "source": [
    "scores = pairwise_cosine_similarity(test_tfidf_vectors, train_tfidf_vectors)"
   ]
  },
  {
   "cell_type": "code",
   "execution_count": 30,
   "metadata": {},
   "outputs": [],
   "source": [
    "predicted_authors = train_authors[scores.argmax(axis=1)]"
   ]
  },
  {
   "cell_type": "code",
   "execution_count": 31,
   "metadata": {},
   "outputs": [
    {
     "name": "stdout",
     "output_type": "stream",
     "text": [
      "accuracy:  0.9518919679279786\n"
     ]
    }
   ],
   "source": [
    "print('accuracy: ', np.mean(predicted_authors == test_authors))"
   ]
  },
  {
   "cell_type": "code",
   "execution_count": 32,
   "metadata": {},
   "outputs": [
    {
     "name": "stdout",
     "output_type": "stream",
     "text": [
      "confision matrix:\n"
     ]
    },
    {
     "data": {
      "text/plain": [
       "array([[1663,    4,    7,    1,    7,    7,    4,    7,    6,    4],\n",
       "       [  19,  611,    0,    0,    8,    2,    2,    3,    3,    7],\n",
       "       [   2,    0,  381,    4,    0,    0,    5,    1,    1,    8],\n",
       "       [   6,    0,    6,  530,    0,    6,    2,    9,    7,    0],\n",
       "       [   0,    0,    0,    0, 1104,    0,    0,    1,    0,    3],\n",
       "       [   9,   10,    2,    4,    3,  407,    2,    2,    9,    1],\n",
       "       [   8,    7,    6,    4,    2,    5,  532,    0,   21,    2],\n",
       "       [   2,    0,    0,    3,    0,    2,    0,  590,    1,    3],\n",
       "       [  12,    2,    8,    4,    7,    2,    3,    5,  542,    1],\n",
       "       [   9,    0,    8,    1,    1,    3,    8,    4,    4,  407]],\n",
       "      dtype=int64)"
      ]
     },
     "execution_count": 32,
     "metadata": {},
     "output_type": "execute_result"
    }
   ],
   "source": [
    "print('confision matrix:')\n",
    "confusion_matrix(test_authors, predicted_authors)"
   ]
  },
  {
   "cell_type": "markdown",
   "metadata": {},
   "source": [
    "## Bonus"
   ]
  },
  {
   "cell_type": "markdown",
   "metadata": {},
   "source": [
    "```Make a vector for every author, as the mean of all his tf-idf vectors in the train.\n",
    "Try to compare the test tf-idf vectors only to those vectors now instead of all the vectors.\n",
    "How the accuracy now? how is the computation time?```"
   ]
  },
  {
   "cell_type": "code",
   "execution_count": 48,
   "metadata": {},
   "outputs": [
    {
     "name": "stdout",
     "output_type": "stream",
     "text": [
      "norms_vecs1 (7109,)\n",
      "norms_vecs2 (10,)\n",
      "vecs1_normalized (7109, 10000)\n",
      "vecs2_normalized (10, 10000)\n",
      "scores (7109, 10)\n",
      "accuracy:  0.8641159094106062\n"
     ]
    },
    {
     "data": {
      "text/plain": [
       "array([[1491,   39,    3,   24,   17,   27,   42,    6,   42,   19],\n",
       "       [  39,  507,    2,    2,   13,   17,   15,    1,   22,   37],\n",
       "       [   2,    0,  276,   16,    0,    0,   97,    0,    4,    7],\n",
       "       [   6,    3,   14,  464,    0,   20,   40,    9,    5,    5],\n",
       "       [   0,   11,    0,    0, 1082,    0,    2,    0,    4,    9],\n",
       "       [   5,    0,    4,    1,    1,  423,    7,    5,    1,    2],\n",
       "       [   2,    0,   39,    4,    0,    9,  516,    3,   10,    4],\n",
       "       [  20,    2,    1,   15,    2,    6,    2,  537,   16,    0],\n",
       "       [   7,   13,    0,    0,    1,    9,   55,    9,  492,    0],\n",
       "       [  13,    2,    5,    2,    1,    6,   37,    0,   24,  355]],\n",
       "      dtype=int64)"
      ]
     },
     "execution_count": 48,
     "metadata": {},
     "output_type": "execute_result"
    }
   ],
   "source": [
    "list_authors = np.unique(train_authors)\n",
    "N = train_tfidf_vectors.shape[0]\n",
    "count_test = 0\n",
    "list_tfidf_autors = []\n",
    "\n",
    "for author in list_authors:\n",
    "    tfidf_author = train_tfidf_vectors[train_authors==author]\n",
    "    count_test += tfidf_author.shape[0]\n",
    "    \n",
    "    mean_tfidf_author = np.mean(tfidf_author, axis=0)\n",
    "    list_tfidf_autors.append(mean_tfidf_author)\n",
    "\n",
    "all_mean_tfidf_author = np.stack(list_tfidf_autors)\n",
    "assert count_test == N\n",
    "\n",
    "scores = pairwise_cosine_similarity(test_tfidf_vectors, all_mean_tfidf_author)\n",
    "predicted_authors = list_authors[scores.argmax(axis=1)]\n",
    "\n",
    "print('accuracy: ', np.mean(predicted_authors == test_authors))\n",
    "confusion_matrix(test_authors, predicted_authors)"
   ]
  },
  {
   "cell_type": "markdown",
   "metadata": {},
   "source": [
    "```Now do the same, but instead of the one \"mean\" vector for each author, find 3 vectors for each author as the cluster centers of KMeans(k=3) on his train tf-idf vectors. (try low n_init to reduce run time)\n",
    "Is it more helpful?```"
   ]
  },
  {
   "cell_type": "code",
   "execution_count": 50,
   "metadata": {},
   "outputs": [
    {
     "name": "stdout",
     "output_type": "stream",
     "text": [
      "all_mean_tfidf_author (30, 10000)\n",
      "norms_vecs1 (7109,)\n",
      "norms_vecs2 (30,)\n",
      "vecs1_normalized (7109, 10000)\n",
      "vecs2_normalized (30, 10000)\n",
      "scores (7109, 30)\n",
      "accuracy:  0.8991419327612885\n"
     ]
    },
    {
     "data": {
      "text/plain": [
       "array([[1513,   52,   15,   12,   39,   12,   19,    4,   17,   27],\n",
       "       [  20,  594,    1,    3,    2,   12,   14,    1,    8,    0],\n",
       "       [   1,    0,  325,    0,    0,    0,   55,    0,    7,   14],\n",
       "       [   9,    6,   31,  459,    0,   12,   21,   14,    9,    5],\n",
       "       [   4,    1,    0,    0, 1077,    0,    0,    0,    2,   24],\n",
       "       [   4,    0,    3,    2,    0,  422,    8,    4,    4,    2],\n",
       "       [   3,    1,   21,    4,    0,   11,  499,    1,   39,    8],\n",
       "       [  10,    4,    0,   12,    0,    5,    2,  560,    8,    0],\n",
       "       [   4,    2,    0,    1,    9,    7,    8,    2,  549,    4],\n",
       "       [  12,    3,   11,    0,    1,    2,   12,    0,   10,  394]],\n",
       "      dtype=int64)"
      ]
     },
     "execution_count": 50,
     "metadata": {},
     "output_type": "execute_result"
    }
   ],
   "source": [
    "from sklearn.cluster import KMeans\n",
    "\n",
    "list_authors = np.unique(train_authors)\n",
    "K = 3\n",
    "N = train_tfidf_vectors.shape[0]\n",
    "count_test = 0\n",
    "list_tfidf_autors = []\n",
    "\n",
    "for author in list_authors:\n",
    "    tfidf_author = train_tfidf_vectors[train_authors==author]\n",
    "    count_test += tfidf_author.shape[0]\n",
    "    \n",
    "    kmeans = KMeans(n_clusters=K, n_init=3).fit(tfidf_author)\n",
    "    clusters = kmeans.cluster_centers_\n",
    "    list_tfidf_autors += list(clusters)\n",
    "\n",
    "all_mean_tfidf_author = np.stack(list_tfidf_autors)\n",
    "list_authors = np.repeat(list_authors, K)\n",
    "assert count_test == N\n",
    "\n",
    "print(\"all_mean_tfidf_author\", all_mean_tfidf_author.shape)\n",
    "\n",
    "scores = pairwise_cosine_similarity(test_tfidf_vectors, all_mean_tfidf_author)\n",
    "predicted_authors = list_authors[scores.argmax(axis=1)]\n",
    "\n",
    "print('accuracy: ', np.mean(predicted_authors == test_authors))\n",
    "confusion_matrix(test_authors, predicted_authors)"
   ]
  },
  {
   "cell_type": "code",
   "execution_count": null,
   "metadata": {},
   "outputs": [],
   "source": []
  }
 ],
 "metadata": {
  "kernelspec": {
   "display_name": "Python 3",
   "language": "python",
   "name": "python3"
  },
  "language_info": {
   "codemirror_mode": {
    "name": "ipython",
    "version": 3
   },
   "file_extension": ".py",
   "mimetype": "text/x-python",
   "name": "python",
   "nbconvert_exporter": "python",
   "pygments_lexer": "ipython3",
   "version": "3.8.5"
  }
 },
 "nbformat": 4,
 "nbformat_minor": 2
}
