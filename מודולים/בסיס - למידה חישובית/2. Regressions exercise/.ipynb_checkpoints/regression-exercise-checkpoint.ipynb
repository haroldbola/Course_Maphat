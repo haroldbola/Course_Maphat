{
 "cells": [
  {
   "cell_type": "markdown",
   "metadata": {},
   "source": [
    "# Regression research\n",
    "```In this exercise you are asked to examine 3 different regression algorithms: ridge regression, KnnRegressor and XGBRegressor.\n",
    "You will use data that includes houses features and their sale prices. Try experimenting with different subsets of features. Also, see what simple features you can add.\n",
    "Try the different algorithms with different parameters and answer the following questions:```\n",
    "- ```For each algorithm, how sensitive it is to its different parameters?```\n",
    "- ```Which algorithm fits best for the purpose?```\n",
    "- ```what are the advantages and disadvantages of each algorithm?```\n",
    "\n",
    "```Use the files houses_train.csv and houses_test.csv to train and evaluate your models.```\n",
    "\n",
    "```A few remarks:```\n",
    "- ```The purpose of the exercise is comparing different regressors, so don't delay on too much over feature extraction.```\n",
    "- ```You can find implementations of the algorithms in sklearn and in xgboost.```\n",
    "\n",
    "~```Ittai Haran```"
   ]
  },
  {
   "cell_type": "code",
   "execution_count": null,
   "metadata": {
    "collapsed": true
   },
   "outputs": [],
   "source": []
  }
 ],
 "metadata": {
  "kernelspec": {
   "display_name": ".python3_ittai",
   "language": "python",
   "name": ".python3_ittai"
  },
  "language_info": {
   "codemirror_mode": {
    "name": "ipython",
    "version": 2
   },
   "file_extension": ".py",
   "mimetype": "text/x-python",
   "name": "python",
   "nbconvert_exporter": "python",
   "pygments_lexer": "ipython2",
   "version": "2.7.13"
  }
 },
 "nbformat": 4,
 "nbformat_minor": 2
}
