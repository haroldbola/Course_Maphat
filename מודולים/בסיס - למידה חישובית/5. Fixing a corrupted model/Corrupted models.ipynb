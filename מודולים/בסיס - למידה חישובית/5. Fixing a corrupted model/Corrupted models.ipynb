{
 "cells": [
  {
   "cell_type": "markdown",
   "metadata": {},
   "source": [
    "# Fixing a Corrupted Model\n",
    "```In this exercise you will experience with \"debugging\" a model. You will analyze the datasets and the differences between them and the problems in the training process of the model.```"
   ]
  },
  {
   "cell_type": "code",
   "execution_count": 1,
   "metadata": {
    "ExecuteTime": {
     "end_time": "2018-05-06T12:24:38.261784Z",
     "start_time": "2018-05-06T12:24:38.253689Z"
    },
    "collapsed": true
   },
   "outputs": [],
   "source": [
    "import pandas as pd\n",
    "import numpy as np\n",
    "from sklearn.metrics import mean_absolute_error\n",
    "import matplotlib.pyplot as plt\n",
    "%matplotlib inline\n",
    "import seaborn as sns\n",
    "plt.rcParams['figure.figsize'] = 12,7"
   ]
  },
  {
   "cell_type": "markdown",
   "metadata": {},
   "source": [
    "```Here you will explore a trained model and see where, and more interestingly, why, it fails.```\n",
    "\n",
    "- ```Completion Rate (CR) is the the percentage of orders that were completed successfully. You have a model that predicts this measurement in Kazan, a city in Russia```\n",
    "- ```Attached to this notebook are two files: `train.csv` and `test.csv` ```\n",
    "- ```A model to predict CR (`cr_guas`) was trained on `train.csv` (`DataAnalyst-Model.ipynb`) and saved into `model.pkl` ```\n",
    "- ```Your task is to analyze the model results and find out if there are any issues with it```\n",
    "- ```Please answer the questions below```\n",
    "- ```Provide proofs in the form of statistics and plots```\n",
    "- ```Write your own conclusion about the results and your suggestions for a solution```\n",
    "- ```There are at least two major problems, and some other minor problems```"
   ]
  },
  {
   "cell_type": "markdown",
   "metadata": {
    "ExecuteTime": {
     "end_time": "2018-05-02T13:04:22.280669Z",
     "start_time": "2018-05-02T13:04:17.139952Z"
    }
   },
   "source": [
    "# Load Data"
   ]
  },
  {
   "cell_type": "code",
   "execution_count": 59,
   "metadata": {
    "ExecuteTime": {
     "end_time": "2018-05-06T12:24:41.434547Z",
     "start_time": "2018-05-06T12:24:40.961447Z"
    },
    "collapsed": true
   },
   "outputs": [],
   "source": [
    "df_train = pd.read_csv('resources/train.csv', encoding='utf-8')\n",
    "df_test = pd.read_csv('resources/test.csv', encoding='utf-8')"
   ]
  },
  {
   "cell_type": "code",
   "execution_count": 60,
   "metadata": {
    "ExecuteTime": {
     "end_time": "2018-05-06T12:24:42.066714Z",
     "start_time": "2018-05-06T12:24:42.029298Z"
    }
   },
   "outputs": [
    {
     "data": {
      "text/html": [
       "<div>\n",
       "<style>\n",
       "    .dataframe thead tr:only-child th {\n",
       "        text-align: right;\n",
       "    }\n",
       "\n",
       "    .dataframe thead th {\n",
       "        text-align: left;\n",
       "    }\n",
       "\n",
       "    .dataframe tbody tr th {\n",
       "        vertical-align: top;\n",
       "    }\n",
       "</style>\n",
       "<table border=\"1\" class=\"dataframe\">\n",
       "  <thead>\n",
       "    <tr style=\"text-align: right;\">\n",
       "      <th></th>\n",
       "      <th>sample_t</th>\n",
       "      <th>area</th>\n",
       "      <th>weekday</th>\n",
       "      <th>weekdaycat</th>\n",
       "      <th>hour</th>\n",
       "      <th>hourcat</th>\n",
       "      <th>cos604800</th>\n",
       "      <th>sin604800</th>\n",
       "      <th>cr_weight</th>\n",
       "      <th>cr_gaus</th>\n",
       "      <th>cr_mean</th>\n",
       "    </tr>\n",
       "  </thead>\n",
       "  <tbody>\n",
       "    <tr>\n",
       "      <th>73681</th>\n",
       "      <td>1522256700</td>\n",
       "      <td>Kazan улица Воровского</td>\n",
       "      <td>2.711806</td>\n",
       "      <td>NaN</td>\n",
       "      <td>17.083333</td>\n",
       "      <td>17</td>\n",
       "      <td>0.966728</td>\n",
       "      <td>-0.255807</td>\n",
       "      <td>0.629354</td>\n",
       "      <td>1.00000</td>\n",
       "      <td>0.628231</td>\n",
       "    </tr>\n",
       "    <tr>\n",
       "      <th>4834</th>\n",
       "      <td>1521120600</td>\n",
       "      <td>Kazan улица Патриса Лумумбы</td>\n",
       "      <td>3.562500</td>\n",
       "      <td>NaN</td>\n",
       "      <td>13.500000</td>\n",
       "      <td>13</td>\n",
       "      <td>0.875223</td>\n",
       "      <td>0.483719</td>\n",
       "      <td>22.786867</td>\n",
       "      <td>0.77061</td>\n",
       "      <td>0.572180</td>\n",
       "    </tr>\n",
       "    <tr>\n",
       "      <th>101505</th>\n",
       "      <td>1522395000</td>\n",
       "      <td>Kazan проспект Фатыха Амирхана</td>\n",
       "      <td>4.312500</td>\n",
       "      <td>NaN</td>\n",
       "      <td>7.500000</td>\n",
       "      <td>7</td>\n",
       "      <td>0.382683</td>\n",
       "      <td>0.923880</td>\n",
       "      <td>23.267983</td>\n",
       "      <td>0.93160</td>\n",
       "      <td>0.830634</td>\n",
       "    </tr>\n",
       "    <tr>\n",
       "      <th>51801</th>\n",
       "      <td>1520789100</td>\n",
       "      <td>Kazan Сибирский Tракт 2</td>\n",
       "      <td>6.725694</td>\n",
       "      <td>NaN</td>\n",
       "      <td>17.416667</td>\n",
       "      <td>17</td>\n",
       "      <td>-0.979550</td>\n",
       "      <td>-0.201200</td>\n",
       "      <td>7.306992</td>\n",
       "      <td>0.46454</td>\n",
       "      <td>0.386830</td>\n",
       "    </tr>\n",
       "    <tr>\n",
       "      <th>21392</th>\n",
       "      <td>1521093600</td>\n",
       "      <td>Kazan Аэропорт Казань</td>\n",
       "      <td>3.250000</td>\n",
       "      <td>6.0</td>\n",
       "      <td>6.000000</td>\n",
       "      <td>6</td>\n",
       "      <td>0.974928</td>\n",
       "      <td>0.222521</td>\n",
       "      <td>0.619839</td>\n",
       "      <td>1.00000</td>\n",
       "      <td>0.939975</td>\n",
       "    </tr>\n",
       "  </tbody>\n",
       "</table>\n",
       "</div>"
      ],
      "text/plain": [
       "          sample_t                            area   weekday  weekdaycat  \\\n",
       "73681   1522256700          Kazan улица Воровского  2.711806         NaN   \n",
       "4834    1521120600     Kazan улица Патриса Лумумбы  3.562500         NaN   \n",
       "101505  1522395000  Kazan проспект Фатыха Амирхана  4.312500         NaN   \n",
       "51801   1520789100         Kazan Сибирский Tракт 2  6.725694         NaN   \n",
       "21392   1521093600           Kazan Аэропорт Казань  3.250000         6.0   \n",
       "\n",
       "             hour  hourcat  cos604800  sin604800  cr_weight  cr_gaus   cr_mean  \n",
       "73681   17.083333       17   0.966728  -0.255807   0.629354  1.00000  0.628231  \n",
       "4834    13.500000       13   0.875223   0.483719  22.786867  0.77061  0.572180  \n",
       "101505   7.500000        7   0.382683   0.923880  23.267983  0.93160  0.830634  \n",
       "51801   17.416667       17  -0.979550  -0.201200   7.306992  0.46454  0.386830  \n",
       "21392    6.000000        6   0.974928   0.222521   0.619839  1.00000  0.939975  "
      ]
     },
     "execution_count": 60,
     "metadata": {},
     "output_type": "execute_result"
    }
   ],
   "source": [
    "df_train.sample(5)"
   ]
  },
  {
   "cell_type": "markdown",
   "metadata": {},
   "source": [
    "# Load model"
   ]
  },
  {
   "cell_type": "code",
   "execution_count": 4,
   "metadata": {
    "ExecuteTime": {
     "end_time": "2018-05-06T12:25:12.125996Z",
     "start_time": "2018-05-06T12:25:12.082894Z"
    },
    "collapsed": true
   },
   "outputs": [],
   "source": [
    "from lightgbm import LGBMRegressor\n",
    "from sklearn.externals import joblib"
   ]
  },
  {
   "cell_type": "code",
   "execution_count": 5,
   "metadata": {
    "ExecuteTime": {
     "end_time": "2018-05-06T12:25:14.581284Z",
     "start_time": "2018-05-06T12:25:14.558168Z"
    }
   },
   "outputs": [],
   "source": [
    "lgb = joblib.load('resources/model.pkl')"
   ]
  },
  {
   "cell_type": "code",
   "execution_count": 6,
   "metadata": {
    "ExecuteTime": {
     "end_time": "2018-05-06T12:25:15.665316Z",
     "start_time": "2018-05-06T12:25:15.652662Z"
    }
   },
   "outputs": [
    {
     "data": {
      "text/plain": [
       "[u'area',\n",
       " u'weekday',\n",
       " u'weekdaycat',\n",
       " u'hour',\n",
       " u'hourcat',\n",
       " u'cos604800',\n",
       " u'sin604800',\n",
       " u'cr_mean']"
      ]
     },
     "execution_count": 6,
     "metadata": {},
     "output_type": "execute_result"
    }
   ],
   "source": [
    "features = lgb.booster_.feature_name()\n",
    "features"
   ]
  },
  {
   "cell_type": "code",
   "execution_count": 61,
   "metadata": {
    "collapsed": true
   },
   "outputs": [],
   "source": [
    "df_train['area'] = df_train['area'].astype('category')\n",
    "df_train['weekdaycat'] = df_train['weekdaycat'].astype('category')\n",
    "df_train['hourcat'] = df_train['hourcat'].astype('category')\n",
    "\n",
    "df_test['area'] = df_test['area'].astype(df_train['area'].dtype)\n",
    "df_test['weekdaycat'] = df_test['weekdaycat'].astype(df_train['weekdaycat'].dtype)\n",
    "df_test['hourcat'] = df_test['hourcat'].astype(df_train['hourcat'].dtype)"
   ]
  },
  {
   "cell_type": "code",
   "execution_count": 62,
   "metadata": {
    "ExecuteTime": {
     "end_time": "2018-05-06T12:25:18.943148Z",
     "start_time": "2018-05-06T12:25:18.869213Z"
    },
    "collapsed": true
   },
   "outputs": [],
   "source": [
    "df_train['cr_pred'] = lgb.predict(df_train[features])\n",
    "df_test['cr_pred'] = lgb.predict(df_test[features])"
   ]
  },
  {
   "cell_type": "markdown",
   "metadata": {
    "ExecuteTime": {
     "end_time": "2018-05-03T08:57:50.693063Z",
     "start_time": "2018-05-03T08:57:49.907152Z"
    }
   },
   "source": [
    "# Results"
   ]
  },
  {
   "cell_type": "markdown",
   "metadata": {},
   "source": [
    "```Please analyze and compare the MAE of the predictions```\n",
    "\n",
    "1. ```Is there any difference between train\\test? Why?```\n",
    "2. ```Is there any difference between areas? If so, why?```\n",
    "3. ```The PM still thinks there is a problem with our prediction... I can't find any problem, Can you? Find as many as you can!```\n",
    "\n",
    "**Don't forget your plots**"
   ]
  },
  {
   "cell_type": "code",
   "execution_count": null,
   "metadata": {},
   "outputs": [],
   "source": []
  }
 ],
 "metadata": {
  "kernelspec": {
   "display_name": "Python 3",
   "language": "python",
   "name": "python3"
  },
  "language_info": {
   "codemirror_mode": {
    "name": "ipython",
    "version": 3
   },
   "file_extension": ".py",
   "mimetype": "text/x-python",
   "name": "python",
   "nbconvert_exporter": "python",
   "pygments_lexer": "ipython3",
   "version": "3.5.5"
  }
 },
 "nbformat": 4,
 "nbformat_minor": 2
}
