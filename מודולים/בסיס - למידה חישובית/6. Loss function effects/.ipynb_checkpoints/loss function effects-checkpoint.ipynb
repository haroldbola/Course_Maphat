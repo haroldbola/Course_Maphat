{
 "cells": [
  {
   "cell_type": "markdown",
   "metadata": {},
   "source": [
    "```Good morning, gent!\n",
    "The year is 1945. The British forces are about to wipe out the Nazis, once and for all.\n",
    "You are a young enthusiast meteorologist, and you are about to give the Great British Empire its victory!\n",
    "At your disposal is the Royal Dataset of Measurements from forecasting stations around the globe. Measurements are taken each morning and each noon. Since we are British, we don't believe in surprise attacks. Leave that rubbish for the barbarians. Instead, we spend each morning preparing for the battle, and attack the bloody Nazis by noon, like gentlemen. Hence, it is of utter importance that you can forecast the temperatures at noon each day.\n",
    "Are you ready for the mission? Are you ready to destroy the Nazis?```\n",
    "\n",
    "```~Ittai Haran```"
   ]
  },
  {
   "cell_type": "code",
   "execution_count": 1,
   "metadata": {},
   "outputs": [],
   "source": [
    "import numpy as np\n",
    "import pandas as pd\n",
    "import matplotlib.pyplot as plt\n",
    "%matplotlib inline"
   ]
  },
  {
   "cell_type": "markdown",
   "metadata": {},
   "source": [
    "```Start by reading the Royal Dataset of Measurements. Also at your disposal is the data_weather_station_locations dataset. As a former meteorologist myself, I suggest you merge it into your measurements dataset.\n",
    "Split your data properly (remember that the British army wants to keep its time travel abilities in secret for a little longer). Split it such that you have 70% of the data in your training segment.\n",
    "Do you have missing values in your dataset? or any categorical values? deal with them with care.```"
   ]
  },
  {
   "cell_type": "code",
   "execution_count": 2,
   "metadata": {},
   "outputs": [
    {
     "name": "stdout",
     "output_type": "stream",
     "text": [
      "(116582, 11)\n"
     ]
    },
    {
     "data": {
      "text/html": [
       "<div>\n",
       "<style scoped>\n",
       "    .dataframe tbody tr th:only-of-type {\n",
       "        vertical-align: middle;\n",
       "    }\n",
       "\n",
       "    .dataframe tbody tr th {\n",
       "        vertical-align: top;\n",
       "    }\n",
       "\n",
       "    .dataframe thead th {\n",
       "        text-align: right;\n",
       "    }\n",
       "</style>\n",
       "<table border=\"1\" class=\"dataframe\">\n",
       "  <thead>\n",
       "    <tr style=\"text-align: right;\">\n",
       "      <th></th>\n",
       "      <th>STA</th>\n",
       "      <th>Date</th>\n",
       "      <th>Precip</th>\n",
       "      <th>MorningTemp</th>\n",
       "      <th>Snowfall</th>\n",
       "      <th>YR</th>\n",
       "      <th>MO</th>\n",
       "      <th>DA</th>\n",
       "      <th>PRCP</th>\n",
       "      <th>SNF</th>\n",
       "      <th>MiddayTemp</th>\n",
       "    </tr>\n",
       "  </thead>\n",
       "  <tbody>\n",
       "    <tr>\n",
       "      <th>0</th>\n",
       "      <td>31401</td>\n",
       "      <td>1945-5-22</td>\n",
       "      <td>0.000</td>\n",
       "      <td>25.555556</td>\n",
       "      <td>0.0</td>\n",
       "      <td>45</td>\n",
       "      <td>5</td>\n",
       "      <td>22</td>\n",
       "      <td>0.00</td>\n",
       "      <td>0.0</td>\n",
       "      <td>35.000000</td>\n",
       "    </tr>\n",
       "    <tr>\n",
       "      <th>1</th>\n",
       "      <td>34104</td>\n",
       "      <td>1944-12-22</td>\n",
       "      <td>3.048</td>\n",
       "      <td>3.888889</td>\n",
       "      <td>0.0</td>\n",
       "      <td>44</td>\n",
       "      <td>12</td>\n",
       "      <td>22</td>\n",
       "      <td>0.12</td>\n",
       "      <td>0.0</td>\n",
       "      <td>7.777778</td>\n",
       "    </tr>\n",
       "    <tr>\n",
       "      <th>2</th>\n",
       "      <td>13201</td>\n",
       "      <td>1944-7-17</td>\n",
       "      <td>0.000</td>\n",
       "      <td>15.555556</td>\n",
       "      <td>0.0</td>\n",
       "      <td>44</td>\n",
       "      <td>7</td>\n",
       "      <td>17</td>\n",
       "      <td>0.00</td>\n",
       "      <td>0.0</td>\n",
       "      <td>23.333333</td>\n",
       "    </tr>\n",
       "    <tr>\n",
       "      <th>3</th>\n",
       "      <td>32805</td>\n",
       "      <td>1944-8-18</td>\n",
       "      <td>0.254</td>\n",
       "      <td>27.777778</td>\n",
       "      <td>0.0</td>\n",
       "      <td>44</td>\n",
       "      <td>8</td>\n",
       "      <td>18</td>\n",
       "      <td>0.01</td>\n",
       "      <td>0.0</td>\n",
       "      <td>36.111111</td>\n",
       "    </tr>\n",
       "    <tr>\n",
       "      <th>4</th>\n",
       "      <td>50401</td>\n",
       "      <td>1945-3-21</td>\n",
       "      <td>4.572</td>\n",
       "      <td>23.888889</td>\n",
       "      <td>0.0</td>\n",
       "      <td>45</td>\n",
       "      <td>3</td>\n",
       "      <td>21</td>\n",
       "      <td>0.18</td>\n",
       "      <td>0.0</td>\n",
       "      <td>29.444444</td>\n",
       "    </tr>\n",
       "  </tbody>\n",
       "</table>\n",
       "</div>"
      ],
      "text/plain": [
       "     STA        Date  Precip  MorningTemp  Snowfall  YR  MO  DA  PRCP  SNF  \\\n",
       "0  31401   1945-5-22   0.000    25.555556       0.0  45   5  22  0.00  0.0   \n",
       "1  34104  1944-12-22   3.048     3.888889       0.0  44  12  22  0.12  0.0   \n",
       "2  13201   1944-7-17   0.000    15.555556       0.0  44   7  17  0.00  0.0   \n",
       "3  32805   1944-8-18   0.254    27.777778       0.0  44   8  18  0.01  0.0   \n",
       "4  50401   1945-3-21   4.572    23.888889       0.0  45   3  21  0.18  0.0   \n",
       "\n",
       "   MiddayTemp  \n",
       "0   35.000000  \n",
       "1    7.777778  \n",
       "2   23.333333  \n",
       "3   36.111111  \n",
       "4   29.444444  "
      ]
     },
     "execution_count": 2,
     "metadata": {},
     "output_type": "execute_result"
    }
   ],
   "source": [
    "df_royal = pd.read_csv(\"data/Royal_Dataset_of_Measurements.csv\")\n",
    "print(df_royal.shape)\n",
    "\n",
    "df_royal.head()"
   ]
  },
  {
   "cell_type": "code",
   "execution_count": 3,
   "metadata": {},
   "outputs": [
    {
     "name": "stdout",
     "output_type": "stream",
     "text": [
      "(161, 5)\n"
     ]
    },
    {
     "data": {
      "text/html": [
       "<div>\n",
       "<style scoped>\n",
       "    .dataframe tbody tr th:only-of-type {\n",
       "        vertical-align: middle;\n",
       "    }\n",
       "\n",
       "    .dataframe tbody tr th {\n",
       "        vertical-align: top;\n",
       "    }\n",
       "\n",
       "    .dataframe thead th {\n",
       "        text-align: right;\n",
       "    }\n",
       "</style>\n",
       "<table border=\"1\" class=\"dataframe\">\n",
       "  <thead>\n",
       "    <tr style=\"text-align: right;\">\n",
       "      <th></th>\n",
       "      <th>STA</th>\n",
       "      <th>STATE/COUNTRY ID</th>\n",
       "      <th>ELEV</th>\n",
       "      <th>Longitude</th>\n",
       "      <th>Latitude</th>\n",
       "    </tr>\n",
       "  </thead>\n",
       "  <tbody>\n",
       "    <tr>\n",
       "      <th>0</th>\n",
       "      <td>33013</td>\n",
       "      <td>AL</td>\n",
       "      <td>611</td>\n",
       "      <td>36.383333</td>\n",
       "      <td>6.650000</td>\n",
       "    </tr>\n",
       "    <tr>\n",
       "      <th>1</th>\n",
       "      <td>33031</td>\n",
       "      <td>AL</td>\n",
       "      <td>88</td>\n",
       "      <td>35.616667</td>\n",
       "      <td>0.583333</td>\n",
       "    </tr>\n",
       "    <tr>\n",
       "      <th>2</th>\n",
       "      <td>33023</td>\n",
       "      <td>AL</td>\n",
       "      <td>23</td>\n",
       "      <td>36.716667</td>\n",
       "      <td>3.216667</td>\n",
       "    </tr>\n",
       "    <tr>\n",
       "      <th>3</th>\n",
       "      <td>33044</td>\n",
       "      <td>AL</td>\n",
       "      <td>754</td>\n",
       "      <td>36.116667</td>\n",
       "      <td>6.416667</td>\n",
       "    </tr>\n",
       "    <tr>\n",
       "      <th>4</th>\n",
       "      <td>12001</td>\n",
       "      <td>AL</td>\n",
       "      <td>443</td>\n",
       "      <td>27.683333</td>\n",
       "      <td>-8.083333</td>\n",
       "    </tr>\n",
       "  </tbody>\n",
       "</table>\n",
       "</div>"
      ],
      "text/plain": [
       "     STA STATE/COUNTRY ID  ELEV  Longitude  Latitude\n",
       "0  33013               AL   611  36.383333  6.650000\n",
       "1  33031               AL    88  35.616667  0.583333\n",
       "2  33023               AL    23  36.716667  3.216667\n",
       "3  33044               AL   754  36.116667  6.416667\n",
       "4  12001               AL   443  27.683333 -8.083333"
      ]
     },
     "execution_count": 3,
     "metadata": {},
     "output_type": "execute_result"
    }
   ],
   "source": [
    "df_weather = pd.read_csv(\"data/data_weather_station_locations.csv\")\n",
    "print(df_weather.shape)\n",
    "\n",
    "df_weather.head()"
   ]
  },
  {
   "cell_type": "code",
   "execution_count": 4,
   "metadata": {},
   "outputs": [
    {
     "name": "stdout",
     "output_type": "stream",
     "text": [
      "(116582, 14)\n"
     ]
    },
    {
     "data": {
      "text/html": [
       "<div>\n",
       "<style scoped>\n",
       "    .dataframe tbody tr th:only-of-type {\n",
       "        vertical-align: middle;\n",
       "    }\n",
       "\n",
       "    .dataframe tbody tr th {\n",
       "        vertical-align: top;\n",
       "    }\n",
       "\n",
       "    .dataframe thead th {\n",
       "        text-align: right;\n",
       "    }\n",
       "</style>\n",
       "<table border=\"1\" class=\"dataframe\">\n",
       "  <thead>\n",
       "    <tr style=\"text-align: right;\">\n",
       "      <th></th>\n",
       "      <th>Date</th>\n",
       "      <th>Precip</th>\n",
       "      <th>MorningTemp</th>\n",
       "      <th>Snowfall</th>\n",
       "      <th>YR</th>\n",
       "      <th>MO</th>\n",
       "      <th>DA</th>\n",
       "      <th>PRCP</th>\n",
       "      <th>SNF</th>\n",
       "      <th>MiddayTemp</th>\n",
       "      <th>STATE/COUNTRY ID</th>\n",
       "      <th>ELEV</th>\n",
       "      <th>Longitude</th>\n",
       "      <th>Latitude</th>\n",
       "    </tr>\n",
       "  </thead>\n",
       "  <tbody>\n",
       "    <tr>\n",
       "      <th>0</th>\n",
       "      <td>1945-5-22</td>\n",
       "      <td>0.000</td>\n",
       "      <td>25.555556</td>\n",
       "      <td>0.0</td>\n",
       "      <td>45</td>\n",
       "      <td>5</td>\n",
       "      <td>22</td>\n",
       "      <td>0.00</td>\n",
       "      <td>0.0</td>\n",
       "      <td>35.000000</td>\n",
       "      <td>DY</td>\n",
       "      <td>10</td>\n",
       "      <td>12.866667</td>\n",
       "      <td>44.866667</td>\n",
       "    </tr>\n",
       "    <tr>\n",
       "      <th>1</th>\n",
       "      <td>1944-12-22</td>\n",
       "      <td>3.048</td>\n",
       "      <td>3.888889</td>\n",
       "      <td>0.0</td>\n",
       "      <td>44</td>\n",
       "      <td>12</td>\n",
       "      <td>22</td>\n",
       "      <td>0.12</td>\n",
       "      <td>0.0</td>\n",
       "      <td>7.777778</td>\n",
       "      <td>IY</td>\n",
       "      <td>74</td>\n",
       "      <td>41.433333</td>\n",
       "      <td>15.616667</td>\n",
       "    </tr>\n",
       "    <tr>\n",
       "      <th>2</th>\n",
       "      <td>1944-7-17</td>\n",
       "      <td>0.000</td>\n",
       "      <td>15.555556</td>\n",
       "      <td>0.0</td>\n",
       "      <td>44</td>\n",
       "      <td>7</td>\n",
       "      <td>17</td>\n",
       "      <td>0.00</td>\n",
       "      <td>0.0</td>\n",
       "      <td>23.333333</td>\n",
       "      <td>AZ</td>\n",
       "      <td>55</td>\n",
       "      <td>38.766667</td>\n",
       "      <td>-27.033333</td>\n",
       "    </tr>\n",
       "    <tr>\n",
       "      <th>3</th>\n",
       "      <td>1944-8-18</td>\n",
       "      <td>0.254</td>\n",
       "      <td>27.777778</td>\n",
       "      <td>0.0</td>\n",
       "      <td>44</td>\n",
       "      <td>8</td>\n",
       "      <td>18</td>\n",
       "      <td>0.01</td>\n",
       "      <td>0.0</td>\n",
       "      <td>36.111111</td>\n",
       "      <td>IN</td>\n",
       "      <td>115</td>\n",
       "      <td>24.750000</td>\n",
       "      <td>84.966667</td>\n",
       "    </tr>\n",
       "    <tr>\n",
       "      <th>4</th>\n",
       "      <td>1945-3-21</td>\n",
       "      <td>4.572</td>\n",
       "      <td>23.888889</td>\n",
       "      <td>0.0</td>\n",
       "      <td>45</td>\n",
       "      <td>3</td>\n",
       "      <td>21</td>\n",
       "      <td>0.18</td>\n",
       "      <td>0.0</td>\n",
       "      <td>29.444444</td>\n",
       "      <td>BZ</td>\n",
       "      <td>13</td>\n",
       "      <td>-1.383333</td>\n",
       "      <td>-48.366667</td>\n",
       "    </tr>\n",
       "  </tbody>\n",
       "</table>\n",
       "</div>"
      ],
      "text/plain": [
       "         Date  Precip  MorningTemp  Snowfall  YR  MO  DA  PRCP  SNF  \\\n",
       "0   1945-5-22   0.000    25.555556       0.0  45   5  22  0.00  0.0   \n",
       "1  1944-12-22   3.048     3.888889       0.0  44  12  22  0.12  0.0   \n",
       "2   1944-7-17   0.000    15.555556       0.0  44   7  17  0.00  0.0   \n",
       "3   1944-8-18   0.254    27.777778       0.0  44   8  18  0.01  0.0   \n",
       "4   1945-3-21   4.572    23.888889       0.0  45   3  21  0.18  0.0   \n",
       "\n",
       "   MiddayTemp STATE/COUNTRY ID  ELEV  Longitude   Latitude  \n",
       "0   35.000000               DY    10  12.866667  44.866667  \n",
       "1    7.777778               IY    74  41.433333  15.616667  \n",
       "2   23.333333               AZ    55  38.766667 -27.033333  \n",
       "3   36.111111               IN   115  24.750000  84.966667  \n",
       "4   29.444444               BZ    13  -1.383333 -48.366667  "
      ]
     },
     "execution_count": 4,
     "metadata": {},
     "output_type": "execute_result"
    }
   ],
   "source": [
    "df = df_royal.merge(df_weather, on='STA', how='left').drop('STA', axis=1)\n",
    "print(df.shape)\n",
    "\n",
    "df.head()"
   ]
  },
  {
   "cell_type": "code",
   "execution_count": 5,
   "metadata": {},
   "outputs": [],
   "source": [
    "df = df.sort_values('Date')\n",
    "\n",
    "df[\"STATE/COUNTRY ID\"] = df[\"STATE/COUNTRY ID\"].astype('category')\n",
    "df[\"STATE/COUNTRY ID\"] = df[\"STATE/COUNTRY ID\"].cat.codes\n",
    "\n",
    "X = df.drop(['MiddayTemp', 'Date'], axis=1).fillna(0)\n",
    "Y = df['MiddayTemp']\n",
    "\n",
    "X_train = X.iloc[:int(len(df)*0.7)]\n",
    "X_test = X.iloc[int(len(df)*0.7):]\n",
    "Y_train = Y.iloc[:int(len(df)*0.7)]\n",
    "Y_test = Y.iloc[int(len(df)*0.7):]"
   ]
  },
  {
   "cell_type": "code",
   "execution_count": 6,
   "metadata": {},
   "outputs": [
    {
     "data": {
      "text/html": [
       "<div>\n",
       "<style scoped>\n",
       "    .dataframe tbody tr th:only-of-type {\n",
       "        vertical-align: middle;\n",
       "    }\n",
       "\n",
       "    .dataframe tbody tr th {\n",
       "        vertical-align: top;\n",
       "    }\n",
       "\n",
       "    .dataframe thead th {\n",
       "        text-align: right;\n",
       "    }\n",
       "</style>\n",
       "<table border=\"1\" class=\"dataframe\">\n",
       "  <thead>\n",
       "    <tr style=\"text-align: right;\">\n",
       "      <th></th>\n",
       "      <th>Date</th>\n",
       "      <th>Precip</th>\n",
       "      <th>MorningTemp</th>\n",
       "      <th>Snowfall</th>\n",
       "      <th>YR</th>\n",
       "      <th>MO</th>\n",
       "      <th>DA</th>\n",
       "      <th>PRCP</th>\n",
       "      <th>SNF</th>\n",
       "      <th>MiddayTemp</th>\n",
       "      <th>STATE/COUNTRY ID</th>\n",
       "      <th>ELEV</th>\n",
       "      <th>Longitude</th>\n",
       "      <th>Latitude</th>\n",
       "    </tr>\n",
       "  </thead>\n",
       "  <tbody>\n",
       "    <tr>\n",
       "      <th>111734</th>\n",
       "      <td>1940-1-1</td>\n",
       "      <td>2.286</td>\n",
       "      <td>17.222222</td>\n",
       "      <td>0.0</td>\n",
       "      <td>40</td>\n",
       "      <td>1</td>\n",
       "      <td>1</td>\n",
       "      <td>0.09</td>\n",
       "      <td>0.0</td>\n",
       "      <td>26.666667</td>\n",
       "      <td>26</td>\n",
       "      <td>3</td>\n",
       "      <td>21.333333</td>\n",
       "      <td>-157.90</td>\n",
       "    </tr>\n",
       "    <tr>\n",
       "      <th>10283</th>\n",
       "      <td>1940-1-1</td>\n",
       "      <td>7.620</td>\n",
       "      <td>22.222222</td>\n",
       "      <td>0.0</td>\n",
       "      <td>40</td>\n",
       "      <td>1</td>\n",
       "      <td>1</td>\n",
       "      <td>0.30</td>\n",
       "      <td>0.0</td>\n",
       "      <td>28.333333</td>\n",
       "      <td>52</td>\n",
       "      <td>9</td>\n",
       "      <td>8.966667</td>\n",
       "      <td>-79.50</td>\n",
       "    </tr>\n",
       "    <tr>\n",
       "      <th>19275</th>\n",
       "      <td>1940-1-1</td>\n",
       "      <td>0.254</td>\n",
       "      <td>17.222222</td>\n",
       "      <td>0.0</td>\n",
       "      <td>40</td>\n",
       "      <td>1</td>\n",
       "      <td>1</td>\n",
       "      <td>0.01</td>\n",
       "      <td>0.0</td>\n",
       "      <td>23.333333</td>\n",
       "      <td>26</td>\n",
       "      <td>271</td>\n",
       "      <td>21.483333</td>\n",
       "      <td>-158.05</td>\n",
       "    </tr>\n",
       "    <tr>\n",
       "      <th>86227</th>\n",
       "      <td>1940-1-10</td>\n",
       "      <td>0.000</td>\n",
       "      <td>16.666667</td>\n",
       "      <td>0.0</td>\n",
       "      <td>40</td>\n",
       "      <td>1</td>\n",
       "      <td>10</td>\n",
       "      <td>0.00</td>\n",
       "      <td>0.0</td>\n",
       "      <td>26.111111</td>\n",
       "      <td>26</td>\n",
       "      <td>3</td>\n",
       "      <td>21.333333</td>\n",
       "      <td>-157.90</td>\n",
       "    </tr>\n",
       "    <tr>\n",
       "      <th>65314</th>\n",
       "      <td>1940-1-10</td>\n",
       "      <td>0.508</td>\n",
       "      <td>14.444444</td>\n",
       "      <td>0.0</td>\n",
       "      <td>40</td>\n",
       "      <td>1</td>\n",
       "      <td>10</td>\n",
       "      <td>0.02</td>\n",
       "      <td>0.0</td>\n",
       "      <td>23.333333</td>\n",
       "      <td>26</td>\n",
       "      <td>271</td>\n",
       "      <td>21.483333</td>\n",
       "      <td>-158.05</td>\n",
       "    </tr>\n",
       "  </tbody>\n",
       "</table>\n",
       "</div>"
      ],
      "text/plain": [
       "             Date  Precip  MorningTemp  Snowfall  YR  MO  DA  PRCP  SNF  \\\n",
       "111734   1940-1-1   2.286    17.222222       0.0  40   1   1  0.09  0.0   \n",
       "10283    1940-1-1   7.620    22.222222       0.0  40   1   1  0.30  0.0   \n",
       "19275    1940-1-1   0.254    17.222222       0.0  40   1   1  0.01  0.0   \n",
       "86227   1940-1-10   0.000    16.666667       0.0  40   1  10  0.00  0.0   \n",
       "65314   1940-1-10   0.508    14.444444       0.0  40   1  10  0.02  0.0   \n",
       "\n",
       "        MiddayTemp  STATE/COUNTRY ID  ELEV  Longitude  Latitude  \n",
       "111734   26.666667                26     3  21.333333   -157.90  \n",
       "10283    28.333333                52     9   8.966667    -79.50  \n",
       "19275    23.333333                26   271  21.483333   -158.05  \n",
       "86227    26.111111                26     3  21.333333   -157.90  \n",
       "65314    23.333333                26   271  21.483333   -158.05  "
      ]
     },
     "execution_count": 6,
     "metadata": {},
     "output_type": "execute_result"
    }
   ],
   "source": [
    "df.head()"
   ]
  },
  {
   "cell_type": "markdown",
   "metadata": {},
   "source": [
    "```Just for warmup: where are the forecasting stations? Show them all on a single map, using your favorite tools. There are rumors about this sophisticated tool called \"Google\" that can help you do it.```"
   ]
  },
  {
   "cell_type": "code",
   "execution_count": null,
   "metadata": {},
   "outputs": [],
   "source": [
    "import gmplot"
   ]
  },
  {
   "cell_type": "code",
   "execution_count": null,
   "metadata": {},
   "outputs": [],
   "source": [
    "longitude = df['Longitude']\n",
    "latitude = df['Latitude']\n",
    "\n",
    "gmap = gmplot.GoogleMapPlotter(np.mean(longitude), np.mean(latitude), zoom=5)\n",
    "\n",
    "countr = 0\n",
    "for lon, lat in zip(longitude, latitude):\n",
    "    countr += 1\n",
    "    if countr == 10:\n",
    "        break\n",
    "    gmap.marker(lon, lat, color='cornflowerblue')\n",
    "\n",
    "gmap.draw('map.html')"
   ]
  },
  {
   "cell_type": "markdown",
   "metadata": {},
   "source": [
    "```I'm told that you need a definition for a loss function. well, I'm not such a technologist myself, but I can tell you that your loss should be linear in the absolute value of your error.\n",
    "A friend from the Royal Navy once told me, \"Aye stairt wi' a guid auld xgboost\". I trust this friend, and you should too. What results did you get?```"
   ]
  },
  {
   "cell_type": "code",
   "execution_count": 7,
   "metadata": {},
   "outputs": [
    {
     "name": "stdout",
     "output_type": "stream",
     "text": [
      "Train MSE 686325.900090494\n",
      "Test MSE 422847.2858020603\n"
     ]
    }
   ],
   "source": [
    "from sklearn.metrics import mean_absolute_error\n",
    "from sklearn.ensemble import GradientBoostingRegressor\n",
    "\n",
    "model_GB = GradientBoostingRegressor()\n",
    "model_GB.fit(X_train, Y_train)\n",
    "\n",
    "print(\"Train MSE\", mean_absolute_error(Y_train, model_GB.predict(X_train)))\n",
    "print(\"Test MSE\", mean_absolute_error(Y_test, model_GB.predict(X_test)))"
   ]
  },
  {
   "cell_type": "code",
   "execution_count": null,
   "metadata": {},
   "outputs": [],
   "source": [
    "from sklearn.metrics import make_scorer\n",
    "from sklearn import metrics\n",
    "from sklearn.model_selection import RandomizedSearchCV\n",
    "from sklearn.metrics import mean_absolute_error\n",
    "from sklearn.ensemble import GradientBoostingRegressor\n",
    "\n",
    "model_GB = GradientBoostingRegressor(criterion='mae')\n",
    "\n",
    "max_depth = np.linspace(1, 20, 20, dtype=int)\n",
    "n_estimators = [10,40,80,120,180,200,250,300]\n",
    "learning_rate = np.logspace(-2, 0, 20)\n",
    "criterion = ['mae']\n",
    "min_samples_split = [5, 10, 15]\n",
    "min_samples_leaf = [1, 2, 4, 5]\n",
    "random_grid = {'learning_rate': learning_rate,\n",
    "               'n_estimators': n_estimators, \n",
    "               'max_depth': max_depth,\n",
    "               'min_samples_split': min_samples_split,\n",
    "               'min_samples_leaf': min_samples_leaf,\n",
    "               }\n",
    "\n",
    "random_model = RandomizedSearchCV(estimator=model_GB, param_distributions=random_grid,\n",
    "                                              n_iter=50, verbose=2, n_jobs=-1,\n",
    "                                              return_train_score=True, cv=3)\n",
    "random_model.fit(X_train, Y_train)\n",
    "\n",
    "print(\"Train MSE\", mean_absolute_error(Y_train, random_model.predict(X_train)))\n",
    "print(\"Test MSE\", mean_absolute_error(Y_test, random_model.predict(X_test)))"
   ]
  },
  {
   "cell_type": "markdown",
   "metadata": {},
   "source": [
    "```Heavens in the sky, that's not so good. This bloody scot, I never trusted him.\n",
    "Let's try a different approach. Another friend, from the Royal Airforce, told me, \"When you are preplexed and can't find your arms and legs, try training a neural net and look carefully at its loss\".\n",
    "I trust this friend very much. You should try what he suggested. Can you learn something to explains our poor results from earlier? Don't forget - neural networks work better when first normalizing your data.```"
   ]
  },
  {
   "cell_type": "code",
   "execution_count": 8,
   "metadata": {},
   "outputs": [],
   "source": [
    "from sklearn.preprocessing import StandardScaler\n",
    "scaler_X = StandardScaler()\n",
    "\n",
    "X_train_scaled = scaler_X.fit_transform(X_train)\n",
    "X_test_scaled = scaler_X.transform(X_test)"
   ]
  },
  {
   "cell_type": "code",
   "execution_count": 14,
   "metadata": {},
   "outputs": [
    {
     "name": "stdout",
     "output_type": "stream",
     "text": [
      "(81607,)\n"
     ]
    }
   ],
   "source": [
    "print(Y_train.shape)"
   ]
  },
  {
   "cell_type": "code",
   "execution_count": 15,
   "metadata": {},
   "outputs": [
    {
     "name": "stdout",
     "output_type": "stream",
     "text": [
      "Model: \"sequential_2\"\n",
      "_________________________________________________________________\n",
      "Layer (type)                 Output Shape              Param #   \n",
      "=================================================================\n",
      "flatten_2 (Flatten)          (None, 12)                0         \n",
      "_________________________________________________________________\n",
      "dense_10 (Dense)             (None, 100)               1300      \n",
      "_________________________________________________________________\n",
      "dense_11 (Dense)             (None, 100)               10100     \n",
      "_________________________________________________________________\n",
      "dense_12 (Dense)             (None, 20)                2020      \n",
      "_________________________________________________________________\n",
      "dense_13 (Dense)             (None, 15)                315       \n",
      "_________________________________________________________________\n",
      "dense_14 (Dense)             (None, 1)                 16        \n",
      "=================================================================\n",
      "Total params: 13,751\n",
      "Trainable params: 13,751\n",
      "Non-trainable params: 0\n",
      "_________________________________________________________________\n"
     ]
    }
   ],
   "source": [
    "from keras.layers import Dense, Input, Conv2D, Flatten, MaxPool2D, Dropout, Softmax\n",
    "from keras.models import Model, Sequential\n",
    "\n",
    "model = Sequential()\n",
    "\n",
    "input_shape = X_train_scaled.shape[1:]\n",
    "\n",
    "model.add(Input((input_shape)))\n",
    "model.add(Flatten())\n",
    "\n",
    "model.add(Dense(100, activation='tanh'))\n",
    "model.add(Dense(100, activation='tanh'))\n",
    "model.add(Dense(20, activation='tanh'))\n",
    "model.add(Dense(15, activation='tanh'))\n",
    "\n",
    "model.add(Dense(1, activation='linear'))\n",
    "model.compile(loss='mae', optimizer='adam')\n",
    "model.summary()"
   ]
  },
  {
   "cell_type": "code",
   "execution_count": 16,
   "metadata": {},
   "outputs": [
    {
     "name": "stdout",
     "output_type": "stream",
     "text": [
      "Epoch 1/10\n",
      "2721/2721 - 3s - loss: 122542.2969\n",
      "Epoch 2/10\n",
      "2721/2721 - 3s - loss: 122538.6328\n",
      "Epoch 3/10\n",
      "2721/2721 - 3s - loss: 122540.3281\n",
      "Epoch 4/10\n",
      "2721/2721 - 3s - loss: 122539.7734\n",
      "Epoch 5/10\n",
      "2721/2721 - 3s - loss: 122539.1953\n",
      "Epoch 6/10\n",
      "2721/2721 - 3s - loss: 122539.2266\n",
      "Epoch 7/10\n",
      "2721/2721 - 3s - loss: 122539.1875\n",
      "Epoch 8/10\n",
      "2721/2721 - 3s - loss: 122538.7969\n",
      "Epoch 9/10\n",
      "2721/2721 - 3s - loss: 122539.7109\n",
      "Epoch 10/10\n",
      "2721/2721 - 3s - loss: 122539.1953\n"
     ]
    },
    {
     "data": {
      "text/plain": [
       "<tensorflow.python.keras.callbacks.History at 0x1d159916670>"
      ]
     },
     "execution_count": 16,
     "metadata": {},
     "output_type": "execute_result"
    }
   ],
   "source": [
    "model.fit(X_train_scaled, Y_train, batch_size=30, epochs=10, verbose=2)"
   ]
  },
  {
   "cell_type": "code",
   "execution_count": 17,
   "metadata": {},
   "outputs": [
    {
     "name": "stdout",
     "output_type": "stream",
     "text": [
      "Train MAE 122539.96368545822\n",
      "Test MAE 2.010711598959717\n"
     ]
    }
   ],
   "source": [
    "print(\"Train MAE\", mean_absolute_error(Y_train, model.predict(X_train_scaled)))\n",
    "print(\"Test MAE\", mean_absolute_error(Y_test, model.predict(X_test_scaled)))"
   ]
  },
  {
   "cell_type": "markdown",
   "metadata": {},
   "source": [
    "```As I suspected.. The wanker Nazis must have poisoned our dataset! Intel tells me that they could insert one sample at most. Find it and delete it from our Royal Dataset.```"
   ]
  },
  {
   "cell_type": "code",
   "execution_count": 19,
   "metadata": {},
   "outputs": [
    {
     "data": {
      "image/png": "[encoded data removed]",
      "text/plain": [
       "<Figure size 432x288 with 1 Axes>"
      ]
     },
     "metadata": {
      "needs_background": "light"
     },
     "output_type": "display_data"
    }
   ],
   "source": [
    "midday_temp = df['MiddayTemp'].values\n",
    "\n",
    "plt.hist(midday_temp)\n",
    "plt.show()"
   ]
  },
  {
   "cell_type": "code",
   "execution_count": 21,
   "metadata": {},
   "outputs": [
    {
     "name": "stdout",
     "output_type": "stream",
     "text": [
      "max 10000000000.0\n",
      "min 1.111111111\n",
      "mean 85804.32896063615\n",
      "median 29.44444444\n"
     ]
    }
   ],
   "source": [
    "print(\"max\", np.max(midday_temp))\n",
    "print(\"min\", np.min(midday_temp))\n",
    "print(\"mean\", np.mean(midday_temp))\n",
    "print(\"median\", np.median(midday_temp))"
   ]
  },
  {
   "cell_type": "code",
   "execution_count": 22,
   "metadata": {},
   "outputs": [],
   "source": [
    "df = df.drop(df.iloc[np.argmax(df['MiddayTemp'].values)].name)\n",
    "df = df.sort_values('Date')\n",
    "X = df.drop(['MiddayTemp', 'Date'], axis=1).fillna(0)\n",
    "Y = df['MiddayTemp']\n",
    "X_train = X.iloc[:int(len(df)*0.7)]\n",
    "X_test = X.iloc[int(len(df)*0.7):]\n",
    "Y_train = Y.iloc[:int(len(df)*0.7)]\n",
    "Y_test = Y.iloc[int(len(df)*0.7):]\n",
    "\n",
    "scaler_X = StandardScaler()\n",
    "X_train_scaled = scaler_X.fit_transform(X_train)\n",
    "X_test_scaled = scaler_X.transform(X_test)"
   ]
  },
  {
   "cell_type": "markdown",
   "metadata": {},
   "source": [
    "```Blinding. Now train your xgboost and neural network again! What results can you get?\n",
    "Let me drop another tip for you: when you have an idea of the mean of the target you try to predict, you can initiate the last layer's bias to be this mean. It can make your network converge so much faster!```"
   ]
  },
  {
   "cell_type": "code",
   "execution_count": 23,
   "metadata": {},
   "outputs": [
    {
     "name": "stdout",
     "output_type": "stream",
     "text": [
      "Train MSE 1.7964028722745808\n",
      "Test MSE 2.064153229731328\n"
     ]
    }
   ],
   "source": [
    "from sklearn.metrics import mean_absolute_error\n",
    "from sklearn.ensemble import GradientBoostingRegressor\n",
    "\n",
    "model_GB = GradientBoostingRegressor()\n",
    "model_GB.fit(X_train, Y_train)\n",
    "\n",
    "print(\"Train MSE\", mean_absolute_error(Y_train, model_GB.predict(X_train)))\n",
    "print(\"Test MSE\", mean_absolute_error(Y_test, model_GB.predict(X_test)))"
   ]
  },
  {
   "cell_type": "code",
   "execution_count": 29,
   "metadata": {},
   "outputs": [
    {
     "name": "stdout",
     "output_type": "stream",
     "text": [
      "Model: \"sequential_6\"\n",
      "_________________________________________________________________\n",
      "Layer (type)                 Output Shape              Param #   \n",
      "=================================================================\n",
      "flatten_6 (Flatten)          (None, 12)                0         \n",
      "_________________________________________________________________\n",
      "dense_30 (Dense)             (None, 100)               1300      \n",
      "_________________________________________________________________\n",
      "dense_31 (Dense)             (None, 100)               10100     \n",
      "_________________________________________________________________\n",
      "dense_32 (Dense)             (None, 20)                2020      \n",
      "_________________________________________________________________\n",
      "dense_33 (Dense)             (None, 15)                315       \n",
      "_________________________________________________________________\n",
      "dense_34 (Dense)             (None, 1)                 16        \n",
      "=================================================================\n",
      "Total params: 13,751\n",
      "Trainable params: 13,751\n",
      "Non-trainable params: 0\n",
      "_________________________________________________________________\n",
      "Epoch 1/10\n",
      "2721/2721 - 2s - loss: 2.7590\n",
      "Epoch 2/10\n",
      "2721/2721 - 2s - loss: 1.7992\n",
      "Epoch 3/10\n",
      "2721/2721 - 2s - loss: 1.6201\n",
      "Epoch 4/10\n",
      "2721/2721 - 2s - loss: 1.5544\n",
      "Epoch 5/10\n",
      "2721/2721 - 2s - loss: 1.5133\n",
      "Epoch 6/10\n",
      "2721/2721 - 2s - loss: 1.4836\n",
      "Epoch 7/10\n",
      "2721/2721 - 2s - loss: 1.4628\n",
      "Epoch 8/10\n",
      "2721/2721 - 2s - loss: 1.4446\n",
      "Epoch 9/10\n",
      "2721/2721 - 3s - loss: 1.4285\n",
      "Epoch 10/10\n",
      "2721/2721 - 3s - loss: 1.4157\n"
     ]
    },
    {
     "data": {
      "text/plain": [
       "<tensorflow.python.keras.callbacks.History at 0x1d14e5d0b50>"
      ]
     },
     "execution_count": 29,
     "metadata": {},
     "output_type": "execute_result"
    }
   ],
   "source": [
    "model = Sequential()\n",
    "\n",
    "input_shape = X_train_scaled.shape[1:]\n",
    "\n",
    "model.add(Input((input_shape)))\n",
    "model.add(Flatten())\n",
    "\n",
    "model.add(Dense(100, activation='tanh'))\n",
    "model.add(Dense(100, activation='tanh'))\n",
    "model.add(Dense(20, activation='tanh'))\n",
    "model.add(Dense(15, activation='tanh'))\n",
    "\n",
    "model.add(Dense(1, activation='linear', weights = [np.zeros([15, 1]), np.mean(Y_train).reshape(1)]))\n",
    "model.compile(loss='mae', optimizer='adam')\n",
    "model.summary()\n",
    "\n",
    "model.fit(X_train_scaled, Y_train, batch_size=30, epochs=10, verbose=2)"
   ]
  },
  {
   "cell_type": "code",
   "execution_count": 30,
   "metadata": {},
   "outputs": [
    {
     "name": "stdout",
     "output_type": "stream",
     "text": [
      "Train MAE 1.4114122637868352\n",
      "Test MAE 2.092658068355514\n"
     ]
    }
   ],
   "source": [
    "print(\"Train MAE\", mean_absolute_error(Y_train, model.predict(X_train_scaled)))\n",
    "print(\"Test MAE\", mean_absolute_error(Y_test, model.predict(X_test_scaled)))"
   ]
  },
  {
   "cell_type": "markdown",
   "metadata": {},
   "source": [
    "```I've got a new message from Bletchley. Apperantly, our troops are very sensitive to cold weather, but to warm weather? not so much. We should update our loss function accordingly. They gave me this formula, that I myself can't read, but you might:```\n",
    "\n",
    "$\\frac {\\sum_i {|Pred_i-True_i|}}{\\sum_i {Pred_i}}$\n",
    "\n",
    "```Does it do what we want it to do? Are there any visible problems with this loss? List here all the problems that come to your mind, regarding this loss. Assuming you have only one sample in your dataset, draw the loss as a function of your prediction. Also, evaluate your former models using this metric.```"
   ]
  },
  {
   "cell_type": "code",
   "execution_count": 35,
   "metadata": {},
   "outputs": [],
   "source": [
    "import keras.backend as K\n",
    "\n",
    "def new_loss(y_true, y_pred):\n",
    "    return K.sum(K.abs(y_true-y_pred))/K.sum(y_pred)"
   ]
  },
  {
   "cell_type": "code",
   "execution_count": 50,
   "metadata": {},
   "outputs": [
    {
     "name": "stderr",
     "output_type": "stream",
     "text": [
      "<ipython-input-50-ceded91aa711>:3: RuntimeWarning: divide by zero encountered in true_divide\n",
      "  plt.plot(vec, np.abs(vec-true_val)/vec)\n"
     ]
    },
    {
     "data": {
      "image/png": "[encoded data removed]",
      "text/plain": [
       "<Figure size 432x288 with 1 Axes>"
      ]
     },
     "metadata": {
      "needs_background": "light"
     },
     "output_type": "display_data"
    }
   ],
   "source": [
    "true_val = 10\n",
    "vec = np.arange(-50,50,1)\n",
    "plt.plot(vec, np.abs(vec-true_val)/vec)\n",
    "plt.show()"
   ]
  },
  {
   "cell_type": "code",
   "execution_count": 46,
   "metadata": {},
   "outputs": [
    {
     "data": {
      "text/plain": [
       "'\\nThe main problem is that the limit is not the same from right and from left.\\nWhen we come from negative values, the limit is -inf, but when coming from positives vales, the limit is inf.\\n\\nSecondly, the function is no defined in 0, and not derivable. \\nFurthermore, the function is not convex. For gradient descent we need convex functions.\\n'"
      ]
     },
     "execution_count": 46,
     "metadata": {},
     "output_type": "execute_result"
    }
   ],
   "source": [
    "\"\"\"\n",
    "the limit is not the same from right and from left.\n",
    "When we come from negative values, the limit is -inf, but when coming from positives vales, the limit is inf.\n",
    "\n",
    "Secondly, the function is no defined in 0, and not derivable. \n",
    "Furthermore, the function is not convex. For gradient descent we need convex functions.\n",
    "\"\"\""
   ]
  },
  {
   "cell_type": "code",
   "execution_count": 55,
   "metadata": {},
   "outputs": [
    {
     "name": "stdout",
     "output_type": "stream",
     "text": [
      "Model: \"sequential_14\"\n",
      "_________________________________________________________________\n",
      "Layer (type)                 Output Shape              Param #   \n",
      "=================================================================\n",
      "flatten_14 (Flatten)         (None, 12)                0         \n",
      "_________________________________________________________________\n",
      "dense_70 (Dense)             (None, 100)               1300      \n",
      "_________________________________________________________________\n",
      "dense_71 (Dense)             (None, 100)               10100     \n",
      "_________________________________________________________________\n",
      "dense_72 (Dense)             (None, 20)                2020      \n",
      "_________________________________________________________________\n",
      "dense_73 (Dense)             (None, 15)                315       \n",
      "_________________________________________________________________\n",
      "dense_74 (Dense)             (None, 1)                 16        \n",
      "=================================================================\n",
      "Total params: 13,751\n",
      "Trainable params: 13,751\n",
      "Non-trainable params: 0\n",
      "_________________________________________________________________\n",
      "Epoch 1/20\n",
      "2721/2721 [==============================] - 3s 937us/step - loss: 0.1006\n",
      "Epoch 2/20\n",
      "2721/2721 [==============================] - 3s 942us/step - loss: 0.0669\n",
      "Epoch 3/20\n",
      "2721/2721 [==============================] - 2s 895us/step - loss: 0.0598\n",
      "Epoch 4/20\n",
      "2721/2721 [==============================] - 3s 991us/step - loss: 0.0568\n",
      "Epoch 5/20\n",
      "2721/2721 [==============================] - 3s 988us/step - loss: 0.0552\n",
      "Epoch 6/20\n",
      "2721/2721 [==============================] - 3s 971us/step - loss: 0.0539\n",
      "Epoch 7/20\n",
      "2721/2721 [==============================] - 3s 988us/step - loss: 0.0531\n",
      "Epoch 8/20\n",
      "2721/2721 [==============================] - 3s 1ms/step - loss: 0.0524\n",
      "Epoch 9/20\n",
      "2721/2721 [==============================] - 3s 1ms/step - loss: 0.0519\n",
      "Epoch 10/20\n",
      "2721/2721 [==============================] - 3s 1ms/step - loss: 0.0514\n",
      "Epoch 11/20\n",
      "2721/2721 [==============================] - 3s 985us/step - loss: 0.0509\n",
      "Epoch 12/20\n",
      "2721/2721 [==============================] - 3s 959us/step - loss: 0.0506\n",
      "Epoch 13/20\n",
      "2721/2721 [==============================] - 3s 967us/step - loss: 0.0502\n",
      "Epoch 14/20\n",
      "2721/2721 [==============================] - 3s 1ms/step - loss: 0.0500\n",
      "Epoch 15/20\n",
      "2721/2721 [==============================] - 3s 966us/step - loss: 0.0496\n",
      "Epoch 16/20\n",
      "2721/2721 [==============================] - 3s 1ms/step - loss: 0.0493\n",
      "Epoch 17/20\n",
      "2721/2721 [==============================] - 3s 943us/step - loss: 0.0491\n",
      "Epoch 18/20\n",
      "2721/2721 [==============================] - 3s 962us/step - loss: 0.0488\n",
      "Epoch 19/20\n",
      "2721/2721 [==============================] - 3s 979us/step - loss: 0.0485\n",
      "Epoch 20/20\n",
      "2721/2721 [==============================] - 3s 990us/step - loss: 0.0484\n",
      "Train MAE 1.3434432932110145\n",
      "Test MAE 2.1403933413920377\n"
     ]
    }
   ],
   "source": [
    "model_new_loss = Sequential()\n",
    "\n",
    "input_shape = X_train_scaled.shape[1:]\n",
    "\n",
    "model_new_loss.add(Input((input_shape)))\n",
    "model_new_loss.add(Flatten())\n",
    "\n",
    "model_new_loss.add(Dense(100, activation='tanh'))\n",
    "model_new_loss.add(Dense(100, activation='tanh'))\n",
    "model_new_loss.add(Dense(20, activation='tanh'))\n",
    "model_new_loss.add(Dense(15, activation='tanh'))\n",
    "\n",
    "model_new_loss.add(Dense(1, activation='linear', weights = [np.zeros([15, 1]), np.mean(Y_train).reshape(1)]))\n",
    "model_new_loss.compile(loss='mae', optimizer='adam')\n",
    "model_new_loss.summary()\n",
    "\n",
    "model_new_loss.compile(loss=new_loss, optimizer='adam')\n",
    "\n",
    "model_new_loss.fit(X_train_scaled, Y_train, batch_size=30, epochs=20, verbose=1)\n",
    "\n",
    "print(\"Train MAE\", mean_absolute_error(Y_train, model_new_loss.predict(X_train_scaled)))\n",
    "print(\"Test MAE\", mean_absolute_error(Y_test, model_new_loss.predict(X_test_scaled)))"
   ]
  },
  {
   "cell_type": "markdown",
   "metadata": {},
   "source": [
    "```That loss function seems a bit suspicious. Let's have a closer look. Implement it (for batches - why can't you properly train a sgd on this loss?), and see if the network exhibits reasonal behavior.\n",
    "The British people take pride for their meticulous examinations of networks. What happens if the network decides, for some reason, to predict negative values? Try train a network that initializes to predict negative values (maybe change the last bias again). Can you understand the behavior of the loss during training?```"
   ]
  },
  {
   "cell_type": "code",
   "execution_count": 54,
   "metadata": {},
   "outputs": [
    {
     "name": "stdout",
     "output_type": "stream",
     "text": [
      "Model: \"sequential_13\"\n",
      "_________________________________________________________________\n",
      "Layer (type)                 Output Shape              Param #   \n",
      "=================================================================\n",
      "flatten_13 (Flatten)         (None, 12)                0         \n",
      "_________________________________________________________________\n",
      "dense_65 (Dense)             (None, 100)               1300      \n",
      "_________________________________________________________________\n",
      "dense_66 (Dense)             (None, 100)               10100     \n",
      "_________________________________________________________________\n",
      "dense_67 (Dense)             (None, 20)                2020      \n",
      "_________________________________________________________________\n",
      "dense_68 (Dense)             (None, 15)                315       \n",
      "_________________________________________________________________\n",
      "dense_69 (Dense)             (None, 1)                 16        \n",
      "=================================================================\n",
      "Total params: 13,751\n",
      "Trainable params: 13,751\n",
      "Non-trainable params: 0\n",
      "_________________________________________________________________\n",
      "Epoch 1/20\n",
      "2721/2721 - 2s - loss: -1.1175e+00\n",
      "Epoch 2/20\n",
      "2721/2721 - 2s - loss: -1.1506e+00\n",
      "Epoch 3/20\n",
      "2721/2721 - 2s - loss: -1.2097e+00\n",
      "Epoch 4/20\n",
      "2721/2721 - 2s - loss: -1.3772e+00\n",
      "Epoch 5/20\n",
      "2721/2721 - 2s - loss: 15.5617\n",
      "Epoch 6/20\n",
      "2721/2721 - 2s - loss: 16.4910\n",
      "Epoch 7/20\n",
      "2721/2721 - 2s - loss: 9.5636\n",
      "Epoch 8/20\n",
      "2721/2721 - 2s - loss: 5.5067\n",
      "Epoch 9/20\n",
      "2721/2721 - 2s - loss: 3.0807\n",
      "Epoch 10/20\n",
      "2721/2721 - 2s - loss: 1.5768\n",
      "Epoch 11/20\n",
      "2721/2721 - 2s - loss: 0.6379\n",
      "Epoch 12/20\n",
      "2721/2721 - 2s - loss: 0.0681\n",
      "Epoch 13/20\n",
      "2721/2721 - 2s - loss: -1.8224e-01\n",
      "Epoch 14/20\n",
      "2721/2721 - 2s - loss: -2.0176e-01\n",
      "Epoch 15/20\n",
      "2721/2721 - 2s - loss: -2.0213e-01\n",
      "Epoch 16/20\n",
      "2721/2721 - 2s - loss: -2.0446e-01\n",
      "Epoch 17/20\n",
      "2721/2721 - 2s - loss: -1.9949e-01\n",
      "Epoch 18/20\n",
      "2721/2721 - 2s - loss: -1.9980e-01\n",
      "Epoch 19/20\n",
      "2721/2721 - 2s - loss: -2.0169e-01\n",
      "Epoch 20/20\n",
      "2721/2721 - 2s - loss: -1.9331e-01\n",
      "Train MAE 17.991564658720854\n",
      "Test MAE 14.906875832454906\n"
     ]
    }
   ],
   "source": [
    "model = Sequential()\n",
    "\n",
    "input_shape = X_train_scaled.shape[1:]\n",
    "\n",
    "model.add(Input((input_shape)))\n",
    "model.add(Flatten())\n",
    "\n",
    "model.add(Dense(100, activation='tanh'))\n",
    "model.add(Dense(100, activation='tanh'))\n",
    "model.add(Dense(20, activation='tanh'))\n",
    "model.add(Dense(15, activation='tanh'))\n",
    "\n",
    "model.add(Dense(1, activation='linear', weights = [np.ones([15, 1])*(-50), np.array([-1000]).reshape(1)]))\n",
    "model.compile(loss=new_loss, optimizer='adam')\n",
    "model.summary()\n",
    "\n",
    "model.fit(X_train_scaled, Y_train, batch_size=30, epochs=20, verbose=2)\n",
    "\n",
    "print(\"Train MAE\", mean_absolute_error(Y_train, model.predict(X_train_scaled)))\n",
    "print(\"Test MAE\", mean_absolute_error(Y_test, model.predict(X_test_scaled)))"
   ]
  },
  {
   "cell_type": "markdown",
   "metadata": {},
   "source": [
    "```Compare neural networks trained with this special loss, with MSE and with MAE. Which one achieves the best MAE loss? which one achieves the best special loss?```"
   ]
  },
  {
   "cell_type": "code",
   "execution_count": null,
   "metadata": {},
   "outputs": [],
   "source": [
    "\"\"\"\n",
    "\n",
    "Network trained with MAE loss: MAE = 2.09\n",
    "Network trained with new loss, initialized with positive values: MAE = 2.06\n",
    "Network trained with new loss, initialized with negative values: MAE = 14.91\n",
    "\n",
    "Best new loss was obtained by network trained on the new loss, initialized with negative values.\n",
    "\n",
    "\"\"\""
   ]
  },
  {
   "cell_type": "markdown",
   "metadata": {},
   "source": [
    "```Iv'e just got an urgent message from the field marshal! He told me, \"Hoi, gent, my soldiers are cold! I have soldiers all around this damned globe, spread evenly, but you keep my boys worm only in a few damned countries!\". Do you think the field marchel is right? Why is that? Can you change the loss function to take this effect into account (bonus points if you can write it in LaTex)? Train a network using this loss.```"
   ]
  },
  {
   "cell_type": "code",
   "execution_count": 60,
   "metadata": {},
   "outputs": [],
   "source": [
    "y_predict = model_new_loss.predict(X_test).reshape(-1)"
   ]
  },
  {
   "cell_type": "code",
   "execution_count": 69,
   "metadata": {},
   "outputs": [
    {
     "name": "stdout",
     "output_type": "stream",
     "text": [
      "(34975,)\n",
      "(34975,)\n"
     ]
    },
    {
     "data": {
      "image/png": "[encoded data removed]",
      "text/plain": [
       "<Figure size 432x288 with 1 Axes>"
      ]
     },
     "metadata": {
      "needs_background": "light"
     },
     "output_type": "display_data"
    }
   ],
   "source": [
    "print(y_predict.shape)\n",
    "print(Y_test.shape)\n",
    "\n",
    "indices = np.where(np.abs(Y_test - y_predict) < 1)\n",
    "\n",
    "plt.hist(X_train['STATE/COUNTRY ID'].iloc[indices])\n",
    "plt.show()"
   ]
  },
  {
   "cell_type": "code",
   "execution_count": 70,
   "metadata": {},
   "outputs": [
    {
     "data": {
      "image/png": "[encoded data removed]",
      "text/plain": [
       "<Figure size 432x288 with 1 Axes>"
      ]
     },
     "metadata": {
      "needs_background": "light"
     },
     "output_type": "display_data"
    }
   ],
   "source": [
    "indices = np.where(np.abs(Y_test - y_predict) >= 1)\n",
    "\n",
    "plt.hist(X_train['STATE/COUNTRY ID'].iloc[indices])\n",
    "plt.show()"
   ]
  },
  {
   "cell_type": "code",
   "execution_count": 72,
   "metadata": {},
   "outputs": [],
   "source": [
    "from collections import Counter\n",
    "\n",
    "weights = 1/np.array(list(Counter(df['STATE/COUNTRY ID']).values()))\n",
    "weights = weights/np.sum(weights)\n",
    "weights_tensor = K.variable(weights.reshape(1,-1))"
   ]
  },
  {
   "cell_type": "code",
   "execution_count": 73,
   "metadata": {},
   "outputs": [],
   "source": [
    "def new_loss_weighted(y_true, y_pred_con):\n",
    "    return K.sum(weights_tensor * K.abs(y_true-y_pred))/K.sum(y_pred)"
   ]
  },
  {
   "cell_type": "code",
   "execution_count": 74,
   "metadata": {},
   "outputs": [
    {
     "name": "stdout",
     "output_type": "stream",
     "text": [
      "Model: \"sequential_15\"\n",
      "_________________________________________________________________\n",
      "Layer (type)                 Output Shape              Param #   \n",
      "=================================================================\n",
      "flatten_15 (Flatten)         (None, 12)                0         \n",
      "_________________________________________________________________\n",
      "dense_75 (Dense)             (None, 100)               1300      \n",
      "_________________________________________________________________\n",
      "dense_76 (Dense)             (None, 100)               10100     \n",
      "_________________________________________________________________\n",
      "dense_77 (Dense)             (None, 20)                2020      \n",
      "_________________________________________________________________\n",
      "dense_78 (Dense)             (None, 15)                315       \n",
      "_________________________________________________________________\n",
      "dense_79 (Dense)             (None, 1)                 16        \n",
      "=================================================================\n",
      "Total params: 13,751\n",
      "Trainable params: 13,751\n",
      "Non-trainable params: 0\n",
      "_________________________________________________________________\n",
      "Epoch 1/20\n",
      "2721/2721 - 2s - loss: -1.1173e+00\n",
      "Epoch 2/20\n",
      "2721/2721 - 2s - loss: -1.1509e+00\n",
      "Epoch 3/20\n",
      "2721/2721 - 2s - loss: -1.2101e+00\n",
      "Epoch 4/20\n",
      "2721/2721 - 2s - loss: -1.3793e+00\n",
      "Epoch 5/20\n",
      "2721/2721 - 2s - loss: 22.1421\n",
      "Epoch 6/20\n",
      "2721/2721 - 2s - loss: 40.6654\n",
      "Epoch 7/20\n",
      "2721/2721 - 2s - loss: 27.0186\n",
      "Epoch 8/20\n",
      "2721/2721 - 2s - loss: 18.2445\n",
      "Epoch 9/20\n",
      "2721/2721 - 2s - loss: 11.4770\n",
      "Epoch 10/20\n",
      "2721/2721 - 2s - loss: 6.9577\n",
      "Epoch 11/20\n",
      "2721/2721 - 2s - loss: 3.9461\n",
      "Epoch 12/20\n",
      "2721/2721 - 2s - loss: 2.1483\n",
      "Epoch 13/20\n",
      "2721/2721 - 2s - loss: 0.9956\n",
      "Epoch 14/20\n",
      "2721/2721 - 2s - loss: 0.2720\n",
      "Epoch 15/20\n",
      "2721/2721 - 2s - loss: -1.2102e-01\n",
      "Epoch 16/20\n",
      "2721/2721 - 2s - loss: -2.0244e-01\n",
      "Epoch 17/20\n",
      "2721/2721 - 3s - loss: -2.0822e-01\n",
      "Epoch 18/20\n",
      "2721/2721 - 2s - loss: -2.0332e-01\n",
      "Epoch 19/20\n",
      "2721/2721 - 2s - loss: -1.9654e-01\n",
      "Epoch 20/20\n",
      "2721/2721 - 2s - loss: -1.9725e-01\n",
      "Train MAE 17.87832286923655\n",
      "Test MAE 14.791266992156032\n"
     ]
    },
    {
     "ename": "MemoryError",
     "evalue": "Unable to allocate 49.6 GiB for an array with shape (81606, 81606) and data type float64",
     "output_type": "error",
     "traceback": [
      "\u001b[1;31m---------------------------------------------------------------------------\u001b[0m",
      "\u001b[1;31mMemoryError\u001b[0m                               Traceback (most recent call last)",
      "\u001b[1;32m<ipython-input-74-bf577f753233>\u001b[0m in \u001b[0;36m<module>\u001b[1;34m\u001b[0m\n\u001b[0;32m     20\u001b[0m \u001b[0mprint\u001b[0m\u001b[1;33m(\u001b[0m\u001b[1;34m\"Test MAE\"\u001b[0m\u001b[1;33m,\u001b[0m \u001b[0mmean_absolute_error\u001b[0m\u001b[1;33m(\u001b[0m\u001b[0mY_test\u001b[0m\u001b[1;33m,\u001b[0m \u001b[0mmodel_new_loss_weighted\u001b[0m\u001b[1;33m.\u001b[0m\u001b[0mpredict\u001b[0m\u001b[1;33m(\u001b[0m\u001b[0mX_test_scaled\u001b[0m\u001b[1;33m)\u001b[0m\u001b[1;33m)\u001b[0m\u001b[1;33m)\u001b[0m\u001b[1;33m\u001b[0m\u001b[1;33m\u001b[0m\u001b[0m\n\u001b[0;32m     21\u001b[0m \u001b[1;33m\u001b[0m\u001b[0m\n\u001b[1;32m---> 22\u001b[1;33m \u001b[0mprint\u001b[0m\u001b[1;33m(\u001b[0m\u001b[1;34m\"New loss train\"\u001b[0m\u001b[1;33m,\u001b[0m \u001b[0mnew_loss\u001b[0m\u001b[1;33m(\u001b[0m\u001b[0mY_train\u001b[0m\u001b[1;33m,\u001b[0m \u001b[0mmodel_new_loss_weighted\u001b[0m\u001b[1;33m.\u001b[0m\u001b[0mpredict\u001b[0m\u001b[1;33m(\u001b[0m\u001b[0mX_train_scaled\u001b[0m\u001b[1;33m)\u001b[0m\u001b[1;33m)\u001b[0m\u001b[1;33m)\u001b[0m\u001b[1;33m\u001b[0m\u001b[1;33m\u001b[0m\u001b[0m\n\u001b[0m\u001b[0;32m     23\u001b[0m \u001b[0mprint\u001b[0m\u001b[1;33m(\u001b[0m\u001b[1;34m\"New loss test\"\u001b[0m\u001b[1;33m,\u001b[0m \u001b[0mnew_loss\u001b[0m\u001b[1;33m(\u001b[0m\u001b[0mY_train\u001b[0m\u001b[1;33m,\u001b[0m \u001b[0mmodel_new_loss_weighted\u001b[0m\u001b[1;33m.\u001b[0m\u001b[0mpredict\u001b[0m\u001b[1;33m(\u001b[0m\u001b[0mX_train_scaled\u001b[0m\u001b[1;33m)\u001b[0m\u001b[1;33m)\u001b[0m\u001b[1;33m)\u001b[0m\u001b[1;33m\u001b[0m\u001b[1;33m\u001b[0m\u001b[0m\n",
      "\u001b[1;32m<ipython-input-35-1c81b931fac6>\u001b[0m in \u001b[0;36mnew_loss\u001b[1;34m(y_true, y_pred)\u001b[0m\n\u001b[0;32m      2\u001b[0m \u001b[1;33m\u001b[0m\u001b[0m\n\u001b[0;32m      3\u001b[0m \u001b[1;32mdef\u001b[0m \u001b[0mnew_loss\u001b[0m\u001b[1;33m(\u001b[0m\u001b[0my_true\u001b[0m\u001b[1;33m,\u001b[0m \u001b[0my_pred\u001b[0m\u001b[1;33m)\u001b[0m\u001b[1;33m:\u001b[0m\u001b[1;33m\u001b[0m\u001b[1;33m\u001b[0m\u001b[0m\n\u001b[1;32m----> 4\u001b[1;33m     \u001b[1;32mreturn\u001b[0m \u001b[0mK\u001b[0m\u001b[1;33m.\u001b[0m\u001b[0msum\u001b[0m\u001b[1;33m(\u001b[0m\u001b[0mK\u001b[0m\u001b[1;33m.\u001b[0m\u001b[0mabs\u001b[0m\u001b[1;33m(\u001b[0m\u001b[0my_true\u001b[0m\u001b[1;33m-\u001b[0m\u001b[0my_pred\u001b[0m\u001b[1;33m)\u001b[0m\u001b[1;33m)\u001b[0m\u001b[1;33m/\u001b[0m\u001b[0mK\u001b[0m\u001b[1;33m.\u001b[0m\u001b[0msum\u001b[0m\u001b[1;33m(\u001b[0m\u001b[0my_pred\u001b[0m\u001b[1;33m)\u001b[0m\u001b[1;33m\u001b[0m\u001b[1;33m\u001b[0m\u001b[0m\n\u001b[0m",
      "\u001b[1;32m~\\Anaconda3\\envs\\formation_env\\lib\\site-packages\\pandas\\core\\ops\\common.py\u001b[0m in \u001b[0;36mnew_method\u001b[1;34m(self, other)\u001b[0m\n\u001b[0;32m     63\u001b[0m         \u001b[0mother\u001b[0m \u001b[1;33m=\u001b[0m \u001b[0mitem_from_zerodim\u001b[0m\u001b[1;33m(\u001b[0m\u001b[0mother\u001b[0m\u001b[1;33m)\u001b[0m\u001b[1;33m\u001b[0m\u001b[1;33m\u001b[0m\u001b[0m\n\u001b[0;32m     64\u001b[0m \u001b[1;33m\u001b[0m\u001b[0m\n\u001b[1;32m---> 65\u001b[1;33m         \u001b[1;32mreturn\u001b[0m \u001b[0mmethod\u001b[0m\u001b[1;33m(\u001b[0m\u001b[0mself\u001b[0m\u001b[1;33m,\u001b[0m \u001b[0mother\u001b[0m\u001b[1;33m)\u001b[0m\u001b[1;33m\u001b[0m\u001b[1;33m\u001b[0m\u001b[0m\n\u001b[0m\u001b[0;32m     66\u001b[0m \u001b[1;33m\u001b[0m\u001b[0m\n\u001b[0;32m     67\u001b[0m     \u001b[1;32mreturn\u001b[0m \u001b[0mnew_method\u001b[0m\u001b[1;33m\u001b[0m\u001b[1;33m\u001b[0m\u001b[0m\n",
      "\u001b[1;32m~\\Anaconda3\\envs\\formation_env\\lib\\site-packages\\pandas\\core\\arraylike.py\u001b[0m in \u001b[0;36m__sub__\u001b[1;34m(self, other)\u001b[0m\n\u001b[0;32m     95\u001b[0m     \u001b[1;33m@\u001b[0m\u001b[0munpack_zerodim_and_defer\u001b[0m\u001b[1;33m(\u001b[0m\u001b[1;34m\"__sub__\"\u001b[0m\u001b[1;33m)\u001b[0m\u001b[1;33m\u001b[0m\u001b[1;33m\u001b[0m\u001b[0m\n\u001b[0;32m     96\u001b[0m     \u001b[1;32mdef\u001b[0m \u001b[0m__sub__\u001b[0m\u001b[1;33m(\u001b[0m\u001b[0mself\u001b[0m\u001b[1;33m,\u001b[0m \u001b[0mother\u001b[0m\u001b[1;33m)\u001b[0m\u001b[1;33m:\u001b[0m\u001b[1;33m\u001b[0m\u001b[1;33m\u001b[0m\u001b[0m\n\u001b[1;32m---> 97\u001b[1;33m         \u001b[1;32mreturn\u001b[0m \u001b[0mself\u001b[0m\u001b[1;33m.\u001b[0m\u001b[0m_arith_method\u001b[0m\u001b[1;33m(\u001b[0m\u001b[0mother\u001b[0m\u001b[1;33m,\u001b[0m \u001b[0moperator\u001b[0m\u001b[1;33m.\u001b[0m\u001b[0msub\u001b[0m\u001b[1;33m)\u001b[0m\u001b[1;33m\u001b[0m\u001b[1;33m\u001b[0m\u001b[0m\n\u001b[0m\u001b[0;32m     98\u001b[0m \u001b[1;33m\u001b[0m\u001b[0m\n\u001b[0;32m     99\u001b[0m     \u001b[1;33m@\u001b[0m\u001b[0munpack_zerodim_and_defer\u001b[0m\u001b[1;33m(\u001b[0m\u001b[1;34m\"__rsub__\"\u001b[0m\u001b[1;33m)\u001b[0m\u001b[1;33m\u001b[0m\u001b[1;33m\u001b[0m\u001b[0m\n",
      "\u001b[1;32m~\\Anaconda3\\envs\\formation_env\\lib\\site-packages\\pandas\\core\\series.py\u001b[0m in \u001b[0;36m_arith_method\u001b[1;34m(self, other, op)\u001b[0m\n\u001b[0;32m   4966\u001b[0m         \u001b[0mlvalues\u001b[0m \u001b[1;33m=\u001b[0m \u001b[0mextract_array\u001b[0m\u001b[1;33m(\u001b[0m\u001b[0mself\u001b[0m\u001b[1;33m,\u001b[0m \u001b[0mextract_numpy\u001b[0m\u001b[1;33m=\u001b[0m\u001b[1;32mTrue\u001b[0m\u001b[1;33m)\u001b[0m\u001b[1;33m\u001b[0m\u001b[1;33m\u001b[0m\u001b[0m\n\u001b[0;32m   4967\u001b[0m         \u001b[0mrvalues\u001b[0m \u001b[1;33m=\u001b[0m \u001b[0mextract_array\u001b[0m\u001b[1;33m(\u001b[0m\u001b[0mother\u001b[0m\u001b[1;33m,\u001b[0m \u001b[0mextract_numpy\u001b[0m\u001b[1;33m=\u001b[0m\u001b[1;32mTrue\u001b[0m\u001b[1;33m)\u001b[0m\u001b[1;33m\u001b[0m\u001b[1;33m\u001b[0m\u001b[0m\n\u001b[1;32m-> 4968\u001b[1;33m         \u001b[0mresult\u001b[0m \u001b[1;33m=\u001b[0m \u001b[0mops\u001b[0m\u001b[1;33m.\u001b[0m\u001b[0marithmetic_op\u001b[0m\u001b[1;33m(\u001b[0m\u001b[0mlvalues\u001b[0m\u001b[1;33m,\u001b[0m \u001b[0mrvalues\u001b[0m\u001b[1;33m,\u001b[0m \u001b[0mop\u001b[0m\u001b[1;33m)\u001b[0m\u001b[1;33m\u001b[0m\u001b[1;33m\u001b[0m\u001b[0m\n\u001b[0m\u001b[0;32m   4969\u001b[0m \u001b[1;33m\u001b[0m\u001b[0m\n\u001b[0;32m   4970\u001b[0m         \u001b[1;32mreturn\u001b[0m \u001b[0mself\u001b[0m\u001b[1;33m.\u001b[0m\u001b[0m_construct_result\u001b[0m\u001b[1;33m(\u001b[0m\u001b[0mresult\u001b[0m\u001b[1;33m,\u001b[0m \u001b[0mname\u001b[0m\u001b[1;33m=\u001b[0m\u001b[0mres_name\u001b[0m\u001b[1;33m)\u001b[0m\u001b[1;33m\u001b[0m\u001b[1;33m\u001b[0m\u001b[0m\n",
      "\u001b[1;32m~\\Anaconda3\\envs\\formation_env\\lib\\site-packages\\pandas\\core\\ops\\array_ops.py\u001b[0m in \u001b[0;36marithmetic_op\u001b[1;34m(left, right, op)\u001b[0m\n\u001b[0;32m    187\u001b[0m     \u001b[1;32melse\u001b[0m\u001b[1;33m:\u001b[0m\u001b[1;33m\u001b[0m\u001b[1;33m\u001b[0m\u001b[0m\n\u001b[0;32m    188\u001b[0m         \u001b[1;32mwith\u001b[0m \u001b[0mnp\u001b[0m\u001b[1;33m.\u001b[0m\u001b[0merrstate\u001b[0m\u001b[1;33m(\u001b[0m\u001b[0mall\u001b[0m\u001b[1;33m=\u001b[0m\u001b[1;34m\"ignore\"\u001b[0m\u001b[1;33m)\u001b[0m\u001b[1;33m:\u001b[0m\u001b[1;33m\u001b[0m\u001b[1;33m\u001b[0m\u001b[0m\n\u001b[1;32m--> 189\u001b[1;33m             \u001b[0mres_values\u001b[0m \u001b[1;33m=\u001b[0m \u001b[0m_na_arithmetic_op\u001b[0m\u001b[1;33m(\u001b[0m\u001b[0mlvalues\u001b[0m\u001b[1;33m,\u001b[0m \u001b[0mrvalues\u001b[0m\u001b[1;33m,\u001b[0m \u001b[0mop\u001b[0m\u001b[1;33m)\u001b[0m\u001b[1;33m\u001b[0m\u001b[1;33m\u001b[0m\u001b[0m\n\u001b[0m\u001b[0;32m    190\u001b[0m \u001b[1;33m\u001b[0m\u001b[0m\n\u001b[0;32m    191\u001b[0m     \u001b[1;32mreturn\u001b[0m \u001b[0mres_values\u001b[0m\u001b[1;33m\u001b[0m\u001b[1;33m\u001b[0m\u001b[0m\n",
      "\u001b[1;32m~\\Anaconda3\\envs\\formation_env\\lib\\site-packages\\pandas\\core\\ops\\array_ops.py\u001b[0m in \u001b[0;36m_na_arithmetic_op\u001b[1;34m(left, right, op, is_cmp)\u001b[0m\n\u001b[0;32m    140\u001b[0m \u001b[1;33m\u001b[0m\u001b[0m\n\u001b[0;32m    141\u001b[0m     \u001b[1;32mtry\u001b[0m\u001b[1;33m:\u001b[0m\u001b[1;33m\u001b[0m\u001b[1;33m\u001b[0m\u001b[0m\n\u001b[1;32m--> 142\u001b[1;33m         \u001b[0mresult\u001b[0m \u001b[1;33m=\u001b[0m \u001b[0mexpressions\u001b[0m\u001b[1;33m.\u001b[0m\u001b[0mevaluate\u001b[0m\u001b[1;33m(\u001b[0m\u001b[0mop\u001b[0m\u001b[1;33m,\u001b[0m \u001b[0mleft\u001b[0m\u001b[1;33m,\u001b[0m \u001b[0mright\u001b[0m\u001b[1;33m)\u001b[0m\u001b[1;33m\u001b[0m\u001b[1;33m\u001b[0m\u001b[0m\n\u001b[0m\u001b[0;32m    143\u001b[0m     \u001b[1;32mexcept\u001b[0m \u001b[0mTypeError\u001b[0m\u001b[1;33m:\u001b[0m\u001b[1;33m\u001b[0m\u001b[1;33m\u001b[0m\u001b[0m\n\u001b[0;32m    144\u001b[0m         \u001b[1;32mif\u001b[0m \u001b[0mis_cmp\u001b[0m\u001b[1;33m:\u001b[0m\u001b[1;33m\u001b[0m\u001b[1;33m\u001b[0m\u001b[0m\n",
      "\u001b[1;32m~\\Anaconda3\\envs\\formation_env\\lib\\site-packages\\pandas\\core\\computation\\expressions.py\u001b[0m in \u001b[0;36mevaluate\u001b[1;34m(op, a, b, use_numexpr)\u001b[0m\n\u001b[0;32m    233\u001b[0m         \u001b[1;32mif\u001b[0m \u001b[0muse_numexpr\u001b[0m\u001b[1;33m:\u001b[0m\u001b[1;33m\u001b[0m\u001b[1;33m\u001b[0m\u001b[0m\n\u001b[0;32m    234\u001b[0m             \u001b[1;31m# error: \"None\" not callable\u001b[0m\u001b[1;33m\u001b[0m\u001b[1;33m\u001b[0m\u001b[1;33m\u001b[0m\u001b[0m\n\u001b[1;32m--> 235\u001b[1;33m             \u001b[1;32mreturn\u001b[0m \u001b[0m_evaluate\u001b[0m\u001b[1;33m(\u001b[0m\u001b[0mop\u001b[0m\u001b[1;33m,\u001b[0m \u001b[0mop_str\u001b[0m\u001b[1;33m,\u001b[0m \u001b[0ma\u001b[0m\u001b[1;33m,\u001b[0m \u001b[0mb\u001b[0m\u001b[1;33m)\u001b[0m  \u001b[1;31m# type: ignore[misc]\u001b[0m\u001b[1;33m\u001b[0m\u001b[1;33m\u001b[0m\u001b[0m\n\u001b[0m\u001b[0;32m    236\u001b[0m     \u001b[1;32mreturn\u001b[0m \u001b[0m_evaluate_standard\u001b[0m\u001b[1;33m(\u001b[0m\u001b[0mop\u001b[0m\u001b[1;33m,\u001b[0m \u001b[0mop_str\u001b[0m\u001b[1;33m,\u001b[0m \u001b[0ma\u001b[0m\u001b[1;33m,\u001b[0m \u001b[0mb\u001b[0m\u001b[1;33m)\u001b[0m\u001b[1;33m\u001b[0m\u001b[1;33m\u001b[0m\u001b[0m\n\u001b[0;32m    237\u001b[0m \u001b[1;33m\u001b[0m\u001b[0m\n",
      "\u001b[1;32m~\\Anaconda3\\envs\\formation_env\\lib\\site-packages\\pandas\\core\\computation\\expressions.py\u001b[0m in \u001b[0;36m_evaluate_standard\u001b[1;34m(op, op_str, a, b)\u001b[0m\n\u001b[0;32m     67\u001b[0m         \u001b[0m_store_test_result\u001b[0m\u001b[1;33m(\u001b[0m\u001b[1;32mFalse\u001b[0m\u001b[1;33m)\u001b[0m\u001b[1;33m\u001b[0m\u001b[1;33m\u001b[0m\u001b[0m\n\u001b[0;32m     68\u001b[0m     \u001b[1;32mwith\u001b[0m \u001b[0mnp\u001b[0m\u001b[1;33m.\u001b[0m\u001b[0merrstate\u001b[0m\u001b[1;33m(\u001b[0m\u001b[0mall\u001b[0m\u001b[1;33m=\u001b[0m\u001b[1;34m\"ignore\"\u001b[0m\u001b[1;33m)\u001b[0m\u001b[1;33m:\u001b[0m\u001b[1;33m\u001b[0m\u001b[1;33m\u001b[0m\u001b[0m\n\u001b[1;32m---> 69\u001b[1;33m         \u001b[1;32mreturn\u001b[0m \u001b[0mop\u001b[0m\u001b[1;33m(\u001b[0m\u001b[0ma\u001b[0m\u001b[1;33m,\u001b[0m \u001b[0mb\u001b[0m\u001b[1;33m)\u001b[0m\u001b[1;33m\u001b[0m\u001b[1;33m\u001b[0m\u001b[0m\n\u001b[0m\u001b[0;32m     70\u001b[0m \u001b[1;33m\u001b[0m\u001b[0m\n\u001b[0;32m     71\u001b[0m \u001b[1;33m\u001b[0m\u001b[0m\n",
      "\u001b[1;31mMemoryError\u001b[0m: Unable to allocate 49.6 GiB for an array with shape (81606, 81606) and data type float64"
     ]
    }
   ],
   "source": [
    "model_new_loss_weighted = Sequential()\n",
    "\n",
    "input_shape = X_train_scaled.shape[1:]\n",
    "\n",
    "model_new_loss_weighted.add(Input((input_shape)))\n",
    "model_new_loss_weighted.add(Flatten())\n",
    "\n",
    "model_new_loss_weighted.add(Dense(100, activation='tanh'))\n",
    "model_new_loss_weighted.add(Dense(100, activation='tanh'))\n",
    "model_new_loss_weighted.add(Dense(20, activation='tanh'))\n",
    "model_new_loss_weighted.add(Dense(15, activation='tanh'))\n",
    "\n",
    "model_new_loss_weighted.add(Dense(1, activation='linear', weights = [np.ones([15, 1])*(-50), np.array([-1000]).reshape(1)]))\n",
    "model_new_loss_weighted.compile(loss=new_loss, optimizer='adam')\n",
    "model_new_loss_weighted.summary()\n",
    "\n",
    "model_new_loss_weighted.fit(X_train_scaled, Y_train, batch_size=30, epochs=20, verbose=2)\n",
    "\n",
    "print(\"Train MAE\", mean_absolute_error(Y_train, model_new_loss_weighted.predict(X_train_scaled)))\n",
    "print(\"Test MAE\", mean_absolute_error(Y_test, model_new_loss_weighted.predict(X_test_scaled)))\n",
    "\n",
    "print(\"New loss train\", new_loss(Y_train, model_new_loss_weighted.predict(X_train_scaled)))\n",
    "print(\"New loss test\", new_loss(Y_train, model_new_loss_weighted.predict(X_train_scaled)))"
   ]
  },
  {
   "cell_type": "code",
   "execution_count": 75,
   "metadata": {},
   "outputs": [],
   "source": [
    "y_predict = model_new_loss_weighted.predict(X_test).reshape(-1)"
   ]
  },
  {
   "cell_type": "code",
   "execution_count": 76,
   "metadata": {},
   "outputs": [
    {
     "data": {
      "image/png": "[encoded data removed]",
      "text/plain": [
       "<Figure size 432x288 with 1 Axes>"
      ]
     },
     "metadata": {
      "needs_background": "light"
     },
     "output_type": "display_data"
    }
   ],
   "source": [
    "indices = np.where(np.abs(Y_test - y_predict) < 1)\n",
    "\n",
    "plt.hist(X_train['STATE/COUNTRY ID'].iloc[indices])\n",
    "plt.show()"
   ]
  },
  {
   "cell_type": "code",
   "execution_count": 77,
   "metadata": {},
   "outputs": [
    {
     "data": {
      "image/png": "[encoded data removed]",
      "text/plain": [
       "<Figure size 432x288 with 1 Axes>"
      ]
     },
     "metadata": {
      "needs_background": "light"
     },
     "output_type": "display_data"
    }
   ],
   "source": [
    "indices = np.where(np.abs(Y_test - y_predict) >= 1)\n",
    "\n",
    "plt.hist(X_train['STATE/COUNTRY ID'].iloc[indices])\n",
    "plt.show()"
   ]
  },
  {
   "cell_type": "markdown",
   "metadata": {},
   "source": [
    "```Something here smells fhisy as a drunk french on sunday morning. Try comparing the network you trained using the new loss with the other networks you trained so far, using all the metrics we used so far. What results did you get? Can you explain your results?```"
   ]
  },
  {
   "cell_type": "code",
   "execution_count": null,
   "metadata": {},
   "outputs": [],
   "source": [
    "\"\"\"\n",
    "\n",
    "Higher MAE loss in this case, because of the weights.\n",
    "\n",
    "\"\"\""
   ]
  }
 ],
 "metadata": {
  "kernelspec": {
   "display_name": "Python 3",
   "language": "python",
   "name": "python3"
  },
  "language_info": {
   "codemirror_mode": {
    "name": "ipython",
    "version": 3
   },
   "file_extension": ".py",
   "mimetype": "text/x-python",
   "name": "python",
   "nbconvert_exporter": "python",
   "pygments_lexer": "ipython3",
   "version": "3.8.5"
  }
 },
 "nbformat": 4,
 "nbformat_minor": 2
}
