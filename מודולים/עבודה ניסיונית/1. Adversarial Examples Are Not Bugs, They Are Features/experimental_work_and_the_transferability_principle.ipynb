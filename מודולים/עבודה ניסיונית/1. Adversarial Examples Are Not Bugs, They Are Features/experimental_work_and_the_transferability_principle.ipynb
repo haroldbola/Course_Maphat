{
  "nbformat": 4,
  "nbformat_minor": 0,
  "metadata": {
    "accelerator": "GPU",
    "colab": {
      "name": "experimental_work_and_the_transferability_principle.ipynb",
      "provenance": [],
      "collapsed_sections": []
    },
    "kernelspec": {
      "display_name": "Python 3",
      "language": "python",
      "name": "python3"
    },
    "language_info": {
      "codemirror_mode": {
        "name": "ipython",
        "version": 3
      },
      "file_extension": ".py",
      "mimetype": "text/x-python",
      "name": "python",
      "nbconvert_exporter": "python",
      "pygments_lexer": "ipython3",
      "version": "3.8.8"
    }
  },
  "cells": [
    {
      "cell_type": "markdown",
      "metadata": {
        "id": "IxAra_wOqpBQ"
      },
      "source": [
        "## Experimental Work and The Transferability Principle\n",
        "```In this exercise you will experience with real experimental work and will meet a very interesting issue - adversarial AI and the transferability principle. You will define experiments and measures for success, and will execute those experiments. It is of great importance that you will discuss this exercise with your tutor, even during the work on the exercise.```\n",
        "\n",
        "```~Ohad Amosi & Ittai Haran```"
      ]
    },
    {
      "cell_type": "markdown",
      "metadata": {
        "id": "qsROUXTNqpBV"
      },
      "source": [
        "```Read the paper \"Adversarial Examples Are Not Bugs, They Are Features\", which you can find in this exercise directory. Read it thoroughly. Make sure you understand how the datasets of experiments #1 and #2 were generated. As you might tell, the paper reports very interesting results.```\n",
        "\n",
        "```If you are not familiar with the concept of model distillation, read about it. There arise the question, how can we be sure that the \"non-robust\" features described in the paper are real? Could it be that the effect the paper measures is a model distillation? Think about it: In both the experiments the authors used a trained robust network to label images, on which another network was trained normally. Could it be that the robust network was somehow \"leaked\"? Think about this possibility, and how it could have happen in experiment #1 and experiment #2.```"
      ]
    },
    {
      "cell_type": "markdown",
      "metadata": {
        "id": "nmNWt916qpBW"
      },
      "source": [
        "## Answer\n",
        "\n",
        "In distillation training, one model is trained to predict the output probabilities of another model that was trained on an earlier, baseline standard to emphasize accuracy.\n",
        "\n",
        "In the case of the first experiment, robust model is used to create a robust dataset.\n",
        "We want to replace each sample x in the original dataset by a sample x_r. x and x_r must be very close in the latent space of a robust model.\n",
        "We use only the representation layer of the robust model, not the output probabilities and then it is not a distillation training. Furthermore, the new sample x_r does not lie in the latent sapce, but in the input space\n",
        "\n",
        "Experiment #2 does not use a robust model, but creates advresarial example to show that good classification can be achieved only based on non-robust features"
      ]
    },
    {
      "cell_type": "markdown",
      "metadata": {
        "id": "QMNkNZMiqpBW"
      },
      "source": [
        "```All in all, we will examine two conjectures:```\n",
        "1. ```The paper is great, non-robust features are the real thing and different networks use the same features.```\n",
        "2. ```The paper is wrong, it's only a fancy way of network distilling.```"
      ]
    },
    {
      "cell_type": "markdown",
      "metadata": {
        "id": "LrjOUvtPqpBX"
      },
      "source": [
        "```Let's first explore the concept of distilling networks. Can we do it in any case? Can you distill a network using only, for example, white noise? Can you do it using only the predictions? Or do you maybe need to use the logits of the network? Answer this question. MNIST might help you with that.```"
      ]
    },
    {
      "cell_type": "code",
      "metadata": {
        "id": "O_98iH7IqpBX"
      },
      "source": [
        "import numpy as np\n",
        "from keras.callbacks import EarlyStopping\n",
        "from tensorflow import keras\n",
        "from tensorflow.keras import layers\n",
        "from keras.layers import Layer\n",
        "import tensorflow as tf"
      ],
      "execution_count": 1,
      "outputs": []
    },
    {
      "cell_type": "code",
      "metadata": {
        "id": "Hf4uG7lzqpBY"
      },
      "source": [
        "class DivideLayer(Layer):\n",
        "    def __init__(self, temperature=1, **kwargs):\n",
        "        self.temperature = temperature\n",
        "        super(DivideLayer, self).__init__(**kwargs)\n",
        "\n",
        "    def call(self, inputs, training=None):\n",
        "        if training:\n",
        "            return  inputs / self.temperature\n",
        "        return inputs"
      ],
      "execution_count": 2,
      "outputs": []
    },
    {
      "cell_type": "code",
      "metadata": {
        "id": "qf2le7lGqpBY"
      },
      "source": [
        "def train_model(x_train, y_train, input_shape, num_classes, temperature=1):\n",
        "    model = keras.Sequential(\n",
        "        [\n",
        "            keras.Input(shape=input_shape),\n",
        "            layers.Conv2D(32, kernel_size=(3, 3), activation=\"relu\"),\n",
        "            layers.MaxPooling2D(pool_size=(2, 2)),\n",
        "            layers.Conv2D(64, kernel_size=(3, 3), activation=\"relu\"),\n",
        "            layers.MaxPooling2D(pool_size=(2, 2)),\n",
        "            layers.Flatten(),\n",
        "            layers.Dropout(0.5),\n",
        "            DivideLayer(temperature),\n",
        "            layers.Dense(num_classes, activation=\"softmax\"),\n",
        "        ]\n",
        "    )\n",
        "    \n",
        "    es = EarlyStopping(monitor='val_accuracy', mode='max', verbose=1, patience=3)\n",
        "    model.compile(loss=\"categorical_crossentropy\", optimizer=\"adam\", metrics=[\"accuracy\"])\n",
        "#     model.summary()\n",
        "    model.fit(x_train, y_train, batch_size=256, epochs=15, validation_split=0.1, callbacks=[es])\n",
        "    \n",
        "    return model"
      ],
      "execution_count": 3,
      "outputs": []
    },
    {
      "cell_type": "code",
      "metadata": {
        "id": "nPDFh26XqyDS"
      },
      "source": [
        "def TestAttack(model, adv_images, orig_images, true_labels, target_labels=None, targeted=False):\n",
        "    adv_images = adv_images.numpy()\n",
        "    score = model.evaluate(adv_images, true_labels, verbose=0)\n",
        "    \n",
        "    print('Test loss: {:.2f}'.format(score[0]))\n",
        "    print('Successfully moved out of source class: {:.2f}'.format( 1 - score[1]))\n",
        "    \n",
        "    if targeted:\n",
        "        score = model.evaluate(adv_images, target, verbose=0)\n",
        "        print('Test loss: {:.2f}'.format(score[0]))\n",
        "        print('Successfully perturbed to target class: {:.2f}'.format(score[1]))\n",
        "    \n",
        "    dist = np.mean(np.sqrt(np.mean(np.square(adv_images - orig_images), axis=(1,2,3))))\n",
        "    print('Mean perturbation distance: {:.2f}'.format(dist))"
      ],
      "execution_count": 4,
      "outputs": []
    },
    {
      "cell_type": "code",
      "metadata": {
        "id": "rnoBkO4Pq0xC"
      },
      "source": [
        "def FastGradientSignMethod(model, input_image, input_label, eps=0.3):\n",
        "    loss_object = tf.keras.losses.CategoricalCrossentropy()\n",
        "    \n",
        "    with tf.GradientTape() as tape:\n",
        "        tape.watch(input_image)\n",
        "        prediction = model(input_image)\n",
        "        loss = loss_object(input_label, prediction)\n",
        "\n",
        "    gradient = tape.gradient(loss, input_image)\n",
        "    signed_grad = tf.sign(gradient)\n",
        "    adv_x = input_image + eps*signed_grad\n",
        "    \n",
        "    return adv_x"
      ],
      "execution_count": 5,
      "outputs": []
    },
    {
      "cell_type": "code",
      "metadata": {
        "id": "tK5lG8riqvKL"
      },
      "source": [
        "def attack_model(test_images, test_labels, model, eps=0.3):\n",
        "  test_images = tf.convert_to_tensor(test_images)\n",
        "\n",
        "  adv_images = FastGradientSignMethod(model, test_images, test_labels, eps=eps)\n",
        "  TestAttack(model, adv_images, test_images.numpy(), test_labels, targeted=False)"
      ],
      "execution_count": 6,
      "outputs": []
    },
    {
      "cell_type": "code",
      "metadata": {
        "id": "atp3ixO5rQvJ"
      },
      "source": [
        "def train_distillation(temperature=1, use_proba=True, white_noise_input=False, \n",
        "                       number_white_noise=60000):\n",
        "    num_classes = 10\n",
        "    input_shape = (28, 28, 1)\n",
        "    \n",
        "    (x_train, y_train), (x_test, y_test) = keras.datasets.mnist.load_data()\n",
        "\n",
        "    x_train = x_train.astype(\"float32\") / 255\n",
        "    x_test = x_test.astype(\"float32\") / 255\n",
        "    x_train = np.expand_dims(x_train, -1)\n",
        "    x_test = np.expand_dims(x_test, -1)\n",
        "\n",
        "    y_train = keras.utils.to_categorical(y_train, num_classes)\n",
        "    y_test = keras.utils.to_categorical(y_test, num_classes)\n",
        "    print('x_train', x_train.shape)\n",
        "    print(\"Training teacher model\")\n",
        "    teacher = train_model(x_train, y_train, input_shape, num_classes, temperature=temperature)\n",
        "    \n",
        "    _, acc = teacher.evaluate(x_test, y_test, batch_size=512)\n",
        "    print('Teacher test accuracy:', acc)\n",
        "\n",
        "    if use_proba is True:\n",
        "        train_probas = teacher.predict(x_train)\n",
        "    else:\n",
        "        train_probas = teacher.predict(x_train)\n",
        "        print(train_probas[0, :])\n",
        "        train_probas = np.argmax(train_probas, axis=1)\n",
        "        train_probas = tf.one_hot(train_probas, depth=num_classes)\n",
        "        print(train_probas[0, :])\n",
        "\n",
        "    if white_noise_input is True:\n",
        "#         x_train = np.random.normal(size=(60000, 28, 28, 1))\n",
        "        x_train = np.random.randint(0, 2, size=(number_white_noise, 28, 28, 1))\n",
        "        train_probas = teacher.predict(x_train)\n",
        "        print('x_train', x_train.shape)\n",
        "\n",
        "    print(\"Training student model\")\n",
        "    student = train_model(x_train, train_probas, input_shape, num_classes, temperature=temperature)\n",
        "    \n",
        "    _, acc = student.evaluate(x_test, y_test, batch_size=512)\n",
        "    print('Student test accuracy:', acc)\n",
        "\n",
        "    print('Attacking teacher model')\n",
        "    attack_model(x_test, y_test, teacher, eps=0.3)\n",
        "    print('Attacking student model')\n",
        "    attack_model(x_test, y_test, student, eps=0.3)\n",
        "\n",
        "    return teacher, student"
      ],
      "execution_count": 9,
      "outputs": []
    },
    {
      "cell_type": "code",
      "metadata": {
        "colab": {
          "base_uri": "https://localhost:8080/"
        },
        "id": "997p2hd1rIZb",
        "outputId": "74ae89cb-e7df-40da-cbbd-eb06affaed0e"
      },
      "source": [
        "teacher, student = train_distillation(temperature=10, use_proba=True)"
      ],
      "execution_count": null,
      "outputs": [
        {
          "output_type": "stream",
          "text": [
            "Training teacher model\n",
            "Epoch 1/15\n",
            "211/211 [==============================] - 4s 14ms/step - loss: 1.3754 - accuracy: 0.6046 - val_loss: 0.7729 - val_accuracy: 0.9508\n",
            "Epoch 2/15\n",
            "211/211 [==============================] - 3s 12ms/step - loss: 0.2553 - accuracy: 0.9234 - val_loss: 0.5619 - val_accuracy: 0.9682\n",
            "Epoch 3/15\n",
            "211/211 [==============================] - 3s 13ms/step - loss: 0.1807 - accuracy: 0.9463 - val_loss: 0.4765 - val_accuracy: 0.9753\n",
            "Epoch 4/15\n",
            "211/211 [==============================] - 3s 12ms/step - loss: 0.1482 - accuracy: 0.9556 - val_loss: 0.4378 - val_accuracy: 0.9778\n",
            "Epoch 5/15\n",
            "211/211 [==============================] - 3s 12ms/step - loss: 0.1249 - accuracy: 0.9623 - val_loss: 0.4146 - val_accuracy: 0.9787\n",
            "Epoch 6/15\n",
            "211/211 [==============================] - 3s 12ms/step - loss: 0.1166 - accuracy: 0.9633 - val_loss: 0.3762 - val_accuracy: 0.9808\n",
            "Epoch 7/15\n",
            "211/211 [==============================] - 3s 12ms/step - loss: 0.1009 - accuracy: 0.9705 - val_loss: 0.3380 - val_accuracy: 0.9827\n",
            "Epoch 8/15\n",
            "211/211 [==============================] - 3s 12ms/step - loss: 0.0915 - accuracy: 0.9722 - val_loss: 0.2989 - val_accuracy: 0.9858\n",
            "Epoch 9/15\n",
            "211/211 [==============================] - 3s 12ms/step - loss: 0.0858 - accuracy: 0.9728 - val_loss: 0.3006 - val_accuracy: 0.9865\n",
            "Epoch 10/15\n",
            "211/211 [==============================] - 3s 12ms/step - loss: 0.0817 - accuracy: 0.9753 - val_loss: 0.2995 - val_accuracy: 0.9862\n",
            "Epoch 11/15\n",
            "211/211 [==============================] - 3s 12ms/step - loss: 0.0788 - accuracy: 0.9754 - val_loss: 0.2934 - val_accuracy: 0.9880\n",
            "Epoch 12/15\n",
            "211/211 [==============================] - 3s 12ms/step - loss: 0.0784 - accuracy: 0.9755 - val_loss: 0.2598 - val_accuracy: 0.9880\n",
            "Epoch 13/15\n",
            "211/211 [==============================] - 3s 12ms/step - loss: 0.0699 - accuracy: 0.9784 - val_loss: 0.2941 - val_accuracy: 0.9862\n",
            "Epoch 14/15\n",
            "211/211 [==============================] - 3s 13ms/step - loss: 0.0664 - accuracy: 0.9790 - val_loss: 0.2507 - val_accuracy: 0.9897\n",
            "Epoch 15/15\n",
            "211/211 [==============================] - 3s 13ms/step - loss: 0.0645 - accuracy: 0.9805 - val_loss: 0.2647 - val_accuracy: 0.9878\n",
            "20/20 [==============================] - 0s 8ms/step - loss: 0.2330 - accuracy: 0.9860\n",
            "Teacher test accuracy: 0.9860000014305115\n",
            "Training student model\n",
            "Epoch 1/15\n",
            "211/211 [==============================] - 3s 13ms/step - loss: 1.3529 - accuracy: 0.6044 - val_loss: 0.5452 - val_accuracy: 0.9527\n",
            "Epoch 2/15\n",
            "211/211 [==============================] - 3s 12ms/step - loss: 0.2235 - accuracy: 0.9286 - val_loss: 0.3314 - val_accuracy: 0.9735\n",
            "Epoch 3/15\n",
            "211/211 [==============================] - 3s 12ms/step - loss: 0.1498 - accuracy: 0.9503 - val_loss: 0.2312 - val_accuracy: 0.9798\n",
            "Epoch 4/15\n",
            "211/211 [==============================] - 3s 12ms/step - loss: 0.1136 - accuracy: 0.9630 - val_loss: 0.1934 - val_accuracy: 0.9837\n",
            "Epoch 5/15\n",
            "211/211 [==============================] - 3s 12ms/step - loss: 0.0911 - accuracy: 0.9696 - val_loss: 0.1649 - val_accuracy: 0.9857\n",
            "Epoch 6/15\n",
            "211/211 [==============================] - 3s 12ms/step - loss: 0.0766 - accuracy: 0.9751 - val_loss: 0.1362 - val_accuracy: 0.9873\n",
            "Epoch 7/15\n",
            "211/211 [==============================] - 3s 12ms/step - loss: 0.0689 - accuracy: 0.9770 - val_loss: 0.1040 - val_accuracy: 0.9897\n",
            "Epoch 8/15\n",
            "211/211 [==============================] - 3s 12ms/step - loss: 0.0588 - accuracy: 0.9804 - val_loss: 0.1020 - val_accuracy: 0.9895\n",
            "Epoch 9/15\n",
            "211/211 [==============================] - 3s 12ms/step - loss: 0.0523 - accuracy: 0.9822 - val_loss: 0.0730 - val_accuracy: 0.9913\n",
            "Epoch 10/15\n",
            "211/211 [==============================] - 3s 12ms/step - loss: 0.0479 - accuracy: 0.9840 - val_loss: 0.0650 - val_accuracy: 0.9915\n",
            "Epoch 11/15\n",
            "211/211 [==============================] - 3s 12ms/step - loss: 0.0461 - accuracy: 0.9835 - val_loss: 0.0554 - val_accuracy: 0.9922\n",
            "Epoch 12/15\n",
            "211/211 [==============================] - 3s 13ms/step - loss: 0.0442 - accuracy: 0.9843 - val_loss: 0.0618 - val_accuracy: 0.9935\n",
            "Epoch 13/15\n",
            "211/211 [==============================] - 3s 13ms/step - loss: 0.0409 - accuracy: 0.9858 - val_loss: 0.0530 - val_accuracy: 0.9928\n",
            "Epoch 14/15\n",
            "211/211 [==============================] - 3s 12ms/step - loss: 0.0387 - accuracy: 0.9865 - val_loss: 0.0499 - val_accuracy: 0.9937\n",
            "Epoch 15/15\n",
            "211/211 [==============================] - 3s 12ms/step - loss: 0.0374 - accuracy: 0.9859 - val_loss: 0.0585 - val_accuracy: 0.9938\n",
            "20/20 [==============================] - 0s 8ms/step - loss: 0.3443 - accuracy: 0.9851\n",
            "Student test accuracy: 0.9850999712944031\n",
            "Attacking teacher model\n",
            "Test loss: 23.87\n",
            "Successfully moved out of source class: 0.36\n",
            "Mean perturbation distance: 0.11\n",
            "Attacking student model\n",
            "Test loss: 20.95\n",
            "Successfully moved out of source class: 0.22\n",
            "Mean perturbation distance: 0.07\n"
          ],
          "name": "stdout"
        }
      ]
    },
    {
      "cell_type": "code",
      "metadata": {
        "colab": {
          "base_uri": "https://localhost:8080/"
        },
        "id": "w0wlPjoC-1L8",
        "outputId": "be6d443b-486e-47d8-f67e-763eeb456a75"
      },
      "source": [
        "teacher, student = train_distillation(temperature=10, use_proba=False)"
      ],
      "execution_count": null,
      "outputs": [
        {
          "output_type": "stream",
          "text": [
            "Training teacher model\n",
            "Epoch 1/15\n",
            "211/211 [==============================] - 3s 14ms/step - loss: 1.4108 - accuracy: 0.5956 - val_loss: 0.7853 - val_accuracy: 0.9508\n",
            "Epoch 2/15\n",
            "211/211 [==============================] - 3s 13ms/step - loss: 0.2501 - accuracy: 0.9278 - val_loss: 0.5431 - val_accuracy: 0.9707\n",
            "Epoch 3/15\n",
            "211/211 [==============================] - 3s 13ms/step - loss: 0.1689 - accuracy: 0.9509 - val_loss: 0.4625 - val_accuracy: 0.9770\n",
            "Epoch 4/15\n",
            "211/211 [==============================] - 3s 13ms/step - loss: 0.1375 - accuracy: 0.9594 - val_loss: 0.4091 - val_accuracy: 0.9792\n",
            "Epoch 5/15\n",
            "211/211 [==============================] - 3s 13ms/step - loss: 0.1164 - accuracy: 0.9648 - val_loss: 0.3756 - val_accuracy: 0.9822\n",
            "Epoch 6/15\n",
            "211/211 [==============================] - 3s 13ms/step - loss: 0.1067 - accuracy: 0.9686 - val_loss: 0.3469 - val_accuracy: 0.9830\n",
            "Epoch 7/15\n",
            "211/211 [==============================] - 3s 13ms/step - loss: 0.0944 - accuracy: 0.9714 - val_loss: 0.2977 - val_accuracy: 0.9855\n",
            "Epoch 8/15\n",
            "211/211 [==============================] - 3s 13ms/step - loss: 0.0808 - accuracy: 0.9760 - val_loss: 0.3095 - val_accuracy: 0.9860\n",
            "Epoch 9/15\n",
            "211/211 [==============================] - 3s 13ms/step - loss: 0.0788 - accuracy: 0.9763 - val_loss: 0.2833 - val_accuracy: 0.9873\n",
            "Epoch 10/15\n",
            "211/211 [==============================] - 3s 13ms/step - loss: 0.0771 - accuracy: 0.9768 - val_loss: 0.2690 - val_accuracy: 0.9878\n",
            "Epoch 11/15\n",
            "211/211 [==============================] - 3s 13ms/step - loss: 0.0664 - accuracy: 0.9798 - val_loss: 0.2838 - val_accuracy: 0.9873\n",
            "Epoch 12/15\n",
            "211/211 [==============================] - 3s 13ms/step - loss: 0.0645 - accuracy: 0.9800 - val_loss: 0.2450 - val_accuracy: 0.9890\n",
            "Epoch 13/15\n",
            "211/211 [==============================] - 3s 13ms/step - loss: 0.0620 - accuracy: 0.9812 - val_loss: 0.2512 - val_accuracy: 0.9888\n",
            "Epoch 14/15\n",
            "211/211 [==============================] - 3s 13ms/step - loss: 0.0592 - accuracy: 0.9822 - val_loss: 0.2261 - val_accuracy: 0.9903\n",
            "Epoch 15/15\n",
            "211/211 [==============================] - 3s 13ms/step - loss: 0.0577 - accuracy: 0.9816 - val_loss: 0.2280 - val_accuracy: 0.9903\n",
            "20/20 [==============================] - 0s 8ms/step - loss: 0.1843 - accuracy: 0.9878\n",
            "Teacher test accuracy: 0.9878000020980835\n",
            "[0.000000e+00 0.000000e+00 0.000000e+00 4.972901e-16 0.000000e+00\n",
            " 1.000000e+00 0.000000e+00 0.000000e+00 0.000000e+00 0.000000e+00]\n",
            "tf.Tensor([0. 0. 0. 0. 0. 1. 0. 0. 0. 0.], shape=(10,), dtype=float32)\n",
            "Training student model\n",
            "Epoch 1/15\n",
            "211/211 [==============================] - 3s 14ms/step - loss: 1.3997 - accuracy: 0.5620 - val_loss: 0.5761 - val_accuracy: 0.9520\n",
            "Epoch 2/15\n",
            "211/211 [==============================] - 3s 13ms/step - loss: 0.2290 - accuracy: 0.9287 - val_loss: 0.3932 - val_accuracy: 0.9727\n",
            "Epoch 3/15\n",
            "211/211 [==============================] - 3s 13ms/step - loss: 0.1525 - accuracy: 0.9522 - val_loss: 0.2792 - val_accuracy: 0.9787\n",
            "Epoch 4/15\n",
            "211/211 [==============================] - 3s 13ms/step - loss: 0.1160 - accuracy: 0.9615 - val_loss: 0.2192 - val_accuracy: 0.9830\n",
            "Epoch 5/15\n",
            "211/211 [==============================] - 3s 13ms/step - loss: 0.0986 - accuracy: 0.9677 - val_loss: 0.1959 - val_accuracy: 0.9845\n",
            "Epoch 6/15\n",
            "211/211 [==============================] - 3s 13ms/step - loss: 0.0876 - accuracy: 0.9706 - val_loss: 0.1569 - val_accuracy: 0.9863\n",
            "Epoch 7/15\n",
            "211/211 [==============================] - 3s 13ms/step - loss: 0.0740 - accuracy: 0.9751 - val_loss: 0.1316 - val_accuracy: 0.9880\n",
            "Epoch 8/15\n",
            "211/211 [==============================] - 3s 13ms/step - loss: 0.0690 - accuracy: 0.9761 - val_loss: 0.1325 - val_accuracy: 0.9872\n",
            "Epoch 9/15\n",
            "211/211 [==============================] - 3s 13ms/step - loss: 0.0623 - accuracy: 0.9793 - val_loss: 0.0989 - val_accuracy: 0.9902\n",
            "Epoch 10/15\n",
            "211/211 [==============================] - 3s 13ms/step - loss: 0.0557 - accuracy: 0.9813 - val_loss: 0.1170 - val_accuracy: 0.9900\n",
            "Epoch 11/15\n",
            "211/211 [==============================] - 3s 13ms/step - loss: 0.0511 - accuracy: 0.9825 - val_loss: 0.1015 - val_accuracy: 0.9912\n",
            "Epoch 12/15\n",
            "211/211 [==============================] - 3s 13ms/step - loss: 0.0492 - accuracy: 0.9822 - val_loss: 0.1056 - val_accuracy: 0.9917\n",
            "Epoch 13/15\n",
            "211/211 [==============================] - 3s 13ms/step - loss: 0.0482 - accuracy: 0.9834 - val_loss: 0.0932 - val_accuracy: 0.9923\n",
            "Epoch 14/15\n",
            "211/211 [==============================] - 3s 13ms/step - loss: 0.0427 - accuracy: 0.9845 - val_loss: 0.0688 - val_accuracy: 0.9933\n",
            "Epoch 15/15\n",
            "211/211 [==============================] - 3s 13ms/step - loss: 0.0412 - accuracy: 0.9855 - val_loss: 0.0626 - val_accuracy: 0.9937\n",
            "20/20 [==============================] - 0s 8ms/step - loss: 0.3313 - accuracy: 0.9840\n",
            "Student test accuracy: 0.984000027179718\n",
            "Attacking teacher model\n",
            "Test loss: 24.21\n",
            "Successfully moved out of source class: 0.34\n",
            "Mean perturbation distance: 0.11\n",
            "Attacking student model\n",
            "Test loss: 21.91\n",
            "Successfully moved out of source class: 0.24\n",
            "Mean perturbation distance: 0.07\n"
          ],
          "name": "stdout"
        }
      ]
    },
    {
      "cell_type": "code",
      "metadata": {
        "colab": {
          "base_uri": "https://localhost:8080/"
        },
        "id": "V1ApDN5iBpln",
        "outputId": "60b1f3d1-0ae1-444f-a2f6-a5ccab1d398c"
      },
      "source": [
        "teacher, student = train_distillation(temperature=10, use_proba=True, white_noise_input=True,\n",
        "                                     number_white_noise=300000)"
      ],
      "execution_count": 10,
      "outputs": [
        {
          "output_type": "stream",
          "text": [
            "x_train (60000, 28, 28, 1)\n",
            "Training teacher model\n",
            "Epoch 1/15\n",
            "211/211 [==============================] - 2s 8ms/step - loss: 1.3688 - accuracy: 0.6195 - val_loss: 0.7693 - val_accuracy: 0.9500\n",
            "Epoch 2/15\n",
            "211/211 [==============================] - 1s 7ms/step - loss: 0.2487 - accuracy: 0.9263 - val_loss: 0.5327 - val_accuracy: 0.9692\n",
            "Epoch 3/15\n",
            "211/211 [==============================] - 1s 7ms/step - loss: 0.1801 - accuracy: 0.9464 - val_loss: 0.4760 - val_accuracy: 0.9742\n",
            "Epoch 4/15\n",
            "211/211 [==============================] - 1s 7ms/step - loss: 0.1447 - accuracy: 0.9556 - val_loss: 0.4140 - val_accuracy: 0.9768\n",
            "Epoch 5/15\n",
            "211/211 [==============================] - 1s 7ms/step - loss: 0.1257 - accuracy: 0.9624 - val_loss: 0.3993 - val_accuracy: 0.9805\n",
            "Epoch 6/15\n",
            "211/211 [==============================] - 1s 7ms/step - loss: 0.1130 - accuracy: 0.9662 - val_loss: 0.3804 - val_accuracy: 0.9830\n",
            "Epoch 7/15\n",
            "211/211 [==============================] - 1s 7ms/step - loss: 0.1036 - accuracy: 0.9680 - val_loss: 0.3361 - val_accuracy: 0.9835\n",
            "Epoch 8/15\n",
            "211/211 [==============================] - 1s 7ms/step - loss: 0.0971 - accuracy: 0.9704 - val_loss: 0.2961 - val_accuracy: 0.9843\n",
            "Epoch 9/15\n",
            "211/211 [==============================] - 1s 7ms/step - loss: 0.0901 - accuracy: 0.9725 - val_loss: 0.3031 - val_accuracy: 0.9857\n",
            "Epoch 10/15\n",
            "211/211 [==============================] - 1s 7ms/step - loss: 0.0863 - accuracy: 0.9727 - val_loss: 0.2786 - val_accuracy: 0.9878\n",
            "Epoch 11/15\n",
            "211/211 [==============================] - 1s 7ms/step - loss: 0.0772 - accuracy: 0.9771 - val_loss: 0.2908 - val_accuracy: 0.9863\n",
            "Epoch 12/15\n",
            "211/211 [==============================] - 1s 7ms/step - loss: 0.0784 - accuracy: 0.9760 - val_loss: 0.3044 - val_accuracy: 0.9867\n",
            "Epoch 13/15\n",
            "211/211 [==============================] - 1s 7ms/step - loss: 0.0730 - accuracy: 0.9777 - val_loss: 0.2676 - val_accuracy: 0.9878\n",
            "Epoch 00013: early stopping\n",
            "20/20 [==============================] - 0s 5ms/step - loss: 0.2302 - accuracy: 0.9847\n",
            "Teacher test accuracy: 0.9847000241279602\n",
            "x_train (300000, 28, 28, 1)\n",
            "Training student model\n",
            "Epoch 1/15\n",
            "1055/1055 [==============================] - 8s 7ms/step - loss: 0.2511 - accuracy: 0.9693 - val_loss: 0.9000 - val_accuracy: 0.9786\n",
            "Epoch 2/15\n",
            "1055/1055 [==============================] - 8s 7ms/step - loss: 0.1115 - accuracy: 0.9785 - val_loss: 0.8106 - val_accuracy: 0.9786\n",
            "Epoch 3/15\n",
            "1055/1055 [==============================] - 7s 7ms/step - loss: 0.1036 - accuracy: 0.9781 - val_loss: 0.5519 - val_accuracy: 0.9790\n",
            "Epoch 4/15\n",
            "1055/1055 [==============================] - 8s 7ms/step - loss: 0.0846 - accuracy: 0.9786 - val_loss: 0.4372 - val_accuracy: 0.9810\n",
            "Epoch 5/15\n",
            "1055/1055 [==============================] - 8s 7ms/step - loss: 0.0746 - accuracy: 0.9797 - val_loss: 0.4583 - val_accuracy: 0.9808\n",
            "Epoch 6/15\n",
            "1055/1055 [==============================] - 7s 7ms/step - loss: 0.0671 - accuracy: 0.9807 - val_loss: 0.3187 - val_accuracy: 0.9835\n",
            "Epoch 7/15\n",
            "1055/1055 [==============================] - 8s 7ms/step - loss: 0.0649 - accuracy: 0.9807 - val_loss: 0.2664 - val_accuracy: 0.9846\n",
            "Epoch 8/15\n",
            "1055/1055 [==============================] - 8s 7ms/step - loss: 0.0609 - accuracy: 0.9815 - val_loss: 0.3281 - val_accuracy: 0.9832\n",
            "Epoch 9/15\n",
            "1055/1055 [==============================] - 8s 7ms/step - loss: 0.0599 - accuracy: 0.9817 - val_loss: 0.2552 - val_accuracy: 0.9847\n",
            "Epoch 10/15\n",
            "1055/1055 [==============================] - 8s 7ms/step - loss: 0.0580 - accuracy: 0.9819 - val_loss: 0.2597 - val_accuracy: 0.9856\n",
            "Epoch 11/15\n",
            "1055/1055 [==============================] - 8s 7ms/step - loss: 0.0564 - accuracy: 0.9823 - val_loss: 0.1722 - val_accuracy: 0.9864\n",
            "Epoch 12/15\n",
            "1055/1055 [==============================] - 8s 7ms/step - loss: 0.0557 - accuracy: 0.9828 - val_loss: 0.2142 - val_accuracy: 0.9859\n",
            "Epoch 13/15\n",
            "1055/1055 [==============================] - 8s 7ms/step - loss: 0.0560 - accuracy: 0.9826 - val_loss: 0.1896 - val_accuracy: 0.9863\n",
            "Epoch 14/15\n",
            "1055/1055 [==============================] - 8s 7ms/step - loss: 0.0541 - accuracy: 0.9828 - val_loss: 0.1953 - val_accuracy: 0.9866\n",
            "Epoch 15/15\n",
            "1055/1055 [==============================] - 8s 7ms/step - loss: 0.0529 - accuracy: 0.9832 - val_loss: 0.1426 - val_accuracy: 0.9866\n",
            "20/20 [==============================] - 0s 5ms/step - loss: 114.4596 - accuracy: 0.3454\n",
            "Student test accuracy: 0.34540000557899475\n",
            "Attacking teacher model\n",
            "Test loss: 32.21\n",
            "Successfully moved out of source class: 0.47\n",
            "Mean perturbation distance: 0.14\n",
            "Attacking student model\n",
            "Test loss: 296.26\n",
            "Successfully moved out of source class: 0.83\n",
            "Mean perturbation distance: 0.24\n"
          ],
          "name": "stdout"
        }
      ]
    },
    {
      "cell_type": "markdown",
      "metadata": {
        "id": "xzyY4lx1qpBZ"
      },
      "source": [
        "```Distilling using only white noise is a though question. Why is it? Think about the concepts of distribution and out-of-distribution in when answering this.```"
      ]
    },
    {
      "cell_type": "code",
      "metadata": {
        "id": "VXBSUcNHqpBa"
      },
      "source": [
        "\"\"\"\n",
        "Distillition using white noise is tricky. \n",
        "When using white noise, most of the train data is not correlated to the real data. \n",
        "\n",
        "But there is a small part of the data which will be close to the real data. \n",
        "Because we are using the output probabilities of the teacher, the labels will be the right ones.\n",
        "\n",
        "This small part of the data is out-of-distribution. That's why in this case the student get poor results (0.35), \n",
        "but not trivial accuracy (which would be 0.1).\n",
        "\"\"\""
      ],
      "execution_count": null,
      "outputs": []
    },
    {
      "cell_type": "markdown",
      "metadata": {
        "id": "FnC14lF9qpBa",
        "solution": "hidden",
        "solution_first": true
      },
      "source": [
        "```Assuming conjecture #2 and regarding experiment #1, the distillation isn't happening on white noise, but not on real images either. Think of an experiment that will help you decide if the phenomenon the authors encountered is indeed just network distillation. Think how to measure your success. Open the hint only if you can't think of a way do to it.```"
      ]
    },
    {
      "cell_type": "markdown",
      "metadata": {
        "id": "ZBmBIcIoqpBa",
        "solution": "hidden"
      },
      "source": [
        "```You can, for example, take a dataset such as CIFAR10, train a network on 5 classes and try to distill it using the other 5 classes. That way you are using real images, but from different distributions.```"
      ]
    },
    {
      "cell_type": "code",
      "metadata": {
        "id": "Uezu8Fw5AP3i"
      },
      "source": [
        "from tensorflow.keras import datasets"
      ],
      "execution_count": 7,
      "outputs": []
    },
    {
      "cell_type": "code",
      "metadata": {
        "id": "HfAovn_BAI0M"
      },
      "source": [
        "def train_model(x_train, y_train, input_shape, num_classes, temperature=1):\n",
        "    model = keras.Sequential(\n",
        "        [\n",
        "            keras.Input(shape=input_shape),\n",
        "            layers.Conv2D(32, kernel_size=(3, 3), activation=\"relu\"),\n",
        "            layers.MaxPooling2D(pool_size=(2, 2)),\n",
        "            layers.Conv2D(64, kernel_size=(3, 3), activation=\"relu\"),\n",
        "            layers.MaxPooling2D(pool_size=(2, 2)),\n",
        "            layers.Flatten(),\n",
        "            layers.Dropout(0.5),\n",
        "            DivideLayer(temperature),\n",
        "            layers.Dense(num_classes, activation=\"softmax\"),\n",
        "        ]\n",
        "    )\n",
        "    \n",
        "    es = EarlyStopping(monitor='val_accuracy', mode='max', verbose=1, patience=3)\n",
        "    model.compile(loss=\"categorical_crossentropy\", optimizer=\"adam\", metrics=[\"accuracy\"])\n",
        "    model.fit(x_train, y_train, batch_size=256, epochs=30, validation_split=0.1, callbacks=[es])\n",
        "    \n",
        "    return model"
      ],
      "execution_count": 8,
      "outputs": []
    },
    {
      "cell_type": "code",
      "metadata": {
        "id": "5JIEJxDQqpBa"
      },
      "source": [
        "def train_distillation(temperature=1):\n",
        "    num_classes = 10\n",
        "    input_shape = (32, 32, 3)\n",
        "    \n",
        "    (train_images, train_labels), (test_images, test_labels) = datasets.cifar10.load_data()\n",
        "    train_images, test_images = train_images / 255.0, test_images / 255.0\n",
        "\n",
        "    print('train_labels', train_labels.shape)\n",
        "    print('train_images', train_images.shape)\n",
        "\n",
        "    indices_train = train_labels < 5\n",
        "    indices_train = indices_train.reshape(indices_train.shape[0])\n",
        "\n",
        "    x_train_teacher = train_images[indices_train, :, :, :]\n",
        "    y_train_teacher = train_labels[indices_train]\n",
        "\n",
        "    indices_train = train_labels >= 5\n",
        "    indices_train = indices_train.reshape(indices_train.shape[0])\n",
        "\n",
        "    x_train_student = train_images[indices_train, :, :, :]\n",
        "    y_train_student = train_labels[indices_train]\n",
        "    y_train_student -= 5\n",
        "\n",
        "    indices_test = test_labels < 5\n",
        "    indices_test = indices_test.reshape(indices_test.shape[0])\n",
        "\n",
        "    x_test = test_images[indices_test, :, :, :]\n",
        "    y_test = test_labels[indices_test]\n",
        "\n",
        "    y_train_teacher = keras.utils.to_categorical(y_train_teacher, 5)\n",
        "    y_train_student = keras.utils.to_categorical(y_train_student, 5)\n",
        "    y_test = keras.utils.to_categorical(y_test, 5)\n",
        "\n",
        "    print('x_train_teacher', x_train_teacher.shape)\n",
        "    print('y_train_teacher', y_train_teacher.shape)\n",
        "    print('x_train_student', x_train_student.shape)\n",
        "    print('y_train_student', y_train_student.shape)\n",
        "    print('x_test', x_test.shape)\n",
        "    print('y_test', y_test.shape)\n",
        "\n",
        "    print(\"Training teacher model\")\n",
        "    teacher = train_model(x_train_teacher, y_train_teacher, input_shape, num_classes=5, temperature=temperature)\n",
        "    \n",
        "    _, acc = teacher.evaluate(x_test, y_test, batch_size=512)\n",
        "    print('Teacher test accuracy:', acc)\n",
        "\n",
        "    train_probas = teacher.predict(x_train_student)\n",
        "\n",
        "    print(\"Training student model\")\n",
        "    student = train_model(x_train_student, train_probas, input_shape, num_classes=5, temperature=temperature)\n",
        "    \n",
        "    _, acc = student.evaluate(x_test, y_test, batch_size=512)\n",
        "    print('Student test accuracy:', acc)\n",
        "\n",
        "    print('Attacking teacher model')\n",
        "    attack_model(x_test, y_test, teacher, eps=0.3)\n",
        "    print('Attacking student model')\n",
        "    attack_model(x_test, y_test, student, eps=0.3)\n",
        "\n",
        "    return teacher, student"
      ],
      "execution_count": 17,
      "outputs": []
    },
    {
      "cell_type": "code",
      "metadata": {
        "colab": {
          "base_uri": "https://localhost:8080/"
        },
        "id": "Gu2UZBkTADoe",
        "outputId": "ff050666-0641-4a1e-8010-cf783881eea7"
      },
      "source": [
        "teacher, student = train_distillation(temperature=20)"
      ],
      "execution_count": 18,
      "outputs": [
        {
          "output_type": "stream",
          "text": [
            "train_labels (50000, 1)\n",
            "train_images (50000, 32, 32, 3)\n",
            "x_train_teacher (25000, 32, 32, 3)\n",
            "y_train_teacher (25000, 5)\n",
            "x_train_student (25000, 32, 32, 3)\n",
            "y_train_student (25000, 5)\n",
            "x_test (5000, 32, 32, 3)\n",
            "y_test (5000, 5)\n",
            "Training teacher model\n",
            "Epoch 1/30\n",
            "88/88 [==============================] - 1s 12ms/step - loss: 1.5598 - accuracy: 0.2869 - val_loss: 6.0994 - val_accuracy: 0.4480\n",
            "Epoch 2/30\n",
            "88/88 [==============================] - 1s 9ms/step - loss: 1.3203 - accuracy: 0.4701 - val_loss: 7.4416 - val_accuracy: 0.5244\n",
            "Epoch 3/30\n",
            "88/88 [==============================] - 1s 9ms/step - loss: 1.1786 - accuracy: 0.5278 - val_loss: 6.7480 - val_accuracy: 0.5776\n",
            "Epoch 4/30\n",
            "88/88 [==============================] - 1s 9ms/step - loss: 1.0954 - accuracy: 0.5654 - val_loss: 6.8627 - val_accuracy: 0.5984\n",
            "Epoch 5/30\n",
            "88/88 [==============================] - 1s 10ms/step - loss: 1.0434 - accuracy: 0.5800 - val_loss: 7.0633 - val_accuracy: 0.5984\n",
            "Epoch 6/30\n",
            "88/88 [==============================] - 1s 9ms/step - loss: 1.0160 - accuracy: 0.5878 - val_loss: 6.5464 - val_accuracy: 0.6240\n",
            "Epoch 7/30\n",
            "88/88 [==============================] - 1s 9ms/step - loss: 0.9909 - accuracy: 0.6033 - val_loss: 6.9601 - val_accuracy: 0.6368\n",
            "Epoch 8/30\n",
            "88/88 [==============================] - 1s 9ms/step - loss: 0.9866 - accuracy: 0.6062 - val_loss: 7.1314 - val_accuracy: 0.6380\n",
            "Epoch 9/30\n",
            "88/88 [==============================] - 1s 9ms/step - loss: 0.9700 - accuracy: 0.6117 - val_loss: 6.5207 - val_accuracy: 0.6528\n",
            "Epoch 10/30\n",
            "88/88 [==============================] - 1s 9ms/step - loss: 0.9553 - accuracy: 0.6157 - val_loss: 6.7883 - val_accuracy: 0.6500\n",
            "Epoch 11/30\n",
            "88/88 [==============================] - 1s 9ms/step - loss: 0.9376 - accuracy: 0.6341 - val_loss: 7.2184 - val_accuracy: 0.6456\n",
            "Epoch 12/30\n",
            "88/88 [==============================] - 1s 10ms/step - loss: 0.9262 - accuracy: 0.6296 - val_loss: 7.0663 - val_accuracy: 0.6532\n",
            "Epoch 13/30\n",
            "88/88 [==============================] - 1s 9ms/step - loss: 0.9170 - accuracy: 0.6401 - val_loss: 6.9728 - val_accuracy: 0.6664\n",
            "Epoch 14/30\n",
            "88/88 [==============================] - 1s 9ms/step - loss: 0.9067 - accuracy: 0.6406 - val_loss: 7.0986 - val_accuracy: 0.6688\n",
            "Epoch 15/30\n",
            "88/88 [==============================] - 1s 9ms/step - loss: 0.8941 - accuracy: 0.6493 - val_loss: 6.7340 - val_accuracy: 0.6748\n",
            "Epoch 16/30\n",
            "88/88 [==============================] - 1s 10ms/step - loss: 0.8841 - accuracy: 0.6494 - val_loss: 6.8543 - val_accuracy: 0.6728\n",
            "Epoch 17/30\n",
            "88/88 [==============================] - 1s 9ms/step - loss: 0.8771 - accuracy: 0.6571 - val_loss: 6.3578 - val_accuracy: 0.6808\n",
            "Epoch 18/30\n",
            "88/88 [==============================] - 1s 9ms/step - loss: 0.8715 - accuracy: 0.6596 - val_loss: 6.9864 - val_accuracy: 0.6684\n",
            "Epoch 19/30\n",
            "88/88 [==============================] - 1s 9ms/step - loss: 0.8693 - accuracy: 0.6600 - val_loss: 6.7471 - val_accuracy: 0.6808\n",
            "Epoch 20/30\n",
            "88/88 [==============================] - 1s 9ms/step - loss: 0.8553 - accuracy: 0.6616 - val_loss: 6.4283 - val_accuracy: 0.6872\n",
            "Epoch 21/30\n",
            "88/88 [==============================] - 1s 10ms/step - loss: 0.8464 - accuracy: 0.6696 - val_loss: 6.4450 - val_accuracy: 0.6888\n",
            "Epoch 22/30\n",
            "88/88 [==============================] - 1s 9ms/step - loss: 0.8404 - accuracy: 0.6690 - val_loss: 6.6775 - val_accuracy: 0.6864\n",
            "Epoch 23/30\n",
            "88/88 [==============================] - 1s 9ms/step - loss: 0.8295 - accuracy: 0.6766 - val_loss: 7.0826 - val_accuracy: 0.6820\n",
            "Epoch 24/30\n",
            "88/88 [==============================] - 1s 9ms/step - loss: 0.8235 - accuracy: 0.6824 - val_loss: 6.2649 - val_accuracy: 0.7016\n",
            "Epoch 25/30\n",
            "88/88 [==============================] - 1s 9ms/step - loss: 0.8275 - accuracy: 0.6829 - val_loss: 6.4548 - val_accuracy: 0.7016\n",
            "Epoch 26/30\n",
            "88/88 [==============================] - 1s 9ms/step - loss: 0.8106 - accuracy: 0.6869 - val_loss: 6.6261 - val_accuracy: 0.6964\n",
            "Epoch 27/30\n",
            "88/88 [==============================] - 1s 9ms/step - loss: 0.8063 - accuracy: 0.6913 - val_loss: 6.2183 - val_accuracy: 0.7040\n",
            "Epoch 28/30\n",
            "88/88 [==============================] - 1s 9ms/step - loss: 0.8068 - accuracy: 0.6923 - val_loss: 6.4831 - val_accuracy: 0.7088\n",
            "Epoch 29/30\n",
            "88/88 [==============================] - 1s 9ms/step - loss: 0.7981 - accuracy: 0.6930 - val_loss: 6.1916 - val_accuracy: 0.7152\n",
            "Epoch 30/30\n",
            "88/88 [==============================] - 1s 9ms/step - loss: 0.7950 - accuracy: 0.6985 - val_loss: 6.3940 - val_accuracy: 0.7136\n",
            "10/10 [==============================] - 0s 8ms/step - loss: 6.3607 - accuracy: 0.7082\n",
            "Teacher test accuracy: 0.7081999778747559\n",
            "Training student model\n",
            "Epoch 1/30\n",
            "88/88 [==============================] - 1s 12ms/step - loss: 1.5085 - accuracy: 0.3525 - val_loss: 8.5452 - val_accuracy: 0.5056\n",
            "Epoch 2/30\n",
            "88/88 [==============================] - 1s 9ms/step - loss: 1.1732 - accuracy: 0.5227 - val_loss: 8.1301 - val_accuracy: 0.5996\n",
            "Epoch 3/30\n",
            "88/88 [==============================] - 1s 9ms/step - loss: 0.9827 - accuracy: 0.6154 - val_loss: 6.2308 - val_accuracy: 0.6648\n",
            "Epoch 4/30\n",
            "88/88 [==============================] - 1s 9ms/step - loss: 0.8713 - accuracy: 0.6657 - val_loss: 5.6098 - val_accuracy: 0.7032\n",
            "Epoch 5/30\n",
            "88/88 [==============================] - 1s 9ms/step - loss: 0.7779 - accuracy: 0.7029 - val_loss: 4.9967 - val_accuracy: 0.7324\n",
            "Epoch 6/30\n",
            "88/88 [==============================] - 1s 9ms/step - loss: 0.7073 - accuracy: 0.7348 - val_loss: 5.2414 - val_accuracy: 0.7416\n",
            "Epoch 7/30\n",
            "88/88 [==============================] - 1s 9ms/step - loss: 0.6555 - accuracy: 0.7491 - val_loss: 3.8661 - val_accuracy: 0.7764\n",
            "Epoch 8/30\n",
            "88/88 [==============================] - 1s 9ms/step - loss: 0.6191 - accuracy: 0.7645 - val_loss: 3.7728 - val_accuracy: 0.7904\n",
            "Epoch 9/30\n",
            "88/88 [==============================] - 1s 10ms/step - loss: 0.5832 - accuracy: 0.7740 - val_loss: 3.0754 - val_accuracy: 0.8180\n",
            "Epoch 10/30\n",
            "88/88 [==============================] - 1s 10ms/step - loss: 0.5622 - accuracy: 0.7805 - val_loss: 2.8146 - val_accuracy: 0.8252\n",
            "Epoch 11/30\n",
            "88/88 [==============================] - 1s 9ms/step - loss: 0.5351 - accuracy: 0.7938 - val_loss: 2.9121 - val_accuracy: 0.8368\n",
            "Epoch 12/30\n",
            "88/88 [==============================] - 1s 9ms/step - loss: 0.4977 - accuracy: 0.8080 - val_loss: 2.8372 - val_accuracy: 0.8444\n",
            "Epoch 13/30\n",
            "88/88 [==============================] - 1s 9ms/step - loss: 0.4881 - accuracy: 0.8106 - val_loss: 2.7684 - val_accuracy: 0.8468\n",
            "Epoch 14/30\n",
            "88/88 [==============================] - 1s 10ms/step - loss: 0.4656 - accuracy: 0.8211 - val_loss: 2.9942 - val_accuracy: 0.8424\n",
            "Epoch 15/30\n",
            "88/88 [==============================] - 1s 9ms/step - loss: 0.4479 - accuracy: 0.8295 - val_loss: 3.4535 - val_accuracy: 0.8416\n",
            "Epoch 16/30\n",
            "88/88 [==============================] - 1s 10ms/step - loss: 0.4513 - accuracy: 0.8258 - val_loss: 2.3778 - val_accuracy: 0.8700\n",
            "Epoch 17/30\n",
            "88/88 [==============================] - 1s 9ms/step - loss: 0.4295 - accuracy: 0.8312 - val_loss: 2.5095 - val_accuracy: 0.8592\n",
            "Epoch 18/30\n",
            "88/88 [==============================] - 1s 10ms/step - loss: 0.4182 - accuracy: 0.8358 - val_loss: 2.5122 - val_accuracy: 0.8664\n",
            "Epoch 19/30\n",
            "88/88 [==============================] - 1s 9ms/step - loss: 0.4082 - accuracy: 0.8426 - val_loss: 2.3726 - val_accuracy: 0.8736\n",
            "Epoch 20/30\n",
            "88/88 [==============================] - 1s 9ms/step - loss: 0.3974 - accuracy: 0.8439 - val_loss: 2.3417 - val_accuracy: 0.8744\n",
            "Epoch 21/30\n",
            "88/88 [==============================] - 1s 9ms/step - loss: 0.3988 - accuracy: 0.8446 - val_loss: 2.0570 - val_accuracy: 0.8792\n",
            "Epoch 22/30\n",
            "88/88 [==============================] - 1s 9ms/step - loss: 0.3832 - accuracy: 0.8451 - val_loss: 2.7788 - val_accuracy: 0.8572\n",
            "Epoch 23/30\n",
            "88/88 [==============================] - 1s 10ms/step - loss: 0.3929 - accuracy: 0.8485 - val_loss: 2.4933 - val_accuracy: 0.8712\n",
            "Epoch 24/30\n",
            "88/88 [==============================] - 1s 10ms/step - loss: 0.3763 - accuracy: 0.8516 - val_loss: 2.3025 - val_accuracy: 0.8828\n",
            "Epoch 25/30\n",
            "88/88 [==============================] - 1s 10ms/step - loss: 0.3739 - accuracy: 0.8526 - val_loss: 2.2000 - val_accuracy: 0.8780\n",
            "Epoch 26/30\n",
            "88/88 [==============================] - 1s 9ms/step - loss: 0.3570 - accuracy: 0.8605 - val_loss: 1.8371 - val_accuracy: 0.8940\n",
            "Epoch 27/30\n",
            "88/88 [==============================] - 1s 9ms/step - loss: 0.3694 - accuracy: 0.8535 - val_loss: 2.2988 - val_accuracy: 0.8764\n",
            "Epoch 28/30\n",
            "88/88 [==============================] - 1s 9ms/step - loss: 0.3589 - accuracy: 0.8587 - val_loss: 1.8178 - val_accuracy: 0.8924\n",
            "Epoch 29/30\n",
            "88/88 [==============================] - 1s 9ms/step - loss: 0.3532 - accuracy: 0.8598 - val_loss: 1.7960 - val_accuracy: 0.8888\n",
            "Epoch 00029: early stopping\n",
            "10/10 [==============================] - 0s 8ms/step - loss: 20.2414 - accuracy: 0.6636\n",
            "Student test accuracy: 0.6636000275611877\n",
            "Attacking teacher model\n",
            "Test loss: 223.96\n",
            "Successfully moved out of source class: 0.80\n",
            "Mean perturbation distance: 0.26\n",
            "Attacking student model\n",
            "Test loss: 433.06\n",
            "Successfully moved out of source class: 0.64\n",
            "Mean perturbation distance: 0.19\n"
          ],
          "name": "stdout"
        }
      ]
    },
    {
      "cell_type": "markdown",
      "metadata": {
        "id": "ataDtPbuqpBb"
      },
      "source": [
        "```Let's focus now on conjecture #1. Conduct an experiment that will demonstrate that two different networks indeed use the same features. Do it gradually: Start with two copies of the same architecture and on the same data, and move to different architectures and different subsets of the data (but from the same distribution). Think how to measure your success.```"
      ]
    },
    {
      "cell_type": "code",
      "metadata": {
        "id": "IyOB6OXWqpBb"
      },
      "source": [
        "from keras.models import Model\n",
        "from keras.layers import Input, Embedding, Dense, concatenate, Flatten\n",
        "\n",
        "def train_model(x_train, y_train, input_shape, num_classes, model_1 = True):\n",
        "  x_input = keras.Input(shape=input_shape)\n",
        "  if model_1 is True:\n",
        "    x = layers.Conv2D(32, kernel_size=(4, 4), activation=\"relu\")(x_input)\n",
        "    x = layers.MaxPooling2D(pool_size=(2, 2))(x)\n",
        "    x = layers.Conv2D(32, kernel_size=(4, 4), activation=\"relu\")(x)\n",
        "    x = layers.MaxPooling2D(pool_size=(2, 2))(x)\n",
        "    x = layers.Flatten()(x)\n",
        "    features = layers.Dropout(0.5)(x)\n",
        "  else:\n",
        "    x = layers.Flatten()(x_input)\n",
        "    features = layers.Dense(512, activation='relu')(x)\n",
        "\n",
        "  predictions = layers.Dense(num_classes, activation=\"softmax\")(features)\n",
        "  \n",
        "  model = Model(inputs = x_input, outputs = predictions)\n",
        "  features_model = Model(inputs=x_input, outputs=features)\n",
        "\n",
        "  es = EarlyStopping(monitor='val_accuracy', mode='max', verbose=1, patience=3)\n",
        "  model.compile(loss=\"categorical_crossentropy\", optimizer=\"adam\", metrics=[\"accuracy\"])\n",
        "  model.fit(x_train, y_train, batch_size=256, epochs=15, validation_split=0.1, callbacks=[es])\n",
        "  # print(model.summary())\n",
        "  return model, features_model"
      ],
      "execution_count": 34,
      "outputs": []
    },
    {
      "cell_type": "code",
      "metadata": {
        "colab": {
          "base_uri": "https://localhost:8080/"
        },
        "id": "pwm3c4eMMt1n",
        "outputId": "ce21483b-ba27-4fe2-bb1a-1fdc33ed52b1"
      },
      "source": [
        "num_classes = 10\n",
        "input_shape = (28, 28, 1)\n",
        "\n",
        "(x_train, y_train), (x_test, y_test) = keras.datasets.mnist.load_data()\n",
        "\n",
        "x_train = x_train.astype(\"float32\") / 255\n",
        "x_test = x_test.astype(\"float32\") / 255\n",
        "x_train = np.expand_dims(x_train, -1)\n",
        "x_test = np.expand_dims(x_test, -1)\n",
        "\n",
        "y_train = keras.utils.to_categorical(y_train, num_classes)\n",
        "y_test = keras.utils.to_categorical(y_test, num_classes)\n",
        "\n",
        "model_1, features_model_1 = train_model(x_train, y_train, input_shape, num_classes, model_1=True)\n",
        "model_2, features_model_2 = train_model(x_train, y_train, input_shape, num_classes, model_1=False)\n",
        "\n",
        "_, acc_1 = model_1.evaluate(x_test, y_test, batch_size=512)\n",
        "_, acc_2 = model_2.evaluate(x_test, y_test, batch_size=512)\n",
        "\n",
        "print('acc_1', acc_1, 'acc_2', acc_2)"
      ],
      "execution_count": 35,
      "outputs": [
        {
          "output_type": "stream",
          "text": [
            "Epoch 1/15\n",
            "211/211 [==============================] - 3s 11ms/step - loss: 1.1393 - accuracy: 0.6225 - val_loss: 0.1226 - val_accuracy: 0.9648\n",
            "Epoch 2/15\n",
            "211/211 [==============================] - 2s 10ms/step - loss: 0.2091 - accuracy: 0.9376 - val_loss: 0.0747 - val_accuracy: 0.9798\n",
            "Epoch 3/15\n",
            "211/211 [==============================] - 2s 10ms/step - loss: 0.1428 - accuracy: 0.9564 - val_loss: 0.0654 - val_accuracy: 0.9830\n",
            "Epoch 4/15\n",
            "211/211 [==============================] - 2s 10ms/step - loss: 0.1195 - accuracy: 0.9636 - val_loss: 0.0566 - val_accuracy: 0.9845\n",
            "Epoch 5/15\n",
            "211/211 [==============================] - 2s 10ms/step - loss: 0.1014 - accuracy: 0.9685 - val_loss: 0.0463 - val_accuracy: 0.9870\n",
            "Epoch 6/15\n",
            "211/211 [==============================] - 2s 10ms/step - loss: 0.0865 - accuracy: 0.9738 - val_loss: 0.0443 - val_accuracy: 0.9875\n",
            "Epoch 7/15\n",
            "211/211 [==============================] - 2s 10ms/step - loss: 0.0792 - accuracy: 0.9755 - val_loss: 0.0416 - val_accuracy: 0.9893\n",
            "Epoch 8/15\n",
            "211/211 [==============================] - 2s 10ms/step - loss: 0.0737 - accuracy: 0.9767 - val_loss: 0.0407 - val_accuracy: 0.9893\n",
            "Epoch 9/15\n",
            "211/211 [==============================] - 2s 10ms/step - loss: 0.0717 - accuracy: 0.9775 - val_loss: 0.0394 - val_accuracy: 0.9902\n",
            "Epoch 10/15\n",
            "211/211 [==============================] - 2s 10ms/step - loss: 0.0671 - accuracy: 0.9793 - val_loss: 0.0387 - val_accuracy: 0.9905\n",
            "Epoch 11/15\n",
            "211/211 [==============================] - 2s 10ms/step - loss: 0.0611 - accuracy: 0.9804 - val_loss: 0.0382 - val_accuracy: 0.9900\n",
            "Epoch 12/15\n",
            "211/211 [==============================] - 2s 10ms/step - loss: 0.0612 - accuracy: 0.9814 - val_loss: 0.0360 - val_accuracy: 0.9905\n",
            "Epoch 13/15\n",
            "211/211 [==============================] - 2s 10ms/step - loss: 0.0570 - accuracy: 0.9826 - val_loss: 0.0386 - val_accuracy: 0.9908\n",
            "Epoch 14/15\n",
            "211/211 [==============================] - 2s 10ms/step - loss: 0.0567 - accuracy: 0.9822 - val_loss: 0.0350 - val_accuracy: 0.9912\n",
            "Epoch 15/15\n",
            "211/211 [==============================] - 2s 10ms/step - loss: 0.0554 - accuracy: 0.9833 - val_loss: 0.0335 - val_accuracy: 0.9910\n",
            "Epoch 1/15\n",
            "211/211 [==============================] - 2s 5ms/step - loss: 0.6043 - accuracy: 0.8302 - val_loss: 0.1461 - val_accuracy: 0.9642\n",
            "Epoch 2/15\n",
            "211/211 [==============================] - 1s 4ms/step - loss: 0.1597 - accuracy: 0.9558 - val_loss: 0.1094 - val_accuracy: 0.9702\n",
            "Epoch 3/15\n",
            "211/211 [==============================] - 1s 4ms/step - loss: 0.1060 - accuracy: 0.9709 - val_loss: 0.0930 - val_accuracy: 0.9732\n",
            "Epoch 4/15\n",
            "211/211 [==============================] - 1s 4ms/step - loss: 0.0780 - accuracy: 0.9780 - val_loss: 0.0785 - val_accuracy: 0.9787\n",
            "Epoch 5/15\n",
            "211/211 [==============================] - 1s 4ms/step - loss: 0.0575 - accuracy: 0.9841 - val_loss: 0.0684 - val_accuracy: 0.9813\n",
            "Epoch 6/15\n",
            "211/211 [==============================] - 1s 4ms/step - loss: 0.0452 - accuracy: 0.9882 - val_loss: 0.0664 - val_accuracy: 0.9810\n",
            "Epoch 7/15\n",
            "211/211 [==============================] - 1s 4ms/step - loss: 0.0338 - accuracy: 0.9915 - val_loss: 0.0740 - val_accuracy: 0.9790\n",
            "Epoch 8/15\n",
            "211/211 [==============================] - 1s 4ms/step - loss: 0.0270 - accuracy: 0.9929 - val_loss: 0.0611 - val_accuracy: 0.9830\n",
            "Epoch 9/15\n",
            "211/211 [==============================] - 1s 4ms/step - loss: 0.0197 - accuracy: 0.9964 - val_loss: 0.0618 - val_accuracy: 0.9838\n",
            "Epoch 10/15\n",
            "211/211 [==============================] - 1s 4ms/step - loss: 0.0162 - accuracy: 0.9965 - val_loss: 0.0593 - val_accuracy: 0.9840\n",
            "Epoch 11/15\n",
            "211/211 [==============================] - 1s 4ms/step - loss: 0.0119 - accuracy: 0.9981 - val_loss: 0.0631 - val_accuracy: 0.9832\n",
            "Epoch 12/15\n",
            "211/211 [==============================] - 1s 4ms/step - loss: 0.0098 - accuracy: 0.9986 - val_loss: 0.0642 - val_accuracy: 0.9828\n",
            "Epoch 13/15\n",
            "211/211 [==============================] - 1s 4ms/step - loss: 0.0076 - accuracy: 0.9993 - val_loss: 0.0594 - val_accuracy: 0.9832\n",
            "Epoch 00013: early stopping\n",
            "20/20 [==============================] - 0s 9ms/step - loss: 0.0260 - accuracy: 0.9917\n",
            "20/20 [==============================] - 0s 4ms/step - loss: 0.0637 - accuracy: 0.9804\n",
            "acc_1 0.9916999936103821 acc_2 0.980400025844574\n"
          ],
          "name": "stdout"
        }
      ]
    },
    {
      "cell_type": "code",
      "metadata": {
        "id": "6tjMZgJcOSPU"
      },
      "source": [
        "features_1 = features_model_1.predict(x_test)\n",
        "features_2 = features_model_2.predict(x_test)"
      ],
      "execution_count": 36,
      "outputs": []
    },
    {
      "cell_type": "code",
      "metadata": {
        "colab": {
          "base_uri": "https://localhost:8080/"
        },
        "id": "XpMwnskvPK5s",
        "outputId": "327ba318-a1aa-445a-fde9-eb4c29f9c272"
      },
      "source": [
        "print(features_1.shape)\n",
        "print(features_2.shape)"
      ],
      "execution_count": 37,
      "outputs": [
        {
          "output_type": "stream",
          "text": [
            "(10000, 512)\n",
            "(10000, 512)\n"
          ],
          "name": "stdout"
        }
      ]
    },
    {
      "cell_type": "code",
      "metadata": {
        "colab": {
          "base_uri": "https://localhost:8080/"
        },
        "id": "k_NtreSBPsfS",
        "outputId": "72046b15-db3f-4373-a559-f41ab38fc522"
      },
      "source": [
        "from sklearn.metrics import mean_absolute_error\n",
        "print(mean_absolute_error(features_1, features_2))\n",
        "\n",
        "print(np.sum(np.abs(features_1)) / features_1.shape[0])\n",
        "print(np.sum(np.abs(features_2)) / features_1.shape[0])"
      ],
      "execution_count": 41,
      "outputs": [
        {
          "output_type": "stream",
          "text": [
            "0.70679104\n",
            "216.6538\n",
            "262.9273\n"
          ],
          "name": "stdout"
        }
      ]
    },
    {
      "cell_type": "code",
      "metadata": {
        "colab": {
          "base_uri": "https://localhost:8080/"
        },
        "id": "XPA9bR8XPJp9",
        "outputId": "f9ec87d3-a1ac-4fef-f3fa-7359b08f9e63"
      },
      "source": [
        "from sklearn.linear_model import LinearRegression\n",
        "\n",
        "reg = LinearRegression()\n",
        "reg.fit(features_1, features_2)\n",
        "\n",
        "print(reg.score(features_1, features_2))"
      ],
      "execution_count": 39,
      "outputs": [
        {
          "output_type": "stream",
          "text": [
            "0.8732108958871897\n"
          ],
          "name": "stdout"
        },
        {
          "output_type": "stream",
          "text": [
            "/usr/local/lib/python3.7/dist-packages/sklearn/base.py:434: FutureWarning: The default value of multioutput (not exposed in score method) will change from 'variance_weighted' to 'uniform_average' in 0.23 to keep consistent with 'metrics.r2_score'. To specify the default value manually and avoid the warning, please either call 'metrics.r2_score' directly or make a custom scorer with 'metrics.make_scorer' (the built-in scorer 'r2' uses multioutput='uniform_average').\n",
            "  \"multioutput='uniform_average').\", FutureWarning)\n"
          ],
          "name": "stderr"
        }
      ]
    },
    {
      "cell_type": "code",
      "metadata": {
        "colab": {
          "base_uri": "https://localhost:8080/"
        },
        "id": "_Flw9WT3P1j8",
        "outputId": "855c4cc6-84f6-42d4-f722-ab44e67ef266"
      },
      "source": [
        "predict_features_2 = reg.predict(features_1)\n",
        "print(mean_absolute_error(predict_features_2, features_2))"
      ],
      "execution_count": 42,
      "outputs": [
        {
          "output_type": "stream",
          "text": [
            "0.18124165\n"
          ],
          "name": "stdout"
        }
      ]
    },
    {
      "cell_type": "code",
      "metadata": {
        "id": "FVP9GVCoVwlO"
      },
      "source": [
        "from sklearn.decomposition import PCA\n",
        "from sklearn.preprocessing import MinMaxScaler\n",
        "\n",
        "scaler_model_1 = MinMaxScaler()\n",
        "pca_model_1 = PCA(n_components = 3)\n",
        "features_1_new = pca_model_1.fit_transform(scaler_model_1.fit_transform(features_1))\n",
        "\n",
        "scaler_model_2 = MinMaxScaler()\n",
        "pca_model_2 = PCA(n_components = 3)\n",
        "features_2_new = pca_model_2.fit_transform(scaler_model_2.fit_transform(features_2))"
      ],
      "execution_count": 48,
      "outputs": []
    },
    {
      "cell_type": "code",
      "metadata": {
        "colab": {
          "base_uri": "https://localhost:8080/"
        },
        "id": "pbHlhmRIWbyk",
        "outputId": "d2e28e33-8f67-4cd3-91c9-fe5dab44dfae"
      },
      "source": [
        "features_1_new.shape"
      ],
      "execution_count": 49,
      "outputs": [
        {
          "output_type": "execute_result",
          "data": {
            "text/plain": [
              "(10000, 3)"
            ]
          },
          "metadata": {
            "tags": []
          },
          "execution_count": 49
        }
      ]
    },
    {
      "cell_type": "code",
      "metadata": {
        "colab": {
          "base_uri": "https://localhost:8080/",
          "height": 265
        },
        "id": "FuK4IosPWOKH",
        "outputId": "c8ffad40-7228-4187-8850-49bee1d688c2"
      },
      "source": [
        "import matplotlib.pyplot as plt\n",
        "\n",
        "fig = plt.figure()\n",
        "ax = fig.add_subplot(projection='3d')\n",
        "\n",
        "ax.scatter(features_1_new[:, 0], features_1_new[:, 1], features_1_new[:, 2])"
      ],
      "execution_count": 50,
      "outputs": [
        {
          "output_type": "execute_result",
          "data": {
            "text/plain": [
              "<mpl_toolkits.mplot3d.art3d.Path3DCollection at 0x7f16d9134e50>"
            ]
          },
          "metadata": {
            "tags": []
          },
          "execution_count": 50
        },
        {
          "output_type": "display_data",
          "data": {
            "image/png": "[encoded data removed]",
            "text/plain": [
              "<Figure size 432x288 with 1 Axes>"
            ]
          },
          "metadata": {
            "tags": [],
            "needs_background": "light"
          }
        }
      ]
    },
    {
      "cell_type": "code",
      "metadata": {
        "colab": {
          "base_uri": "https://localhost:8080/",
          "height": 265
        },
        "id": "ve0Xj_a3Wime",
        "outputId": "5f5cb754-0b7e-421d-dbff-8e9a73bd4187"
      },
      "source": [
        "fig = plt.figure()\n",
        "ax = fig.add_subplot(projection='3d')\n",
        "\n",
        "ax.scatter(features_2_new[:, 0], features_2_new[:, 1], features_2_new[:, 2])"
      ],
      "execution_count": 51,
      "outputs": [
        {
          "output_type": "execute_result",
          "data": {
            "text/plain": [
              "<mpl_toolkits.mplot3d.art3d.Path3DCollection at 0x7f16d9ea0b90>"
            ]
          },
          "metadata": {
            "tags": []
          },
          "execution_count": 51
        },
        {
          "output_type": "display_data",
          "data": {
            "image/png": "[encoded data removed]",
            "text/plain": [
              "<Figure size 432x288 with 1 Axes>"
            ]
          },
          "metadata": {
            "tags": [],
            "needs_background": "light"
          }
        }
      ]
    },
    {
      "cell_type": "code",
      "metadata": {
        "id": "1inOsVRDWmbG"
      },
      "source": [
        "scaler_model_1 = MinMaxScaler()\n",
        "pca_model_1 = PCA(n_components = 2)\n",
        "features_1_new = pca_model_1.fit_transform(scaler_model_1.fit_transform(features_1))\n",
        "\n",
        "scaler_model_2 = MinMaxScaler()\n",
        "pca_model_2 = PCA(n_components = 2)\n",
        "features_2_new = pca_model_2.fit_transform(scaler_model_2.fit_transform(features_2))"
      ],
      "execution_count": 52,
      "outputs": []
    },
    {
      "cell_type": "code",
      "metadata": {
        "colab": {
          "base_uri": "https://localhost:8080/",
          "height": 265
        },
        "id": "5zv0iY4pXFU2",
        "outputId": "a8700abe-2ebe-427e-9f85-3d9564184a15"
      },
      "source": [
        "plt.figure()\n",
        "plt.scatter(features_1_new[:, 0], features_1_new[:, 1])\n",
        "plt.show()"
      ],
      "execution_count": 53,
      "outputs": [
        {
          "output_type": "display_data",
          "data": {
            "image/png": "[encoded data removed]",
            "text/plain": [
              "<Figure size 432x288 with 1 Axes>"
            ]
          },
          "metadata": {
            "tags": [],
            "needs_background": "light"
          }
        }
      ]
    },
    {
      "cell_type": "code",
      "metadata": {
        "colab": {
          "base_uri": "https://localhost:8080/",
          "height": 269
        },
        "id": "MMdGk7zgXOVV",
        "outputId": "afd9b8c4-7b69-4683-ef66-847f01595d4f"
      },
      "source": [
        "plt.figure()\n",
        "plt.scatter(features_2_new[:, 0], features_2_new[:, 1])\n",
        "plt.show()"
      ],
      "execution_count": 54,
      "outputs": [
        {
          "output_type": "display_data",
          "data": {
            "image/png": "[encoded data removed]",
            "text/plain": [
              "<Figure size 432x288 with 1 Axes>"
            ]
          },
          "metadata": {
            "tags": [],
            "needs_background": "light"
          }
        }
      ]
    },
    {
      "cell_type": "code",
      "metadata": {
        "colab": {
          "base_uri": "https://localhost:8080/"
        },
        "id": "3ll52LDkXSU9",
        "outputId": "d2a85261-94cc-4e26-e792-0d24dfdf23a7"
      },
      "source": [
        "scaler_model_1 = MinMaxScaler()\n",
        "pca_model_1 = PCA(n_components = 512)\n",
        "features_1_new = pca_model_1.fit_transform(scaler_model_1.fit_transform(features_1))\n",
        "\n",
        "scaler_model_2 = MinMaxScaler()\n",
        "pca_model_2 = PCA(n_components = 512)\n",
        "features_2_new = pca_model_2.fit_transform(scaler_model_2.fit_transform(features_2))\n",
        "\n",
        "print(mean_absolute_error(features_1_new, features_2_new))"
      ],
      "execution_count": 55,
      "outputs": [
        {
          "output_type": "stream",
          "text": [
            "0.10685529\n"
          ],
          "name": "stdout"
        }
      ]
    },
    {
      "cell_type": "code",
      "metadata": {
        "id": "WpT1v76SYpb9"
      },
      "source": [
        "features_1_new = [x for _, x in sorted(zip(pca_model_1.explained_variance_, features_1_new), key=lambda pair: pair[0])]\n",
        "features_2_new = [x for _, x in sorted(zip(pca_model_2.explained_variance_, features_2_new), key=lambda pair: pair[0])]"
      ],
      "execution_count": 59,
      "outputs": []
    },
    {
      "cell_type": "code",
      "metadata": {
        "colab": {
          "base_uri": "https://localhost:8080/"
        },
        "id": "DuD8rL2oZAWM",
        "outputId": "8199d109-2a7e-429c-eb6c-587ba14eff58"
      },
      "source": [
        "print(mean_absolute_error(features_1_new, features_2_new))"
      ],
      "execution_count": 60,
      "outputs": [
        {
          "output_type": "stream",
          "text": [
            "0.10527064\n"
          ],
          "name": "stdout"
        }
      ]
    },
    {
      "cell_type": "code",
      "metadata": {
        "colab": {
          "base_uri": "https://localhost:8080/"
        },
        "id": "2bHn5tdsaClT",
        "outputId": "29175b10-3efc-4b29-8c6a-47c00dd4e4f8"
      },
      "source": [
        "from tqdm import tqdm\n",
        "\n",
        "features_1 = features_model_1.predict(x_test)\n",
        "features_2 = features_model_2.predict(x_test)\n",
        "\n",
        "num_features = features_1.shape[1]\n",
        "\n",
        "all_corr = []\n",
        "for i in tqdm(range(num_features)):\n",
        "  max_corr = 0\n",
        "  for j in range(num_features):\n",
        "    corr_i_j = np.corrcoef(features_1[:, i], features_2[:, j])\n",
        "    corr_i_j = corr_i_j[0, 1]\n",
        "    if np.abs(corr_i_j) > max_corr:\n",
        "      max_corr = np.abs(corr_i_j)\n",
        "  all_corr.append(max_corr)"
      ],
      "execution_count": 72,
      "outputs": [
        {
          "output_type": "stream",
          "text": [
            "  0%|          | 0/512 [00:00<?, ?it/s]/usr/local/lib/python3.7/dist-packages/numpy/lib/function_base.py:2559: RuntimeWarning: invalid value encountered in true_divide\n",
            "  c /= stddev[:, None]\n",
            "/usr/local/lib/python3.7/dist-packages/numpy/lib/function_base.py:2560: RuntimeWarning: invalid value encountered in true_divide\n",
            "  c /= stddev[None, :]\n",
            "100%|██████████| 512/512 [01:29<00:00,  5.73it/s]"
          ],
          "name": "stderr"
        },
        {
          "output_type": "stream",
          "text": [
            "0.6870257854847166\n"
          ],
          "name": "stdout"
        },
        {
          "output_type": "stream",
          "text": [
            "\n"
          ],
          "name": "stderr"
        }
      ]
    },
    {
      "cell_type": "code",
      "metadata": {
        "colab": {
          "base_uri": "https://localhost:8080/"
        },
        "id": "OoCRNb9mfP_3",
        "outputId": "0d1d8225-277a-49ac-ee32-438e94a56e1f"
      },
      "source": [
        "print(np.mean(all_corr))"
      ],
      "execution_count": 73,
      "outputs": [
        {
          "output_type": "stream",
          "text": [
            "0.6870257854847166\n"
          ],
          "name": "stdout"
        }
      ]
    },
    {
      "cell_type": "code",
      "metadata": {
        "colab": {
          "base_uri": "https://localhost:8080/"
        },
        "id": "e8y_ZsHEfg_V",
        "outputId": "812ddd08-e0da-487e-db86-1dee78a9a570"
      },
      "source": [
        "features_1 = features_model_1.predict(x_test)\n",
        "features_2 = features_model_2.predict(x_test)\n",
        "\n",
        "scaler_model_1 = MinMaxScaler()\n",
        "features_1 = scaler_model_1.fit_transform(features_1)\n",
        "\n",
        "scaler_model_2 = MinMaxScaler()\n",
        "features_2 = scaler_model_2.fit_transform(features_2)\n",
        "\n",
        "num_features = features_1.shape[1]\n",
        "\n",
        "all_corr = []\n",
        "for i in tqdm(range(num_features)):\n",
        "  max_corr = 0\n",
        "  for j in range(num_features):\n",
        "    corr_i_j = np.corrcoef(features_1[:, i], features_2[:, j])\n",
        "    corr_i_j = corr_i_j[0, 1]\n",
        "    if np.abs(corr_i_j) > max_corr:\n",
        "      max_corr = np.abs(corr_i_j)\n",
        "  all_corr.append(max_corr)"
      ],
      "execution_count": 75,
      "outputs": [
        {
          "output_type": "stream",
          "text": [
            "  0%|          | 0/512 [00:00<?, ?it/s]/usr/local/lib/python3.7/dist-packages/numpy/lib/function_base.py:2559: RuntimeWarning: invalid value encountered in true_divide\n",
            "  c /= stddev[:, None]\n",
            "/usr/local/lib/python3.7/dist-packages/numpy/lib/function_base.py:2560: RuntimeWarning: invalid value encountered in true_divide\n",
            "  c /= stddev[None, :]\n",
            "100%|██████████| 512/512 [01:22<00:00,  6.19it/s]\n"
          ],
          "name": "stderr"
        }
      ]
    },
    {
      "cell_type": "code",
      "metadata": {
        "colab": {
          "base_uri": "https://localhost:8080/"
        },
        "id": "pLm6AkyFhOgD",
        "outputId": "7c16f6b6-7f14-4d88-a10f-eb1835fa5ab6"
      },
      "source": [
        "print(np.mean(all_corr))"
      ],
      "execution_count": 76,
      "outputs": [
        {
          "output_type": "stream",
          "text": [
            "0.6870257854543358\n"
          ],
          "name": "stdout"
        }
      ]
    },
    {
      "cell_type": "code",
      "metadata": {
        "id": "aaIaikkIh2GE"
      },
      "source": [
        ""
      ],
      "execution_count": null,
      "outputs": []
    }
  ]
}