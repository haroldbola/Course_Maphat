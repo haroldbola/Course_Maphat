{
 "cells": [
  {
   "cell_type": "markdown",
   "metadata": {
    "collapsed": true
   },
   "source": [
    "# Remember to save this as a new notebook before you begin solving!!\n",
    "# Also remember to open the notebook through a virtual env that works well with keras"
   ]
  },
  {
   "cell_type": "markdown",
   "metadata": {},
   "source": [
    "### This exercise is meant to teach you the very beginning of working with neural networks. You will generate your own data for this exercise\n",
    "\n",
    "##### Author: Philip Tannor"
   ]
  },
  {
   "cell_type": "markdown",
   "metadata": {},
   "source": [
    "### We'll start off with creating the data: \n",
    "### 1) Generate a numpy array named 'X', which contains 10000 random numbers in the range (0,1)\n",
    "### 2) Create a vector named 'y_easy', which contains the vector sqrt (X*3 +5). This is a function that will be very easy for a neural network to \"understand\".\n",
    "### 3) Create a vector named 'y_difficult', which contains the sine (sinus) of the following function (applied to X):\n",
    "###### def weird_change(x):\n",
    "       if x>0.5:\n",
    "            return 1+x\n",
    "        if x<0.3:\n",
    "            return -x\n",
    "        return x"
   ]
  },
  {
   "cell_type": "code",
   "execution_count": null,
   "metadata": {
    "collapsed": true
   },
   "outputs": [],
   "source": []
  },
  {
   "cell_type": "markdown",
   "metadata": {},
   "source": [
    "##### Now we create the simplest possible neural network:\n",
    "##### 1) input layer with 1 unit and output layer (dense) with 1 unit \n",
    "##### 2) no activation function\n",
    "##### Use this NN to try to predict y_easy from X (why does this work? discuss this with your tutor)\n",
    "#### For this you need to import Model from keras.models, and the layers you need from keras.layers. You'll have to decide on the following parameters: which optimizer, which loss, and batch size. It should be fairly straightforward, but this also may be worth discussing with your instructor. Run 100 epochs (make sure you know what this means)"
   ]
  },
  {
   "cell_type": "code",
   "execution_count": null,
   "metadata": {
    "collapsed": true,
    "scrolled": true
   },
   "outputs": [],
   "source": []
  },
  {
   "cell_type": "markdown",
   "metadata": {},
   "source": [
    "### Now take a glimpse at y_easy, and a glimpse at the predictions of your model. Are they similar?"
   ]
  },
  {
   "cell_type": "code",
   "execution_count": null,
   "metadata": {
    "collapsed": true
   },
   "outputs": [],
   "source": []
  },
  {
   "cell_type": "markdown",
   "metadata": {},
   "source": [
    "### Now create another neural network with the exact same architecture. Use it to try to predict y_hard. "
   ]
  },
  {
   "cell_type": "code",
   "execution_count": null,
   "metadata": {
    "collapsed": true,
    "scrolled": true
   },
   "outputs": [],
   "source": []
  },
  {
   "cell_type": "markdown",
   "metadata": {},
   "source": [
    "### Why didn't  this work? Discuss this matter with your Instructor, and then proceed"
   ]
  },
  {
   "cell_type": "markdown",
   "metadata": {},
   "source": [
    "### Now create a new NN with the same input and output layers, but add 3 Dense layers between them with 5 units each. For these layers you should choose a non-linear activation function. Does this work?"
   ]
  },
  {
   "cell_type": "code",
   "execution_count": null,
   "metadata": {
    "collapsed": true,
    "scrolled": true
   },
   "outputs": [],
   "source": []
  },
  {
   "cell_type": "markdown",
   "metadata": {},
   "source": [
    "### Well done! \n",
    "### Now I want you to test the limits of this NN. Try to find a function which won't be learned well by this NN, and show that your NN doesn't manage to train on it. Don't use the old model (create a new, identical one - in new cells)"
   ]
  },
  {
   "cell_type": "code",
   "execution_count": null,
   "metadata": {
    "collapsed": true
   },
   "outputs": [],
   "source": []
  },
  {
   "cell_type": "markdown",
   "metadata": {
    "collapsed": true
   },
   "source": [
    "### You're basically finished, but if you're still curious about the architecture of the NN, try playing with it - and see how the changes affect the learning process (on y_hard). You can change the # of hidden layers, # of units in each layer, activation function."
   ]
  }
 ],
 "metadata": {
  "kernelspec": {
   "display_name": "forum4",
   "language": "python",
   "name": "forum4"
  },
  "language_info": {
   "codemirror_mode": {
    "name": "ipython",
    "version": 3
   },
   "file_extension": ".py",
   "mimetype": "text/x-python",
   "name": "python",
   "nbconvert_exporter": "python",
   "pygments_lexer": "ipython3",
   "version": "3.7.3"
  }
 },
 "nbformat": 4,
 "nbformat_minor": 1
}
