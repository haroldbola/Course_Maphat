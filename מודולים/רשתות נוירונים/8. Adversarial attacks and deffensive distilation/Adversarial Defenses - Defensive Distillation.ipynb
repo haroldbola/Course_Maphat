{
 "cells": [
  {
   "cell_type": "markdown",
   "metadata": {},
   "source": [
    "In this exercise we will develop an in depth understanding of the defensive distillation defense method against adversarial examples.\n",
    "Start by reading about this method - how does it work, what is the idea behind it etc.\n",
    "Be prepared to discuss this in depth with your instructor\n",
    "\n",
    "** you do **not** need to keep the notebook in this order just make sure that you preform all the needed sections and keep a good record of any results and conclusions\n",
    "\n",
    "1. train a CNN classifer on MNIST, you are welcome to use the code from the attack exercise\n",
    "2. attack the trained model with FGSM, TGSM, BIM & PGD (you can use the TF only implementation for more efficiency)\n",
    "3. implement the defensive distillation approach and train a new classifier using it\n",
    "4. attack the new classifier with the same attacks as before - did you notice any differences?\n",
    "5. randomly choose 2 classes from the MNIST dataset, and repeat the whole process of training a classifier regulary and with defensive distillation and attacking it\n",
    "6. make 4 plots describing the following regarding your classifiers  \n",
    "    a. you will have 2 plots for each classifier (regular and defensive distil.)  \n",
    "    b. for each classifier one plot will describe logits and one probabilities  \n",
    "    c. each plot will be a 2d-scatter plot describing the logit (or prob) value of one class vs the other, where each point represents an input image  \n",
    "    d. add the line y=x and plot the values for only one class of the Ground Truth  \n",
    "    e. look at the received plots, did the defense method acheive it's goal?  \n",
    "    \n",
    "**BONUS** repeat the process for a regular classifier with a high temperature, where the results similar or different? how so?"
   ]
  },
  {
   "cell_type": "code",
   "execution_count": null,
   "metadata": {},
   "outputs": [],
   "source": []
  }
 ],
 "metadata": {
  "kernelspec": {
   "display_name": "ICL",
   "language": "python",
   "name": "icl"
  },
  "language_info": {
   "codemirror_mode": {
    "name": "ipython",
    "version": 3
   },
   "file_extension": ".py",
   "mimetype": "text/x-python",
   "name": "python",
   "nbconvert_exporter": "python",
   "pygments_lexer": "ipython3",
   "version": "3.7.3"
  }
 },
 "nbformat": 4,
 "nbformat_minor": 2
}
