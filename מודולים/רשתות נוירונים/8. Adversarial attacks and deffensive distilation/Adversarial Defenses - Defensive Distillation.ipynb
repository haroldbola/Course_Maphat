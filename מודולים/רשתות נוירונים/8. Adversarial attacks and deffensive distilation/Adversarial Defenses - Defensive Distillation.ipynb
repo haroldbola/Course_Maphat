{
 "cells": [
  {
   "cell_type": "markdown",
   "metadata": {},
   "source": [
    "In this exercise we will develop an in depth understanding of the defensive distillation defense method against adversarial examples.\n",
    "Start by reading about this method - how does it work, what is the idea behind it etc.\n",
    "Be prepared to discuss this in depth with your instructor\n",
    "\n",
    "** you do **not** need to keep the notebook in this order just make sure that you preform all the needed sections and keep a good record of any results and conclusions\n",
    "\n",
    "1. train a CNN classifer on MNIST, you are welcome to use the code from the attack exercise\n",
    "2. attack the trained model with FGSM, TGSM, BIM & PGD (you can use the TF only implementation for more efficiency)\n",
    "3. implement the defensive distillation approach and train a new classifier using it\n",
    "4. attack the new classifier with the same attacks as before - did you notice any differences?\n",
    "5. randomly choose 2 classes from the MNIST dataset, and repeat the whole process of training a classifier regulary and with defensive distillation and attacking it\n",
    "6. make 4 plots describing the following regarding your classifiers  \n",
    "    a. you will have 2 plots for each classifier (regular and defensive distil.)  \n",
    "    b. for each classifier one plot will describe logits and one probabilities  \n",
    "    c. each plot will be a 2d-scatter plot describing the logit (or prob) value of one class vs the other, where each point represents an input image  \n",
    "    d. add the line y=x and plot the values for only one class of the Ground Truth  \n",
    "    e. look at the received plots, did the defense method acheive it's goal?  \n",
    "    \n",
    "**BONUS** repeat the process for a regular classifier with a high temperature, where the results similar or different? how so?"
   ]
  },
  {
   "cell_type": "code",
   "execution_count": 40,
   "metadata": {},
   "outputs": [],
   "source": [
    "import os\n",
    "# os.environ[\"CUDA_DEVICE_ORDER\"] = \"PCI_BUS_ID\" \n",
    "# os.environ[\"CUDA_VISIBLE_DEVICES\"] = \"-1\"\n",
    "\n",
    "import numpy as np\n",
    "import matplotlib.pyplot as plt\n",
    "import tensorflow as tf\n",
    "from tensorflow import keras\n",
    "from tensorflow.keras import layers\n",
    "import math\n",
    "\n",
    "# Enable inline plotting\n",
    "%matplotlib inline\n",
    "\n",
    "import warnings\n",
    "warnings.filterwarnings(\"ignore\", category=DeprecationWarning)\n",
    "warnings.filterwarnings(\"ignore\", category=FutureWarning)"
   ]
  },
  {
   "cell_type": "code",
   "execution_count": 112,
   "metadata": {},
   "outputs": [],
   "source": [
    "from keras.layers import Layer\n",
    "K = keras.backend\n",
    "\n",
    "class DivideLayer(Layer):\n",
    "    def __init__(self, temperature=1, **kwargs):\n",
    "        self.temperature = temperature\n",
    "        super(DivideLayer, self).__init__(**kwargs)\n",
    "\n",
    "    def call(self, inputs, training=None):\n",
    "        if training:\n",
    "            return  inputs / self.temperature\n",
    "        return inputs"
   ]
  },
  {
   "cell_type": "code",
   "execution_count": 113,
   "metadata": {},
   "outputs": [],
   "source": [
    "def build_mnist_model(n_classes, temperature=1):\n",
    "    \n",
    "    activation = 'relu'\n",
    "    img_rows, img_cols, img_colors = 28, 28, 1\n",
    "    \n",
    "    model = keras.Sequential()\n",
    "    model.add(layers.Conv2D(8, kernel_size=(3, 3), \n",
    "                            input_shape=(img_rows, img_cols, img_colors), activation=activation))\n",
    "    model.add(layers.Conv2D(8, (3, 3), activation=activation))\n",
    "    model.add(layers.MaxPooling2D(pool_size=(2, 2)))\n",
    "    model.add(layers.Dropout(0.25))\n",
    "    model.add(layers.Flatten())\n",
    "    model.add(layers.Dense(128, activation=activation))\n",
    "    model.add(layers.Dropout(0.5))\n",
    "    model.add(layers.Dense(n_classes))\n",
    "#     model.add(layers.Lambda(lambda inputs: inputs / temperature))\n",
    "    model.add(DivideLayer(temperature))\n",
    "    model.add(layers.Activation('softmax', name='y_pred'))\n",
    "              \n",
    "    return model"
   ]
  },
  {
   "cell_type": "code",
   "execution_count": 114,
   "metadata": {},
   "outputs": [],
   "source": [
    "def normalize(x_train,x_test):\n",
    "    x_train -= x_train.min()\n",
    "    x_train /= x_train.max()\n",
    "    x_test -= x_test.min()\n",
    "    x_test /= x_test.max()\n",
    "    \n",
    "    return x_train, x_test"
   ]
  },
  {
   "cell_type": "code",
   "execution_count": 115,
   "metadata": {},
   "outputs": [],
   "source": [
    "num_classes = 10\n",
    "\n",
    "img_rows, img_cols, img_colors = 28, 28, 1\n",
    "(train_images, train_labels), (test_images, test_labels) = keras.datasets.mnist.load_data()\n",
    "\n",
    "train_images = train_images.astype('float32')\n",
    "test_images = test_images.astype('float32')\n",
    "\n",
    "train_images = train_images.reshape(train_images.shape[0], img_rows, img_cols, 1)\n",
    "test_images = test_images.reshape(test_images.shape[0], img_rows, img_cols, 1)\n",
    "\n",
    "train_images, test_images = normalize(train_images, test_images)\n",
    "    \n",
    "train_labels = keras.utils.to_categorical(train_labels, num_classes)\n",
    "test_labels = keras.utils.to_categorical(test_labels, num_classes)"
   ]
  },
  {
   "cell_type": "code",
   "execution_count": 116,
   "metadata": {},
   "outputs": [
    {
     "name": "stdout",
     "output_type": "stream",
     "text": [
      "train_images (60000, 28, 28, 1)\n",
      "test_images (10000, 28, 28, 1)\n",
      "train_labels (60000, 10)\n",
      "test_labels (10000, 10)\n"
     ]
    }
   ],
   "source": [
    "print('train_images', train_images.shape)\n",
    "print('test_images', test_images.shape)\n",
    "print('train_labels', train_labels.shape)\n",
    "print('test_labels', test_labels.shape)"
   ]
  },
  {
   "cell_type": "code",
   "execution_count": 149,
   "metadata": {},
   "outputs": [],
   "source": [
    "from keras.callbacks import EarlyStopping\n",
    "\n",
    "def train_model(train_images, train_labels, test_images, test_labels, temperature,\n",
    "                batch_size=128, maxepoches=12, learning_rate=0.1, lr_decay=1e-6, lr_drop=20):\n",
    "    \n",
    "    n_classes = train_labels.shape[1]\n",
    "    \n",
    "    def lr_scheduler(epoch):\n",
    "        return learning_rate * (0.5 ** (epoch // lr_drop))\n",
    "    reduce_lr = keras.callbacks.LearningRateScheduler(lr_scheduler)\n",
    "    es = EarlyStopping(monitor='val_categorical_accuracy', mode='max', verbose=1, patience=3)\n",
    "    \n",
    "    model = build_mnist_model(n_classes, temperature=temperature)\n",
    "    model.compile(loss='categorical_crossentropy',\n",
    "                  optimizer=keras.optimizers.Adadelta(),\n",
    "                  metrics=[keras.metrics.CategoricalAccuracy()])\n",
    "    \n",
    "    history = model.fit(train_images, train_labels,\n",
    "                        batch_size=batch_size,\n",
    "                        epochs=maxepoches,\n",
    "                        verbose=1,\n",
    "                        validation_data=(test_images, test_labels),\n",
    "                        callbacks=[reduce_lr, es])\n",
    "    return model"
   ]
  },
  {
   "cell_type": "code",
   "execution_count": 121,
   "metadata": {},
   "outputs": [],
   "source": [
    "def train_distillation(train_images, train_labels, test_images, test_labels, temperature):\n",
    "    \n",
    "    teacher = train_model(train_images, train_labels, test_images, test_labels, temperature)\n",
    "\n",
    "    train_logits = teacher.predict(train_images)\n",
    "    test_logits = teacher.predict(test_images)\n",
    "    \n",
    "    student = train_model(train_images, train_logits, test_images, test_logits, temperature)\n",
    "\n",
    "    return teacher, student"
   ]
  },
  {
   "cell_type": "code",
   "execution_count": 144,
   "metadata": {},
   "outputs": [
    {
     "name": "stdout",
     "output_type": "stream",
     "text": [
      "Epoch 1/12\n",
      "469/469 [==============================] - 17s 36ms/step - loss: 1.3498 - categorical_accuracy: 0.5392 - val_loss: 0.7639 - val_categorical_accuracy: 0.8967\n",
      "Epoch 2/12\n",
      "469/469 [==============================] - 17s 35ms/step - loss: 0.5608 - categorical_accuracy: 0.8216 - val_loss: 0.6962 - val_categorical_accuracy: 0.9162\n",
      "Epoch 3/12\n",
      "469/469 [==============================] - 17s 35ms/step - loss: 0.4814 - categorical_accuracy: 0.8504 - val_loss: 0.6397 - val_categorical_accuracy: 0.9252\n",
      "Epoch 4/12\n",
      "469/469 [==============================] - 16s 35ms/step - loss: 0.4435 - categorical_accuracy: 0.8638 - val_loss: 0.5894 - val_categorical_accuracy: 0.9315\n",
      "Epoch 00004: early stopping\n",
      "Epoch 1/12\n",
      "469/469 [==============================] - 18s 38ms/step - loss: 1.2484 - categorical_accuracy: 0.5944 - val_loss: 0.2351 - val_categorical_accuracy: 0.9463\n",
      "Epoch 2/12\n",
      "469/469 [==============================] - 17s 37ms/step - loss: 0.3805 - categorical_accuracy: 0.8694 - val_loss: 0.1656 - val_categorical_accuracy: 0.9631\n",
      "Epoch 3/12\n",
      "469/469 [==============================] - 17s 35ms/step - loss: 0.3129 - categorical_accuracy: 0.8915 - val_loss: 0.1401 - val_categorical_accuracy: 0.9690\n",
      "Epoch 4/12\n",
      "469/469 [==============================] - 17s 36ms/step - loss: 0.2800 - categorical_accuracy: 0.9036 - val_loss: 0.1238 - val_categorical_accuracy: 0.9733\n",
      "Epoch 00004: early stopping\n"
     ]
    }
   ],
   "source": [
    "teacher, student = train_distillation(train_images, train_labels, test_images, test_labels, \n",
    "                                     temperature=5)"
   ]
  },
  {
   "cell_type": "markdown",
   "metadata": {},
   "source": [
    "## Attack teacher and student"
   ]
  },
  {
   "cell_type": "code",
   "execution_count": 123,
   "metadata": {},
   "outputs": [],
   "source": [
    "def TestAttack(model, adv_images, orig_images, true_labels, target_labels=None, targeted=False):\n",
    "    adv_images = adv_images.numpy()\n",
    "    score = model.evaluate(adv_images, true_labels, verbose=0)\n",
    "    \n",
    "    print('Test loss: {:.2f}'.format(score[0]))\n",
    "    print('Successfully moved out of source class: {:.2f}'.format( 1 - score[1]))\n",
    "    \n",
    "    if targeted:\n",
    "        score = model.evaluate(adv_images, target, verbose=0)\n",
    "        print('Test loss: {:.2f}'.format(score[0]))\n",
    "        print('Successfully perturbed to target class: {:.2f}'.format(score[1]))\n",
    "    \n",
    "    dist = np.mean(np.sqrt(np.mean(np.square(adv_images - orig_images), axis=(1,2,3))))\n",
    "    print('Mean perturbation distance: {:.2f}'.format(dist))\n",
    "    \n",
    "    index = 10\n",
    "    img = adv_images[index].reshape(28, 28)\n",
    "    plt.imshow(img, cmap='gray')\n",
    "    plt.show()"
   ]
  },
  {
   "cell_type": "code",
   "execution_count": 124,
   "metadata": {},
   "outputs": [],
   "source": [
    "def FastGradientSignMethod(model, input_image, input_label, eps=0.3):\n",
    "    loss_object = tf.keras.losses.CategoricalCrossentropy()\n",
    "    \n",
    "    with tf.GradientTape() as tape:\n",
    "        tape.watch(input_image)\n",
    "        prediction = model(input_image)\n",
    "        loss = loss_object(input_label, prediction)\n",
    "\n",
    "    gradient = tape.gradient(loss, input_image)\n",
    "    signed_grad = tf.sign(gradient)\n",
    "    adv_x = input_image + eps*signed_grad\n",
    "    \n",
    "    return adv_x"
   ]
  },
  {
   "cell_type": "code",
   "execution_count": 125,
   "metadata": {},
   "outputs": [],
   "source": [
    "from tqdm import tqdm\n",
    "\n",
    "def BasicIterativeMethod(model, input_image, input_label, epsilon=0.1, iter_eps = 0.05, \n",
    "                         iterations=10, min_x=0.0, max_x=1.0):\n",
    "    \n",
    "    def step_targeted_attack(model, input_image, input_label, epsilon, min_x, max_x):\n",
    "        loss_object = tf.keras.losses.CategoricalCrossentropy()\n",
    "        \n",
    "        with tf.GradientTape() as tape:\n",
    "            tape.watch(input_image)\n",
    "            prediction = model(input_image)\n",
    "            loss = loss_object(input_label, prediction)\n",
    "\n",
    "        gradient = tape.gradient(loss, input_image)\n",
    "        signed_grad = tf.sign(gradient)\n",
    "        adv_x = input_image + epsilon*signed_grad\n",
    "        \n",
    "        adv_x = tf.clip_by_value(adv_x, min_x, max_x)\n",
    "        return tf.stop_gradient(adv_x)\n",
    "    \n",
    "\n",
    "    adv_out = input_image\n",
    "    for i in tqdm(range(iterations)):\n",
    "        adv_out = step_targeted_attack(model, adv_out, input_label, \n",
    "                                       iter_eps, min_x, max_x)\n",
    "        \n",
    "    return adv_out"
   ]
  },
  {
   "cell_type": "code",
   "execution_count": 126,
   "metadata": {},
   "outputs": [],
   "source": [
    "test_images = tf.convert_to_tensor(test_images)"
   ]
  },
  {
   "cell_type": "markdown",
   "metadata": {},
   "source": [
    "# Teacher Attack"
   ]
  },
  {
   "cell_type": "code",
   "execution_count": 145,
   "metadata": {},
   "outputs": [
    {
     "name": "stdout",
     "output_type": "stream",
     "text": [
      "Test loss: 172.49\n",
      "Successfully moved out of source class: 0.39\n",
      "Mean perturbation distance: 1.82\n"
     ]
    },
    {
     "data": {
      "image/png": "[encoded data removed]",
      "text/plain": [
       "<Figure size 432x288 with 1 Axes>"
      ]
     },
     "metadata": {
      "needs_background": "light"
     },
     "output_type": "display_data"
    }
   ],
   "source": [
    "adv_images = FastGradientSignMethod(teacher, test_images, test_labels, eps=0.3)\n",
    "TestAttack(teacher, adv_images, test_images.numpy(), test_labels, targeted=False)"
   ]
  },
  {
   "cell_type": "code",
   "execution_count": 146,
   "metadata": {},
   "outputs": [
    {
     "name": "stderr",
     "output_type": "stream",
     "text": [
      "100%|██████████████████████████████████████████████████████████████████████████████████| 30/30 [01:12<00:00,  2.41s/it]\n"
     ]
    },
    {
     "name": "stdout",
     "output_type": "stream",
     "text": [
      "Test loss: 6.60\n",
      "Successfully moved out of source class: 0.39\n",
      "Mean perturbation distance: 0.04\n"
     ]
    },
    {
     "data": {
      "image/png": "[encoded data removed]",
      "text/plain": [
       "<Figure size 432x288 with 1 Axes>"
      ]
     },
     "metadata": {
      "needs_background": "light"
     },
     "output_type": "display_data"
    }
   ],
   "source": [
    "adv_images = BasicIterativeMethod(teacher, test_images, test_labels, \n",
    "                                  iterations = 30, epsilon=4.0, iter_eps = 0.01)\n",
    "TestAttack(teacher, adv_images, test_images.numpy(), test_labels, targeted=False)"
   ]
  },
  {
   "cell_type": "markdown",
   "metadata": {},
   "source": [
    "# Student Attack"
   ]
  },
  {
   "cell_type": "code",
   "execution_count": 147,
   "metadata": {},
   "outputs": [
    {
     "name": "stdout",
     "output_type": "stream",
     "text": [
      "Test loss: 14.08\n",
      "Successfully moved out of source class: 0.28\n",
      "Mean perturbation distance: 0.07\n"
     ]
    },
    {
     "data": {
      "image/png": "[encoded data removed]",
      "text/plain": [
       "<Figure size 432x288 with 1 Axes>"
      ]
     },
     "metadata": {
      "needs_background": "light"
     },
     "output_type": "display_data"
    }
   ],
   "source": [
    "adv_images = FastGradientSignMethod(student, test_images, test_labels, eps=0.3)\n",
    "TestAttack(student, adv_images, test_images.numpy(), test_labels, targeted=False)"
   ]
  },
  {
   "cell_type": "code",
   "execution_count": 148,
   "metadata": {},
   "outputs": [
    {
     "name": "stderr",
     "output_type": "stream",
     "text": [
      "100%|██████████████████████████████████████████████████████████████████████████████████| 30/30 [01:12<00:00,  2.43s/it]\n"
     ]
    },
    {
     "name": "stdout",
     "output_type": "stream",
     "text": [
      "Test loss: 4.98\n",
      "Successfully moved out of source class: 0.28\n",
      "Mean perturbation distance: 0.02\n"
     ]
    },
    {
     "data": {
      "image/png": "[encoded data removed]",
      "text/plain": [
       "<Figure size 432x288 with 1 Axes>"
      ]
     },
     "metadata": {
      "needs_background": "light"
     },
     "output_type": "display_data"
    }
   ],
   "source": [
    "adv_images = BasicIterativeMethod(student, test_images, test_labels, \n",
    "                                  iterations = 30, epsilon=4.0, iter_eps = 0.01)\n",
    "TestAttack(student, adv_images, test_images.numpy(), test_labels, targeted=False)"
   ]
  },
  {
   "cell_type": "markdown",
   "metadata": {},
   "source": [
    "## Binary classification"
   ]
  },
  {
   "cell_type": "code",
   "execution_count": 150,
   "metadata": {},
   "outputs": [
    {
     "name": "stdout",
     "output_type": "stream",
     "text": [
      "train_labels_2 (11774, 2)\n",
      "test_labels_2 (1954, 2)\n",
      "train_images_2 (11774, 28, 28, 1)\n",
      "test_images_2 (1954, 28, 28, 1)\n"
     ]
    }
   ],
   "source": [
    "wanted_classes = [0, 8]\n",
    "(_, train_labels_), (_, test_labels_) = keras.datasets.mnist.load_data()\n",
    "\n",
    "train_mask = (train_labels_ == wanted_classes[0]) | (train_labels_ == wanted_classes[1]) \n",
    "test_mask = (test_labels_ == wanted_classes[0]) | (test_labels_ == wanted_classes[1])\n",
    "\n",
    "train_labels_2, train_images_2 = train_labels[train_mask], train_images[train_mask]\n",
    "test_labels_2, test_images_2 = test_labels[test_mask], test_images[test_mask]\n",
    "\n",
    "train_labels_2, test_labels_2 = train_labels_2[:, wanted_classes], test_labels_2[:, wanted_classes]\n",
    "\n",
    "print('train_labels_2', train_labels_2.shape)\n",
    "print('test_labels_2', test_labels_2.shape)\n",
    "print('train_images_2', train_images_2.shape)\n",
    "print('test_images_2', test_images_2.shape)"
   ]
  },
  {
   "cell_type": "code",
   "execution_count": 172,
   "metadata": {},
   "outputs": [
    {
     "name": "stdout",
     "output_type": "stream",
     "text": [
      "Epoch 1/12\n",
      "92/92 [==============================] - 4s 39ms/step - loss: 0.4191 - categorical_accuracy: 0.8666 - val_loss: 0.0666 - val_categorical_accuracy: 0.9744\n",
      "Epoch 2/12\n",
      "92/92 [==============================] - 3s 35ms/step - loss: 0.0960 - categorical_accuracy: 0.9691 - val_loss: 0.0428 - val_categorical_accuracy: 0.9887\n",
      "Epoch 3/12\n",
      "92/92 [==============================] - 3s 35ms/step - loss: 0.0610 - categorical_accuracy: 0.9804 - val_loss: 0.0408 - val_categorical_accuracy: 0.9913\n",
      "Epoch 4/12\n",
      "92/92 [==============================] - 4s 39ms/step - loss: 0.0491 - categorical_accuracy: 0.9845 - val_loss: 0.0407 - val_categorical_accuracy: 0.9913\n",
      "Epoch 5/12\n",
      "92/92 [==============================] - 3s 35ms/step - loss: 0.0467 - categorical_accuracy: 0.9839 - val_loss: 0.0409 - val_categorical_accuracy: 0.9918\n",
      "Epoch 6/12\n",
      "92/92 [==============================] - 3s 35ms/step - loss: 0.0428 - categorical_accuracy: 0.9863 - val_loss: 0.0395 - val_categorical_accuracy: 0.9918\n",
      "Epoch 7/12\n",
      "92/92 [==============================] - 3s 35ms/step - loss: 0.0366 - categorical_accuracy: 0.9884 - val_loss: 0.0387 - val_categorical_accuracy: 0.9928\n",
      "Epoch 8/12\n",
      "92/92 [==============================] - 3s 36ms/step - loss: 0.0365 - categorical_accuracy: 0.9887 - val_loss: 0.0404 - val_categorical_accuracy: 0.9923\n",
      "Epoch 9/12\n",
      "92/92 [==============================] - 4s 39ms/step - loss: 0.0342 - categorical_accuracy: 0.9890 - val_loss: 0.0391 - val_categorical_accuracy: 0.9928\n",
      "Epoch 10/12\n",
      "92/92 [==============================] - 4s 40ms/step - loss: 0.0337 - categorical_accuracy: 0.9890 - val_loss: 0.0384 - val_categorical_accuracy: 0.9933\n",
      "Epoch 11/12\n",
      "92/92 [==============================] - 3s 37ms/step - loss: 0.0336 - categorical_accuracy: 0.9887 - val_loss: 0.0378 - val_categorical_accuracy: 0.9939\n",
      "Epoch 12/12\n",
      "92/92 [==============================] - 4s 38ms/step - loss: 0.0303 - categorical_accuracy: 0.9900 - val_loss: 0.0380 - val_categorical_accuracy: 0.9939\n",
      "Epoch 1/12\n",
      "92/92 [==============================] - 3s 37ms/step - loss: 0.3551 - categorical_accuracy: 0.8751 - val_loss: 0.0435 - val_categorical_accuracy: 0.9852\n",
      "Epoch 2/12\n",
      "92/92 [==============================] - 3s 35ms/step - loss: 0.0895 - categorical_accuracy: 0.9727 - val_loss: 0.0198 - val_categorical_accuracy: 0.9933\n",
      "Epoch 3/12\n",
      "92/92 [==============================] - 3s 37ms/step - loss: 0.0506 - categorical_accuracy: 0.9837 - val_loss: 0.0134 - val_categorical_accuracy: 0.9959\n",
      "Epoch 4/12\n",
      "92/92 [==============================] - 3s 36ms/step - loss: 0.0382 - categorical_accuracy: 0.9868 - val_loss: 0.0106 - val_categorical_accuracy: 0.9964\n",
      "Epoch 5/12\n",
      "92/92 [==============================] - 3s 35ms/step - loss: 0.0314 - categorical_accuracy: 0.9901 - val_loss: 0.0095 - val_categorical_accuracy: 0.9974\n",
      "Epoch 6/12\n",
      "92/92 [==============================] - 3s 35ms/step - loss: 0.0273 - categorical_accuracy: 0.9911 - val_loss: 0.0087 - val_categorical_accuracy: 0.9969\n",
      "Epoch 7/12\n",
      "92/92 [==============================] - 3s 35ms/step - loss: 0.0251 - categorical_accuracy: 0.9909 - val_loss: 0.0092 - val_categorical_accuracy: 0.9959\n",
      "Epoch 8/12\n",
      "92/92 [==============================] - 3s 36ms/step - loss: 0.0252 - categorical_accuracy: 0.9910 - val_loss: 0.0074 - val_categorical_accuracy: 0.9969\n",
      "Epoch 00008: early stopping\n"
     ]
    }
   ],
   "source": [
    "teacher_2, student_2 = train_distillation(train_images_2, \n",
    "                                          train_labels_2, test_images_2, test_labels_2, \n",
    "                                         temperature=2)"
   ]
  },
  {
   "cell_type": "code",
   "execution_count": 158,
   "metadata": {},
   "outputs": [],
   "source": [
    "test_images_2 = tf.convert_to_tensor(test_images_2)"
   ]
  },
  {
   "cell_type": "markdown",
   "metadata": {},
   "source": [
    "## Teacher Attack"
   ]
  },
  {
   "cell_type": "code",
   "execution_count": 176,
   "metadata": {},
   "outputs": [
    {
     "name": "stdout",
     "output_type": "stream",
     "text": [
      "Test loss: 3.54\n",
      "Successfully moved out of source class: 0.42\n",
      "Mean perturbation distance: 0.12\n"
     ]
    },
    {
     "data": {
      "image/png": "[encoded data removed]",
      "text/plain": [
       "<Figure size 432x288 with 1 Axes>"
      ]
     },
     "metadata": {
      "needs_background": "light"
     },
     "output_type": "display_data"
    }
   ],
   "source": [
    "adv_images = FastGradientSignMethod(teacher_2, test_images_2, test_labels_2, eps=0.3)\n",
    "TestAttack(teacher_2, adv_images, test_images_2.numpy(), test_labels_2, targeted=False)"
   ]
  },
  {
   "cell_type": "code",
   "execution_count": 160,
   "metadata": {},
   "outputs": [
    {
     "name": "stderr",
     "output_type": "stream",
     "text": [
      "100%|██████████████████████████████████████████████████████████████████████████████████| 30/30 [00:15<00:00,  2.00it/s]\n"
     ]
    },
    {
     "name": "stdout",
     "output_type": "stream",
     "text": [
      "Test loss: 0.84\n",
      "Successfully moved out of source class: 0.04\n",
      "Mean perturbation distance: 0.00\n"
     ]
    },
    {
     "data": {
      "image/png": "[encoded data removed]",
      "text/plain": [
       "<Figure size 432x288 with 1 Axes>"
      ]
     },
     "metadata": {
      "needs_background": "light"
     },
     "output_type": "display_data"
    }
   ],
   "source": [
    "adv_images = BasicIterativeMethod(teacher_2, test_images_2, test_labels_2, \n",
    "                                  iterations = 30, epsilon=4.0, iter_eps = 0.05)\n",
    "TestAttack(teacher_2, adv_images, test_images_2.numpy(), test_labels_2, targeted=False)"
   ]
  },
  {
   "cell_type": "markdown",
   "metadata": {},
   "source": [
    "## Student Attack"
   ]
  },
  {
   "cell_type": "code",
   "execution_count": 177,
   "metadata": {},
   "outputs": [
    {
     "name": "stdout",
     "output_type": "stream",
     "text": [
      "Test loss: 3.68\n",
      "Successfully moved out of source class: 0.30\n",
      "Mean perturbation distance: 0.09\n"
     ]
    },
    {
     "data": {
      "image/png": "[encoded data removed]",
      "text/plain": [
       "<Figure size 432x288 with 1 Axes>"
      ]
     },
     "metadata": {
      "needs_background": "light"
     },
     "output_type": "display_data"
    }
   ],
   "source": [
    "adv_images = FastGradientSignMethod(student_2, test_images_2, test_labels_2, eps=0.3)\n",
    "TestAttack(student_2, adv_images, test_images_2.numpy(), test_labels_2, targeted=False)"
   ]
  },
  {
   "cell_type": "code",
   "execution_count": 162,
   "metadata": {},
   "outputs": [
    {
     "name": "stderr",
     "output_type": "stream",
     "text": [
      "100%|██████████████████████████████████████████████████████████████████████████████████| 30/30 [00:15<00:00,  1.94it/s]\n"
     ]
    },
    {
     "name": "stdout",
     "output_type": "stream",
     "text": [
      "Test loss: 0.55\n",
      "Successfully moved out of source class: 0.03\n",
      "Mean perturbation distance: 0.00\n"
     ]
    },
    {
     "data": {
      "image/png": "[encoded data removed]",
      "text/plain": [
       "<Figure size 432x288 with 1 Axes>"
      ]
     },
     "metadata": {
      "needs_background": "light"
     },
     "output_type": "display_data"
    }
   ],
   "source": [
    "adv_images = BasicIterativeMethod(student_2, test_images_2, test_labels_2, \n",
    "                                  iterations = 30, epsilon=4.0, iter_eps = 0.05)\n",
    "TestAttack(student_2, adv_images, test_images_2.numpy(), test_labels_2, targeted=False)"
   ]
  },
  {
   "cell_type": "markdown",
   "metadata": {},
   "source": [
    "## Visualization"
   ]
  },
  {
   "cell_type": "code",
   "execution_count": 185,
   "metadata": {},
   "outputs": [
    {
     "data": {
      "image/png": "[encoded data removed]",
      "text/plain": [
       "<Figure size 432x288 with 1 Axes>"
      ]
     },
     "metadata": {
      "needs_background": "light"
     },
     "output_type": "display_data"
    }
   ],
   "source": [
    "one_class_test_images = test_images[test_labels[:,0]==1]\n",
    "prob = student_2.predict(one_class_test_images)\n",
    "\n",
    "plt.scatter(prob[:, 0], prob[:, 1])\n",
    "plt.plot([prob.min(), prob.max()], [prob.min(), prob.max()], color='r')\n",
    "plt.xlabel(\"prob 0\")\n",
    "plt.ylabel(\"prob 1\")\n",
    "plt.show()"
   ]
  },
  {
   "cell_type": "code",
   "execution_count": 186,
   "metadata": {},
   "outputs": [
    {
     "data": {
      "image/png": "[encoded data removed]",
      "text/plain": [
       "<Figure size 432x288 with 1 Axes>"
      ]
     },
     "metadata": {
      "needs_background": "light"
     },
     "output_type": "display_data"
    }
   ],
   "source": [
    "prob = teacher_2.predict(one_class_test_images)\n",
    "\n",
    "plt.scatter(prob[:, 0], prob[:, 1])\n",
    "plt.plot([prob.min(), prob.max()], [prob.min(), prob.max()], color='r')\n",
    "plt.xlabel(\"prob 0\")\n",
    "plt.ylabel(\"prob 1\")\n",
    "plt.show()"
   ]
  },
  {
   "cell_type": "code",
   "execution_count": null,
   "metadata": {},
   "outputs": [],
   "source": []
  }
 ],
 "metadata": {
  "kernelspec": {
   "display_name": "Python 3",
   "language": "python",
   "name": "python3"
  },
  "language_info": {
   "codemirror_mode": {
    "name": "ipython",
    "version": 3
   },
   "file_extension": ".py",
   "mimetype": "text/x-python",
   "name": "python",
   "nbconvert_exporter": "python",
   "pygments_lexer": "ipython3",
   "version": "3.8.8"
  }
 },
 "nbformat": 4,
 "nbformat_minor": 2
}
