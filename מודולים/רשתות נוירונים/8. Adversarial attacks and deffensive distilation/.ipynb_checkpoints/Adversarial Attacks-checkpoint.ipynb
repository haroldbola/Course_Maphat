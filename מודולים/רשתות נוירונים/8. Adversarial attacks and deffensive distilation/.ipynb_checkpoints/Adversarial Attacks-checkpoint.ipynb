{
 "cells": [
  {
   "cell_type": "markdown",
   "metadata": {},
   "source": [
    "In this exercise we will focus on some basic Adversarial Attack methods - Fast Gradient Sign Method (FGSM), Targeted Gradient Sign Method (TGSM), Basic Iterative Method (BIM) & Projected Gradient Descent (PGD). Before starting make sure that you feel comfortable with the basic concept of adversarial examples for classification models, and that you have a good understanding of the 4 methods. Your tutor may ask you questions about them. "
   ]
  },
  {
   "cell_type": "code",
   "execution_count": 1,
   "metadata": {
    "colab": {},
    "colab_type": "code",
    "id": "yQEZETPDG0rq"
   },
   "outputs": [],
   "source": [
    "import os\n",
    "# os.environ[\"CUDA_DEVICE_ORDER\"] = \"PCI_BUS_ID\" \n",
    "# os.environ[\"CUDA_VISIBLE_DEVICES\"] = \"-1\"\n",
    "\n",
    "import numpy as np\n",
    "import matplotlib.pyplot as plt\n",
    "import tensorflow as tf\n",
    "from tensorflow import keras\n",
    "from tensorflow.keras import layers\n",
    "import math\n",
    "\n",
    "# Enable inline plotting\n",
    "%matplotlib inline\n",
    "\n",
    "import warnings\n",
    "warnings.filterwarnings(\"ignore\", category=DeprecationWarning)\n",
    "warnings.filterwarnings(\"ignore\", category=FutureWarning)"
   ]
  },
  {
   "cell_type": "markdown",
   "metadata": {
    "colab_type": "text",
    "id": "4g14QXanG0rx"
   },
   "source": [
    "--- Create and Train a Simple MNIST CNN Classifier --- for those of you less familiar with tensorflow and keras, this is an opportunity (notice that we are using the keras API from within tensorflow)"
   ]
  },
  {
   "cell_type": "code",
   "execution_count": 2,
   "metadata": {
    "colab": {},
    "colab_type": "code",
    "id": "UwU6OYREG0rz"
   },
   "outputs": [],
   "source": [
    "''' Build a simple MNIST classification CNN\n",
    "    The network takes ~3 minutes to train on a normal laptop and reaches roughly 97% of accuracy\n",
    "    Model structure: Conv, Conv, Max pooling, Dropout, Dense, Dense\n",
    "'''\n",
    "def build_mnist_model():\n",
    "    \n",
    "    activation = 'relu'\n",
    "    # input image dimensions\n",
    "    img_rows, img_cols, img_colors = 28, 28, 1\n",
    "    \n",
    "    model = keras.Sequential()\n",
    "    model.add(layers.Conv2D(8, kernel_size=(3, 3), input_shape=(img_rows, img_cols, img_colors), activation=activation))\n",
    "    model.add(layers.Conv2D(8, (3, 3), activation=activation))\n",
    "    model.add(layers.MaxPooling2D(pool_size=(2, 2)))\n",
    "    model.add(layers.Dropout(0.25))\n",
    "    model.add(layers.Flatten())\n",
    "    model.add(layers.Dense(128, activation=activation))\n",
    "    model.add(layers.Dropout(0.5))\n",
    "    model.add(layers.Dense(num_classes))\n",
    "    model.add(layers.Activation('softmax', name='y_pred'))\n",
    "              \n",
    "    return model"
   ]
  },
  {
   "cell_type": "code",
   "execution_count": 3,
   "metadata": {
    "colab": {},
    "colab_type": "code",
    "id": "jzdMl1BRG0r3"
   },
   "outputs": [],
   "source": [
    "''' Normalize input to the range of [0..1]\n",
    "    Apart from assisting in the convergance of the training process, this \n",
    "    will also make our lives easier during the adversarial attack process\n",
    "'''\n",
    "def normalize(x_train,x_test):\n",
    "    x_train -= x_train.min()\n",
    "    x_train /= x_train.max()\n",
    "    x_test -= x_test.min()\n",
    "    x_test /= x_test.max()\n",
    "    \n",
    "    return x_train, x_test"
   ]
  },
  {
   "cell_type": "code",
   "execution_count": 4,
   "metadata": {
    "colab": {},
    "colab_type": "code",
    "id": "c4HrIXRyG0r7"
   },
   "outputs": [],
   "source": [
    "# Load and prepare the datasets for training\n",
    "num_classes = 10\n",
    "\n",
    "img_rows, img_cols, img_colors = 28, 28, 1\n",
    "(train_images, train_labels), (test_images, test_labels) = keras.datasets.mnist.load_data()\n",
    "train_images = train_images.astype('float32')\n",
    "test_images = test_images.astype('float32')\n",
    "train_images = train_images.reshape(train_images.shape[0], img_rows, img_cols, 1)\n",
    "test_images = test_images.reshape(test_images.shape[0], img_rows, img_cols, 1)\n",
    "train_images, test_images = normalize(train_images, test_images)\n",
    "    \n",
    "train_labels = keras.utils.to_categorical(train_labels, num_classes)\n",
    "test_labels = keras.utils.to_categorical(test_labels, num_classes)"
   ]
  },
  {
   "cell_type": "markdown",
   "metadata": {},
   "source": [
    "the classifier might take a few minutes to train but should reach quite a high accuracy"
   ]
  },
  {
   "cell_type": "code",
   "execution_count": 5,
   "metadata": {
    "colab": {},
    "colab_type": "code",
    "id": "mdGg0FJsG0r_"
   },
   "outputs": [],
   "source": [
    "# Train the model\n",
    "batch_size = 128\n",
    "maxepoches = 12\n",
    "learning_rate = 0.1\n",
    "lr_decay = 1e-6\n",
    "lr_drop = 20\n",
    "\n",
    "# sess = tf.Session()\n",
    "# keras.backend.set_session(sess)\n",
    "\n",
    "def lr_scheduler(epoch):\n",
    "    return learning_rate * (0.5 ** (epoch // lr_drop))\n",
    "reduce_lr = keras.callbacks.LearningRateScheduler(lr_scheduler)\n",
    "\n",
    "model = build_mnist_model()\n",
    "\n",
    "model.compile(loss='categorical_crossentropy',\n",
    "              optimizer=keras.optimizers.Adadelta(),\n",
    "              metrics=[keras.metrics.CategoricalAccuracy()])"
   ]
  },
  {
   "cell_type": "code",
   "execution_count": 6,
   "metadata": {},
   "outputs": [
    {
     "name": "stdout",
     "output_type": "stream",
     "text": [
      "Model: \"sequential\"\n",
      "_________________________________________________________________\n",
      "Layer (type)                 Output Shape              Param #   \n",
      "=================================================================\n",
      "conv2d (Conv2D)              (None, 26, 26, 8)         80        \n",
      "_________________________________________________________________\n",
      "conv2d_1 (Conv2D)            (None, 24, 24, 8)         584       \n",
      "_________________________________________________________________\n",
      "max_pooling2d (MaxPooling2D) (None, 12, 12, 8)         0         \n",
      "_________________________________________________________________\n",
      "dropout (Dropout)            (None, 12, 12, 8)         0         \n",
      "_________________________________________________________________\n",
      "flatten (Flatten)            (None, 1152)              0         \n",
      "_________________________________________________________________\n",
      "dense (Dense)                (None, 128)               147584    \n",
      "_________________________________________________________________\n",
      "dropout_1 (Dropout)          (None, 128)               0         \n",
      "_________________________________________________________________\n",
      "dense_1 (Dense)              (None, 10)                1290      \n",
      "_________________________________________________________________\n",
      "y_pred (Activation)          (None, 10)                0         \n",
      "=================================================================\n",
      "Total params: 149,538\n",
      "Trainable params: 149,538\n",
      "Non-trainable params: 0\n",
      "_________________________________________________________________\n"
     ]
    }
   ],
   "source": [
    "model.summary()"
   ]
  },
  {
   "cell_type": "code",
   "execution_count": 7,
   "metadata": {},
   "outputs": [
    {
     "name": "stdout",
     "output_type": "stream",
     "text": [
      "Epoch 1/12\n",
      "469/469 [==============================] - 18s 37ms/step - loss: 0.9878 - categorical_accuracy: 0.6825 - val_loss: 0.3087 - val_categorical_accuracy: 0.9148\n",
      "Epoch 2/12\n",
      "469/469 [==============================] - 17s 35ms/step - loss: 0.4624 - categorical_accuracy: 0.8559 - val_loss: 0.2427 - val_categorical_accuracy: 0.9311\n",
      "Epoch 3/12\n",
      "469/469 [==============================] - 16s 35ms/step - loss: 0.3839 - categorical_accuracy: 0.8827 - val_loss: 0.2046 - val_categorical_accuracy: 0.9405\n",
      "Epoch 4/12\n",
      "469/469 [==============================] - 17s 36ms/step - loss: 0.3340 - categorical_accuracy: 0.8988 - val_loss: 0.1718 - val_categorical_accuracy: 0.9492\n",
      "Epoch 5/12\n",
      "469/469 [==============================] - 16s 35ms/step - loss: 0.2942 - categorical_accuracy: 0.9099 - val_loss: 0.1492 - val_categorical_accuracy: 0.9567\n",
      "Epoch 6/12\n",
      "469/469 [==============================] - 17s 35ms/step - loss: 0.2618 - categorical_accuracy: 0.9205 - val_loss: 0.1337 - val_categorical_accuracy: 0.9605\n",
      "Epoch 7/12\n",
      "469/469 [==============================] - 16s 35ms/step - loss: 0.2379 - categorical_accuracy: 0.9286 - val_loss: 0.1213 - val_categorical_accuracy: 0.9630\n",
      "Epoch 8/12\n",
      "469/469 [==============================] - 16s 35ms/step - loss: 0.2236 - categorical_accuracy: 0.9336 - val_loss: 0.1118 - val_categorical_accuracy: 0.9659\n",
      "Epoch 9/12\n",
      "469/469 [==============================] - 16s 35ms/step - loss: 0.2079 - categorical_accuracy: 0.9381 - val_loss: 0.1036 - val_categorical_accuracy: 0.9689\n",
      "Epoch 10/12\n",
      "469/469 [==============================] - 17s 36ms/step - loss: 0.1959 - categorical_accuracy: 0.9400 - val_loss: 0.0961 - val_categorical_accuracy: 0.9711\n",
      "Epoch 11/12\n",
      "469/469 [==============================] - 17s 37ms/step - loss: 0.1820 - categorical_accuracy: 0.9448 - val_loss: 0.0903 - val_categorical_accuracy: 0.9719\n",
      "Epoch 12/12\n",
      "469/469 [==============================] - 16s 35ms/step - loss: 0.1722 - categorical_accuracy: 0.9496 - val_loss: 0.0865 - val_categorical_accuracy: 0.9730\n"
     ]
    }
   ],
   "source": [
    "history = model.fit(train_images, train_labels,\n",
    "                    batch_size=batch_size,\n",
    "                    epochs=maxepoches,\n",
    "                    verbose=1,\n",
    "                    validation_data=(test_images, test_labels),\n",
    "                    callbacks=[reduce_lr])"
   ]
  },
  {
   "cell_type": "code",
   "execution_count": 35,
   "metadata": {
    "colab": {},
    "colab_type": "code",
    "id": "DJhAkLskG0sE"
   },
   "outputs": [],
   "source": [
    "''' A simple utility funcion for evaluating the success of an attack\n",
    "'''\n",
    "def TestAttack(model, adv_images, orig_images, true_labels, target_labels=None, targeted=False):\n",
    "    adv_images = adv_images.numpy()\n",
    "    score = model.evaluate(adv_images, true_labels, verbose=0)\n",
    "    print('Test loss: {:.2f}'.format(score[0]))\n",
    "    print('Successfully moved out of source class: {:.2f}'.format( 1 - score[1]))\n",
    "    \n",
    "    if targeted:\n",
    "        score = model.evaluate(adv_images, target, verbose=0)\n",
    "        print('Test loss: {:.2f}'.format(score[0]))\n",
    "        print('Successfully perturbed to target class: {:.2f}'.format(score[1]))\n",
    "    \n",
    "    dist = np.mean(np.sqrt(np.mean(np.square(adv_images - orig_images), axis=(1,2,3))))\n",
    "    print('Mean perturbation distance: {:.2f}'.format(dist))\n",
    "    \n",
    "    index = 10\n",
    "    img = adv_images[index].reshape(28, 28)\n",
    "    plt.imshow(img, cmap='gray')\n",
    "    plt.show()"
   ]
  },
  {
   "cell_type": "markdown",
   "metadata": {
    "colab_type": "text",
    "id": "u71zcvGqG0sC"
   },
   "source": [
    "--- Fast Gradient Sign Method (FGSM) --- here FGSM is implemented for you as an example, make sure you understand the code, in particular look at the functions keras.backend.function and keras.backend.gradients\n",
    "\n",
    "** the solution will also include a more efficient pure tensorflow implementation but you are welcome, to use this approach for your solution"
   ]
  },
  {
   "cell_type": "code",
   "execution_count": 36,
   "metadata": {
    "colab": {},
    "colab_type": "code",
    "id": "UY-DDb8EG0sI"
   },
   "outputs": [],
   "source": [
    "''' Fast Gradient Sign Method implementation - perturb all input features by an epsilon sized step in \n",
    "    the direction of loss gradient\n",
    "'''\n",
    "def FastGradientSignMethod(model, images, labels, epsilon=0.3):\n",
    "    true_label_tensor = keras.backend.placeholder(shape=(None, num_classes))\n",
    "    adv_loss = keras.losses.categorical_crossentropy(true_label_tensor, model.output)\n",
    "    get_grads = keras.backend.function([model.input, true_label_tensor], \n",
    "                                       keras.backend.gradients(adv_loss, model.input))\n",
    "    \n",
    "    adv_grads = get_grads([images, labels])[0]\n",
    "    \n",
    "    adv_out = images + epsilon * np.sign(adv_grads)\n",
    "    return adv_out"
   ]
  },
  {
   "cell_type": "code",
   "execution_count": 37,
   "metadata": {},
   "outputs": [],
   "source": [
    "def FastGradientSignMethod(model, input_image, input_label, eps=0.3):\n",
    "    loss_object = tf.keras.losses.CategoricalCrossentropy()\n",
    "    \n",
    "    with tf.GradientTape() as tape:\n",
    "        tape.watch(input_image)\n",
    "        prediction = model(input_image)\n",
    "        loss = loss_object(input_label, prediction)\n",
    "\n",
    "    gradient = tape.gradient(loss, input_image)\n",
    "    signed_grad = tf.sign(gradient)\n",
    "    adv_x = input_image + eps*signed_grad\n",
    "    \n",
    "    return adv_x"
   ]
  },
  {
   "cell_type": "markdown",
   "metadata": {},
   "source": [
    "test out the attack, play around with the parameters and see how they influence the result visually and regarding the metrics"
   ]
  },
  {
   "cell_type": "code",
   "execution_count": 38,
   "metadata": {},
   "outputs": [],
   "source": [
    "test_images = tf.convert_to_tensor(test_images)"
   ]
  },
  {
   "cell_type": "code",
   "execution_count": 39,
   "metadata": {
    "colab": {},
    "colab_type": "code",
    "id": "rHfFFdSqG0sL"
   },
   "outputs": [
    {
     "name": "stdout",
     "output_type": "stream",
     "text": [
      "Test loss: 4.29\n",
      "Successfully moved out of source class: 0.94\n",
      "Mean perturbation distance: 0.24\n"
     ]
    },
    {
     "data": {
      "image/png": "[encoded data removed]",
      "text/plain": [
       "<Figure size 432x288 with 1 Axes>"
      ]
     },
     "metadata": {
      "needs_background": "light"
     },
     "output_type": "display_data"
    }
   ],
   "source": [
    "adv_images = FastGradientSignMethod(model, test_images, test_labels, eps=0.3)\n",
    "TestAttack(model, adv_images, test_images.numpy(), test_labels, targeted=False)"
   ]
  },
  {
   "cell_type": "markdown",
   "metadata": {
    "colab_type": "text",
    "id": "Jkg_fY7CG0sO"
   },
   "source": [
    "--- Targeted Gradient Sign Method (TGSM) --- implement this method and test out the results"
   ]
  },
  {
   "cell_type": "code",
   "execution_count": 43,
   "metadata": {
    "colab": {},
    "colab_type": "code",
    "id": "6YNckVZKG0sR"
   },
   "outputs": [],
   "source": [
    "''' Targeted Gradient Sign Method implementation - A targeted variant of the FGSM attack\n",
    "    here we minimize the loss with respect to the target class, as opposed to maximizing the loss with respect\n",
    "    to the source class\n",
    "'''\n",
    "def TargetedGradientSignMethod(model, input_image, input_label, eps=0.3):\n",
    "    loss_object = tf.keras.losses.CategoricalCrossentropy()\n",
    "    \n",
    "    with tf.GradientTape() as tape:\n",
    "        tape.watch(input_image)\n",
    "        prediction = model(input_image)\n",
    "        loss = loss_object(input_label, prediction)\n",
    "\n",
    "    gradient = tape.gradient(loss, input_image)\n",
    "    signed_grad = tf.sign(gradient)\n",
    "    adv_out = input_image - eps*signed_grad\n",
    "    \n",
    "    return adv_out"
   ]
  },
  {
   "cell_type": "code",
   "execution_count": 44,
   "metadata": {
    "colab": {},
    "colab_type": "code",
    "id": "yZLThCUWG0sU"
   },
   "outputs": [
    {
     "name": "stdout",
     "output_type": "stream",
     "text": [
      "Test loss: 2.89\n",
      "Successfully moved out of source class: 0.76\n",
      "Test loss: 3.63\n",
      "Successfully perturbed to target class: 0.48\n",
      "Mean perturbation distance: 0.20\n"
     ]
    },
    {
     "data": {
      "image/png": "[encoded data removed]",
      "text/plain": [
       "<Figure size 432x288 with 1 Axes>"
      ]
     },
     "metadata": {
      "needs_background": "light"
     },
     "output_type": "display_data"
    }
   ],
   "source": [
    "target = (np.argmax(test_labels, axis=1) + np.random.randint(1, num_classes, size=(test_labels.shape[0]))) % num_classes\n",
    "target = keras.utils.to_categorical(target, num_classes)\n",
    "adv_images = TargetedGradientSignMethod(model, test_images, target, eps=0.3)\n",
    "TestAttack(model, adv_images, test_images, test_labels, target, targeted=True)"
   ]
  },
  {
   "cell_type": "markdown",
   "metadata": {
    "colab_type": "text",
    "id": "awH61CD3G0sY"
   },
   "source": [
    "--- Basic Iterative Method (BIM) --- implement this method which is the iterative upgrade to any of the two previous attacks, like before test the attack out and play around with the parameters"
   ]
  },
  {
   "cell_type": "code",
   "execution_count": 68,
   "metadata": {
    "colab": {},
    "colab_type": "code",
    "id": "abLag2V2G0sZ"
   },
   "outputs": [],
   "source": [
    "def BasicIterativeMethod(model, input_image, input_label, epsilon=0.1, iter_eps = 0.05, \n",
    "                         iterations=10, min_x=0.0, max_x=1.0, targeted=False):\n",
    "    \n",
    "    def step_targeted_attack(model, input_image, input_label, epsilon, min_x, max_x):\n",
    "        loss_object = tf.keras.losses.CategoricalCrossentropy()\n",
    "        \n",
    "        with tf.GradientTape() as tape:\n",
    "            tape.watch(input_image)\n",
    "            prediction = model(input_image)\n",
    "            loss = loss_object(input_label, prediction)\n",
    "\n",
    "        gradient = tape.gradient(loss, input_image)\n",
    "        signed_grad = tf.sign(gradient)\n",
    "        adv_x = input_image - epsilon*signed_grad\n",
    "        \n",
    "        adv_x = tf.clip_by_value(adv_x, min_x, max_x)\n",
    "        return tf.stop_gradient(adv_x)\n",
    "    \n",
    "\n",
    "    adv_out = input_image\n",
    "    for i in range(iterations):\n",
    "        adv_out = step_targeted_attack(model, adv_out, input_label, \n",
    "                                       iter_eps, min_x, max_x)\n",
    "        \n",
    "    return adv_out"
   ]
  },
  {
   "cell_type": "code",
   "execution_count": 70,
   "metadata": {
    "colab": {},
    "colab_type": "code",
    "id": "g02Rq0o3G0sc"
   },
   "outputs": [
    {
     "name": "stdout",
     "output_type": "stream",
     "text": [
      "Test loss: 17.71\n",
      "Successfully moved out of source class: 0.87\n",
      "Test loss: 2.50\n",
      "Successfully perturbed to target class: 0.87\n",
      "Mean perturbation distance: 0.34\n"
     ]
    },
    {
     "data": {
      "image/png": "[encoded data removed]",
      "text/plain": [
       "<Figure size 432x288 with 1 Axes>"
      ]
     },
     "metadata": {
      "needs_background": "light"
     },
     "output_type": "display_data"
    }
   ],
   "source": [
    "target = (np.argmax(test_labels, axis=1) + \n",
    "          np.random.randint(1, num_classes, size=(test_labels.shape[0]))) % num_classes\n",
    "\n",
    "target = keras.utils.to_categorical(target, num_classes)\n",
    "adv_images = BasicIterativeMethod(model, test_images, target, \n",
    "                                  iterations = 30, epsilon=4.0, iter_eps = 0.05, targeted=True)\n",
    "TestAttack(model, adv_images, test_images, test_labels, target, targeted=True)"
   ]
  },
  {
   "cell_type": "code",
   "execution_count": 104,
   "metadata": {},
   "outputs": [],
   "source": [
    "def ProjectiveGradientDescent(model, input_image, input_label, iter_eps = 0.05,\n",
    "                              max_it=30, min_x=0.0, max_x=1.0, threshold=0.5):\n",
    "    \n",
    "    def step_targeted_attack(model, input_image, input_label, epsilon, min_x, max_x):\n",
    "        loss_object = tf.keras.losses.CategoricalCrossentropy()\n",
    "        \n",
    "        with tf.GradientTape() as tape:\n",
    "            tape.watch(input_image)\n",
    "            prediction = model(input_image)\n",
    "            loss = loss_object(input_label, prediction)\n",
    "\n",
    "        gradient = tape.gradient(loss, input_image)\n",
    "        signed_grad = tf.sign(gradient)\n",
    "        adv_x = input_image + epsilon*signed_grad\n",
    "        \n",
    "        adv_x = tf.clip_by_value(adv_x, min_x, max_x)\n",
    "        return tf.stop_gradient(adv_x)\n",
    "    \n",
    "    adv_in = input_image + np.random.normal(size=input_image.shape) / 10\n",
    "    adv_in = tf.clip_by_value(adv_in, min_x, max_x)\n",
    "    \n",
    "    for i in range(max_it):\n",
    "        adv_out = step_targeted_attack(model, adv_in, input_label, \n",
    "                                       iter_eps, min_x, max_x)\n",
    "        print('norm', np.linalg.norm(adv_out - adv_in))\n",
    "        if np.linalg.norm(adv_out - adv_in) < threshold:\n",
    "            break\n",
    "        adv_in = adv_out\n",
    "        \n",
    "    return adv_out"
   ]
  },
  {
   "cell_type": "code",
   "execution_count": 105,
   "metadata": {},
   "outputs": [
    {
     "name": "stdout",
     "output_type": "stream",
     "text": [
      "norm 119.70964\n",
      "norm 120.64694\n",
      "norm 119.16983\n",
      "norm 119.78466\n",
      "norm 119.42634\n",
      "norm 119.78215\n",
      "norm 118.558525\n",
      "norm 117.32954\n",
      "norm 112.46203\n",
      "norm 103.25356\n",
      "norm 88.069565\n",
      "norm 68.16081\n",
      "norm 47.126644\n",
      "norm 29.255121\n",
      "norm 16.083473\n",
      "norm 9.0976715\n",
      "norm 4.5605597\n",
      "norm 2.7541957\n",
      "norm 1.5502679\n",
      "norm 1.0774893\n",
      "norm 0.0\n",
      "Test loss: 17.14\n",
      "Successfully moved out of source class: 1.00\n",
      "Mean perturbation distance: 0.31\n"
     ]
    },
    {
     "data": {
      "image/png": "[encoded data removed]",
      "text/plain": [
       "<Figure size 432x288 with 1 Axes>"
      ]
     },
     "metadata": {
      "needs_background": "light"
     },
     "output_type": "display_data"
    }
   ],
   "source": [
    "adv_images = ProjectiveGradientDescent(model, test_images, test_labels)\n",
    "TestAttack(model, adv_images, test_images.numpy(), test_labels, targeted=False)"
   ]
  },
  {
   "cell_type": "markdown",
   "metadata": {},
   "source": [
    "--- Projected Gradient Descent (PGD) --- implement this improvement on the BIM basic variant, as usual test it out"
   ]
  },
  {
   "cell_type": "markdown",
   "metadata": {},
   "source": [
    "after you finish the exercise make sure you look at the solutions, they include the TensorFlow only implementation which is more computationally efficient (but more complex to write), and the Cleverhans implementation which is a well known library for Adversarial Machine Learning"
   ]
  },
  {
   "cell_type": "code",
   "execution_count": null,
   "metadata": {},
   "outputs": [],
   "source": []
  },
  {
   "cell_type": "code",
   "execution_count": null,
   "metadata": {},
   "outputs": [],
   "source": []
  },
  {
   "cell_type": "code",
   "execution_count": null,
   "metadata": {},
   "outputs": [],
   "source": []
  },
  {
   "cell_type": "code",
   "execution_count": null,
   "metadata": {},
   "outputs": [],
   "source": []
  },
  {
   "cell_type": "code",
   "execution_count": null,
   "metadata": {},
   "outputs": [],
   "source": []
  },
  {
   "cell_type": "code",
   "execution_count": null,
   "metadata": {},
   "outputs": [],
   "source": []
  },
  {
   "cell_type": "code",
   "execution_count": null,
   "metadata": {},
   "outputs": [],
   "source": []
  },
  {
   "cell_type": "code",
   "execution_count": null,
   "metadata": {},
   "outputs": [],
   "source": []
  },
  {
   "cell_type": "code",
   "execution_count": null,
   "metadata": {},
   "outputs": [],
   "source": []
  },
  {
   "cell_type": "code",
   "execution_count": null,
   "metadata": {},
   "outputs": [],
   "source": []
  },
  {
   "cell_type": "code",
   "execution_count": null,
   "metadata": {},
   "outputs": [],
   "source": []
  }
 ],
 "metadata": {
  "colab": {
   "collapsed_sections": [],
   "name": "BIM Re-implementation Part I.ipynb",
   "provenance": [
    {
     "file_id": "1Dvp6LXt6xBbNgdHXLi8mqpz9CUqk08pP",
     "timestamp": 1585681256117
    }
   ]
  },
  "kernelspec": {
   "display_name": "Python 3",
   "language": "python",
   "name": "python3"
  },
  "language_info": {
   "codemirror_mode": {
    "name": "ipython",
    "version": 3
   },
   "file_extension": ".py",
   "mimetype": "text/x-python",
   "name": "python",
   "nbconvert_exporter": "python",
   "pygments_lexer": "ipython3",
   "version": "3.8.8"
  }
 },
 "nbformat": 4,
 "nbformat_minor": 1
}
