{
 "cells": [
  {
   "cell_type": "markdown",
   "metadata": {},
   "source": [
    "In this exercise we will develop an in depth understanding of the defensive distillation defense method against adversarial examples.\n",
    "Start by reading about this method - how does it work, what is the idea behind it etc.\n",
    "Be prepared to discuss this in depth with your instructor\n",
    "\n",
    "** you do **not** need to keep the notebook in this order just make sure that you preform all the needed sections and keep a good record of any results and conclusions\n",
    "\n",
    "1. train a CNN classifer on MNIST, you are welcome to use the code from the attack exercise\n",
    "2. attack the trained model with FGSM, TGSM, BIM & PGD (you can use the TF only implementation for more efficiency)\n",
    "3. implement the defensive distillation approach and train a new classifier using it\n",
    "4. attack the new classifier with the same attacks as before - did you notice any differences?\n",
    "5. randomly choose 2 classes from the MNIST dataset, and repeat the whole process of training a classifier regulary and with defensive distillation and attacking it\n",
    "6. make 4 plots describing the following regarding your classifiers  \n",
    "    a. you will have 2 plots for each classifier (regular and defensive distil.)  \n",
    "    b. for each classifier one plot will describe logits and one probabilities  \n",
    "    c. each plot will be a 2d-scatter plot describing the logit (or prob) value of one class vs the other, where each point represents an input image  \n",
    "    d. add the line y=x and plot the values for only one class of the Ground Truth  \n",
    "    e. look at the received plots, did the defense method acheive it's goal?  \n",
    "    \n",
    "**BONUS** repeat the process for a regular classifier with a high temperature, where the results similar or different? how so?"
   ]
  },
  {
   "cell_type": "code",
   "execution_count": 1,
   "metadata": {},
   "outputs": [],
   "source": [
    "import os\n",
    "# os.environ[\"CUDA_DEVICE_ORDER\"] = \"PCI_BUS_ID\" \n",
    "# os.environ[\"CUDA_VISIBLE_DEVICES\"] = \"-1\"\n",
    "\n",
    "import numpy as np\n",
    "import matplotlib.pyplot as plt\n",
    "import tensorflow as tf\n",
    "from tensorflow import keras\n",
    "from tensorflow.keras import layers\n",
    "import math\n",
    "\n",
    "# Enable inline plotting\n",
    "%matplotlib inline\n",
    "\n",
    "import warnings\n",
    "warnings.filterwarnings(\"ignore\", category=DeprecationWarning)\n",
    "warnings.filterwarnings(\"ignore\", category=FutureWarning)"
   ]
  },
  {
   "cell_type": "code",
   "execution_count": 24,
   "metadata": {},
   "outputs": [],
   "source": [
    "def build_mnist_model(n_classes, temperature=1):\n",
    "    \n",
    "    activation = 'relu'\n",
    "    img_rows, img_cols, img_colors = 28, 28, 1\n",
    "    \n",
    "    model = keras.Sequential()\n",
    "    model.add(layers.Conv2D(8, kernel_size=(3, 3), \n",
    "                            input_shape=(img_rows, img_cols, img_colors), activation=activation))\n",
    "    model.add(layers.Conv2D(8, (3, 3), activation=activation))\n",
    "    model.add(layers.MaxPooling2D(pool_size=(2, 2)))\n",
    "    model.add(layers.Dropout(0.25))\n",
    "    model.add(layers.Flatten())\n",
    "    model.add(layers.Dense(128, activation=activation))\n",
    "    model.add(layers.Dropout(0.5))\n",
    "    model.add(layers.Dense(n_classes))\n",
    "    model.add(layers.Lambda(lambda inputs: inputs / temperature))\n",
    "    model.add(layers.Activation('softmax', name='y_pred'))\n",
    "              \n",
    "    return model"
   ]
  },
  {
   "cell_type": "code",
   "execution_count": 25,
   "metadata": {},
   "outputs": [],
   "source": [
    "def normalize(x_train,x_test):\n",
    "    x_train -= x_train.min()\n",
    "    x_train /= x_train.max()\n",
    "    x_test -= x_test.min()\n",
    "    x_test /= x_test.max()\n",
    "    \n",
    "    return x_train, x_test"
   ]
  },
  {
   "cell_type": "code",
   "execution_count": 26,
   "metadata": {},
   "outputs": [],
   "source": [
    "num_classes = 10\n",
    "\n",
    "img_rows, img_cols, img_colors = 28, 28, 1\n",
    "(train_images, train_labels), (test_images, test_labels) = keras.datasets.mnist.load_data()\n",
    "\n",
    "train_images = train_images.astype('float32')\n",
    "test_images = test_images.astype('float32')\n",
    "\n",
    "train_images = train_images.reshape(train_images.shape[0], img_rows, img_cols, 1)\n",
    "test_images = test_images.reshape(test_images.shape[0], img_rows, img_cols, 1)\n",
    "\n",
    "train_images, test_images = normalize(train_images, test_images)\n",
    "    \n",
    "train_labels = keras.utils.to_categorical(train_labels, num_classes)\n",
    "test_labels = keras.utils.to_categorical(test_labels, num_classes)"
   ]
  },
  {
   "cell_type": "code",
   "execution_count": 27,
   "metadata": {},
   "outputs": [
    {
     "name": "stdout",
     "output_type": "stream",
     "text": [
      "train_images (60000, 28, 28, 1)\n",
      "test_images (10000, 28, 28, 1)\n",
      "train_labels (60000, 10)\n",
      "test_labels (10000, 10)\n"
     ]
    }
   ],
   "source": [
    "print('train_images', train_images.shape)\n",
    "print('test_images', test_images.shape)\n",
    "print('train_labels', train_labels.shape)\n",
    "print('test_labels', test_labels.shape)"
   ]
  },
  {
   "cell_type": "code",
   "execution_count": 28,
   "metadata": {},
   "outputs": [],
   "source": [
    "from keras.callbacks import EarlyStopping\n",
    "\n",
    "def train_model(train_images, train_labels, test_images, test_labels, temperature,\n",
    "                batch_size=128, maxepoches=12, learning_rate=0.1, lr_decay=1e-6, lr_drop=20):\n",
    "    \n",
    "    n_classes = train_labels.shape[1]\n",
    "    \n",
    "    def lr_scheduler(epoch):\n",
    "        return learning_rate * (0.5 ** (epoch // lr_drop))\n",
    "    reduce_lr = keras.callbacks.LearningRateScheduler(lr_scheduler)\n",
    "    es = EarlyStopping(monitor='val_loss', mode='min', verbose=1, patience=3)\n",
    "    \n",
    "    model = build_mnist_model(n_classes)\n",
    "    model.compile(loss='mse',\n",
    "                  optimizer=keras.optimizers.Adadelta(),\n",
    "                  metrics=[keras.metrics.CategoricalAccuracy()])\n",
    "    \n",
    "    history = model.fit(train_images, train_labels,\n",
    "                        batch_size=batch_size,\n",
    "                        epochs=maxepoches,\n",
    "                        verbose=1,\n",
    "                        validation_data=(test_images, test_labels),\n",
    "                        callbacks=[reduce_lr, es])\n",
    "    return model"
   ]
  },
  {
   "cell_type": "code",
   "execution_count": 29,
   "metadata": {},
   "outputs": [],
   "source": [
    "def train_distillation(train_images, train_labels, test_images, test_labels, temperature):\n",
    "    \n",
    "    teacher = train_model(train_images, train_labels, test_images, test_labels, temperature)\n",
    "\n",
    "    train_logits = teacher.predict(train_images)\n",
    "    test_logits = teacher.predict(test_images)\n",
    "    \n",
    "    student = train_model(train_images, train_logits, test_images, test_logits, temperature)\n",
    "\n",
    "    return teacher, student"
   ]
  },
  {
   "cell_type": "code",
   "execution_count": 30,
   "metadata": {},
   "outputs": [
    {
     "name": "stdout",
     "output_type": "stream",
     "text": [
      "Epoch 1/12\n",
      "469/469 [==============================] - 17s 36ms/step - loss: 0.0887 - categorical_accuracy: 0.1840 - val_loss: 0.0820 - val_categorical_accuracy: 0.4691\n",
      "Epoch 2/12\n",
      "469/469 [==============================] - 17s 36ms/step - loss: 0.0697 - categorical_accuracy: 0.4464 - val_loss: 0.0372 - val_categorical_accuracy: 0.7995\n",
      "Epoch 3/12\n",
      "469/469 [==============================] - 17s 36ms/step - loss: 0.0457 - categorical_accuracy: 0.6679 - val_loss: 0.0218 - val_categorical_accuracy: 0.8697\n",
      "Epoch 4/12\n",
      "469/469 [==============================] - 17s 36ms/step - loss: 0.0360 - categorical_accuracy: 0.7446 - val_loss: 0.0177 - val_categorical_accuracy: 0.8880\n",
      "Epoch 5/12\n",
      "469/469 [==============================] - 17s 35ms/step - loss: 0.0313 - categorical_accuracy: 0.7833 - val_loss: 0.0158 - val_categorical_accuracy: 0.9002\n",
      "Epoch 6/12\n",
      "469/469 [==============================] - 17s 36ms/step - loss: 0.0285 - categorical_accuracy: 0.8030 - val_loss: 0.0145 - val_categorical_accuracy: 0.9065\n",
      "Epoch 7/12\n",
      "469/469 [==============================] - 16s 35ms/step - loss: 0.0264 - categorical_accuracy: 0.8182 - val_loss: 0.0135 - val_categorical_accuracy: 0.9119\n",
      "Epoch 8/12\n",
      "469/469 [==============================] - 17s 35ms/step - loss: 0.0248 - categorical_accuracy: 0.8293 - val_loss: 0.0128 - val_categorical_accuracy: 0.9185\n",
      "Epoch 9/12\n",
      "469/469 [==============================] - 17s 36ms/step - loss: 0.0233 - categorical_accuracy: 0.8420 - val_loss: 0.0121 - val_categorical_accuracy: 0.9220\n",
      "Epoch 10/12\n",
      "469/469 [==============================] - 18s 37ms/step - loss: 0.0223 - categorical_accuracy: 0.8487 - val_loss: 0.0115 - val_categorical_accuracy: 0.9256\n",
      "Epoch 11/12\n",
      "469/469 [==============================] - 17s 37ms/step - loss: 0.0212 - categorical_accuracy: 0.8575 - val_loss: 0.0110 - val_categorical_accuracy: 0.9296\n",
      "Epoch 12/12\n",
      "469/469 [==============================] - 17s 36ms/step - loss: 0.0203 - categorical_accuracy: 0.8628 - val_loss: 0.0106 - val_categorical_accuracy: 0.9326\n",
      "Epoch 1/12\n",
      "469/469 [==============================] - 17s 37ms/step - loss: 0.0724 - categorical_accuracy: 0.2196 - val_loss: 0.0627 - val_categorical_accuracy: 0.5176\n",
      "Epoch 2/12\n",
      "469/469 [==============================] - 17s 37ms/step - loss: 0.0471 - categorical_accuracy: 0.5464 - val_loss: 0.0149 - val_categorical_accuracy: 0.8667\n",
      "Epoch 3/12\n",
      "469/469 [==============================] - 18s 38ms/step - loss: 0.0250 - categorical_accuracy: 0.7409 - val_loss: 0.0063 - val_categorical_accuracy: 0.9164\n",
      "Epoch 4/12\n",
      "469/469 [==============================] - 17s 37ms/step - loss: 0.0178 - categorical_accuracy: 0.8030 - val_loss: 0.0038 - val_categorical_accuracy: 0.9351\n",
      "Epoch 5/12\n",
      "469/469 [==============================] - 17s 37ms/step - loss: 0.0146 - categorical_accuracy: 0.8320 - val_loss: 0.0028 - val_categorical_accuracy: 0.9451\n",
      "Epoch 6/12\n",
      "469/469 [==============================] - 18s 38ms/step - loss: 0.0126 - categorical_accuracy: 0.8512 - val_loss: 0.0022 - val_categorical_accuracy: 0.9498\n",
      "Epoch 7/12\n",
      "469/469 [==============================] - 17s 37ms/step - loss: 0.0112 - categorical_accuracy: 0.8626 - val_loss: 0.0019 - val_categorical_accuracy: 0.9534\n",
      "Epoch 8/12\n",
      "469/469 [==============================] - 18s 38ms/step - loss: 0.0103 - categorical_accuracy: 0.8700 - val_loss: 0.0017 - val_categorical_accuracy: 0.9575\n",
      "Epoch 9/12\n",
      "469/469 [==============================] - 18s 38ms/step - loss: 0.0095 - categorical_accuracy: 0.8782 - val_loss: 0.0015 - val_categorical_accuracy: 0.9603\n",
      "Epoch 10/12\n",
      "469/469 [==============================] - 17s 37ms/step - loss: 0.0089 - categorical_accuracy: 0.8828 - val_loss: 0.0014 - val_categorical_accuracy: 0.9630\n",
      "Epoch 11/12\n",
      "469/469 [==============================] - 18s 37ms/step - loss: 0.0084 - categorical_accuracy: 0.8891 - val_loss: 0.0013 - val_categorical_accuracy: 0.9644\n",
      "Epoch 12/12\n",
      "469/469 [==============================] - 18s 39ms/step - loss: 0.0080 - categorical_accuracy: 0.8924 - val_loss: 0.0012 - val_categorical_accuracy: 0.9663\n"
     ]
    }
   ],
   "source": [
    "teacher, student = train_distillation(train_images, train_labels, test_images, test_labels, \n",
    "                                     temperature=20)"
   ]
  },
  {
   "cell_type": "markdown",
   "metadata": {},
   "source": [
    "## Attack teacher and student"
   ]
  },
  {
   "cell_type": "code",
   "execution_count": 31,
   "metadata": {},
   "outputs": [],
   "source": [
    "def TestAttack(model, adv_images, orig_images, true_labels, target_labels=None, targeted=False):\n",
    "    adv_images = adv_images.numpy()\n",
    "    score = model.evaluate(adv_images, true_labels, verbose=0)\n",
    "    \n",
    "    print('Test loss: {:.2f}'.format(score[0]))\n",
    "    print('Successfully moved out of source class: {:.2f}'.format( 1 - score[1]))\n",
    "    \n",
    "    if targeted:\n",
    "        score = model.evaluate(adv_images, target, verbose=0)\n",
    "        print('Test loss: {:.2f}'.format(score[0]))\n",
    "        print('Successfully perturbed to target class: {:.2f}'.format(score[1]))\n",
    "    \n",
    "    dist = np.mean(np.sqrt(np.mean(np.square(adv_images - orig_images), axis=(1,2,3))))\n",
    "    print('Mean perturbation distance: {:.2f}'.format(dist))\n",
    "    \n",
    "    index = 10\n",
    "    img = adv_images[index].reshape(28, 28)\n",
    "    plt.imshow(img, cmap='gray')\n",
    "    plt.show()"
   ]
  },
  {
   "cell_type": "code",
   "execution_count": 32,
   "metadata": {},
   "outputs": [],
   "source": [
    "def FastGradientSignMethod(model, input_image, input_label, eps=0.3):\n",
    "    loss_object = tf.keras.losses.CategoricalCrossentropy()\n",
    "    \n",
    "    with tf.GradientTape() as tape:\n",
    "        tape.watch(input_image)\n",
    "        prediction = model(input_image)\n",
    "        loss = loss_object(input_label, prediction)\n",
    "\n",
    "    gradient = tape.gradient(loss, input_image)\n",
    "    signed_grad = tf.sign(gradient)\n",
    "    adv_x = input_image + eps*signed_grad\n",
    "    \n",
    "    return adv_x"
   ]
  },
  {
   "cell_type": "code",
   "execution_count": 33,
   "metadata": {},
   "outputs": [],
   "source": [
    "from tqdm import tqdm\n",
    "\n",
    "def BasicIterativeMethod(model, input_image, input_label, epsilon=0.1, iter_eps = 0.05, \n",
    "                         iterations=10, min_x=0.0, max_x=1.0):\n",
    "    \n",
    "    def step_targeted_attack(model, input_image, input_label, epsilon, min_x, max_x):\n",
    "        loss_object = tf.keras.losses.CategoricalCrossentropy()\n",
    "        \n",
    "        with tf.GradientTape() as tape:\n",
    "            tape.watch(input_image)\n",
    "            prediction = model(input_image)\n",
    "            loss = loss_object(input_label, prediction)\n",
    "\n",
    "        gradient = tape.gradient(loss, input_image)\n",
    "        signed_grad = tf.sign(gradient)\n",
    "        adv_x = input_image + epsilon*signed_grad\n",
    "        \n",
    "        adv_x = tf.clip_by_value(adv_x, min_x, max_x)\n",
    "        return tf.stop_gradient(adv_x)\n",
    "    \n",
    "\n",
    "    adv_out = input_image\n",
    "    for i in tqdm(range(iterations)):\n",
    "        adv_out = step_targeted_attack(model, adv_out, input_label, \n",
    "                                       iter_eps, min_x, max_x)\n",
    "        \n",
    "    return adv_out"
   ]
  },
  {
   "cell_type": "code",
   "execution_count": 34,
   "metadata": {},
   "outputs": [],
   "source": [
    "test_images = tf.convert_to_tensor(test_images)"
   ]
  },
  {
   "cell_type": "markdown",
   "metadata": {},
   "source": [
    "# Teacher Attack"
   ]
  },
  {
   "cell_type": "code",
   "execution_count": 35,
   "metadata": {},
   "outputs": [
    {
     "name": "stdout",
     "output_type": "stream",
     "text": [
      "Test loss: 0.14\n",
      "Successfully moved out of source class: 0.92\n",
      "Mean perturbation distance: 0.29\n"
     ]
    },
    {
     "data": {
      "image/png": "[encoded data removed]",
      "text/plain": [
       "<Figure size 432x288 with 1 Axes>"
      ]
     },
     "metadata": {
      "needs_background": "light"
     },
     "output_type": "display_data"
    }
   ],
   "source": [
    "adv_images = FastGradientSignMethod(teacher, test_images, test_labels, eps=0.3)\n",
    "TestAttack(teacher, adv_images, test_images.numpy(), test_labels, targeted=False)"
   ]
  },
  {
   "cell_type": "code",
   "execution_count": 36,
   "metadata": {},
   "outputs": [
    {
     "name": "stdout",
     "output_type": "stream",
     "text": [
      "Test loss: 0.19\n",
      "Successfully moved out of source class: 1.00\n",
      "Mean perturbation distance: 0.36\n"
     ]
    },
    {
     "data": {
      "image/png": "[encoded data removed]",
      "text/plain": [
       "<Figure size 432x288 with 1 Axes>"
      ]
     },
     "metadata": {
      "needs_background": "light"
     },
     "output_type": "display_data"
    }
   ],
   "source": [
    "adv_images = BasicIterativeMethod(teacher, test_images, test_labels, \n",
    "                                  iterations = 30, epsilon=4.0, iter_eps = 0.01)\n",
    "TestAttack(teacher, adv_images, test_images.numpy(), test_labels, targeted=False)"
   ]
  },
  {
   "cell_type": "markdown",
   "metadata": {},
   "source": [
    "# Student Attack"
   ]
  },
  {
   "cell_type": "code",
   "execution_count": 37,
   "metadata": {},
   "outputs": [
    {
     "name": "stdout",
     "output_type": "stream",
     "text": [
      "Test loss: 0.14\n",
      "Successfully moved out of source class: 0.93\n",
      "Mean perturbation distance: 0.23\n"
     ]
    },
    {
     "data": {
      "image/png": "[encoded data removed]",
      "text/plain": [
       "<Figure size 432x288 with 1 Axes>"
      ]
     },
     "metadata": {
      "needs_background": "light"
     },
     "output_type": "display_data"
    }
   ],
   "source": [
    "adv_images = FastGradientSignMethod(student, test_images, test_labels, eps=0.3)\n",
    "TestAttack(student, adv_images, test_images.numpy(), test_labels, targeted=False)"
   ]
  },
  {
   "cell_type": "code",
   "execution_count": null,
   "metadata": {},
   "outputs": [],
   "source": [
    "adv_images = BasicIterativeMethod(student, test_images, test_labels, \n",
    "                                  iterations = 30, epsilon=4.0, iter_eps = 0.01)\n",
    "TestAttack(student, adv_images, test_images.numpy(), test_labels, targeted=False)"
   ]
  },
  {
   "cell_type": "markdown",
   "metadata": {},
   "source": [
    "## Binary classification"
   ]
  },
  {
   "cell_type": "code",
   "execution_count": 23,
   "metadata": {},
   "outputs": [
    {
     "name": "stdout",
     "output_type": "stream",
     "text": [
      "train_labels_2 (11774, 2)\n",
      "test_labels_2 (1954, 2)\n",
      "train_images_2 (11774, 28, 28, 1)\n",
      "test_images_2 (1954, 28, 28, 1)\n"
     ]
    }
   ],
   "source": [
    "wanted_classes = [0, 8]\n",
    "(_, train_labels_), (_, test_labels_) = keras.datasets.mnist.load_data()\n",
    "\n",
    "train_mask = (train_labels_ == wanted_classes[0]) | (train_labels_ == wanted_classes[1]) \n",
    "test_mask = (test_labels_ == wanted_classes[0]) | (test_labels_ == wanted_classes[1])\n",
    "\n",
    "train_labels_2, train_images_2 = train_labels[train_mask], train_images[train_mask]\n",
    "test_labels_2, test_images_2 = test_labels[test_mask], test_images[test_mask]\n",
    "\n",
    "train_labels_2, test_labels_2 = train_labels_2[:, wanted_classes], test_labels_2[:, wanted_classes]\n",
    "\n",
    "print('train_labels_2', train_labels_2.shape)\n",
    "print('test_labels_2', test_labels_2.shape)\n",
    "print('train_images_2', train_images_2.shape)\n",
    "print('test_images_2', test_images_2.shape)"
   ]
  },
  {
   "cell_type": "code",
   "execution_count": null,
   "metadata": {},
   "outputs": [],
   "source": [
    "teacher_2, student_2 = train_distillation(train_images_2, \n",
    "                                          train_labels_2, test_images_2, test_labels_2, \n",
    "                                         temperature=20)"
   ]
  },
  {
   "cell_type": "code",
   "execution_count": null,
   "metadata": {},
   "outputs": [],
   "source": [
    "test_images_2 = tf.convert_to_tensor(test_images_2)"
   ]
  },
  {
   "cell_type": "markdown",
   "metadata": {},
   "source": [
    "## Teacher Attack"
   ]
  },
  {
   "cell_type": "code",
   "execution_count": null,
   "metadata": {},
   "outputs": [],
   "source": [
    "adv_images = FastGradientSignMethod(teacher_2, test_images_2, test_labels_2, eps=0.3)\n",
    "TestAttack(teacher_2, adv_images, test_images_2.numpy(), test_labels_2, targeted=False)"
   ]
  },
  {
   "cell_type": "code",
   "execution_count": null,
   "metadata": {},
   "outputs": [],
   "source": [
    "adv_images = BasicIterativeMethod(teacher_2, test_images_2, test_labels_2, \n",
    "                                  iterations = 30, epsilon=4.0, iter_eps = 0.05)\n",
    "TestAttack(teacher_2, adv_images, test_images_2.numpy(), test_labels_2, targeted=False)"
   ]
  },
  {
   "cell_type": "markdown",
   "metadata": {},
   "source": [
    "## Student Attack"
   ]
  },
  {
   "cell_type": "code",
   "execution_count": null,
   "metadata": {},
   "outputs": [],
   "source": [
    "adv_images = FastGradientSignMethod(student_2, test_images_2, test_labels_2, eps=0.3)\n",
    "TestAttack(student_2, adv_images, test_images_2.numpy(), test_labels_2, targeted=False)"
   ]
  },
  {
   "cell_type": "code",
   "execution_count": null,
   "metadata": {},
   "outputs": [],
   "source": [
    "adv_images = BasicIterativeMethod(student_2, test_images_2, test_labels_2, \n",
    "                                  iterations = 30, epsilon=4.0, iter_eps = 0.05)\n",
    "TestAttack(student_2, adv_images, test_images_2.numpy(), test_labels_2, targeted=False)"
   ]
  },
  {
   "cell_type": "code",
   "execution_count": null,
   "metadata": {},
   "outputs": [],
   "source": []
  }
 ],
 "metadata": {
  "kernelspec": {
   "display_name": "Python 3",
   "language": "python",
   "name": "python3"
  },
  "language_info": {
   "codemirror_mode": {
    "name": "ipython",
    "version": 3
   },
   "file_extension": ".py",
   "mimetype": "text/x-python",
   "name": "python",
   "nbconvert_exporter": "python",
   "pygments_lexer": "ipython3",
   "version": "3.8.8"
  }
 },
 "nbformat": 4,
 "nbformat_minor": 2
}
