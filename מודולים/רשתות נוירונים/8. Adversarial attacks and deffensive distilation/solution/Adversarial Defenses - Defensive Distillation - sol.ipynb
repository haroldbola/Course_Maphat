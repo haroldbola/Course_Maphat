{
 "cells": [
  {
   "cell_type": "markdown",
   "metadata": {
    "colab_type": "text",
    "id": "-sI17dt3e7eK"
   },
   "source": [
    "## imports"
   ]
  },
  {
   "cell_type": "code",
   "execution_count": 1,
   "metadata": {
    "colab": {
     "base_uri": "https://localhost:8080/",
     "height": 35
    },
    "colab_type": "code",
    "id": "O3ZhemSscddv",
    "outputId": "00c07040-5dab-4ddc-f363-bbbc9b445110"
   },
   "outputs": [
    {
     "name": "stdout",
     "output_type": "stream",
     "text": [
      "TensorFlow 1.x selected.\n"
     ]
    }
   ],
   "source": [
    "import os\n",
    "os.environ[\"CUDA_DEVICE_ORDER\"] = \"PCI_BUS_ID\" \n",
    "os.environ[\"CUDA_VISIBLE_DEVICES\"] = \"-1\"\n",
    "\n",
    "import numpy as np\n",
    "import matplotlib.pyplot as plt\n",
    "%tensorflow_version 1.x\n",
    "import tensorflow as tf\n",
    "from tensorflow import keras\n",
    "from tensorflow.keras import layers\n",
    "import math\n",
    "import random\n",
    "\n",
    "# Enable inline plotting\n",
    "%matplotlib inline\n",
    "\n",
    "import warnings\n",
    "warnings.filterwarnings(\"ignore\", category=DeprecationWarning)\n",
    "warnings.filterwarnings(\"ignore\", category=FutureWarning)"
   ]
  },
  {
   "cell_type": "code",
   "execution_count": 0,
   "metadata": {
    "colab": {},
    "colab_type": "code",
    "id": "G2gPw6Hr0W8W"
   },
   "outputs": [],
   "source": [
    "sess = tf.Session()\n",
    "keras.backend.set_session(sess)"
   ]
  },
  {
   "cell_type": "markdown",
   "metadata": {
    "colab_type": "text",
    "id": "4BsYlrJefCbq"
   },
   "source": [
    "## Classifier Training utilities"
   ]
  },
  {
   "cell_type": "code",
   "execution_count": 0,
   "metadata": {
    "colab": {},
    "colab_type": "code",
    "id": "HfW6zS-UcsxN"
   },
   "outputs": [],
   "source": [
    "''' Build a simple MNIST classification CNN\n",
    "    The network takes ~3 minutes to train on a normal laptop and reaches roughly 97% of accuracy\n",
    "    Model structure: Conv, Conv, Max pooling, Dropout, Dense, Dense\n",
    "'''\n",
    "def build_mnist_model(n_classes):\n",
    "    \n",
    "    activation = 'relu'\n",
    "    # input image dimensions\n",
    "    img_rows, img_cols, img_colors = 28, 28, 1\n",
    "    \n",
    "    model = keras.Sequential()\n",
    "    model.add(layers.Conv2D(8, kernel_size=(3, 3), input_shape=(img_rows, img_cols, img_colors), activation=activation))\n",
    "    model.add(layers.Conv2D(8, (3, 3), activation=activation))\n",
    "    model.add(layers.MaxPooling2D(pool_size=(2, 2)))\n",
    "    model.add(layers.Dropout(0.25))\n",
    "    model.add(layers.Flatten())\n",
    "    model.add(layers.Dense(128, activation=activation))\n",
    "    model.add(layers.Dropout(0.5))\n",
    "    model.add(layers.Dense(n_classes))\n",
    "    # model.add(layers.Activation('softmax', name='y_pred'))\n",
    "              \n",
    "    return model"
   ]
  },
  {
   "cell_type": "code",
   "execution_count": 0,
   "metadata": {
    "colab": {},
    "colab_type": "code",
    "id": "sPcyUercd8Qn"
   },
   "outputs": [],
   "source": [
    "''' Normalize input to the range of [0..1]\n",
    "    Apart from assisting in the convergance of the training process, this \n",
    "    will also make our lives easier during the adversarial attack process\n",
    "'''\n",
    "def normalize(x_train,x_test):\n",
    "    x_train -= x_train.min()\n",
    "    x_train /= x_train.max()\n",
    "    x_test -= x_test.min()\n",
    "    x_test /= x_test.max()\n",
    "    \n",
    "    return x_train, x_test"
   ]
  },
  {
   "cell_type": "code",
   "execution_count": 0,
   "metadata": {
    "colab": {},
    "colab_type": "code",
    "id": "h2C2oXNxePMH"
   },
   "outputs": [],
   "source": [
    "def train_model(train_images, train_labels, test_images, test_labels, softmax_temp=1, \n",
    "                batch_size=128, maxepoches=12, learning_rate=0.1, lr_decay=1e-6, lr_drop=20):\n",
    "    \n",
    "    n_classes = train_labels.shape[1]\n",
    "    \n",
    "    # lr scheduler \n",
    "    def lr_scheduler(epoch):\n",
    "        return learning_rate * (0.5 ** (epoch // lr_drop))\n",
    "    reduce_lr = keras.callbacks.LearningRateScheduler(lr_scheduler)\n",
    "\n",
    "    model = build_mnist_model(n_classes)\n",
    "\n",
    "    # compile model with loss which applies temp softmax before cross entropy \n",
    "    model.compile(loss=lambda y_true, y_pred: tf.nn.softmax_cross_entropy_with_logits(logits=y_pred/softmax_temp, labels=y_true),\n",
    "              optimizer=keras.optimizers.Adadelta(),\n",
    "              metrics=[keras.metrics.CategoricalAccuracy()])\n",
    "    \n",
    "    history = model.fit(train_images, train_labels,\n",
    "                        batch_size=batch_size,\n",
    "                        epochs=maxepoches,\n",
    "                        verbose=1,\n",
    "                        validation_data=(test_images, test_labels),\n",
    "                        callbacks=[reduce_lr])\n",
    "    return model"
   ]
  },
  {
   "cell_type": "markdown",
   "metadata": {
    "colab_type": "text",
    "id": "72u1NhlwfH48"
   },
   "source": [
    "### Defensive distillation"
   ]
  },
  {
   "cell_type": "code",
   "execution_count": 0,
   "metadata": {
    "colab": {},
    "colab_type": "code",
    "id": "oBRuuqTHfMbh"
   },
   "outputs": [],
   "source": [
    "def train_distillation(train_images, train_labels, test_images, test_labels, temp, add_softmax=True):\n",
    "    # train teacher\n",
    "    print(f\"training Teacher model with Temp {temp}\")\n",
    "    teacher = train_model(train_images, train_labels, test_images, test_labels, temp)\n",
    "\n",
    "    # get student labels\n",
    "    train_logits = teacher.predict(train_images)\n",
    "    test_logits = teacher.predict(test_images)\n",
    "\n",
    "    with tf.Session() as sess:\n",
    "        student_train_labels = sess.run(tf.nn.softmax(train_logits/temp))\n",
    "        student_test_labels = sess.run(tf.nn.softmax(test_logits/temp))\n",
    "\n",
    "    # train student and add regular softmax (temp=1)\n",
    "    print(f\"training Student model with Temp {temp}\")\n",
    "    student = train_model(train_images, student_train_labels, test_images, student_test_labels, temp)\n",
    "    if add_softmax:\n",
    "        student.add(layers.Activation('softmax', name='y_pred'))\n",
    "\n",
    "    return student"
   ]
  },
  {
   "cell_type": "markdown",
   "metadata": {
    "colab_type": "text",
    "id": "x64bAkOz1ZUq"
   },
   "source": [
    "### Train models"
   ]
  },
  {
   "cell_type": "code",
   "execution_count": 99,
   "metadata": {
    "colab": {
     "base_uri": "https://localhost:8080/",
     "height": 0
    },
    "colab_type": "code",
    "id": "LLPkdFIlvk5q",
    "outputId": "0e4b2e2a-3c16-42c6-d056-5f81f46f0fbf"
   },
   "outputs": [
    {
     "name": "stdout",
     "output_type": "stream",
     "text": [
      "selected classes for binary data: [2, 7]\n"
     ]
    }
   ],
   "source": [
    "# Load and prepare the datasets for training\n",
    "binary = True\n",
    "num_classes = 10\n",
    "\n",
    "img_rows, img_cols, img_colors = 28, 28, 1\n",
    "(train_images, train_labels_), (test_images, test_labels_) = keras.datasets.mnist.load_data()\n",
    "train_images = train_images.astype('float32')\n",
    "test_images = test_images.astype('float32')\n",
    "train_images = train_images.reshape(train_images.shape[0], img_rows, img_cols, 1)\n",
    "test_images = test_images.reshape(test_images.shape[0], img_rows, img_cols, 1)\n",
    "train_images, test_images = normalize(train_images, test_images)\n",
    "    \n",
    "train_labels = keras.utils.to_categorical(train_labels_, num_classes)\n",
    "test_labels = keras.utils.to_categorical(test_labels_, num_classes)\n",
    "\n",
    "if binary:\n",
    "    wanted_classes = random.sample(range(num_classes), 2)\n",
    "    print('selected classes for binary data:', wanted_classes)\n",
    "    train_mask = (train_labels_ == wanted_classes[0]) | (train_labels_ == wanted_classes[1]) \n",
    "    test_mask = (test_labels_ == wanted_classes[0]) | (test_labels_ == wanted_classes[1])\n",
    "    # get only wanted samples\n",
    "    train_labels, train_images, test_labels, test_images = train_labels[train_mask], train_images[train_mask], test_labels[test_mask], test_images[test_mask]\n",
    "    # get only wanted columns\n",
    "    train_labels, test_labels = train_labels[:, wanted_classes], test_labels[:, wanted_classes]\n",
    "    assert((train_labels.sum(axis=1) == 1).all)\n",
    "    assert((test_labels.sum(axis=1) == 1).all)"
   ]
  },
  {
   "cell_type": "code",
   "execution_count": 100,
   "metadata": {
    "colab": {
     "base_uri": "https://localhost:8080/",
     "height": 0
    },
    "colab_type": "code",
    "id": "lgPH3NN-voXP",
    "outputId": "d091ca31-af67-4eb0-b590-932f26a92319"
   },
   "outputs": [
    {
     "name": "stdout",
     "output_type": "stream",
     "text": [
      "Train on 12223 samples, validate on 2060 samples\n",
      "Epoch 1/12\n",
      "12223/12223 [==============================] - 8s 645us/sample - loss: 0.3861 - categorical_accuracy: 0.8932 - val_loss: 0.0899 - val_categorical_accuracy: 0.9684\n",
      "Epoch 2/12\n",
      "12223/12223 [==============================] - 7s 555us/sample - loss: 0.0762 - categorical_accuracy: 0.9735 - val_loss: 0.0749 - val_categorical_accuracy: 0.9748\n",
      "Epoch 3/12\n",
      "12223/12223 [==============================] - 7s 554us/sample - loss: 0.0607 - categorical_accuracy: 0.9798 - val_loss: 0.0699 - val_categorical_accuracy: 0.9748\n",
      "Epoch 4/12\n",
      "12223/12223 [==============================] - 7s 557us/sample - loss: 0.0554 - categorical_accuracy: 0.9812 - val_loss: 0.0675 - val_categorical_accuracy: 0.9772\n",
      "Epoch 5/12\n",
      "12223/12223 [==============================] - 7s 557us/sample - loss: 0.0515 - categorical_accuracy: 0.9812 - val_loss: 0.0653 - val_categorical_accuracy: 0.9772\n",
      "Epoch 6/12\n",
      "12223/12223 [==============================] - 7s 556us/sample - loss: 0.0479 - categorical_accuracy: 0.9848 - val_loss: 0.0622 - val_categorical_accuracy: 0.9786\n",
      "Epoch 7/12\n",
      "12223/12223 [==============================] - 7s 556us/sample - loss: 0.0472 - categorical_accuracy: 0.9849 - val_loss: 0.0594 - val_categorical_accuracy: 0.9796\n",
      "Epoch 8/12\n",
      "12223/12223 [==============================] - 7s 552us/sample - loss: 0.0451 - categorical_accuracy: 0.9849 - val_loss: 0.0567 - val_categorical_accuracy: 0.9801\n",
      "Epoch 9/12\n",
      "12223/12223 [==============================] - 7s 550us/sample - loss: 0.0434 - categorical_accuracy: 0.9858 - val_loss: 0.0521 - val_categorical_accuracy: 0.9811\n",
      "Epoch 10/12\n",
      "12223/12223 [==============================] - 7s 555us/sample - loss: 0.0425 - categorical_accuracy: 0.9858 - val_loss: 0.0521 - val_categorical_accuracy: 0.9825\n",
      "Epoch 11/12\n",
      "12223/12223 [==============================] - 7s 555us/sample - loss: 0.0399 - categorical_accuracy: 0.9876 - val_loss: 0.0506 - val_categorical_accuracy: 0.9825\n",
      "Epoch 12/12\n",
      "12223/12223 [==============================] - 7s 555us/sample - loss: 0.0391 - categorical_accuracy: 0.9871 - val_loss: 0.0489 - val_categorical_accuracy: 0.9830\n"
     ]
    }
   ],
   "source": [
    "# regular CNN classifier\n",
    "regular_model = train_model(train_images, train_labels, test_images, test_labels, softmax_temp=1)\n",
    "regular_model.add(layers.Activation('softmax', name='y_pred'))"
   ]
  },
  {
   "cell_type": "code",
   "execution_count": 113,
   "metadata": {
    "colab": {
     "base_uri": "https://localhost:8080/",
     "height": 0
    },
    "colab_type": "code",
    "id": "yvcOLY10wADZ",
    "outputId": "bae286c8-0e64-4bef-f348-483cbd960455"
   },
   "outputs": [
    {
     "name": "stdout",
     "output_type": "stream",
     "text": [
      "training Teacher model with Temp 20\n",
      "Train on 12223 samples, validate on 2060 samples\n",
      "Epoch 1/12\n",
      "12223/12223 [==============================] - 8s 667us/sample - loss: 0.6766 - categorical_accuracy: 0.7878 - val_loss: 0.6332 - val_categorical_accuracy: 0.9447\n",
      "Epoch 2/12\n",
      "12223/12223 [==============================] - 7s 572us/sample - loss: 0.3703 - categorical_accuracy: 0.9456 - val_loss: 0.1256 - val_categorical_accuracy: 0.9607\n",
      "Epoch 3/12\n",
      "12223/12223 [==============================] - 7s 563us/sample - loss: 0.1060 - categorical_accuracy: 0.9646 - val_loss: 0.0908 - val_categorical_accuracy: 0.9670\n",
      "Epoch 4/12\n",
      "12223/12223 [==============================] - 7s 564us/sample - loss: 0.0802 - categorical_accuracy: 0.9734 - val_loss: 0.0877 - val_categorical_accuracy: 0.9689\n",
      "Epoch 5/12\n",
      "12223/12223 [==============================] - 7s 559us/sample - loss: 0.0721 - categorical_accuracy: 0.9732 - val_loss: 0.0786 - val_categorical_accuracy: 0.9748\n",
      "Epoch 6/12\n",
      "12223/12223 [==============================] - 7s 562us/sample - loss: 0.0671 - categorical_accuracy: 0.9753 - val_loss: 0.0771 - val_categorical_accuracy: 0.9752\n",
      "Epoch 7/12\n",
      "12223/12223 [==============================] - 7s 559us/sample - loss: 0.0645 - categorical_accuracy: 0.9769 - val_loss: 0.0743 - val_categorical_accuracy: 0.9757\n",
      "Epoch 8/12\n",
      "12223/12223 [==============================] - 7s 563us/sample - loss: 0.0657 - categorical_accuracy: 0.9780 - val_loss: 0.0774 - val_categorical_accuracy: 0.9752\n",
      "Epoch 9/12\n",
      "12223/12223 [==============================] - 7s 567us/sample - loss: 0.0613 - categorical_accuracy: 0.9789 - val_loss: 0.0733 - val_categorical_accuracy: 0.9772\n",
      "Epoch 10/12\n",
      "12223/12223 [==============================] - 7s 559us/sample - loss: 0.0578 - categorical_accuracy: 0.9795 - val_loss: 0.0698 - val_categorical_accuracy: 0.9772\n",
      "Epoch 11/12\n",
      "12223/12223 [==============================] - 7s 563us/sample - loss: 0.0559 - categorical_accuracy: 0.9813 - val_loss: 0.0693 - val_categorical_accuracy: 0.9777\n",
      "Epoch 12/12\n",
      "12223/12223 [==============================] - 7s 561us/sample - loss: 0.0547 - categorical_accuracy: 0.9813 - val_loss: 0.0683 - val_categorical_accuracy: 0.9782\n",
      "training Student model with Temp 20\n",
      "Train on 12223 samples, validate on 2060 samples\n",
      "Epoch 1/12\n",
      "12223/12223 [==============================] - 8s 669us/sample - loss: 0.6920 - categorical_accuracy: 0.6046 - val_loss: 0.6897 - val_categorical_accuracy: 0.8947\n",
      "Epoch 2/12\n",
      "12223/12223 [==============================] - 7s 573us/sample - loss: 0.6834 - categorical_accuracy: 0.8274 - val_loss: 0.6636 - val_categorical_accuracy: 0.9350\n",
      "Epoch 3/12\n",
      "12223/12223 [==============================] - 7s 560us/sample - loss: 0.4636 - categorical_accuracy: 0.9314 - val_loss: 0.1277 - val_categorical_accuracy: 0.9796\n",
      "Epoch 4/12\n",
      "12223/12223 [==============================] - 7s 555us/sample - loss: 0.1070 - categorical_accuracy: 0.9742 - val_loss: 0.0645 - val_categorical_accuracy: 0.9864\n",
      "Epoch 5/12\n",
      "12223/12223 [==============================] - 7s 559us/sample - loss: 0.0783 - categorical_accuracy: 0.9799 - val_loss: 0.0563 - val_categorical_accuracy: 0.9917\n",
      "Epoch 6/12\n",
      "12223/12223 [==============================] - 7s 557us/sample - loss: 0.0722 - categorical_accuracy: 0.9822 - val_loss: 0.0547 - val_categorical_accuracy: 0.9908\n",
      "Epoch 7/12\n",
      "12223/12223 [==============================] - 7s 555us/sample - loss: 0.0664 - categorical_accuracy: 0.9854 - val_loss: 0.0523 - val_categorical_accuracy: 0.9961\n",
      "Epoch 8/12\n",
      "12223/12223 [==============================] - 7s 554us/sample - loss: 0.0648 - categorical_accuracy: 0.9866 - val_loss: 0.0517 - val_categorical_accuracy: 0.9961\n",
      "Epoch 9/12\n",
      "12223/12223 [==============================] - 7s 557us/sample - loss: 0.0634 - categorical_accuracy: 0.9866 - val_loss: 0.0514 - val_categorical_accuracy: 0.9961\n",
      "Epoch 10/12\n",
      "12223/12223 [==============================] - 7s 555us/sample - loss: 0.0632 - categorical_accuracy: 0.9878 - val_loss: 0.0514 - val_categorical_accuracy: 0.9956\n",
      "Epoch 11/12\n",
      "12223/12223 [==============================] - 7s 555us/sample - loss: 0.0621 - categorical_accuracy: 0.9894 - val_loss: 0.0508 - val_categorical_accuracy: 0.9966\n",
      "Epoch 12/12\n",
      "12223/12223 [==============================] - 7s 557us/sample - loss: 0.0604 - categorical_accuracy: 0.9899 - val_loss: 0.0505 - val_categorical_accuracy: 0.9966\n"
     ]
    }
   ],
   "source": [
    "# train classifier with defensive distilation\n",
    "student = train_distillation(train_images, train_labels, test_images, test_labels, temp=20)"
   ]
  },
  {
   "cell_type": "markdown",
   "metadata": {
    "colab_type": "text",
    "id": "akh9vO7Zezup"
   },
   "source": [
    "## attacks"
   ]
  },
  {
   "cell_type": "markdown",
   "metadata": {
    "colab_type": "text",
    "id": "YyqQt6902wfP"
   },
   "source": [
    "contstants"
   ]
  },
  {
   "cell_type": "code",
   "execution_count": 0,
   "metadata": {
    "colab": {},
    "colab_type": "code",
    "id": "89psL4u42z1R"
   },
   "outputs": [],
   "source": [
    "model = student  # change to student for defensive distilation"
   ]
  },
  {
   "cell_type": "code",
   "execution_count": 0,
   "metadata": {
    "colab": {},
    "colab_type": "code",
    "id": "7Nohn6wYeVOM"
   },
   "outputs": [],
   "source": [
    "''' A simple utility funcion for evaluating the success of an attack\n",
    "'''\n",
    "def TestAttack(model, adv_images, orig_images, true_labels, target_labels=None, targeted=False):\n",
    "    score = model.evaluate(adv_images, true_labels, verbose=0)\n",
    "    print('Test loss: {:.2f}'.format(score[0]))\n",
    "    print('Successfully moved out of source class: {:.2f}'.format( 1 - score[1]))\n",
    "    \n",
    "    if targeted:\n",
    "        score = model.evaluate(adv_images, target, verbose=0)\n",
    "        print('Test loss: {:.2f}'.format(score[0]))\n",
    "        print('Successfully perturbed to target class: {:.2f}'.format(score[1]))\n",
    "    \n",
    "    dist = np.mean(np.sqrt(np.mean(np.square(adv_images - orig_images), axis=(1,2,3))))\n",
    "    print('Mean perturbation distance: {:.2f}'.format(dist))\n",
    "    \n",
    "    index = 10\n",
    "    img = adv_images[index].reshape(28, 28)\n",
    "    plt.imshow(img, cmap='gray')\n",
    "    plt.show()"
   ]
  },
  {
   "cell_type": "markdown",
   "metadata": {
    "colab_type": "text",
    "id": "fzOubyx9eu-G"
   },
   "source": [
    "--- TF Only FGSM Implementation ---"
   ]
  },
  {
   "cell_type": "code",
   "execution_count": 0,
   "metadata": {
    "colab": {},
    "colab_type": "code",
    "id": "f3qDg1lDebot"
   },
   "outputs": [],
   "source": [
    "''' Fast Gradient Sign Method implementation - perturb all input features by an epsilon sized step in \n",
    "    the direction of loss gradient\n",
    "'''\n",
    "def TF_FastGradientSignMethod(model, images, labels, epsilon):\n",
    "    adv_loss = keras.losses.categorical_crossentropy(labels, model(images))\n",
    "    adv_grads = tf.gradients(adv_loss, images)[0]\n",
    "    adv_out = images + epsilon * tf.math.sign(adv_grads)\n",
    "    return adv_out"
   ]
  },
  {
   "cell_type": "code",
   "execution_count": 0,
   "metadata": {
    "colab": {},
    "colab_type": "code",
    "id": "2VuxtmZWebsC"
   },
   "outputs": [],
   "source": [
    "images = tf.Variable(test_images)\n",
    "attack_labels = tf.Variable(test_labels)\n",
    "adv_out = TF_FastGradientSignMethod(model, images, attack_labels, epsilon=10.0)"
   ]
  },
  {
   "cell_type": "code",
   "execution_count": 130,
   "metadata": {
    "colab": {
     "base_uri": "https://localhost:8080/",
     "height": 0
    },
    "colab_type": "code",
    "id": "9WsgZ7hVelTn",
    "outputId": "09270df2-28c4-4d63-dd59-de8c93e03f1d"
   },
   "outputs": [
    {
     "name": "stdout",
     "output_type": "stream",
     "text": [
      "Test loss: 0.68\n",
      "Successfully moved out of source class: 0.15\n",
      "Mean perturbation distance: 1.44\n"
     ]
    },
    {
     "data": {
      "image/png": "[encoded data removed]",
      "text/plain": [
       "<Figure size 432x288 with 1 Axes>"
      ]
     },
     "metadata": {
      "needs_background": "light",
      "tags": []
     },
     "output_type": "display_data"
    }
   ],
   "source": [
    "adv_images = sess.run(adv_out, feed_dict={images:test_images, \n",
    "                                          attack_labels:test_labels\n",
    "                                         })\n",
    "TestAttack(model, adv_images, test_images, test_labels)"
   ]
  },
  {
   "cell_type": "markdown",
   "metadata": {
    "colab_type": "text",
    "id": "FHOYfSWj1Egw"
   },
   "source": [
    "--- TF Only TGSM Implementation ---"
   ]
  },
  {
   "cell_type": "code",
   "execution_count": 0,
   "metadata": {
    "colab": {},
    "colab_type": "code",
    "id": "S50HuPhF1FzA"
   },
   "outputs": [],
   "source": [
    "''' Targeted Gradient Sign Method implementation - A targeted variant of the FGSM attack\n",
    "    here we minimize the loss with respect to the target class, as opposed to maximizing the loss with respect\n",
    "    to the source class\n",
    "'''\n",
    "def TF_TargetedGradientSignMethod(model, images, target, epsilon):\n",
    "    adv_loss = keras.losses.categorical_crossentropy(target, model(images))\n",
    "    adv_grads = tf.gradients(adv_loss, images)[0]\n",
    "    adv_out = images - epsilon * tf.math.sign(adv_grads)\n",
    "    return adv_out"
   ]
  },
  {
   "cell_type": "code",
   "execution_count": 0,
   "metadata": {
    "colab": {},
    "colab_type": "code",
    "id": "meNUKknQ1LA-"
   },
   "outputs": [],
   "source": [
    "if binary:\n",
    "  target = 1 - test_labels\n",
    "else:\n",
    "  target = (np.argmax(test_labels, axis=1) + np.random.randint(1, num_classes, size=(test_labels.shape[0]))) % num_classes\n",
    "  target = keras.utils.to_categorical(target, num_classes)\n",
    "images = tf.Variable(test_images)\n",
    "attack_labels = tf.Variable(target)\n",
    "adv_out = TF_TargetedGradientSignMethod(model, images, attack_labels, epsilon=0.3)"
   ]
  },
  {
   "cell_type": "code",
   "execution_count": 121,
   "metadata": {
    "colab": {
     "base_uri": "https://localhost:8080/",
     "height": 0
    },
    "colab_type": "code",
    "id": "q2mwilLA1PYG",
    "outputId": "71970134-7372-4829-dc34-d6476c40eae9"
   },
   "outputs": [
    {
     "name": "stdout",
     "output_type": "stream",
     "text": [
      "Test loss: 0.71\n",
      "Successfully moved out of source class: 0.78\n",
      "Test loss: 0.68\n",
      "Successfully perturbed to target class: 0.78\n",
      "Mean perturbation distance: 0.29\n"
     ]
    },
    {
     "data": {
      "image/png": "[encoded data removed]",
      "text/plain": [
       "<Figure size 432x288 with 1 Axes>"
      ]
     },
     "metadata": {
      "needs_background": "light",
      "tags": []
     },
     "output_type": "display_data"
    }
   ],
   "source": [
    "adv_images = sess.run(adv_out, feed_dict={images:test_images, \n",
    "                                          attack_labels:target\n",
    "                                         })\n",
    "TestAttack(model, adv_images, test_images, test_labels, target, targeted=True)"
   ]
  },
  {
   "cell_type": "markdown",
   "metadata": {
    "colab_type": "text",
    "id": "apFV6E_Q2NI2"
   },
   "source": [
    "--- TF Only BIM Implementation ---"
   ]
  },
  {
   "cell_type": "code",
   "execution_count": 0,
   "metadata": {
    "colab": {},
    "colab_type": "code",
    "id": "VTdABR1-13oj"
   },
   "outputs": [],
   "source": [
    "def TF_BasicIterativeMethod(model, images, labels, epsilon, iter_eps, iterations=10, targeted=False):\n",
    "    \n",
    "    adv_out = tf.identity(images)\n",
    "    targeted_tensor = tf.constant(targeted)\n",
    "    \n",
    "    def cond(images, adv_out):\n",
    "        return True\n",
    "    \n",
    "    def perturb(images, adv_out):\n",
    "        \n",
    "        # Perturb with FGSM or TGSM\n",
    "        def tgsm_base():\n",
    "            return TF_TargetedGradientSignMethod(model, adv_out, labels, epsilon=iter_eps)\n",
    "    \n",
    "        def fgsm_base():\n",
    "            return TF_FastGradientSignMethod(model, adv_out, labels, epsilon=iter_eps)\n",
    "        adv_out = tf.cond(targeted_tensor, tgsm_base, fgsm_base)     \n",
    "        \n",
    "        # Project the perturbation to the epsilon ball\n",
    "        perturbation = adv_out - images\n",
    "        norm = tf.reduce_sum(tf.square(perturbation), axis=(1,2,3), keepdims=True)\n",
    "        norm = tf.sqrt(tf.maximum(10e-12, norm))\n",
    "        factor = tf.minimum(1.0, tf.divide(epsilon, norm))\n",
    "        adv_out = tf.clip_by_value(images + perturbation * factor, 0.0, 1.0)\n",
    "        \n",
    "        return images, adv_out\n",
    "        \n",
    "    _,adv_out = tf.while_loop(cond, perturb, (images, adv_out), back_prop=True, maximum_iterations=iterations)\n",
    "    \n",
    "    return adv_out"
   ]
  },
  {
   "cell_type": "code",
   "execution_count": 0,
   "metadata": {
    "colab": {},
    "colab_type": "code",
    "id": "rJrUlWDI2XJu"
   },
   "outputs": [],
   "source": [
    "if binary:\n",
    "  target = 1 - test_labels\n",
    "else:\n",
    "  target = (np.argmax(test_labels, axis=1) + np.random.randint(1, num_classes, size=(test_labels.shape[0]))) % num_classes\n",
    "  target = keras.utils.to_categorical(target, num_classes)\n",
    "images = tf.Variable(test_images)\n",
    "attack_labels = tf.Variable(target)\n",
    "adv_out = TF_BasicIterativeMethod(model, images, attack_labels, iterations=20, epsilon=6.0, iter_eps=0.07, targeted=True)"
   ]
  },
  {
   "cell_type": "code",
   "execution_count": 124,
   "metadata": {
    "colab": {
     "base_uri": "https://localhost:8080/",
     "height": 0
    },
    "colab_type": "code",
    "id": "BHYyx8Ek2dxN",
    "outputId": "430be7b7-9c5d-46b8-92c0-53775015d54e"
   },
   "outputs": [
    {
     "name": "stdout",
     "output_type": "stream",
     "text": [
      "Test loss: 0.71\n",
      "Successfully moved out of source class: 0.83\n",
      "Test loss: 0.68\n",
      "Successfully perturbed to target class: 0.83\n",
      "Mean perturbation distance: 0.19\n"
     ]
    },
    {
     "data": {
      "image/png": "[encoded data removed]",
      "text/plain": [
       "<Figure size 432x288 with 1 Axes>"
      ]
     },
     "metadata": {
      "needs_background": "light",
      "tags": []
     },
     "output_type": "display_data"
    }
   ],
   "source": [
    "adv_images = sess.run(adv_out, feed_dict={images:test_images, \n",
    "                                          attack_labels:target\n",
    "                                         })\n",
    "TestAttack(model, adv_images, test_images, test_labels, target, targeted=True)"
   ]
  },
  {
   "cell_type": "markdown",
   "metadata": {
    "colab_type": "text",
    "id": "gq_rcS5yqNhn"
   },
   "source": [
    "## plot logit plots"
   ]
  },
  {
   "cell_type": "code",
   "execution_count": 132,
   "metadata": {
    "colab": {
     "base_uri": "https://localhost:8080/",
     "height": 461
    },
    "colab_type": "code",
    "id": "WbTSG7dZgR8Y",
    "outputId": "f922e749-c418-4e0e-91b6-73fde1c5b947"
   },
   "outputs": [
    {
     "name": "stdout",
     "output_type": "stream",
     "text": [
      "Train on 12223 samples, validate on 2060 samples\n",
      "Epoch 1/12\n",
      "12223/12223 [==============================] - 8s 683us/sample - loss: 0.3130 - categorical_accuracy: 0.8946 - val_loss: 0.1004 - val_categorical_accuracy: 0.9641\n",
      "Epoch 2/12\n",
      "12223/12223 [==============================] - 7s 579us/sample - loss: 0.0885 - categorical_accuracy: 0.9695 - val_loss: 0.0826 - val_categorical_accuracy: 0.9733\n",
      "Epoch 3/12\n",
      "12223/12223 [==============================] - 7s 576us/sample - loss: 0.0700 - categorical_accuracy: 0.9769 - val_loss: 0.0733 - val_categorical_accuracy: 0.9757\n",
      "Epoch 4/12\n",
      "12223/12223 [==============================] - 7s 566us/sample - loss: 0.0613 - categorical_accuracy: 0.9780 - val_loss: 0.0671 - val_categorical_accuracy: 0.9777\n",
      "Epoch 5/12\n",
      "12223/12223 [==============================] - 7s 564us/sample - loss: 0.0550 - categorical_accuracy: 0.9806 - val_loss: 0.0649 - val_categorical_accuracy: 0.9772\n",
      "Epoch 6/12\n",
      "12223/12223 [==============================] - 7s 566us/sample - loss: 0.0524 - categorical_accuracy: 0.9835 - val_loss: 0.0639 - val_categorical_accuracy: 0.9786\n",
      "Epoch 7/12\n",
      "12223/12223 [==============================] - 7s 565us/sample - loss: 0.0488 - categorical_accuracy: 0.9837 - val_loss: 0.0619 - val_categorical_accuracy: 0.9791\n",
      "Epoch 8/12\n",
      "12223/12223 [==============================] - 7s 565us/sample - loss: 0.0487 - categorical_accuracy: 0.9843 - val_loss: 0.0565 - val_categorical_accuracy: 0.9816\n",
      "Epoch 9/12\n",
      "12223/12223 [==============================] - 9s 777us/sample - loss: 0.0450 - categorical_accuracy: 0.9846 - val_loss: 0.0555 - val_categorical_accuracy: 0.9811\n",
      "Epoch 10/12\n",
      "12223/12223 [==============================] - 7s 567us/sample - loss: 0.0438 - categorical_accuracy: 0.9857 - val_loss: 0.0532 - val_categorical_accuracy: 0.9830\n",
      "Epoch 11/12\n",
      "12223/12223 [==============================] - 7s 565us/sample - loss: 0.0411 - categorical_accuracy: 0.9868 - val_loss: 0.0510 - val_categorical_accuracy: 0.9830\n",
      "Epoch 12/12\n",
      "12223/12223 [==============================] - 7s 563us/sample - loss: 0.0395 - categorical_accuracy: 0.9872 - val_loss: 0.0513 - val_categorical_accuracy: 0.9835\n"
     ]
    }
   ],
   "source": [
    "# regular CNN classifier\n",
    "regular_model = train_model(train_images, train_labels, test_images, test_labels, softmax_temp=1)"
   ]
  },
  {
   "cell_type": "code",
   "execution_count": 145,
   "metadata": {
    "colab": {
     "base_uri": "https://localhost:8080/",
     "height": 941
    },
    "colab_type": "code",
    "id": "7vr4L_miqfXL",
    "outputId": "5d26b321-4a77-4c21-9cb6-7851758603d2"
   },
   "outputs": [
    {
     "name": "stdout",
     "output_type": "stream",
     "text": [
      "training Teacher model with Temp 20\n",
      "Train on 12223 samples, validate on 2060 samples\n",
      "Epoch 1/12\n",
      "12223/12223 [==============================] - 9s 697us/sample - loss: 0.6647 - categorical_accuracy: 0.8101 - val_loss: 0.5822 - val_categorical_accuracy: 0.9481\n",
      "Epoch 2/12\n",
      "12223/12223 [==============================] - 7s 574us/sample - loss: 0.2956 - categorical_accuracy: 0.9494 - val_loss: 0.1168 - val_categorical_accuracy: 0.9602\n",
      "Epoch 3/12\n",
      "12223/12223 [==============================] - 7s 582us/sample - loss: 0.1003 - categorical_accuracy: 0.9685 - val_loss: 0.0919 - val_categorical_accuracy: 0.9680\n",
      "Epoch 4/12\n",
      "12223/12223 [==============================] - 7s 575us/sample - loss: 0.0837 - categorical_accuracy: 0.9705 - val_loss: 0.0844 - val_categorical_accuracy: 0.9718\n",
      "Epoch 5/12\n",
      "12223/12223 [==============================] - 10s 781us/sample - loss: 0.0733 - categorical_accuracy: 0.9750 - val_loss: 0.0806 - val_categorical_accuracy: 0.9743\n",
      "Epoch 6/12\n",
      "12223/12223 [==============================] - 7s 568us/sample - loss: 0.0745 - categorical_accuracy: 0.9743 - val_loss: 0.0784 - val_categorical_accuracy: 0.9757\n",
      "Epoch 7/12\n",
      "12223/12223 [==============================] - 7s 569us/sample - loss: 0.0649 - categorical_accuracy: 0.9772 - val_loss: 0.0763 - val_categorical_accuracy: 0.9757\n",
      "Epoch 8/12\n",
      "12223/12223 [==============================] - 7s 565us/sample - loss: 0.0670 - categorical_accuracy: 0.9758 - val_loss: 0.0725 - val_categorical_accuracy: 0.9772\n",
      "Epoch 9/12\n",
      "12223/12223 [==============================] - 7s 570us/sample - loss: 0.0616 - categorical_accuracy: 0.9786 - val_loss: 0.0714 - val_categorical_accuracy: 0.9772\n",
      "Epoch 10/12\n",
      "12223/12223 [==============================] - 7s 568us/sample - loss: 0.0600 - categorical_accuracy: 0.9793 - val_loss: 0.0701 - val_categorical_accuracy: 0.9772\n",
      "Epoch 11/12\n",
      "12223/12223 [==============================] - 7s 567us/sample - loss: 0.0580 - categorical_accuracy: 0.9808 - val_loss: 0.0687 - val_categorical_accuracy: 0.9777\n",
      "Epoch 12/12\n",
      "12223/12223 [==============================] - 7s 568us/sample - loss: 0.0577 - categorical_accuracy: 0.9800 - val_loss: 0.0666 - val_categorical_accuracy: 0.9786\n",
      "training Student model with Temp 20\n",
      "Train on 12223 samples, validate on 2060 samples\n",
      "Epoch 1/12\n",
      "12223/12223 [==============================] - 8s 682us/sample - loss: 0.6893 - categorical_accuracy: 0.6922 - val_loss: 0.6811 - val_categorical_accuracy: 0.9417\n",
      "Epoch 2/12\n",
      "12223/12223 [==============================] - 7s 572us/sample - loss: 0.6027 - categorical_accuracy: 0.9210 - val_loss: 0.3124 - val_categorical_accuracy: 0.9699\n",
      "Epoch 3/12\n",
      "12223/12223 [==============================] - 7s 564us/sample - loss: 0.1542 - categorical_accuracy: 0.9663 - val_loss: 0.0751 - val_categorical_accuracy: 0.9816\n",
      "Epoch 4/12\n",
      "12223/12223 [==============================] - 7s 570us/sample - loss: 0.0844 - categorical_accuracy: 0.9782 - val_loss: 0.0608 - val_categorical_accuracy: 0.9888\n",
      "Epoch 5/12\n",
      "12223/12223 [==============================] - 7s 572us/sample - loss: 0.0747 - categorical_accuracy: 0.9822 - val_loss: 0.0569 - val_categorical_accuracy: 0.9898\n",
      "Epoch 6/12\n",
      "12223/12223 [==============================] - 7s 568us/sample - loss: 0.0682 - categorical_accuracy: 0.9860 - val_loss: 0.0545 - val_categorical_accuracy: 0.9937\n",
      "Epoch 7/12\n",
      "12223/12223 [==============================] - 7s 569us/sample - loss: 0.0657 - categorical_accuracy: 0.9878 - val_loss: 0.0531 - val_categorical_accuracy: 0.9961\n",
      "Epoch 8/12\n",
      "12223/12223 [==============================] - 7s 588us/sample - loss: 0.0651 - categorical_accuracy: 0.9867 - val_loss: 0.0527 - val_categorical_accuracy: 0.9951\n",
      "Epoch 9/12\n",
      "12223/12223 [==============================] - 7s 570us/sample - loss: 0.0639 - categorical_accuracy: 0.9868 - val_loss: 0.0521 - val_categorical_accuracy: 0.9951\n",
      "Epoch 10/12\n",
      "12223/12223 [==============================] - 7s 571us/sample - loss: 0.0636 - categorical_accuracy: 0.9884 - val_loss: 0.0516 - val_categorical_accuracy: 0.9956\n",
      "Epoch 11/12\n",
      "12223/12223 [==============================] - 7s 570us/sample - loss: 0.0628 - categorical_accuracy: 0.9883 - val_loss: 0.0515 - val_categorical_accuracy: 0.9976\n",
      "Epoch 12/12\n",
      "12223/12223 [==============================] - 7s 568us/sample - loss: 0.0612 - categorical_accuracy: 0.9891 - val_loss: 0.0511 - val_categorical_accuracy: 0.9966\n"
     ]
    }
   ],
   "source": [
    "# train classifier with defensive distilation\n",
    "student = train_distillation(train_images, train_labels, test_images, test_labels, temp=20, add_softmax=False)"
   ]
  },
  {
   "cell_type": "code",
   "execution_count": 146,
   "metadata": {
    "colab": {
     "base_uri": "https://localhost:8080/",
     "height": 573
    },
    "colab_type": "code",
    "id": "GWaumuLHrDzE",
    "outputId": "ea20d28a-d874-4789-c8e8-a97c115c60f9"
   },
   "outputs": [
    {
     "data": {
      "image/png": "[encoded data removed]",
      "text/plain": [
       "<Figure size 432x288 with 1 Axes>"
      ]
     },
     "metadata": {
      "needs_background": "light",
      "tags": []
     },
     "output_type": "display_data"
    },
    {
     "data": {
      "image/png": "[encoded data removed]",
      "text/plain": [
       "<Figure size 432x288 with 1 Axes>"
      ]
     },
     "metadata": {
      "needs_background": "light",
      "tags": []
     },
     "output_type": "display_data"
    }
   ],
   "source": [
    "model = student\n",
    "model_name = \"Defensive distillation student\"\n",
    "softmax_temp = 1\n",
    "\n",
    "# get data for one class only\n",
    "one_class_test_images = test_images[test_labels[:,0]==1]\n",
    "\n",
    "# calculate logits\n",
    "logits = model.predict(one_class_test_images)\n",
    "\n",
    "plt.scatter(logits[:, 0], logits[:, 1])\n",
    "plt.plot([logits.min(), logits.max()], [logits.min(), logits.max()], color='r')\n",
    "plt.title(f\"{model_name} binary classifier logits\")\n",
    "plt.xlabel(\"logit 0\")\n",
    "plt.ylabel(\"logit 1\")\n",
    "plt.show()\n",
    "\n",
    "# calculate probs\n",
    "with tf.Session() as sess:\n",
    "    probs = sess.run(tf.nn.softmax(logits/softmax_temp))\n",
    "plt.scatter(probs[:, 0], probs[:, 1])\n",
    "plt.plot([probs.min(), probs.max()], [probs.min(), probs.max()], color='r')\n",
    "plt.title(f\"{model_name} binary classifier probs\")\n",
    "plt.xlabel(\"probability 0\")\n",
    "plt.ylabel(\"probability 1\")\n",
    "plt.show()"
   ]
  }
 ],
 "metadata": {
  "colab": {
   "name": "AML-ex1.ipynb",
   "provenance": []
  },
  "kernelspec": {
   "display_name": "Python 3",
   "language": "python",
   "name": "python3"
  },
  "language_info": {
   "codemirror_mode": {
    "name": "ipython",
    "version": 3
   },
   "file_extension": ".py",
   "mimetype": "text/x-python",
   "name": "python",
   "nbconvert_exporter": "python",
   "pygments_lexer": "ipython3",
   "version": "3.7.3"
  }
 },
 "nbformat": 4,
 "nbformat_minor": 1
}
