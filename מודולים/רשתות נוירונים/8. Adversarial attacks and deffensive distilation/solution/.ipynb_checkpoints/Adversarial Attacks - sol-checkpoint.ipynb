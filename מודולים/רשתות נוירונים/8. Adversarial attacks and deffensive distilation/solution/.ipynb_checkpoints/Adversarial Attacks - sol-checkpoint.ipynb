{
 "cells": [
  {
   "cell_type": "code",
   "execution_count": 0,
   "metadata": {
    "colab": {
     "base_uri": "https://localhost:8080/",
     "height": 35
    },
    "colab_type": "code",
    "executionInfo": {
     "elapsed": 5231,
     "status": "ok",
     "timestamp": 1585743165854,
     "user": {
      "displayName": "Ziv Katzir",
      "photoUrl": "",
      "userId": "01083633061444784039"
     },
     "user_tz": -180
    },
    "id": "yQEZETPDG0rq",
    "outputId": "b0e7d27e-a0cb-413b-f2bb-cf68db2b1a36"
   },
   "outputs": [
    {
     "name": "stdout",
     "output_type": "stream",
     "text": [
      "TensorFlow 1.x selected.\n"
     ]
    }
   ],
   "source": [
    "import os\n",
    "os.environ[\"CUDA_DEVICE_ORDER\"] = \"PCI_BUS_ID\" \n",
    "os.environ[\"CUDA_VISIBLE_DEVICES\"] = \"-1\"\n",
    "\n",
    "import numpy as np\n",
    "import matplotlib.pyplot as plt\n",
    "%tensorflow_version 1.x\n",
    "import tensorflow as tf\n",
    "from tensorflow import keras\n",
    "from tensorflow.keras import layers\n",
    "import math\n",
    "\n",
    "# Enable inline plotting\n",
    "%matplotlib inline\n",
    "\n",
    "import warnings\n",
    "warnings.filterwarnings(\"ignore\", category=DeprecationWarning)\n",
    "warnings.filterwarnings(\"ignore\", category=FutureWarning)"
   ]
  },
  {
   "cell_type": "markdown",
   "metadata": {
    "colab_type": "text",
    "id": "4g14QXanG0rx"
   },
   "source": [
    "--- Create and Train a Simple MNIST CNN Classifier ---"
   ]
  },
  {
   "cell_type": "code",
   "execution_count": 0,
   "metadata": {
    "colab": {},
    "colab_type": "code",
    "id": "UwU6OYREG0rz"
   },
   "outputs": [],
   "source": [
    "''' Build a simple MNIST classification CNN\n",
    "    The network takes ~3 minutes to train on a normal laptop and reaches roughly 97% of accuracy\n",
    "    Model structure: Conv, Conv, Max pooling, Dropout, Dense, Dense\n",
    "'''\n",
    "def build_mnist_model():\n",
    "    \n",
    "    activation = 'relu'\n",
    "    # input image dimensions\n",
    "    img_rows, img_cols, img_colors = 28, 28, 1\n",
    "    \n",
    "    model = keras.Sequential()\n",
    "    model.add(layers.Conv2D(8, kernel_size=(3, 3), input_shape=(img_rows, img_cols, img_colors), activation=activation))\n",
    "    model.add(layers.Conv2D(8, (3, 3), activation=activation))\n",
    "    model.add(layers.MaxPooling2D(pool_size=(2, 2)))\n",
    "    model.add(layers.Dropout(0.25))\n",
    "    model.add(layers.Flatten())\n",
    "    model.add(layers.Dense(128, activation=activation))\n",
    "    model.add(layers.Dropout(0.5))\n",
    "    model.add(layers.Dense(num_classes))\n",
    "    model.add(layers.Activation('softmax', name='y_pred'))\n",
    "              \n",
    "    return model"
   ]
  },
  {
   "cell_type": "code",
   "execution_count": 0,
   "metadata": {
    "colab": {},
    "colab_type": "code",
    "id": "jzdMl1BRG0r3"
   },
   "outputs": [],
   "source": [
    "''' Normalize input to the range of [0..1]\n",
    "    Apart from assisting in the convergance of the training process, this \n",
    "    will also make our lives easier during the adversarial attack process\n",
    "'''\n",
    "def normalize(x_train,x_test):\n",
    "    x_train -= x_train.min()\n",
    "    x_train /= x_train.max()\n",
    "    x_test -= x_test.min()\n",
    "    x_test /= x_test.max()\n",
    "    \n",
    "    return x_train, x_test"
   ]
  },
  {
   "cell_type": "code",
   "execution_count": 0,
   "metadata": {
    "colab": {
     "base_uri": "https://localhost:8080/",
     "height": 52
    },
    "colab_type": "code",
    "executionInfo": {
     "elapsed": 2057,
     "status": "ok",
     "timestamp": 1585743166657,
     "user": {
      "displayName": "Ziv Katzir",
      "photoUrl": "",
      "userId": "01083633061444784039"
     },
     "user_tz": -180
    },
    "id": "c4HrIXRyG0r7",
    "outputId": "907601c9-e56e-43fc-b852-b7c6827e27c2"
   },
   "outputs": [
    {
     "name": "stdout",
     "output_type": "stream",
     "text": [
      "Downloading data from https://storage.googleapis.com/tensorflow/tf-keras-datasets/mnist.npz\n",
      "11493376/11490434 [==============================] - 0s 0us/step\n"
     ]
    }
   ],
   "source": [
    "# Load and prepare the datasets for training\n",
    "num_classes = 10\n",
    "\n",
    "img_rows, img_cols, img_colors = 28, 28, 1\n",
    "(train_images, train_labels), (test_images, test_labels) = keras.datasets.mnist.load_data()\n",
    "train_images = train_images.astype('float32')\n",
    "test_images = test_images.astype('float32')\n",
    "train_images = train_images.reshape(train_images.shape[0], img_rows, img_cols, 1)\n",
    "test_images = test_images.reshape(test_images.shape[0], img_rows, img_cols, 1)\n",
    "train_images, test_images = normalize(train_images, test_images)\n",
    "    \n",
    "train_labels = keras.utils.to_categorical(train_labels, num_classes)\n",
    "test_labels = keras.utils.to_categorical(test_labels, num_classes)"
   ]
  },
  {
   "cell_type": "code",
   "execution_count": 0,
   "metadata": {
    "colab": {
     "base_uri": "https://localhost:8080/",
     "height": 523
    },
    "colab_type": "code",
    "executionInfo": {
     "elapsed": 421285,
     "status": "ok",
     "timestamp": 1585743586589,
     "user": {
      "displayName": "Ziv Katzir",
      "photoUrl": "",
      "userId": "01083633061444784039"
     },
     "user_tz": -180
    },
    "id": "mdGg0FJsG0r_",
    "outputId": "7f52490a-9d3b-45b1-8fb4-870fa1211e6e"
   },
   "outputs": [
    {
     "name": "stdout",
     "output_type": "stream",
     "text": [
      "WARNING:tensorflow:From /tensorflow-1.15.2/python3.6/tensorflow_core/python/ops/resource_variable_ops.py:1630: calling BaseResourceVariable.__init__ (from tensorflow.python.ops.resource_variable_ops) with constraint is deprecated and will be removed in a future version.\n",
      "Instructions for updating:\n",
      "If using Keras pass *_constraint arguments to layers.\n",
      "Train on 60000 samples, validate on 10000 samples\n",
      "Epoch 1/12\n",
      "60000/60000 [==============================] - 35s 586us/sample - loss: 1.0242 - categorical_accuracy: 0.6722 - val_loss: 0.3070 - val_categorical_accuracy: 0.9161\n",
      "Epoch 2/12\n",
      "60000/60000 [==============================] - 35s 581us/sample - loss: 0.4500 - categorical_accuracy: 0.8625 - val_loss: 0.2293 - val_categorical_accuracy: 0.9374\n",
      "Epoch 3/12\n",
      "60000/60000 [==============================] - 35s 581us/sample - loss: 0.3689 - categorical_accuracy: 0.8892 - val_loss: 0.1903 - val_categorical_accuracy: 0.9472\n",
      "Epoch 4/12\n",
      "60000/60000 [==============================] - 35s 580us/sample - loss: 0.3245 - categorical_accuracy: 0.9020 - val_loss: 0.1638 - val_categorical_accuracy: 0.9544\n",
      "Epoch 5/12\n",
      "60000/60000 [==============================] - 35s 581us/sample - loss: 0.2865 - categorical_accuracy: 0.9146 - val_loss: 0.1450 - val_categorical_accuracy: 0.9569\n",
      "Epoch 6/12\n",
      "60000/60000 [==============================] - 35s 580us/sample - loss: 0.2566 - categorical_accuracy: 0.9223 - val_loss: 0.1295 - val_categorical_accuracy: 0.9617\n",
      "Epoch 7/12\n",
      "60000/60000 [==============================] - 35s 577us/sample - loss: 0.2335 - categorical_accuracy: 0.9294 - val_loss: 0.1158 - val_categorical_accuracy: 0.9649\n",
      "Epoch 8/12\n",
      "60000/60000 [==============================] - 35s 579us/sample - loss: 0.2125 - categorical_accuracy: 0.9360 - val_loss: 0.1059 - val_categorical_accuracy: 0.9685\n",
      "Epoch 9/12\n",
      "60000/60000 [==============================] - 35s 579us/sample - loss: 0.1991 - categorical_accuracy: 0.9402 - val_loss: 0.0987 - val_categorical_accuracy: 0.9696\n",
      "Epoch 10/12\n",
      "60000/60000 [==============================] - 35s 586us/sample - loss: 0.1868 - categorical_accuracy: 0.9443 - val_loss: 0.0922 - val_categorical_accuracy: 0.9708\n",
      "Epoch 11/12\n",
      "60000/60000 [==============================] - 35s 587us/sample - loss: 0.1749 - categorical_accuracy: 0.9476 - val_loss: 0.0855 - val_categorical_accuracy: 0.9728\n",
      "Epoch 12/12\n",
      "60000/60000 [==============================] - 35s 584us/sample - loss: 0.1678 - categorical_accuracy: 0.9503 - val_loss: 0.0820 - val_categorical_accuracy: 0.9741\n"
     ]
    }
   ],
   "source": [
    "# Train the model\n",
    "batch_size = 128\n",
    "maxepoches = 12\n",
    "learning_rate = 0.1\n",
    "lr_decay = 1e-6\n",
    "lr_drop = 20\n",
    "\n",
    "sess = tf.Session()\n",
    "keras.backend.set_session(sess)\n",
    "\n",
    "def lr_scheduler(epoch):\n",
    "    return learning_rate * (0.5 ** (epoch // lr_drop))\n",
    "reduce_lr = keras.callbacks.LearningRateScheduler(lr_scheduler)\n",
    "\n",
    "model = build_mnist_model()\n",
    "\n",
    "model.compile(loss='categorical_crossentropy',\n",
    "              optimizer=keras.optimizers.Adadelta(),\n",
    "              metrics=[keras.metrics.CategoricalAccuracy()])\n",
    "\n",
    "history = model.fit(train_images, train_labels,\n",
    "                    batch_size=batch_size,\n",
    "                    epochs=maxepoches,\n",
    "                    verbose=1,\n",
    "                    validation_data=(test_images, test_labels),\n",
    "                    callbacks=[reduce_lr])\n"
   ]
  },
  {
   "cell_type": "markdown",
   "metadata": {
    "colab_type": "text",
    "id": "u71zcvGqG0sC"
   },
   "source": [
    "--- Fast Gradient Sign Method (FGSM) ---"
   ]
  },
  {
   "cell_type": "code",
   "execution_count": 0,
   "metadata": {
    "colab": {},
    "colab_type": "code",
    "id": "DJhAkLskG0sE"
   },
   "outputs": [],
   "source": [
    "''' A simple utility funcion for evaluating the success of an attack\n",
    "'''\n",
    "def TestAttack(model, adv_images, orig_images, true_labels, target_labels=None, targeted=False):\n",
    "    score = model.evaluate(adv_images, true_labels, verbose=0)\n",
    "    print('Test loss: {:.2f}'.format(score[0]))\n",
    "    print('Successfully moved out of source class: {:.2f}'.format( 1 - score[1]))\n",
    "    \n",
    "    if targeted:\n",
    "        score = model.evaluate(adv_images, target, verbose=0)\n",
    "        print('Test loss: {:.2f}'.format(score[0]))\n",
    "        print('Successfully perturbed to target class: {:.2f}'.format(score[1]))\n",
    "    \n",
    "    dist = np.mean(np.sqrt(np.mean(np.square(adv_images - orig_images), axis=(1,2,3))))\n",
    "    print('Mean perturbation distance: {:.2f}'.format(dist))\n",
    "    \n",
    "    index = 10\n",
    "    img = adv_images[index].reshape(28, 28)\n",
    "    plt.imshow(img, cmap='gray')\n",
    "    plt.show()"
   ]
  },
  {
   "cell_type": "code",
   "execution_count": 0,
   "metadata": {
    "colab": {},
    "colab_type": "code",
    "id": "UY-DDb8EG0sI"
   },
   "outputs": [],
   "source": [
    "''' Fast Gradient Sign Method implementation - perturb all input features by an epsilon sized step in \n",
    "    the direction of loss gradient\n",
    "'''\n",
    "def FastGradientSignMethod(model, images, labels, epsilon=0.3):\n",
    "    true_label_tensor = keras.backend.placeholder(shape=(None, num_classes))\n",
    "    adv_loss = keras.losses.categorical_crossentropy(true_label_tensor, model.output)\n",
    "    get_grads = keras.backend.function([model.input, true_label_tensor], keras.backend.gradients(adv_loss, model.input))\n",
    "    \n",
    "    adv_grads = get_grads([images, labels])[0]\n",
    "    \n",
    "    adv_out = images + epsilon * np.sign(adv_grads)\n",
    "    return adv_out"
   ]
  },
  {
   "cell_type": "code",
   "execution_count": 0,
   "metadata": {
    "colab": {
     "base_uri": "https://localhost:8080/",
     "height": 317
    },
    "colab_type": "code",
    "executionInfo": {
     "elapsed": 427471,
     "status": "ok",
     "timestamp": 1585743595931,
     "user": {
      "displayName": "Ziv Katzir",
      "photoUrl": "",
      "userId": "01083633061444784039"
     },
     "user_tz": -180
    },
    "id": "rHfFFdSqG0sL",
    "outputId": "eebedd49-7b21-41c7-8004-fd5752336a0e"
   },
   "outputs": [
    {
     "name": "stdout",
     "output_type": "stream",
     "text": [
      "Test loss: 4.21\n",
      "Successfully moved out of source class: 0.93\n",
      "Mean perturbation distance: 0.24\n"
     ]
    },
    {
     "data": {
      "image/png": "[encoded data removed]",
      "text/plain": [
       "<Figure size 432x288 with 1 Axes>"
      ]
     },
     "metadata": {
      "tags": []
     },
     "output_type": "display_data"
    }
   ],
   "source": [
    "adv_images = FastGradientSignMethod(model, test_images, test_labels, epsilon=0.3)\n",
    "TestAttack(model, adv_images, test_images, test_labels, targeted=False)"
   ]
  },
  {
   "cell_type": "markdown",
   "metadata": {
    "colab_type": "text",
    "id": "Jkg_fY7CG0sO"
   },
   "source": [
    "--- Targeted Gradient Sign Method (TGSM) ---"
   ]
  },
  {
   "cell_type": "code",
   "execution_count": 0,
   "metadata": {
    "colab": {},
    "colab_type": "code",
    "id": "6YNckVZKG0sR"
   },
   "outputs": [],
   "source": [
    "''' Targeted Gradient Sign Method implementation - A targeted variant of the FGSM attack\n",
    "    here we minimize the loss with respect to the target class, as opposed to maximizing the loss with respect\n",
    "    to the source class\n",
    "'''\n",
    "def TargetedGradientSignMethod(model, images, target, epsilon=0.3):\n",
    "    true_label_tensor = keras.backend.placeholder(shape=(None, num_classes))\n",
    "    adv_loss = keras.losses.categorical_crossentropy(true_label_tensor, model.output)\n",
    "    get_grads = keras.backend.function([model.input, true_label_tensor], keras.backend.gradients(adv_loss, model.input))\n",
    "    \n",
    "    adv_grads = get_grads([images, target])[0]\n",
    "    \n",
    "    adv_out = images - epsilon * np.sign(adv_grads)\n",
    "    return adv_out"
   ]
  },
  {
   "cell_type": "code",
   "execution_count": 0,
   "metadata": {
    "colab": {
     "base_uri": "https://localhost:8080/",
     "height": 352
    },
    "colab_type": "code",
    "executionInfo": {
     "elapsed": 431003,
     "status": "ok",
     "timestamp": 1585743603664,
     "user": {
      "displayName": "Ziv Katzir",
      "photoUrl": "",
      "userId": "01083633061444784039"
     },
     "user_tz": -180
    },
    "id": "yZLThCUWG0sU",
    "outputId": "7ae1c77a-ff0e-40b1-d3bb-be90df18a631"
   },
   "outputs": [
    {
     "name": "stdout",
     "output_type": "stream",
     "text": [
      "Test loss: 0.30\n",
      "Successfully moved out of source class: 0.10\n",
      "Test loss: 6.09\n",
      "Successfully perturbed to target class: 0.05\n",
      "Mean perturbation distance: 0.08\n"
     ]
    },
    {
     "data": {
      "image/png": "[encoded data removed]",
      "text/plain": [
       "<Figure size 432x288 with 1 Axes>"
      ]
     },
     "metadata": {
      "tags": []
     },
     "output_type": "display_data"
    }
   ],
   "source": [
    "target = (np.argmax(test_labels, axis=1) + np.random.randint(1, num_classes, size=(test_labels.shape[0]))) % num_classes\n",
    "target = keras.utils.to_categorical(target, num_classes)\n",
    "adv_images = TargetedGradientSignMethod(model, test_images, target, epsilon=0.1)\n",
    "TestAttack(model, adv_images, test_images, test_labels, target, targeted=True)"
   ]
  },
  {
   "cell_type": "markdown",
   "metadata": {
    "colab_type": "text",
    "id": "awH61CD3G0sY"
   },
   "source": [
    "--- Basic Iterative Method (BIM) ---"
   ]
  },
  {
   "cell_type": "code",
   "execution_count": 0,
   "metadata": {
    "colab": {},
    "colab_type": "code",
    "id": "abLag2V2G0sZ"
   },
   "outputs": [],
   "source": [
    "def BasicIterativeMethod(model, images, labels, epsilon=0.1, iter_eps = 0.05, iterations=10, min_x=0.0, max_x=1.0, targeted=False):\n",
    "    \n",
    "    adv_out = images\n",
    "    \n",
    "    for iteration in range(iterations):\n",
    "        print('Iteration:', iteration)\n",
    "        # Perturb the input\n",
    "        if targeted:\n",
    "            adv_out = TargetedGradientSignMethod(model, adv_out, labels, epsilon=iter_eps)\n",
    "        else:\n",
    "            adv_out = FastGradientSignMethod(model, adv_out, labels, epsilon=iter_eps)\n",
    "            \n",
    "        # Project the perturbation to the epsilon ball\n",
    "        perturbation = adv_out - images\n",
    "        norm = np.sum(np.square(perturbation), axis=(1,2,3), keepdims=True)\n",
    "        norm = np.sqrt(np.maximum(10e-12, norm))\n",
    "        factor = np.minimum(1, np.divide(epsilon, norm))\n",
    "        adv_out = np.clip(images + perturbation * factor, 0.0, 1.0)\n",
    "    \n",
    "    return adv_out"
   ]
  },
  {
   "cell_type": "code",
   "execution_count": 0,
   "metadata": {
    "colab": {
     "base_uri": "https://localhost:8080/",
     "height": 872
    },
    "colab_type": "code",
    "executionInfo": {
     "elapsed": 578297,
     "status": "ok",
     "timestamp": 1582110638959,
     "user": {
      "displayName": "Ziv Katzir",
      "photoUrl": "",
      "userId": "01083633061444784039"
     },
     "user_tz": -120
    },
    "id": "g02Rq0o3G0sc",
    "outputId": "3da1e9b2-bd64-4153-eb13-15fb8c7b0c43"
   },
   "outputs": [
    {
     "name": "stdout",
     "output_type": "stream",
     "text": [
      "Iteration: 0\n",
      "Iteration: 1\n",
      "Iteration: 2\n",
      "Iteration: 3\n",
      "Iteration: 4\n",
      "Iteration: 5\n",
      "Iteration: 6\n",
      "Iteration: 7\n",
      "Iteration: 8\n",
      "Iteration: 9\n",
      "Iteration: 10\n",
      "Iteration: 11\n",
      "Iteration: 12\n",
      "Iteration: 13\n",
      "Iteration: 14\n",
      "Iteration: 15\n",
      "Iteration: 16\n",
      "Iteration: 17\n",
      "Iteration: 18\n",
      "Iteration: 19\n",
      "Iteration: 20\n",
      "Iteration: 21\n",
      "Iteration: 22\n",
      "Iteration: 23\n",
      "Iteration: 24\n",
      "Iteration: 25\n",
      "Iteration: 26\n",
      "Iteration: 27\n",
      "Iteration: 28\n",
      "Iteration: 29\n",
      "Test loss: 3.06\n",
      "Successfully moved out of source class: 0.76\n",
      "Test loss: 0.85\n",
      "Successfully perturbed to target class: 0.73\n",
      "Mean perturbation distance: 0.14\n"
     ]
    },
    {
     "data": {
      "image/png": "[encoded data removed]",
      "text/plain": [
       "<Figure size 432x288 with 1 Axes>"
      ]
     },
     "metadata": {
      "tags": []
     },
     "output_type": "display_data"
    }
   ],
   "source": [
    "target = (np.argmax(test_labels, axis=1) + np.random.randint(1, num_classes, size=(test_labels.shape[0]))) % num_classes\n",
    "target = keras.utils.to_categorical(target, num_classes)\n",
    "adv_images = BasicIterativeMethod(model, test_images, target, iterations = 30, epsilon=4.0, iter_eps=0.05, targeted=True)\n",
    "TestAttack(model, adv_images, test_images, test_labels, target, targeted=True)"
   ]
  },
  {
   "cell_type": "code",
   "execution_count": 0,
   "metadata": {
    "colab": {},
    "colab_type": "code",
    "id": "sPd5slNhG0sg"
   },
   "outputs": [],
   "source": []
  }
 ],
 "metadata": {
  "colab": {
   "collapsed_sections": [],
   "name": "Copy of BIM Re-implementation.ipynb",
   "provenance": [
    {
     "file_id": "1Dvp6LXt6xBbNgdHXLi8mqpz9CUqk08pP",
     "timestamp": 1585767315612
    }
   ]
  },
  "kernelspec": {
   "display_name": "Python 3",
   "language": "python",
   "name": "python3"
  },
  "language_info": {
   "codemirror_mode": {
    "name": "ipython",
    "version": 3
   },
   "file_extension": ".py",
   "mimetype": "text/x-python",
   "name": "python",
   "nbconvert_exporter": "python",
   "pygments_lexer": "ipython3",
   "version": "3.8.8"
  }
 },
 "nbformat": 4,
 "nbformat_minor": 1
}
