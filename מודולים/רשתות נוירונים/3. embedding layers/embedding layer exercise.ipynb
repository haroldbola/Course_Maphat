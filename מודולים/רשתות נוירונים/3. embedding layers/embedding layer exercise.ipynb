{
 "cells": [
  {
   "cell_type": "markdown",
   "metadata": {},
   "source": [
    "# Remember to save this as a new notebook before you begin solving!! \n",
    "# Also remember to open the notebook through a virtual env that works well with keras"
   ]
  },
  {
   "cell_type": "markdown",
   "metadata": {},
   "source": [
    "### This exercise is meant to teach you how to use embedding layers, and how to create a recommendation system. The data we'll use is the data from the Netflix Prize. This exercise should come after you have some experience with NN (not necessarily extensive experience)\n",
    "\n",
    "### Author: Philip Tannor"
   ]
  },
  {
   "cell_type": "markdown",
   "metadata": {},
   "source": [
    "#### Data description: The first line of each 'batch of movies' contains the movie_id followed by a colon. Each subsequent line in the file corresponds to a rating from a customer and its date in the following format:\n",
    "CustomerID,Rating,Date\n",
    "MovieIDs range from 1 to 17770 sequentially. \n",
    "CustomerIDs range from 1 to 2649429, with gaps. \n",
    "There are 480189 users. \n",
    "Ratings are on a five star (integral) scale from 1 to 5. \n",
    "Dates have the format YYYY-MM-DD.\n",
    "\n",
    "#### Note that originally the data was stored with one movie per file. This is a new, easier, format created by a kaggler (DLao @ Hong Kong) with a later touch of Ittai Haran.\n",
    "Since I don't think that arranging the data teaches very much, I left the basic lines of preprocessing that I did. Feel free to delete it and start over - just make sure to split the data on your own to train and test (randomly). \n",
    "If you're more hard-working than I am - used the dates in the original data to split in a more realistic manner (regarding time). Notice there is an apparent leakage - since we create the dictionaries base on all of the data. This is intentional, and also realistic (we can't use these ML techniques for new users or movies)."
   ]
  },
  {
   "cell_type": "code",
   "execution_count": 1,
   "metadata": {},
   "outputs": [],
   "source": [
    "import keras\n",
    "import pandas as pd\n",
    "import numpy as np\n",
    "from collections import Counter\n",
    "\n",
    "import os\n",
    "from sklearn.model_selection import train_test_split"
   ]
  },
  {
   "cell_type": "code",
   "execution_count": 2,
   "metadata": {},
   "outputs": [
    {
     "name": "stdout",
     "output_type": "stream",
     "text": [
      "Index(['user_id', 'grade', 'date', 'num'], dtype='object')\n",
      "(100000, 4)\n"
     ]
    }
   ],
   "source": [
    "import random\n",
    "\n",
    "n = 100480507\n",
    "s = 100000\n",
    "skip = sorted(random.sample(range(1,n+1),n-s))\n",
    "\n",
    "df = pd.read_csv(\"resources/combined_data.csv\", skiprows=skip)\n",
    "\n",
    "print(df.columns)\n",
    "print(df.shape)"
   ]
  },
  {
   "cell_type": "code",
   "execution_count": 24,
   "metadata": {},
   "outputs": [
    {
     "name": "stdout",
     "output_type": "stream",
     "text": [
      "Index(['user_id', 'grade', 'date', 'num'], dtype='object')\n",
      "(500000, 4)\n"
     ]
    }
   ],
   "source": [
    "df = pd.read_csv(\"resources/combined_data.csv\", nrows=500000)\n",
    "print(df.columns)\n",
    "print(df.shape)"
   ]
  },
  {
   "cell_type": "code",
   "execution_count": 25,
   "metadata": {},
   "outputs": [
    {
     "data": {
      "text/html": [
       "<div>\n",
       "<style scoped>\n",
       "    .dataframe tbody tr th:only-of-type {\n",
       "        vertical-align: middle;\n",
       "    }\n",
       "\n",
       "    .dataframe tbody tr th {\n",
       "        vertical-align: top;\n",
       "    }\n",
       "\n",
       "    .dataframe thead th {\n",
       "        text-align: right;\n",
       "    }\n",
       "</style>\n",
       "<table border=\"1\" class=\"dataframe\">\n",
       "  <thead>\n",
       "    <tr style=\"text-align: right;\">\n",
       "      <th></th>\n",
       "      <th>user_id</th>\n",
       "      <th>movie_id</th>\n",
       "      <th>rating</th>\n",
       "    </tr>\n",
       "  </thead>\n",
       "  <tbody>\n",
       "    <tr>\n",
       "      <th>499995</th>\n",
       "      <td>178520</td>\n",
       "      <td>148</td>\n",
       "      <td>3</td>\n",
       "    </tr>\n",
       "    <tr>\n",
       "      <th>499996</th>\n",
       "      <td>1257939</td>\n",
       "      <td>148</td>\n",
       "      <td>5</td>\n",
       "    </tr>\n",
       "    <tr>\n",
       "      <th>499997</th>\n",
       "      <td>1700782</td>\n",
       "      <td>148</td>\n",
       "      <td>2</td>\n",
       "    </tr>\n",
       "    <tr>\n",
       "      <th>499998</th>\n",
       "      <td>380354</td>\n",
       "      <td>148</td>\n",
       "      <td>1</td>\n",
       "    </tr>\n",
       "    <tr>\n",
       "      <th>499999</th>\n",
       "      <td>753663</td>\n",
       "      <td>148</td>\n",
       "      <td>4</td>\n",
       "    </tr>\n",
       "  </tbody>\n",
       "</table>\n",
       "</div>"
      ],
      "text/plain": [
       "        user_id  movie_id  rating\n",
       "499995   178520       148       3\n",
       "499996  1257939       148       5\n",
       "499997  1700782       148       2\n",
       "499998   380354       148       1\n",
       "499999   753663       148       4"
      ]
     },
     "execution_count": 25,
     "metadata": {},
     "output_type": "execute_result"
    }
   ],
   "source": [
    "#we drop the date since this isn't used for the embedding model\n",
    "df = df.rename(columns = {'num': 'movie_id', 'grade': 'rating'}).drop('date', axis = 1)[['user_id', 'movie_id', 'rating']]\n",
    "df.tail()"
   ]
  },
  {
   "cell_type": "code",
   "execution_count": 26,
   "metadata": {},
   "outputs": [
    {
     "name": "stdout",
     "output_type": "stream",
     "text": [
      "Dataset shape: (500000, 3)\n"
     ]
    }
   ],
   "source": [
    "print('Dataset shape: {}'.format(df.shape))"
   ]
  },
  {
   "cell_type": "code",
   "execution_count": 27,
   "metadata": {},
   "outputs": [],
   "source": [
    "X_train, X_test, y_train, y_test = train_test_split(df.drop('rating', axis = 1), df.rating, test_size = 0.3, random_state = 77)"
   ]
  },
  {
   "cell_type": "code",
   "execution_count": 28,
   "metadata": {},
   "outputs": [],
   "source": [
    "#this cell creates dictionaries which help with changing the unique ID's into series of int's. \n",
    "#This is neccessary for embedding layers in keras (so use the transformed columns later on), \n",
    "#especially if you only use part of the data.\n",
    "\n",
    "list_unique = list(set(df.user_id))\n",
    "transforming_user = {v:k for k,v in zip(range(len(list_unique)), list_unique)}\n",
    "list_unique = list(set(df.movie_id))\n",
    "transforming_movie = {v:k for k,v in zip(range(len(list_unique)), list_unique)}\n",
    "\n",
    "X_train['user_id_transformed'] = X_train['user_id'].apply(lambda x: transforming_user[x])\n",
    "X_train['movie_id_transformed'] = X_train['movie_id'].apply(lambda x: transforming_movie[x])\n",
    "\n",
    "X_test['user_id_transformed'] = X_test['user_id'].apply(lambda x: transforming_user[x])\n",
    "X_test['movie_id_transformed'] = X_test['movie_id'].apply(lambda x: transforming_movie[x])"
   ]
  },
  {
   "cell_type": "markdown",
   "metadata": {},
   "source": [
    "# OK, now go through the instructions - and then you'll be on your own for a while. \n",
    "\n",
    "1. Read about embedding layers here: https://towardsdatascience.com/deep-learning-4-embedding-layers-f9a02d55ac12. The explanation isn't detailed enough, but you should try to think of the layer as a change of representation - from a very sparse one-hot vector (which is equivalent), to a dense vector of much lower dimension. In the new representation, each element really means something - and sometimes these elements may be translated into a scale which correlated with some intuitive feature (age, connection holocaust content, spendable income, etc.). \n",
    "2. Pay attention that this function which creates the change of representation (the embedding layer) is learned as the network trains. This means that at the beginning - the elements in the new representation won't mean much, but as the learning progresses the representation will be more and more meaningful.\n",
    "3. Create a neural network in Keras (use functional API - *NOT SEQUENTIAL*. This will become important later on). The NN should have 2 different embedding layers - one which get the user_id as inputs, and one that gets the movie_id as input. I won't tell you the dimension of the 2 new representations - play around with these 2 numbers. Intuitively - try to think how many number you would need to describe a user (same thing for a movie). Notice that 'input_dim' is the size of the vocabulary (and not '1').\n",
    "4. These embedding layers should be merged, and then flattened. After this, add a few dense layers. If you get the hang of the training and don't want to wait too long, or if you want to compare to my model, read the model in the hidden answers folder using keras.model.load_model. TL;DR - the saved model reaches an MSE of a bit less than 0.72.\n",
    "5. The output should be a single number - this can be treated as a regression problem, or as an ordinal classification problem. Originally, it was treated as a regression problem by Netflix, so your output should be a floating number between 1 and 5 and you should minimize the MSE.\n",
    "6. Bonus: treat this as an ordinal classification problem, and use the loss from this paper (squared EMD): https://arxiv.org/abs/1611.05916. This bonus shouldn't be attempted if this is the first time you've dealt with custom losses or ordinal classification. Also, notice there is more work to be done later on in the notebook (which isn't \"a bonus\")!"
   ]
  },
  {
   "cell_type": "code",
   "execution_count": 29,
   "metadata": {},
   "outputs": [
    {
     "name": "stdout",
     "output_type": "stream",
     "text": [
      "215008\n",
      "148\n"
     ]
    }
   ],
   "source": [
    "list_unique_user_id = list(set(df.user_id))\n",
    "print(len(list_unique_user_id))\n",
    "\n",
    "list_unique_movie_id = list(set(df.movie_id))\n",
    "print(len(list_unique_movie_id))"
   ]
  },
  {
   "cell_type": "code",
   "execution_count": 44,
   "metadata": {},
   "outputs": [],
   "source": [
    "from keras.models import Model\n",
    "from keras.layers import Input, Embedding, Dense, concatenate, Flatten\n",
    "\n",
    "user_dim = 15\n",
    "movie_dim = 8\n",
    "\n",
    "x_user = Input(shape = (1,))\n",
    "embedding_user = Embedding(input_dim = len(list_unique_user_id), output_dim = user_dim, dtype='float32', input_length=1)(x_user)\n",
    "\n",
    "x_movie = Input(shape = (1,))\n",
    "embedding_movie = Embedding(input_dim = len(list_unique_movie_id), output_dim = movie_dim, dtype='float32', input_length=1)(x_movie)\n",
    "\n",
    "concat = concatenate([embedding_user, embedding_movie], axis = -1)\n",
    "\n",
    "flatten = Flatten()(concat)\n",
    "dense1 = Dense(units = (user_dim + movie_dim), activation = 'tanh')(flatten)\n",
    "dense2 = Dense(units = int((user_dim + movie_dim)), activation = 'tanh')(dense1)\n",
    "dense3 = Dense(units = int((user_dim + movie_dim)), activation = 'tanh')(dense2)\n",
    "# dense4 = Dense(units = int((user_dim + movie_dim)), activation = 'tanh')(dense3)\n",
    "output_layer = Dense(units = 1, activation = 'linear')(dense3)\n",
    "\n",
    "model = Model(inputs = [x_user, x_movie], outputs = output_layer)"
   ]
  },
  {
   "cell_type": "code",
   "execution_count": 45,
   "metadata": {},
   "outputs": [
    {
     "name": "stdout",
     "output_type": "stream",
     "text": [
      "Model: \"functional_19\"\n",
      "__________________________________________________________________________________________________\n",
      "Layer (type)                    Output Shape         Param #     Connected to                     \n",
      "==================================================================================================\n",
      "input_19 (InputLayer)           [(None, 1)]          0                                            \n",
      "__________________________________________________________________________________________________\n",
      "input_20 (InputLayer)           [(None, 1)]          0                                            \n",
      "__________________________________________________________________________________________________\n",
      "embedding_18 (Embedding)        (None, 1, 15)        3225120     input_19[0][0]                   \n",
      "__________________________________________________________________________________________________\n",
      "embedding_19 (Embedding)        (None, 1, 8)         1184        input_20[0][0]                   \n",
      "__________________________________________________________________________________________________\n",
      "concatenate_9 (Concatenate)     (None, 1, 23)        0           embedding_18[0][0]               \n",
      "                                                                 embedding_19[0][0]               \n",
      "__________________________________________________________________________________________________\n",
      "flatten_9 (Flatten)             (None, 23)           0           concatenate_9[0][0]              \n",
      "__________________________________________________________________________________________________\n",
      "dense_40 (Dense)                (None, 23)           552         flatten_9[0][0]                  \n",
      "__________________________________________________________________________________________________\n",
      "dense_41 (Dense)                (None, 23)           552         dense_40[0][0]                   \n",
      "__________________________________________________________________________________________________\n",
      "dense_42 (Dense)                (None, 23)           552         dense_41[0][0]                   \n",
      "__________________________________________________________________________________________________\n",
      "dense_43 (Dense)                (None, 1)            24          dense_42[0][0]                   \n",
      "==================================================================================================\n",
      "Total params: 3,227,984\n",
      "Trainable params: 3,227,984\n",
      "Non-trainable params: 0\n",
      "__________________________________________________________________________________________________\n"
     ]
    }
   ],
   "source": [
    "optimizer = keras.optimizers.Adam(lr=0.0001)\n",
    "model.compile(optimizer = optimizer, loss = 'mse')\n",
    "model.summary()"
   ]
  },
  {
   "cell_type": "code",
   "execution_count": 46,
   "metadata": {},
   "outputs": [
    {
     "name": "stdout",
     "output_type": "stream",
     "text": [
      "Epoch 1/100\n",
      "350/350 [==============================] - 19s 54ms/step - loss: 8.9703 - val_loss: 2.4293\n",
      "Epoch 2/100\n",
      "350/350 [==============================] - 19s 53ms/step - loss: 1.2649 - val_loss: 1.0557\n",
      "Epoch 3/100\n",
      "350/350 [==============================] - 17s 49ms/step - loss: 1.0024 - val_loss: 1.0197\n",
      "Epoch 4/100\n",
      "350/350 [==============================] - 18s 50ms/step - loss: 0.9347 - val_loss: 1.0131\n",
      "Epoch 5/100\n",
      "350/350 [==============================] - 18s 51ms/step - loss: 0.8422 - val_loss: 1.0302\n",
      "Epoch 6/100\n",
      "350/350 [==============================] - 18s 52ms/step - loss: 0.7390 - val_loss: 1.0729\n",
      "Epoch 7/100\n",
      "350/350 [==============================] - 19s 55ms/step - loss: 0.6506 - val_loss: 1.1223\n",
      "Epoch 8/100\n",
      "350/350 [==============================] - 18s 52ms/step - loss: 0.5854 - val_loss: 1.1617\n",
      "Epoch 9/100\n",
      "350/350 [==============================] - 18s 51ms/step - loss: 0.5395 - val_loss: 1.1916\n",
      "Epoch 00009: early stopping\n"
     ]
    },
    {
     "data": {
      "text/plain": [
       "<tensorflow.python.keras.callbacks.History at 0x21a24af0220>"
      ]
     },
     "execution_count": 46,
     "metadata": {},
     "output_type": "execute_result"
    }
   ],
   "source": [
    "from keras.callbacks import EarlyStopping\n",
    "\n",
    "es = EarlyStopping(monitor='val_loss', mode='min', verbose=1, patience=5)\n",
    "callbacks_list = [es]\n",
    "\n",
    "model.fit(x=[X_train['user_id_transformed'], X_train['movie_id_transformed']], y=y_train, \n",
    "         validation_data=([X_test['user_id_transformed'], X_test['movie_id_transformed']], y_test),\n",
    "         epochs=100, verbose=1, batch_size = 1000, callbacks=callbacks_list)"
   ]
  },
  {
   "cell_type": "code",
   "execution_count": 65,
   "metadata": {},
   "outputs": [
    {
     "data": {
      "text/html": [
       "<div>\n",
       "<style scoped>\n",
       "    .dataframe tbody tr th:only-of-type {\n",
       "        vertical-align: middle;\n",
       "    }\n",
       "\n",
       "    .dataframe tbody tr th {\n",
       "        vertical-align: top;\n",
       "    }\n",
       "\n",
       "    .dataframe thead th {\n",
       "        text-align: right;\n",
       "    }\n",
       "</style>\n",
       "<table border=\"1\" class=\"dataframe\">\n",
       "  <thead>\n",
       "    <tr style=\"text-align: right;\">\n",
       "      <th></th>\n",
       "      <th>user_id</th>\n",
       "      <th>movie_id</th>\n",
       "      <th>rating</th>\n",
       "    </tr>\n",
       "  </thead>\n",
       "  <tbody>\n",
       "    <tr>\n",
       "      <th>count</th>\n",
       "      <td>1.000000e+05</td>\n",
       "      <td>100000.000000</td>\n",
       "      <td>100000.000000</td>\n",
       "    </tr>\n",
       "    <tr>\n",
       "      <th>mean</th>\n",
       "      <td>1.323474e+06</td>\n",
       "      <td>9070.212670</td>\n",
       "      <td>3.606480</td>\n",
       "    </tr>\n",
       "    <tr>\n",
       "      <th>std</th>\n",
       "      <td>7.647833e+05</td>\n",
       "      <td>5151.669201</td>\n",
       "      <td>1.084709</td>\n",
       "    </tr>\n",
       "    <tr>\n",
       "      <th>min</th>\n",
       "      <td>7.900000e+01</td>\n",
       "      <td>3.000000</td>\n",
       "      <td>1.000000</td>\n",
       "    </tr>\n",
       "    <tr>\n",
       "      <th>25%</th>\n",
       "      <td>6.636540e+05</td>\n",
       "      <td>4661.000000</td>\n",
       "      <td>3.000000</td>\n",
       "    </tr>\n",
       "    <tr>\n",
       "      <th>50%</th>\n",
       "      <td>1.321212e+06</td>\n",
       "      <td>9049.000000</td>\n",
       "      <td>4.000000</td>\n",
       "    </tr>\n",
       "    <tr>\n",
       "      <th>75%</th>\n",
       "      <td>1.983551e+06</td>\n",
       "      <td>13651.000000</td>\n",
       "      <td>4.000000</td>\n",
       "    </tr>\n",
       "    <tr>\n",
       "      <th>max</th>\n",
       "      <td>2.649426e+06</td>\n",
       "      <td>17770.000000</td>\n",
       "      <td>5.000000</td>\n",
       "    </tr>\n",
       "  </tbody>\n",
       "</table>\n",
       "</div>"
      ],
      "text/plain": [
       "            user_id       movie_id         rating\n",
       "count  1.000000e+05  100000.000000  100000.000000\n",
       "mean   1.323474e+06    9070.212670       3.606480\n",
       "std    7.647833e+05    5151.669201       1.084709\n",
       "min    7.900000e+01       3.000000       1.000000\n",
       "25%    6.636540e+05    4661.000000       3.000000\n",
       "50%    1.321212e+06    9049.000000       4.000000\n",
       "75%    1.983551e+06   13651.000000       4.000000\n",
       "max    2.649426e+06   17770.000000       5.000000"
      ]
     },
     "execution_count": 65,
     "metadata": {},
     "output_type": "execute_result"
    }
   ],
   "source": [
    "df.describe()"
   ]
  },
  {
   "cell_type": "markdown",
   "metadata": {},
   "source": [
    "### Great! If you've reached here, you manged to create a neural network which uses embeddings and can predict movie rankings using only very basic information (unique ID's). \n",
    "Now we want to turn this into a recommendation system. Write a function which gets one specific user_id as an input, and outputs 10 names of movies with the highest expected ratings. Read the file named movie_titles.csv to connect between the movie id's and the names of the files."
   ]
  },
  {
   "cell_type": "code",
   "execution_count": 26,
   "metadata": {},
   "outputs": [],
   "source": [
    "movies_df = pd.read_csv('resources/movie_titles.csv', header = None)#, names = ['movie_id', 'year', 'name'])\n",
    "\n",
    "movies_dict = {v: k for v, k in zip(movies_df[0], movies_df[2])}\n",
    "untransforming_movie = {v: k for k, v in transforming_movie.items()}"
   ]
  },
  {
   "cell_type": "code",
   "execution_count": 27,
   "metadata": {},
   "outputs": [],
   "source": [
    "def recommend_10(user):\n",
    "    recommend_df = pd.DataFrame(list(set(X_test.movie_id_transformed)), \n",
    "                                columns = ['movie_id_transformed'])\n",
    "    recommend_df['user_id_transformed'] = [transforming_user[user]] * len(recommend_df)\n",
    "    recommend_df['predictions'] = model.predict([recommend_df['user_id_transformed'], \n",
    "                                                 recommend_df['movie_id_transformed']])\n",
    "    \n",
    "    top_10 = recommend_df.sort_values('predictions', ascending = False).head(10)\n",
    "    top_10['movie_id'] = top_10.movie_id_transformed.apply(lambda x: untransforming_movie[x])\n",
    "    \n",
    "    return top_10.movie_id.apply(lambda x: movies_dict[x])"
   ]
  },
  {
   "cell_type": "code",
   "execution_count": 30,
   "metadata": {},
   "outputs": [
    {
     "data": {
      "text/plain": [
       "12    Lord of the Rings: The Return of the King: Ext...\n",
       "17                                     Immortal Beloved\n",
       "27                                      Lilo and Stitch\n",
       "24        Inspector Morse 31: Death Is Now My Neighbour\n",
       "29                               Something's Gotta Give\n",
       "2                                             Character\n",
       "0                                       Dinosaur Planet\n",
       "28                                              Boycott\n",
       "4                              The Rise and Fall of ECW\n",
       "9                                               Fighter\n",
       "Name: movie_id, dtype: object"
      ]
     },
     "execution_count": 30,
     "metadata": {},
     "output_type": "execute_result"
    }
   ],
   "source": [
    "recommend_10(2621442)"
   ]
  },
  {
   "cell_type": "markdown",
   "metadata": {},
   "source": [
    "### So is the system we built any good? We can check this at least somewhat by checking if the embeddings are good. This is how we'll do it: \n",
    "1. Extract the embeddings of the different movies from the network. How, you may ask? I hope you remembered to use the functional api. This will allow you to create a new model - using the trained layers that you already used. Create a new Model where the input is the movie_id, and the output is the movie embedding layer (before the merge).\n",
    "2. Do not train this model. Only use the .predict of this model, and the output should be the embedding vectors which represent the different movie id's. Notice you may have to reshape the matrix of the predictions for the next steps.\n",
    "3. Now use sklearn.cluster.KMeans to cluster these vectors. Use k=1000. Make sure to save the cluster number for each movie.\n",
    "4. Check manually if the clusters make sense (can you find connections between movies in the same cluster?). \n",
    "5. Try to visualize the clustering by looking at only some of the clusters as one time. You can use PCA with n_components = 2 to help you visualize (use a different color for each cluster by using 'c = ...' in plt.scatter)."
   ]
  },
  {
   "cell_type": "code",
   "execution_count": 136,
   "metadata": {},
   "outputs": [],
   "source": [
    "model_embedding = Model(inputs = [x_movie], outputs = [embedding_movie])\n",
    "\n",
    "movies_for_pred = np.array(X_test['movie_id_transformed'])\n",
    "vectors = model_embedding.predict(movies_for_pred).reshape(-1,1)\n",
    "vectors = vectors.reshape(-1,movie_dim)"
   ]
  },
  {
   "cell_type": "code",
   "execution_count": 137,
   "metadata": {},
   "outputs": [
    {
     "name": "stdout",
     "output_type": "stream",
     "text": [
      "(30000, 20)\n"
     ]
    }
   ],
   "source": [
    "print(vectors.shape)"
   ]
  },
  {
   "cell_type": "code",
   "execution_count": 138,
   "metadata": {},
   "outputs": [],
   "source": [
    "from sklearn.cluster import KMeans\n",
    "\n",
    "clf = KMeans(n_clusters=500)\n",
    "clusters = clf.fit_predict(vectors)"
   ]
  },
  {
   "cell_type": "code",
   "execution_count": 139,
   "metadata": {},
   "outputs": [
    {
     "name": "stdout",
     "output_type": "stream",
     "text": [
      "(30000,)\n"
     ]
    }
   ],
   "source": [
    "print(clusters.shape)"
   ]
  },
  {
   "cell_type": "code",
   "execution_count": 140,
   "metadata": {},
   "outputs": [
    {
     "name": "stdout",
     "output_type": "stream",
     "text": [
      "122\n"
     ]
    }
   ],
   "source": [
    "clusters_1 = clusters == 1\n",
    "print(np.sum(clusters_1))"
   ]
  },
  {
   "cell_type": "code",
   "execution_count": 141,
   "metadata": {},
   "outputs": [
    {
     "name": "stdout",
     "output_type": "stream",
     "text": [
      "33\n"
     ]
    }
   ],
   "source": [
    "clusters_2 = clusters == 2\n",
    "print(np.sum(clusters_2))"
   ]
  },
  {
   "cell_type": "code",
   "execution_count": 142,
   "metadata": {},
   "outputs": [
    {
     "name": "stdout",
     "output_type": "stream",
     "text": [
      "103\n"
     ]
    }
   ],
   "source": [
    "clusters_3 = clusters == 3\n",
    "print(np.sum(clusters_3))"
   ]
  },
  {
   "cell_type": "code",
   "execution_count": 143,
   "metadata": {},
   "outputs": [],
   "source": [
    "from sklearn.decomposition import PCA"
   ]
  },
  {
   "cell_type": "code",
   "execution_count": 144,
   "metadata": {},
   "outputs": [],
   "source": [
    "clusters_1_2 = clusters_1 + clusters_2 + clusters_3\n",
    "\n",
    "vectors_chosen = vectors[clusters_1_2]\n",
    "pca = PCA(n_components = 2)\n",
    "pcaed_vectored = pca.fit_transform(vectors_chosen)"
   ]
  },
  {
   "cell_type": "code",
   "execution_count": 145,
   "metadata": {},
   "outputs": [
    {
     "name": "stdout",
     "output_type": "stream",
     "text": [
      "(258, 20)\n"
     ]
    }
   ],
   "source": [
    "print(vectors_chosen.shape)"
   ]
  },
  {
   "cell_type": "code",
   "execution_count": 146,
   "metadata": {},
   "outputs": [],
   "source": [
    "colors = clusters_1 + 2*clusters_2 + 3*clusters_3\n",
    "colors = colors[colors != 0]"
   ]
  },
  {
   "cell_type": "code",
   "execution_count": 147,
   "metadata": {},
   "outputs": [
    {
     "data": {
      "image/png": "[encoded data removed]",
      "text/plain": [
       "<Figure size 432x288 with 1 Axes>"
      ]
     },
     "metadata": {
      "needs_background": "light"
     },
     "output_type": "display_data"
    }
   ],
   "source": [
    "plt.scatter(pcaed_vectored[:,0], pcaed_vectored[:,1], c=colors)\n",
    "plt.show()"
   ]
  },
  {
   "cell_type": "code",
   "execution_count": 134,
   "metadata": {},
   "outputs": [
    {
     "data": {
      "text/plain": [
       "'Lara Croft: Tomb Raider: The Cradle of Life'"
      ]
     },
     "execution_count": 134,
     "metadata": {},
     "output_type": "execute_result"
    }
   ],
   "source": [
    "movies_dict[X_test.movie_id.to_numpy()[0]]"
   ]
  },
  {
   "cell_type": "code",
   "execution_count": 135,
   "metadata": {},
   "outputs": [
    {
     "data": {
      "text/plain": [
       "(30000, 4)"
      ]
     },
     "execution_count": 135,
     "metadata": {},
     "output_type": "execute_result"
    }
   ],
   "source": [
    "X_test.shape"
   ]
  },
  {
   "cell_type": "code",
   "execution_count": 152,
   "metadata": {},
   "outputs": [
    {
     "name": "stdout",
     "output_type": "stream",
     "text": [
      "Mission: Impossible II\n",
      "Judge Dredd\n",
      "Murder By Numbers\n",
      "The Last American Virgin\n",
      "Mission: Impossible II\n",
      "Judge Dredd\n",
      "Friday\n",
      "Poirot: Lord Edgware Dies\n",
      "La Belle Noiseuse\n",
      "Poirot: Death in the Clouds\n",
      "Southern Comfort\n",
      "La Belle Noiseuse\n",
      "Friday\n",
      "Mission: Impossible II\n",
      "Friday\n",
      "Mission: Impossible II\n",
      "Murder By Numbers\n",
      "Murder By Numbers\n",
      "Whatever It Takes\n",
      "Mission: Impossible II\n",
      "Murder By Numbers\n",
      "Friday\n",
      "Murder By Numbers\n",
      "Murder By Numbers\n",
      "Godzilla vs. Mechagodzilla\n",
      "Murder By Numbers\n",
      "Mission: Impossible II\n",
      "Don Juan De Marco\n",
      "Just One of the Guys\n",
      "Friday\n",
      "Quicksand\n",
      "Murder By Numbers\n",
      "Don Juan De Marco\n",
      "Carnage\n",
      "Murder By Numbers\n",
      "The Beastmaster\n",
      "Murder By Numbers\n",
      "Judge Dredd\n",
      "The Beastmaster\n",
      "Mission: Impossible II\n",
      "Red Heat\n",
      "The Girl\n",
      "Friday\n",
      "Airport '77 / The Concorde: Airport '79: Double Feature\n",
      "Mission: Impossible II\n",
      "Mission: Impossible II\n",
      "Mission: Impossible II\n",
      "Mission: Impossible II\n",
      "Murder By Numbers\n",
      "Live From Baghdad\n",
      "Don Juan De Marco\n",
      "Murder By Numbers\n",
      "Disorganized Crime\n",
      "Vampire in Brooklyn\n",
      "Mission: Impossible II\n",
      "Friday\n",
      "Friday\n",
      "Mission: Impossible II\n",
      "Murder By Numbers\n",
      "Murder By Numbers\n",
      "Bionicle: Mask of Light: The Movie\n",
      "Friday\n",
      "Friday\n",
      "Murder By Numbers\n",
      "Friday\n",
      "Murder By Numbers\n",
      "Mission: Impossible II\n",
      "Murder By Numbers\n",
      "Mission: Impossible II\n",
      "Murder By Numbers\n",
      "A Man Called Horse\n",
      "Friday\n",
      "The Work of Director Michel Gondry\n",
      "Mission: Impossible II\n",
      "Friday\n",
      "Mission: Impossible II\n",
      "Friday\n",
      "Murder By Numbers\n",
      "Judge Dredd\n",
      "Murder By Numbers\n",
      "Poirot: Death in the Clouds\n",
      "Friday\n",
      "Ren & Stimpy: Season 3 and a Half-ish\n",
      "The Beastmaster\n",
      "Friday\n",
      "Friday\n",
      "Murder By Numbers\n",
      "Friday\n",
      "The Jungle Book\n",
      "Norma Jean & Marilyn\n",
      "A Man Called Horse\n",
      "Mission: Impossible II\n",
      "Murder By Numbers\n",
      "Live From Baghdad\n",
      "Mission: Impossible II\n",
      "Whatever It Takes\n",
      "Mission: Impossible II\n",
      "Murder By Numbers\n",
      "Murder By Numbers\n"
     ]
    }
   ],
   "source": [
    "for movie_id in X_test.movie_id.to_numpy()[clusters == 100]:\n",
    "    print(movies_dict[movie_id])"
   ]
  },
  {
   "cell_type": "markdown",
   "metadata": {},
   "source": [
    "### Great! Now just one little sophistication. \n",
    "Write another function which gives me the top 10 movies while no 2 of them are from the same cluster. This can be used for a more sophisticated type of recommendation system.\n",
    "\n",
    "This will be more exciting if you go back and reduce the amount of clusters you allow to be not much higher than 10 (and check how the previous system you created will react)."
   ]
  },
  {
   "cell_type": "code",
   "execution_count": 156,
   "metadata": {},
   "outputs": [],
   "source": [
    "movie_id_transformed_to_cluster = dict(zip(movies_for_pred, clusters))"
   ]
  },
  {
   "cell_type": "code",
   "execution_count": 161,
   "metadata": {},
   "outputs": [],
   "source": [
    "list_unique = list(set(df.user_id))\n",
    "transforming_user = {v:k for k,v in zip(range(len(list_unique)), list_unique)}\n",
    "list_unique = list(set(df.movie_id))\n",
    "transforming_movie = {v:k for k,v in zip(range(len(list_unique)), list_unique)}\n",
    "\n",
    "untransforming_movie = {v: k for k, v in transforming_movie.items()}"
   ]
  },
  {
   "cell_type": "code",
   "execution_count": 162,
   "metadata": {},
   "outputs": [],
   "source": [
    "def recommend_10(user):\n",
    "    recommend_df = pd.DataFrame(list(set(X_test.movie_id_transformed)), \n",
    "                                columns = ['movie_id_transformed'])\n",
    "    recommend_df['user_id_transformed'] = [transforming_user[user]] * len(recommend_df)\n",
    "    recommend_df['predictions'] = model.predict([recommend_df['user_id_transformed'], \n",
    "                                                 recommend_df['movie_id_transformed']])\n",
    "    \n",
    "    top_10 = recommend_df.sort_values('predictions', ascending = False).head(10)\n",
    "    top_10['movie_id'] = top_10.movie_id_transformed.apply(lambda x: untransforming_movie[x])\n",
    "    \n",
    "    return top_10.movie_id.apply(lambda x: movies_dict[x])"
   ]
  },
  {
   "cell_type": "code",
   "execution_count": 163,
   "metadata": {},
   "outputs": [],
   "source": [
    "def recommend_10_from_different_clusters(user):\n",
    "    recommend_df = pd.DataFrame(list(set(X_test.movie_id_transformed)), \n",
    "                                columns = ['movie_id_transformed'])\n",
    "    recommend_df['user_id_transformed'] = [transforming_user[user]] * len(recommend_df)\n",
    "    \n",
    "    recommend_df['predictions'] = model.predict([recommend_df['user_id_transformed'], \n",
    "                                                 recommend_df['movie_id_transformed']])\n",
    "    \n",
    "    recommend_df['cluster'] = recommend_df.movie_id_transformed.apply(lambda x: \n",
    "                                                                      movie_id_transformed_to_cluster[x])\n",
    "\n",
    "    top_10 = recommend_df.sort_values('predictions', \n",
    "                                      ascending = False).groupby('cluster').head(1).head(10)\n",
    "    \n",
    "    top_10['movie_id'] = top_10.movie_id_transformed.apply(lambda x: untransforming_movie[x])\n",
    "    \n",
    "    return top_10.movie_id.apply(lambda x: movies_dict[x])"
   ]
  },
  {
   "cell_type": "code",
   "execution_count": 164,
   "metadata": {},
   "outputs": [
    {
     "data": {
      "text/plain": [
       "2331    Lord of the Rings: The Two Towers: Extended Ed...\n",
       "4775            The Shawshank Redemption: Special Edition\n",
       "4911    Lord of the Rings: The Return of the King: Ext...\n",
       "4031                                        The Godfather\n",
       "4481                                            Toy Story\n",
       "3311                              Raiders of the Lost Ark\n",
       "63                             Chappelle's Show: Season 1\n",
       "4693                               The Sopranos: Season 2\n",
       "4208                                The X-Files: Season 1\n",
       "2085                                 Millennium: Season 1\n",
       "Name: movie_id, dtype: object"
      ]
     },
     "execution_count": 164,
     "metadata": {},
     "output_type": "execute_result"
    }
   ],
   "source": [
    "recommend_10_from_different_clusters(2621442)"
   ]
  },
  {
   "cell_type": "markdown",
   "metadata": {},
   "source": [
    "# These cells should be used for telling yourself when your code finishes running"
   ]
  },
  {
   "cell_type": "code",
   "execution_count": 9,
   "metadata": {
    "collapsed": true
   },
   "outputs": [],
   "source": [
    "import datetime\n",
    "from MMMUtils import *"
   ]
  },
  {
   "cell_type": "code",
   "execution_count": 10,
   "metadata": {},
   "outputs": [],
   "source": [
    "beep()\n",
    "\n",
    "body = 'Yo Phil, my man - your code (embedding layer exercise) finished running at: ' + str(datetime.datetime.now()) \\\n",
    "    + '\\n\\n\\nThis was an automated email'\n",
    "send_email('ptannor@gmail.com', body = body)"
   ]
  }
 ],
 "metadata": {
  "kernelspec": {
   "display_name": "Python 3",
   "language": "python",
   "name": "python3"
  },
  "language_info": {
   "codemirror_mode": {
    "name": "ipython",
    "version": 3
   },
   "file_extension": ".py",
   "mimetype": "text/x-python",
   "name": "python",
   "nbconvert_exporter": "python",
   "pygments_lexer": "ipython3",
   "version": "3.8.8"
  }
 },
 "nbformat": 4,
 "nbformat_minor": 2
}
