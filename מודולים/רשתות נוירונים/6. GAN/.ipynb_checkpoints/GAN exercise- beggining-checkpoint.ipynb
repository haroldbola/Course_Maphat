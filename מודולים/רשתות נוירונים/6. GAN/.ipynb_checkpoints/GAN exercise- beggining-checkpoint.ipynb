{
 "cells": [
  {
   "cell_type": "markdown",
   "metadata": {},
   "source": [
    "# GAN exercise- beggining\n",
    "Here you will implement a simple GAN architecture. Read about the GAN architecture (it is recommended to use the paper in the current directoyr, but you can also search for information on the internet). Use GAN architecture to create a model that takes a random number and generates a noraml distributed vector with 100 numbers.\n",
    "Note: be carefull at training. Don't let the discriminator be much more powerful over than the generator, and vise versa."
   ]
  },
  {
   "cell_type": "code",
   "execution_count": null,
   "metadata": {
    "collapsed": true
   },
   "outputs": [],
   "source": []
  }
 ],
 "metadata": {
  "kernelspec": {
   "display_name": "Python 2",
   "language": "python",
   "name": "python2"
  },
  "language_info": {
   "codemirror_mode": {
    "name": "ipython",
    "version": 2
   },
   "file_extension": ".py",
   "mimetype": "text/x-python",
   "name": "python",
   "nbconvert_exporter": "python",
   "pygments_lexer": "ipython2",
   "version": "2.7.13"
  }
 },
 "nbformat": 4,
 "nbformat_minor": 2
}
