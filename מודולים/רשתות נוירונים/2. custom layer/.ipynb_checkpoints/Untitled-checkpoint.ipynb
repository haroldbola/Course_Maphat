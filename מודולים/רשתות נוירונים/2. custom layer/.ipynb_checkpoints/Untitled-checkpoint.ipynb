{
 "cells": [
  {
   "cell_type": "code",
   "execution_count": 365,
   "id": "three-window",
   "metadata": {},
   "outputs": [],
   "source": [
    "import tensorflow as tf\n",
    "\n",
    "import matplotlib.pyplot as plt\n",
    "import matplotlib.ticker as ticker\n",
    "from sklearn.model_selection import train_test_split\n",
    "\n",
    "import unicodedata\n",
    "import re\n",
    "import numpy as np\n",
    "import os\n",
    "import io\n",
    "import time"
   ]
  },
  {
   "cell_type": "code",
   "execution_count": 366,
   "id": "national-graphic",
   "metadata": {},
   "outputs": [],
   "source": [
    "def find_subsequence(sequence, subsequence):\n",
    "    idx = 0\n",
    "    for char in sequence:\n",
    "        if char == subsequence[idx]:\n",
    "            idx += 1\n",
    "        if idx == len(subsequence):\n",
    "            return True\n",
    "    return False"
   ]
  },
  {
   "cell_type": "code",
   "execution_count": 373,
   "id": "unable-firmware",
   "metadata": {},
   "outputs": [],
   "source": [
    "digits = [0, 1, 2, 3, 4, 5, 6]\n",
    "padding_length = 25\n",
    "n_sequences = 100000\n",
    "\n",
    "def create_seq(baseline_in, padding_length, p=0.5, padding_symbol=8):\n",
    "    baseline_length_in = len(baseline_in)\n",
    "    baseline_places = []\n",
    "    seq = []\n",
    "    count = 0\n",
    "    while count<baseline_length_in:\n",
    "        if np.random.random()<p:\n",
    "            digit_copy = digits.copy()\n",
    "            digit_copy.remove(baseline_in[count])\n",
    "            seq.append(np.random.choice(digit_copy, 1)[0])\n",
    "        else:\n",
    "            baseline_places.append(len(seq))\n",
    "            seq.append(baseline_in[count])\n",
    "            count += 1\n",
    "\n",
    "    if len(seq) < padding_length:\n",
    "        seq += [padding_symbol] * (padding_length-len(seq))\n",
    "        \n",
    "    return seq, baseline_places\n",
    "\n",
    "def create_wrong_seq(padding_length, baseline_in, padding_symbol=8):\n",
    "    do_again=True\n",
    "    while do_again is True:\n",
    "        len_seq = np.random.randint(1, 10)\n",
    "\n",
    "        seq = np.random.choice(digits, len_seq).tolist()\n",
    "        seq += [padding_symbol] * (padding_length-len(seq))\n",
    "        \n",
    "        do_again = find_subsequence(seq, baseline_in)\n",
    "    return seq, []\n",
    "    \n",
    "def create_sequences(count, baseline_in):\n",
    "    return map(lambda x: create_seq(baseline_in, padding_length=padding_length), range(count))\n",
    "\n",
    "\n",
    "def create_wrong_sequences(count, baseline_in):\n",
    "    return map(lambda x: create_wrong_seq(padding_length=padding_length, \n",
    "                                          baseline_in=baseline_in), range(count))\n",
    "\n",
    "baseline_length = 3\n",
    "right_baseline = [1,3,2]\n",
    "\n",
    "good_list = list(create_sequences(n_sequences, right_baseline))\n",
    "wrong_list = list(create_wrong_sequences(n_sequences, right_baseline))\n",
    "\n",
    "data = good_list + wrong_list\n",
    "data, places = list(map(lambda x: x[0], data)), list(map(lambda x: x[1], data))\n",
    "target = [True]*n_sequences+[False]*n_sequences\n",
    "\n",
    "good_data = good_list\n",
    "good_data, places = list(map(lambda x: x[0], good_data)), list(map(lambda x: x[1], good_data))\n",
    "        \n",
    "data = np.array(data)\n",
    "good_data = np.array(good_data)\n",
    "target = np.array(target)"
   ]
  },
  {
   "cell_type": "code",
   "execution_count": 374,
   "id": "favorite-greeting",
   "metadata": {},
   "outputs": [
    {
     "name": "stdout",
     "output_type": "stream",
     "text": [
      "[2 6 0 4 6 0 3 1 6 4 3 2 8 8 8 8 8 8 8 8 8 8 8 8 8]\n"
     ]
    }
   ],
   "source": [
    "print(good_data[1946])"
   ]
  },
  {
   "cell_type": "code",
   "execution_count": 375,
   "id": "elegant-committee",
   "metadata": {},
   "outputs": [
    {
     "name": "stdout",
     "output_type": "stream",
     "text": [
      "[3 3 3 2 4 2 2 8 8 8 8 8 8 8 8 8 8 8 8 8 8 8 8 8 8]\n"
     ]
    }
   ],
   "source": [
    "print(data[17541])"
   ]
  },
  {
   "cell_type": "code",
   "execution_count": 376,
   "id": "expressed-exercise",
   "metadata": {},
   "outputs": [
    {
     "name": "stdout",
     "output_type": "stream",
     "text": [
      "data (20000, 25, 1)\n",
      "good_data (10000, 25, 1)\n",
      "target (20000,)\n"
     ]
    }
   ],
   "source": [
    "data = data.reshape(data.shape[0], data.shape[1], 1)\n",
    "print('data', data.shape)\n",
    "\n",
    "good_data = good_data.reshape(good_data.shape[0], good_data.shape[1], 1)\n",
    "print('good_data', good_data.shape)\n",
    "\n",
    "print('target', target.shape)"
   ]
  },
  {
   "cell_type": "code",
   "execution_count": 377,
   "id": "earned-links",
   "metadata": {},
   "outputs": [],
   "source": [
    "# Creating training and validation sets using an 80-20 split\n",
    "data_train, data_val, target_train, target_val = train_test_split(data, target,\n",
    "                                                                  test_size=0.05)"
   ]
  },
  {
   "cell_type": "code",
   "execution_count": 378,
   "id": "continuing-wilson",
   "metadata": {},
   "outputs": [],
   "source": [
    "BUFFER_SIZE = len(data_train)\n",
    "BATCH_SIZE = 200\n",
    "steps_per_epoch = len(data_train)//BATCH_SIZE\n",
    "units = 64\n",
    "\n",
    "data_train = tf.convert_to_tensor(data_train, dtype=tf.dtypes.float32)\n",
    "good_data = tf.convert_to_tensor(good_data, dtype=tf.dtypes.float32)\n",
    "data = tf.convert_to_tensor(data, dtype=tf.dtypes.float32)\n",
    "target_train = tf.convert_to_tensor(target_train, dtype=tf.dtypes.float32)\n",
    "\n",
    "dataset = tf.data.Dataset.from_tensor_slices((data_train, target_train)).shuffle(BUFFER_SIZE)\n",
    "dataset = dataset.batch(BATCH_SIZE, drop_remainder=True)"
   ]
  },
  {
   "cell_type": "code",
   "execution_count": 379,
   "id": "strong-landing",
   "metadata": {},
   "outputs": [],
   "source": [
    "class Encoder(tf.keras.Model):\n",
    "    def __init__(self, enc_units, batch_sz):\n",
    "        super(Encoder, self).__init__()\n",
    "        self.batch_sz = batch_sz\n",
    "        self.enc_units = enc_units\n",
    "        self.gru = tf.keras.layers.GRU(self.enc_units,\n",
    "                                       return_sequences=True,\n",
    "                                       return_state=True,\n",
    "                                       recurrent_initializer='glorot_uniform')\n",
    "\n",
    "    def call(self, x, hidden):\n",
    "        output, state = self.gru(x, initial_state = hidden)\n",
    "        return output, state\n",
    "\n",
    "    def initialize_hidden_state(self):\n",
    "        return tf.zeros((self.batch_sz, self.enc_units), dtype=tf.dtypes.float32)"
   ]
  },
  {
   "cell_type": "code",
   "execution_count": 380,
   "id": "incoming-romance",
   "metadata": {},
   "outputs": [
    {
     "data": {
      "text/plain": [
       "(TensorShape([200, 25, 1]), TensorShape([200]))"
      ]
     },
     "execution_count": 380,
     "metadata": {},
     "output_type": "execute_result"
    }
   ],
   "source": [
    "example_input_batch, example_target_batch = next(iter(dataset))\n",
    "example_input_batch.shape, example_target_batch.shape"
   ]
  },
  {
   "cell_type": "code",
   "execution_count": 381,
   "id": "turkish-reason",
   "metadata": {},
   "outputs": [
    {
     "name": "stdout",
     "output_type": "stream",
     "text": [
      "Encoder output shape: (batch size, sequence length, units) (200, 25, 64)\n",
      "Encoder Hidden state shape: (batch size, units) (200, 64)\n"
     ]
    }
   ],
   "source": [
    "encoder = Encoder(units, BATCH_SIZE)\n",
    "\n",
    "# sample input\n",
    "sample_hidden = encoder.initialize_hidden_state()\n",
    "sample_output, sample_hidden = encoder(example_input_batch, sample_hidden)\n",
    "print ('Encoder output shape: (batch size, sequence length, units) {}'.format(sample_output.shape))\n",
    "print ('Encoder Hidden state shape: (batch size, units) {}'.format(sample_hidden.shape))"
   ]
  },
  {
   "cell_type": "code",
   "execution_count": 382,
   "id": "perceived-wrapping",
   "metadata": {},
   "outputs": [],
   "source": [
    "class BahdanauAttention(tf.keras.layers.Layer):\n",
    "    def __init__(self, units):\n",
    "        super(BahdanauAttention, self).__init__()\n",
    "        self.W1 = tf.keras.layers.Dense(units)\n",
    "        self.W2 = tf.keras.layers.Dense(units)\n",
    "        self.V = tf.keras.layers.Dense(1)\n",
    "\n",
    "    def call(self, query, values):\n",
    "        # query hidden state shape == (batch_size, hidden size)\n",
    "        # query_with_time_axis shape == (batch_size, 1, hidden size)\n",
    "        # values shape == (batch_size, sequence_length, hidden size)\n",
    "        # we are doing this to broadcast addition along the time axis to calculate the score\n",
    "        query_with_time_axis = tf.expand_dims(query, 1)\n",
    "\n",
    "        # score shape == (batch_size, max_length, 1)\n",
    "        # we get 1 at the last axis because we are applying score to self.V\n",
    "        # the shape of the tensor before applying self.V is (batch_size, max_length, units)\n",
    "        score = self.V(tf.nn.tanh(\n",
    "            self.W1(query_with_time_axis) + self.W2(values)))\n",
    "\n",
    "        # attention_weights shape == (batch_size, sequence_length, 1)\n",
    "        attention_weights = tf.nn.softmax(score, axis=1)\n",
    "\n",
    "        # context_vector shape after sum == (batch_size, hidden_size)\n",
    "        context_vector = attention_weights * values\n",
    "        context_vector = tf.reduce_sum(context_vector, axis=1)\n",
    "\n",
    "        return context_vector, attention_weights"
   ]
  },
  {
   "cell_type": "code",
   "execution_count": 383,
   "id": "outstanding-pickup",
   "metadata": {},
   "outputs": [
    {
     "name": "stdout",
     "output_type": "stream",
     "text": [
      "Attention result shape: (batch size, units) (200, 64)\n",
      "Attention weights shape: (batch_size, sequence_length, 1) (200, 25, 1)\n"
     ]
    }
   ],
   "source": [
    "attention_layer = BahdanauAttention(10)\n",
    "attention_result, attention_weights = attention_layer(sample_hidden, sample_output)\n",
    "\n",
    "print(\"Attention result shape: (batch size, units) {}\".format(attention_result.shape))\n",
    "print(\"Attention weights shape: (batch_size, sequence_length, 1) {}\".format(attention_weights.shape))"
   ]
  },
  {
   "cell_type": "code",
   "execution_count": 384,
   "id": "underlying-terrace",
   "metadata": {},
   "outputs": [],
   "source": [
    "class Decoder(tf.keras.Model):\n",
    "    def __init__(self, dec_units, batch_sz):\n",
    "        super(Decoder, self).__init__()\n",
    "        self.batch_sz = batch_sz\n",
    "        self.dec_units = dec_units\n",
    "        self.gru = tf.keras.layers.GRU(self.dec_units,\n",
    "                                       return_sequences=True,\n",
    "                                       return_state=True,\n",
    "                                       recurrent_initializer='glorot_uniform')\n",
    "        #     self.fc = tf.keras.layers.Dense(1)\n",
    "\n",
    "        # used for attention\n",
    "        self.attention = BahdanauAttention(self.dec_units)\n",
    "\n",
    "    def call(self, x, hidden, enc_output):\n",
    "        # enc_output shape == (batch_size, max_length, hidden_size)\n",
    "        context_vector, attention_weights = self.attention(hidden, enc_output)\n",
    "\n",
    "        # x shape after concatenation == (batch_size, 1, embedding_dim + hidden_size)\n",
    "        x = tf.concat([context_vector, x], axis=-1)\n",
    "        x = tf.expand_dims(x, 1)\n",
    "\n",
    "        # passing the concatenated vector to the GRU\n",
    "        output, state = self.gru(x)\n",
    "\n",
    "        # output shape == (batch_size * 1, hidden_size)\n",
    "        x = tf.reshape(output, (-1, output.shape[2]))\n",
    "\n",
    "        return x, state, attention_weights"
   ]
  },
  {
   "cell_type": "code",
   "execution_count": 385,
   "id": "equipped-rocket",
   "metadata": {},
   "outputs": [],
   "source": [
    "class Classifier(tf.keras.Model):\n",
    "    def __init__(self, batch_sz):\n",
    "        super(Classifier, self).__init__()\n",
    "        self.batch_sz = batch_sz\n",
    "        self.fc1 = tf.keras.layers.Dense(32, activation='tanh')\n",
    "        self.fc4 = tf.keras.layers.Dense(1, activation='sigmoid')\n",
    "\n",
    "    def call(self, x):\n",
    "        x = self.fc1(x)\n",
    "        x = self.fc4(x)\n",
    "        return x"
   ]
  },
  {
   "cell_type": "code",
   "execution_count": 386,
   "id": "bibliographic-violence",
   "metadata": {},
   "outputs": [
    {
     "name": "stdout",
     "output_type": "stream",
     "text": [
      "Decoder output shape: (batch_size, vocab size) (200, 64)\n"
     ]
    }
   ],
   "source": [
    "decoder = Decoder(units, BATCH_SIZE)\n",
    "\n",
    "sample_decoder_output, _, _ = decoder(tf.random.uniform((BATCH_SIZE, 1)),\n",
    "                                      sample_hidden, sample_output)\n",
    "\n",
    "print ('Decoder output shape: (batch_size, vocab size) {}'.format(sample_decoder_output.shape))"
   ]
  },
  {
   "cell_type": "code",
   "execution_count": 387,
   "id": "mediterranean-thought",
   "metadata": {},
   "outputs": [],
   "source": [
    "classifier = Classifier(BATCH_SIZE)"
   ]
  },
  {
   "cell_type": "code",
   "execution_count": 388,
   "id": "vocal-development",
   "metadata": {},
   "outputs": [],
   "source": [
    "optimizer = tf.keras.optimizers.Adam()\n",
    "\n",
    "loss_fn = tf.keras.losses.BinaryCrossentropy(\n",
    "    from_logits=False, label_smoothing=0, reduction=\"auto\", name=\"binary_crossentropy\"\n",
    ")"
   ]
  },
  {
   "cell_type": "code",
   "execution_count": 389,
   "id": "tough-tract",
   "metadata": {},
   "outputs": [],
   "source": [
    "@tf.autograph.experimental.do_not_convert\n",
    "def train_step(inp, targ, enc_hidden):\n",
    "    loss = 0\n",
    "\n",
    "    with tf.GradientTape() as tape:\n",
    "        enc_output, enc_hidden = encoder(inp, enc_hidden)\n",
    "        dec_hidden = enc_hidden\n",
    "        all_out_dec = []\n",
    "\n",
    "        # Teacher forcing - feeding the target as the next input\n",
    "        for t in range(0, inp.shape[1]):\n",
    "            dec_input = inp[:, t, :]\n",
    "            out_dec, dec_hidden, _ = decoder(dec_input, dec_hidden, enc_output)\n",
    "            \n",
    "            all_out_dec.append(out_dec)\n",
    "            \n",
    "        all_out_dec = tf.concat(all_out_dec, axis=-1)\n",
    "        prediction = classifier(all_out_dec)\n",
    "\n",
    "        loss = loss_fn(prediction, targ)\n",
    "        batch_loss = (loss / int(inp.shape[1]))\n",
    "        variables = encoder.trainable_variables + decoder.trainable_variables + classifier.trainable_variables\n",
    "        gradients = tape.gradient(loss, variables)\n",
    "        optimizer.apply_gradients(zip(gradients, variables))\n",
    "\n",
    "    return batch_loss, prediction"
   ]
  },
  {
   "cell_type": "code",
   "execution_count": 397,
   "id": "popular-execution",
   "metadata": {},
   "outputs": [
    {
     "name": "stdout",
     "output_type": "stream",
     "text": [
      "Epoch 1 Loss 0.04371343553066254 Acc 0.9396596550941467\n",
      "Time taken for 1 epoch 46.92895007133484 sec\n",
      "\n",
      "Epoch 2 Loss 0.019535483792424202 Acc 0.9396541118621826\n",
      "Time taken for 1 epoch 54.2650363445282 sec\n",
      "\n",
      "Epoch 3 Loss 0.01553440187126398 Acc 0.9538410902023315\n",
      "Time taken for 1 epoch 60.58668780326843 sec\n",
      "\n",
      "Epoch 4 Loss 0.015768110752105713 Acc 0.9601109623908997\n",
      "Time taken for 1 epoch 58.76879143714905 sec\n",
      "\n",
      "Epoch 5 Loss 0.012362102046608925 Acc 0.9636350274085999\n",
      "Time taken for 1 epoch 46.2893443107605 sec\n",
      "\n",
      "Epoch 6 Loss 0.013626608066260815 Acc 0.9667780995368958\n",
      "Time taken for 1 epoch 45.638553619384766 sec\n",
      "\n",
      "Epoch 7 Loss 0.014852236025035381 Acc 0.9681528806686401\n",
      "Time taken for 1 epoch 45.63822674751282 sec\n",
      "\n",
      "Epoch 8 Loss 0.05081391707062721 Acc 0.9670646786689758\n",
      "Time taken for 1 epoch 47.37821435928345 sec\n",
      "\n",
      "Epoch 9 Loss 0.03583740070462227 Acc 0.9604979157447815\n",
      "Time taken for 1 epoch 51.84011173248291 sec\n",
      "\n",
      "Epoch 10 Loss 0.016284482553601265 Acc 0.9607878923416138\n",
      "Time taken for 1 epoch 46.30239725112915 sec\n",
      "\n"
     ]
    }
   ],
   "source": [
    "EPOCHS = 10\n",
    "Acc_class = tf.keras.metrics.Accuracy(name=\"accuracy\", dtype=None)\n",
    "\n",
    "for epoch in range(EPOCHS):\n",
    "    start = time.time()\n",
    "\n",
    "    enc_hidden = encoder.initialize_hidden_state()\n",
    "    total_loss = 0\n",
    "    all_acc = []\n",
    "    \n",
    "    for (batch, (inp, targ)) in enumerate(dataset.take(steps_per_epoch)):\n",
    "        batch_loss, prediction = train_step(inp, targ, enc_hidden)\n",
    "        total_loss += batch_loss\n",
    "        acc_batch = Acc_class(np.round(prediction), targ)\n",
    "        all_acc.append(acc_batch)\n",
    "\n",
    "    print('Epoch {} Loss {} Acc {}'.format(epoch + 1, total_loss / steps_per_epoch, \n",
    "                                           np.mean(all_acc)))\n",
    "    print('Time taken for 1 epoch {} sec\\n'.format(time.time() - start))"
   ]
  },
  {
   "cell_type": "code",
   "execution_count": 391,
   "id": "august-digest",
   "metadata": {},
   "outputs": [],
   "source": [
    "def evaluate(sequence):\n",
    "    attention_plot = np.zeros((padding_length, padding_length))\n",
    "    hidden = [tf.zeros((1, units))]\n",
    "    enc_out, enc_hidden = encoder(sequence, hidden)\n",
    "\n",
    "    dec_hidden = enc_hidden\n",
    "    all_out_dec = []\n",
    "\n",
    "    for t in range(0, padding_length):\n",
    "        dec_input = sequence[:, t, :]\n",
    "        out_dec, dec_hidden, attention_weights = decoder(dec_input, dec_hidden, enc_out)\n",
    "        all_out_dec.append(out_dec)\n",
    "\n",
    "        # storing the attention weights to plot later on\n",
    "        attention_weights = tf.reshape(attention_weights, (-1, ))\n",
    "        attention_plot[t] = attention_weights.numpy()\n",
    "\n",
    "    all_out_dec = tf.concat(all_out_dec, axis=-1)\n",
    "    result = classifier(all_out_dec)\n",
    "\n",
    "    return result, sequence, attention_plot"
   ]
  },
  {
   "cell_type": "code",
   "execution_count": 392,
   "id": "composed-adapter",
   "metadata": {},
   "outputs": [],
   "source": [
    "# function for plotting the attention weights\n",
    "def plot_attention(attention, sentence, predicted_sentence):\n",
    "    fig = plt.figure(figsize=(10,10))\n",
    "    ax = fig.add_subplot(1, 1, 1)\n",
    "    ax.matshow(attention, cmap='viridis')\n",
    "\n",
    "    fontdict = {'fontsize': 14}\n",
    "\n",
    "    ax.set_xticklabels(np.roll(sentence, 1), fontdict=fontdict)\n",
    "    ax.set_yticklabels(np.roll(sentence, 1), fontdict=fontdict)\n",
    "\n",
    "    ax.xaxis.set_major_locator(ticker.MultipleLocator(1))\n",
    "    ax.yaxis.set_major_locator(ticker.MultipleLocator(1))\n",
    "\n",
    "    plt.show()"
   ]
  },
  {
   "cell_type": "code",
   "execution_count": 393,
   "id": "later-transformation",
   "metadata": {},
   "outputs": [
    {
     "name": "stdout",
     "output_type": "stream",
     "text": [
      "(20000, 25, 1)\n",
      "(10000, 25, 1)\n"
     ]
    }
   ],
   "source": [
    "print(data.shape)\n",
    "print(good_data.shape)"
   ]
  },
  {
   "cell_type": "code",
   "execution_count": 394,
   "id": "racial-going",
   "metadata": {},
   "outputs": [],
   "source": [
    "def get_attention(idx):\n",
    "    sequence = tf.expand_dims(good_data[idx], 0)\n",
    "\n",
    "    result, sentence, attention_plot = evaluate(sequence)\n",
    "    seq_numpy = sequence.numpy()\n",
    "    seq_numpy = seq_numpy.reshape(-1)\n",
    "    \n",
    "    plot_attention(attention_plot, seq_numpy, seq_numpy)"
   ]
  },
  {
   "cell_type": "code",
   "execution_count": 404,
   "id": "identified-guest",
   "metadata": {},
   "outputs": [
    {
     "name": "stderr",
     "output_type": "stream",
     "text": [
      "<ipython-input-392-02e7a5da5daf>:9: UserWarning: FixedFormatter should only be used together with FixedLocator\n",
      "  ax.set_xticklabels(np.roll(sentence, 1), fontdict=fontdict)\n",
      "<ipython-input-392-02e7a5da5daf>:10: UserWarning: FixedFormatter should only be used together with FixedLocator\n",
      "  ax.set_yticklabels(np.roll(sentence, 1), fontdict=fontdict)\n"
     ]
    },
    {
     "data": {
      "image/png": "[encoded data removed]",
      "text/plain": [
       "<Figure size 720x720 with 1 Axes>"
      ]
     },
     "metadata": {
      "needs_background": "light"
     },
     "output_type": "display_data"
    }
   ],
   "source": [
    "get_attention(idx=150)"
   ]
  },
  {
   "cell_type": "code",
   "execution_count": null,
   "id": "automated-consumer",
   "metadata": {},
   "outputs": [],
   "source": []
  }
 ],
 "metadata": {
  "kernelspec": {
   "display_name": "Python 3",
   "language": "python",
   "name": "python3"
  },
  "language_info": {
   "codemirror_mode": {
    "name": "ipython",
    "version": 3
   },
   "file_extension": ".py",
   "mimetype": "text/x-python",
   "name": "python",
   "nbconvert_exporter": "python",
   "pygments_lexer": "ipython3",
   "version": "3.8.8"
  }
 },
 "nbformat": 4,
 "nbformat_minor": 5
}
