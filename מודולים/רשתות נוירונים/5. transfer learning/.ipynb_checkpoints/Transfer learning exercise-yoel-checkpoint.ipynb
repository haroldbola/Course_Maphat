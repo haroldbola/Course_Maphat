{
 "cells": [
  {
   "cell_type": "markdown",
   "metadata": {},
   "source": [
    "## Remember to save this as a new notebook before you begin solving!!\n",
    "## Also remember to open the notebook through a virtual env that works well with keras"
   ]
  },
  {
   "cell_type": "markdown",
   "metadata": {},
   "source": [
    "### This exercise is meant to teach you how to a powerful, existing neural network for a new problem in a similar domain. This exercise should come after you have some experience with NN (not neccessarily extensive experience)\n",
    "\n",
    "The core of the exercise is downloading a trained NN for face classification, and using transfer learning techniques to solve a new problem. The new problem you will solve is classification of faces - automatic labeling of the different members of your family.\n",
    "\n",
    "### Authors: Philip Tannor, Gal Eyal"
   ]
  },
  {
   "cell_type": "markdown",
   "metadata": {},
   "source": [
    "# Creating your data "
   ]
  },
  {
   "cell_type": "markdown",
   "metadata": {},
   "source": [
    "In this exercise, you will get your hands dirty and create your own data:\n",
    "1. Start by creating a folder with many photos of yourself (between 100 and 300).\n",
    "2. Create similar folders for a number of roommates or family members (preferably people who live with you). Try to make sure the folders have similar amounts of photos in them.\n",
    "3. Use the python program cropall.py (*works on linux only!!*), which should be in the folder of this exercise, to crop out the faces from the different photos. You should create a x/y ratio of 3/4, don't demand a perfect pixel ratio, and change the x/y ratio to 4/3 when you have a rotated photo. I you're working correctly, you should only be using the mouse click, the mouse scroll, and Spacebar.\n",
    "4. Make sure to save the cropped photos of each person in a different folder. Notice that by default the crops will all go to the same folder, so find a way to deal with this manually."
   ]
  },
  {
   "cell_type": "markdown",
   "metadata": {},
   "source": [
    "# Imports and parameters\n",
    "\n",
    "We left this section almost exactly as it was were when we created the solution, just to save some time. Don't feel bonded by these libraries (or parameters)."
   ]
  },
  {
   "cell_type": "code",
   "execution_count": 1,
   "metadata": {
    "collapsed": true
   },
   "outputs": [],
   "source": [
    "import matplotlib.pyplot as plt\n",
    "%matplotlib inline"
   ]
  },
  {
   "cell_type": "code",
   "execution_count": 43,
   "metadata": {
    "collapsed": true,
    "scrolled": true
   },
   "outputs": [],
   "source": [
    "import numpy as np\n",
    "#These next 2 imports depend on the 'keras-vggface' folder in https://github.com/rcmalli/keras-vggface\n",
    "#Just in case the git won't be around, we put this folder in the directory you're working in.\n",
    "#Notice this if you move the notebook around.\n",
    "from keras_vggface import VGGFace\n",
    "from keras_vggface import utils\n",
    "from keras.preprocessing import image\n",
    "import keras\n",
    "import unittest\n",
    "import pandas as pd\n",
    "from os import listdir,path\n",
    "from sklearn.model_selection import train_test_split\n",
    "#This next import will help you with augmentation - generating augmented photos from your originals.\n",
    "#Read about this general teqnique, and also about \n",
    "from keras.preprocessing.image import ImageDataGenerator\n",
    "from keras.layers import Flatten, Dense\n",
    "from keras.models import Model"
   ]
  },
  {
   "cell_type": "code",
   "execution_count": 3,
   "metadata": {
    "collapsed": true
   },
   "outputs": [],
   "source": [
    "input_size=(224, 224)\n",
    "n_channels = 3"
   ]
  },
  {
   "cell_type": "code",
   "execution_count": 4,
   "metadata": {
    "collapsed": true
   },
   "outputs": [],
   "source": [
    "keras.backend.set_image_dim_ordering('tf')"
   ]
  },
  {
   "cell_type": "markdown",
   "metadata": {},
   "source": [
    "## Try testing one of the existing models.\n",
    "1. Create an instance of the VGGFace class you imported, and chose which model it will be using.\n",
    "2. Use keras.preprocessing.image to read the only picture in the 'image' file (fix the target size).\n",
    "3. Use vgg-keras.utils.preprocess_input for preprocessing the photo. You may have to expand the dimensions before this.\n",
    "4. Use the model to create a prediction for the image.\n",
    "5. Check how the model did. The guy you looked at should be indexed first.\n",
    "6. Restart the kernel and next time skip this section (so that you aren't wasting RAM)."
   ]
  },
  {
   "cell_type": "code",
   "execution_count": 5,
   "metadata": {
    "collapsed": true
   },
   "outputs": [],
   "source": []
  },
  {
   "cell_type": "markdown",
   "metadata": {},
   "source": [
    "## Reading and preprocessing the data you created\n",
    "create a DataFrame with 2 columns:\n",
    "1. The exact path of each image\n",
    "2. The label of each image\n",
    "\n",
    "Split this data into train and test sets"
   ]
  },
  {
   "cell_type": "code",
   "execution_count": 6,
   "metadata": {
    "collapsed": true
   },
   "outputs": [],
   "source": []
  },
  {
   "cell_type": "markdown",
   "metadata": {},
   "source": [
    "Now use iterate through the dataframes and read the images corresponding to each row (using keras.preprocessing.image). Save the images as numpy arrays, and once again use utils.preprocess_input to preprocess the arrays.\n",
    "Save the labels in 2 differet ways:\n",
    "1. Onehot encoding - for using a NN\n",
    "2. Serial number of the corresponding class (one number per label) - for using an SVM"
   ]
  },
  {
   "cell_type": "code",
   "execution_count": 8,
   "metadata": {
    "collapsed": true
   },
   "outputs": [],
   "source": []
  },
  {
   "cell_type": "markdown",
   "metadata": {},
   "source": [
    "Create an instance of keras.preprocessing.image.ImageDataGenerator, which will define how you will create augmentations of each original image you've created. Chose all the parameters on your own."
   ]
  },
  {
   "cell_type": "code",
   "execution_count": 12,
   "metadata": {
    "collapsed": true
   },
   "outputs": [],
   "source": []
  },
  {
   "cell_type": "markdown",
   "metadata": {},
   "source": [
    "# Finally - transfer learning. \n",
    "### This should be done with the keras functional API (not Sequential)\n",
    "1. Create an instance of VGGFace with the model of your choice. \n",
    "2. Examine the model's architechture using .summary(). Understand what it means to replace the last 2 dense layers (including the final softmax layer). \n",
    "3. Use .get_layer() to retrive the last layer which you want to keep in your new NN.\n",
    "4. Create the 2 new Dense layers which continue the previous pretrained layers (the last layer should have a softmax activation).\n",
    "5. Create a new model which the input of the original model as input, and outputs the new dense-softmax layer. You can use .input on the old model for this.\n",
    "6. Freeze all of the layers except the last 2 using .layers on the new model, and .trainable = False. This will stop you from training those layers.\n",
    "7. Compile the model ('adam' worked ok for us as an optimizer)."
   ]
  },
  {
   "cell_type": "code",
   "execution_count": 13,
   "metadata": {
    "collapsed": true
   },
   "outputs": [],
   "source": []
  },
  {
   "cell_type": "markdown",
   "metadata": {},
   "source": [
    "Now you're ready to train the model:\n",
    "1. Use .fit_generator() and not .fit(), since you'll be using the augmentor you created.\n",
    "2. Use .flow() on the instance of ImageDataGenerator as the first input. \n",
    "3. Choose a combination on batch_size(within .flow) and steps_per_epoch which will create a total number of images that you want per each epoch. \n",
    "4. Use validation data which isn't augmented.\n",
    "\n",
    "How well is it doing? We got an accuracy of 90%-95% percent (validation data) on photos on the 2 of us (just 2 classes)."
   ]
  },
  {
   "cell_type": "code",
   "execution_count": null,
   "metadata": {
    "collapsed": false
   },
   "outputs": [],
   "source": []
  },
  {
   "cell_type": "markdown",
   "metadata": {},
   "source": [
    "# Similar exercise with SVM\n",
    "1. Now create a new model which outputs the data from the last frozen layer. Use this model to create feature for each image.\n",
    "2. Create a SVM classifier using these features. We used sklearn.svm.SVC.\n",
    "3. Did this work better or less good? Evaluate using sklearn.metrics.classification_report or sklearn.metrics.accuracy_score.\n",
    "4. Try the same thing with the one-before-last layer."
   ]
  },
  {
   "cell_type": "code",
   "execution_count": null,
   "metadata": {
    "collapsed": false
   },
   "outputs": [],
   "source": []
  },
  {
   "cell_type": "markdown",
   "metadata": {},
   "source": [
    "# Congrats! You completed the exercise. \n",
    "# Bonus - use one of these models and a webcam to created a personalized security system for your house. This could easily send y"
   ]
  }
 ],
 "metadata": {
  "kernelspec": {
   "display_name": "Python 2",
   "language": "python",
   "name": "python2"
  },
  "language_info": {
   "codemirror_mode": {
    "name": "ipython",
    "version": 2.0
   },
   "file_extension": ".py",
   "mimetype": "text/x-python",
   "name": "python",
   "nbconvert_exporter": "python",
   "pygments_lexer": "ipython2",
   "version": "2.7.13"
  }
 },
 "nbformat": 4,
 "nbformat_minor": 0
}
