{
 "cells": [
  {
   "cell_type": "markdown",
   "metadata": {},
   "source": [
    "```In this exercise you will experience with an important and often neglected issue in the data scientist work - the train-test split. For a specific dataset we will examine different ways to split it and will understand the limitations and constraints we have to take when creating a good train-test split.```\n",
    "\n",
    "```~ Ittai Haran```"
   ]
  },
  {
   "cell_type": "code",
   "execution_count": null,
   "metadata": {
    "collapsed": true
   },
   "outputs": [],
   "source": [
    "import numpy as np\n",
    "import pandas as pd\n",
    "import networkx as nx\n",
    "import matplotlib.pyplot as plt\n",
    "%matplotlib inline\n",
    "\n",
    "def maps(func, lister): # if you hate python 3 as much as I do you might want to use this\n",
    "    return list(map(func, lister))"
   ]
  },
  {
   "cell_type": "markdown",
   "metadata": {},
   "source": [
    "```First, load the dataset. Notice that the dataset is made out of pairs of objects, where each row has the id of each object and the features related to it. How many different objects are there?\n",
    "We would like to describe the objects and the data using a specific data structure. What structure can best describe the objects and the relations between them (what two objects happen to be in the same sample)?```"
   ]
  },
  {
   "cell_type": "code",
   "execution_count": null,
   "metadata": {
    "collapsed": true
   },
   "outputs": [],
   "source": [
    "df_edges = pd.read_csv('data.csv')\n",
    "number_of_objects = len(set(df_edges['index_left'])+set(df_edges['index_right']))"
   ]
  },
  {
   "cell_type": "markdown",
   "metadata": {},
   "source": [
    "```Use networkx to create a graph describing the objects and the relations between them. How many connected components the graph has? Draw a histogram of their sizes. Are there any edges between left objects and right objects? That kind of graph is called a bipartite graph. For any graph computations, networkx is your friend, and it should be very easy.```"
   ]
  },
  {
   "cell_type": "code",
   "execution_count": null,
   "metadata": {
    "collapsed": true
   },
   "outputs": [],
   "source": [
    "graph = nx.Graph(list(zip(df_edges['index_left'], df_edges['index_right'])))\n",
    "print('number of connected compnents: ' + str(len(list(nx.connected_components(graph)))))\n",
    "plt.hist(maps(len, list(nx.connected_components(graph))), bins=50)\n",
    "plt.title('sizes of connected components')\n",
    "plt.xlabel('size')\n",
    "plt.ylabel('count')\n",
    "plt.show()\n",
    "\n",
    "print('number of objects seen both as left and right objects: ' + \n",
    "      str(len(set(df_edges['index_left']).intersection(df_edges['index_right'])))"
   ]
  },
  {
   "cell_type": "markdown",
   "metadata": {},
   "source": [
    "```In order to get a baseline model we will try to have predictions using only one object from each sample. Create a dataset containing only the left objects. Drop duplicates, so every object will appear only once.```"
   ]
  },
  {
   "cell_type": "code",
   "execution_count": 18,
   "metadata": {
    "collapsed": true
   },
   "outputs": [],
   "source": [
    "only_lefts = df_edges.drop_duplicates(subset=['index_left'])\\\n",
    ".drop(['index_right']+list(map(lambda x: 'feature_'+str(x)+'_right', range(1, 101))), axis=1)\n",
    "features_left = list(map(lambda x: 'feature_'+str(x)+'_left', range(1, 101)))"
   ]
  },
  {
   "cell_type": "markdown",
   "metadata": {},
   "source": [
    "```Split your data randomly with ratio 0.7-0.3. Train a simple model (a random forest, maybe?) to predict the target. Make sure your model isn't overfitted, and try to get the best score you can (on the test segment). Compare your results to a simple baseline - the mean of the target computed on the train segment.```"
   ]
  },
  {
   "cell_type": "code",
   "execution_count": null,
   "metadata": {
    "collapsed": true
   },
   "outputs": [],
   "source": [
    "from sklearn.model_selection import train_test_split\n",
    "X_train, X_test, Y_train, Y_test = train_test_split(only_lefts[features_left], only_lefts['target'],\n",
    "                                                    train_size = 0.7, test_size=0.3)"
   ]
  },
  {
   "cell_type": "code",
   "execution_count": 19,
   "metadata": {},
   "outputs": [
    {
     "name": "stdout",
     "output_type": "stream",
     "text": [
      "baseline mse on train: 10.885716744895277\n",
      "baseline mse on test: 10.539744043678267\n",
      "mse on train: 2.3947950392663064\n",
      "mse on test: 3.3657243148242006\n"
     ]
    }
   ],
   "source": [
    "from sklearn.ensemble import RandomForestRegressor\n",
    "from sklearn.metrics import mean_squared_error\n",
    "\n",
    "model = RandomForestRegressor(n_estimators=100, max_depth=10, min_samples_leaf=10, n_jobs=-1)\n",
    "model.fit(X_train, Y_train)\n",
    "print('baseline mse on train: {0}'.format(mean_squared_error(Y_train,np.mean(Y_train)*np.ones(len(Y_train)))))\n",
    "print('baseline mse on test: {0}'.format(mean_squared_error(Y_test,np.mean(Y_train)*np.ones(len(Y_test)))))\n",
    "print('mse on train: {0}'.format(mean_squared_error(Y_train, model.predict(X_train))))\n",
    "print('mse on test: {0}'.format(mean_squared_error(Y_test, model.predict(X_test))))"
   ]
  },
  {
   "cell_type": "code",
   "execution_count": 20,
   "metadata": {
    "scrolled": false
   },
   "outputs": [
    {
     "name": "stdout",
     "output_type": "stream",
     "text": [
      "2\n",
      "3\n",
      "4\n",
      "5\n",
      "6\n",
      "7\n",
      "8\n",
      "9\n",
      "10\n",
      "11\n",
      "12\n",
      "13\n",
      "14\n",
      "15\n",
      "16\n",
      "17\n",
      "18\n",
      "19\n"
     ]
    },
    {
     "data": {
      "image/png": "[encoded data removed]",
      "text/plain": [
       "<Figure size 432x288 with 1 Axes>"
      ]
     },
     "metadata": {},
     "output_type": "display_data"
    }
   ],
   "source": [
    "loss_train = []\n",
    "loss_test = []\n",
    "for i in range(2,20):\n",
    "    print(i)\n",
    "    model = RandomForestRegressor(n_estimators=100, max_depth=i, min_samples_leaf=10, n_jobs=-1)\n",
    "    model.fit(X_train, Y_train)\n",
    "    loss_train.append(mean_squared_error(Y_train, model.predict(X_train)))\n",
    "    loss_test.append(mean_squared_error(Y_test, model.predict(X_test)))\n",
    "    \n",
    "plt.plot(loss_train)\n",
    "plt.plot(loss_test)\n",
    "plt.xlabel('depth')\n",
    "plt.ylabel('loss')\n",
    "plt.legend(['train', 'test'])\n",
    "plt.show()"
   ]
  },
  {
   "cell_type": "markdown",
   "metadata": {},
   "source": [
    "```Repeat that process, only this use all of the sample, and not just the left object. Accordingly, you don't have to drop any duplicates. Use the naive train-test split. Did you get a good score on both train and test? why (or why not)? Do you think the score you got on the test corresponds to the \"real\" generalization error? why, or why not?```"
   ]
  },
  {
   "cell_type": "code",
   "execution_count": 21,
   "metadata": {
    "collapsed": true
   },
   "outputs": [],
   "source": [
    "features_right = list(map(lambda x: 'feature_'+str(x)+'_right', range(1, 101)))\n",
    "features_all = features_left + features_right"
   ]
  },
  {
   "cell_type": "code",
   "execution_count": 22,
   "metadata": {},
   "outputs": [
    {
     "name": "stdout",
     "output_type": "stream",
     "text": [
      "baseline mse on train: 9.142425406381328\n",
      "baseline mse on test: 9.01175697788043\n",
      "mse on train: 1.6453207494929756\n",
      "mse on test: 1.734125992304412\n"
     ]
    }
   ],
   "source": [
    "from sklearn.ensemble import RandomForestRegressor\n",
    "from sklearn.metrics import mean_squared_error\n",
    "from sklearn.model_selection import train_test_split\n",
    "\n",
    "X_train, X_test, Y_train, Y_test = train_test_split(df_edges[features_all], df_edges['target'],\n",
    "                                                    train_size = 0.7, test_size=0.3)\n",
    "\n",
    "model = RandomForestRegressor(n_estimators=100, max_depth=10, min_samples_leaf=10, n_jobs=-1)\n",
    "model.fit(X_train, Y_train)\n",
    "print('baseline mse on train: {0}'.format(mean_squared_error(Y_train,np.mean(Y_train)*np.ones(len(Y_train)))))\n",
    "print('baseline mse on test: {0}'.format(mean_squared_error(Y_test,np.mean(Y_train)*np.ones(len(Y_test)))))\n",
    "print('mse on train: {0}'.format(mean_squared_error(Y_train, model.predict(X_train))))\n",
    "print('mse on test: {0}'.format(mean_squared_error(Y_test, model.predict(X_test))))"
   ]
  },
  {
   "cell_type": "markdown",
   "metadata": {},
   "source": [
    "```We will now create a new train-test split, so that every connected component is contained either in the train segment or in the test segment. To do so, implement the following algorithm:```\n",
    "\n",
    "```while length(train_segment)<0.7*length(data):\n",
    "    choose randomly a sample s from the data (that is not in train_segment)\n",
    "    add the connected component containing s to the train_segment\n",
    "test_segment = data - train_segment```"
   ]
  },
  {
   "cell_type": "code",
   "execution_count": 26,
   "metadata": {
    "collapsed": true
   },
   "outputs": [],
   "source": [
    "edges_to_indexes = dict(zip(list(zip(df_edges['index_left'], df_edges['index_right'])), df_edges.index))\n",
    "nx.set_edge_attributes(graph, edges_to_indexes, name='edge_index')"
   ]
  },
  {
   "cell_type": "code",
   "execution_count": 27,
   "metadata": {
    "collapsed": true
   },
   "outputs": [],
   "source": [
    "all_connected_subgraphs = list(enumerate(nx.connected_component_subgraphs(graph)))"
   ]
  },
  {
   "cell_type": "code",
   "execution_count": 28,
   "metadata": {},
   "outputs": [
    {
     "name": "stdout",
     "output_type": "stream",
     "text": [
      "31980\n",
      "44146\n",
      "49717\n",
      "55778\n",
      "88402\n",
      "102616\n",
      "104753\n",
      "109000\n",
      "109602\n",
      "111159\n",
      "111247\n",
      "111954\n",
      "114493\n",
      "119012\n"
     ]
    }
   ],
   "source": [
    "train_index = []\n",
    "components_seen = []\n",
    "indexes_to_choose_from = list(df_edges.index)\n",
    "while len(train_index)<=0.7*len(df_edges):\n",
    "    place = np.random.choice(indexes_to_choose_from)\n",
    "    sample = df_edges.iloc[place]\n",
    "    num, connected_component = list(filter(lambda x: sample['index_left'] in list(x[1].nodes()), all_connected_subgraphs))[0]\n",
    "    components_seen.append(connected_component)\n",
    "    \n",
    "    \n",
    "    train_index.extend(list(map(lambda x: x['edge_index'], connected_component.edges().values())))\n",
    "    all_connected_subgraphs = list(filter(lambda x: x[0]!=num, all_connected_subgraphs))\n",
    "    \n",
    "    train_index = list(set(train_index))\n",
    "    \n",
    "    indexes_to_choose_from = list(set(indexes_to_choose_from)-set(train_index))\n",
    "    \n",
    "    print(len(train_index))\n",
    "    "
   ]
  },
  {
   "cell_type": "code",
   "execution_count": 29,
   "metadata": {},
   "outputs": [
    {
     "data": {
      "image/png": "[encoded data removed]",
      "text/plain": [
       "<Figure size 432x288 with 1 Axes>"
      ]
     },
     "metadata": {},
     "output_type": "display_data"
    }
   ],
   "source": [
    "from sklearn.ensemble import RandomForestRegressor\n",
    "from sklearn.metrics import mean_squared_error\n",
    "from sklearn.model_selection import train_test_split\n",
    "\n",
    "X_train, X_test, Y_train, Y_test = (df_edges[features_all].iloc[train_index],\n",
    "                                    df_edges[features_all].iloc[indexes_to_choose_from],\n",
    "                                    df_edges['target'].iloc[train_index],\n",
    "                                    df_edges['target'].iloc[indexes_to_choose_from])\n",
    "\n",
    "plt.hist(Y_train.values.reshape(-1).astype(float), bins=50, alpha=0.5)\n",
    "plt.hist(Y_test.values.reshape(-1).astype(float), bins=50, alpha=0.5)\n",
    "plt.title('target distribution')\n",
    "plt.xlabel('target')\n",
    "plt.ylabel('count')\n",
    "plt.legend(['train', 'test'])\n",
    "plt.show()"
   ]
  },
  {
   "cell_type": "markdown",
   "metadata": {},
   "source": [
    "```Train a good model using your train segment. What is the best score you can get on your test? What is the problem with the train-test split method we used? Hint: How many connected components are there in the train segment, and how many are in the test segment? Examine also the distribution of the target, both in the train and in the test. Do they look the same?```"
   ]
  },
  {
   "cell_type": "code",
   "execution_count": 33,
   "metadata": {},
   "outputs": [
    {
     "name": "stdout",
     "output_type": "stream",
     "text": [
      "4.717770954687669 13.67180631056352\n",
      "4.1938029903810365 12.477989796131823\n",
      "3.5855692810838002 11.13774233837931\n",
      "2.932883815101297 9.898608448475128\n",
      "2.3791037845731595 8.66959056301838\n",
      "1.8466732850255605 7.682978992851859\n",
      "1.4653532168879466 7.052798738064851\n",
      "1.1611604230675379 6.4965170512030594\n",
      "0.9244634054358645 6.019457935499921\n",
      "0.7703822540923326 5.7833015275752695\n",
      "0.6429982853913535 5.531680227938432\n",
      "0.5494176534898906 5.306649765202517\n"
     ]
    }
   ],
   "source": [
    "loss_train = []\n",
    "loss_test = []\n",
    "for depth in range(2,14):\n",
    "    model = RandomForestRegressor(n_estimators=100, max_depth=depth, min_samples_leaf=10, n_jobs=-1)\n",
    "    model.fit(X_train, Y_train)\n",
    "    loss_train.append(mean_squared_error(Y_train, model.predict(X_train)))\n",
    "    loss_test.append(mean_squared_error(Y_test, model.predict(X_test)))\n",
    "    print(loss_train[-1], loss_test[-1])"
   ]
  },
  {
   "cell_type": "code",
   "execution_count": 34,
   "metadata": {},
   "outputs": [
    {
     "data": {
      "image/png": "[encoded data removed]",
      "text/plain": [
       "<Figure size 432x288 with 1 Axes>"
      ]
     },
     "metadata": {},
     "output_type": "display_data"
    }
   ],
   "source": [
    "plt.plot(range(2,14), loss_train)\n",
    "plt.plot(range(2,14), loss_test)\n",
    "plt.xlabel('depth')\n",
    "plt.ylabel('loss')\n",
    "plt.legend(['train', 'test'])\n",
    "plt.show()"
   ]
  },
  {
   "cell_type": "markdown",
   "metadata": {},
   "source": [
    "```Do the train-test split again, only this time make sure you have ~0.7 of the connected components in your train segment. That is, implement the following algorithm:```\n",
    "\n",
    "```while length(train_segment)<0.7*length(data):\n",
    "    choose randomly a connected component c from the graph\n",
    "    add c to the train_segment\n",
    "test_segment = data-train_segment```"
   ]
  },
  {
   "cell_type": "code",
   "execution_count": 35,
   "metadata": {},
   "outputs": [
    {
     "name": "stdout",
     "output_type": "stream",
     "text": [
      "103\n"
     ]
    }
   ],
   "source": [
    "all_connected_subgraphs = shuffle(list(enumerate(nx.connected_component_subgraphs(graph))))\n",
    "all_connected_subgraphs_lengths = np.cumsum(list(map(lambda x: len(x[1].edges()), all_connected_subgraphs)))\n",
    "all_connected_subgraphs_lengths = np.array(all_connected_subgraphs_lengths)/float(all_connected_subgraphs_lengths[-1])\n",
    "place_cut_off = np.argmax(all_connected_subgraphs_lengths>0.7)+1\n",
    "print(place_cut_off)"
   ]
  },
  {
   "cell_type": "code",
   "execution_count": 36,
   "metadata": {
    "collapsed": true
   },
   "outputs": [],
   "source": [
    "train_index = [item for sublist in\n",
    " maps(lambda x: maps(lambda y: y['edge_index'], x[1].edges().values()), all_connected_subgraphs[:place_cut_off])\n",
    " for item in sublist]\n",
    "indexes_to_choose_from = list(set(list(df_edges.index)) - set(train_index))"
   ]
  },
  {
   "cell_type": "code",
   "execution_count": 37,
   "metadata": {
    "collapsed": true
   },
   "outputs": [],
   "source": [
    "from sklearn.ensemble import RandomForestRegressor\n",
    "from sklearn.metrics import mean_squared_error\n",
    "from sklearn.model_selection import train_test_split\n",
    "\n",
    "X_train, X_test, Y_train, Y_test = (df_edges[features_all].iloc[train_index],\n",
    "                                    df_edges[features_all].iloc[indexes_to_choose_from],\n",
    "                                    df_edges['target'].iloc[train_index],\n",
    "                                    df_edges['target'].iloc[indexes_to_choose_from])"
   ]
  },
  {
   "cell_type": "markdown",
   "metadata": {},
   "source": [
    "```What part of the connected components you have in your train segment this time? Try also look again at the distribution of the target in the two segments.```"
   ]
  },
  {
   "cell_type": "code",
   "execution_count": 39,
   "metadata": {},
   "outputs": [
    {
     "name": "stderr",
     "output_type": "stream",
     "text": [
      "C:\\Users\\MMM\\AppData\\Local\\conda\\conda\\envs\\python3_ittai\\lib\\site-packages\\matplotlib\\axes\\_axes.py:6462: UserWarning: The 'normed' kwarg is deprecated, and has been replaced by the 'density' kwarg.\n",
      "  warnings.warn(\"The 'normed' kwarg is deprecated, and has been \"\n"
     ]
    },
    {
     "data": {
      "image/png": "[encoded data removed]",
      "text/plain": [
       "<Figure size 432x288 with 1 Axes>"
      ]
     },
     "metadata": {},
     "output_type": "display_data"
    }
   ],
   "source": [
    "print('part of connected components: ' + str((place_cut_off)/len(all_connected_subgraphs_lengths)))\n",
    "plt.hist(Y_train.values.reshape(-1).astype(float), bins=50, alpha=0.5, normed=1)\n",
    "plt.hist(Y_test.values.reshape(-1).astype(float), bins=50, alpha=0.5, normed=1)\n",
    "plt.title('target distribution')\n",
    "plt.xlabel('target')\n",
    "plt.ylabel('count')\n",
    "plt.legend(['train', 'test'])\n",
    "plt.show()"
   ]
  },
  {
   "cell_type": "markdown",
   "metadata": {},
   "source": [
    "```Train a good model using you train segment. What is the best score you can get on your test? Did you get a better score? why?```"
   ]
  },
  {
   "cell_type": "code",
   "execution_count": 40,
   "metadata": {},
   "outputs": [
    {
     "name": "stdout",
     "output_type": "stream",
     "text": [
      "6.0639327315481335 8.243992569169963\n",
      "5.405643497162096 7.494453981894873\n",
      "4.756241414536968 6.468729096360071\n",
      "4.002063891014853 5.669813557528426\n",
      "3.2866486310512437 4.957485978223889\n",
      "2.719287882945254 4.578544644454387\n",
      "2.2170435181484636 4.081843400471501\n",
      "1.771168887563158 3.718945586536394\n",
      "1.4085583291613957 3.348699713020193\n",
      "1.139498285916937 3.109447794716921\n",
      "0.9491447101082882 2.9942456547551104\n",
      "0.7800895786829217 2.8163896203080587\n",
      "0.6649546848422234 2.737602283549278\n",
      "0.5722034378578245 2.6848632341680063\n",
      "0.49488448690505266 2.5866166720618544\n",
      "0.43084554370025097 2.5449411661103643\n"
     ]
    }
   ],
   "source": [
    "loss_train = []\n",
    "loss_test = []\n",
    "for depth in range(2,18):\n",
    "    model = RandomForestRegressor(n_estimators=100, max_depth=depth, min_samples_leaf=10, n_jobs=-1)\n",
    "    model.fit(X_train, Y_train)\n",
    "    loss_train.append(mean_squared_error(Y_train, model.predict(X_train)))\n",
    "    loss_test.append(mean_squared_error(Y_test, model.predict(X_test)))\n",
    "    print(loss_train[-1], loss_test[-1])\n",
    "    \n",
    "# print('baseline mse on train: {0}'.format(mean_squared_error(Y_train,np.mean(Y_train)*np.ones(len(Y_train)))))\n",
    "# print('baseline mse on test: {0}'.format(mean_squared_error(Y_test,np.mean(Y_train)*np.ones(len(Y_test)))))\n",
    "# print('mse on train: {0}'.format(mean_squared_error(Y_train, model.predict(X_train))))\n",
    "# print('mse on test: {0}'.format(mean_squared_error(Y_test, model.predict(X_test))))"
   ]
  },
  {
   "cell_type": "code",
   "execution_count": 45,
   "metadata": {},
   "outputs": [
    {
     "data": {
      "image/png": "[encoded data removed]",
      "text/plain": [
       "<Figure size 432x288 with 1 Axes>"
      ]
     },
     "metadata": {},
     "output_type": "display_data"
    }
   ],
   "source": [
    "plt.plot(range(2,18), loss_train)\n",
    "plt.plot(range(2,18), loss_test)\n",
    "plt.xlabel('depth')\n",
    "plt.ylabel('loss')\n",
    "plt.legend(['train', 'test'])\n",
    "plt.show()"
   ]
  },
  {
   "cell_type": "markdown",
   "metadata": {},
   "source": [
    "```Bonus: the data for this exercise was uniquely generated, using MNIST (what? how???). Can you generate a similar dataset? What parameters control this problem? Explain how it can be done.```"
   ]
  },
  {
   "cell_type": "markdown",
   "metadata": {},
   "source": [
    "## generate data"
   ]
  },
  {
   "cell_type": "code",
   "execution_count": 1,
   "metadata": {
    "collapsed": true
   },
   "outputs": [],
   "source": [
    "import numpy as np\n",
    "import pandas as pd\n",
    "import networkx as nx\n",
    "import matplotlib.pyplot as plt\n",
    "%matplotlib inline\n",
    "\n",
    "def maps(func, lister):\n",
    "    return list(map(func, lister))"
   ]
  },
  {
   "cell_type": "code",
   "execution_count": 2,
   "metadata": {
    "collapsed": true
   },
   "outputs": [],
   "source": [
    "count_1 = 12000\n",
    "count_2 = 6000\n",
    "connected_count = 200\n",
    "\n",
    "vertices_1 = list(map(lambda x: str(x)+'_1', list(range(count_1))))\n",
    "vertices_2 = list(map(lambda x: str(x)+'_2', list(range(count_2))))\n",
    "all_vertices = vertices_1 + vertices_2"
   ]
  },
  {
   "cell_type": "code",
   "execution_count": 3,
   "metadata": {
    "collapsed": true
   },
   "outputs": [],
   "source": [
    "probas_1 = np.linspace(0,1,len(vertices_1))**1.1\n",
    "probas_1 = probas_1/float(sum(probas_1))\n",
    "\n",
    "probas_2 = np.linspace(0,1,len(vertices_2))**1.1\n",
    "probas_2 = probas_2/float(sum(probas_2))\n",
    "\n",
    "indexes_cut_off_1 = sorted(np.random.choice(list(range(len(vertices_1))), size = connected_count, replace=False, p=probas_1))\n",
    "indexes_cut_off_2 = sorted(np.random.choice(list(range(len(vertices_2))), size = connected_count, replace=False, p=probas_2))"
   ]
  },
  {
   "cell_type": "code",
   "execution_count": 4,
   "metadata": {
    "collapsed": true
   },
   "outputs": [],
   "source": [
    "vertices_1_groups = []\n",
    "for i,j in zip([0]+indexes_cut_off_1, indexes_cut_off_1):\n",
    "    vertices_1_groups.append(vertices_1[i:j])\n",
    "    \n",
    "vertices_2_groups = []\n",
    "for i,j in zip([0]+indexes_cut_off_2, indexes_cut_off_2):\n",
    "    vertices_2_groups.append(vertices_2[i:j])\n",
    "    \n",
    "p = 0.3\n",
    "edges = []\n",
    "for vert_1, vert_2 in zip(vertices_1_groups, vertices_2_groups):\n",
    "    edges_count = int(len(vert_1)*len(vert_2)*p)\n",
    "    edges.extend(list(zip(np.random.choice(vert_1, edges_count), np.random.choice(vert_2, edges_count))))"
   ]
  },
  {
   "cell_type": "code",
   "execution_count": 6,
   "metadata": {
    "collapsed": true
   },
   "outputs": [],
   "source": [
    "graph = nx.Graph(edges)\n",
    "all_vertices = [item for sublist in map(list, sorted(list(nx.connected_components(graph)), key=lambda x: -len(x))) for item in sublist]"
   ]
  },
  {
   "cell_type": "code",
   "execution_count": 7,
   "metadata": {},
   "outputs": [
    {
     "data": {
      "image/png": "[encoded data removed]",
      "text/plain": [
       "<Figure size 432x288 with 1 Axes>"
      ]
     },
     "metadata": {},
     "output_type": "display_data"
    },
    {
     "data": {
      "image/png": "[encoded data removed]",
      "text/plain": [
       "<Figure size 432x288 with 1 Axes>"
      ]
     },
     "metadata": {},
     "output_type": "display_data"
    }
   ],
   "source": [
    "plt.hist(list(map(len, list(nx.connected_components(graph)))), bins=50)\n",
    "plt.title('histogram of the number of nodes in every conencted component')\n",
    "plt.show()\n",
    "\n",
    "plt.hist(list(map(lambda x: len(x.edges()), list(nx.connected_component_subgraphs(graph)))), bins=50)\n",
    "plt.title('histogram of the number of edges in every conencted component')\n",
    "plt.show()"
   ]
  },
  {
   "cell_type": "code",
   "execution_count": 9,
   "metadata": {
    "collapsed": true
   },
   "outputs": [],
   "source": [
    "from keras.datasets import mnist\n",
    "import skimage.measure\n",
    "df = mnist.load_data()\n",
    "\n",
    "(x_train, y_train), (x_test, y_test) = df\n",
    "x_train = skimage.measure.block_reduce(x_train, (1,3,3), np.max)\n",
    "\n",
    "all_images = x_train.reshape(x_train.shape[0], 10**2)\n",
    "all_images = all_images[:len(all_vertices)]\n",
    "y_train = y_train[:len(all_vertices)]"
   ]
  },
  {
   "cell_type": "code",
   "execution_count": 11,
   "metadata": {
    "collapsed": true
   },
   "outputs": [],
   "source": [
    "ps = 5*((y_train)/float(max(y_train)))+1\n",
    "ps = np.random.random(len(ps))**ps\n",
    "\n",
    "all_images_and_y_train = sorted(list(zip(all_images, y_train, ps)), key=lambda x: x[2])\n",
    "all_images = np.array(list(map(lambda x: x[0], all_images_and_y_train)))\n",
    "y_train = np.array(list(map(lambda x: x[1], all_images_and_y_train)))"
   ]
  },
  {
   "cell_type": "code",
   "execution_count": 12,
   "metadata": {
    "collapsed": true
   },
   "outputs": [],
   "source": [
    "features_vertices = pd.DataFrame(all_images, columns = list(map(lambda x: 'feature_'+str(x), range(1, all_images.shape[1]+1))))\n",
    "features_vertices['index'] = all_vertices\n",
    "features_vertices['result_single'] = features_vertices['index'].apply(lambda x: 1 if x.endswith('1') else 0.4)*y_train"
   ]
  },
  {
   "cell_type": "code",
   "execution_count": 14,
   "metadata": {
    "collapsed": true
   },
   "outputs": [],
   "source": [
    "features_vertices = features_vertices.set_index('index')\n",
    "df_edges_left = features_vertices.loc[list(map(lambda x: x[0], edges))].reset_index()\n",
    "df_edges_right = features_vertices.loc[list(map(lambda x: x[1], edges))].reset_index()\n",
    "\n",
    "df_edges_left.columns = list(map(lambda x: x+'_left', df_edges_left.columns))\n",
    "df_edges_right.columns = list(map(lambda x: x+'_right', df_edges_right.columns))"
   ]
  },
  {
   "cell_type": "code",
   "execution_count": 15,
   "metadata": {
    "collapsed": true
   },
   "outputs": [],
   "source": [
    "df_edges = pd.DataFrame(np.concatenate([df_edges_left.values, df_edges_right.values], axis=1),\n",
    "                        columns = list(df_edges_left.columns)+list(df_edges_right.columns))\n",
    "df_edges['target'] = df_edges['result_single_left']+df_edges['result_single_right']\n",
    "df_edges = df_edges.drop(['result_single_left', 'result_single_right'], axis=1)\n",
    "\n",
    "cols = list(df_edges.columns)\n",
    "cols.remove('index_left')\n",
    "cols.remove('index_right')\n",
    "df_edges = df_edges[['index_left', 'index_right'] + cols]\n",
    "\n",
    "from sklearn.utils import shuffle\n",
    "df_edges = shuffle(df_edges)\n",
    "df_edges = df_edges.drop_duplicates()\n",
    "df_edges.index = list(range(len(df_edges)))"
   ]
  },
  {
   "cell_type": "code",
   "execution_count": 17,
   "metadata": {
    "collapsed": true
   },
   "outputs": [],
   "source": [
    "df_edges.to_csv('bi_partite_graph.csv')"
   ]
  }
 ],
 "metadata": {
  "kernelspec": {
   "display_name": "Python 3",
   "language": "python",
   "name": "python3"
  },
  "language_info": {
   "codemirror_mode": {
    "name": "ipython",
    "version": 3
   },
   "file_extension": ".py",
   "mimetype": "text/x-python",
   "name": "python",
   "nbconvert_exporter": "python",
   "pygments_lexer": "ipython3",
   "version": "3.8.5"
  }
 },
 "nbformat": 4,
 "nbformat_minor": 2
}
