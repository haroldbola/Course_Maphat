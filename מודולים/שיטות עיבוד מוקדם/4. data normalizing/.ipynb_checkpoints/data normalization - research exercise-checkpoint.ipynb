{
 "cells": [
  {
   "cell_type": "markdown",
   "metadata": {},
   "source": [
    "# Normalization research\n",
    "\n",
    "```Read the following ideas about data normalization. Use the data given to you to demonstrate these ideas on a real dataset.```\n",
    "\n",
    "```Why use normalization?```\n",
    "- ```Normalization before using any dimensionality reduction algorithm (for example, PCA), is extremely important.```\n",
    "- ```You might want to use different normalizers when using different kinds of clustering methods. For example, when expecting to find 'long' (elliptic) clusters while using Kmeans, you should normalize the data so the clusters will be more \"round\". What can you do when clusters have different \"orientation\" in the vector space?```\n",
    "- ```Normalize the data before training. You can hope to achieve two purposes:```\n",
    "    - ```Get rid of anomalies, usually by clipping of some sort.```\n",
    "    - ```Scale the data to fit into algorithms such as linear regression or neural network.```\n",
    "    \n",
    "```Normalizing methods I would recommend to examine:```\n",
    "- ```sklearn.preprocessing.StandardScaler```\n",
    "- ```sklearn.preprocessing.MinMaxScaler```\n",
    "- ```np.clip```\n",
    "- ```np.log10```\n",
    "- ```df.rank()/float(len(df)) (percentiles normalization, or transforming into a uniform distribution)```\n",
    "\n",
    "```Try thinking about normalization as methods to change the distribution of your data. What kinds of distributions would you rather work with? Can you think of disadvantages of changing the distribution (think about data which is clustered)?```\n",
    "\n",
    "```Think about the natural way to compute distance between two \"points in a distribution\". How can you use normalization to compute the distance fast?```\n",
    "\n",
    "~```Ittai Haran```"
   ]
  },
  {
   "cell_type": "code",
   "execution_count": null,
   "metadata": {
    "collapsed": true
   },
   "outputs": [],
   "source": [
    "df = pd.read_csv('resources/data.csv')"
   ]
  },
  {
   "cell_type": "code",
   "execution_count": null,
   "metadata": {
    "collapsed": true
   },
   "outputs": [],
   "source": []
  }
 ],
 "metadata": {
  "kernelspec": {
   "display_name": ".python3_ittai",
   "language": "python",
   "name": ".python3_ittai"
  },
  "language_info": {
   "codemirror_mode": {
    "name": "ipython",
    "version": 2
   },
   "file_extension": ".py",
   "mimetype": "text/x-python",
   "name": "python",
   "nbconvert_exporter": "python",
   "pygments_lexer": "ipython2",
   "version": "2.7.13"
  }
 },
 "nbformat": 4,
 "nbformat_minor": 2
}
