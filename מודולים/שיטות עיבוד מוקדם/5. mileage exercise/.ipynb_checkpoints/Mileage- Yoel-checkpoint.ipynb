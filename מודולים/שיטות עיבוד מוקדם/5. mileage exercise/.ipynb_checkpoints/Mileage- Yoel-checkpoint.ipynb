{
 "cells": [
  {
   "cell_type": "markdown",
   "metadata": {},
   "source": [
    "# Mileage Exercise"
   ]
  },
  {
   "cell_type": "code",
   "execution_count": 1334,
   "metadata": {
    "collapsed": false
   },
   "outputs": [],
   "source": [
    "import numpy as np\n",
    "import pandas as pd\n",
    "import os\n",
    "import matplotlib.pyplot as plt\n",
    "from sklearn.model_selection import train_test_split\n",
    "from xgboost import XGBClassifier, XGBRegressor\n",
    "from lightgbm import LGBMClassifier, LGBMRegressor\n",
    "from sklearn.metrics import auc,accuracy_score, mean_squared_error as mse, log_loss\n",
    "from sklearn.model_selection import KFold\n",
    "from catboost import CatBoostClassifier, CatBoostRegressor\n",
    "from scipy.io import arff\n",
    "from sklearn.preprocessing import OneHotEncoder"
   ]
  },
  {
   "cell_type": "code",
   "execution_count": 1335,
   "metadata": {
    "collapsed": false
   },
   "outputs": [],
   "source": [
    "n_estimators = 30\n",
    "xgb_reg = XGBRegressor(n_estimators= n_estimators)\n",
    "lgbm_reg = LGBMRegressor(n_estimators=n_estimators)\n",
    "cat_reg = CatBoostRegressor(iterations=n_estimators)\n",
    "xgb_cls = XGBClassifier(n_estimators=n_estimators) #, objective='multi:logistic') binary:logistic\n",
    "lgbm_cls = LGBMClassifier(n_estimators=n_estimators, metric= 'multi_logloss')\n",
    "cat_cls = CatBoostClassifier(iterations=n_estimators) #classes_count= len(set(target))"
   ]
  },
  {
   "cell_type": "code",
   "execution_count": 1336,
   "metadata": {
    "collapsed": false
   },
   "outputs": [],
   "source": [
    "path_regerssion = './datasets/regression/'\n",
    "path_classification = './datasets/classification/'"
   ]
  },
  {
   "cell_type": "code",
   "execution_count": 1337,
   "metadata": {
    "collapsed": false
   },
   "outputs": [],
   "source": [
    "# df_results = pd.DataFrame(columns = ['original_results', 'xgb_train', 'xgb_test', 'lgb_train', 'lgb_test', 'cat_train', 'cat_test'])"
   ]
  },
  {
   "cell_type": "code",
   "execution_count": 1338,
   "metadata": {
    "collapsed": false
   },
   "outputs": [],
   "source": [
    "# read all kinds of files in path\n",
    "def read_file_by_kind(path):\n",
    "    file_kind = file.split('.')[-1]\n",
    "    if file_kind in ('csv', 'txt'):\n",
    "        df = pd.read_csv(path + file)\n",
    "    elif file_kind == 'arff':\n",
    "        df = pd.DataFrame(arff.loadarff(path+file)[0])\n",
    "    elif file_kind in ('data', 'dat', 'trn'):\n",
    "        df = pd.read_table(path+file, delimiter=' ')\n",
    "    elif file_kind in ('xls', 'xlsx'):\n",
    "        df = pd.read_excel(path_classification + file)\n",
    "    else:\n",
    "        df= pd.DataFrame()\n",
    "    return df"
   ]
  },
  {
   "cell_type": "code",
   "execution_count": 1339,
   "metadata": {
    "collapsed": false
   },
   "outputs": [],
   "source": [
    "# read all regression files\n",
    "original_reg_df = []\n",
    "for directory in os.listdir(path_regerssion):\n",
    "    path = path_regerssion + directory +'/'\n",
    "    for file in os.listdir(path):\n",
    "        original_reg_df.append((read_file_by_kind(path), file))"
   ]
  },
  {
   "cell_type": "code",
   "execution_count": 1340,
   "metadata": {
    "collapsed": false,
    "scrolled": true
   },
   "outputs": [],
   "source": [
    "# read all classification files\n",
    "original_cls_df = []\n",
    "for file in os.listdir(path_classification):\n",
    "    original_cls_df.append((read_file_by_kind(path_classification), file))"
   ]
  },
  {
   "cell_type": "code",
   "execution_count": 1341,
   "metadata": {
    "collapsed": false
   },
   "outputs": [],
   "source": [
    "# run all models (regresionqclassification) on df and return scores\n",
    "def all_models_score(df, target, predict_kind, verbose= 0):\n",
    "    # predict_kind- regression/classification\n",
    "    \n",
    "    score_train= [[],[],[]]\n",
    "    score_test = [[],[],[]]\n",
    "    kf = KFold(n_splits= 5, shuffle= True)\n",
    "    \n",
    "    # classification models\n",
    "    if predict_kind == 'cls':\n",
    "        num_classes = len(set(target.values.flatten()))\n",
    "        # init cls models\n",
    "        cat_cls = CatBoostClassifier(iterations= n_estimators, classes_count= num_classes, loss_function= 'MultiClass')\n",
    "        xgb_cls = XGBClassifier(n_estimators=n_estimators)\n",
    "        lgbm_cls = LGBMClassifier(n_estimators=n_estimators, metric= 'multi_logloss')\n",
    "        \n",
    "        #define models array to be classification\n",
    "        models = [xgb_cls, lgbm_cls, cat_cls]\n",
    "        models_name = ['xgb_cls', 'lgbm_cls', 'cat_cls']\n",
    "        metric = log_loss\n",
    "        \n",
    "    # regression models\n",
    "    else:\n",
    "        #define models array to be regression\n",
    "        models = [xgb_reg, lgbm_reg, cat_reg]\n",
    "        models_name = ['xgb_reg', 'lgbm_reg', 'cat_reg']\n",
    "        metric = mse\n",
    "    \n",
    "    # K FOlD (=5)\n",
    "    for train_idx, test_idx in kf.split(df):\n",
    "\n",
    "        # train test split (every fold)\n",
    "        train, test, target_train, target_test =  df.iloc[train_idx].values, df.iloc[test_idx].values,\\\n",
    "                    target.iloc[train_idx].values, target.iloc[test_idx].values\n",
    "        target_train = target_train.reshape(len(target_train),)\n",
    "        \n",
    "        # fit and predict    \n",
    "        for i in range(len(models)):\n",
    "            models[i].fit(train, target_train, verbose= False)\n",
    "            if predict_kind == 'cls':\n",
    "                prd_trn = models[i].predict_proba(train)\n",
    "                prd_tst = models[i].predict_proba(test)\n",
    "            else:\n",
    "                prd_trn = models[i].predict(train)\n",
    "                prd_tst = models[i].predict(test)\n",
    "            \n",
    "            score_train[i].append(metric(target_train,prd_trn))\n",
    "            score_test[i].append(metric(target_test, prd_tst))\n",
    "    \n",
    "    # calculate mean scores\n",
    "    means_train = [round(np.mean(scr),3) for scr in score_train]\n",
    "    means_test = [round(np.mean(scr),3) for scr in score_test]\n",
    "\n",
    "    # print scores (by function input)\n",
    "    if verbose != 0:\n",
    "        for i in range(len(models)):\n",
    "            print('{} avg log_loss train: {:.3f}'.format(models_name[i], means_train[i]))\n",
    "            print('{} avg log_loss test: {:.3f}'.format(models_name[i], means_test[i]))\n",
    "        if predict_kind != 'cls':\n",
    "            print('Target Variance is: {:.3f}'.format(np.std(target.values)**2))\n",
    "            \n",
    "    return means_train+means_test"
   ]
  },
  {
   "cell_type": "code",
   "execution_count": 1342,
   "metadata": {
    "collapsed": true
   },
   "outputs": [],
   "source": [
    "# init processed DF\n",
    "reg_all_df = []\n",
    "cls_all_df = []"
   ]
  },
  {
   "cell_type": "code",
   "execution_count": 1343,
   "metadata": {
    "collapsed": true
   },
   "outputs": [],
   "source": [
    "def my_categorize(df):\n",
    "    # one hot (get_dummies) for categorical columns\n",
    "    cols_to_convert= [col for col in df.columns[df.dtypes == object]]\n",
    "    return pd.get_dummies(df, dummy_na= True ,columns= cols_to_convert)"
   ]
  },
  {
   "cell_type": "code",
   "execution_count": 1344,
   "metadata": {
    "collapsed": true
   },
   "outputs": [],
   "source": [
    "def get_all_scores():\n",
    "    \n",
    "    performance_df = pd.DataFrame(columns= ['xgb_train', 'lgbm_train', 'cat_train', 'xgb_test', 'lgbm_test', 'cat_test'])\n",
    "    \n",
    "    # regression scores\n",
    "    for file_idx in range(len(reg_all_df)):\n",
    "        performance_df.loc[original_reg_df[file_idx][1]] = all_models_score(reg_all_df[file_idx][0],\\\n",
    "                                                                            reg_all_df[file_idx][1], 'reg', verbose= 0)\n",
    "        print(original_reg_df[file_idx][1])\n",
    "    \n",
    "    # classification scores\n",
    "    for file_idx in range(len(cls_all_df)):\n",
    "        performance_df.loc[original_cls_df[file_idx][1]] = all_models_score(cls_all_df[file_idx][0],\\\n",
    "                                                                            cls_all_df[file_idx][1], 'cls', verbose= 0)\n",
    "        print(original_cls_df[file_idx][1])\n",
    "        \n",
    "    return performance_df"
   ]
  },
  {
   "cell_type": "markdown",
   "metadata": {},
   "source": [
    "# Regression"
   ]
  },
  {
   "cell_type": "markdown",
   "metadata": {},
   "source": [
    "### 0- autoHorse.arff"
   ]
  },
  {
   "cell_type": "code",
   "execution_count": 1345,
   "metadata": {
    "collapsed": true
   },
   "outputs": [],
   "source": [
    "df = original_reg_df[0][0]"
   ]
  },
  {
   "cell_type": "code",
   "execution_count": 1346,
   "metadata": {
    "collapsed": false
   },
   "outputs": [
    {
     "data": {
      "text/html": [
       "<div>\n",
       "<style scoped>\n",
       "    .dataframe tbody tr th:only-of-type {\n",
       "        vertical-align: middle;\n",
       "    }\n",
       "\n",
       "    .dataframe tbody tr th {\n",
       "        vertical-align: top;\n",
       "    }\n",
       "\n",
       "    .dataframe thead th {\n",
       "        text-align: right;\n",
       "    }\n",
       "</style>\n",
       "<table border=\"1\" class=\"dataframe\">\n",
       "  <thead>\n",
       "    <tr style=\"text-align: right;\">\n",
       "      <th></th>\n",
       "      <th>symboling</th>\n",
       "      <th>normalized-losses</th>\n",
       "      <th>make</th>\n",
       "      <th>fuel-type</th>\n",
       "      <th>aspiration</th>\n",
       "      <th>num-of-doors</th>\n",
       "      <th>body-style</th>\n",
       "      <th>drive-wheels</th>\n",
       "      <th>engine-location</th>\n",
       "      <th>wheel-base</th>\n",
       "      <th>...</th>\n",
       "      <th>engine-size</th>\n",
       "      <th>fuel-system</th>\n",
       "      <th>bore</th>\n",
       "      <th>stroke</th>\n",
       "      <th>compression-ratio</th>\n",
       "      <th>peak-rpm</th>\n",
       "      <th>city-mpg</th>\n",
       "      <th>highway-mpg</th>\n",
       "      <th>price</th>\n",
       "      <th>class</th>\n",
       "    </tr>\n",
       "  </thead>\n",
       "  <tbody>\n",
       "    <tr>\n",
       "      <th>0</th>\n",
       "      <td>3.0</td>\n",
       "      <td>NaN</td>\n",
       "      <td>b'alfa-romero'</td>\n",
       "      <td>b'gas'</td>\n",
       "      <td>b'std'</td>\n",
       "      <td>2.0</td>\n",
       "      <td>b'convertible'</td>\n",
       "      <td>b'rwd'</td>\n",
       "      <td>b'front'</td>\n",
       "      <td>88.6</td>\n",
       "      <td>...</td>\n",
       "      <td>130.0</td>\n",
       "      <td>b'mpfi'</td>\n",
       "      <td>3.47</td>\n",
       "      <td>2.68</td>\n",
       "      <td>9.0</td>\n",
       "      <td>5000.0</td>\n",
       "      <td>21.0</td>\n",
       "      <td>27.0</td>\n",
       "      <td>13495.0</td>\n",
       "      <td>111.0</td>\n",
       "    </tr>\n",
       "    <tr>\n",
       "      <th>1</th>\n",
       "      <td>3.0</td>\n",
       "      <td>NaN</td>\n",
       "      <td>b'alfa-romero'</td>\n",
       "      <td>b'gas'</td>\n",
       "      <td>b'std'</td>\n",
       "      <td>2.0</td>\n",
       "      <td>b'convertible'</td>\n",
       "      <td>b'rwd'</td>\n",
       "      <td>b'front'</td>\n",
       "      <td>88.6</td>\n",
       "      <td>...</td>\n",
       "      <td>130.0</td>\n",
       "      <td>b'mpfi'</td>\n",
       "      <td>3.47</td>\n",
       "      <td>2.68</td>\n",
       "      <td>9.0</td>\n",
       "      <td>5000.0</td>\n",
       "      <td>21.0</td>\n",
       "      <td>27.0</td>\n",
       "      <td>16500.0</td>\n",
       "      <td>111.0</td>\n",
       "    </tr>\n",
       "  </tbody>\n",
       "</table>\n",
       "<p>2 rows × 26 columns</p>\n",
       "</div>"
      ],
      "text/plain": [
       "   symboling  normalized-losses            make fuel-type aspiration  \\\n",
       "0        3.0                NaN  b'alfa-romero'    b'gas'     b'std'   \n",
       "1        3.0                NaN  b'alfa-romero'    b'gas'     b'std'   \n",
       "\n",
       "   num-of-doors      body-style drive-wheels engine-location  wheel-base  \\\n",
       "0           2.0  b'convertible'       b'rwd'        b'front'        88.6   \n",
       "1           2.0  b'convertible'       b'rwd'        b'front'        88.6   \n",
       "\n",
       "   ...    engine-size  fuel-system  bore  stroke compression-ratio  peak-rpm  \\\n",
       "0  ...          130.0      b'mpfi'  3.47    2.68               9.0    5000.0   \n",
       "1  ...          130.0      b'mpfi'  3.47    2.68               9.0    5000.0   \n",
       "\n",
       "   city-mpg highway-mpg    price  class  \n",
       "0      21.0        27.0  13495.0  111.0  \n",
       "1      21.0        27.0  16500.0  111.0  \n",
       "\n",
       "[2 rows x 26 columns]"
      ]
     },
     "execution_count": 1346,
     "metadata": {},
     "output_type": "execute_result"
    }
   ],
   "source": [
    "df.head(2)"
   ]
  },
  {
   "cell_type": "code",
   "execution_count": 1347,
   "metadata": {
    "collapsed": true
   },
   "outputs": [],
   "source": [
    "df = df.dropna(axis=0)"
   ]
  },
  {
   "cell_type": "code",
   "execution_count": 1348,
   "metadata": {
    "collapsed": true
   },
   "outputs": [],
   "source": [
    "# separate Features and Target\n",
    "target = df['price'].to_frame()\n",
    "df = df.drop('price', axis=1)"
   ]
  },
  {
   "cell_type": "code",
   "execution_count": 1349,
   "metadata": {
    "collapsed": true
   },
   "outputs": [],
   "source": [
    "df = my_categorize(df)"
   ]
  },
  {
   "cell_type": "code",
   "execution_count": 1350,
   "metadata": {
    "collapsed": false
   },
   "outputs": [],
   "source": [
    "# for col in df.columns[df.dtypes == object]:\n",
    "#     df[col] = pd.factorize(df[col])[0]"
   ]
  },
  {
   "cell_type": "code",
   "execution_count": 1351,
   "metadata": {
    "collapsed": true
   },
   "outputs": [],
   "source": [
    "reg_all_df.append((df,target))"
   ]
  },
  {
   "cell_type": "markdown",
   "metadata": {},
   "source": [
    "### 1- autoPrice.arff"
   ]
  },
  {
   "cell_type": "code",
   "execution_count": 1352,
   "metadata": {
    "collapsed": true
   },
   "outputs": [],
   "source": [
    "df = original_reg_df[1][0]\n",
    "\n",
    "# separate Features and Target\n",
    "target = df[df.columns[-1]].to_frame()\n",
    "df = df[df.columns[:-1]]"
   ]
  },
  {
   "cell_type": "code",
   "execution_count": 1353,
   "metadata": {
    "collapsed": false
   },
   "outputs": [],
   "source": [
    "# all_models_score(df, target, 'reg', original_reg_df[1][1])"
   ]
  },
  {
   "cell_type": "code",
   "execution_count": 1354,
   "metadata": {
    "collapsed": true
   },
   "outputs": [],
   "source": [
    "reg_all_df.append((df,target))"
   ]
  },
  {
   "cell_type": "markdown",
   "metadata": {},
   "source": [
    "### 2- fishcatch.arff"
   ]
  },
  {
   "cell_type": "code",
   "execution_count": 1355,
   "metadata": {
    "collapsed": false
   },
   "outputs": [],
   "source": [
    "df = original_reg_df[2][0]\n",
    "\n",
    "# separate Features and Target\n",
    "target = df[df.columns[-1]].to_frame()\n",
    "df = df[df.columns[:-1]]"
   ]
  },
  {
   "cell_type": "code",
   "execution_count": 1356,
   "metadata": {
    "collapsed": true
   },
   "outputs": [],
   "source": [
    "df = my_categorize(df)"
   ]
  },
  {
   "cell_type": "code",
   "execution_count": 1357,
   "metadata": {
    "collapsed": false
   },
   "outputs": [],
   "source": [
    "# # categorize to int\n",
    "# for col in df.columns[df.dtypes == object]:\n",
    "#     df[col] = pd.factorize(df[col])[0]"
   ]
  },
  {
   "cell_type": "code",
   "execution_count": 1358,
   "metadata": {
    "collapsed": false
   },
   "outputs": [],
   "source": [
    "# all_models_score(df, target, 'reg',original_reg_df[2][1])"
   ]
  },
  {
   "cell_type": "code",
   "execution_count": 1359,
   "metadata": {
    "collapsed": true
   },
   "outputs": [],
   "source": [
    "reg_all_df.append((df,target))"
   ]
  },
  {
   "cell_type": "markdown",
   "metadata": {},
   "source": [
    "### 3- pbc.arff"
   ]
  },
  {
   "cell_type": "code",
   "execution_count": 1360,
   "metadata": {
    "collapsed": true
   },
   "outputs": [],
   "source": [
    "df = original_reg_df[3][0]\n",
    "\n",
    "# separate Features and Target\n",
    "target = df[df.columns[-1]].to_frame()\n",
    "df = df[df.columns[:-1]]"
   ]
  },
  {
   "cell_type": "code",
   "execution_count": 1361,
   "metadata": {
    "collapsed": false
   },
   "outputs": [],
   "source": [
    "# # categorize to int\n",
    "# for col in df.columns[df.dtypes == object]:\n",
    "#     df[col] = pd.factorize(df[col])[0]"
   ]
  },
  {
   "cell_type": "code",
   "execution_count": 1362,
   "metadata": {
    "collapsed": true
   },
   "outputs": [],
   "source": [
    "df = my_categorize(df)"
   ]
  },
  {
   "cell_type": "code",
   "execution_count": 1363,
   "metadata": {
    "collapsed": false
   },
   "outputs": [],
   "source": [
    "# all_models_score(df, target, original_reg_df[3][1])"
   ]
  },
  {
   "cell_type": "code",
   "execution_count": 1364,
   "metadata": {
    "collapsed": false
   },
   "outputs": [],
   "source": [
    "reg_all_df.append((df, target))"
   ]
  },
  {
   "cell_type": "markdown",
   "metadata": {},
   "source": [
    "### 4- pharynx.arff"
   ]
  },
  {
   "cell_type": "code",
   "execution_count": 1365,
   "metadata": {
    "collapsed": true
   },
   "outputs": [],
   "source": [
    "df = original_reg_df[4][0]\n",
    "\n",
    "# separate Features and Target\n",
    "target = df[df.columns[-1]].to_frame()\n",
    "df = df[df.columns[:-1]]"
   ]
  },
  {
   "cell_type": "code",
   "execution_count": 1366,
   "metadata": {
    "collapsed": false
   },
   "outputs": [
    {
     "data": {
      "text/plain": [
       "Inst          object\n",
       "sex           object\n",
       "Treatment     object\n",
       "Grade         object\n",
       "Age          float64\n",
       "Condition     object\n",
       "Site          object\n",
       "T             object\n",
       "N             object\n",
       "Entry         object\n",
       "Status        object\n",
       "dtype: object"
      ]
     },
     "execution_count": 1366,
     "metadata": {},
     "output_type": "execute_result"
    }
   ],
   "source": [
    "df.dtypes"
   ]
  },
  {
   "cell_type": "code",
   "execution_count": 1367,
   "metadata": {
    "collapsed": false
   },
   "outputs": [
    {
     "data": {
      "text/html": [
       "<div>\n",
       "<style scoped>\n",
       "    .dataframe tbody tr th:only-of-type {\n",
       "        vertical-align: middle;\n",
       "    }\n",
       "\n",
       "    .dataframe tbody tr th {\n",
       "        vertical-align: top;\n",
       "    }\n",
       "\n",
       "    .dataframe thead th {\n",
       "        text-align: right;\n",
       "    }\n",
       "</style>\n",
       "<table border=\"1\" class=\"dataframe\">\n",
       "  <thead>\n",
       "    <tr style=\"text-align: right;\">\n",
       "      <th></th>\n",
       "      <th>Inst</th>\n",
       "      <th>sex</th>\n",
       "      <th>Treatment</th>\n",
       "      <th>Grade</th>\n",
       "      <th>Age</th>\n",
       "      <th>Condition</th>\n",
       "      <th>Site</th>\n",
       "      <th>T</th>\n",
       "      <th>N</th>\n",
       "      <th>Entry</th>\n",
       "      <th>Status</th>\n",
       "    </tr>\n",
       "  </thead>\n",
       "  <tbody>\n",
       "    <tr>\n",
       "      <th>0</th>\n",
       "      <td>b'2'</td>\n",
       "      <td>b'2'</td>\n",
       "      <td>b'1'</td>\n",
       "      <td>b'1'</td>\n",
       "      <td>51.0</td>\n",
       "      <td>b'1'</td>\n",
       "      <td>b'2'</td>\n",
       "      <td>b'3'</td>\n",
       "      <td>b'1'</td>\n",
       "      <td>b'2468'</td>\n",
       "      <td>b'1'</td>\n",
       "    </tr>\n",
       "    <tr>\n",
       "      <th>1</th>\n",
       "      <td>b'2'</td>\n",
       "      <td>b'1'</td>\n",
       "      <td>b'2'</td>\n",
       "      <td>b'1'</td>\n",
       "      <td>65.0</td>\n",
       "      <td>b'1'</td>\n",
       "      <td>b'4'</td>\n",
       "      <td>b'2'</td>\n",
       "      <td>b'3'</td>\n",
       "      <td>b'2968'</td>\n",
       "      <td>b'1'</td>\n",
       "    </tr>\n",
       "    <tr>\n",
       "      <th>2</th>\n",
       "      <td>b'2'</td>\n",
       "      <td>b'1'</td>\n",
       "      <td>b'1'</td>\n",
       "      <td>b'2'</td>\n",
       "      <td>64.0</td>\n",
       "      <td>b'2'</td>\n",
       "      <td>b'1'</td>\n",
       "      <td>b'3'</td>\n",
       "      <td>b'3'</td>\n",
       "      <td>b'3368'</td>\n",
       "      <td>b'1'</td>\n",
       "    </tr>\n",
       "    <tr>\n",
       "      <th>3</th>\n",
       "      <td>b'2'</td>\n",
       "      <td>b'1'</td>\n",
       "      <td>b'1'</td>\n",
       "      <td>b'1'</td>\n",
       "      <td>73.0</td>\n",
       "      <td>b'1'</td>\n",
       "      <td>b'1'</td>\n",
       "      <td>b'4'</td>\n",
       "      <td>b'0'</td>\n",
       "      <td>b'5768'</td>\n",
       "      <td>b'1'</td>\n",
       "    </tr>\n",
       "    <tr>\n",
       "      <th>4</th>\n",
       "      <td>b'5'</td>\n",
       "      <td>b'1'</td>\n",
       "      <td>b'2'</td>\n",
       "      <td>b'2'</td>\n",
       "      <td>64.0</td>\n",
       "      <td>b'1'</td>\n",
       "      <td>b'1'</td>\n",
       "      <td>b'4'</td>\n",
       "      <td>b'3'</td>\n",
       "      <td>b'9568'</td>\n",
       "      <td>b'1'</td>\n",
       "    </tr>\n",
       "  </tbody>\n",
       "</table>\n",
       "</div>"
      ],
      "text/plain": [
       "   Inst   sex Treatment Grade   Age Condition  Site     T     N    Entry  \\\n",
       "0  b'2'  b'2'      b'1'  b'1'  51.0      b'1'  b'2'  b'3'  b'1'  b'2468'   \n",
       "1  b'2'  b'1'      b'2'  b'1'  65.0      b'1'  b'4'  b'2'  b'3'  b'2968'   \n",
       "2  b'2'  b'1'      b'1'  b'2'  64.0      b'2'  b'1'  b'3'  b'3'  b'3368'   \n",
       "3  b'2'  b'1'      b'1'  b'1'  73.0      b'1'  b'1'  b'4'  b'0'  b'5768'   \n",
       "4  b'5'  b'1'      b'2'  b'2'  64.0      b'1'  b'1'  b'4'  b'3'  b'9568'   \n",
       "\n",
       "  Status  \n",
       "0   b'1'  \n",
       "1   b'1'  \n",
       "2   b'1'  \n",
       "3   b'1'  \n",
       "4   b'1'  "
      ]
     },
     "execution_count": 1367,
     "metadata": {},
     "output_type": "execute_result"
    }
   ],
   "source": [
    "df.head()"
   ]
  },
  {
   "cell_type": "code",
   "execution_count": 1368,
   "metadata": {
    "collapsed": false,
    "scrolled": true
   },
   "outputs": [
    {
     "name": "stdout",
     "output_type": "stream",
     "text": [
      "Inst :  {b'3', b'4', b'5', b'2', b'6', b'1'}\n",
      "sex :  {b'2', b'1'}\n",
      "Treatment :  {b'2', b'1'}\n",
      "Grade :  {b'3', b'2', b'?', b'1'}\n",
      "Condition :  {b'3', b'4', b'0', b'2', b'?', b'1'}\n",
      "Site :  {b'4', b'2', b'1'}\n",
      "T :  {b'3', b'4', b'2', b'1'}\n",
      "N :  {b'3', b'2', b'0', b'1'}\n",
      "Entry :  {b'30469', b'4970', b'20570', b'26371', b'17470', b'32171', b'17869', b'15971', b'9670', b'33568', b'13569', b'28770', b'15471', b'3368', b'3572', b'15468', b'8871', b'24872', b'5672', b'34170', b'34470', b'18468', b'28968', b'8272', b'2769', b'24569', b'1571', b'7771', b'16769', b'13269', b'4371', b'32468', b'1871', b'8072', b'13671', b'14372', b'22768', b'29868', b'34270', b'20768', b'6771', b'5472', b'16669', b'28969', b'2968', b'11070', b'21871', b'5972', b'33868', b'32371', b'16070', b'769', b'5169', b'29971', b'12371', b'29069', b'8270', b'15371', b'25470', b'21170', b'34771', b'7870', b'26669', b'32671', b'28069', b'5572', b'2671', b'14470', b'34271', b'7571', b'22772', b'10668', b'14369', b'35369', b'18371', b'29471', b'969', b'12969', b'32869', b'11869', b'14670', b'33669', b'10768', b'13170', b'16171', b'4470', b'21671', b'24372', b'18871', b'1769', b'27371', b'12769', b'15270', b'16670', b'33269', b'4270', b'15672', b'23368', b'12068', b'34370', b'34469', b'23170', b'33670', b'4969', b'20171', b'15870', b'27969', b'24370', b'33071', b'23069', b'15569', b'10571', b'1272', b'33069', b'12569', b'2271', b'33370', b'21768', b'20572', b'28471', b'27672', b'36270', b'4569', b'3371', b'34071', b'4672', b'2468', b'25968', b'33368', b'31868', b'5770', b'32770', b'20971', b'12470', b'18970', b'18268', b'22171', b'369', b'20469', b'2469', b'25371', b'29468', b'26869', b'19969', b'4469', b'31670', b'15669', b'9369', b'31471', b'28268', b'25170', b'13368', b'19070', b'18770', b'1271', b'11371', b'30868', b'15772', b'21970', b'4971', b'5470', b'11870', b'3569', b'20972', b'9568', b'23771', b'5768', b'28068', b'28071', b'20271', b'25870', b'30468', b'5669', b'28570', b'35570', b'36369', b'31971', b'20772', b'4870', b'870', b'31068', b'8369', b'33569', b'19068'}\n",
      "Status :  {b'0', b'1'}\n"
     ]
    }
   ],
   "source": [
    "# There are values that can't convert to int:\n",
    "for col in df.columns[df.dtypes == object]:\n",
    "    print(col,': ',set(df[col].values))"
   ]
  },
  {
   "cell_type": "code",
   "execution_count": 1369,
   "metadata": {
    "collapsed": false
   },
   "outputs": [
    {
     "name": "stderr",
     "output_type": "stream",
     "text": [
      "C:\\Users\\MMM\\Anaconda2\\envs\\radar\\lib\\site-packages\\ipykernel_launcher.py:8: SettingWithCopyWarning: \n",
      "A value is trying to be set on a copy of a slice from a DataFrame.\n",
      "Try using .loc[row_indexer,col_indexer] = value instead\n",
      "\n",
      "See the caveats in the documentation: http://pandas.pydata.org/pandas-docs/stable/indexing.html#indexing-view-versus-copy\n",
      "  \n"
     ]
    }
   ],
   "source": [
    "# clean b'?' that can't convert to float and converting to float\n",
    "for col in df.columns[df.dtypes == object]:\n",
    "    # clean b'?'\n",
    "    if b'?' in set(df[col].values):\n",
    "        index_to_drop = df[df[col] == b'?'].index[:]\n",
    "        df = df.drop(index= index_to_drop)\n",
    "    # convert byte to float\n",
    "    df[col] = df[col].apply(lambda x: float(x))"
   ]
  },
  {
   "cell_type": "code",
   "execution_count": 1370,
   "metadata": {
    "collapsed": false
   },
   "outputs": [],
   "source": [
    "# all_models_score(df, target,'reg' ,original_reg_df[4][1])"
   ]
  },
  {
   "cell_type": "code",
   "execution_count": 1371,
   "metadata": {
    "collapsed": true
   },
   "outputs": [],
   "source": [
    "reg_all_df.append((df,target))"
   ]
  },
  {
   "cell_type": "markdown",
   "metadata": {},
   "source": [
    "### 5- 'airfoil-self-noise.csv'"
   ]
  },
  {
   "cell_type": "code",
   "execution_count": 1372,
   "metadata": {
    "collapsed": false
   },
   "outputs": [],
   "source": [
    "df = original_reg_df[5][0]\n",
    "\n",
    "# separate Features and Target\n",
    "target = df[df.columns[-1]].to_frame()\n",
    "df = df[df.columns[:-1]]"
   ]
  },
  {
   "cell_type": "code",
   "execution_count": 1373,
   "metadata": {
    "collapsed": true
   },
   "outputs": [],
   "source": [
    "reg_all_df.append((df,target))"
   ]
  },
  {
   "cell_type": "markdown",
   "metadata": {},
   "source": [
    "### 6- ASP.csv"
   ]
  },
  {
   "cell_type": "code",
   "execution_count": 1374,
   "metadata": {
    "collapsed": false
   },
   "outputs": [],
   "source": [
    "df = original_reg_df[6][0]\n",
    "\n",
    "# separate Features and Target\n",
    "target = df[df.columns[-1]].to_frame()\n",
    "df = df[df.columns[1:-1]]"
   ]
  },
  {
   "cell_type": "code",
   "execution_count": 1375,
   "metadata": {
    "collapsed": false,
    "scrolled": true
   },
   "outputs": [
    {
     "data": {
      "text/plain": [
       "m7497.96    float64\n",
       "m7496.04    float64\n",
       "m7494.11    float64\n",
       "m7492.18    float64\n",
       "m7490.25    float64\n",
       "m7488.32    float64\n",
       "m7486.39    float64\n",
       "m7484.46    float64\n",
       "m7482.54    float64\n",
       "m7480.61    float64\n",
       "m7478.68    float64\n",
       "m7476.75    float64\n",
       "m7474.82    float64\n",
       "m7472.89    float64\n",
       "m7470.97    float64\n",
       "m7469.04    float64\n",
       "m7467.11    float64\n",
       "m7465.18    float64\n",
       "m7463.25    float64\n",
       "m7461.32    float64\n",
       "m7459.39    float64\n",
       "m7457.47    float64\n",
       "m7455.54    float64\n",
       "m7453.61    float64\n",
       "m7451.68    float64\n",
       "m7449.75    float64\n",
       "m7447.82    float64\n",
       "m7445.89    float64\n",
       "m7443.97    float64\n",
       "m7442.04    float64\n",
       "             ...   \n",
       "m617.116    float64\n",
       "m615.188    float64\n",
       "m613.259    float64\n",
       "m611.331    float64\n",
       "m609.402    float64\n",
       "m607.474    float64\n",
       "m605.545    float64\n",
       "m603.617    float64\n",
       "m601.688    float64\n",
       "m599.76     float64\n",
       "BSAN        float64\n",
       "BSAS        float64\n",
       "BSAV        float64\n",
       "CTI         float64\n",
       "ELEV        float64\n",
       "EVI         float64\n",
       "LSTD        float64\n",
       "LSTN        float64\n",
       "REF1        float64\n",
       "REF2        float64\n",
       "REF3        float64\n",
       "REF7        float64\n",
       "RELI        float64\n",
       "TMAP        float64\n",
       "TMFI        float64\n",
       "Depth        object\n",
       "Ca          float64\n",
       "P           float64\n",
       "pH          float64\n",
       "SOC         float64\n",
       "Length: 3598, dtype: object"
      ]
     },
     "execution_count": 1375,
     "metadata": {},
     "output_type": "execute_result"
    }
   ],
   "source": [
    "df.dtypes"
   ]
  },
  {
   "cell_type": "code",
   "execution_count": 1376,
   "metadata": {
    "collapsed": false
   },
   "outputs": [
    {
     "data": {
      "text/plain": [
       "1"
      ]
     },
     "execution_count": 1376,
     "metadata": {},
     "output_type": "execute_result"
    }
   ],
   "source": [
    "# number of not numerical\n",
    "sum(df.dtypes!='float64')"
   ]
  },
  {
   "cell_type": "code",
   "execution_count": 1377,
   "metadata": {
    "collapsed": false
   },
   "outputs": [
    {
     "name": "stderr",
     "output_type": "stream",
     "text": [
      "C:\\Users\\MMM\\Anaconda2\\envs\\radar\\lib\\site-packages\\numpy\\core\\fromnumeric.py:52: FutureWarning: 'argmax' is deprecated. Use 'idxmax' instead. The behavior of 'argmax' will be corrected to return the positional maximum in the future. Use 'series.values.argmax' to get the position of the maximum now.\n",
      "  return getattr(obj, method)(*args, **kwds)\n"
     ]
    },
    {
     "data": {
      "text/plain": [
       "'Depth'"
      ]
     },
     "execution_count": 1377,
     "metadata": {},
     "output_type": "execute_result"
    }
   ],
   "source": [
    "np.argmax(df.dtypes!='float64')"
   ]
  },
  {
   "cell_type": "code",
   "execution_count": 1378,
   "metadata": {
    "collapsed": true
   },
   "outputs": [],
   "source": [
    "## categorize to int\n",
    "# df['Depth'] = pd.factorize(df['Depth'])[0]"
   ]
  },
  {
   "cell_type": "code",
   "execution_count": 1379,
   "metadata": {
    "collapsed": true
   },
   "outputs": [],
   "source": [
    "df = my_categorize(df)"
   ]
  },
  {
   "cell_type": "code",
   "execution_count": 1380,
   "metadata": {
    "collapsed": true
   },
   "outputs": [],
   "source": [
    "reg_all_df.append((df,target))"
   ]
  },
  {
   "cell_type": "markdown",
   "metadata": {},
   "source": [
    "### 7- CASP"
   ]
  },
  {
   "cell_type": "code",
   "execution_count": 1381,
   "metadata": {
    "collapsed": true
   },
   "outputs": [],
   "source": [
    "df = original_reg_df[7][0]\n",
    "\n",
    "# separate Features and Target\n",
    "target = df[df.columns[-1]].to_frame()\n",
    "df = df[df.columns[:-1]]"
   ]
  },
  {
   "cell_type": "code",
   "execution_count": 1382,
   "metadata": {
    "collapsed": true
   },
   "outputs": [],
   "source": [
    "reg_all_df.append((df,target))"
   ]
  },
  {
   "cell_type": "markdown",
   "metadata": {},
   "source": [
    "### 8- Concrete_Data_Yeh.csv"
   ]
  },
  {
   "cell_type": "code",
   "execution_count": 1383,
   "metadata": {
    "collapsed": true
   },
   "outputs": [],
   "source": [
    "df = original_reg_df[8][0]\n",
    "\n",
    "# separate Features and Target\n",
    "target = df[df.columns[-1]].to_frame()\n",
    "df = df[df.columns[:-1]]"
   ]
  },
  {
   "cell_type": "code",
   "execution_count": 1384,
   "metadata": {
    "collapsed": true
   },
   "outputs": [],
   "source": [
    "reg_all_df.append((df,target))"
   ]
  },
  {
   "cell_type": "markdown",
   "metadata": {},
   "source": [
    "### 9 - house.csv"
   ]
  },
  {
   "cell_type": "code",
   "execution_count": 1385,
   "metadata": {
    "collapsed": false
   },
   "outputs": [],
   "source": [
    "df= original_reg_df[9][0]\n",
    "\n",
    "# separate Features and Target\n",
    "target = df[df.columns[-1]].to_frame()\n",
    "df = df[df.columns[:-1]]"
   ]
  },
  {
   "cell_type": "code",
   "execution_count": 1386,
   "metadata": {
    "collapsed": true
   },
   "outputs": [],
   "source": [
    "reg_all_df.append((df,target))"
   ]
  },
  {
   "cell_type": "markdown",
   "metadata": {},
   "source": [
    "### 10- insurance.csv"
   ]
  },
  {
   "cell_type": "code",
   "execution_count": 1387,
   "metadata": {
    "collapsed": true
   },
   "outputs": [],
   "source": [
    "df = original_reg_df[10][0]"
   ]
  },
  {
   "cell_type": "code",
   "execution_count": 1388,
   "metadata": {
    "collapsed": true
   },
   "outputs": [],
   "source": [
    "# separate Features and Target\n",
    "target = df[df.columns[-1]].to_frame()\n",
    "df = df[df.columns[:-1]]"
   ]
  },
  {
   "cell_type": "code",
   "execution_count": 1389,
   "metadata": {
    "collapsed": false
   },
   "outputs": [
    {
     "data": {
      "text/html": [
       "<div>\n",
       "<style scoped>\n",
       "    .dataframe tbody tr th:only-of-type {\n",
       "        vertical-align: middle;\n",
       "    }\n",
       "\n",
       "    .dataframe tbody tr th {\n",
       "        vertical-align: top;\n",
       "    }\n",
       "\n",
       "    .dataframe thead th {\n",
       "        text-align: right;\n",
       "    }\n",
       "</style>\n",
       "<table border=\"1\" class=\"dataframe\">\n",
       "  <thead>\n",
       "    <tr style=\"text-align: right;\">\n",
       "      <th></th>\n",
       "      <th>age</th>\n",
       "      <th>sex</th>\n",
       "      <th>bmi</th>\n",
       "      <th>children</th>\n",
       "      <th>smoker</th>\n",
       "      <th>region</th>\n",
       "    </tr>\n",
       "  </thead>\n",
       "  <tbody>\n",
       "    <tr>\n",
       "      <th>0</th>\n",
       "      <td>19</td>\n",
       "      <td>female</td>\n",
       "      <td>27.900</td>\n",
       "      <td>0</td>\n",
       "      <td>yes</td>\n",
       "      <td>southwest</td>\n",
       "    </tr>\n",
       "    <tr>\n",
       "      <th>1</th>\n",
       "      <td>18</td>\n",
       "      <td>male</td>\n",
       "      <td>33.770</td>\n",
       "      <td>1</td>\n",
       "      <td>no</td>\n",
       "      <td>southeast</td>\n",
       "    </tr>\n",
       "    <tr>\n",
       "      <th>2</th>\n",
       "      <td>28</td>\n",
       "      <td>male</td>\n",
       "      <td>33.000</td>\n",
       "      <td>3</td>\n",
       "      <td>no</td>\n",
       "      <td>southeast</td>\n",
       "    </tr>\n",
       "    <tr>\n",
       "      <th>3</th>\n",
       "      <td>33</td>\n",
       "      <td>male</td>\n",
       "      <td>22.705</td>\n",
       "      <td>0</td>\n",
       "      <td>no</td>\n",
       "      <td>northwest</td>\n",
       "    </tr>\n",
       "    <tr>\n",
       "      <th>4</th>\n",
       "      <td>32</td>\n",
       "      <td>male</td>\n",
       "      <td>28.880</td>\n",
       "      <td>0</td>\n",
       "      <td>no</td>\n",
       "      <td>northwest</td>\n",
       "    </tr>\n",
       "  </tbody>\n",
       "</table>\n",
       "</div>"
      ],
      "text/plain": [
       "   age     sex     bmi  children smoker     region\n",
       "0   19  female  27.900         0    yes  southwest\n",
       "1   18    male  33.770         1     no  southeast\n",
       "2   28    male  33.000         3     no  southeast\n",
       "3   33    male  22.705         0     no  northwest\n",
       "4   32    male  28.880         0     no  northwest"
      ]
     },
     "execution_count": 1389,
     "metadata": {},
     "output_type": "execute_result"
    }
   ],
   "source": [
    "df.head()"
   ]
  },
  {
   "cell_type": "code",
   "execution_count": 1390,
   "metadata": {
    "collapsed": false
   },
   "outputs": [],
   "source": [
    "# # categorize to int\n",
    "# for col in df.columns[df.dtypes == object]:\n",
    "#     df[col] = pd.factorize(df[col])[0]"
   ]
  },
  {
   "cell_type": "code",
   "execution_count": 1391,
   "metadata": {
    "collapsed": true
   },
   "outputs": [],
   "source": [
    "df = my_categorize(df)"
   ]
  },
  {
   "cell_type": "code",
   "execution_count": 1392,
   "metadata": {
    "collapsed": true
   },
   "outputs": [],
   "source": [
    "reg_all_df.append((df,target))"
   ]
  },
  {
   "cell_type": "markdown",
   "metadata": {},
   "source": [
    "### 11-  iowa-houseprice.csv"
   ]
  },
  {
   "cell_type": "code",
   "execution_count": 1393,
   "metadata": {
    "collapsed": true
   },
   "outputs": [],
   "source": [
    "df = original_reg_df[11][0]\n",
    "# separate Features and Target\n",
    "target = df[df.columns[-1]].to_frame()\n",
    "df = df[df.columns[:-1]]"
   ]
  },
  {
   "cell_type": "code",
   "execution_count": 1394,
   "metadata": {
    "collapsed": false
   },
   "outputs": [],
   "source": [
    "# # categorize to int\n",
    "# for col in df.columns[df.dtypes == object]:\n",
    "#     df[col] = pd.factorize(df[col])[0]"
   ]
  },
  {
   "cell_type": "code",
   "execution_count": 1395,
   "metadata": {
    "collapsed": true
   },
   "outputs": [],
   "source": [
    "df = my_categorize(df)"
   ]
  },
  {
   "cell_type": "code",
   "execution_count": 1396,
   "metadata": {
    "collapsed": true
   },
   "outputs": [],
   "source": [
    "reg_all_df.append((df,target))"
   ]
  },
  {
   "cell_type": "markdown",
   "metadata": {},
   "source": [
    "### 12- Life-Expectancy-Data.csv"
   ]
  },
  {
   "cell_type": "code",
   "execution_count": 1397,
   "metadata": {
    "collapsed": false
   },
   "outputs": [],
   "source": [
    "df = original_reg_df[12][0]"
   ]
  },
  {
   "cell_type": "code",
   "execution_count": 1398,
   "metadata": {
    "collapsed": true
   },
   "outputs": [],
   "source": [
    "# clean from NAN\n",
    "df = df.dropna()"
   ]
  },
  {
   "cell_type": "code",
   "execution_count": 1399,
   "metadata": {
    "collapsed": true
   },
   "outputs": [],
   "source": [
    "# separate Features and Target\n",
    "target = df[df.columns[3]]\n",
    "df = df.drop(df.columns[3], axis=1)"
   ]
  },
  {
   "cell_type": "code",
   "execution_count": 1400,
   "metadata": {
    "collapsed": true
   },
   "outputs": [],
   "source": [
    "# # categorize to int\n",
    "# for col in df.columns[df.dtypes == object]:\n",
    "#     df[col] = pd.factorize(df[col])[0]"
   ]
  },
  {
   "cell_type": "code",
   "execution_count": 1401,
   "metadata": {
    "collapsed": true
   },
   "outputs": [],
   "source": [
    "df = my_categorize(df)"
   ]
  },
  {
   "cell_type": "code",
   "execution_count": 1402,
   "metadata": {
    "collapsed": true
   },
   "outputs": [],
   "source": [
    "reg_all_df.append((df,target))"
   ]
  },
  {
   "cell_type": "markdown",
   "metadata": {},
   "source": [
    "### 13- OnlineNewsPopularity.csv"
   ]
  },
  {
   "cell_type": "code",
   "execution_count": 1403,
   "metadata": {
    "collapsed": true
   },
   "outputs": [],
   "source": [
    "df = original_reg_df[13][0]\n",
    "\n",
    "# separate Features and Target\n",
    "target = df[df.columns[-1]]\n",
    "df = df.drop(df.columns[-1], axis=1)"
   ]
  },
  {
   "cell_type": "code",
   "execution_count": 1404,
   "metadata": {
    "collapsed": false
   },
   "outputs": [],
   "source": [
    "df = df.drop(columns='url')"
   ]
  },
  {
   "cell_type": "code",
   "execution_count": 1405,
   "metadata": {
    "collapsed": true
   },
   "outputs": [],
   "source": [
    "reg_all_df.append((df,target))"
   ]
  },
  {
   "cell_type": "markdown",
   "metadata": {},
   "source": [
    "### 14- prolife.csv"
   ]
  },
  {
   "cell_type": "code",
   "execution_count": 1406,
   "metadata": {
    "collapsed": true
   },
   "outputs": [],
   "source": [
    "df = original_reg_df[14][0]\n",
    "\n",
    "# separate Features and Target\n",
    "target = df[df.columns[-1]]\n",
    "df = df.drop(df.columns[[0,-1]], axis=1)"
   ]
  },
  {
   "cell_type": "code",
   "execution_count": 1407,
   "metadata": {
    "collapsed": true
   },
   "outputs": [],
   "source": [
    "# # categorize to int\n",
    "# for col in df.columns[df.dtypes == object]:\n",
    "#     df[col] = pd.factorize(df[col])[0]"
   ]
  },
  {
   "cell_type": "code",
   "execution_count": 1408,
   "metadata": {
    "collapsed": true
   },
   "outputs": [],
   "source": [
    "df = my_categorize(df)"
   ]
  },
  {
   "cell_type": "code",
   "execution_count": 1409,
   "metadata": {
    "collapsed": true
   },
   "outputs": [],
   "source": [
    "reg_all_df.append((df,target))"
   ]
  },
  {
   "cell_type": "markdown",
   "metadata": {},
   "source": [
    "### 15- servo.csv"
   ]
  },
  {
   "cell_type": "code",
   "execution_count": 1410,
   "metadata": {
    "collapsed": true
   },
   "outputs": [],
   "source": [
    "df = original_reg_df[15][0]\n",
    "\n",
    "# separate Features and Target\n",
    "target = df[df.columns[-1]]\n",
    "df = df.drop(df.columns[-1], axis=1)"
   ]
  },
  {
   "cell_type": "code",
   "execution_count": 1411,
   "metadata": {
    "collapsed": true
   },
   "outputs": [],
   "source": [
    "df = my_categorize(df)"
   ]
  },
  {
   "cell_type": "code",
   "execution_count": 1412,
   "metadata": {
    "collapsed": false
   },
   "outputs": [],
   "source": [
    "# # categorize to int\n",
    "# for col in df.columns[df.dtypes == object]:\n",
    "#     df[col] = pd.factorize(df[col])[0]"
   ]
  },
  {
   "cell_type": "code",
   "execution_count": 1413,
   "metadata": {
    "collapsed": true
   },
   "outputs": [],
   "source": [
    "reg_all_df.append((df,target))"
   ]
  },
  {
   "cell_type": "markdown",
   "metadata": {},
   "source": [
    "### 16- student-math.csv"
   ]
  },
  {
   "cell_type": "code",
   "execution_count": 1414,
   "metadata": {
    "collapsed": true
   },
   "outputs": [],
   "source": [
    "df = original_reg_df[16][0]"
   ]
  },
  {
   "cell_type": "code",
   "execution_count": 1415,
   "metadata": {
    "collapsed": false,
    "scrolled": true
   },
   "outputs": [
    {
     "data": {
      "text/html": [
       "<div>\n",
       "<style scoped>\n",
       "    .dataframe tbody tr th:only-of-type {\n",
       "        vertical-align: middle;\n",
       "    }\n",
       "\n",
       "    .dataframe tbody tr th {\n",
       "        vertical-align: top;\n",
       "    }\n",
       "\n",
       "    .dataframe thead th {\n",
       "        text-align: right;\n",
       "    }\n",
       "</style>\n",
       "<table border=\"1\" class=\"dataframe\">\n",
       "  <thead>\n",
       "    <tr style=\"text-align: right;\">\n",
       "      <th></th>\n",
       "      <th>school;sex;age;address;famsize;Pstatus;Medu;Fedu;Mjob;Fjob;reason;guardian;traveltime;studytime;failures;schoolsup;famsup;paid;activities;nursery;higher;internet;romantic;famrel;freetime;goout;Dalc;Walc;health;absences;G1;G2;G3</th>\n",
       "    </tr>\n",
       "  </thead>\n",
       "  <tbody>\n",
       "    <tr>\n",
       "      <th>0</th>\n",
       "      <td>GP;\"F\";18;\"U\";\"GT3\";\"A\";4;4;\"at_home\";\"teacher...</td>\n",
       "    </tr>\n",
       "    <tr>\n",
       "      <th>1</th>\n",
       "      <td>GP;\"F\";17;\"U\";\"GT3\";\"T\";1;1;\"at_home\";\"other\";...</td>\n",
       "    </tr>\n",
       "    <tr>\n",
       "      <th>2</th>\n",
       "      <td>GP;\"F\";15;\"U\";\"LE3\";\"T\";1;1;\"at_home\";\"other\";...</td>\n",
       "    </tr>\n",
       "  </tbody>\n",
       "</table>\n",
       "</div>"
      ],
      "text/plain": [
       "  school;sex;age;address;famsize;Pstatus;Medu;Fedu;Mjob;Fjob;reason;guardian;traveltime;studytime;failures;schoolsup;famsup;paid;activities;nursery;higher;internet;romantic;famrel;freetime;goout;Dalc;Walc;health;absences;G1;G2;G3\n",
       "0  GP;\"F\";18;\"U\";\"GT3\";\"A\";4;4;\"at_home\";\"teacher...                                                                                                                                                                                 \n",
       "1  GP;\"F\";17;\"U\";\"GT3\";\"T\";1;1;\"at_home\";\"other\";...                                                                                                                                                                                 \n",
       "2  GP;\"F\";15;\"U\";\"LE3\";\"T\";1;1;\"at_home\";\"other\";...                                                                                                                                                                                 "
      ]
     },
     "execution_count": 1415,
     "metadata": {},
     "output_type": "execute_result"
    }
   ],
   "source": [
    "df.head(3)"
   ]
  },
  {
   "cell_type": "markdown",
   "metadata": {},
   "source": [
    "we need split columns and data by ';' sign"
   ]
  },
  {
   "cell_type": "code",
   "execution_count": 1416,
   "metadata": {
    "collapsed": false
   },
   "outputs": [],
   "source": [
    "# split data and columns and insert to new df\n",
    "splitted_data = df.apply(lambda x: ((x[0]).split(';')), axis=1)\n",
    "data = [row for row in splitted_data]\n",
    "df = pd.DataFrame(columns=df.columns[0].split(';'), data= data)"
   ]
  },
  {
   "cell_type": "code",
   "execution_count": 1417,
   "metadata": {
    "collapsed": false
   },
   "outputs": [
    {
     "data": {
      "text/html": [
       "<div>\n",
       "<style scoped>\n",
       "    .dataframe tbody tr th:only-of-type {\n",
       "        vertical-align: middle;\n",
       "    }\n",
       "\n",
       "    .dataframe tbody tr th {\n",
       "        vertical-align: top;\n",
       "    }\n",
       "\n",
       "    .dataframe thead th {\n",
       "        text-align: right;\n",
       "    }\n",
       "</style>\n",
       "<table border=\"1\" class=\"dataframe\">\n",
       "  <thead>\n",
       "    <tr style=\"text-align: right;\">\n",
       "      <th></th>\n",
       "      <th>school</th>\n",
       "      <th>sex</th>\n",
       "      <th>age</th>\n",
       "      <th>address</th>\n",
       "      <th>famsize</th>\n",
       "      <th>Pstatus</th>\n",
       "      <th>Medu</th>\n",
       "      <th>Fedu</th>\n",
       "      <th>Mjob</th>\n",
       "      <th>Fjob</th>\n",
       "      <th>...</th>\n",
       "      <th>famrel</th>\n",
       "      <th>freetime</th>\n",
       "      <th>goout</th>\n",
       "      <th>Dalc</th>\n",
       "      <th>Walc</th>\n",
       "      <th>health</th>\n",
       "      <th>absences</th>\n",
       "      <th>G1</th>\n",
       "      <th>G2</th>\n",
       "      <th>G3</th>\n",
       "    </tr>\n",
       "  </thead>\n",
       "  <tbody>\n",
       "    <tr>\n",
       "      <th>0</th>\n",
       "      <td>GP</td>\n",
       "      <td>\"F\"</td>\n",
       "      <td>18</td>\n",
       "      <td>\"U\"</td>\n",
       "      <td>\"GT3\"</td>\n",
       "      <td>\"A\"</td>\n",
       "      <td>4</td>\n",
       "      <td>4</td>\n",
       "      <td>\"at_home\"</td>\n",
       "      <td>\"teacher\"</td>\n",
       "      <td>...</td>\n",
       "      <td>4</td>\n",
       "      <td>3</td>\n",
       "      <td>4</td>\n",
       "      <td>1</td>\n",
       "      <td>1</td>\n",
       "      <td>3</td>\n",
       "      <td>6</td>\n",
       "      <td>\"5\"</td>\n",
       "      <td>\"6\"</td>\n",
       "      <td>6</td>\n",
       "    </tr>\n",
       "    <tr>\n",
       "      <th>1</th>\n",
       "      <td>GP</td>\n",
       "      <td>\"F\"</td>\n",
       "      <td>17</td>\n",
       "      <td>\"U\"</td>\n",
       "      <td>\"GT3\"</td>\n",
       "      <td>\"T\"</td>\n",
       "      <td>1</td>\n",
       "      <td>1</td>\n",
       "      <td>\"at_home\"</td>\n",
       "      <td>\"other\"</td>\n",
       "      <td>...</td>\n",
       "      <td>5</td>\n",
       "      <td>3</td>\n",
       "      <td>3</td>\n",
       "      <td>1</td>\n",
       "      <td>1</td>\n",
       "      <td>3</td>\n",
       "      <td>4</td>\n",
       "      <td>\"5\"</td>\n",
       "      <td>\"5\"</td>\n",
       "      <td>6</td>\n",
       "    </tr>\n",
       "    <tr>\n",
       "      <th>2</th>\n",
       "      <td>GP</td>\n",
       "      <td>\"F\"</td>\n",
       "      <td>15</td>\n",
       "      <td>\"U\"</td>\n",
       "      <td>\"LE3\"</td>\n",
       "      <td>\"T\"</td>\n",
       "      <td>1</td>\n",
       "      <td>1</td>\n",
       "      <td>\"at_home\"</td>\n",
       "      <td>\"other\"</td>\n",
       "      <td>...</td>\n",
       "      <td>4</td>\n",
       "      <td>3</td>\n",
       "      <td>2</td>\n",
       "      <td>2</td>\n",
       "      <td>3</td>\n",
       "      <td>3</td>\n",
       "      <td>10</td>\n",
       "      <td>\"7\"</td>\n",
       "      <td>\"8\"</td>\n",
       "      <td>10</td>\n",
       "    </tr>\n",
       "    <tr>\n",
       "      <th>3</th>\n",
       "      <td>GP</td>\n",
       "      <td>\"F\"</td>\n",
       "      <td>15</td>\n",
       "      <td>\"U\"</td>\n",
       "      <td>\"GT3\"</td>\n",
       "      <td>\"T\"</td>\n",
       "      <td>4</td>\n",
       "      <td>2</td>\n",
       "      <td>\"health\"</td>\n",
       "      <td>\"services\"</td>\n",
       "      <td>...</td>\n",
       "      <td>3</td>\n",
       "      <td>2</td>\n",
       "      <td>2</td>\n",
       "      <td>1</td>\n",
       "      <td>1</td>\n",
       "      <td>5</td>\n",
       "      <td>2</td>\n",
       "      <td>\"15\"</td>\n",
       "      <td>\"14\"</td>\n",
       "      <td>15</td>\n",
       "    </tr>\n",
       "    <tr>\n",
       "      <th>4</th>\n",
       "      <td>GP</td>\n",
       "      <td>\"F\"</td>\n",
       "      <td>16</td>\n",
       "      <td>\"U\"</td>\n",
       "      <td>\"GT3\"</td>\n",
       "      <td>\"T\"</td>\n",
       "      <td>3</td>\n",
       "      <td>3</td>\n",
       "      <td>\"other\"</td>\n",
       "      <td>\"other\"</td>\n",
       "      <td>...</td>\n",
       "      <td>4</td>\n",
       "      <td>3</td>\n",
       "      <td>2</td>\n",
       "      <td>1</td>\n",
       "      <td>2</td>\n",
       "      <td>5</td>\n",
       "      <td>4</td>\n",
       "      <td>\"6\"</td>\n",
       "      <td>\"10\"</td>\n",
       "      <td>10</td>\n",
       "    </tr>\n",
       "  </tbody>\n",
       "</table>\n",
       "<p>5 rows × 33 columns</p>\n",
       "</div>"
      ],
      "text/plain": [
       "  school  sex age address famsize Pstatus Medu Fedu       Mjob        Fjob  \\\n",
       "0     GP  \"F\"  18     \"U\"   \"GT3\"     \"A\"    4    4  \"at_home\"   \"teacher\"   \n",
       "1     GP  \"F\"  17     \"U\"   \"GT3\"     \"T\"    1    1  \"at_home\"     \"other\"   \n",
       "2     GP  \"F\"  15     \"U\"   \"LE3\"     \"T\"    1    1  \"at_home\"     \"other\"   \n",
       "3     GP  \"F\"  15     \"U\"   \"GT3\"     \"T\"    4    2   \"health\"  \"services\"   \n",
       "4     GP  \"F\"  16     \"U\"   \"GT3\"     \"T\"    3    3    \"other\"     \"other\"   \n",
       "\n",
       "  ... famrel freetime goout Dalc Walc health absences    G1    G2  G3  \n",
       "0 ...      4        3     4    1    1      3        6   \"5\"   \"6\"   6  \n",
       "1 ...      5        3     3    1    1      3        4   \"5\"   \"5\"   6  \n",
       "2 ...      4        3     2    2    3      3       10   \"7\"   \"8\"  10  \n",
       "3 ...      3        2     2    1    1      5        2  \"15\"  \"14\"  15  \n",
       "4 ...      4        3     2    1    2      5        4   \"6\"  \"10\"  10  \n",
       "\n",
       "[5 rows x 33 columns]"
      ]
     },
     "execution_count": 1417,
     "metadata": {},
     "output_type": "execute_result"
    }
   ],
   "source": [
    "df.head()"
   ]
  },
  {
   "cell_type": "code",
   "execution_count": 1418,
   "metadata": {
    "collapsed": false
   },
   "outputs": [],
   "source": [
    "for col in df.columns:\n",
    "    # drop ' \" ' sign from string\n",
    "    df[col] = df[col].apply(lambda x: x.replace('\"',''))\n",
    "    # convert str to int (what possible)\n",
    "    df[col] = df[col].apply(lambda x: int(x) if x.isdigit() else x)"
   ]
  },
  {
   "cell_type": "code",
   "execution_count": 1419,
   "metadata": {
    "collapsed": true
   },
   "outputs": [],
   "source": [
    "# # categorize\n",
    "# for col in df.columns[df.dtypes == object]:\n",
    "#     df[col] = pd.factorize(df[col])[0]"
   ]
  },
  {
   "cell_type": "code",
   "execution_count": 1420,
   "metadata": {
    "collapsed": true
   },
   "outputs": [],
   "source": [
    "df = my_categorize(df)"
   ]
  },
  {
   "cell_type": "code",
   "execution_count": 1421,
   "metadata": {
    "collapsed": false
   },
   "outputs": [],
   "source": [
    "# separate Features and Target\n",
    "target = df['G3']\n",
    "df = df.drop(columns='G3')"
   ]
  },
  {
   "cell_type": "code",
   "execution_count": 1422,
   "metadata": {
    "collapsed": true
   },
   "outputs": [],
   "source": [
    "reg_all_df.append((df,target))"
   ]
  },
  {
   "cell_type": "markdown",
   "metadata": {},
   "source": [
    "### 17- winequality-white.csv"
   ]
  },
  {
   "cell_type": "code",
   "execution_count": 1423,
   "metadata": {
    "collapsed": true
   },
   "outputs": [],
   "source": [
    "df = original_reg_df[17][0]"
   ]
  },
  {
   "cell_type": "code",
   "execution_count": 1424,
   "metadata": {
    "collapsed": false
   },
   "outputs": [
    {
     "data": {
      "text/html": [
       "<div>\n",
       "<style scoped>\n",
       "    .dataframe tbody tr th:only-of-type {\n",
       "        vertical-align: middle;\n",
       "    }\n",
       "\n",
       "    .dataframe tbody tr th {\n",
       "        vertical-align: top;\n",
       "    }\n",
       "\n",
       "    .dataframe thead th {\n",
       "        text-align: right;\n",
       "    }\n",
       "</style>\n",
       "<table border=\"1\" class=\"dataframe\">\n",
       "  <thead>\n",
       "    <tr style=\"text-align: right;\">\n",
       "      <th></th>\n",
       "      <th>fixed acidity;\"volatile acidity\";\"citric acid\";\"residual sugar\";\"chlorides\";\"free sulfur dioxide\";\"total sulfur dioxide\";\"density\";\"pH\";\"sulphates\";\"alcohol\";\"quality\"</th>\n",
       "    </tr>\n",
       "  </thead>\n",
       "  <tbody>\n",
       "    <tr>\n",
       "      <th>0</th>\n",
       "      <td>7;0.27;0.36;20.7;0.045;45;170;1.001;3;0.45;8.8;6</td>\n",
       "    </tr>\n",
       "    <tr>\n",
       "      <th>1</th>\n",
       "      <td>6.3;0.3;0.34;1.6;0.049;14;132;0.994;3.3;0.49;9...</td>\n",
       "    </tr>\n",
       "    <tr>\n",
       "      <th>2</th>\n",
       "      <td>8.1;0.28;0.4;6.9;0.05;30;97;0.9951;3.26;0.44;1...</td>\n",
       "    </tr>\n",
       "  </tbody>\n",
       "</table>\n",
       "</div>"
      ],
      "text/plain": [
       "  fixed acidity;\"volatile acidity\";\"citric acid\";\"residual sugar\";\"chlorides\";\"free sulfur dioxide\";\"total sulfur dioxide\";\"density\";\"pH\";\"sulphates\";\"alcohol\";\"quality\"\n",
       "0   7;0.27;0.36;20.7;0.045;45;170;1.001;3;0.45;8.8;6                                                                                                                     \n",
       "1  6.3;0.3;0.34;1.6;0.049;14;132;0.994;3.3;0.49;9...                                                                                                                     \n",
       "2  8.1;0.28;0.4;6.9;0.05;30;97;0.9951;3.26;0.44;1...                                                                                                                     "
      ]
     },
     "execution_count": 1424,
     "metadata": {},
     "output_type": "execute_result"
    }
   ],
   "source": [
    "df.head(3)"
   ]
  },
  {
   "cell_type": "code",
   "execution_count": 1425,
   "metadata": {
    "collapsed": false
   },
   "outputs": [],
   "source": [
    "# split data and columns and insert to new df\n",
    "splitted_data = df.apply(lambda x: ((x[0]).split(';')), axis=1)\n",
    "data = [row for row in splitted_data]\n",
    "df = pd.DataFrame(columns=df.columns[0].split(';'), data= data)"
   ]
  },
  {
   "cell_type": "code",
   "execution_count": 1426,
   "metadata": {
    "collapsed": false
   },
   "outputs": [
    {
     "data": {
      "text/plain": [
       "fixed acidity             object\n",
       "\"volatile acidity\"        object\n",
       "\"citric acid\"             object\n",
       "\"residual sugar\"          object\n",
       "\"chlorides\"               object\n",
       "\"free sulfur dioxide\"     object\n",
       "\"total sulfur dioxide\"    object\n",
       "\"density\"                 object\n",
       "\"pH\"                      object\n",
       "\"sulphates\"               object\n",
       "\"alcohol\"                 object\n",
       "\"quality\"                 object\n",
       "dtype: object"
      ]
     },
     "execution_count": 1426,
     "metadata": {},
     "output_type": "execute_result"
    }
   ],
   "source": [
    "df.dtypes"
   ]
  },
  {
   "cell_type": "code",
   "execution_count": 1427,
   "metadata": {
    "collapsed": false
   },
   "outputs": [],
   "source": [
    "# convert str to float\n",
    "for col in df.columns:\n",
    "    df[col] = df[col].apply(float)"
   ]
  },
  {
   "cell_type": "code",
   "execution_count": 1428,
   "metadata": {
    "collapsed": true
   },
   "outputs": [],
   "source": [
    "# separate Features and Target\n",
    "target = df[df.columns[-1]]\n",
    "df = df.drop(df.columns[-1], axis=1)"
   ]
  },
  {
   "cell_type": "code",
   "execution_count": 1429,
   "metadata": {
    "collapsed": true
   },
   "outputs": [],
   "source": [
    "reg_all_df.append((df,target))"
   ]
  },
  {
   "cell_type": "markdown",
   "metadata": {},
   "source": [
    "### 18- 2dplane.data"
   ]
  },
  {
   "cell_type": "markdown",
   "metadata": {},
   "source": [
    "We will read this data again, with 'delimiter':"
   ]
  },
  {
   "cell_type": "code",
   "execution_count": 1430,
   "metadata": {
    "collapsed": false
   },
   "outputs": [
    {
     "name": "stderr",
     "output_type": "stream",
     "text": [
      "C:\\Users\\MMM\\Anaconda2\\envs\\radar\\lib\\site-packages\\ipykernel_launcher.py:1: ParserWarning: Falling back to the 'python' engine because the 'c' engine does not support regex separators (separators > 1 char and different from '\\s+' are interpreted as regex); you can avoid this warning by specifying engine='python'.\n",
      "  \"\"\"Entry point for launching an IPython kernel.\n"
     ]
    }
   ],
   "source": [
    "df = pd.read_table('./datasets/regression/data_files/2dplane.data', delimiter= '  ')"
   ]
  },
  {
   "cell_type": "code",
   "execution_count": 1431,
   "metadata": {
    "collapsed": true
   },
   "outputs": [],
   "source": [
    "# separate Features and Target\n",
    "target = df[df.columns[-1]]\n",
    "df = df.drop(df.columns[-1], axis=1)"
   ]
  },
  {
   "cell_type": "code",
   "execution_count": 1432,
   "metadata": {
    "collapsed": false
   },
   "outputs": [],
   "source": [
    "# all_models_score(df, target,'aa')"
   ]
  },
  {
   "cell_type": "code",
   "execution_count": 1433,
   "metadata": {
    "collapsed": true
   },
   "outputs": [],
   "source": [
    "reg_all_df.append((df,target))"
   ]
  },
  {
   "cell_type": "markdown",
   "metadata": {
    "collapsed": true
   },
   "source": [
    "### 19- abalone.data"
   ]
  },
  {
   "cell_type": "markdown",
   "metadata": {},
   "source": [
    "We will read this data again, with 'delimiter' of ',':"
   ]
  },
  {
   "cell_type": "code",
   "execution_count": 1434,
   "metadata": {
    "collapsed": false
   },
   "outputs": [],
   "source": [
    "df = pd.read_table('./datasets/regression/data_files/abalone.data', delimiter= ',')"
   ]
  },
  {
   "cell_type": "code",
   "execution_count": 1435,
   "metadata": {
    "collapsed": false
   },
   "outputs": [],
   "source": [
    "# separate Features and Target\n",
    "target = df[df.columns[-1]]\n",
    "df = df.drop(df.columns[-1], axis=1)"
   ]
  },
  {
   "cell_type": "code",
   "execution_count": 1436,
   "metadata": {
    "collapsed": false
   },
   "outputs": [],
   "source": [
    "# #categorize\n",
    "# df['M'] = pd.factorize(df['M'])[0]"
   ]
  },
  {
   "cell_type": "code",
   "execution_count": 1437,
   "metadata": {
    "collapsed": true
   },
   "outputs": [],
   "source": [
    "df = my_categorize(df)"
   ]
  },
  {
   "cell_type": "code",
   "execution_count": 1438,
   "metadata": {
    "collapsed": true
   },
   "outputs": [],
   "source": [
    "reg_all_df.append((df,target))"
   ]
  },
  {
   "cell_type": "markdown",
   "metadata": {},
   "source": [
    "."
   ]
  },
  {
   "cell_type": "markdown",
   "metadata": {},
   "source": [
    "# CLASSIFICATION"
   ]
  },
  {
   "cell_type": "markdown",
   "metadata": {},
   "source": [
    "."
   ]
  },
  {
   "cell_type": "markdown",
   "metadata": {},
   "source": [
    "### 0- adult.data"
   ]
  },
  {
   "cell_type": "code",
   "execution_count": 1439,
   "metadata": {
    "collapsed": false
   },
   "outputs": [],
   "source": [
    "# read data with delimiter ','\n",
    "df = pd.read_table(path_classification+'adult.data' , delimiter=',')"
   ]
  },
  {
   "cell_type": "code",
   "execution_count": 1440,
   "metadata": {
    "collapsed": false
   },
   "outputs": [
    {
     "data": {
      "text/html": [
       "<div>\n",
       "<style scoped>\n",
       "    .dataframe tbody tr th:only-of-type {\n",
       "        vertical-align: middle;\n",
       "    }\n",
       "\n",
       "    .dataframe tbody tr th {\n",
       "        vertical-align: top;\n",
       "    }\n",
       "\n",
       "    .dataframe thead th {\n",
       "        text-align: right;\n",
       "    }\n",
       "</style>\n",
       "<table border=\"1\" class=\"dataframe\">\n",
       "  <thead>\n",
       "    <tr style=\"text-align: right;\">\n",
       "      <th></th>\n",
       "      <th>39</th>\n",
       "      <th>State-gov</th>\n",
       "      <th>77516</th>\n",
       "      <th>Bachelors</th>\n",
       "      <th>13</th>\n",
       "      <th>Never-married</th>\n",
       "      <th>Adm-clerical</th>\n",
       "      <th>Not-in-family</th>\n",
       "      <th>White</th>\n",
       "      <th>Male</th>\n",
       "      <th>2174</th>\n",
       "      <th>0</th>\n",
       "      <th>40</th>\n",
       "      <th>United-States</th>\n",
       "      <th>&lt;=50K</th>\n",
       "    </tr>\n",
       "  </thead>\n",
       "  <tbody>\n",
       "    <tr>\n",
       "      <th>0</th>\n",
       "      <td>50</td>\n",
       "      <td>Self-emp-not-inc</td>\n",
       "      <td>83311</td>\n",
       "      <td>Bachelors</td>\n",
       "      <td>13</td>\n",
       "      <td>Married-civ-spouse</td>\n",
       "      <td>Exec-managerial</td>\n",
       "      <td>Husband</td>\n",
       "      <td>White</td>\n",
       "      <td>Male</td>\n",
       "      <td>0</td>\n",
       "      <td>0</td>\n",
       "      <td>13</td>\n",
       "      <td>United-States</td>\n",
       "      <td>&lt;=50K</td>\n",
       "    </tr>\n",
       "    <tr>\n",
       "      <th>1</th>\n",
       "      <td>38</td>\n",
       "      <td>Private</td>\n",
       "      <td>215646</td>\n",
       "      <td>HS-grad</td>\n",
       "      <td>9</td>\n",
       "      <td>Divorced</td>\n",
       "      <td>Handlers-cleaners</td>\n",
       "      <td>Not-in-family</td>\n",
       "      <td>White</td>\n",
       "      <td>Male</td>\n",
       "      <td>0</td>\n",
       "      <td>0</td>\n",
       "      <td>40</td>\n",
       "      <td>United-States</td>\n",
       "      <td>&lt;=50K</td>\n",
       "    </tr>\n",
       "  </tbody>\n",
       "</table>\n",
       "</div>"
      ],
      "text/plain": [
       "   39          State-gov   77516   Bachelors   13        Never-married  \\\n",
       "0  50   Self-emp-not-inc   83311   Bachelors   13   Married-civ-spouse   \n",
       "1  38            Private  215646     HS-grad    9             Divorced   \n",
       "\n",
       "         Adm-clerical   Not-in-family   White   Male   2174   0   40  \\\n",
       "0     Exec-managerial         Husband   White   Male      0   0   13   \n",
       "1   Handlers-cleaners   Not-in-family   White   Male      0   0   40   \n",
       "\n",
       "    United-States   <=50K  \n",
       "0   United-States   <=50K  \n",
       "1   United-States   <=50K  "
      ]
     },
     "execution_count": 1440,
     "metadata": {},
     "output_type": "execute_result"
    }
   ],
   "source": [
    "df.head(2)"
   ]
  },
  {
   "cell_type": "code",
   "execution_count": 1441,
   "metadata": {
    "collapsed": false
   },
   "outputs": [
    {
     "data": {
      "text/plain": [
       "Index(['39', ' State-gov', ' 77516', ' Bachelors', ' 13', ' Never-married',\n",
       "       ' Adm-clerical', ' Not-in-family', ' White', ' Male', ' 2174', ' 0',\n",
       "       ' 40', ' United-States', ' <=50K'],\n",
       "      dtype='object')"
      ]
     },
     "execution_count": 1441,
     "metadata": {},
     "output_type": "execute_result"
    }
   ],
   "source": [
    "df.columns"
   ]
  },
  {
   "cell_type": "code",
   "execution_count": 1442,
   "metadata": {
    "collapsed": false
   },
   "outputs": [],
   "source": [
    "columns_convert_to_int = df.columns[[0,2,4,10,11,12]]"
   ]
  },
  {
   "cell_type": "code",
   "execution_count": 1443,
   "metadata": {
    "collapsed": false
   },
   "outputs": [],
   "source": [
    "# convert to int\n",
    "for col in columns_convert_to_int:\n",
    "    df[col] = df[col].apply(int)"
   ]
  },
  {
   "cell_type": "code",
   "execution_count": 1444,
   "metadata": {
    "collapsed": true
   },
   "outputs": [],
   "source": [
    "# separate Features and Target\n",
    "target = df[df.columns[-1]]\n",
    "df = df.drop(df.columns[-1], axis=1)"
   ]
  },
  {
   "cell_type": "code",
   "execution_count": 1445,
   "metadata": {
    "collapsed": true
   },
   "outputs": [],
   "source": [
    "target = pd.DataFrame(pd.factorize(target)[0])"
   ]
  },
  {
   "cell_type": "code",
   "execution_count": 1446,
   "metadata": {
    "collapsed": false
   },
   "outputs": [],
   "source": [
    "df = my_categorize(df)"
   ]
  },
  {
   "cell_type": "code",
   "execution_count": 1447,
   "metadata": {
    "collapsed": false,
    "scrolled": true
   },
   "outputs": [
    {
     "data": {
      "text/plain": [
       "39                                            int64\n",
       " 77516                                        int64\n",
       " 13                                           int64\n",
       " 2174                                         int64\n",
       " 0                                            int64\n",
       " 40                                           int64\n",
       " State-gov_ ?                                 uint8\n",
       " State-gov_ Federal-gov                       uint8\n",
       " State-gov_ Local-gov                         uint8\n",
       " State-gov_ Never-worked                      uint8\n",
       " State-gov_ Private                           uint8\n",
       " State-gov_ Self-emp-inc                      uint8\n",
       " State-gov_ Self-emp-not-inc                  uint8\n",
       " State-gov_ State-gov                         uint8\n",
       " State-gov_ Without-pay                       uint8\n",
       " State-gov_nan                                uint8\n",
       " Bachelors_ 10th                              uint8\n",
       " Bachelors_ 11th                              uint8\n",
       " Bachelors_ 12th                              uint8\n",
       " Bachelors_ 1st-4th                           uint8\n",
       " Bachelors_ 5th-6th                           uint8\n",
       " Bachelors_ 7th-8th                           uint8\n",
       " Bachelors_ 9th                               uint8\n",
       " Bachelors_ Assoc-acdm                        uint8\n",
       " Bachelors_ Assoc-voc                         uint8\n",
       " Bachelors_ Bachelors                         uint8\n",
       " Bachelors_ Doctorate                         uint8\n",
       " Bachelors_ HS-grad                           uint8\n",
       " Bachelors_ Masters                           uint8\n",
       " Bachelors_ Preschool                         uint8\n",
       "                                              ...  \n",
       " United-States_ Guatemala                     uint8\n",
       " United-States_ Haiti                         uint8\n",
       " United-States_ Holand-Netherlands            uint8\n",
       " United-States_ Honduras                      uint8\n",
       " United-States_ Hong                          uint8\n",
       " United-States_ Hungary                       uint8\n",
       " United-States_ India                         uint8\n",
       " United-States_ Iran                          uint8\n",
       " United-States_ Ireland                       uint8\n",
       " United-States_ Italy                         uint8\n",
       " United-States_ Jamaica                       uint8\n",
       " United-States_ Japan                         uint8\n",
       " United-States_ Laos                          uint8\n",
       " United-States_ Mexico                        uint8\n",
       " United-States_ Nicaragua                     uint8\n",
       " United-States_ Outlying-US(Guam-USVI-etc)    uint8\n",
       " United-States_ Peru                          uint8\n",
       " United-States_ Philippines                   uint8\n",
       " United-States_ Poland                        uint8\n",
       " United-States_ Portugal                      uint8\n",
       " United-States_ Puerto-Rico                   uint8\n",
       " United-States_ Scotland                      uint8\n",
       " United-States_ South                         uint8\n",
       " United-States_ Taiwan                        uint8\n",
       " United-States_ Thailand                      uint8\n",
       " United-States_ Trinadad&Tobago               uint8\n",
       " United-States_ United-States                 uint8\n",
       " United-States_ Vietnam                       uint8\n",
       " United-States_ Yugoslavia                    uint8\n",
       " United-States_nan                            uint8\n",
       "Length: 116, dtype: object"
      ]
     },
     "execution_count": 1447,
     "metadata": {},
     "output_type": "execute_result"
    }
   ],
   "source": [
    "df.dtypes"
   ]
  },
  {
   "cell_type": "code",
   "execution_count": 1448,
   "metadata": {
    "collapsed": false,
    "scrolled": true
   },
   "outputs": [],
   "source": [
    "# all_models_score(df, target, 'cls','gguu')"
   ]
  },
  {
   "cell_type": "code",
   "execution_count": 1449,
   "metadata": {
    "collapsed": true
   },
   "outputs": [],
   "source": [
    "cls_all_df.append((df,target))"
   ]
  },
  {
   "cell_type": "markdown",
   "metadata": {},
   "source": [
    "### 1- breast-cancer-wisconsin.csv"
   ]
  },
  {
   "cell_type": "code",
   "execution_count": 1450,
   "metadata": {
    "collapsed": false
   },
   "outputs": [],
   "source": [
    "df = original_cls_df[1][0]"
   ]
  },
  {
   "cell_type": "code",
   "execution_count": 1451,
   "metadata": {
    "collapsed": false,
    "scrolled": true
   },
   "outputs": [],
   "source": [
    "# separate Features and Target\n",
    "target = df[df.columns[1]]\n",
    "df = df.drop(df.columns[[0,1]], axis=1)"
   ]
  },
  {
   "cell_type": "code",
   "execution_count": 1452,
   "metadata": {
    "collapsed": false
   },
   "outputs": [],
   "source": [
    "target = pd.DataFrame((pd.factorize(target))[0])"
   ]
  },
  {
   "cell_type": "code",
   "execution_count": 1453,
   "metadata": {
    "collapsed": false
   },
   "outputs": [],
   "source": [
    "# all_models_score(df, target, 'cls','gguu')"
   ]
  },
  {
   "cell_type": "code",
   "execution_count": 1454,
   "metadata": {
    "collapsed": true
   },
   "outputs": [],
   "source": [
    "cls_all_df.append((df,target))"
   ]
  },
  {
   "cell_type": "markdown",
   "metadata": {},
   "source": [
    "### 2- car.data"
   ]
  },
  {
   "cell_type": "markdown",
   "metadata": {},
   "source": [
    "we will read the data with delimiter:"
   ]
  },
  {
   "cell_type": "code",
   "execution_count": 1455,
   "metadata": {
    "collapsed": false
   },
   "outputs": [],
   "source": [
    "df = pd.read_table(path_classification+'car.data', delimiter=',')"
   ]
  },
  {
   "cell_type": "code",
   "execution_count": 1456,
   "metadata": {
    "collapsed": false
   },
   "outputs": [
    {
     "name": "stdout",
     "output_type": "stream",
     "text": [
      "{'vhigh', 'med', 'high', 'low'}\n",
      "{'vhigh', 'med', 'high', 'low'}\n",
      "{'3', '4', '2', '5more'}\n",
      "{'more', '4', '2'}\n",
      "{'small', 'med', 'big'}\n",
      "{'med', 'high', 'low'}\n",
      "{'vgood', 'good', 'unacc', 'acc'}\n"
     ]
    }
   ],
   "source": [
    "for col in df.columns:\n",
    "    print(set(df[col]))"
   ]
  },
  {
   "cell_type": "code",
   "execution_count": 1457,
   "metadata": {
    "collapsed": false
   },
   "outputs": [],
   "source": [
    "# # categorize\n",
    "# for col in df.columns[df.dtypes == object]:\n",
    "#     df[col] = pd.factorize(df[col])[0]"
   ]
  },
  {
   "cell_type": "code",
   "execution_count": 1458,
   "metadata": {
    "collapsed": false
   },
   "outputs": [],
   "source": [
    "# separate Features and Target\n",
    "target = df[df.columns[-1]]\n",
    "df = df.drop(df.columns[-1], axis=1)"
   ]
  },
  {
   "cell_type": "code",
   "execution_count": 1459,
   "metadata": {
    "collapsed": false
   },
   "outputs": [],
   "source": [
    "target = pd.DataFrame((pd.factorize(target))[0])"
   ]
  },
  {
   "cell_type": "code",
   "execution_count": 1460,
   "metadata": {
    "collapsed": false
   },
   "outputs": [],
   "source": [
    "df = my_categorize(df)"
   ]
  },
  {
   "cell_type": "code",
   "execution_count": 1461,
   "metadata": {
    "collapsed": true
   },
   "outputs": [],
   "source": [
    "cls_all_df.append((df,target))"
   ]
  },
  {
   "cell_type": "code",
   "execution_count": 1462,
   "metadata": {
    "collapsed": false
   },
   "outputs": [],
   "source": [
    "# all_models_score(df, target,'cls','fff')"
   ]
  },
  {
   "cell_type": "markdown",
   "metadata": {},
   "source": [
    "### 3- cmc.data"
   ]
  },
  {
   "cell_type": "code",
   "execution_count": 1463,
   "metadata": {
    "collapsed": false
   },
   "outputs": [],
   "source": [
    "df = pd.read_table(path_classification + 'cmc.data', delimiter=',')"
   ]
  },
  {
   "cell_type": "code",
   "execution_count": 1464,
   "metadata": {
    "collapsed": true
   },
   "outputs": [],
   "source": [
    "# separate Features and Target\n",
    "target = df[df.columns[-1]]\n",
    "df = df.drop(df.columns[-1], axis=1)"
   ]
  },
  {
   "cell_type": "code",
   "execution_count": 1465,
   "metadata": {
    "collapsed": true
   },
   "outputs": [],
   "source": [
    "target = pd.DataFrame(pd.factorize(target)[0])"
   ]
  },
  {
   "cell_type": "code",
   "execution_count": 1466,
   "metadata": {
    "collapsed": false
   },
   "outputs": [],
   "source": [
    "# all_models_score(df, target, 'cls','aaaaa')"
   ]
  },
  {
   "cell_type": "code",
   "execution_count": 1467,
   "metadata": {
    "collapsed": true
   },
   "outputs": [],
   "source": [
    "cls_all_df.append((df,target))"
   ]
  },
  {
   "cell_type": "markdown",
   "metadata": {},
   "source": [
    "### 4- crx.data"
   ]
  },
  {
   "cell_type": "code",
   "execution_count": 1468,
   "metadata": {
    "collapsed": false
   },
   "outputs": [],
   "source": [
    "df = pd.read_table(path_classification + 'crx.data', delimiter=',')"
   ]
  },
  {
   "cell_type": "code",
   "execution_count": 1469,
   "metadata": {
    "collapsed": true
   },
   "outputs": [],
   "source": [
    "# separate Features and Target\n",
    "target = df[df.columns[-1]]\n",
    "df = df.drop(df.columns[-1], axis=1)"
   ]
  },
  {
   "cell_type": "code",
   "execution_count": 1470,
   "metadata": {
    "collapsed": true
   },
   "outputs": [],
   "source": [
    "target = pd.DataFrame(pd.factorize(target)[0])"
   ]
  },
  {
   "cell_type": "code",
   "execution_count": 1471,
   "metadata": {
    "collapsed": false
   },
   "outputs": [],
   "source": [
    "df = my_categorize(df)"
   ]
  },
  {
   "cell_type": "code",
   "execution_count": 1472,
   "metadata": {
    "collapsed": false,
    "scrolled": true
   },
   "outputs": [],
   "source": [
    "# all_models_score(df, target,'cls','ccc')"
   ]
  },
  {
   "cell_type": "code",
   "execution_count": 1473,
   "metadata": {
    "collapsed": true
   },
   "outputs": [],
   "source": [
    "cls_all_df.append((df,target))"
   ]
  },
  {
   "cell_type": "markdown",
   "metadata": {},
   "source": [
    "### 5- CTG.xls"
   ]
  },
  {
   "cell_type": "markdown",
   "metadata": {},
   "source": [
    "read specific excel sheet:"
   ]
  },
  {
   "cell_type": "code",
   "execution_count": 1474,
   "metadata": {
    "collapsed": false
   },
   "outputs": [],
   "source": [
    "df = pd.read_excel(path_classification + 'CTG.xls', sheet_name= 2)"
   ]
  },
  {
   "cell_type": "code",
   "execution_count": 1475,
   "metadata": {
    "collapsed": true
   },
   "outputs": [],
   "source": [
    "# cleaning data\n",
    "df = df.iloc[1:]\n",
    "df = df.drop(columns= ['FileName', 'Date', 'SegFile'])\n",
    "df = df.dropna()"
   ]
  },
  {
   "cell_type": "code",
   "execution_count": 1476,
   "metadata": {
    "collapsed": false
   },
   "outputs": [],
   "source": [
    "# separate Features and Target\n",
    "target = df[df.columns[-1]]\n",
    "df = df.drop(df.columns[-1], axis=1)"
   ]
  },
  {
   "cell_type": "code",
   "execution_count": 1477,
   "metadata": {
    "collapsed": false
   },
   "outputs": [],
   "source": [
    "target = pd.DataFrame(pd.factorize(target)[0])"
   ]
  },
  {
   "cell_type": "code",
   "execution_count": 1478,
   "metadata": {
    "collapsed": false
   },
   "outputs": [],
   "source": [
    "# all_models_score(df, target,'cls','gg')"
   ]
  },
  {
   "cell_type": "code",
   "execution_count": 1479,
   "metadata": {
    "collapsed": true
   },
   "outputs": [],
   "source": [
    "cls_all_df.append((df,target))"
   ]
  },
  {
   "cell_type": "markdown",
   "metadata": {},
   "source": [
    "### 6- data-banknote-authentication.txt"
   ]
  },
  {
   "cell_type": "code",
   "execution_count": 1480,
   "metadata": {
    "collapsed": false
   },
   "outputs": [],
   "source": [
    "df = original_cls_df[6][0]"
   ]
  },
  {
   "cell_type": "code",
   "execution_count": 1481,
   "metadata": {
    "collapsed": false
   },
   "outputs": [],
   "source": [
    "# separate Features and Target\n",
    "target = df[df.columns[-1]]\n",
    "df = df.drop(df.columns[-1], axis=1)"
   ]
  },
  {
   "cell_type": "code",
   "execution_count": 1482,
   "metadata": {
    "collapsed": false,
    "scrolled": true
   },
   "outputs": [],
   "source": [
    "# all_models_score(df, target,'cls','gg')"
   ]
  },
  {
   "cell_type": "code",
   "execution_count": 1483,
   "metadata": {
    "collapsed": true
   },
   "outputs": [],
   "source": [
    "cls_all_df.append((df,target))"
   ]
  },
  {
   "cell_type": "markdown",
   "metadata": {},
   "source": [
    "### 7- Data-Cortex-Nuclear"
   ]
  },
  {
   "cell_type": "code",
   "execution_count": 1484,
   "metadata": {
    "collapsed": true
   },
   "outputs": [],
   "source": [
    "df = original_cls_df[7][0]"
   ]
  },
  {
   "cell_type": "code",
   "execution_count": 1485,
   "metadata": {
    "collapsed": false
   },
   "outputs": [],
   "source": [
    "# separate Features and Target\n",
    "target = df[df.columns[-1]]\n",
    "df = df.drop(df.columns[-1], axis=1)"
   ]
  },
  {
   "cell_type": "code",
   "execution_count": 1486,
   "metadata": {
    "collapsed": true
   },
   "outputs": [],
   "source": [
    "target = pd.DataFrame(pd.factorize(target)[0])"
   ]
  },
  {
   "cell_type": "code",
   "execution_count": 1487,
   "metadata": {
    "collapsed": false
   },
   "outputs": [],
   "source": [
    "df = my_categorize(df)"
   ]
  },
  {
   "cell_type": "code",
   "execution_count": 1488,
   "metadata": {
    "collapsed": true
   },
   "outputs": [],
   "source": [
    "# all_models_score(df, target, 'cls', 'ff') # work well, but it's heavy..............."
   ]
  },
  {
   "cell_type": "code",
   "execution_count": 1489,
   "metadata": {
    "collapsed": true
   },
   "outputs": [],
   "source": [
    "cls_all_df.append((df,target))"
   ]
  },
  {
   "cell_type": "markdown",
   "metadata": {},
   "source": [
    "### 8- flare.csv"
   ]
  },
  {
   "cell_type": "code",
   "execution_count": 1490,
   "metadata": {
    "collapsed": false
   },
   "outputs": [],
   "source": [
    "df = original_cls_df[8][0]"
   ]
  },
  {
   "cell_type": "code",
   "execution_count": 1491,
   "metadata": {
    "collapsed": true
   },
   "outputs": [],
   "source": [
    "# separate Features and Target\n",
    "target = df[df.columns[-1]]\n",
    "df = df.drop(df.columns[-1], axis=1)"
   ]
  },
  {
   "cell_type": "code",
   "execution_count": 1492,
   "metadata": {
    "collapsed": true
   },
   "outputs": [],
   "source": [
    "target = pd.DataFrame(pd.factorize(target)[0])"
   ]
  },
  {
   "cell_type": "code",
   "execution_count": 1493,
   "metadata": {
    "collapsed": false
   },
   "outputs": [],
   "source": [
    "df = my_categorize(df)"
   ]
  },
  {
   "cell_type": "code",
   "execution_count": 1494,
   "metadata": {
    "collapsed": false
   },
   "outputs": [],
   "source": [
    "# all_models_score(df, target, 'cls', 'fffff')"
   ]
  },
  {
   "cell_type": "code",
   "execution_count": 1495,
   "metadata": {
    "collapsed": true
   },
   "outputs": [],
   "source": [
    "cls_all_df.append((df,target))"
   ]
  },
  {
   "cell_type": "markdown",
   "metadata": {},
   "source": [
    "### 9- Frogs-MFCCs.csv"
   ]
  },
  {
   "cell_type": "code",
   "execution_count": 1496,
   "metadata": {
    "collapsed": true
   },
   "outputs": [],
   "source": [
    "df = original_cls_df[9][0]"
   ]
  },
  {
   "cell_type": "code",
   "execution_count": 1497,
   "metadata": {
    "collapsed": false
   },
   "outputs": [],
   "source": [
    "# merge the multiple labels\n",
    "target = df.apply(lambda x: x['Family']+' '+x['Genus']+' '+x['Species'] , axis= 1)\n",
    "df = df.drop(columns=['Family', 'Genus', 'Species'])\n",
    "\n",
    "# clean unrellevant data\n",
    "df = df.drop(columns=['RecordID'])"
   ]
  },
  {
   "cell_type": "code",
   "execution_count": 1498,
   "metadata": {
    "collapsed": true
   },
   "outputs": [],
   "source": [
    "target = pd.DataFrame(pd.factorize(target)[0])"
   ]
  },
  {
   "cell_type": "code",
   "execution_count": 1499,
   "metadata": {
    "collapsed": false
   },
   "outputs": [],
   "source": [
    "# all_models_score(df, target, 'cls', 'fffff')"
   ]
  },
  {
   "cell_type": "code",
   "execution_count": 1500,
   "metadata": {
    "collapsed": true
   },
   "outputs": [],
   "source": [
    "cls_all_df.append((df,target))"
   ]
  },
  {
   "cell_type": "markdown",
   "metadata": {},
   "source": [
    "### 10- heart.dat"
   ]
  },
  {
   "cell_type": "code",
   "execution_count": 1501,
   "metadata": {
    "collapsed": true
   },
   "outputs": [],
   "source": [
    "df = original_cls_df[10][0]"
   ]
  },
  {
   "cell_type": "code",
   "execution_count": 1502,
   "metadata": {
    "collapsed": false
   },
   "outputs": [],
   "source": [
    "# separate Features and Target\n",
    "target = df[df.columns[-1]]\n",
    "df = df.drop(df.columns[-1], axis=1)"
   ]
  },
  {
   "cell_type": "code",
   "execution_count": 1503,
   "metadata": {
    "collapsed": true
   },
   "outputs": [],
   "source": [
    "target = pd.DataFrame(pd.factorize(target)[0])"
   ]
  },
  {
   "cell_type": "code",
   "execution_count": 1504,
   "metadata": {
    "collapsed": false,
    "scrolled": true
   },
   "outputs": [],
   "source": [
    "# all_models_score(df, target, 'cls', 'fffff')"
   ]
  },
  {
   "cell_type": "code",
   "execution_count": 1505,
   "metadata": {
    "collapsed": true
   },
   "outputs": [],
   "source": [
    "cls_all_df.append((df,target))"
   ]
  },
  {
   "cell_type": "markdown",
   "metadata": {},
   "source": [
    "### 11- messidor-features.arff"
   ]
  },
  {
   "cell_type": "code",
   "execution_count": 1506,
   "metadata": {
    "collapsed": true
   },
   "outputs": [],
   "source": [
    "df = original_cls_df[11][0]"
   ]
  },
  {
   "cell_type": "code",
   "execution_count": 1507,
   "metadata": {
    "collapsed": false
   },
   "outputs": [],
   "source": [
    "# separate Features and Target\n",
    "target = df[df.columns[-1]]\n",
    "df = df.drop(df.columns[-1], axis=1)"
   ]
  },
  {
   "cell_type": "code",
   "execution_count": 1508,
   "metadata": {
    "collapsed": true
   },
   "outputs": [],
   "source": [
    "target = pd.DataFrame(pd.factorize(target)[0])"
   ]
  },
  {
   "cell_type": "code",
   "execution_count": 1509,
   "metadata": {
    "collapsed": false,
    "scrolled": true
   },
   "outputs": [],
   "source": [
    "# all_models_score(df, target, 'cls', 'qq')"
   ]
  },
  {
   "cell_type": "code",
   "execution_count": 1510,
   "metadata": {
    "collapsed": true
   },
   "outputs": [],
   "source": [
    "cls_all_df.append((df,target))"
   ]
  },
  {
   "cell_type": "markdown",
   "metadata": {},
   "source": [
    "### 12- MEU-Mobile KSD 2016.xlsx"
   ]
  },
  {
   "cell_type": "code",
   "execution_count": 1511,
   "metadata": {
    "collapsed": false
   },
   "outputs": [],
   "source": [
    "df= original_cls_df[12][0]\n",
    "\n",
    "# clean empty rows \n",
    "df = df.iloc[4:]"
   ]
  },
  {
   "cell_type": "markdown",
   "metadata": {},
   "source": [
    "# PARTIAL DATA!!"
   ]
  },
  {
   "cell_type": "code",
   "execution_count": 1512,
   "metadata": {
    "collapsed": true
   },
   "outputs": [],
   "source": [
    "#Too much Heavy for CATBoost \n",
    "choose_partial_data = 800 \n",
    "df = df.iloc[:choose_partial_data]"
   ]
  },
  {
   "cell_type": "code",
   "execution_count": 1513,
   "metadata": {
    "collapsed": false
   },
   "outputs": [],
   "source": [
    "# edit df\n",
    "new_df = pd.DataFrame()\n",
    "for col in df.columns:\n",
    "    new_df[col] = df[col].tolist()"
   ]
  },
  {
   "cell_type": "code",
   "execution_count": 1514,
   "metadata": {
    "collapsed": true
   },
   "outputs": [],
   "source": [
    "# clean Nan\n",
    "new_df = new_df.dropna(axis=0)"
   ]
  },
  {
   "cell_type": "code",
   "execution_count": 1515,
   "metadata": {
    "collapsed": true
   },
   "outputs": [],
   "source": [
    "# separate Features and Target\n",
    "new_target = new_df[new_df.columns[0]]\n",
    "new_df = new_df.drop(new_df.columns[0], axis=1)"
   ]
  },
  {
   "cell_type": "code",
   "execution_count": 1516,
   "metadata": {
    "collapsed": true
   },
   "outputs": [],
   "source": [
    "new_target = pd.DataFrame(pd.factorize(new_target)[0])"
   ]
  },
  {
   "cell_type": "code",
   "execution_count": 1517,
   "metadata": {
    "collapsed": false,
    "scrolled": false
   },
   "outputs": [],
   "source": [
    "# all_models_score(new_df, target, 'cls', 'qqq')"
   ]
  },
  {
   "cell_type": "code",
   "execution_count": 1518,
   "metadata": {
    "collapsed": true
   },
   "outputs": [],
   "source": [
    "cls_all_df.append((new_df,new_target))"
   ]
  },
  {
   "cell_type": "markdown",
   "metadata": {},
   "source": [
    "### 13- nursery.data"
   ]
  },
  {
   "cell_type": "code",
   "execution_count": 1519,
   "metadata": {
    "collapsed": true
   },
   "outputs": [],
   "source": [
    "df= pd.read_table(path_classification+'nursery.data', delimiter=',')"
   ]
  },
  {
   "cell_type": "code",
   "execution_count": 1520,
   "metadata": {
    "collapsed": false
   },
   "outputs": [
    {
     "data": {
      "text/html": [
       "<div>\n",
       "<style scoped>\n",
       "    .dataframe tbody tr th:only-of-type {\n",
       "        vertical-align: middle;\n",
       "    }\n",
       "\n",
       "    .dataframe tbody tr th {\n",
       "        vertical-align: top;\n",
       "    }\n",
       "\n",
       "    .dataframe thead th {\n",
       "        text-align: right;\n",
       "    }\n",
       "</style>\n",
       "<table border=\"1\" class=\"dataframe\">\n",
       "  <thead>\n",
       "    <tr style=\"text-align: right;\">\n",
       "      <th></th>\n",
       "      <th>usual</th>\n",
       "      <th>proper</th>\n",
       "      <th>complete</th>\n",
       "      <th>1</th>\n",
       "      <th>convenient</th>\n",
       "      <th>convenient.1</th>\n",
       "      <th>nonprob</th>\n",
       "      <th>recommended</th>\n",
       "      <th>recommend</th>\n",
       "    </tr>\n",
       "  </thead>\n",
       "  <tbody>\n",
       "    <tr>\n",
       "      <th>0</th>\n",
       "      <td>usual</td>\n",
       "      <td>proper</td>\n",
       "      <td>complete</td>\n",
       "      <td>1</td>\n",
       "      <td>convenient</td>\n",
       "      <td>convenient</td>\n",
       "      <td>nonprob</td>\n",
       "      <td>priority</td>\n",
       "      <td>priority</td>\n",
       "    </tr>\n",
       "    <tr>\n",
       "      <th>1</th>\n",
       "      <td>usual</td>\n",
       "      <td>proper</td>\n",
       "      <td>complete</td>\n",
       "      <td>1</td>\n",
       "      <td>convenient</td>\n",
       "      <td>convenient</td>\n",
       "      <td>nonprob</td>\n",
       "      <td>not_recom</td>\n",
       "      <td>not_recom</td>\n",
       "    </tr>\n",
       "    <tr>\n",
       "      <th>2</th>\n",
       "      <td>usual</td>\n",
       "      <td>proper</td>\n",
       "      <td>complete</td>\n",
       "      <td>1</td>\n",
       "      <td>convenient</td>\n",
       "      <td>convenient</td>\n",
       "      <td>slightly_prob</td>\n",
       "      <td>recommended</td>\n",
       "      <td>recommend</td>\n",
       "    </tr>\n",
       "    <tr>\n",
       "      <th>3</th>\n",
       "      <td>usual</td>\n",
       "      <td>proper</td>\n",
       "      <td>complete</td>\n",
       "      <td>1</td>\n",
       "      <td>convenient</td>\n",
       "      <td>convenient</td>\n",
       "      <td>slightly_prob</td>\n",
       "      <td>priority</td>\n",
       "      <td>priority</td>\n",
       "    </tr>\n",
       "    <tr>\n",
       "      <th>4</th>\n",
       "      <td>usual</td>\n",
       "      <td>proper</td>\n",
       "      <td>complete</td>\n",
       "      <td>1</td>\n",
       "      <td>convenient</td>\n",
       "      <td>convenient</td>\n",
       "      <td>slightly_prob</td>\n",
       "      <td>not_recom</td>\n",
       "      <td>not_recom</td>\n",
       "    </tr>\n",
       "  </tbody>\n",
       "</table>\n",
       "</div>"
      ],
      "text/plain": [
       "   usual  proper  complete  1  convenient convenient.1        nonprob  \\\n",
       "0  usual  proper  complete  1  convenient   convenient        nonprob   \n",
       "1  usual  proper  complete  1  convenient   convenient        nonprob   \n",
       "2  usual  proper  complete  1  convenient   convenient  slightly_prob   \n",
       "3  usual  proper  complete  1  convenient   convenient  slightly_prob   \n",
       "4  usual  proper  complete  1  convenient   convenient  slightly_prob   \n",
       "\n",
       "   recommended  recommend  \n",
       "0     priority   priority  \n",
       "1    not_recom  not_recom  \n",
       "2  recommended  recommend  \n",
       "3     priority   priority  \n",
       "4    not_recom  not_recom  "
      ]
     },
     "execution_count": 1520,
     "metadata": {},
     "output_type": "execute_result"
    }
   ],
   "source": [
    "df.head()"
   ]
  },
  {
   "cell_type": "code",
   "execution_count": 1521,
   "metadata": {
    "collapsed": false
   },
   "outputs": [
    {
     "data": {
      "text/plain": [
       "usual           object\n",
       "proper          object\n",
       "complete        object\n",
       "1               object\n",
       "convenient      object\n",
       "convenient.1    object\n",
       "nonprob         object\n",
       "recommended     object\n",
       "recommend       object\n",
       "dtype: object"
      ]
     },
     "execution_count": 1521,
     "metadata": {},
     "output_type": "execute_result"
    }
   ],
   "source": [
    "df.dtypes"
   ]
  },
  {
   "cell_type": "code",
   "execution_count": 1522,
   "metadata": {
    "collapsed": true
   },
   "outputs": [],
   "source": [
    "# separate Features and Target\n",
    "target = df[df.columns[1]]\n",
    "df = df.drop(df.columns[1], axis=1)"
   ]
  },
  {
   "cell_type": "code",
   "execution_count": 1523,
   "metadata": {
    "collapsed": true
   },
   "outputs": [],
   "source": [
    "target = pd.DataFrame(pd.factorize(target)[0])"
   ]
  },
  {
   "cell_type": "code",
   "execution_count": 1524,
   "metadata": {
    "collapsed": false
   },
   "outputs": [],
   "source": [
    "df = my_categorize(df)"
   ]
  },
  {
   "cell_type": "code",
   "execution_count": 1525,
   "metadata": {
    "collapsed": false
   },
   "outputs": [],
   "source": [
    "# all_models_score(df, target, 'cls', 'qqq')"
   ]
  },
  {
   "cell_type": "code",
   "execution_count": 1526,
   "metadata": {
    "collapsed": true
   },
   "outputs": [],
   "source": [
    "cls_all_df.append((df,target))"
   ]
  },
  {
   "cell_type": "markdown",
   "metadata": {},
   "source": [
    "### 14- parkinson.txt"
   ]
  },
  {
   "cell_type": "code",
   "execution_count": 1527,
   "metadata": {
    "collapsed": false
   },
   "outputs": [],
   "source": [
    "df = original_cls_df[14][0]"
   ]
  },
  {
   "cell_type": "code",
   "execution_count": 1528,
   "metadata": {
    "collapsed": false,
    "scrolled": true
   },
   "outputs": [],
   "source": [
    "# separate Features and Target\n",
    "target = df[df.columns[-1]]\n",
    "df = df.drop(df.columns[-1], axis=1)"
   ]
  },
  {
   "cell_type": "code",
   "execution_count": 1529,
   "metadata": {
    "collapsed": true
   },
   "outputs": [],
   "source": [
    "target = pd.DataFrame(pd.factorize(target)[0])"
   ]
  },
  {
   "cell_type": "code",
   "execution_count": 1530,
   "metadata": {
    "collapsed": false,
    "scrolled": true
   },
   "outputs": [],
   "source": [
    "# all_models_score(df, target, 'cls', 'qqq')"
   ]
  },
  {
   "cell_type": "code",
   "execution_count": 1531,
   "metadata": {
    "collapsed": true
   },
   "outputs": [],
   "source": [
    "cls_all_df.append((df,target))"
   ]
  },
  {
   "cell_type": "markdown",
   "metadata": {},
   "source": [
    "### 15- pendigits-train.txt"
   ]
  },
  {
   "cell_type": "code",
   "execution_count": 1532,
   "metadata": {
    "collapsed": true
   },
   "outputs": [],
   "source": [
    "df = original_cls_df[15][0]"
   ]
  },
  {
   "cell_type": "code",
   "execution_count": 1533,
   "metadata": {
    "collapsed": false
   },
   "outputs": [],
   "source": [
    "# separate Features and Target\n",
    "target = df[df.columns[-1]]\n",
    "df = df.drop(df.columns[-1], axis=1)"
   ]
  },
  {
   "cell_type": "code",
   "execution_count": 1534,
   "metadata": {
    "collapsed": false
   },
   "outputs": [],
   "source": [
    "# all_models_score(df, target, 'cls', 'qqq')"
   ]
  },
  {
   "cell_type": "code",
   "execution_count": 1535,
   "metadata": {
    "collapsed": true
   },
   "outputs": [],
   "source": [
    "cls_all_df.append((df,target))"
   ]
  },
  {
   "cell_type": "markdown",
   "metadata": {},
   "source": [
    "### 16- PhishingData.arff"
   ]
  },
  {
   "cell_type": "code",
   "execution_count": 1536,
   "metadata": {
    "collapsed": true
   },
   "outputs": [],
   "source": [
    "df = original_cls_df[16][0]"
   ]
  },
  {
   "cell_type": "code",
   "execution_count": 1537,
   "metadata": {
    "collapsed": false
   },
   "outputs": [
    {
     "name": "stdout",
     "output_type": "stream",
     "text": [
      "SFH : {b'-1', b'0', b'1'}\n",
      "popUpWidnow : {b'-1', b'0', b'1'}\n",
      "SSLfinal_State : {b'-1', b'0', b'1'}\n",
      "Request_URL : {b'-1', b'0', b'1'}\n",
      "URL_of_Anchor : {b'-1', b'0', b'1'}\n",
      "web_traffic : {b'-1', b'0', b'1'}\n",
      "URL_Length : {b'-1', b'0', b'1'}\n",
      "age_of_domain : {b'-1', b'1'}\n",
      "having_IP_Address : {b'0', b'1'}\n",
      "Result : {b'-1', b'0', b'1'}\n"
     ]
    }
   ],
   "source": [
    "for col in df.columns:\n",
    "    temp = set(df[col].tolist())\n",
    "    if len(temp)<20:\n",
    "        print(col, ':' ,set(df[col].tolist()))"
   ]
  },
  {
   "cell_type": "code",
   "execution_count": 1538,
   "metadata": {
    "collapsed": true
   },
   "outputs": [],
   "source": [
    "# separate Features and Target\n",
    "target = df[df.columns[1]]\n",
    "df = df.drop(df.columns[1], axis=1)"
   ]
  },
  {
   "cell_type": "code",
   "execution_count": 1539,
   "metadata": {
    "collapsed": true
   },
   "outputs": [],
   "source": [
    "target = pd.DataFrame(pd.factorize(target)[0])"
   ]
  },
  {
   "cell_type": "code",
   "execution_count": 1540,
   "metadata": {
    "collapsed": false
   },
   "outputs": [],
   "source": [
    "df = my_categorize(df)"
   ]
  },
  {
   "cell_type": "code",
   "execution_count": 1541,
   "metadata": {
    "collapsed": false
   },
   "outputs": [],
   "source": [
    "# all_models_score(df, target, 'cls', 'wqq')"
   ]
  },
  {
   "cell_type": "code",
   "execution_count": 1542,
   "metadata": {
    "collapsed": true
   },
   "outputs": [],
   "source": [
    "cls_all_df.append((df,target))"
   ]
  },
  {
   "cell_type": "markdown",
   "metadata": {},
   "source": [
    "## This was problematic data, don't insert"
   ]
  },
  {
   "cell_type": "markdown",
   "metadata": {},
   "source": [
    "### 17#- shuttle.trn"
   ]
  },
  {
   "cell_type": "code",
   "execution_count": 1543,
   "metadata": {
    "collapsed": true
   },
   "outputs": [],
   "source": [
    "# df = original_cls_df[17___][0]"
   ]
  },
  {
   "cell_type": "code",
   "execution_count": 1544,
   "metadata": {
    "collapsed": true
   },
   "outputs": [],
   "source": [
    "# # separate Features and Target\n",
    "# target = df[df.columns[-1]]\n",
    "# df = df.drop(df.columns[-1], axis=1)"
   ]
  },
  {
   "cell_type": "code",
   "execution_count": 1545,
   "metadata": {
    "collapsed": true
   },
   "outputs": [],
   "source": [
    "# target = pd.DataFrame(pd.factorize(target)[0])"
   ]
  },
  {
   "cell_type": "code",
   "execution_count": 1546,
   "metadata": {
    "collapsed": false
   },
   "outputs": [],
   "source": [
    "# target[0].value_counts()"
   ]
  },
  {
   "cell_type": "code",
   "execution_count": null,
   "metadata": {
    "collapsed": true
   },
   "outputs": [],
   "source": []
  },
  {
   "cell_type": "code",
   "execution_count": 1547,
   "metadata": {
    "collapsed": false,
    "scrolled": true
   },
   "outputs": [],
   "source": [
    "# all_models_score(df, target, 'cls', 0)"
   ]
  },
  {
   "cell_type": "code",
   "execution_count": 1548,
   "metadata": {
    "collapsed": true
   },
   "outputs": [],
   "source": [
    "# cls_all_df.append((df,target))"
   ]
  },
  {
   "cell_type": "markdown",
   "metadata": {},
   "source": [
    "### 17- titanic-train.csv"
   ]
  },
  {
   "cell_type": "code",
   "execution_count": 1549,
   "metadata": {
    "collapsed": false
   },
   "outputs": [],
   "source": [
    "df = original_cls_df[17][0]"
   ]
  },
  {
   "cell_type": "code",
   "execution_count": 1550,
   "metadata": {
    "collapsed": false
   },
   "outputs": [],
   "source": [
    "df = df.copy().drop(columns= ['Name', 'Cabin', 'Ticket'])"
   ]
  },
  {
   "cell_type": "code",
   "execution_count": 1551,
   "metadata": {
    "collapsed": true
   },
   "outputs": [],
   "source": [
    "df = df.dropna()"
   ]
  },
  {
   "cell_type": "code",
   "execution_count": 1552,
   "metadata": {
    "collapsed": true
   },
   "outputs": [],
   "source": [
    "# separate Features and Target\n",
    "target = df[df.columns[-1]]\n",
    "df = df.drop(df.columns[-1], axis=1)"
   ]
  },
  {
   "cell_type": "code",
   "execution_count": 1553,
   "metadata": {
    "collapsed": true
   },
   "outputs": [],
   "source": [
    "target = pd.DataFrame(pd.factorize(target)[0])"
   ]
  },
  {
   "cell_type": "code",
   "execution_count": 1554,
   "metadata": {
    "collapsed": false
   },
   "outputs": [],
   "source": [
    "df = my_categorize(df)"
   ]
  },
  {
   "cell_type": "code",
   "execution_count": 1555,
   "metadata": {
    "collapsed": false,
    "scrolled": true
   },
   "outputs": [],
   "source": [
    "# all_models_score(df, target, 'cls', 'wwqq')"
   ]
  },
  {
   "cell_type": "code",
   "execution_count": 1556,
   "metadata": {
    "collapsed": true
   },
   "outputs": [],
   "source": [
    "cls_all_df.append((df,target))"
   ]
  },
  {
   "cell_type": "markdown",
   "metadata": {},
   "source": [
    "### 18- voice-gender.csv"
   ]
  },
  {
   "cell_type": "code",
   "execution_count": 1557,
   "metadata": {
    "collapsed": true
   },
   "outputs": [],
   "source": [
    "df = original_cls_df[18][0]"
   ]
  },
  {
   "cell_type": "code",
   "execution_count": 1558,
   "metadata": {
    "collapsed": false
   },
   "outputs": [],
   "source": [
    "# separate Features and Target\n",
    "target = df[df.columns[-1]]\n",
    "df = df.drop(df.columns[-1], axis=1)"
   ]
  },
  {
   "cell_type": "code",
   "execution_count": 1559,
   "metadata": {
    "collapsed": true
   },
   "outputs": [],
   "source": [
    "target = pd.DataFrame(pd.factorize(target)[0])"
   ]
  },
  {
   "cell_type": "code",
   "execution_count": 1560,
   "metadata": {
    "collapsed": false,
    "scrolled": true
   },
   "outputs": [],
   "source": [
    "# all_models_score(df, target, 'cls', 'wwwqq')"
   ]
  },
  {
   "cell_type": "code",
   "execution_count": 1561,
   "metadata": {
    "collapsed": true
   },
   "outputs": [],
   "source": [
    "cls_all_df.append((df,target))"
   ]
  },
  {
   "cell_type": "markdown",
   "metadata": {},
   "source": [
    "# .\n",
    "# Get All Scores:\n",
    "# ."
   ]
  },
  {
   "cell_type": "code",
   "execution_count": 1562,
   "metadata": {
    "collapsed": false
   },
   "outputs": [
    {
     "name": "stdout",
     "output_type": "stream",
     "text": [
      "autoHorse.arff\n",
      "autoPrice.arff\n",
      "fishcatch.arff\n",
      "pbc.arff\n",
      "pharynx.arff\n",
      "airfoil-self-noise.csv\n",
      "ASP.csv\n",
      "CASP.csv\n",
      "Concrete_Data_Yeh.csv\n",
      "house.csv\n",
      "insurance.csv\n",
      "iowa-houseprice.csv\n",
      "Life-Expectancy-Data.csv\n",
      "OnlineNewsPopularity.csv\n",
      "prolife.csv\n",
      "servo.csv\n",
      "student-math.csv\n",
      "winequality-white.csv\n",
      "2dplane.data\n",
      "abalone.data\n",
      "adult.data\n",
      "breast-cancer-wisconsin.csv\n",
      "car.data\n",
      "cmc.data\n",
      "crx.data\n",
      "CTG.xls\n",
      "data-banknote-authentication.txt\n",
      "Data-Cortex-Nuclear.xls\n",
      "flare.csv\n",
      "Frogs-MFCCs.csv\n",
      "heart.dat\n",
      "messidor-features.arff\n",
      "MEU-Mobile KSD 2016.xlsx\n",
      "nursery.data\n",
      "parkinson.txt\n",
      "pendigits-train.txt\n",
      "PhishingData.arff\n",
      "titanic-train.csv\n",
      "voice-gender.csv\n"
     ]
    }
   ],
   "source": [
    "final_df = get_all_scores()"
   ]
  },
  {
   "cell_type": "code",
   "execution_count": 1563,
   "metadata": {
    "collapsed": false,
    "scrolled": false
   },
   "outputs": [
    {
     "data": {
      "text/html": [
       "<div>\n",
       "<style scoped>\n",
       "    .dataframe tbody tr th:only-of-type {\n",
       "        vertical-align: middle;\n",
       "    }\n",
       "\n",
       "    .dataframe tbody tr th {\n",
       "        vertical-align: top;\n",
       "    }\n",
       "\n",
       "    .dataframe thead th {\n",
       "        text-align: right;\n",
       "    }\n",
       "</style>\n",
       "<table border=\"1\" class=\"dataframe\">\n",
       "  <thead>\n",
       "    <tr style=\"text-align: right;\">\n",
       "      <th></th>\n",
       "      <th>xgb_train</th>\n",
       "      <th>lgbm_train</th>\n",
       "      <th>cat_train</th>\n",
       "      <th>xgb_test</th>\n",
       "      <th>lgbm_test</th>\n",
       "      <th>cat_test</th>\n",
       "    </tr>\n",
       "  </thead>\n",
       "  <tbody>\n",
       "    <tr>\n",
       "      <th>autoHorse.arff</th>\n",
       "      <td>1.552893e+06</td>\n",
       "      <td>4.929739e+06</td>\n",
       "      <td>4.639961e+07</td>\n",
       "      <td>5.356159e+06</td>\n",
       "      <td>8.714213e+06</td>\n",
       "      <td>5.040927e+07</td>\n",
       "    </tr>\n",
       "    <tr>\n",
       "      <th>autoPrice.arff</th>\n",
       "      <td>1.554388e+06</td>\n",
       "      <td>4.940683e+06</td>\n",
       "      <td>4.654317e+07</td>\n",
       "      <td>5.184658e+06</td>\n",
       "      <td>6.996745e+06</td>\n",
       "      <td>5.071743e+07</td>\n",
       "    </tr>\n",
       "    <tr>\n",
       "      <th>fishcatch.arff</th>\n",
       "      <td>2.471420e+03</td>\n",
       "      <td>1.708532e+04</td>\n",
       "      <td>8.549799e+04</td>\n",
       "      <td>6.723251e+03</td>\n",
       "      <td>2.301882e+04</td>\n",
       "      <td>9.097582e+04</td>\n",
       "    </tr>\n",
       "    <tr>\n",
       "      <th>pbc.arff</th>\n",
       "      <td>4.212275e+05</td>\n",
       "      <td>3.327740e+05</td>\n",
       "      <td>1.628693e+06</td>\n",
       "      <td>8.158405e+05</td>\n",
       "      <td>8.070352e+05</td>\n",
       "      <td>1.691598e+06</td>\n",
       "    </tr>\n",
       "    <tr>\n",
       "      <th>pharynx.arff</th>\n",
       "      <td>5.482650e+04</td>\n",
       "      <td>7.978934e+04</td>\n",
       "      <td>1.983115e+05</td>\n",
       "      <td>1.209803e+05</td>\n",
       "      <td>1.157534e+05</td>\n",
       "      <td>2.227602e+05</td>\n",
       "    </tr>\n",
       "    <tr>\n",
       "      <th>airfoil-self-noise.csv</th>\n",
       "      <td>4.254600e+01</td>\n",
       "      <td>4.303000e+00</td>\n",
       "      <td>2.683096e+03</td>\n",
       "      <td>4.400600e+01</td>\n",
       "      <td>6.021000e+00</td>\n",
       "      <td>2.692469e+03</td>\n",
       "    </tr>\n",
       "    <tr>\n",
       "      <th>ASP.csv</th>\n",
       "      <td>1.120000e-01</td>\n",
       "      <td>3.800000e-02</td>\n",
       "      <td>4.140000e-01</td>\n",
       "      <td>1.880000e-01</td>\n",
       "      <td>1.640000e-01</td>\n",
       "      <td>4.400000e-01</td>\n",
       "    </tr>\n",
       "    <tr>\n",
       "      <th>CASP.csv</th>\n",
       "      <td>2.531100e+01</td>\n",
       "      <td>1.926800e+01</td>\n",
       "      <td>3.929300e+01</td>\n",
       "      <td>2.561100e+01</td>\n",
       "      <td>2.013400e+01</td>\n",
       "      <td>3.936000e+01</td>\n",
       "    </tr>\n",
       "    <tr>\n",
       "      <th>Concrete_Data_Yeh.csv</th>\n",
       "      <td>4.023500e+01</td>\n",
       "      <td>1.540400e+01</td>\n",
       "      <td>3.797770e+02</td>\n",
       "      <td>4.958700e+01</td>\n",
       "      <td>3.112000e+01</td>\n",
       "      <td>3.881770e+02</td>\n",
       "    </tr>\n",
       "    <tr>\n",
       "      <th>house.csv</th>\n",
       "      <td>1.307570e+09</td>\n",
       "      <td>7.555947e+08</td>\n",
       "      <td>2.190107e+09</td>\n",
       "      <td>1.401440e+09</td>\n",
       "      <td>1.065745e+09</td>\n",
       "      <td>2.219377e+09</td>\n",
       "    </tr>\n",
       "    <tr>\n",
       "      <th>insurance.csv</th>\n",
       "      <td>1.879997e+07</td>\n",
       "      <td>1.419988e+07</td>\n",
       "      <td>8.394340e+07</td>\n",
       "      <td>2.060065e+07</td>\n",
       "      <td>2.114294e+07</td>\n",
       "      <td>8.459498e+07</td>\n",
       "    </tr>\n",
       "    <tr>\n",
       "      <th>iowa-houseprice.csv</th>\n",
       "      <td>6.002223e+08</td>\n",
       "      <td>4.333231e+08</td>\n",
       "      <td>8.925567e+09</td>\n",
       "      <td>1.130356e+09</td>\n",
       "      <td>9.387052e+08</td>\n",
       "      <td>9.077385e+09</td>\n",
       "    </tr>\n",
       "    <tr>\n",
       "      <th>Life-Expectancy-Data.csv</th>\n",
       "      <td>1.354100e+01</td>\n",
       "      <td>1.956000e+00</td>\n",
       "      <td>8.475520e+02</td>\n",
       "      <td>1.496200e+01</td>\n",
       "      <td>3.986000e+00</td>\n",
       "      <td>8.495150e+02</td>\n",
       "    </tr>\n",
       "    <tr>\n",
       "      <th>OnlineNewsPopularity.csv</th>\n",
       "      <td>1.106022e+08</td>\n",
       "      <td>1.024587e+08</td>\n",
       "      <td>1.320183e+08</td>\n",
       "      <td>1.361403e+08</td>\n",
       "      <td>1.347652e+08</td>\n",
       "      <td>1.351908e+08</td>\n",
       "    </tr>\n",
       "    <tr>\n",
       "      <th>prolife.csv</th>\n",
       "      <td>3.909000e+00</td>\n",
       "      <td>3.400000e+00</td>\n",
       "      <td>9.978000e+00</td>\n",
       "      <td>3.940000e+00</td>\n",
       "      <td>3.511000e+00</td>\n",
       "      <td>9.988000e+00</td>\n",
       "    </tr>\n",
       "    <tr>\n",
       "      <th>servo.csv</th>\n",
       "      <td>1.820000e-01</td>\n",
       "      <td>7.320000e-01</td>\n",
       "      <td>1.551000e+00</td>\n",
       "      <td>4.700000e-01</td>\n",
       "      <td>8.800000e-01</td>\n",
       "      <td>1.771000e+00</td>\n",
       "    </tr>\n",
       "    <tr>\n",
       "      <th>student-math.csv</th>\n",
       "      <td>1.867000e+00</td>\n",
       "      <td>1.612000e+00</td>\n",
       "      <td>3.450600e+01</td>\n",
       "      <td>3.160000e+00</td>\n",
       "      <td>2.968000e+00</td>\n",
       "      <td>3.650400e+01</td>\n",
       "    </tr>\n",
       "    <tr>\n",
       "      <th>winequality-white.csv</th>\n",
       "      <td>5.230000e-01</td>\n",
       "      <td>3.390000e-01</td>\n",
       "      <td>6.352000e+00</td>\n",
       "      <td>5.640000e-01</td>\n",
       "      <td>4.580000e-01</td>\n",
       "      <td>6.369000e+00</td>\n",
       "    </tr>\n",
       "    <tr>\n",
       "      <th>2dplane.data</th>\n",
       "      <td>1.317000e+00</td>\n",
       "      <td>1.034000e+00</td>\n",
       "      <td>5.016000e+00</td>\n",
       "      <td>1.321000e+00</td>\n",
       "      <td>1.038000e+00</td>\n",
       "      <td>5.022000e+00</td>\n",
       "    </tr>\n",
       "    <tr>\n",
       "      <th>abalone.data</th>\n",
       "      <td>4.626000e+00</td>\n",
       "      <td>3.250000e+00</td>\n",
       "      <td>2.330600e+01</td>\n",
       "      <td>5.055000e+00</td>\n",
       "      <td>4.617000e+00</td>\n",
       "      <td>2.337100e+01</td>\n",
       "    </tr>\n",
       "    <tr>\n",
       "      <th>adult.data</th>\n",
       "      <td>3.290000e-01</td>\n",
       "      <td>2.890000e-01</td>\n",
       "      <td>4.370000e-01</td>\n",
       "      <td>3.320000e-01</td>\n",
       "      <td>2.990000e-01</td>\n",
       "      <td>4.380000e-01</td>\n",
       "    </tr>\n",
       "    <tr>\n",
       "      <th>breast-cancer-wisconsin.csv</th>\n",
       "      <td>6.400000e-02</td>\n",
       "      <td>6.500000e-02</td>\n",
       "      <td>3.310000e-01</td>\n",
       "      <td>1.340000e-01</td>\n",
       "      <td>1.320000e-01</td>\n",
       "      <td>3.500000e-01</td>\n",
       "    </tr>\n",
       "    <tr>\n",
       "      <th>car.data</th>\n",
       "      <td>3.840000e-01</td>\n",
       "      <td>1.630000e-01</td>\n",
       "      <td>6.850000e-01</td>\n",
       "      <td>3.950000e-01</td>\n",
       "      <td>1.900000e-01</td>\n",
       "      <td>6.940000e-01</td>\n",
       "    </tr>\n",
       "    <tr>\n",
       "      <th>cmc.data</th>\n",
       "      <td>8.540000e-01</td>\n",
       "      <td>7.080000e-01</td>\n",
       "      <td>9.630000e-01</td>\n",
       "      <td>9.180000e-01</td>\n",
       "      <td>9.220000e-01</td>\n",
       "      <td>9.830000e-01</td>\n",
       "    </tr>\n",
       "    <tr>\n",
       "      <th>crx.data</th>\n",
       "      <td>2.650000e-01</td>\n",
       "      <td>2.120000e-01</td>\n",
       "      <td>4.460000e-01</td>\n",
       "      <td>3.320000e-01</td>\n",
       "      <td>3.290000e-01</td>\n",
       "      <td>4.510000e-01</td>\n",
       "    </tr>\n",
       "    <tr>\n",
       "      <th>CTG.xls</th>\n",
       "      <td>7.800000e-02</td>\n",
       "      <td>6.200000e-02</td>\n",
       "      <td>3.660000e-01</td>\n",
       "      <td>9.100000e-02</td>\n",
       "      <td>7.800000e-02</td>\n",
       "      <td>3.680000e-01</td>\n",
       "    </tr>\n",
       "    <tr>\n",
       "      <th>data-banknote-authentication.txt</th>\n",
       "      <td>8.300000e-02</td>\n",
       "      <td>3.600000e-02</td>\n",
       "      <td>3.150000e-01</td>\n",
       "      <td>1.000000e-01</td>\n",
       "      <td>5.500000e-02</td>\n",
       "      <td>3.200000e-01</td>\n",
       "    </tr>\n",
       "    <tr>\n",
       "      <th>Data-Cortex-Nuclear.xls</th>\n",
       "      <td>9.200000e-02</td>\n",
       "      <td>7.900000e-02</td>\n",
       "      <td>4.870000e-01</td>\n",
       "      <td>1.220000e-01</td>\n",
       "      <td>1.020000e-01</td>\n",
       "      <td>4.850000e-01</td>\n",
       "    </tr>\n",
       "    <tr>\n",
       "      <th>flare.csv</th>\n",
       "      <td>5.780000e-01</td>\n",
       "      <td>5.360000e-01</td>\n",
       "      <td>8.950000e-01</td>\n",
       "      <td>6.290000e-01</td>\n",
       "      <td>6.230000e-01</td>\n",
       "      <td>9.090000e-01</td>\n",
       "    </tr>\n",
       "    <tr>\n",
       "      <th>Frogs-MFCCs.csv</th>\n",
       "      <td>1.880000e-01</td>\n",
       "      <td>1.030000e-01</td>\n",
       "      <td>7.050000e-01</td>\n",
       "      <td>2.410000e-01</td>\n",
       "      <td>1.760000e-01</td>\n",
       "      <td>7.180000e-01</td>\n",
       "    </tr>\n",
       "    <tr>\n",
       "      <th>heart.dat</th>\n",
       "      <td>2.450000e-01</td>\n",
       "      <td>2.390000e-01</td>\n",
       "      <td>4.850000e-01</td>\n",
       "      <td>4.360000e-01</td>\n",
       "      <td>4.280000e-01</td>\n",
       "      <td>5.320000e-01</td>\n",
       "    </tr>\n",
       "    <tr>\n",
       "      <th>messidor-features.arff</th>\n",
       "      <td>5.160000e-01</td>\n",
       "      <td>2.850000e-01</td>\n",
       "      <td>6.240000e-01</td>\n",
       "      <td>5.900000e-01</td>\n",
       "      <td>5.700000e-01</td>\n",
       "      <td>6.380000e-01</td>\n",
       "    </tr>\n",
       "    <tr>\n",
       "      <th>MEU-Mobile KSD 2016.xlsx</th>\n",
       "      <td>1.760000e-01</td>\n",
       "      <td>1.490000e-01</td>\n",
       "      <td>1.643000e+00</td>\n",
       "      <td>5.150000e-01</td>\n",
       "      <td>4.710000e-01</td>\n",
       "      <td>1.764000e+00</td>\n",
       "    </tr>\n",
       "    <tr>\n",
       "      <th>nursery.data</th>\n",
       "      <td>1.411000e+00</td>\n",
       "      <td>1.334000e+00</td>\n",
       "      <td>1.458000e+00</td>\n",
       "      <td>1.418000e+00</td>\n",
       "      <td>1.364000e+00</td>\n",
       "      <td>1.463000e+00</td>\n",
       "    </tr>\n",
       "    <tr>\n",
       "      <th>parkinson.txt</th>\n",
       "      <td>2.700000e-02</td>\n",
       "      <td>2.400000e-02</td>\n",
       "      <td>2.570000e-01</td>\n",
       "      <td>2.700000e-02</td>\n",
       "      <td>2.400000e-02</td>\n",
       "      <td>2.600000e-01</td>\n",
       "    </tr>\n",
       "    <tr>\n",
       "      <th>pendigits-train.txt</th>\n",
       "      <td>2.760000e-01</td>\n",
       "      <td>1.030000e-01</td>\n",
       "      <td>7.810000e-01</td>\n",
       "      <td>3.140000e-01</td>\n",
       "      <td>1.580000e-01</td>\n",
       "      <td>7.920000e-01</td>\n",
       "    </tr>\n",
       "    <tr>\n",
       "      <th>PhishingData.arff</th>\n",
       "      <td>7.720000e-01</td>\n",
       "      <td>7.060000e-01</td>\n",
       "      <td>8.820000e-01</td>\n",
       "      <td>8.140000e-01</td>\n",
       "      <td>8.340000e-01</td>\n",
       "      <td>8.970000e-01</td>\n",
       "    </tr>\n",
       "    <tr>\n",
       "      <th>titanic-train.csv</th>\n",
       "      <td>3.880000e-01</td>\n",
       "      <td>3.370000e-01</td>\n",
       "      <td>6.980000e-01</td>\n",
       "      <td>4.720000e-01</td>\n",
       "      <td>4.850000e-01</td>\n",
       "      <td>7.140000e-01</td>\n",
       "    </tr>\n",
       "    <tr>\n",
       "      <th>voice-gender.csv</th>\n",
       "      <td>7.600000e-02</td>\n",
       "      <td>4.800000e-02</td>\n",
       "      <td>2.890000e-01</td>\n",
       "      <td>9.700000e-02</td>\n",
       "      <td>8.600000e-02</td>\n",
       "      <td>2.930000e-01</td>\n",
       "    </tr>\n",
       "  </tbody>\n",
       "</table>\n",
       "</div>"
      ],
      "text/plain": [
       "                                     xgb_train    lgbm_train     cat_train  \\\n",
       "autoHorse.arff                    1.552893e+06  4.929739e+06  4.639961e+07   \n",
       "autoPrice.arff                    1.554388e+06  4.940683e+06  4.654317e+07   \n",
       "fishcatch.arff                    2.471420e+03  1.708532e+04  8.549799e+04   \n",
       "pbc.arff                          4.212275e+05  3.327740e+05  1.628693e+06   \n",
       "pharynx.arff                      5.482650e+04  7.978934e+04  1.983115e+05   \n",
       "airfoil-self-noise.csv            4.254600e+01  4.303000e+00  2.683096e+03   \n",
       "ASP.csv                           1.120000e-01  3.800000e-02  4.140000e-01   \n",
       "CASP.csv                          2.531100e+01  1.926800e+01  3.929300e+01   \n",
       "Concrete_Data_Yeh.csv             4.023500e+01  1.540400e+01  3.797770e+02   \n",
       "house.csv                         1.307570e+09  7.555947e+08  2.190107e+09   \n",
       "insurance.csv                     1.879997e+07  1.419988e+07  8.394340e+07   \n",
       "iowa-houseprice.csv               6.002223e+08  4.333231e+08  8.925567e+09   \n",
       "Life-Expectancy-Data.csv          1.354100e+01  1.956000e+00  8.475520e+02   \n",
       "OnlineNewsPopularity.csv          1.106022e+08  1.024587e+08  1.320183e+08   \n",
       "prolife.csv                       3.909000e+00  3.400000e+00  9.978000e+00   \n",
       "servo.csv                         1.820000e-01  7.320000e-01  1.551000e+00   \n",
       "student-math.csv                  1.867000e+00  1.612000e+00  3.450600e+01   \n",
       "winequality-white.csv             5.230000e-01  3.390000e-01  6.352000e+00   \n",
       "2dplane.data                      1.317000e+00  1.034000e+00  5.016000e+00   \n",
       "abalone.data                      4.626000e+00  3.250000e+00  2.330600e+01   \n",
       "adult.data                        3.290000e-01  2.890000e-01  4.370000e-01   \n",
       "breast-cancer-wisconsin.csv       6.400000e-02  6.500000e-02  3.310000e-01   \n",
       "car.data                          3.840000e-01  1.630000e-01  6.850000e-01   \n",
       "cmc.data                          8.540000e-01  7.080000e-01  9.630000e-01   \n",
       "crx.data                          2.650000e-01  2.120000e-01  4.460000e-01   \n",
       "CTG.xls                           7.800000e-02  6.200000e-02  3.660000e-01   \n",
       "data-banknote-authentication.txt  8.300000e-02  3.600000e-02  3.150000e-01   \n",
       "Data-Cortex-Nuclear.xls           9.200000e-02  7.900000e-02  4.870000e-01   \n",
       "flare.csv                         5.780000e-01  5.360000e-01  8.950000e-01   \n",
       "Frogs-MFCCs.csv                   1.880000e-01  1.030000e-01  7.050000e-01   \n",
       "heart.dat                         2.450000e-01  2.390000e-01  4.850000e-01   \n",
       "messidor-features.arff            5.160000e-01  2.850000e-01  6.240000e-01   \n",
       "MEU-Mobile KSD 2016.xlsx          1.760000e-01  1.490000e-01  1.643000e+00   \n",
       "nursery.data                      1.411000e+00  1.334000e+00  1.458000e+00   \n",
       "parkinson.txt                     2.700000e-02  2.400000e-02  2.570000e-01   \n",
       "pendigits-train.txt               2.760000e-01  1.030000e-01  7.810000e-01   \n",
       "PhishingData.arff                 7.720000e-01  7.060000e-01  8.820000e-01   \n",
       "titanic-train.csv                 3.880000e-01  3.370000e-01  6.980000e-01   \n",
       "voice-gender.csv                  7.600000e-02  4.800000e-02  2.890000e-01   \n",
       "\n",
       "                                      xgb_test     lgbm_test      cat_test  \n",
       "autoHorse.arff                    5.356159e+06  8.714213e+06  5.040927e+07  \n",
       "autoPrice.arff                    5.184658e+06  6.996745e+06  5.071743e+07  \n",
       "fishcatch.arff                    6.723251e+03  2.301882e+04  9.097582e+04  \n",
       "pbc.arff                          8.158405e+05  8.070352e+05  1.691598e+06  \n",
       "pharynx.arff                      1.209803e+05  1.157534e+05  2.227602e+05  \n",
       "airfoil-self-noise.csv            4.400600e+01  6.021000e+00  2.692469e+03  \n",
       "ASP.csv                           1.880000e-01  1.640000e-01  4.400000e-01  \n",
       "CASP.csv                          2.561100e+01  2.013400e+01  3.936000e+01  \n",
       "Concrete_Data_Yeh.csv             4.958700e+01  3.112000e+01  3.881770e+02  \n",
       "house.csv                         1.401440e+09  1.065745e+09  2.219377e+09  \n",
       "insurance.csv                     2.060065e+07  2.114294e+07  8.459498e+07  \n",
       "iowa-houseprice.csv               1.130356e+09  9.387052e+08  9.077385e+09  \n",
       "Life-Expectancy-Data.csv          1.496200e+01  3.986000e+00  8.495150e+02  \n",
       "OnlineNewsPopularity.csv          1.361403e+08  1.347652e+08  1.351908e+08  \n",
       "prolife.csv                       3.940000e+00  3.511000e+00  9.988000e+00  \n",
       "servo.csv                         4.700000e-01  8.800000e-01  1.771000e+00  \n",
       "student-math.csv                  3.160000e+00  2.968000e+00  3.650400e+01  \n",
       "winequality-white.csv             5.640000e-01  4.580000e-01  6.369000e+00  \n",
       "2dplane.data                      1.321000e+00  1.038000e+00  5.022000e+00  \n",
       "abalone.data                      5.055000e+00  4.617000e+00  2.337100e+01  \n",
       "adult.data                        3.320000e-01  2.990000e-01  4.380000e-01  \n",
       "breast-cancer-wisconsin.csv       1.340000e-01  1.320000e-01  3.500000e-01  \n",
       "car.data                          3.950000e-01  1.900000e-01  6.940000e-01  \n",
       "cmc.data                          9.180000e-01  9.220000e-01  9.830000e-01  \n",
       "crx.data                          3.320000e-01  3.290000e-01  4.510000e-01  \n",
       "CTG.xls                           9.100000e-02  7.800000e-02  3.680000e-01  \n",
       "data-banknote-authentication.txt  1.000000e-01  5.500000e-02  3.200000e-01  \n",
       "Data-Cortex-Nuclear.xls           1.220000e-01  1.020000e-01  4.850000e-01  \n",
       "flare.csv                         6.290000e-01  6.230000e-01  9.090000e-01  \n",
       "Frogs-MFCCs.csv                   2.410000e-01  1.760000e-01  7.180000e-01  \n",
       "heart.dat                         4.360000e-01  4.280000e-01  5.320000e-01  \n",
       "messidor-features.arff            5.900000e-01  5.700000e-01  6.380000e-01  \n",
       "MEU-Mobile KSD 2016.xlsx          5.150000e-01  4.710000e-01  1.764000e+00  \n",
       "nursery.data                      1.418000e+00  1.364000e+00  1.463000e+00  \n",
       "parkinson.txt                     2.700000e-02  2.400000e-02  2.600000e-01  \n",
       "pendigits-train.txt               3.140000e-01  1.580000e-01  7.920000e-01  \n",
       "PhishingData.arff                 8.140000e-01  8.340000e-01  8.970000e-01  \n",
       "titanic-train.csv                 4.720000e-01  4.850000e-01  7.140000e-01  \n",
       "voice-gender.csv                  9.700000e-02  8.600000e-02  2.930000e-01  "
      ]
     },
     "execution_count": 1563,
     "metadata": {},
     "output_type": "execute_result"
    }
   ],
   "source": [
    "final_df"
   ]
  },
  {
   "cell_type": "code",
   "execution_count": 1572,
   "metadata": {
    "collapsed": false
   },
   "outputs": [],
   "source": [
    "final_df.to_csv('yoel_results.csv')"
   ]
  }
 ],
 "metadata": {
  "kernelspec": {
   "display_name": "radar",
   "language": "python",
   "name": "radar"
  },
  "language_info": {
   "codemirror_mode": {
    "name": "ipython",
    "version": 3
   },
   "file_extension": ".py",
   "mimetype": "text/x-python",
   "name": "python",
   "nbconvert_exporter": "python",
   "pygments_lexer": "ipython3",
   "version": "3.5.4"
  }
 },
 "nbformat": 4,
 "nbformat_minor": 2
}
