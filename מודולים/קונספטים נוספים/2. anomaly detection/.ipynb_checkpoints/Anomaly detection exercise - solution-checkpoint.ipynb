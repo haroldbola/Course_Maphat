{
 "cells": [
  {
   "cell_type": "markdown",
   "metadata": {},
   "source": [
    "## Unsupervised Anomaly Detection\n",
    "```In this exercise you will use concepts you know, and maybe some concepts you are about to meet, in order to find anomalies in dataset of credit cards transactions.\n",
    "We will think about this problem as one think of real anomaly detecting problems: your goal will be to choose the 1,000 most anomalous samples from the dataset - the samples you suspect to be the anomaly samples. In real life problems, those samples will be handed to a human researcher for verification. Obviously, if you give him a lot of regular samples, he will get angry.```\n",
    "\n",
    "```~Ittai Haran```"
   ]
  },
  {
   "cell_type": "code",
   "execution_count": 1,
   "metadata": {
    "collapsed": true
   },
   "outputs": [],
   "source": [
    "import pandas as pd\n",
    "import numpy as np\n",
    "\n",
    "import matplotlib.pyplot as plt\n",
    "%matplotlib inline"
   ]
  },
  {
   "cell_type": "markdown",
   "metadata": {},
   "source": [
    "```Load the dataset. You can see it's labeled: It's for allowing you to test yourself. Note that in real life problems, you won't have it. Normalize the dataset as you see fit.```"
   ]
  },
  {
   "cell_type": "code",
   "execution_count": 282,
   "metadata": {
    "collapsed": true
   },
   "outputs": [],
   "source": [
    "df = pd.read_csv('resources/creditcard.csv')\n",
    "df.head()"
   ]
  },
  {
   "cell_type": "code",
   "execution_count": 299,
   "metadata": {
    "collapsed": true
   },
   "outputs": [],
   "source": [
    "classes = df['Class']\n",
    "df = df[df.columns[:-1]]\n",
    "df = pd.DataFrame(MinMaxScaler().fit_transform(df))"
   ]
  },
  {
   "cell_type": "markdown",
   "metadata": {},
   "source": [
    "```Your first task is to formulate a method for evaluating your anomalies. Write an evaluation method, which will help you compare between different ways to detect anomalies. Notice that this isn't a classification method, and regard your true goal: to mark the 1,000 most anomalous samples.```"
   ]
  },
  {
   "cell_type": "code",
   "execution_count": 296,
   "metadata": {
    "collapsed": true
   },
   "outputs": [],
   "source": [
    "from sklearn.metrics import roc_auc_score\n",
    "def evaluate_method(y_true, grades):\n",
    "    # y_true is the class: 0 for regular, 1 for anomaly\n",
    "    # the grades should indicate how anomalous you think the sample is - as higher the grade, the sample is more suspiciuos\n",
    "    y_true = np.array(y_true)\n",
    "    grades = np.array(grades)\n",
    "    plt.plot(np.cumsum(list(map(lambda x: x[0], sorted(zip(y_true, grades), key = lambda x: x[1], reverse = True)))))\n",
    "    plt.show()\n",
    "    return roc_auc_score(y_true, grades)"
   ]
  },
  {
   "cell_type": "markdown",
   "metadata": {},
   "source": [
    "```We can now examine different methods for anomaly detecting. For each method, evaluate it, and compare it to the other methods.```\n",
    "\n",
    "```The first one we will try is to grade the samples by their distance from the 'mean sample', in units of standard deviation. You can also think about the features as independent gaussian distributions and grade a sample by its distance from the gaussian's mean, for every feature.```"
   ]
  },
  {
   "cell_type": "code",
   "execution_count": 300,
   "metadata": {},
   "outputs": [
    {
     "name": "stderr",
     "output_type": "stream",
     "text": [
      "c:\\users\\mmm\\anaconda2\\envs\\tensorflow\\lib\\site-packages\\ipykernel_launcher.py:1: FutureWarning: reshape is deprecated and will raise in a subsequent release. Please use .values.reshape(...) instead\n",
      "  \"\"\"Entry point for launching an IPython kernel.\n"
     ]
    },
    {
     "data": {
      "image/png": "[encoded data removed]",
      "text/plain": [
       "<matplotlib.figure.Figure at 0x1ccf2cea710>"
      ]
     },
     "metadata": {},
     "output_type": "display_data"
    },
    {
     "data": {
      "text/plain": [
       "0.9524825107386188"
      ]
     },
     "execution_count": 300,
     "metadata": {},
     "output_type": "execute_result"
    }
   ],
   "source": [
    "grade_std = np.linalg.norm(np.abs(df.values-np.mean(df, axis = 0).reshape(1,-1))/np.std(df, axis = 0).reshape(1,-1), axis = 1)\n",
    "evaluate_method(classes, grade_std)"
   ]
  },
  {
   "cell_type": "markdown",
   "metadata": {},
   "source": [
    "```What hidden assumption you took during \"training\"? what part of the data you trained on?```"
   ]
  },
  {
   "cell_type": "markdown",
   "metadata": {},
   "source": [
    "```Try using PCA: project the dataset into a lower dimensional space, and than use the \"inverse\" transformation (why \"\"?) to get approximated samples. Compare the samples you got to the samples you started with.```"
   ]
  },
  {
   "cell_type": "code",
   "execution_count": 301,
   "metadata": {},
   "outputs": [
    {
     "data": {
      "image/png": "[encoded data removed]",
      "text/plain": [
       "<matplotlib.figure.Figure at 0x1ccfd8cd198>"
      ]
     },
     "metadata": {},
     "output_type": "display_data"
    },
    {
     "data": {
      "image/png": "[encoded data removed]",
      "text/plain": [
       "<matplotlib.figure.Figure at 0x1ccf3d3c7f0>"
      ]
     },
     "metadata": {},
     "output_type": "display_data"
    },
    {
     "data": {
      "text/plain": [
       "0.9525819438504957"
      ]
     },
     "execution_count": 301,
     "metadata": {},
     "output_type": "execute_result"
    }
   ],
   "source": [
    "from sklearn.decomposition import PCA\n",
    "pca = PCA(10)\n",
    "pca.fit(df)\n",
    "gaps = np.linalg.norm(df.values - pca.inverse_transform(pca.transform(df)), axis = 1)\n",
    "\n",
    "plt.hist(gaps, bins = 50)\n",
    "plt.show()\n",
    "\n",
    "evaluate_method(classes, gaps)"
   ]
  },
  {
   "cell_type": "markdown",
   "metadata": {},
   "source": [
    "```Read about one class SVM. Use it to evaluate your samples. Notice that this algorithm is very slow compared to those you tried earlier. Consider training it only on a fraction of the samples.\n",
    "Hint: you can use the decision function directly to get the distance of the sample from the decision boundary.```"
   ]
  },
  {
   "cell_type": "code",
   "execution_count": 142,
   "metadata": {},
   "outputs": [
    {
     "name": "stdout",
     "output_type": "stream",
     "text": [
      "[LibSVM]"
     ]
    },
    {
     "data": {
      "text/plain": [
       "OneClassSVM(cache_size=2000, coef0=0.0, degree=3, gamma='auto', kernel='rbf',\n",
       "      max_iter=-1, nu=0.1, random_state=None, shrinking=True, tol=0.001,\n",
       "      verbose=True)"
      ]
     },
     "execution_count": 142,
     "metadata": {},
     "output_type": "execute_result"
    }
   ],
   "source": [
    "from sklearn.svm import OneClassSVM\n",
    "from sklearn.preprocessing import MinMaxScaler\n",
    "\n",
    "df = pd.DataFrame(MinMaxScaler().fit_transform(df))\n",
    "clf = OneClassSVM(nu = 0.1, verbose=True, max_iter=-1, cache_size=2000)\n",
    "clf.fit(df.iloc[:50000])"
   ]
  },
  {
   "cell_type": "code",
   "execution_count": 308,
   "metadata": {},
   "outputs": [
    {
     "data": {
      "image/png": "[encoded data removed]",
      "text/plain": [
       "<matplotlib.figure.Figure at 0x1ccf2c80320>"
      ]
     },
     "metadata": {},
     "output_type": "display_data"
    },
    {
     "data": {
      "image/png": "[encoded data removed]",
      "text/plain": [
       "<matplotlib.figure.Figure at 0x1ccef2e3cc0>"
      ]
     },
     "metadata": {},
     "output_type": "display_data"
    },
    {
     "data": {
      "text/plain": [
       "0.9430964510478688"
      ]
     },
     "execution_count": 308,
     "metadata": {},
     "output_type": "execute_result"
    }
   ],
   "source": [
    "grades = []\n",
    "jump = 10000\n",
    "for i in range(0, len(df), jump):\n",
    "    print(i/float(len(df)))\n",
    "    grades.append(clf.decision_function(df.iloc[i:i+jump].values))\n",
    "    \n",
    "grades_concat = -np.concatenate(grades)\n",
    "plt.hist(grades_concat, bins = 50, alpha = 0.5)\n",
    "plt.show()\n",
    "evaluate_method(classes, grades_concat)"
   ]
  },
  {
   "cell_type": "markdown",
   "metadata": {},
   "source": [
    "```Now try clustering your data, and use the distance from the clusters (you will have to define it) to grade the samples. Think about changing your normalization method when trying to cluster. Here you also might want to consider to train on a fraction of the samples.```"
   ]
  },
  {
   "cell_type": "code",
   "execution_count": 309,
   "metadata": {},
   "outputs": [
    {
     "data": {
      "image/png": "[encoded data removed]",
      "text/plain": [
       "<matplotlib.figure.Figure at 0x1cc3e25d5c0>"
      ]
     },
     "metadata": {},
     "output_type": "display_data"
    },
    {
     "data": {
      "text/plain": [
       "0.9510882310342545"
      ]
     },
     "execution_count": 309,
     "metadata": {},
     "output_type": "execute_result"
    }
   ],
   "source": [
    "from sklearn.preprocessing import MinMaxScaler\n",
    "from sklearn.cluster import KMeans\n",
    "kmeans = KMeans(10, n_jobs = -1, verbose = 1).fit(df[:50000])\n",
    "kmeans_grades = np.min((np.sum((np.expand_dims(df, 1)-kmeans.cluster_centers_)**2, axis = -1)**0.5), axis = 1)\n",
    "evaluate_method(classes, kmeans_grades)"
   ]
  },
  {
   "cell_type": "markdown",
   "metadata": {
    "collapsed": true
   },
   "source": [
    "```Try combining the grades you got from different methods into a single grade. Did you get a better detector? why or why not?```"
   ]
  },
  {
   "cell_type": "code",
   "execution_count": 310,
   "metadata": {},
   "outputs": [
    {
     "data": {
      "image/png": "[encoded data removed]",
      "text/plain": [
       "<matplotlib.figure.Figure at 0x1cca7e0b6a0>"
      ]
     },
     "metadata": {},
     "output_type": "display_data"
    },
    {
     "data": {
      "text/plain": [
       "0.9578682410111652"
      ]
     },
     "execution_count": 310,
     "metadata": {},
     "output_type": "execute_result"
    }
   ],
   "source": [
    "errors_combined = MinMaxScaler().fit_transform(np.concatenate([gaps.reshape(-1,1), grades_concat.reshape(-1,1),\n",
    "                                                               kmeans_grades.reshape(-1,1), grade_std.reshape(-1,1)], axis = 1))\n",
    "pca_errors = PCA(1)\n",
    "errors_combined = pca_errors.fit_transform(errors_combined)\n",
    "evaluate_method(classes, errors_combined)"
   ]
  },
  {
   "cell_type": "markdown",
   "metadata": {},
   "source": [
    "```Now we will experience with Deep Auto Encoders. The idea is to create a neural network that gets the samples as input, and try to predict the very same samples: The difficulty comes from the fact that the networks gets narrower, and so having an information bottleneck. The grade each sample will get is the reconstruction error - the difference between the output and the input. You can read more about Auto Encoders in the literature.```"
   ]
  },
  {
   "cell_type": "code",
   "execution_count": 217,
   "metadata": {
    "collapsed": true
   },
   "outputs": [],
   "source": [
    "from keras.layers import Dense, Input\n",
    "from keras.models import Model"
   ]
  },
  {
   "cell_type": "code",
   "execution_count": 235,
   "metadata": {},
   "outputs": [
    {
     "name": "stdout",
     "output_type": "stream",
     "text": [
      "_________________________________________________________________\n",
      "Layer (type)                 Output Shape              Param #   \n",
      "=================================================================\n",
      "input_2 (InputLayer)         (None, 28)                0         \n",
      "_________________________________________________________________\n",
      "dense_9 (Dense)              (None, 19)                551       \n",
      "_________________________________________________________________\n",
      "dense_10 (Dense)             (None, 14)                280       \n",
      "_________________________________________________________________\n",
      "dense_11 (Dense)             (None, 8)                 120       \n",
      "_________________________________________________________________\n",
      "dense_12 (Dense)             (None, 4)                 36        \n",
      "_________________________________________________________________\n",
      "dense_13 (Dense)             (None, 8)                 40        \n",
      "_________________________________________________________________\n",
      "dense_14 (Dense)             (None, 14)                126       \n",
      "_________________________________________________________________\n",
      "dense_15 (Dense)             (None, 19)                285       \n",
      "_________________________________________________________________\n",
      "dense_16 (Dense)             (None, 28)                560       \n",
      "=================================================================\n",
      "Total params: 1,998\n",
      "Trainable params: 1,998\n",
      "Non-trainable params: 0\n",
      "_________________________________________________________________\n"
     ]
    }
   ],
   "source": [
    "input_size = df.shape[1]\n",
    "main_input = Input((input_size, ))\n",
    "hidden = Dense(int(input_size*0.7), activation='relu')(main_input)\n",
    "hidden = Dense(int(input_size*0.5), activation='relu')(hidden)\n",
    "hidden = Dense(int(input_size*0.3), activation='relu')(hidden)\n",
    "hidden = Dense(int(input_size*0.15), activation='relu')(hidden)\n",
    "hidden = Dense(int(input_size*0.3), activation='relu')(hidden)\n",
    "hidden = Dense(int(input_size*0.5), activation='relu')(hidden)\n",
    "hidden = Dense(int(input_size*0.7), activation='relu')(hidden)\n",
    "main_output = Dense(input_size, activation='sigmoid')(hidden)\n",
    "\n",
    "model = Model(inputs=[main_input], outputs=[main_output])\n",
    "model.compile(optimizer = 'rmsprop', loss = 'mse')\n",
    "model.summary()"
   ]
  },
  {
   "cell_type": "code",
   "execution_count": 239,
   "metadata": {},
   "outputs": [
    {
     "name": "stdout",
     "output_type": "stream",
     "text": [
      "Epoch 1/10\n",
      "284807/284807 [==============================] - 3s 12us/step - loss: 9.7647e-04\n",
      "Epoch 2/10\n",
      "284807/284807 [==============================] - 3s 11us/step - loss: 9.7290e-04\n",
      "Epoch 3/10\n",
      "284807/284807 [==============================] - 3s 11us/step - loss: 9.6935e-04\n",
      "Epoch 4/10\n",
      "284807/284807 [==============================] - 3s 11us/step - loss: 9.6741e-04\n",
      "Epoch 5/10\n",
      "284807/284807 [==============================] - 3s 11us/step - loss: 9.6298e-04\n",
      "Epoch 6/10\n",
      "284807/284807 [==============================] - 3s 11us/step - loss: 9.5975e-04\n",
      "Epoch 7/10\n",
      "284807/284807 [==============================] - 3s 11us/step - loss: 9.5770e-04\n",
      "Epoch 8/10\n",
      "284807/284807 [==============================] - 3s 11us/step - loss: 9.5492e-04\n",
      "Epoch 9/10\n",
      "284807/284807 [==============================] - 3s 11us/step - loss: 9.5327e-04\n",
      "Epoch 10/10\n",
      "284807/284807 [==============================] - 3s 11us/step - loss: 9.5139e-04\n"
     ]
    },
    {
     "data": {
      "text/plain": [
       "<keras.callbacks.History at 0x1ccf1dbca58>"
      ]
     },
     "execution_count": 239,
     "metadata": {},
     "output_type": "execute_result"
    }
   ],
   "source": [
    "model.fit(df, df, batch_size=500, epochs=10, verbose=1)"
   ]
  },
  {
   "cell_type": "code",
   "execution_count": 311,
   "metadata": {},
   "outputs": [
    {
     "data": {
      "image/png": "[encoded data removed]",
      "text/plain": [
       "<matplotlib.figure.Figure at 0x1cc0106b860>"
      ]
     },
     "metadata": {},
     "output_type": "display_data"
    },
    {
     "data": {
      "image/png": "[encoded data removed]",
      "text/plain": [
       "<matplotlib.figure.Figure at 0x1cca7e61ba8>"
      ]
     },
     "metadata": {},
     "output_type": "display_data"
    },
    {
     "data": {
      "text/plain": [
       "0.9379566334660585"
      ]
     },
     "execution_count": 311,
     "metadata": {},
     "output_type": "execute_result"
    }
   ],
   "source": [
    "AE_gaps = np.linalg.norm(model.predict(df)-df, axis = 1)\n",
    "plt.hist(AE_gaps, bins = 50)\n",
    "plt.show()\n",
    "evaluate_method(classes, AE_gaps)"
   ]
  },
  {
   "cell_type": "markdown",
   "metadata": {},
   "source": [
    "```Try thinking about other methods to detect anomalies in your data, and find a way to get better results. If you want to know more about Auto Encoders, talk to your tutor about you implementing a Variational Auto Encoder.```"
   ]
  },
  {
   "cell_type": "code",
   "execution_count": null,
   "metadata": {
    "collapsed": true
   },
   "outputs": [],
   "source": []
  }
 ],
 "metadata": {
  "kernelspec": {
   "display_name": "forum4",
   "language": "python",
   "name": "forum4"
  },
  "language_info": {
   "codemirror_mode": {
    "name": "ipython",
    "version": 3
   },
   "file_extension": ".py",
   "mimetype": "text/x-python",
   "name": "python",
   "nbconvert_exporter": "python",
   "pygments_lexer": "ipython3",
   "version": "3.7.3"
  }
 },
 "nbformat": 4,
 "nbformat_minor": 2
}
