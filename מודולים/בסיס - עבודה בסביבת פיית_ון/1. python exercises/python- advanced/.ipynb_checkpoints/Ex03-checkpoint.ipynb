{
 "cells": [
  {
   "cell_type": "code",
   "execution_count": 1,
   "metadata": {
    "ExecuteTime": {
     "end_time": "2016-03-08T01:53:12.559000",
     "start_time": "2016-03-08T01:53:12.457000"
    },
    "collapsed": true
   },
   "outputs": [],
   "source": [
    "import sklearn\n",
    "import inspect"
   ]
  },
  {
   "cell_type": "markdown",
   "metadata": {},
   "source": [
    "# Exrecise 03\n",
    "Programming Under Fire\n",
    "\n",
    "**NO INTERNET ALLOWED HERE**"
   ]
  },
  {
   "cell_type": "markdown",
   "metadata": {},
   "source": [
    "    It's war. There is no internet where you are. It's just u and me pal... a programmer with his IDE"
   ]
  },
  {
   "cell_type": "markdown",
   "metadata": {},
   "source": [
    "    1. You heard about a magic class named 'IsotonicRegression' where it is??? \n",
    "       Using code, search how to import it from sklearn.\n",
    "        *** NO MANUAL BRUTEFORCE ***\n",
    "    Hints:\n",
    "        a. inspect\n",
    "        b. __import__\n",
    "        c. eval"
   ]
  },
  {
   "cell_type": "code",
   "execution_count": null,
   "metadata": {
    "collapsed": true
   },
   "outputs": [],
   "source": []
  },
  {
   "cell_type": "markdown",
   "metadata": {},
   "source": [
    "    2. Draw IsotonicRegression class tree\n",
    "        Hints:\n",
    "            a. __mro__"
   ]
  },
  {
   "cell_type": "code",
   "execution_count": null,
   "metadata": {
    "collapsed": true
   },
   "outputs": [],
   "source": []
  },
  {
   "cell_type": "markdown",
   "metadata": {},
   "source": [
    "    3. Create a new sklearn classifier that gets a list of classifiers and run then in diffrent threads.\n",
    "        a. What make is a 'sklern' classifier?\n",
    "        b. validate list in ctor"
   ]
  },
  {
   "cell_type": "code",
   "execution_count": null,
   "metadata": {
    "collapsed": true
   },
   "outputs": [],
   "source": []
  }
 ],
 "metadata": {
  "kernelspec": {
   "display_name": "Python 2",
   "language": "python",
   "name": "python2"
  },
  "language_info": {
   "codemirror_mode": {
    "name": "ipython",
    "version": 2
   },
   "file_extension": ".py",
   "mimetype": "text/x-python",
   "name": "python",
   "nbconvert_exporter": "python",
   "pygments_lexer": "ipython2",
   "version": "2.7.13"
  }
 },
 "nbformat": 4,
 "nbformat_minor": 0
}
