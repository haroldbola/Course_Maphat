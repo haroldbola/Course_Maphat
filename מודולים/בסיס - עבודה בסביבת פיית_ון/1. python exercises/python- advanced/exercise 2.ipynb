{
 "cells": [
  {
   "cell_type": "code",
   "execution_count": 1,
   "metadata": {
    "ExecuteTime": {
     "end_time": "2016-03-08T01:40:20.398000",
     "start_time": "2016-03-08T01:40:20.210000"
    },
    "collapsed": true
   },
   "outputs": [],
   "source": [
    "from libs import slowpandas as spd\n",
    "import threading\n",
    "import time\n",
    "import re"
   ]
  },
  {
   "cell_type": "markdown",
   "metadata": {},
   "source": [
    "# Exrecise 02\n",
    "    Performance"
   ]
  },
  {
   "cell_type": "markdown",
   "metadata": {},
   "source": [
    "## Timing"
   ]
  },
  {
   "cell_type": "markdown",
   "metadata": {},
   "source": [
    "    1. Remember slow-pandas? Can u measure how much time 'spd.do_slow_stuff' takes?\n",
    "        *** FIND 4 WAYS TO FIND OUT ***"
   ]
  },
  {
   "cell_type": "code",
   "execution_count": null,
   "metadata": {
    "collapsed": true
   },
   "outputs": [],
   "source": []
  },
  {
   "cell_type": "markdown",
   "metadata": {
    "ExecuteTime": {
     "end_time": "2016-03-08T01:07:22.339000",
     "start_time": "2016-03-08T01:07:22.337000"
    }
   },
   "source": [
    "    2. What is faster? join strings with '+' or using '%'?"
   ]
  },
  {
   "cell_type": "code",
   "execution_count": null,
   "metadata": {
    "collapsed": true
   },
   "outputs": [],
   "source": []
  },
  {
   "cell_type": "markdown",
   "metadata": {},
   "source": [
    "    3. Compile or to not compile - that is the question. What is faster? compile a regex before 100 iterations or not?"
   ]
  },
  {
   "cell_type": "code",
   "execution_count": null,
   "metadata": {
    "collapsed": true
   },
   "outputs": [],
   "source": []
  },
  {
   "cell_type": "markdown",
   "metadata": {},
   "source": [
    "## Threading "
   ]
  },
  {
   "cell_type": "markdown",
   "metadata": {
    "ExecuteTime": {
     "end_time": "2016-03-08T01:19:58.683000",
     "start_time": "2016-03-08T01:19:58.681000"
    }
   },
   "source": [
    "    1. Run 'spd.do_slow_stuff' 4 times using 4 threads.\n",
    "        *** REAL THREADS - NO LIBS ***\n",
    "        \n",
    "        BOUNUS: Is it faster then without thread? What is the maximum threads such that it's still ~5s? WHY?"
   ]
  },
  {
   "cell_type": "code",
   "execution_count": null,
   "metadata": {
    "ExecuteTime": {
     "end_time": "2016-03-08T01:41:42.160000",
     "start_time": "2016-03-08T01:41:19.922000"
    }
   },
   "outputs": [],
   "source": []
  },
  {
   "cell_type": "markdown",
   "metadata": {
    "ExecuteTime": {
     "end_time": "2016-03-08T01:37:54.242000",
     "start_time": "2016-03-08T01:37:54.241000"
    }
   },
   "source": [
    "    2. Meet 'spd.slow_calc' - Can u run 100 of it? FAST AS POSSIBLE\n",
    "        Hint: It's not as before. Consider Queue?"
   ]
  },
  {
   "cell_type": "code",
   "execution_count": null,
   "metadata": {
    "collapsed": true
   },
   "outputs": [],
   "source": []
  },
  {
   "cell_type": "markdown",
   "metadata": {},
   "source": [
    "    3. I heard about a lib called 'joblib' can it help? MAKE IT HELP"
   ]
  },
  {
   "cell_type": "code",
   "execution_count": null,
   "metadata": {
    "collapsed": true
   },
   "outputs": [],
   "source": []
  }
 ],
 "metadata": {
  "kernelspec": {
   "display_name": "forum4",
   "language": "python",
   "name": "forum4"
  },
  "language_info": {
   "codemirror_mode": {
    "name": "ipython",
    "version": 3
   },
   "file_extension": ".py",
   "mimetype": "text/x-python",
   "name": "python",
   "nbconvert_exporter": "python",
   "pygments_lexer": "ipython3",
   "version": "3.7.3"
  }
 },
 "nbformat": 4,
 "nbformat_minor": 1
}
