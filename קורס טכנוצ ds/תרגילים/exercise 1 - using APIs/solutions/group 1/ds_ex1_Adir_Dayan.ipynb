{
  "nbformat": 4,
  "nbformat_minor": 0,
  "metadata": {
    "colab": {
      "name": "ds_ex1_Adir_Dayan.ipynb",
      "version": "0.3.2",
      "provenance": [],
      "collapsed_sections": [],
      "toc_visible": true
    },
    "kernelspec": {
      "display_name": "Python 3",
      "language": "python",
      "name": "python3"
    }
  },
  "cells": [
    {
      "metadata": {
        "colab_type": "text",
        "id": "-PVxdKhC5Npr"
      },
      "cell_type": "markdown",
      "source": [
        "# Exercise 1\n",
        "```In this exercise you will experience with pandas, matplotlib and numpy. This are main tools we are going to use later in course, and which are extremly useful in a variety of tasks. For each question, answer it in cells directly beneath it.```\n",
        "\n",
        "```You are more than encourged to read relevant parts, mainly from ``` [pandas' API](https://pandas.pydata.org/pandas-docs/stable/reference/index.html)\n",
        "\n",
        "```~ Ittai Haran```"
      ]
    },
    {
      "metadata": {
        "colab_type": "text",
        "id": "Xr9JHrdn5Npw"
      },
      "cell_type": "markdown",
      "source": [
        "## DataFrame basics\n",
        "\n",
        "```A few of the fundamental routines for selecting, sorting, adding and aggregating data in DataFrames```"
      ]
    },
    {
      "metadata": {
        "colab_type": "text",
        "id": "fbrrYfoj5Np0"
      },
      "cell_type": "markdown",
      "source": [
        "```import numpy and pandas```"
      ]
    },
    {
      "metadata": {
        "id": "NIWrn347EZLk",
        "colab_type": "code",
        "colab": {}
      },
      "cell_type": "code",
      "source": [
        "#!pip install --upgrade pandas"
      ],
      "execution_count": 0,
      "outputs": []
    },
    {
      "metadata": {
        "colab_type": "code",
        "id": "bpJ6A76C5Np3",
        "colab": {}
      },
      "cell_type": "code",
      "source": [
        "import pandas as pd\n",
        "import numpy as np"
      ],
      "execution_count": 0,
      "outputs": []
    },
    {
      "metadata": {
        "colab_type": "text",
        "id": "YIARH19T5NqF"
      },
      "cell_type": "markdown",
      "source": [
        "```Consider the following Python dictionary `data` and Python list `labels`:```\n",
        "\n",
        "``` python\n",
        "data = {'animal': ['cat', 'cat', 'snake', 'dog', 'dog', 'cat', 'snake', 'cat', 'dog', 'dog'],\n",
        "        'age': [2.5, 3, 0.5, np.nan, 5, 2, 4.5, np.nan, 7, 3],\n",
        "        'visits': [1, 3, 2, 3, 2, 3, 1, 1, 2, 1],\n",
        "        'priority': ['yes', 'yes', 'no', 'yes', 'no', 'no', 'no', 'yes', 'no', 'no']}\n",
        "\n",
        "labels = ['a', 'b', 'c', 'd', 'e', 'f', 'g', 'h', 'i', 'j']\n",
        "```\n",
        "\n",
        "```Create a DataFrame `df` from this dictionary `data` which has the index `labels`.```"
      ]
    },
    {
      "metadata": {
        "colab_type": "code",
        "id": "1pjYEcWj5NqI",
        "colab": {}
      },
      "cell_type": "code",
      "source": [
        "data = {'animal': ['cat', 'cat', 'snake', 'dog', 'dog', 'cat', 'snake', 'cat', 'dog', 'dog'],\n",
        "        'age': [2.5, 3, 0.5, np.nan, 5, 2, 4.5, np.nan, 7, 3],\n",
        "        'visits': [1, 3, 2, 3, 2, 3, 1, 1, 2, 1],\n",
        "        'priority': ['yes', 'yes', 'no', 'yes', 'no', 'no', 'no', 'yes', 'no', 'no']}\n",
        "\n",
        "labels = ['a', 'b', 'c', 'd', 'e', 'f', 'g', 'h', 'i', 'j']\n",
        "\n",
        "df = pd.DataFrame(data = data , index = labels)"
      ],
      "execution_count": 0,
      "outputs": []
    },
    {
      "metadata": {
        "colab_type": "text",
        "id": "RdoKxq165NqT"
      },
      "cell_type": "markdown",
      "source": [
        "```Display a summary of the basic information about this DataFrame and its data using the decribe and the info functions```"
      ]
    },
    {
      "metadata": {
        "colab_type": "code",
        "id": "7dTjubPW67Ip",
        "outputId": "65a91214-4544-475d-f880-1f9ea0dbd2f4",
        "colab": {
          "base_uri": "https://localhost:8080/",
          "height": 297
        }
      },
      "cell_type": "code",
      "source": [
        "df.describe()"
      ],
      "execution_count": 4,
      "outputs": [
        {
          "output_type": "execute_result",
          "data": {
            "text/html": [
              "<div>\n",
              "<style scoped>\n",
              "    .dataframe tbody tr th:only-of-type {\n",
              "        vertical-align: middle;\n",
              "    }\n",
              "\n",
              "    .dataframe tbody tr th {\n",
              "        vertical-align: top;\n",
              "    }\n",
              "\n",
              "    .dataframe thead th {\n",
              "        text-align: right;\n",
              "    }\n",
              "</style>\n",
              "<table border=\"1\" class=\"dataframe\">\n",
              "  <thead>\n",
              "    <tr style=\"text-align: right;\">\n",
              "      <th></th>\n",
              "      <th>age</th>\n",
              "      <th>visits</th>\n",
              "    </tr>\n",
              "  </thead>\n",
              "  <tbody>\n",
              "    <tr>\n",
              "      <th>count</th>\n",
              "      <td>8.000000</td>\n",
              "      <td>10.000000</td>\n",
              "    </tr>\n",
              "    <tr>\n",
              "      <th>mean</th>\n",
              "      <td>3.437500</td>\n",
              "      <td>1.900000</td>\n",
              "    </tr>\n",
              "    <tr>\n",
              "      <th>std</th>\n",
              "      <td>2.007797</td>\n",
              "      <td>0.875595</td>\n",
              "    </tr>\n",
              "    <tr>\n",
              "      <th>min</th>\n",
              "      <td>0.500000</td>\n",
              "      <td>1.000000</td>\n",
              "    </tr>\n",
              "    <tr>\n",
              "      <th>25%</th>\n",
              "      <td>2.375000</td>\n",
              "      <td>1.000000</td>\n",
              "    </tr>\n",
              "    <tr>\n",
              "      <th>50%</th>\n",
              "      <td>3.000000</td>\n",
              "      <td>2.000000</td>\n",
              "    </tr>\n",
              "    <tr>\n",
              "      <th>75%</th>\n",
              "      <td>4.625000</td>\n",
              "      <td>2.750000</td>\n",
              "    </tr>\n",
              "    <tr>\n",
              "      <th>max</th>\n",
              "      <td>7.000000</td>\n",
              "      <td>3.000000</td>\n",
              "    </tr>\n",
              "  </tbody>\n",
              "</table>\n",
              "</div>"
            ],
            "text/plain": [
              "            age     visits\n",
              "count  8.000000  10.000000\n",
              "mean   3.437500   1.900000\n",
              "std    2.007797   0.875595\n",
              "min    0.500000   1.000000\n",
              "25%    2.375000   1.000000\n",
              "50%    3.000000   2.000000\n",
              "75%    4.625000   2.750000\n",
              "max    7.000000   3.000000"
            ]
          },
          "metadata": {
            "tags": []
          },
          "execution_count": 4
        }
      ]
    },
    {
      "metadata": {
        "id": "mBfc0RduEX9-",
        "colab_type": "code",
        "outputId": "f9ce042a-8272-4420-c89f-fa2f7d42dbb8",
        "colab": {
          "base_uri": "https://localhost:8080/",
          "height": 170
        }
      },
      "cell_type": "code",
      "source": [
        "df.info()"
      ],
      "execution_count": 5,
      "outputs": [
        {
          "output_type": "stream",
          "text": [
            "<class 'pandas.core.frame.DataFrame'>\n",
            "Index: 10 entries, a to j\n",
            "Data columns (total 4 columns):\n",
            "age         8 non-null float64\n",
            "animal      10 non-null object\n",
            "priority    10 non-null object\n",
            "visits      10 non-null int64\n",
            "dtypes: float64(1), int64(1), object(2)\n",
            "memory usage: 400.0+ bytes\n"
          ],
          "name": "stdout"
        }
      ]
    },
    {
      "metadata": {
        "id": "8ub76hbzEX-D",
        "colab_type": "code",
        "colab": {}
      },
      "cell_type": "code",
      "source": [
        ""
      ],
      "execution_count": 0,
      "outputs": []
    },
    {
      "metadata": {
        "colab_type": "text",
        "id": "jqk0L6wY5Nqg"
      },
      "cell_type": "markdown",
      "source": [
        "```Return the first 3 rows of the DataFrame `df`. Do it two times: use head and iloc```"
      ]
    },
    {
      "metadata": {
        "colab_type": "code",
        "id": "omBJQsg65Nqj",
        "outputId": "09455c0b-5fe1-4733-b73e-974bf41cbcb9",
        "colab": {
          "base_uri": "https://localhost:8080/",
          "height": 187
        }
      },
      "cell_type": "code",
      "source": [
        "print(df.head(3))\n",
        "print(\"\\n\")\n",
        "print(df.iloc[[0,1,2]])"
      ],
      "execution_count": 6,
      "outputs": [
        {
          "output_type": "stream",
          "text": [
            "   age animal priority  visits\n",
            "a  2.5    cat      yes       1\n",
            "b  3.0    cat      yes       3\n",
            "c  0.5  snake       no       2\n",
            "\n",
            "\n",
            "   age animal priority  visits\n",
            "a  2.5    cat      yes       1\n",
            "b  3.0    cat      yes       3\n",
            "c  0.5  snake       no       2\n"
          ],
          "name": "stdout"
        }
      ]
    },
    {
      "metadata": {
        "colab_type": "text",
        "id": "yi3eBRK-5Nqs"
      },
      "cell_type": "markdown",
      "source": [
        "```Select just the 'animal' and 'age' columns from the DataFrame `df`.```"
      ]
    },
    {
      "metadata": {
        "colab_type": "code",
        "id": "L_o_uiY05Nqv",
        "outputId": "d46f797f-9153-4c61-8a8b-cd83b990e366",
        "colab": {
          "base_uri": "https://localhost:8080/",
          "height": 359
        }
      },
      "cell_type": "code",
      "source": [
        "df.loc[: , [\"animal\" , \"age\"]]\n"
      ],
      "execution_count": 7,
      "outputs": [
        {
          "output_type": "execute_result",
          "data": {
            "text/html": [
              "<div>\n",
              "<style scoped>\n",
              "    .dataframe tbody tr th:only-of-type {\n",
              "        vertical-align: middle;\n",
              "    }\n",
              "\n",
              "    .dataframe tbody tr th {\n",
              "        vertical-align: top;\n",
              "    }\n",
              "\n",
              "    .dataframe thead th {\n",
              "        text-align: right;\n",
              "    }\n",
              "</style>\n",
              "<table border=\"1\" class=\"dataframe\">\n",
              "  <thead>\n",
              "    <tr style=\"text-align: right;\">\n",
              "      <th></th>\n",
              "      <th>animal</th>\n",
              "      <th>age</th>\n",
              "    </tr>\n",
              "  </thead>\n",
              "  <tbody>\n",
              "    <tr>\n",
              "      <th>a</th>\n",
              "      <td>cat</td>\n",
              "      <td>2.5</td>\n",
              "    </tr>\n",
              "    <tr>\n",
              "      <th>b</th>\n",
              "      <td>cat</td>\n",
              "      <td>3.0</td>\n",
              "    </tr>\n",
              "    <tr>\n",
              "      <th>c</th>\n",
              "      <td>snake</td>\n",
              "      <td>0.5</td>\n",
              "    </tr>\n",
              "    <tr>\n",
              "      <th>d</th>\n",
              "      <td>dog</td>\n",
              "      <td>NaN</td>\n",
              "    </tr>\n",
              "    <tr>\n",
              "      <th>e</th>\n",
              "      <td>dog</td>\n",
              "      <td>5.0</td>\n",
              "    </tr>\n",
              "    <tr>\n",
              "      <th>f</th>\n",
              "      <td>cat</td>\n",
              "      <td>2.0</td>\n",
              "    </tr>\n",
              "    <tr>\n",
              "      <th>g</th>\n",
              "      <td>snake</td>\n",
              "      <td>4.5</td>\n",
              "    </tr>\n",
              "    <tr>\n",
              "      <th>h</th>\n",
              "      <td>cat</td>\n",
              "      <td>NaN</td>\n",
              "    </tr>\n",
              "    <tr>\n",
              "      <th>i</th>\n",
              "      <td>dog</td>\n",
              "      <td>7.0</td>\n",
              "    </tr>\n",
              "    <tr>\n",
              "      <th>j</th>\n",
              "      <td>dog</td>\n",
              "      <td>3.0</td>\n",
              "    </tr>\n",
              "  </tbody>\n",
              "</table>\n",
              "</div>"
            ],
            "text/plain": [
              "  animal  age\n",
              "a    cat  2.5\n",
              "b    cat  3.0\n",
              "c  snake  0.5\n",
              "d    dog  NaN\n",
              "e    dog  5.0\n",
              "f    cat  2.0\n",
              "g  snake  4.5\n",
              "h    cat  NaN\n",
              "i    dog  7.0\n",
              "j    dog  3.0"
            ]
          },
          "metadata": {
            "tags": []
          },
          "execution_count": 7
        }
      ]
    },
    {
      "metadata": {
        "colab_type": "text",
        "id": "r6oJ-vHM5Nq5"
      },
      "cell_type": "markdown",
      "source": [
        "```Select the data in rows `[3, 4, 8]` *and* in columns `['animal', 'age']`.```"
      ]
    },
    {
      "metadata": {
        "colab_type": "code",
        "id": "K5GkJ4Ad5Nq_",
        "outputId": "38e161ca-df1c-4be4-dccb-9c3b62830eae",
        "colab": {
          "base_uri": "https://localhost:8080/",
          "height": 142
        }
      },
      "cell_type": "code",
      "source": [
        "df.loc[[\"c\",\"d\",\"h\"] , [\"animal\" , \"age\"]]"
      ],
      "execution_count": 8,
      "outputs": [
        {
          "output_type": "execute_result",
          "data": {
            "text/html": [
              "<div>\n",
              "<style scoped>\n",
              "    .dataframe tbody tr th:only-of-type {\n",
              "        vertical-align: middle;\n",
              "    }\n",
              "\n",
              "    .dataframe tbody tr th {\n",
              "        vertical-align: top;\n",
              "    }\n",
              "\n",
              "    .dataframe thead th {\n",
              "        text-align: right;\n",
              "    }\n",
              "</style>\n",
              "<table border=\"1\" class=\"dataframe\">\n",
              "  <thead>\n",
              "    <tr style=\"text-align: right;\">\n",
              "      <th></th>\n",
              "      <th>animal</th>\n",
              "      <th>age</th>\n",
              "    </tr>\n",
              "  </thead>\n",
              "  <tbody>\n",
              "    <tr>\n",
              "      <th>c</th>\n",
              "      <td>snake</td>\n",
              "      <td>0.5</td>\n",
              "    </tr>\n",
              "    <tr>\n",
              "      <th>d</th>\n",
              "      <td>dog</td>\n",
              "      <td>NaN</td>\n",
              "    </tr>\n",
              "    <tr>\n",
              "      <th>h</th>\n",
              "      <td>cat</td>\n",
              "      <td>NaN</td>\n",
              "    </tr>\n",
              "  </tbody>\n",
              "</table>\n",
              "</div>"
            ],
            "text/plain": [
              "  animal  age\n",
              "c  snake  0.5\n",
              "d    dog  NaN\n",
              "h    cat  NaN"
            ]
          },
          "metadata": {
            "tags": []
          },
          "execution_count": 8
        }
      ]
    },
    {
      "metadata": {
        "colab_type": "text",
        "id": "c2Zb8qUP5NrI"
      },
      "cell_type": "markdown",
      "source": [
        "```Select only the rows where the number of visits is greater than 3. Pandas supports two useful APIs:\n",
        "(df[boolean list/series]) returns the rows for which the value is True\n",
        "(df[column] > num) returns a boolean series```"
      ]
    },
    {
      "metadata": {
        "colab_type": "code",
        "id": "D2gW90OX5NrK",
        "outputId": "3bb00309-2a88-4c43-8165-11c5ab69b593",
        "colab": {
          "base_uri": "https://localhost:8080/",
          "height": 49
        }
      },
      "cell_type": "code",
      "source": [
        "df.loc[df[\"visits\"] > 3]"
      ],
      "execution_count": 9,
      "outputs": [
        {
          "output_type": "execute_result",
          "data": {
            "text/html": [
              "<div>\n",
              "<style scoped>\n",
              "    .dataframe tbody tr th:only-of-type {\n",
              "        vertical-align: middle;\n",
              "    }\n",
              "\n",
              "    .dataframe tbody tr th {\n",
              "        vertical-align: top;\n",
              "    }\n",
              "\n",
              "    .dataframe thead th {\n",
              "        text-align: right;\n",
              "    }\n",
              "</style>\n",
              "<table border=\"1\" class=\"dataframe\">\n",
              "  <thead>\n",
              "    <tr style=\"text-align: right;\">\n",
              "      <th></th>\n",
              "      <th>age</th>\n",
              "      <th>animal</th>\n",
              "      <th>priority</th>\n",
              "      <th>visits</th>\n",
              "    </tr>\n",
              "  </thead>\n",
              "  <tbody>\n",
              "  </tbody>\n",
              "</table>\n",
              "</div>"
            ],
            "text/plain": [
              "Empty DataFrame\n",
              "Columns: [age, animal, priority, visits]\n",
              "Index: []"
            ]
          },
          "metadata": {
            "tags": []
          },
          "execution_count": 9
        }
      ]
    },
    {
      "metadata": {
        "colab_type": "text",
        "id": "uUfMVcFW5NrQ"
      },
      "cell_type": "markdown",
      "source": [
        "```Select the rows where the age is missing, i.e. is `NaN`.```"
      ]
    },
    {
      "metadata": {
        "colab_type": "code",
        "id": "aXg_sBb35NrS",
        "outputId": "994e4ed2-aaf0-4933-9068-fbba5e406c8e",
        "colab": {
          "base_uri": "https://localhost:8080/",
          "height": 111
        }
      },
      "cell_type": "code",
      "source": [
        "df.loc[df[\"age\"].isna()]"
      ],
      "execution_count": 10,
      "outputs": [
        {
          "output_type": "execute_result",
          "data": {
            "text/html": [
              "<div>\n",
              "<style scoped>\n",
              "    .dataframe tbody tr th:only-of-type {\n",
              "        vertical-align: middle;\n",
              "    }\n",
              "\n",
              "    .dataframe tbody tr th {\n",
              "        vertical-align: top;\n",
              "    }\n",
              "\n",
              "    .dataframe thead th {\n",
              "        text-align: right;\n",
              "    }\n",
              "</style>\n",
              "<table border=\"1\" class=\"dataframe\">\n",
              "  <thead>\n",
              "    <tr style=\"text-align: right;\">\n",
              "      <th></th>\n",
              "      <th>age</th>\n",
              "      <th>animal</th>\n",
              "      <th>priority</th>\n",
              "      <th>visits</th>\n",
              "    </tr>\n",
              "  </thead>\n",
              "  <tbody>\n",
              "    <tr>\n",
              "      <th>d</th>\n",
              "      <td>NaN</td>\n",
              "      <td>dog</td>\n",
              "      <td>yes</td>\n",
              "      <td>3</td>\n",
              "    </tr>\n",
              "    <tr>\n",
              "      <th>h</th>\n",
              "      <td>NaN</td>\n",
              "      <td>cat</td>\n",
              "      <td>yes</td>\n",
              "      <td>1</td>\n",
              "    </tr>\n",
              "  </tbody>\n",
              "</table>\n",
              "</div>"
            ],
            "text/plain": [
              "   age animal priority  visits\n",
              "d  NaN    dog      yes       3\n",
              "h  NaN    cat      yes       1"
            ]
          },
          "metadata": {
            "tags": []
          },
          "execution_count": 10
        }
      ]
    },
    {
      "metadata": {
        "colab_type": "text",
        "id": "qPehGTuz5NrX"
      },
      "cell_type": "markdown",
      "source": [
        "```Select the rows where the animal is a cat *and* the age is less than 3. You can use logical operands: &, |, ~```"
      ]
    },
    {
      "metadata": {
        "colab_type": "code",
        "id": "aq0Q7Nsj5NrZ",
        "outputId": "4f206cf8-fa7e-4c45-f866-bdca10de945f",
        "colab": {
          "base_uri": "https://localhost:8080/",
          "height": 111
        }
      },
      "cell_type": "code",
      "source": [
        "df.loc[lambda df : (df['age'] < 3) & (df['animal'] == 'cat')]"
      ],
      "execution_count": 11,
      "outputs": [
        {
          "output_type": "execute_result",
          "data": {
            "text/html": [
              "<div>\n",
              "<style scoped>\n",
              "    .dataframe tbody tr th:only-of-type {\n",
              "        vertical-align: middle;\n",
              "    }\n",
              "\n",
              "    .dataframe tbody tr th {\n",
              "        vertical-align: top;\n",
              "    }\n",
              "\n",
              "    .dataframe thead th {\n",
              "        text-align: right;\n",
              "    }\n",
              "</style>\n",
              "<table border=\"1\" class=\"dataframe\">\n",
              "  <thead>\n",
              "    <tr style=\"text-align: right;\">\n",
              "      <th></th>\n",
              "      <th>age</th>\n",
              "      <th>animal</th>\n",
              "      <th>priority</th>\n",
              "      <th>visits</th>\n",
              "    </tr>\n",
              "  </thead>\n",
              "  <tbody>\n",
              "    <tr>\n",
              "      <th>a</th>\n",
              "      <td>2.5</td>\n",
              "      <td>cat</td>\n",
              "      <td>yes</td>\n",
              "      <td>1</td>\n",
              "    </tr>\n",
              "    <tr>\n",
              "      <th>f</th>\n",
              "      <td>2.0</td>\n",
              "      <td>cat</td>\n",
              "      <td>no</td>\n",
              "      <td>3</td>\n",
              "    </tr>\n",
              "  </tbody>\n",
              "</table>\n",
              "</div>"
            ],
            "text/plain": [
              "   age animal priority  visits\n",
              "a  2.5    cat      yes       1\n",
              "f  2.0    cat       no       3"
            ]
          },
          "metadata": {
            "tags": []
          },
          "execution_count": 11
        }
      ]
    },
    {
      "metadata": {
        "colab_type": "text",
        "id": "PMyrpx_G5Nrd"
      },
      "cell_type": "markdown",
      "source": [
        "```Select the rows the age is between 2 and 4 (inclusive).```"
      ]
    },
    {
      "metadata": {
        "colab_type": "code",
        "id": "EdA0ltIU5Nrf",
        "outputId": "2d625853-c2f2-4607-a8c3-59fdee4c7e42",
        "colab": {
          "base_uri": "https://localhost:8080/",
          "height": 173
        }
      },
      "cell_type": "code",
      "source": [
        "df.loc[lambda df : (df['age'] <= 4) & (df['age'] >= 2)]"
      ],
      "execution_count": 12,
      "outputs": [
        {
          "output_type": "execute_result",
          "data": {
            "text/html": [
              "<div>\n",
              "<style scoped>\n",
              "    .dataframe tbody tr th:only-of-type {\n",
              "        vertical-align: middle;\n",
              "    }\n",
              "\n",
              "    .dataframe tbody tr th {\n",
              "        vertical-align: top;\n",
              "    }\n",
              "\n",
              "    .dataframe thead th {\n",
              "        text-align: right;\n",
              "    }\n",
              "</style>\n",
              "<table border=\"1\" class=\"dataframe\">\n",
              "  <thead>\n",
              "    <tr style=\"text-align: right;\">\n",
              "      <th></th>\n",
              "      <th>age</th>\n",
              "      <th>animal</th>\n",
              "      <th>priority</th>\n",
              "      <th>visits</th>\n",
              "    </tr>\n",
              "  </thead>\n",
              "  <tbody>\n",
              "    <tr>\n",
              "      <th>a</th>\n",
              "      <td>2.5</td>\n",
              "      <td>cat</td>\n",
              "      <td>yes</td>\n",
              "      <td>1</td>\n",
              "    </tr>\n",
              "    <tr>\n",
              "      <th>b</th>\n",
              "      <td>3.0</td>\n",
              "      <td>cat</td>\n",
              "      <td>yes</td>\n",
              "      <td>3</td>\n",
              "    </tr>\n",
              "    <tr>\n",
              "      <th>f</th>\n",
              "      <td>2.0</td>\n",
              "      <td>cat</td>\n",
              "      <td>no</td>\n",
              "      <td>3</td>\n",
              "    </tr>\n",
              "    <tr>\n",
              "      <th>j</th>\n",
              "      <td>3.0</td>\n",
              "      <td>dog</td>\n",
              "      <td>no</td>\n",
              "      <td>1</td>\n",
              "    </tr>\n",
              "  </tbody>\n",
              "</table>\n",
              "</div>"
            ],
            "text/plain": [
              "   age animal priority  visits\n",
              "a  2.5    cat      yes       1\n",
              "b  3.0    cat      yes       3\n",
              "f  2.0    cat       no       3\n",
              "j  3.0    dog       no       1"
            ]
          },
          "metadata": {
            "tags": []
          },
          "execution_count": 12
        }
      ]
    },
    {
      "metadata": {
        "colab_type": "text",
        "id": "G0CI2ctU5Nrk"
      },
      "cell_type": "markdown",
      "source": [
        "```Change the age in row 'f' to 1.5.```"
      ]
    },
    {
      "metadata": {
        "colab_type": "code",
        "id": "go28IEkS5Nrm",
        "outputId": "893d90a0-79c7-43c6-b5b0-28eec7d05b5c",
        "colab": {
          "base_uri": "https://localhost:8080/",
          "height": 359
        }
      },
      "cell_type": "code",
      "source": [
        "df.at['f', 'age'] = 1.5\n",
        "df"
      ],
      "execution_count": 13,
      "outputs": [
        {
          "output_type": "execute_result",
          "data": {
            "text/html": [
              "<div>\n",
              "<style scoped>\n",
              "    .dataframe tbody tr th:only-of-type {\n",
              "        vertical-align: middle;\n",
              "    }\n",
              "\n",
              "    .dataframe tbody tr th {\n",
              "        vertical-align: top;\n",
              "    }\n",
              "\n",
              "    .dataframe thead th {\n",
              "        text-align: right;\n",
              "    }\n",
              "</style>\n",
              "<table border=\"1\" class=\"dataframe\">\n",
              "  <thead>\n",
              "    <tr style=\"text-align: right;\">\n",
              "      <th></th>\n",
              "      <th>age</th>\n",
              "      <th>animal</th>\n",
              "      <th>priority</th>\n",
              "      <th>visits</th>\n",
              "    </tr>\n",
              "  </thead>\n",
              "  <tbody>\n",
              "    <tr>\n",
              "      <th>a</th>\n",
              "      <td>2.5</td>\n",
              "      <td>cat</td>\n",
              "      <td>yes</td>\n",
              "      <td>1</td>\n",
              "    </tr>\n",
              "    <tr>\n",
              "      <th>b</th>\n",
              "      <td>3.0</td>\n",
              "      <td>cat</td>\n",
              "      <td>yes</td>\n",
              "      <td>3</td>\n",
              "    </tr>\n",
              "    <tr>\n",
              "      <th>c</th>\n",
              "      <td>0.5</td>\n",
              "      <td>snake</td>\n",
              "      <td>no</td>\n",
              "      <td>2</td>\n",
              "    </tr>\n",
              "    <tr>\n",
              "      <th>d</th>\n",
              "      <td>NaN</td>\n",
              "      <td>dog</td>\n",
              "      <td>yes</td>\n",
              "      <td>3</td>\n",
              "    </tr>\n",
              "    <tr>\n",
              "      <th>e</th>\n",
              "      <td>5.0</td>\n",
              "      <td>dog</td>\n",
              "      <td>no</td>\n",
              "      <td>2</td>\n",
              "    </tr>\n",
              "    <tr>\n",
              "      <th>f</th>\n",
              "      <td>1.5</td>\n",
              "      <td>cat</td>\n",
              "      <td>no</td>\n",
              "      <td>3</td>\n",
              "    </tr>\n",
              "    <tr>\n",
              "      <th>g</th>\n",
              "      <td>4.5</td>\n",
              "      <td>snake</td>\n",
              "      <td>no</td>\n",
              "      <td>1</td>\n",
              "    </tr>\n",
              "    <tr>\n",
              "      <th>h</th>\n",
              "      <td>NaN</td>\n",
              "      <td>cat</td>\n",
              "      <td>yes</td>\n",
              "      <td>1</td>\n",
              "    </tr>\n",
              "    <tr>\n",
              "      <th>i</th>\n",
              "      <td>7.0</td>\n",
              "      <td>dog</td>\n",
              "      <td>no</td>\n",
              "      <td>2</td>\n",
              "    </tr>\n",
              "    <tr>\n",
              "      <th>j</th>\n",
              "      <td>3.0</td>\n",
              "      <td>dog</td>\n",
              "      <td>no</td>\n",
              "      <td>1</td>\n",
              "    </tr>\n",
              "  </tbody>\n",
              "</table>\n",
              "</div>"
            ],
            "text/plain": [
              "   age animal priority  visits\n",
              "a  2.5    cat      yes       1\n",
              "b  3.0    cat      yes       3\n",
              "c  0.5  snake       no       2\n",
              "d  NaN    dog      yes       3\n",
              "e  5.0    dog       no       2\n",
              "f  1.5    cat       no       3\n",
              "g  4.5  snake       no       1\n",
              "h  NaN    cat      yes       1\n",
              "i  7.0    dog       no       2\n",
              "j  3.0    dog       no       1"
            ]
          },
          "metadata": {
            "tags": []
          },
          "execution_count": 13
        }
      ]
    },
    {
      "metadata": {
        "colab_type": "text",
        "id": "QhJ_K8Vq5Nrr"
      },
      "cell_type": "markdown",
      "source": [
        "```Calculate the sum of all visits (the total number of visits). Do it twice: using built in pandas functions and using numpy```"
      ]
    },
    {
      "metadata": {
        "colab_type": "code",
        "id": "StCzXdfi5Nrs",
        "outputId": "c09b02de-95e9-4d94-b46b-3ab7f240e9db",
        "colab": {
          "base_uri": "https://localhost:8080/",
          "height": 85
        }
      },
      "cell_type": "code",
      "source": [
        "print(df[\"visits\"].sum())\n",
        "print(\"\\n\")\n",
        "print(np.sum(df[\"visits\"]))"
      ],
      "execution_count": 14,
      "outputs": [
        {
          "output_type": "stream",
          "text": [
            "19\n",
            "\n",
            "\n",
            "19\n"
          ],
          "name": "stdout"
        }
      ]
    },
    {
      "metadata": {
        "colab_type": "text",
        "id": "RpnAq9ez5Nry"
      },
      "cell_type": "markdown",
      "source": [
        "```Calculate the mean age for each different animal in `df`.```"
      ]
    },
    {
      "metadata": {
        "colab_type": "code",
        "id": "yMNfzZti5Nr1",
        "outputId": "a33bd96c-5914-4fc8-8f13-6bb88b1f4c5d",
        "colab": {
          "base_uri": "https://localhost:8080/",
          "height": 173
        }
      },
      "cell_type": "code",
      "source": [
        "df.loc[: , [\"animal\" , \"age\"]].groupby([\"animal\"]).mean()"
      ],
      "execution_count": 15,
      "outputs": [
        {
          "output_type": "execute_result",
          "data": {
            "text/html": [
              "<div>\n",
              "<style scoped>\n",
              "    .dataframe tbody tr th:only-of-type {\n",
              "        vertical-align: middle;\n",
              "    }\n",
              "\n",
              "    .dataframe tbody tr th {\n",
              "        vertical-align: top;\n",
              "    }\n",
              "\n",
              "    .dataframe thead th {\n",
              "        text-align: right;\n",
              "    }\n",
              "</style>\n",
              "<table border=\"1\" class=\"dataframe\">\n",
              "  <thead>\n",
              "    <tr style=\"text-align: right;\">\n",
              "      <th></th>\n",
              "      <th>age</th>\n",
              "    </tr>\n",
              "    <tr>\n",
              "      <th>animal</th>\n",
              "      <th></th>\n",
              "    </tr>\n",
              "  </thead>\n",
              "  <tbody>\n",
              "    <tr>\n",
              "      <th>cat</th>\n",
              "      <td>2.333333</td>\n",
              "    </tr>\n",
              "    <tr>\n",
              "      <th>dog</th>\n",
              "      <td>5.000000</td>\n",
              "    </tr>\n",
              "    <tr>\n",
              "      <th>snake</th>\n",
              "      <td>2.500000</td>\n",
              "    </tr>\n",
              "  </tbody>\n",
              "</table>\n",
              "</div>"
            ],
            "text/plain": [
              "             age\n",
              "animal          \n",
              "cat     2.333333\n",
              "dog     5.000000\n",
              "snake   2.500000"
            ]
          },
          "metadata": {
            "tags": []
          },
          "execution_count": 15
        }
      ]
    },
    {
      "metadata": {
        "colab_type": "text",
        "id": "NE7_s3mH5Nr7"
      },
      "cell_type": "markdown",
      "source": [
        "```Append a new row 'k' to `df` with your choice of values for each column. Then delete that row to return the original DataFrame.```"
      ]
    },
    {
      "metadata": {
        "colab_type": "code",
        "id": "Mw35i_WM5Nr_",
        "colab": {}
      },
      "cell_type": "code",
      "source": [
        "df = df.append(pd.DataFrame(data = {\"animal\" : \"cat\" , \"age\" : 4 , \"visits\" : 2 , \"priority\" : \"yes\"} , index = [\"k\"]))\n",
        "df = df.drop([\"k\"])"
      ],
      "execution_count": 0,
      "outputs": []
    },
    {
      "metadata": {
        "colab_type": "text",
        "id": "RNpESFgs5NsG"
      },
      "cell_type": "markdown",
      "source": [
        "```Count the number of each type of animal in `df`.```"
      ]
    },
    {
      "metadata": {
        "colab_type": "code",
        "id": "B8teNnug5NsM",
        "outputId": "ed5bef02-2043-4994-eeb5-e2c833b07e0c",
        "colab": {
          "base_uri": "https://localhost:8080/",
          "height": 85
        }
      },
      "cell_type": "code",
      "source": [
        "df[\"animal\"].value_counts()"
      ],
      "execution_count": 17,
      "outputs": [
        {
          "output_type": "execute_result",
          "data": {
            "text/plain": [
              "dog      4\n",
              "cat      4\n",
              "snake    2\n",
              "Name: animal, dtype: int64"
            ]
          },
          "metadata": {
            "tags": []
          },
          "execution_count": 17
        }
      ]
    },
    {
      "metadata": {
        "colab_type": "text",
        "id": "3EYAU4LK5NsQ"
      },
      "cell_type": "markdown",
      "source": [
        "```Sort `df` first by the values in the 'age' in *decending* order, then by the value in the 'visit' column in *ascending* order. You can use the sort_values function```"
      ]
    },
    {
      "metadata": {
        "colab_type": "code",
        "id": "5P170NRV5NsS",
        "outputId": "7254b106-cd39-42cb-a2a3-970140c02261",
        "colab": {
          "base_uri": "https://localhost:8080/",
          "height": 359
        }
      },
      "cell_type": "code",
      "source": [
        "df.sort_values(by=['age', \"visits\"] , ascending = [False , True])"
      ],
      "execution_count": 18,
      "outputs": [
        {
          "output_type": "execute_result",
          "data": {
            "text/html": [
              "<div>\n",
              "<style scoped>\n",
              "    .dataframe tbody tr th:only-of-type {\n",
              "        vertical-align: middle;\n",
              "    }\n",
              "\n",
              "    .dataframe tbody tr th {\n",
              "        vertical-align: top;\n",
              "    }\n",
              "\n",
              "    .dataframe thead th {\n",
              "        text-align: right;\n",
              "    }\n",
              "</style>\n",
              "<table border=\"1\" class=\"dataframe\">\n",
              "  <thead>\n",
              "    <tr style=\"text-align: right;\">\n",
              "      <th></th>\n",
              "      <th>age</th>\n",
              "      <th>animal</th>\n",
              "      <th>priority</th>\n",
              "      <th>visits</th>\n",
              "    </tr>\n",
              "  </thead>\n",
              "  <tbody>\n",
              "    <tr>\n",
              "      <th>i</th>\n",
              "      <td>7.0</td>\n",
              "      <td>dog</td>\n",
              "      <td>no</td>\n",
              "      <td>2</td>\n",
              "    </tr>\n",
              "    <tr>\n",
              "      <th>e</th>\n",
              "      <td>5.0</td>\n",
              "      <td>dog</td>\n",
              "      <td>no</td>\n",
              "      <td>2</td>\n",
              "    </tr>\n",
              "    <tr>\n",
              "      <th>g</th>\n",
              "      <td>4.5</td>\n",
              "      <td>snake</td>\n",
              "      <td>no</td>\n",
              "      <td>1</td>\n",
              "    </tr>\n",
              "    <tr>\n",
              "      <th>j</th>\n",
              "      <td>3.0</td>\n",
              "      <td>dog</td>\n",
              "      <td>no</td>\n",
              "      <td>1</td>\n",
              "    </tr>\n",
              "    <tr>\n",
              "      <th>b</th>\n",
              "      <td>3.0</td>\n",
              "      <td>cat</td>\n",
              "      <td>yes</td>\n",
              "      <td>3</td>\n",
              "    </tr>\n",
              "    <tr>\n",
              "      <th>a</th>\n",
              "      <td>2.5</td>\n",
              "      <td>cat</td>\n",
              "      <td>yes</td>\n",
              "      <td>1</td>\n",
              "    </tr>\n",
              "    <tr>\n",
              "      <th>f</th>\n",
              "      <td>1.5</td>\n",
              "      <td>cat</td>\n",
              "      <td>no</td>\n",
              "      <td>3</td>\n",
              "    </tr>\n",
              "    <tr>\n",
              "      <th>c</th>\n",
              "      <td>0.5</td>\n",
              "      <td>snake</td>\n",
              "      <td>no</td>\n",
              "      <td>2</td>\n",
              "    </tr>\n",
              "    <tr>\n",
              "      <th>h</th>\n",
              "      <td>NaN</td>\n",
              "      <td>cat</td>\n",
              "      <td>yes</td>\n",
              "      <td>1</td>\n",
              "    </tr>\n",
              "    <tr>\n",
              "      <th>d</th>\n",
              "      <td>NaN</td>\n",
              "      <td>dog</td>\n",
              "      <td>yes</td>\n",
              "      <td>3</td>\n",
              "    </tr>\n",
              "  </tbody>\n",
              "</table>\n",
              "</div>"
            ],
            "text/plain": [
              "   age animal priority  visits\n",
              "i  7.0    dog       no       2\n",
              "e  5.0    dog       no       2\n",
              "g  4.5  snake       no       1\n",
              "j  3.0    dog       no       1\n",
              "b  3.0    cat      yes       3\n",
              "a  2.5    cat      yes       1\n",
              "f  1.5    cat       no       3\n",
              "c  0.5  snake       no       2\n",
              "h  NaN    cat      yes       1\n",
              "d  NaN    dog      yes       3"
            ]
          },
          "metadata": {
            "tags": []
          },
          "execution_count": 18
        }
      ]
    },
    {
      "metadata": {
        "colab_type": "text",
        "id": "LjwhxNMa5Nsb"
      },
      "cell_type": "markdown",
      "source": [
        "```The 'priority' column contains the values 'yes' and 'no'. Replace this column with a column of boolean values: 'yes' should be `True` and 'no' should be `False`.```"
      ]
    },
    {
      "metadata": {
        "colab_type": "code",
        "id": "ykZOE0AN5Nsd",
        "outputId": "335f739d-c49c-429f-be84-9b120c8f4320",
        "colab": {
          "base_uri": "https://localhost:8080/",
          "height": 359
        }
      },
      "cell_type": "code",
      "source": [
        "df.replace({'priority' : {\"yes\" : True , \"no\" : False}})"
      ],
      "execution_count": 19,
      "outputs": [
        {
          "output_type": "execute_result",
          "data": {
            "text/html": [
              "<div>\n",
              "<style scoped>\n",
              "    .dataframe tbody tr th:only-of-type {\n",
              "        vertical-align: middle;\n",
              "    }\n",
              "\n",
              "    .dataframe tbody tr th {\n",
              "        vertical-align: top;\n",
              "    }\n",
              "\n",
              "    .dataframe thead th {\n",
              "        text-align: right;\n",
              "    }\n",
              "</style>\n",
              "<table border=\"1\" class=\"dataframe\">\n",
              "  <thead>\n",
              "    <tr style=\"text-align: right;\">\n",
              "      <th></th>\n",
              "      <th>age</th>\n",
              "      <th>animal</th>\n",
              "      <th>priority</th>\n",
              "      <th>visits</th>\n",
              "    </tr>\n",
              "  </thead>\n",
              "  <tbody>\n",
              "    <tr>\n",
              "      <th>a</th>\n",
              "      <td>2.5</td>\n",
              "      <td>cat</td>\n",
              "      <td>True</td>\n",
              "      <td>1</td>\n",
              "    </tr>\n",
              "    <tr>\n",
              "      <th>b</th>\n",
              "      <td>3.0</td>\n",
              "      <td>cat</td>\n",
              "      <td>True</td>\n",
              "      <td>3</td>\n",
              "    </tr>\n",
              "    <tr>\n",
              "      <th>c</th>\n",
              "      <td>0.5</td>\n",
              "      <td>snake</td>\n",
              "      <td>False</td>\n",
              "      <td>2</td>\n",
              "    </tr>\n",
              "    <tr>\n",
              "      <th>d</th>\n",
              "      <td>NaN</td>\n",
              "      <td>dog</td>\n",
              "      <td>True</td>\n",
              "      <td>3</td>\n",
              "    </tr>\n",
              "    <tr>\n",
              "      <th>e</th>\n",
              "      <td>5.0</td>\n",
              "      <td>dog</td>\n",
              "      <td>False</td>\n",
              "      <td>2</td>\n",
              "    </tr>\n",
              "    <tr>\n",
              "      <th>f</th>\n",
              "      <td>1.5</td>\n",
              "      <td>cat</td>\n",
              "      <td>False</td>\n",
              "      <td>3</td>\n",
              "    </tr>\n",
              "    <tr>\n",
              "      <th>g</th>\n",
              "      <td>4.5</td>\n",
              "      <td>snake</td>\n",
              "      <td>False</td>\n",
              "      <td>1</td>\n",
              "    </tr>\n",
              "    <tr>\n",
              "      <th>h</th>\n",
              "      <td>NaN</td>\n",
              "      <td>cat</td>\n",
              "      <td>True</td>\n",
              "      <td>1</td>\n",
              "    </tr>\n",
              "    <tr>\n",
              "      <th>i</th>\n",
              "      <td>7.0</td>\n",
              "      <td>dog</td>\n",
              "      <td>False</td>\n",
              "      <td>2</td>\n",
              "    </tr>\n",
              "    <tr>\n",
              "      <th>j</th>\n",
              "      <td>3.0</td>\n",
              "      <td>dog</td>\n",
              "      <td>False</td>\n",
              "      <td>1</td>\n",
              "    </tr>\n",
              "  </tbody>\n",
              "</table>\n",
              "</div>"
            ],
            "text/plain": [
              "   age animal  priority  visits\n",
              "a  2.5    cat      True       1\n",
              "b  3.0    cat      True       3\n",
              "c  0.5  snake     False       2\n",
              "d  NaN    dog      True       3\n",
              "e  5.0    dog     False       2\n",
              "f  1.5    cat     False       3\n",
              "g  4.5  snake     False       1\n",
              "h  NaN    cat      True       1\n",
              "i  7.0    dog     False       2\n",
              "j  3.0    dog     False       1"
            ]
          },
          "metadata": {
            "tags": []
          },
          "execution_count": 19
        }
      ]
    },
    {
      "metadata": {
        "colab_type": "text",
        "id": "J49yUr-95Nsi"
      },
      "cell_type": "markdown",
      "source": [
        "```In the 'animal' column, change the 'snake' entries to 'python'.```"
      ]
    },
    {
      "metadata": {
        "colab_type": "code",
        "id": "00wJy7HH5Nsj",
        "outputId": "f9d68836-39a5-4a3b-94a0-3097522a671e",
        "colab": {
          "base_uri": "https://localhost:8080/",
          "height": 359
        }
      },
      "cell_type": "code",
      "source": [
        "df.replace({'animal' : {\"snake\" : \"python\"}})"
      ],
      "execution_count": 20,
      "outputs": [
        {
          "output_type": "execute_result",
          "data": {
            "text/html": [
              "<div>\n",
              "<style scoped>\n",
              "    .dataframe tbody tr th:only-of-type {\n",
              "        vertical-align: middle;\n",
              "    }\n",
              "\n",
              "    .dataframe tbody tr th {\n",
              "        vertical-align: top;\n",
              "    }\n",
              "\n",
              "    .dataframe thead th {\n",
              "        text-align: right;\n",
              "    }\n",
              "</style>\n",
              "<table border=\"1\" class=\"dataframe\">\n",
              "  <thead>\n",
              "    <tr style=\"text-align: right;\">\n",
              "      <th></th>\n",
              "      <th>age</th>\n",
              "      <th>animal</th>\n",
              "      <th>priority</th>\n",
              "      <th>visits</th>\n",
              "    </tr>\n",
              "  </thead>\n",
              "  <tbody>\n",
              "    <tr>\n",
              "      <th>a</th>\n",
              "      <td>2.5</td>\n",
              "      <td>cat</td>\n",
              "      <td>yes</td>\n",
              "      <td>1</td>\n",
              "    </tr>\n",
              "    <tr>\n",
              "      <th>b</th>\n",
              "      <td>3.0</td>\n",
              "      <td>cat</td>\n",
              "      <td>yes</td>\n",
              "      <td>3</td>\n",
              "    </tr>\n",
              "    <tr>\n",
              "      <th>c</th>\n",
              "      <td>0.5</td>\n",
              "      <td>python</td>\n",
              "      <td>no</td>\n",
              "      <td>2</td>\n",
              "    </tr>\n",
              "    <tr>\n",
              "      <th>d</th>\n",
              "      <td>NaN</td>\n",
              "      <td>dog</td>\n",
              "      <td>yes</td>\n",
              "      <td>3</td>\n",
              "    </tr>\n",
              "    <tr>\n",
              "      <th>e</th>\n",
              "      <td>5.0</td>\n",
              "      <td>dog</td>\n",
              "      <td>no</td>\n",
              "      <td>2</td>\n",
              "    </tr>\n",
              "    <tr>\n",
              "      <th>f</th>\n",
              "      <td>1.5</td>\n",
              "      <td>cat</td>\n",
              "      <td>no</td>\n",
              "      <td>3</td>\n",
              "    </tr>\n",
              "    <tr>\n",
              "      <th>g</th>\n",
              "      <td>4.5</td>\n",
              "      <td>python</td>\n",
              "      <td>no</td>\n",
              "      <td>1</td>\n",
              "    </tr>\n",
              "    <tr>\n",
              "      <th>h</th>\n",
              "      <td>NaN</td>\n",
              "      <td>cat</td>\n",
              "      <td>yes</td>\n",
              "      <td>1</td>\n",
              "    </tr>\n",
              "    <tr>\n",
              "      <th>i</th>\n",
              "      <td>7.0</td>\n",
              "      <td>dog</td>\n",
              "      <td>no</td>\n",
              "      <td>2</td>\n",
              "    </tr>\n",
              "    <tr>\n",
              "      <th>j</th>\n",
              "      <td>3.0</td>\n",
              "      <td>dog</td>\n",
              "      <td>no</td>\n",
              "      <td>1</td>\n",
              "    </tr>\n",
              "  </tbody>\n",
              "</table>\n",
              "</div>"
            ],
            "text/plain": [
              "   age  animal priority  visits\n",
              "a  2.5     cat      yes       1\n",
              "b  3.0     cat      yes       3\n",
              "c  0.5  python       no       2\n",
              "d  NaN     dog      yes       3\n",
              "e  5.0     dog       no       2\n",
              "f  1.5     cat       no       3\n",
              "g  4.5  python       no       1\n",
              "h  NaN     cat      yes       1\n",
              "i  7.0     dog       no       2\n",
              "j  3.0     dog       no       1"
            ]
          },
          "metadata": {
            "tags": []
          },
          "execution_count": 20
        }
      ]
    },
    {
      "metadata": {
        "colab_type": "text",
        "id": "jNLOUYv05Nsm"
      },
      "cell_type": "markdown",
      "source": [
        "```For each animal type and each number of visits, find the mean age. In other words, each row is an animal, each column is a number of visits and the values are the mean ages (hint: use a pivot table).```"
      ]
    },
    {
      "metadata": {
        "colab_type": "code",
        "id": "AYYBVZBd5Nsn",
        "outputId": "a682191b-0aa1-4a45-b685-79d80e91605c",
        "colab": {
          "base_uri": "https://localhost:8080/",
          "height": 173
        }
      },
      "cell_type": "code",
      "source": [
        " pd.pivot_table(df, values='age', index=['animal'] , columns=['visits'], aggfunc = np.mean)"
      ],
      "execution_count": 21,
      "outputs": [
        {
          "output_type": "execute_result",
          "data": {
            "text/html": [
              "<div>\n",
              "<style scoped>\n",
              "    .dataframe tbody tr th:only-of-type {\n",
              "        vertical-align: middle;\n",
              "    }\n",
              "\n",
              "    .dataframe tbody tr th {\n",
              "        vertical-align: top;\n",
              "    }\n",
              "\n",
              "    .dataframe thead th {\n",
              "        text-align: right;\n",
              "    }\n",
              "</style>\n",
              "<table border=\"1\" class=\"dataframe\">\n",
              "  <thead>\n",
              "    <tr style=\"text-align: right;\">\n",
              "      <th>visits</th>\n",
              "      <th>1</th>\n",
              "      <th>2</th>\n",
              "      <th>3</th>\n",
              "    </tr>\n",
              "    <tr>\n",
              "      <th>animal</th>\n",
              "      <th></th>\n",
              "      <th></th>\n",
              "      <th></th>\n",
              "    </tr>\n",
              "  </thead>\n",
              "  <tbody>\n",
              "    <tr>\n",
              "      <th>cat</th>\n",
              "      <td>2.5</td>\n",
              "      <td>NaN</td>\n",
              "      <td>2.25</td>\n",
              "    </tr>\n",
              "    <tr>\n",
              "      <th>dog</th>\n",
              "      <td>3.0</td>\n",
              "      <td>6.0</td>\n",
              "      <td>NaN</td>\n",
              "    </tr>\n",
              "    <tr>\n",
              "      <th>snake</th>\n",
              "      <td>4.5</td>\n",
              "      <td>0.5</td>\n",
              "      <td>NaN</td>\n",
              "    </tr>\n",
              "  </tbody>\n",
              "</table>\n",
              "</div>"
            ],
            "text/plain": [
              "visits    1    2     3\n",
              "animal                \n",
              "cat     2.5  NaN  2.25\n",
              "dog     3.0  6.0   NaN\n",
              "snake   4.5  0.5   NaN"
            ]
          },
          "metadata": {
            "tags": []
          },
          "execution_count": 21
        }
      ]
    },
    {
      "metadata": {
        "colab_type": "text",
        "id": "Tq6pr4wO5Nsq"
      },
      "cell_type": "markdown",
      "source": [
        "```Now you will be asked to generate your own test data and manipulate it using functions you will have to create.```"
      ]
    },
    {
      "metadata": {
        "colab_type": "text",
        "id": "p6Dxg_Zq5Nsr"
      },
      "cell_type": "markdown",
      "source": [
        "```Create a dataframe with 1000 rows and 3 columns. The columns are to be the following:```\n",
        "```\n",
        "        - age: an integer, uniformly distributed between 20 to 65\n",
        "        - skill: a float, normally distributed between 0 and 1, with expected value = 0.5 and standard deviation = 0.3\n",
        "        - height: a float with 2 digits after the decimal point, between 1.5 to 2.0\n",
        "```\n",
        "```you might want to use numpy.random```"
      ]
    },
    {
      "metadata": {
        "colab_type": "code",
        "id": "iIlk_3sM5Nst",
        "outputId": "35573a43-9472-49b3-8dfc-0356a21654c7",
        "colab": {
          "base_uri": "https://localhost:8080/",
          "height": 1969
        }
      },
      "cell_type": "code",
      "source": [
        "Age = list(np.random.randint(20 , 65 , size=1000))\n",
        "Skill = list(np.random.normal(0.5 , 0.3 , 1000))\n",
        "Height = [float('%.2f' % (i)) for i in list(np.random.uniform(1.5 , 2 , 1000))]\n",
        "\n",
        "df = pd.DataFrame(data = {\"age\" : Age , \"skill\" : Skill , \"height\" : Height} , index = list(range(1000)))\n",
        "df"
      ],
      "execution_count": 22,
      "outputs": [
        {
          "output_type": "execute_result",
          "data": {
            "text/html": [
              "<div>\n",
              "<style scoped>\n",
              "    .dataframe tbody tr th:only-of-type {\n",
              "        vertical-align: middle;\n",
              "    }\n",
              "\n",
              "    .dataframe tbody tr th {\n",
              "        vertical-align: top;\n",
              "    }\n",
              "\n",
              "    .dataframe thead th {\n",
              "        text-align: right;\n",
              "    }\n",
              "</style>\n",
              "<table border=\"1\" class=\"dataframe\">\n",
              "  <thead>\n",
              "    <tr style=\"text-align: right;\">\n",
              "      <th></th>\n",
              "      <th>age</th>\n",
              "      <th>height</th>\n",
              "      <th>skill</th>\n",
              "    </tr>\n",
              "  </thead>\n",
              "  <tbody>\n",
              "    <tr>\n",
              "      <th>0</th>\n",
              "      <td>49</td>\n",
              "      <td>1.84</td>\n",
              "      <td>0.405107</td>\n",
              "    </tr>\n",
              "    <tr>\n",
              "      <th>1</th>\n",
              "      <td>55</td>\n",
              "      <td>1.59</td>\n",
              "      <td>0.346862</td>\n",
              "    </tr>\n",
              "    <tr>\n",
              "      <th>2</th>\n",
              "      <td>47</td>\n",
              "      <td>1.61</td>\n",
              "      <td>0.190657</td>\n",
              "    </tr>\n",
              "    <tr>\n",
              "      <th>3</th>\n",
              "      <td>62</td>\n",
              "      <td>1.72</td>\n",
              "      <td>0.473432</td>\n",
              "    </tr>\n",
              "    <tr>\n",
              "      <th>4</th>\n",
              "      <td>27</td>\n",
              "      <td>1.88</td>\n",
              "      <td>0.178009</td>\n",
              "    </tr>\n",
              "    <tr>\n",
              "      <th>5</th>\n",
              "      <td>39</td>\n",
              "      <td>1.52</td>\n",
              "      <td>1.288582</td>\n",
              "    </tr>\n",
              "    <tr>\n",
              "      <th>6</th>\n",
              "      <td>27</td>\n",
              "      <td>1.70</td>\n",
              "      <td>0.952141</td>\n",
              "    </tr>\n",
              "    <tr>\n",
              "      <th>7</th>\n",
              "      <td>26</td>\n",
              "      <td>1.66</td>\n",
              "      <td>0.695217</td>\n",
              "    </tr>\n",
              "    <tr>\n",
              "      <th>8</th>\n",
              "      <td>24</td>\n",
              "      <td>1.78</td>\n",
              "      <td>1.011703</td>\n",
              "    </tr>\n",
              "    <tr>\n",
              "      <th>9</th>\n",
              "      <td>41</td>\n",
              "      <td>1.72</td>\n",
              "      <td>0.341108</td>\n",
              "    </tr>\n",
              "    <tr>\n",
              "      <th>10</th>\n",
              "      <td>23</td>\n",
              "      <td>1.88</td>\n",
              "      <td>1.275941</td>\n",
              "    </tr>\n",
              "    <tr>\n",
              "      <th>11</th>\n",
              "      <td>50</td>\n",
              "      <td>1.54</td>\n",
              "      <td>0.586316</td>\n",
              "    </tr>\n",
              "    <tr>\n",
              "      <th>12</th>\n",
              "      <td>40</td>\n",
              "      <td>1.55</td>\n",
              "      <td>0.376980</td>\n",
              "    </tr>\n",
              "    <tr>\n",
              "      <th>13</th>\n",
              "      <td>48</td>\n",
              "      <td>1.56</td>\n",
              "      <td>1.154555</td>\n",
              "    </tr>\n",
              "    <tr>\n",
              "      <th>14</th>\n",
              "      <td>29</td>\n",
              "      <td>1.51</td>\n",
              "      <td>0.217042</td>\n",
              "    </tr>\n",
              "    <tr>\n",
              "      <th>15</th>\n",
              "      <td>34</td>\n",
              "      <td>1.84</td>\n",
              "      <td>0.579414</td>\n",
              "    </tr>\n",
              "    <tr>\n",
              "      <th>16</th>\n",
              "      <td>60</td>\n",
              "      <td>1.83</td>\n",
              "      <td>0.559049</td>\n",
              "    </tr>\n",
              "    <tr>\n",
              "      <th>17</th>\n",
              "      <td>28</td>\n",
              "      <td>1.89</td>\n",
              "      <td>0.774706</td>\n",
              "    </tr>\n",
              "    <tr>\n",
              "      <th>18</th>\n",
              "      <td>26</td>\n",
              "      <td>1.80</td>\n",
              "      <td>0.142036</td>\n",
              "    </tr>\n",
              "    <tr>\n",
              "      <th>19</th>\n",
              "      <td>54</td>\n",
              "      <td>1.63</td>\n",
              "      <td>0.553478</td>\n",
              "    </tr>\n",
              "    <tr>\n",
              "      <th>20</th>\n",
              "      <td>45</td>\n",
              "      <td>1.78</td>\n",
              "      <td>0.496181</td>\n",
              "    </tr>\n",
              "    <tr>\n",
              "      <th>21</th>\n",
              "      <td>59</td>\n",
              "      <td>1.82</td>\n",
              "      <td>0.074081</td>\n",
              "    </tr>\n",
              "    <tr>\n",
              "      <th>22</th>\n",
              "      <td>46</td>\n",
              "      <td>1.85</td>\n",
              "      <td>0.279107</td>\n",
              "    </tr>\n",
              "    <tr>\n",
              "      <th>23</th>\n",
              "      <td>63</td>\n",
              "      <td>1.66</td>\n",
              "      <td>0.284567</td>\n",
              "    </tr>\n",
              "    <tr>\n",
              "      <th>24</th>\n",
              "      <td>37</td>\n",
              "      <td>1.73</td>\n",
              "      <td>0.224318</td>\n",
              "    </tr>\n",
              "    <tr>\n",
              "      <th>25</th>\n",
              "      <td>34</td>\n",
              "      <td>1.56</td>\n",
              "      <td>0.925841</td>\n",
              "    </tr>\n",
              "    <tr>\n",
              "      <th>26</th>\n",
              "      <td>40</td>\n",
              "      <td>1.62</td>\n",
              "      <td>0.258750</td>\n",
              "    </tr>\n",
              "    <tr>\n",
              "      <th>27</th>\n",
              "      <td>56</td>\n",
              "      <td>1.93</td>\n",
              "      <td>1.091709</td>\n",
              "    </tr>\n",
              "    <tr>\n",
              "      <th>28</th>\n",
              "      <td>22</td>\n",
              "      <td>1.74</td>\n",
              "      <td>0.400805</td>\n",
              "    </tr>\n",
              "    <tr>\n",
              "      <th>29</th>\n",
              "      <td>28</td>\n",
              "      <td>1.51</td>\n",
              "      <td>0.633891</td>\n",
              "    </tr>\n",
              "    <tr>\n",
              "      <th>...</th>\n",
              "      <td>...</td>\n",
              "      <td>...</td>\n",
              "      <td>...</td>\n",
              "    </tr>\n",
              "    <tr>\n",
              "      <th>970</th>\n",
              "      <td>34</td>\n",
              "      <td>1.93</td>\n",
              "      <td>0.784734</td>\n",
              "    </tr>\n",
              "    <tr>\n",
              "      <th>971</th>\n",
              "      <td>38</td>\n",
              "      <td>1.55</td>\n",
              "      <td>0.970283</td>\n",
              "    </tr>\n",
              "    <tr>\n",
              "      <th>972</th>\n",
              "      <td>50</td>\n",
              "      <td>1.54</td>\n",
              "      <td>0.722740</td>\n",
              "    </tr>\n",
              "    <tr>\n",
              "      <th>973</th>\n",
              "      <td>25</td>\n",
              "      <td>1.58</td>\n",
              "      <td>0.577716</td>\n",
              "    </tr>\n",
              "    <tr>\n",
              "      <th>974</th>\n",
              "      <td>29</td>\n",
              "      <td>1.71</td>\n",
              "      <td>0.070071</td>\n",
              "    </tr>\n",
              "    <tr>\n",
              "      <th>975</th>\n",
              "      <td>35</td>\n",
              "      <td>1.82</td>\n",
              "      <td>0.732761</td>\n",
              "    </tr>\n",
              "    <tr>\n",
              "      <th>976</th>\n",
              "      <td>62</td>\n",
              "      <td>1.96</td>\n",
              "      <td>0.436022</td>\n",
              "    </tr>\n",
              "    <tr>\n",
              "      <th>977</th>\n",
              "      <td>58</td>\n",
              "      <td>1.54</td>\n",
              "      <td>0.799350</td>\n",
              "    </tr>\n",
              "    <tr>\n",
              "      <th>978</th>\n",
              "      <td>50</td>\n",
              "      <td>1.77</td>\n",
              "      <td>1.051456</td>\n",
              "    </tr>\n",
              "    <tr>\n",
              "      <th>979</th>\n",
              "      <td>47</td>\n",
              "      <td>1.71</td>\n",
              "      <td>0.316110</td>\n",
              "    </tr>\n",
              "    <tr>\n",
              "      <th>980</th>\n",
              "      <td>26</td>\n",
              "      <td>1.92</td>\n",
              "      <td>0.593281</td>\n",
              "    </tr>\n",
              "    <tr>\n",
              "      <th>981</th>\n",
              "      <td>36</td>\n",
              "      <td>1.62</td>\n",
              "      <td>0.539644</td>\n",
              "    </tr>\n",
              "    <tr>\n",
              "      <th>982</th>\n",
              "      <td>39</td>\n",
              "      <td>1.58</td>\n",
              "      <td>0.383097</td>\n",
              "    </tr>\n",
              "    <tr>\n",
              "      <th>983</th>\n",
              "      <td>60</td>\n",
              "      <td>1.93</td>\n",
              "      <td>0.539022</td>\n",
              "    </tr>\n",
              "    <tr>\n",
              "      <th>984</th>\n",
              "      <td>44</td>\n",
              "      <td>1.99</td>\n",
              "      <td>0.700136</td>\n",
              "    </tr>\n",
              "    <tr>\n",
              "      <th>985</th>\n",
              "      <td>22</td>\n",
              "      <td>1.52</td>\n",
              "      <td>0.273438</td>\n",
              "    </tr>\n",
              "    <tr>\n",
              "      <th>986</th>\n",
              "      <td>60</td>\n",
              "      <td>1.58</td>\n",
              "      <td>-0.016497</td>\n",
              "    </tr>\n",
              "    <tr>\n",
              "      <th>987</th>\n",
              "      <td>48</td>\n",
              "      <td>1.81</td>\n",
              "      <td>0.357127</td>\n",
              "    </tr>\n",
              "    <tr>\n",
              "      <th>988</th>\n",
              "      <td>47</td>\n",
              "      <td>1.65</td>\n",
              "      <td>0.675877</td>\n",
              "    </tr>\n",
              "    <tr>\n",
              "      <th>989</th>\n",
              "      <td>38</td>\n",
              "      <td>1.80</td>\n",
              "      <td>0.749788</td>\n",
              "    </tr>\n",
              "    <tr>\n",
              "      <th>990</th>\n",
              "      <td>50</td>\n",
              "      <td>1.54</td>\n",
              "      <td>0.623587</td>\n",
              "    </tr>\n",
              "    <tr>\n",
              "      <th>991</th>\n",
              "      <td>31</td>\n",
              "      <td>1.93</td>\n",
              "      <td>0.346262</td>\n",
              "    </tr>\n",
              "    <tr>\n",
              "      <th>992</th>\n",
              "      <td>55</td>\n",
              "      <td>1.67</td>\n",
              "      <td>0.859976</td>\n",
              "    </tr>\n",
              "    <tr>\n",
              "      <th>993</th>\n",
              "      <td>40</td>\n",
              "      <td>1.95</td>\n",
              "      <td>0.951324</td>\n",
              "    </tr>\n",
              "    <tr>\n",
              "      <th>994</th>\n",
              "      <td>46</td>\n",
              "      <td>1.96</td>\n",
              "      <td>0.070411</td>\n",
              "    </tr>\n",
              "    <tr>\n",
              "      <th>995</th>\n",
              "      <td>64</td>\n",
              "      <td>1.55</td>\n",
              "      <td>0.000338</td>\n",
              "    </tr>\n",
              "    <tr>\n",
              "      <th>996</th>\n",
              "      <td>44</td>\n",
              "      <td>1.63</td>\n",
              "      <td>0.579855</td>\n",
              "    </tr>\n",
              "    <tr>\n",
              "      <th>997</th>\n",
              "      <td>63</td>\n",
              "      <td>1.87</td>\n",
              "      <td>0.093768</td>\n",
              "    </tr>\n",
              "    <tr>\n",
              "      <th>998</th>\n",
              "      <td>22</td>\n",
              "      <td>1.75</td>\n",
              "      <td>1.109870</td>\n",
              "    </tr>\n",
              "    <tr>\n",
              "      <th>999</th>\n",
              "      <td>36</td>\n",
              "      <td>1.60</td>\n",
              "      <td>0.378353</td>\n",
              "    </tr>\n",
              "  </tbody>\n",
              "</table>\n",
              "<p>1000 rows × 3 columns</p>\n",
              "</div>"
            ],
            "text/plain": [
              "     age  height     skill\n",
              "0     49    1.84  0.405107\n",
              "1     55    1.59  0.346862\n",
              "2     47    1.61  0.190657\n",
              "3     62    1.72  0.473432\n",
              "4     27    1.88  0.178009\n",
              "5     39    1.52  1.288582\n",
              "6     27    1.70  0.952141\n",
              "7     26    1.66  0.695217\n",
              "8     24    1.78  1.011703\n",
              "9     41    1.72  0.341108\n",
              "10    23    1.88  1.275941\n",
              "11    50    1.54  0.586316\n",
              "12    40    1.55  0.376980\n",
              "13    48    1.56  1.154555\n",
              "14    29    1.51  0.217042\n",
              "15    34    1.84  0.579414\n",
              "16    60    1.83  0.559049\n",
              "17    28    1.89  0.774706\n",
              "18    26    1.80  0.142036\n",
              "19    54    1.63  0.553478\n",
              "20    45    1.78  0.496181\n",
              "21    59    1.82  0.074081\n",
              "22    46    1.85  0.279107\n",
              "23    63    1.66  0.284567\n",
              "24    37    1.73  0.224318\n",
              "25    34    1.56  0.925841\n",
              "26    40    1.62  0.258750\n",
              "27    56    1.93  1.091709\n",
              "28    22    1.74  0.400805\n",
              "29    28    1.51  0.633891\n",
              "..   ...     ...       ...\n",
              "970   34    1.93  0.784734\n",
              "971   38    1.55  0.970283\n",
              "972   50    1.54  0.722740\n",
              "973   25    1.58  0.577716\n",
              "974   29    1.71  0.070071\n",
              "975   35    1.82  0.732761\n",
              "976   62    1.96  0.436022\n",
              "977   58    1.54  0.799350\n",
              "978   50    1.77  1.051456\n",
              "979   47    1.71  0.316110\n",
              "980   26    1.92  0.593281\n",
              "981   36    1.62  0.539644\n",
              "982   39    1.58  0.383097\n",
              "983   60    1.93  0.539022\n",
              "984   44    1.99  0.700136\n",
              "985   22    1.52  0.273438\n",
              "986   60    1.58 -0.016497\n",
              "987   48    1.81  0.357127\n",
              "988   47    1.65  0.675877\n",
              "989   38    1.80  0.749788\n",
              "990   50    1.54  0.623587\n",
              "991   31    1.93  0.346262\n",
              "992   55    1.67  0.859976\n",
              "993   40    1.95  0.951324\n",
              "994   46    1.96  0.070411\n",
              "995   64    1.55  0.000338\n",
              "996   44    1.63  0.579855\n",
              "997   63    1.87  0.093768\n",
              "998   22    1.75  1.109870\n",
              "999   36    1.60  0.378353\n",
              "\n",
              "[1000 rows x 3 columns]"
            ]
          },
          "metadata": {
            "tags": []
          },
          "execution_count": 22
        }
      ]
    },
    {
      "metadata": {
        "colab_type": "text",
        "id": "DpCdjYzX5Nsv"
      },
      "cell_type": "markdown",
      "source": [
        "```Add the dataframe a new columns, called salary, when:```\n",
        "        <center>$salary = 1000\\cdot((age^2)/1000 + 1.7\\cdot skill + 0.4\\cdot exp(-(height-1.7)^2)$<center>"
      ]
    },
    {
      "metadata": {
        "colab_type": "code",
        "id": "IlX6g4eT5Nsw",
        "outputId": "2f93ec9c-deb3-4ba5-cbe9-fe9a694a117b",
        "colab": {
          "base_uri": "https://localhost:8080/",
          "height": 1969
        }
      },
      "cell_type": "code",
      "source": [
        "df[\"salary\"] = 1000*((df[\"age\"]*df[\"age\"])/1000 + 1.7*df[\"skill\"] + 0.4*np.exp(-((df[\"height\"]-1.7)**2)))\n",
        "df"
      ],
      "execution_count": 23,
      "outputs": [
        {
          "output_type": "execute_result",
          "data": {
            "text/html": [
              "<div>\n",
              "<style scoped>\n",
              "    .dataframe tbody tr th:only-of-type {\n",
              "        vertical-align: middle;\n",
              "    }\n",
              "\n",
              "    .dataframe tbody tr th {\n",
              "        vertical-align: top;\n",
              "    }\n",
              "\n",
              "    .dataframe thead th {\n",
              "        text-align: right;\n",
              "    }\n",
              "</style>\n",
              "<table border=\"1\" class=\"dataframe\">\n",
              "  <thead>\n",
              "    <tr style=\"text-align: right;\">\n",
              "      <th></th>\n",
              "      <th>age</th>\n",
              "      <th>height</th>\n",
              "      <th>skill</th>\n",
              "      <th>salary</th>\n",
              "    </tr>\n",
              "  </thead>\n",
              "  <tbody>\n",
              "    <tr>\n",
              "      <th>0</th>\n",
              "      <td>49</td>\n",
              "      <td>1.84</td>\n",
              "      <td>0.405107</td>\n",
              "      <td>3481.917599</td>\n",
              "    </tr>\n",
              "    <tr>\n",
              "      <th>1</th>\n",
              "      <td>55</td>\n",
              "      <td>1.59</td>\n",
              "      <td>0.346862</td>\n",
              "      <td>4009.854816</td>\n",
              "    </tr>\n",
              "    <tr>\n",
              "      <th>2</th>\n",
              "      <td>47</td>\n",
              "      <td>1.61</td>\n",
              "      <td>0.190657</td>\n",
              "      <td>2929.889827</td>\n",
              "    </tr>\n",
              "    <tr>\n",
              "      <th>3</th>\n",
              "      <td>62</td>\n",
              "      <td>1.72</td>\n",
              "      <td>0.473432</td>\n",
              "      <td>5048.675274</td>\n",
              "    </tr>\n",
              "    <tr>\n",
              "      <th>4</th>\n",
              "      <td>27</td>\n",
              "      <td>1.88</td>\n",
              "      <td>0.178009</td>\n",
              "      <td>1418.862285</td>\n",
              "    </tr>\n",
              "    <tr>\n",
              "      <th>5</th>\n",
              "      <td>39</td>\n",
              "      <td>1.52</td>\n",
              "      <td>1.288582</td>\n",
              "      <td>4098.836769</td>\n",
              "    </tr>\n",
              "    <tr>\n",
              "      <th>6</th>\n",
              "      <td>27</td>\n",
              "      <td>1.70</td>\n",
              "      <td>0.952141</td>\n",
              "      <td>2747.640172</td>\n",
              "    </tr>\n",
              "    <tr>\n",
              "      <th>7</th>\n",
              "      <td>26</td>\n",
              "      <td>1.66</td>\n",
              "      <td>0.695217</td>\n",
              "      <td>2257.229383</td>\n",
              "    </tr>\n",
              "    <tr>\n",
              "      <th>8</th>\n",
              "      <td>24</td>\n",
              "      <td>1.78</td>\n",
              "      <td>1.011703</td>\n",
              "      <td>2693.343165</td>\n",
              "    </tr>\n",
              "    <tr>\n",
              "      <th>9</th>\n",
              "      <td>41</td>\n",
              "      <td>1.72</td>\n",
              "      <td>0.341108</td>\n",
              "      <td>2660.724229</td>\n",
              "    </tr>\n",
              "    <tr>\n",
              "      <th>10</th>\n",
              "      <td>23</td>\n",
              "      <td>1.88</td>\n",
              "      <td>1.275941</td>\n",
              "      <td>3085.347572</td>\n",
              "    </tr>\n",
              "    <tr>\n",
              "      <th>11</th>\n",
              "      <td>50</td>\n",
              "      <td>1.54</td>\n",
              "      <td>0.586316</td>\n",
              "      <td>3886.627017</td>\n",
              "    </tr>\n",
              "    <tr>\n",
              "      <th>12</th>\n",
              "      <td>40</td>\n",
              "      <td>1.55</td>\n",
              "      <td>0.376980</td>\n",
              "      <td>2631.966317</td>\n",
              "    </tr>\n",
              "    <tr>\n",
              "      <th>13</th>\n",
              "      <td>48</td>\n",
              "      <td>1.56</td>\n",
              "      <td>1.154555</td>\n",
              "      <td>4658.979886</td>\n",
              "    </tr>\n",
              "    <tr>\n",
              "      <th>14</th>\n",
              "      <td>29</td>\n",
              "      <td>1.51</td>\n",
              "      <td>0.217042</td>\n",
              "      <td>1595.789647</td>\n",
              "    </tr>\n",
              "    <tr>\n",
              "      <th>15</th>\n",
              "      <td>34</td>\n",
              "      <td>1.84</td>\n",
              "      <td>0.579414</td>\n",
              "      <td>2533.240882</td>\n",
              "    </tr>\n",
              "    <tr>\n",
              "      <th>16</th>\n",
              "      <td>60</td>\n",
              "      <td>1.83</td>\n",
              "      <td>0.559049</td>\n",
              "      <td>4943.680796</td>\n",
              "    </tr>\n",
              "    <tr>\n",
              "      <th>17</th>\n",
              "      <td>28</td>\n",
              "      <td>1.89</td>\n",
              "      <td>0.774706</td>\n",
              "      <td>2486.817773</td>\n",
              "    </tr>\n",
              "    <tr>\n",
              "      <th>18</th>\n",
              "      <td>26</td>\n",
              "      <td>1.80</td>\n",
              "      <td>0.142036</td>\n",
              "      <td>1313.481921</td>\n",
              "    </tr>\n",
              "    <tr>\n",
              "      <th>19</th>\n",
              "      <td>54</td>\n",
              "      <td>1.63</td>\n",
              "      <td>0.553478</td>\n",
              "      <td>4254.956833</td>\n",
              "    </tr>\n",
              "    <tr>\n",
              "      <th>20</th>\n",
              "      <td>45</td>\n",
              "      <td>1.78</td>\n",
              "      <td>0.496181</td>\n",
              "      <td>3265.956577</td>\n",
              "    </tr>\n",
              "    <tr>\n",
              "      <th>21</th>\n",
              "      <td>59</td>\n",
              "      <td>1.82</td>\n",
              "      <td>0.074081</td>\n",
              "      <td>4001.219237</td>\n",
              "    </tr>\n",
              "    <tr>\n",
              "      <th>22</th>\n",
              "      <td>46</td>\n",
              "      <td>1.85</td>\n",
              "      <td>0.279107</td>\n",
              "      <td>2981.582185</td>\n",
              "    </tr>\n",
              "    <tr>\n",
              "      <th>23</th>\n",
              "      <td>63</td>\n",
              "      <td>1.66</td>\n",
              "      <td>0.284567</td>\n",
              "      <td>4852.124206</td>\n",
              "    </tr>\n",
              "    <tr>\n",
              "      <th>24</th>\n",
              "      <td>37</td>\n",
              "      <td>1.73</td>\n",
              "      <td>0.224318</td>\n",
              "      <td>2149.981255</td>\n",
              "    </tr>\n",
              "    <tr>\n",
              "      <th>25</th>\n",
              "      <td>34</td>\n",
              "      <td>1.56</td>\n",
              "      <td>0.925841</td>\n",
              "      <td>3122.165546</td>\n",
              "    </tr>\n",
              "    <tr>\n",
              "      <th>26</th>\n",
              "      <td>40</td>\n",
              "      <td>1.62</td>\n",
              "      <td>0.258750</td>\n",
              "      <td>2437.323015</td>\n",
              "    </tr>\n",
              "    <tr>\n",
              "      <th>27</th>\n",
              "      <td>56</td>\n",
              "      <td>1.93</td>\n",
              "      <td>1.091709</td>\n",
              "      <td>5371.295788</td>\n",
              "    </tr>\n",
              "    <tr>\n",
              "      <th>28</th>\n",
              "      <td>22</td>\n",
              "      <td>1.74</td>\n",
              "      <td>0.400805</td>\n",
              "      <td>1564.728330</td>\n",
              "    </tr>\n",
              "    <tr>\n",
              "      <th>29</th>\n",
              "      <td>28</td>\n",
              "      <td>1.51</td>\n",
              "      <td>0.633891</td>\n",
              "      <td>2247.432948</td>\n",
              "    </tr>\n",
              "    <tr>\n",
              "      <th>...</th>\n",
              "      <td>...</td>\n",
              "      <td>...</td>\n",
              "      <td>...</td>\n",
              "      <td>...</td>\n",
              "    </tr>\n",
              "    <tr>\n",
              "      <th>970</th>\n",
              "      <td>34</td>\n",
              "      <td>1.93</td>\n",
              "      <td>0.784734</td>\n",
              "      <td>2869.438360</td>\n",
              "    </tr>\n",
              "    <tr>\n",
              "      <th>971</th>\n",
              "      <td>38</td>\n",
              "      <td>1.55</td>\n",
              "      <td>0.970283</td>\n",
              "      <td>3484.582029</td>\n",
              "    </tr>\n",
              "    <tr>\n",
              "      <th>972</th>\n",
              "      <td>50</td>\n",
              "      <td>1.54</td>\n",
              "      <td>0.722740</td>\n",
              "      <td>4118.547154</td>\n",
              "    </tr>\n",
              "    <tr>\n",
              "      <th>973</th>\n",
              "      <td>25</td>\n",
              "      <td>1.58</td>\n",
              "      <td>0.577716</td>\n",
              "      <td>2001.398574</td>\n",
              "    </tr>\n",
              "    <tr>\n",
              "      <th>974</th>\n",
              "      <td>29</td>\n",
              "      <td>1.71</td>\n",
              "      <td>0.070071</td>\n",
              "      <td>1360.079920</td>\n",
              "    </tr>\n",
              "    <tr>\n",
              "      <th>975</th>\n",
              "      <td>35</td>\n",
              "      <td>1.82</td>\n",
              "      <td>0.732761</td>\n",
              "      <td>2864.975229</td>\n",
              "    </tr>\n",
              "    <tr>\n",
              "      <th>976</th>\n",
              "      <td>62</td>\n",
              "      <td>1.96</td>\n",
              "      <td>0.436022</td>\n",
              "      <td>4959.091010</td>\n",
              "    </tr>\n",
              "    <tr>\n",
              "      <th>977</th>\n",
              "      <td>58</td>\n",
              "      <td>1.54</td>\n",
              "      <td>0.799350</td>\n",
              "      <td>5112.785046</td>\n",
              "    </tr>\n",
              "    <tr>\n",
              "      <th>978</th>\n",
              "      <td>50</td>\n",
              "      <td>1.77</td>\n",
              "      <td>1.051456</td>\n",
              "      <td>4685.520336</td>\n",
              "    </tr>\n",
              "    <tr>\n",
              "      <th>979</th>\n",
              "      <td>47</td>\n",
              "      <td>1.71</td>\n",
              "      <td>0.316110</td>\n",
              "      <td>3146.346658</td>\n",
              "    </tr>\n",
              "    <tr>\n",
              "      <th>980</th>\n",
              "      <td>26</td>\n",
              "      <td>1.92</td>\n",
              "      <td>0.593281</td>\n",
              "      <td>2065.678252</td>\n",
              "    </tr>\n",
              "    <tr>\n",
              "      <th>981</th>\n",
              "      <td>36</td>\n",
              "      <td>1.62</td>\n",
              "      <td>0.539644</td>\n",
              "      <td>2610.842229</td>\n",
              "    </tr>\n",
              "    <tr>\n",
              "      <th>982</th>\n",
              "      <td>39</td>\n",
              "      <td>1.58</td>\n",
              "      <td>0.383097</td>\n",
              "      <td>2566.545390</td>\n",
              "    </tr>\n",
              "    <tr>\n",
              "      <th>983</th>\n",
              "      <td>60</td>\n",
              "      <td>1.93</td>\n",
              "      <td>0.539022</td>\n",
              "      <td>4895.726587</td>\n",
              "    </tr>\n",
              "    <tr>\n",
              "      <th>984</th>\n",
              "      <td>44</td>\n",
              "      <td>1.99</td>\n",
              "      <td>0.700136</td>\n",
              "      <td>3493.967107</td>\n",
              "    </tr>\n",
              "    <tr>\n",
              "      <th>985</th>\n",
              "      <td>22</td>\n",
              "      <td>1.52</td>\n",
              "      <td>0.273438</td>\n",
              "      <td>1336.092295</td>\n",
              "    </tr>\n",
              "    <tr>\n",
              "      <th>986</th>\n",
              "      <td>60</td>\n",
              "      <td>1.58</td>\n",
              "      <td>-0.016497</td>\n",
              "      <td>3966.236997</td>\n",
              "    </tr>\n",
              "    <tr>\n",
              "      <th>987</th>\n",
              "      <td>48</td>\n",
              "      <td>1.81</td>\n",
              "      <td>0.357127</td>\n",
              "      <td>3306.304930</td>\n",
              "    </tr>\n",
              "    <tr>\n",
              "      <th>988</th>\n",
              "      <td>47</td>\n",
              "      <td>1.65</td>\n",
              "      <td>0.675877</td>\n",
              "      <td>3756.992858</td>\n",
              "    </tr>\n",
              "    <tr>\n",
              "      <th>989</th>\n",
              "      <td>38</td>\n",
              "      <td>1.80</td>\n",
              "      <td>0.749788</td>\n",
              "      <td>3114.659739</td>\n",
              "    </tr>\n",
              "    <tr>\n",
              "      <th>990</th>\n",
              "      <td>50</td>\n",
              "      <td>1.54</td>\n",
              "      <td>0.623587</td>\n",
              "      <td>3949.988708</td>\n",
              "    </tr>\n",
              "    <tr>\n",
              "      <th>991</th>\n",
              "      <td>31</td>\n",
              "      <td>1.93</td>\n",
              "      <td>0.346262</td>\n",
              "      <td>1929.035569</td>\n",
              "    </tr>\n",
              "    <tr>\n",
              "      <th>992</th>\n",
              "      <td>55</td>\n",
              "      <td>1.67</td>\n",
              "      <td>0.859976</td>\n",
              "      <td>4886.598743</td>\n",
              "    </tr>\n",
              "    <tr>\n",
              "      <th>993</th>\n",
              "      <td>40</td>\n",
              "      <td>1.95</td>\n",
              "      <td>0.951324</td>\n",
              "      <td>3593.015197</td>\n",
              "    </tr>\n",
              "    <tr>\n",
              "      <th>994</th>\n",
              "      <td>46</td>\n",
              "      <td>1.96</td>\n",
              "      <td>0.070411</td>\n",
              "      <td>2609.552251</td>\n",
              "    </tr>\n",
              "    <tr>\n",
              "      <th>995</th>\n",
              "      <td>64</td>\n",
              "      <td>1.55</td>\n",
              "      <td>0.000338</td>\n",
              "      <td>4487.674683</td>\n",
              "    </tr>\n",
              "    <tr>\n",
              "      <th>996</th>\n",
              "      <td>44</td>\n",
              "      <td>1.63</td>\n",
              "      <td>0.579855</td>\n",
              "      <td>3319.798120</td>\n",
              "    </tr>\n",
              "    <tr>\n",
              "      <th>997</th>\n",
              "      <td>63</td>\n",
              "      <td>1.87</td>\n",
              "      <td>0.093768</td>\n",
              "      <td>4517.011176</td>\n",
              "    </tr>\n",
              "    <tr>\n",
              "      <th>998</th>\n",
              "      <td>22</td>\n",
              "      <td>1.75</td>\n",
              "      <td>1.109870</td>\n",
              "      <td>2769.780970</td>\n",
              "    </tr>\n",
              "    <tr>\n",
              "      <th>999</th>\n",
              "      <td>36</td>\n",
              "      <td>1.60</td>\n",
              "      <td>0.378353</td>\n",
              "      <td>2335.219628</td>\n",
              "    </tr>\n",
              "  </tbody>\n",
              "</table>\n",
              "<p>1000 rows × 4 columns</p>\n",
              "</div>"
            ],
            "text/plain": [
              "     age  height     skill       salary\n",
              "0     49    1.84  0.405107  3481.917599\n",
              "1     55    1.59  0.346862  4009.854816\n",
              "2     47    1.61  0.190657  2929.889827\n",
              "3     62    1.72  0.473432  5048.675274\n",
              "4     27    1.88  0.178009  1418.862285\n",
              "5     39    1.52  1.288582  4098.836769\n",
              "6     27    1.70  0.952141  2747.640172\n",
              "7     26    1.66  0.695217  2257.229383\n",
              "8     24    1.78  1.011703  2693.343165\n",
              "9     41    1.72  0.341108  2660.724229\n",
              "10    23    1.88  1.275941  3085.347572\n",
              "11    50    1.54  0.586316  3886.627017\n",
              "12    40    1.55  0.376980  2631.966317\n",
              "13    48    1.56  1.154555  4658.979886\n",
              "14    29    1.51  0.217042  1595.789647\n",
              "15    34    1.84  0.579414  2533.240882\n",
              "16    60    1.83  0.559049  4943.680796\n",
              "17    28    1.89  0.774706  2486.817773\n",
              "18    26    1.80  0.142036  1313.481921\n",
              "19    54    1.63  0.553478  4254.956833\n",
              "20    45    1.78  0.496181  3265.956577\n",
              "21    59    1.82  0.074081  4001.219237\n",
              "22    46    1.85  0.279107  2981.582185\n",
              "23    63    1.66  0.284567  4852.124206\n",
              "24    37    1.73  0.224318  2149.981255\n",
              "25    34    1.56  0.925841  3122.165546\n",
              "26    40    1.62  0.258750  2437.323015\n",
              "27    56    1.93  1.091709  5371.295788\n",
              "28    22    1.74  0.400805  1564.728330\n",
              "29    28    1.51  0.633891  2247.432948\n",
              "..   ...     ...       ...          ...\n",
              "970   34    1.93  0.784734  2869.438360\n",
              "971   38    1.55  0.970283  3484.582029\n",
              "972   50    1.54  0.722740  4118.547154\n",
              "973   25    1.58  0.577716  2001.398574\n",
              "974   29    1.71  0.070071  1360.079920\n",
              "975   35    1.82  0.732761  2864.975229\n",
              "976   62    1.96  0.436022  4959.091010\n",
              "977   58    1.54  0.799350  5112.785046\n",
              "978   50    1.77  1.051456  4685.520336\n",
              "979   47    1.71  0.316110  3146.346658\n",
              "980   26    1.92  0.593281  2065.678252\n",
              "981   36    1.62  0.539644  2610.842229\n",
              "982   39    1.58  0.383097  2566.545390\n",
              "983   60    1.93  0.539022  4895.726587\n",
              "984   44    1.99  0.700136  3493.967107\n",
              "985   22    1.52  0.273438  1336.092295\n",
              "986   60    1.58 -0.016497  3966.236997\n",
              "987   48    1.81  0.357127  3306.304930\n",
              "988   47    1.65  0.675877  3756.992858\n",
              "989   38    1.80  0.749788  3114.659739\n",
              "990   50    1.54  0.623587  3949.988708\n",
              "991   31    1.93  0.346262  1929.035569\n",
              "992   55    1.67  0.859976  4886.598743\n",
              "993   40    1.95  0.951324  3593.015197\n",
              "994   46    1.96  0.070411  2609.552251\n",
              "995   64    1.55  0.000338  4487.674683\n",
              "996   44    1.63  0.579855  3319.798120\n",
              "997   63    1.87  0.093768  4517.011176\n",
              "998   22    1.75  1.109870  2769.780970\n",
              "999   36    1.60  0.378353  2335.219628\n",
              "\n",
              "[1000 rows x 4 columns]"
            ]
          },
          "metadata": {
            "tags": []
          },
          "execution_count": 23
        }
      ]
    },
    {
      "metadata": {
        "colab_type": "text",
        "id": "P1aEipl95Nsz"
      },
      "cell_type": "markdown",
      "source": [
        "```Split the dataframe to groups by the age left digit and by the age. for each group compute:```\n",
        "```\n",
        "        - the number of rows\n",
        "        - the mean salary\n",
        "        - the maximum height     \n",
        "```\n",
        "\n",
        "```To do so, read about the groupby and agg functions is the ``` [pandas API](https://pandas.pydata.org/pandas-docs/stable/user_guide/groupby.html)"
      ]
    },
    {
      "metadata": {
        "colab_type": "code",
        "id": "HZXoGYe65Ns0",
        "outputId": "47734015-aa0d-4a34-cbaf-6e7e39709ad5",
        "colab": {
          "base_uri": "https://localhost:8080/",
          "height": 204
        }
      },
      "cell_type": "code",
      "source": [
        "df.reset_index().groupby([lambda x : df[\"age\"].loc[x]//10]).agg({\"index\" : \"count\" , \"salary\" : \"mean\" , \"height\" : \"max\"}).rename(columns={'index': 'number of rows'})"
      ],
      "execution_count": 24,
      "outputs": [
        {
          "output_type": "execute_result",
          "data": {
            "text/html": [
              "<div>\n",
              "<style scoped>\n",
              "    .dataframe tbody tr th:only-of-type {\n",
              "        vertical-align: middle;\n",
              "    }\n",
              "\n",
              "    .dataframe tbody tr th {\n",
              "        vertical-align: top;\n",
              "    }\n",
              "\n",
              "    .dataframe thead th {\n",
              "        text-align: right;\n",
              "    }\n",
              "</style>\n",
              "<table border=\"1\" class=\"dataframe\">\n",
              "  <thead>\n",
              "    <tr style=\"text-align: right;\">\n",
              "      <th></th>\n",
              "      <th>number of rows</th>\n",
              "      <th>salary</th>\n",
              "      <th>height</th>\n",
              "    </tr>\n",
              "  </thead>\n",
              "  <tbody>\n",
              "    <tr>\n",
              "      <th>2</th>\n",
              "      <td>221</td>\n",
              "      <td>1915.990788</td>\n",
              "      <td>2.00</td>\n",
              "    </tr>\n",
              "    <tr>\n",
              "      <th>3</th>\n",
              "      <td>245</td>\n",
              "      <td>2443.926049</td>\n",
              "      <td>2.00</td>\n",
              "    </tr>\n",
              "    <tr>\n",
              "      <th>4</th>\n",
              "      <td>229</td>\n",
              "      <td>3240.286930</td>\n",
              "      <td>1.99</td>\n",
              "    </tr>\n",
              "    <tr>\n",
              "      <th>5</th>\n",
              "      <td>214</td>\n",
              "      <td>4174.534579</td>\n",
              "      <td>2.00</td>\n",
              "    </tr>\n",
              "    <tr>\n",
              "      <th>6</th>\n",
              "      <td>91</td>\n",
              "      <td>5119.983850</td>\n",
              "      <td>2.00</td>\n",
              "    </tr>\n",
              "  </tbody>\n",
              "</table>\n",
              "</div>"
            ],
            "text/plain": [
              "   number of rows       salary  height\n",
              "2             221  1915.990788    2.00\n",
              "3             245  2443.926049    2.00\n",
              "4             229  3240.286930    1.99\n",
              "5             214  4174.534579    2.00\n",
              "6              91  5119.983850    2.00"
            ]
          },
          "metadata": {
            "tags": []
          },
          "execution_count": 24
        }
      ]
    },
    {
      "metadata": {
        "id": "TSBzRVxRS1GK",
        "colab_type": "code",
        "outputId": "c708b763-4792-4348-b2db-adc663d0b303",
        "colab": {
          "base_uri": "https://localhost:8080/",
          "height": 1475
        }
      },
      "cell_type": "code",
      "source": [
        "df.reset_index().groupby([df[\"age\"]]).agg({\"index\" : \"count\" , \"salary\" : \"mean\" , \"height\" : \"max\"}).rename(columns={'index': 'number of rows'})"
      ],
      "execution_count": 25,
      "outputs": [
        {
          "output_type": "execute_result",
          "data": {
            "text/html": [
              "<div>\n",
              "<style scoped>\n",
              "    .dataframe tbody tr th:only-of-type {\n",
              "        vertical-align: middle;\n",
              "    }\n",
              "\n",
              "    .dataframe tbody tr th {\n",
              "        vertical-align: top;\n",
              "    }\n",
              "\n",
              "    .dataframe thead th {\n",
              "        text-align: right;\n",
              "    }\n",
              "</style>\n",
              "<table border=\"1\" class=\"dataframe\">\n",
              "  <thead>\n",
              "    <tr style=\"text-align: right;\">\n",
              "      <th></th>\n",
              "      <th>number of rows</th>\n",
              "      <th>salary</th>\n",
              "      <th>height</th>\n",
              "    </tr>\n",
              "    <tr>\n",
              "      <th>age</th>\n",
              "      <th></th>\n",
              "      <th></th>\n",
              "      <th></th>\n",
              "    </tr>\n",
              "  </thead>\n",
              "  <tbody>\n",
              "    <tr>\n",
              "      <th>20</th>\n",
              "      <td>15</td>\n",
              "      <td>1738.038211</td>\n",
              "      <td>1.97</td>\n",
              "    </tr>\n",
              "    <tr>\n",
              "      <th>21</th>\n",
              "      <td>23</td>\n",
              "      <td>1798.992250</td>\n",
              "      <td>1.99</td>\n",
              "    </tr>\n",
              "    <tr>\n",
              "      <th>22</th>\n",
              "      <td>27</td>\n",
              "      <td>1824.087150</td>\n",
              "      <td>1.97</td>\n",
              "    </tr>\n",
              "    <tr>\n",
              "      <th>23</th>\n",
              "      <td>14</td>\n",
              "      <td>1797.382134</td>\n",
              "      <td>2.00</td>\n",
              "    </tr>\n",
              "    <tr>\n",
              "      <th>24</th>\n",
              "      <td>19</td>\n",
              "      <td>1848.520220</td>\n",
              "      <td>1.99</td>\n",
              "    </tr>\n",
              "    <tr>\n",
              "      <th>25</th>\n",
              "      <td>19</td>\n",
              "      <td>1984.558258</td>\n",
              "      <td>1.97</td>\n",
              "    </tr>\n",
              "    <tr>\n",
              "      <th>26</th>\n",
              "      <td>28</td>\n",
              "      <td>1877.392464</td>\n",
              "      <td>1.98</td>\n",
              "    </tr>\n",
              "    <tr>\n",
              "      <th>27</th>\n",
              "      <td>25</td>\n",
              "      <td>1902.889072</td>\n",
              "      <td>1.96</td>\n",
              "    </tr>\n",
              "    <tr>\n",
              "      <th>28</th>\n",
              "      <td>30</td>\n",
              "      <td>2063.201304</td>\n",
              "      <td>1.97</td>\n",
              "    </tr>\n",
              "    <tr>\n",
              "      <th>29</th>\n",
              "      <td>21</td>\n",
              "      <td>2224.243825</td>\n",
              "      <td>1.99</td>\n",
              "    </tr>\n",
              "    <tr>\n",
              "      <th>30</th>\n",
              "      <td>24</td>\n",
              "      <td>2288.349492</td>\n",
              "      <td>2.00</td>\n",
              "    </tr>\n",
              "    <tr>\n",
              "      <th>31</th>\n",
              "      <td>24</td>\n",
              "      <td>2207.091785</td>\n",
              "      <td>1.97</td>\n",
              "    </tr>\n",
              "    <tr>\n",
              "      <th>32</th>\n",
              "      <td>16</td>\n",
              "      <td>2112.386578</td>\n",
              "      <td>1.98</td>\n",
              "    </tr>\n",
              "    <tr>\n",
              "      <th>33</th>\n",
              "      <td>36</td>\n",
              "      <td>2345.246791</td>\n",
              "      <td>1.96</td>\n",
              "    </tr>\n",
              "    <tr>\n",
              "      <th>34</th>\n",
              "      <td>28</td>\n",
              "      <td>2334.403935</td>\n",
              "      <td>1.98</td>\n",
              "    </tr>\n",
              "    <tr>\n",
              "      <th>35</th>\n",
              "      <td>25</td>\n",
              "      <td>2583.605115</td>\n",
              "      <td>2.00</td>\n",
              "    </tr>\n",
              "    <tr>\n",
              "      <th>36</th>\n",
              "      <td>15</td>\n",
              "      <td>2531.498698</td>\n",
              "      <td>1.99</td>\n",
              "    </tr>\n",
              "    <tr>\n",
              "      <th>37</th>\n",
              "      <td>28</td>\n",
              "      <td>2403.056833</td>\n",
              "      <td>1.99</td>\n",
              "    </tr>\n",
              "    <tr>\n",
              "      <th>38</th>\n",
              "      <td>26</td>\n",
              "      <td>2744.538365</td>\n",
              "      <td>1.97</td>\n",
              "    </tr>\n",
              "    <tr>\n",
              "      <th>39</th>\n",
              "      <td>23</td>\n",
              "      <td>2872.813665</td>\n",
              "      <td>2.00</td>\n",
              "    </tr>\n",
              "    <tr>\n",
              "      <th>40</th>\n",
              "      <td>22</td>\n",
              "      <td>2853.679399</td>\n",
              "      <td>1.98</td>\n",
              "    </tr>\n",
              "    <tr>\n",
              "      <th>41</th>\n",
              "      <td>22</td>\n",
              "      <td>2822.074003</td>\n",
              "      <td>1.93</td>\n",
              "    </tr>\n",
              "    <tr>\n",
              "      <th>42</th>\n",
              "      <td>20</td>\n",
              "      <td>3021.385401</td>\n",
              "      <td>1.98</td>\n",
              "    </tr>\n",
              "    <tr>\n",
              "      <th>43</th>\n",
              "      <td>34</td>\n",
              "      <td>3159.070132</td>\n",
              "      <td>1.98</td>\n",
              "    </tr>\n",
              "    <tr>\n",
              "      <th>44</th>\n",
              "      <td>15</td>\n",
              "      <td>3132.184451</td>\n",
              "      <td>1.99</td>\n",
              "    </tr>\n",
              "    <tr>\n",
              "      <th>45</th>\n",
              "      <td>15</td>\n",
              "      <td>3352.322392</td>\n",
              "      <td>1.99</td>\n",
              "    </tr>\n",
              "    <tr>\n",
              "      <th>46</th>\n",
              "      <td>20</td>\n",
              "      <td>3232.687067</td>\n",
              "      <td>1.98</td>\n",
              "    </tr>\n",
              "    <tr>\n",
              "      <th>47</th>\n",
              "      <td>31</td>\n",
              "      <td>3491.389808</td>\n",
              "      <td>1.98</td>\n",
              "    </tr>\n",
              "    <tr>\n",
              "      <th>48</th>\n",
              "      <td>30</td>\n",
              "      <td>3552.336005</td>\n",
              "      <td>1.99</td>\n",
              "    </tr>\n",
              "    <tr>\n",
              "      <th>49</th>\n",
              "      <td>20</td>\n",
              "      <td>3629.926568</td>\n",
              "      <td>1.99</td>\n",
              "    </tr>\n",
              "    <tr>\n",
              "      <th>50</th>\n",
              "      <td>20</td>\n",
              "      <td>3851.607348</td>\n",
              "      <td>1.94</td>\n",
              "    </tr>\n",
              "    <tr>\n",
              "      <th>51</th>\n",
              "      <td>23</td>\n",
              "      <td>3691.312044</td>\n",
              "      <td>2.00</td>\n",
              "    </tr>\n",
              "    <tr>\n",
              "      <th>52</th>\n",
              "      <td>24</td>\n",
              "      <td>3907.198784</td>\n",
              "      <td>1.99</td>\n",
              "    </tr>\n",
              "    <tr>\n",
              "      <th>53</th>\n",
              "      <td>17</td>\n",
              "      <td>4095.496901</td>\n",
              "      <td>1.98</td>\n",
              "    </tr>\n",
              "    <tr>\n",
              "      <th>54</th>\n",
              "      <td>23</td>\n",
              "      <td>4140.007981</td>\n",
              "      <td>1.95</td>\n",
              "    </tr>\n",
              "    <tr>\n",
              "      <th>55</th>\n",
              "      <td>21</td>\n",
              "      <td>4242.131727</td>\n",
              "      <td>2.00</td>\n",
              "    </tr>\n",
              "    <tr>\n",
              "      <th>56</th>\n",
              "      <td>29</td>\n",
              "      <td>4395.993781</td>\n",
              "      <td>2.00</td>\n",
              "    </tr>\n",
              "    <tr>\n",
              "      <th>57</th>\n",
              "      <td>19</td>\n",
              "      <td>4386.726491</td>\n",
              "      <td>1.99</td>\n",
              "    </tr>\n",
              "    <tr>\n",
              "      <th>58</th>\n",
              "      <td>16</td>\n",
              "      <td>4533.797929</td>\n",
              "      <td>1.97</td>\n",
              "    </tr>\n",
              "    <tr>\n",
              "      <th>59</th>\n",
              "      <td>22</td>\n",
              "      <td>4561.114460</td>\n",
              "      <td>2.00</td>\n",
              "    </tr>\n",
              "    <tr>\n",
              "      <th>60</th>\n",
              "      <td>11</td>\n",
              "      <td>4883.692117</td>\n",
              "      <td>1.99</td>\n",
              "    </tr>\n",
              "    <tr>\n",
              "      <th>61</th>\n",
              "      <td>12</td>\n",
              "      <td>5182.913933</td>\n",
              "      <td>1.98</td>\n",
              "    </tr>\n",
              "    <tr>\n",
              "      <th>62</th>\n",
              "      <td>20</td>\n",
              "      <td>5092.250648</td>\n",
              "      <td>1.99</td>\n",
              "    </tr>\n",
              "    <tr>\n",
              "      <th>63</th>\n",
              "      <td>24</td>\n",
              "      <td>5179.229379</td>\n",
              "      <td>1.97</td>\n",
              "    </tr>\n",
              "    <tr>\n",
              "      <th>64</th>\n",
              "      <td>24</td>\n",
              "      <td>5160.684659</td>\n",
              "      <td>2.00</td>\n",
              "    </tr>\n",
              "  </tbody>\n",
              "</table>\n",
              "</div>"
            ],
            "text/plain": [
              "     number of rows       salary  height\n",
              "age                                     \n",
              "20               15  1738.038211    1.97\n",
              "21               23  1798.992250    1.99\n",
              "22               27  1824.087150    1.97\n",
              "23               14  1797.382134    2.00\n",
              "24               19  1848.520220    1.99\n",
              "25               19  1984.558258    1.97\n",
              "26               28  1877.392464    1.98\n",
              "27               25  1902.889072    1.96\n",
              "28               30  2063.201304    1.97\n",
              "29               21  2224.243825    1.99\n",
              "30               24  2288.349492    2.00\n",
              "31               24  2207.091785    1.97\n",
              "32               16  2112.386578    1.98\n",
              "33               36  2345.246791    1.96\n",
              "34               28  2334.403935    1.98\n",
              "35               25  2583.605115    2.00\n",
              "36               15  2531.498698    1.99\n",
              "37               28  2403.056833    1.99\n",
              "38               26  2744.538365    1.97\n",
              "39               23  2872.813665    2.00\n",
              "40               22  2853.679399    1.98\n",
              "41               22  2822.074003    1.93\n",
              "42               20  3021.385401    1.98\n",
              "43               34  3159.070132    1.98\n",
              "44               15  3132.184451    1.99\n",
              "45               15  3352.322392    1.99\n",
              "46               20  3232.687067    1.98\n",
              "47               31  3491.389808    1.98\n",
              "48               30  3552.336005    1.99\n",
              "49               20  3629.926568    1.99\n",
              "50               20  3851.607348    1.94\n",
              "51               23  3691.312044    2.00\n",
              "52               24  3907.198784    1.99\n",
              "53               17  4095.496901    1.98\n",
              "54               23  4140.007981    1.95\n",
              "55               21  4242.131727    2.00\n",
              "56               29  4395.993781    2.00\n",
              "57               19  4386.726491    1.99\n",
              "58               16  4533.797929    1.97\n",
              "59               22  4561.114460    2.00\n",
              "60               11  4883.692117    1.99\n",
              "61               12  5182.913933    1.98\n",
              "62               20  5092.250648    1.99\n",
              "63               24  5179.229379    1.97\n",
              "64               24  5160.684659    2.00"
            ]
          },
          "metadata": {
            "tags": []
          },
          "execution_count": 25
        }
      ]
    },
    {
      "metadata": {
        "colab_type": "text",
        "id": "IEmXsrJf5Ns5"
      },
      "cell_type": "markdown",
      "source": [
        "```Now split the dataframe to groups by age. For each group compute the mean salary, divided by the sum of heights.```"
      ]
    },
    {
      "metadata": {
        "colab_type": "text",
        "id": "eb2Yd-5G5NtB"
      },
      "cell_type": "markdown",
      "source": [
        "```Add these lines to your code:```\n",
        "```python\n",
        "        import matplotlib.pyplot as plt\n",
        "        %matplotlib inline\n",
        "``` \n",
        "       \n",
        "```Now try using the pd.DataFrame.plot function to show your data. Try also using pd.DataFrame.boxplot.```"
      ]
    },
    {
      "metadata": {
        "colab_type": "code",
        "id": "Z62WbkJI5Ns6",
        "outputId": "62990c6f-ee77-40a4-ccf4-bf31a46ee0a1",
        "colab": {
          "base_uri": "https://localhost:8080/",
          "height": 1475
        }
      },
      "cell_type": "code",
      "source": [
        "sal = df.groupby([df[\"age\"]]).agg({\"salary\" : \"mean\"}).rename(columns={'salary': 'mean salary divide sum of heights'})\n",
        "hei = df.groupby([df[\"age\"]]).agg({\"height\" : \"sum\"}).rename(columns={'height': 'mean salary divide sum of heights'})\n",
        "result = sal / hei\n",
        "result"
      ],
      "execution_count": 26,
      "outputs": [
        {
          "output_type": "execute_result",
          "data": {
            "text/html": [
              "<div>\n",
              "<style scoped>\n",
              "    .dataframe tbody tr th:only-of-type {\n",
              "        vertical-align: middle;\n",
              "    }\n",
              "\n",
              "    .dataframe tbody tr th {\n",
              "        vertical-align: top;\n",
              "    }\n",
              "\n",
              "    .dataframe thead th {\n",
              "        text-align: right;\n",
              "    }\n",
              "</style>\n",
              "<table border=\"1\" class=\"dataframe\">\n",
              "  <thead>\n",
              "    <tr style=\"text-align: right;\">\n",
              "      <th></th>\n",
              "      <th>mean salary divide sum of heights</th>\n",
              "    </tr>\n",
              "    <tr>\n",
              "      <th>age</th>\n",
              "      <th></th>\n",
              "    </tr>\n",
              "  </thead>\n",
              "  <tbody>\n",
              "    <tr>\n",
              "      <th>20</th>\n",
              "      <td>66.642569</td>\n",
              "    </tr>\n",
              "    <tr>\n",
              "      <th>21</th>\n",
              "      <td>45.178108</td>\n",
              "    </tr>\n",
              "    <tr>\n",
              "      <th>22</th>\n",
              "      <td>39.244560</td>\n",
              "    </tr>\n",
              "    <tr>\n",
              "      <th>23</th>\n",
              "      <td>69.774151</td>\n",
              "    </tr>\n",
              "    <tr>\n",
              "      <th>24</th>\n",
              "      <td>54.544710</td>\n",
              "    </tr>\n",
              "    <tr>\n",
              "      <th>25</th>\n",
              "      <td>59.920237</td>\n",
              "    </tr>\n",
              "    <tr>\n",
              "      <th>26</th>\n",
              "      <td>38.011591</td>\n",
              "    </tr>\n",
              "    <tr>\n",
              "      <th>27</th>\n",
              "      <td>44.048358</td>\n",
              "    </tr>\n",
              "    <tr>\n",
              "      <th>28</th>\n",
              "      <td>40.116689</td>\n",
              "    </tr>\n",
              "    <tr>\n",
              "      <th>29</th>\n",
              "      <td>60.523641</td>\n",
              "    </tr>\n",
              "    <tr>\n",
              "      <th>30</th>\n",
              "      <td>56.446707</td>\n",
              "    </tr>\n",
              "    <tr>\n",
              "      <th>31</th>\n",
              "      <td>51.447361</td>\n",
              "    </tr>\n",
              "    <tr>\n",
              "      <th>32</th>\n",
              "      <td>72.095105</td>\n",
              "    </tr>\n",
              "    <tr>\n",
              "      <th>33</th>\n",
              "      <td>37.789990</td>\n",
              "    </tr>\n",
              "    <tr>\n",
              "      <th>34</th>\n",
              "      <td>46.960449</td>\n",
              "    </tr>\n",
              "    <tr>\n",
              "      <th>35</th>\n",
              "      <td>57.286144</td>\n",
              "    </tr>\n",
              "    <tr>\n",
              "      <th>36</th>\n",
              "      <td>98.387046</td>\n",
              "    </tr>\n",
              "    <tr>\n",
              "      <th>37</th>\n",
              "      <td>48.743546</td>\n",
              "    </tr>\n",
              "    <tr>\n",
              "      <th>38</th>\n",
              "      <td>61.180079</td>\n",
              "    </tr>\n",
              "    <tr>\n",
              "      <th>39</th>\n",
              "      <td>72.018392</td>\n",
              "    </tr>\n",
              "    <tr>\n",
              "      <th>40</th>\n",
              "      <td>75.215588</td>\n",
              "    </tr>\n",
              "    <tr>\n",
              "      <th>41</th>\n",
              "      <td>74.598837</td>\n",
              "    </tr>\n",
              "    <tr>\n",
              "      <th>42</th>\n",
              "      <td>85.664457</td>\n",
              "    </tr>\n",
              "    <tr>\n",
              "      <th>43</th>\n",
              "      <td>52.747873</td>\n",
              "    </tr>\n",
              "    <tr>\n",
              "      <th>44</th>\n",
              "      <td>121.638231</td>\n",
              "    </tr>\n",
              "    <tr>\n",
              "      <th>45</th>\n",
              "      <td>121.814040</td>\n",
              "    </tr>\n",
              "    <tr>\n",
              "      <th>46</th>\n",
              "      <td>90.072083</td>\n",
              "    </tr>\n",
              "    <tr>\n",
              "      <th>47</th>\n",
              "      <td>65.900147</td>\n",
              "    </tr>\n",
              "    <tr>\n",
              "      <th>48</th>\n",
              "      <td>66.585492</td>\n",
              "    </tr>\n",
              "    <tr>\n",
              "      <th>49</th>\n",
              "      <td>101.935596</td>\n",
              "    </tr>\n",
              "    <tr>\n",
              "      <th>50</th>\n",
              "      <td>112.357274</td>\n",
              "    </tr>\n",
              "    <tr>\n",
              "      <th>51</th>\n",
              "      <td>92.305878</td>\n",
              "    </tr>\n",
              "    <tr>\n",
              "      <th>52</th>\n",
              "      <td>91.247052</td>\n",
              "    </tr>\n",
              "    <tr>\n",
              "      <th>53</th>\n",
              "      <td>139.397444</td>\n",
              "    </tr>\n",
              "    <tr>\n",
              "      <th>54</th>\n",
              "      <td>101.970640</td>\n",
              "    </tr>\n",
              "    <tr>\n",
              "      <th>55</th>\n",
              "      <td>116.510072</td>\n",
              "    </tr>\n",
              "    <tr>\n",
              "      <th>56</th>\n",
              "      <td>86.723097</td>\n",
              "    </tr>\n",
              "    <tr>\n",
              "      <th>57</th>\n",
              "      <td>127.077824</td>\n",
              "    </tr>\n",
              "    <tr>\n",
              "      <th>58</th>\n",
              "      <td>158.746426</td>\n",
              "    </tr>\n",
              "    <tr>\n",
              "      <th>59</th>\n",
              "      <td>120.187469</td>\n",
              "    </tr>\n",
              "    <tr>\n",
              "      <th>60</th>\n",
              "      <td>253.830152</td>\n",
              "    </tr>\n",
              "    <tr>\n",
              "      <th>61</th>\n",
              "      <td>251.353731</td>\n",
              "    </tr>\n",
              "    <tr>\n",
              "      <th>62</th>\n",
              "      <td>148.678851</td>\n",
              "    </tr>\n",
              "    <tr>\n",
              "      <th>63</th>\n",
              "      <td>124.381109</td>\n",
              "    </tr>\n",
              "    <tr>\n",
              "      <th>64</th>\n",
              "      <td>122.204231</td>\n",
              "    </tr>\n",
              "  </tbody>\n",
              "</table>\n",
              "</div>"
            ],
            "text/plain": [
              "     mean salary divide sum of heights\n",
              "age                                   \n",
              "20                           66.642569\n",
              "21                           45.178108\n",
              "22                           39.244560\n",
              "23                           69.774151\n",
              "24                           54.544710\n",
              "25                           59.920237\n",
              "26                           38.011591\n",
              "27                           44.048358\n",
              "28                           40.116689\n",
              "29                           60.523641\n",
              "30                           56.446707\n",
              "31                           51.447361\n",
              "32                           72.095105\n",
              "33                           37.789990\n",
              "34                           46.960449\n",
              "35                           57.286144\n",
              "36                           98.387046\n",
              "37                           48.743546\n",
              "38                           61.180079\n",
              "39                           72.018392\n",
              "40                           75.215588\n",
              "41                           74.598837\n",
              "42                           85.664457\n",
              "43                           52.747873\n",
              "44                          121.638231\n",
              "45                          121.814040\n",
              "46                           90.072083\n",
              "47                           65.900147\n",
              "48                           66.585492\n",
              "49                          101.935596\n",
              "50                          112.357274\n",
              "51                           92.305878\n",
              "52                           91.247052\n",
              "53                          139.397444\n",
              "54                          101.970640\n",
              "55                          116.510072\n",
              "56                           86.723097\n",
              "57                          127.077824\n",
              "58                          158.746426\n",
              "59                          120.187469\n",
              "60                          253.830152\n",
              "61                          251.353731\n",
              "62                          148.678851\n",
              "63                          124.381109\n",
              "64                          122.204231"
            ]
          },
          "metadata": {
            "tags": []
          },
          "execution_count": 26
        }
      ]
    },
    {
      "metadata": {
        "colab_type": "text",
        "id": "Lx3jhCSp5NtE"
      },
      "cell_type": "markdown",
      "source": [
        "```Save the result as a csv```"
      ]
    },
    {
      "metadata": {
        "colab_type": "code",
        "id": "5hZMI6nW5NtE",
        "colab": {}
      },
      "cell_type": "code",
      "source": [
        "result.to_csv(\"adir.csv\" , sep=',', encoding='utf-8')"
      ],
      "execution_count": 0,
      "outputs": []
    },
    {
      "metadata": {
        "colab_type": "text",
        "id": "bt77RN435NtG"
      },
      "cell_type": "markdown",
      "source": [
        "## Working with real-life data"
      ]
    },
    {
      "metadata": {
        "colab_type": "text",
        "id": "xvVYUAzF5NtH"
      },
      "cell_type": "markdown",
      "source": [
        "```read the csv file entitled house_prices_numeric.csv consider writing the following line of code:```\n",
        "```python\n",
        "pd.options.display.max_columns=50\n",
        "```"
      ]
    },
    {
      "metadata": {
        "colab_type": "code",
        "id": "xOGuCpkq5NtJ",
        "colab": {}
      },
      "cell_type": "code",
      "source": [
        "from IPython.display import display, HTML\n",
        "import numpy as np\n",
        "import pandas as pd\n",
        "import matplotlib.pyplot as plt\n",
        "%matplotlib inline"
      ],
      "execution_count": 0,
      "outputs": []
    },
    {
      "metadata": {
        "colab_type": "code",
        "id": "REGh17Up5NtL",
        "colab": {}
      },
      "cell_type": "code",
      "source": [
        "df = pd.read_csv('https://raw.githubusercontent.com/roee97/ds_course_ex1/master/house_prices_numeric.csv')"
      ],
      "execution_count": 0,
      "outputs": []
    },
    {
      "metadata": {
        "colab_type": "text",
        "id": "_kbhTFKy5NtN"
      },
      "cell_type": "markdown",
      "source": [
        "```In the following questions, print your answer if possible, draw a graph or visualize it in any other means. When drawing a graph, add a title to it. Answer the following questions (try using a single line of code for each):```\n",
        "```\n",
        "- What is oldest house in the dataset (YearBuilt)?\n",
        "- What is the highest price (SalePrice) of houses built in that year?\n",
        "- What is the mean area (LotArea) of houses?\n",
        "- What is the 50-percentile of the area (LotArea) of houses?\n",
        "- What is more common: having a fireplace (Fireplaces) in the house, or not having one?\n",
        "- What is the mean price (SalePrice) of houses that have swimming pools (PoolArea)?\n",
        "- How many houses were sold every year (YrSold)? Draw a graph using plt.plot or pandas.plot\n",
        "- What is the distribution of the overall condition of the houses (OverallCond)? Use plt.hist or pandas.hist\n",
        "- For every number of fireplaces in a house (Fireplaces), compute the mean price of a house, the mean age of the house (we are in 2019) and the count of distinct FullBath values\n",
        "- Take only houses with MSSubClass > 60. Split into groups according to whether or not the MSSubClass is a multiple of 20. For each group compute the mean, max, min and standard deviation of OverallQual\n",
        "```"
      ]
    },
    {
      "metadata": {
        "colab_type": "code",
        "id": "bqp1FmJE5NtO",
        "outputId": "fcc7a6ea-aa65-44e6-8a7f-d796347c363c",
        "colab": {
          "base_uri": "https://localhost:8080/",
          "height": 129
        }
      },
      "cell_type": "code",
      "source": [
        "df.loc[df[\"YearBuilt\"] == df.loc[: , \"YearBuilt\"].min()]"
      ],
      "execution_count": 30,
      "outputs": [
        {
          "output_type": "execute_result",
          "data": {
            "text/html": [
              "<div>\n",
              "<style scoped>\n",
              "    .dataframe tbody tr th:only-of-type {\n",
              "        vertical-align: middle;\n",
              "    }\n",
              "\n",
              "    .dataframe tbody tr th {\n",
              "        vertical-align: top;\n",
              "    }\n",
              "\n",
              "    .dataframe thead th {\n",
              "        text-align: right;\n",
              "    }\n",
              "</style>\n",
              "<table border=\"1\" class=\"dataframe\">\n",
              "  <thead>\n",
              "    <tr style=\"text-align: right;\">\n",
              "      <th></th>\n",
              "      <th>Id</th>\n",
              "      <th>MSSubClass</th>\n",
              "      <th>LotFrontage</th>\n",
              "      <th>LotArea</th>\n",
              "      <th>OverallQual</th>\n",
              "      <th>OverallCond</th>\n",
              "      <th>YearBuilt</th>\n",
              "      <th>YearRemodAdd</th>\n",
              "      <th>MasVnrArea</th>\n",
              "      <th>BsmtFinSF1</th>\n",
              "      <th>...</th>\n",
              "      <th>WoodDeckSF</th>\n",
              "      <th>OpenPorchSF</th>\n",
              "      <th>EnclosedPorch</th>\n",
              "      <th>3SsnPorch</th>\n",
              "      <th>ScreenPorch</th>\n",
              "      <th>PoolArea</th>\n",
              "      <th>MiscVal</th>\n",
              "      <th>MoSold</th>\n",
              "      <th>YrSold</th>\n",
              "      <th>SalePrice</th>\n",
              "    </tr>\n",
              "  </thead>\n",
              "  <tbody>\n",
              "    <tr>\n",
              "      <th>1349</th>\n",
              "      <td>1350</td>\n",
              "      <td>70</td>\n",
              "      <td>50.0</td>\n",
              "      <td>5250</td>\n",
              "      <td>8</td>\n",
              "      <td>5</td>\n",
              "      <td>1872</td>\n",
              "      <td>1987</td>\n",
              "      <td>0.0</td>\n",
              "      <td>259</td>\n",
              "      <td>...</td>\n",
              "      <td>0</td>\n",
              "      <td>54</td>\n",
              "      <td>20</td>\n",
              "      <td>0</td>\n",
              "      <td>0</td>\n",
              "      <td>0</td>\n",
              "      <td>0</td>\n",
              "      <td>12</td>\n",
              "      <td>2008</td>\n",
              "      <td>122000</td>\n",
              "    </tr>\n",
              "  </tbody>\n",
              "</table>\n",
              "<p>1 rows × 38 columns</p>\n",
              "</div>"
            ],
            "text/plain": [
              "        Id  MSSubClass  LotFrontage  LotArea  OverallQual  OverallCond  \\\n",
              "1349  1350          70         50.0     5250            8            5   \n",
              "\n",
              "      YearBuilt  YearRemodAdd  MasVnrArea  BsmtFinSF1    ...      WoodDeckSF  \\\n",
              "1349       1872          1987         0.0         259    ...               0   \n",
              "\n",
              "      OpenPorchSF  EnclosedPorch  3SsnPorch  ScreenPorch  PoolArea  MiscVal  \\\n",
              "1349           54             20          0            0         0        0   \n",
              "\n",
              "      MoSold  YrSold  SalePrice  \n",
              "1349      12    2008     122000  \n",
              "\n",
              "[1 rows x 38 columns]"
            ]
          },
          "metadata": {
            "tags": []
          },
          "execution_count": 30
        }
      ]
    },
    {
      "metadata": {
        "id": "4E7uKWwNhfti",
        "colab_type": "code",
        "outputId": "49d88a56-22be-49bf-f37c-fd0d45cab207",
        "colab": {
          "base_uri": "https://localhost:8080/",
          "height": 51
        }
      },
      "cell_type": "code",
      "source": [
        "df.loc[df[\"YearBuilt\"] == df.loc[: , \"YearBuilt\"].min()][\"SalePrice\"]"
      ],
      "execution_count": 31,
      "outputs": [
        {
          "output_type": "execute_result",
          "data": {
            "text/plain": [
              "1349    122000\n",
              "Name: SalePrice, dtype: int64"
            ]
          },
          "metadata": {
            "tags": []
          },
          "execution_count": 31
        }
      ]
    },
    {
      "metadata": {
        "id": "jRHIUhzYhf_T",
        "colab_type": "code",
        "outputId": "735999f0-bf88-4f40-d103-6e1da6333998",
        "colab": {
          "base_uri": "https://localhost:8080/",
          "height": 34
        }
      },
      "cell_type": "code",
      "source": [
        "df[\"LotArea\"].mean()"
      ],
      "execution_count": 32,
      "outputs": [
        {
          "output_type": "execute_result",
          "data": {
            "text/plain": [
              "10516.828082191782"
            ]
          },
          "metadata": {
            "tags": []
          },
          "execution_count": 32
        }
      ]
    },
    {
      "metadata": {
        "id": "n2G1ItUOhgKc",
        "colab_type": "code",
        "outputId": "ac337fcd-beb6-4726-b660-492617678e62",
        "colab": {
          "base_uri": "https://localhost:8080/",
          "height": 34
        }
      },
      "cell_type": "code",
      "source": [
        "df[\"LotArea\"].sum() / 2"
      ],
      "execution_count": 33,
      "outputs": [
        {
          "output_type": "execute_result",
          "data": {
            "text/plain": [
              "7677284.5"
            ]
          },
          "metadata": {
            "tags": []
          },
          "execution_count": 33
        }
      ]
    },
    {
      "metadata": {
        "id": "xUP0xMODhgQj",
        "colab_type": "code",
        "outputId": "48012f35-4c2b-494d-d483-9d57f9504470",
        "colab": {
          "base_uri": "https://localhost:8080/",
          "height": 34
        }
      },
      "cell_type": "code",
      "source": [
        "df[\"Fireplaces\"].sum() / df[\"Fireplaces\"].count()"
      ],
      "execution_count": 34,
      "outputs": [
        {
          "output_type": "execute_result",
          "data": {
            "text/plain": [
              "0.613013698630137"
            ]
          },
          "metadata": {
            "tags": []
          },
          "execution_count": 34
        }
      ]
    },
    {
      "metadata": {
        "id": "j6ya0TWMhgTr",
        "colab_type": "code",
        "outputId": "67021300-33dc-4885-f2a4-a0c9f385183d",
        "colab": {
          "base_uri": "https://localhost:8080/",
          "height": 34
        }
      },
      "cell_type": "code",
      "source": [
        "df.loc[df[\"PoolArea\"] > 0 ][\"SalePrice\"].mean()"
      ],
      "execution_count": 35,
      "outputs": [
        {
          "output_type": "execute_result",
          "data": {
            "text/plain": [
              "288138.5714285714"
            ]
          },
          "metadata": {
            "tags": []
          },
          "execution_count": 35
        }
      ]
    },
    {
      "metadata": {
        "id": "p23K2iFIhgWs",
        "colab_type": "code",
        "outputId": "91b096de-4796-4f1d-8f84-318e31927c36",
        "colab": {
          "base_uri": "https://localhost:8080/",
          "height": 300
        }
      },
      "cell_type": "code",
      "source": [
        "df[\"YrSold\"].groupby(df[\"YrSold\"]).count().plot()"
      ],
      "execution_count": 36,
      "outputs": [
        {
          "output_type": "execute_result",
          "data": {
            "text/plain": [
              "<matplotlib.axes._subplots.AxesSubplot at 0x7f680fb2c6a0>"
            ]
          },
          "metadata": {
            "tags": []
          },
          "execution_count": 36
        },
        {
          "output_type": "display_data",
          "data": {
            "image/png": "[encoded data removed]",
            "text/plain": [
              "<Figure size 432x288 with 1 Axes>"
            ]
          },
          "metadata": {
            "tags": []
          }
        }
      ]
    },
    {
      "metadata": {
        "id": "h8lHRvdQhgaL",
        "colab_type": "code",
        "outputId": "4d50d1b4-9a08-4972-8a64-99b0b39fed02",
        "colab": {
          "base_uri": "https://localhost:8080/",
          "height": 286
        }
      },
      "cell_type": "code",
      "source": [
        "df[\"OverallCond\"].hist()"
      ],
      "execution_count": 37,
      "outputs": [
        {
          "output_type": "execute_result",
          "data": {
            "text/plain": [
              "<matplotlib.axes._subplots.AxesSubplot at 0x7f680fb2c1d0>"
            ]
          },
          "metadata": {
            "tags": []
          },
          "execution_count": 37
        },
        {
          "output_type": "display_data",
          "data": {
            "image/png": "[encoded data removed]",
            "text/plain": [
              "<Figure size 432x288 with 1 Axes>"
            ]
          },
          "metadata": {
            "tags": []
          }
        }
      ]
    },
    {
      "metadata": {
        "id": "mDFBwUjVhgc5",
        "colab_type": "code",
        "outputId": "9e783ae8-ecd9-4d31-8fa6-9b576a480b04",
        "colab": {
          "base_uri": "https://localhost:8080/",
          "height": 119
        }
      },
      "cell_type": "code",
      "source": [
        "df[\"SalePrice\"].groupby(df[\"Fireplaces\"]).mean()"
      ],
      "execution_count": 38,
      "outputs": [
        {
          "output_type": "execute_result",
          "data": {
            "text/plain": [
              "Fireplaces\n",
              "0    141331.482609\n",
              "1    211843.909231\n",
              "2    240588.539130\n",
              "3    252000.000000\n",
              "Name: SalePrice, dtype: float64"
            ]
          },
          "metadata": {
            "tags": []
          },
          "execution_count": 38
        }
      ]
    },
    {
      "metadata": {
        "id": "eoeaWzgHhHPq",
        "colab_type": "code",
        "outputId": "67048632-7f08-4793-b923-5dd8312dd39e",
        "colab": {
          "base_uri": "https://localhost:8080/",
          "height": 119
        }
      },
      "cell_type": "code",
      "source": [
        "(2019 - df.rename(columns={'YearBuilt': 'Age'})[\"Age\"]).groupby(df[\"Fireplaces\"]).mean()"
      ],
      "execution_count": 39,
      "outputs": [
        {
          "output_type": "execute_result",
          "data": {
            "text/plain": [
              "Fireplaces\n",
              "0    54.781159\n",
              "1    39.150769\n",
              "2    54.347826\n",
              "3    38.400000\n",
              "Name: Age, dtype: float64"
            ]
          },
          "metadata": {
            "tags": []
          },
          "execution_count": 39
        }
      ]
    },
    {
      "metadata": {
        "id": "x8hJdbBOjJP_",
        "colab_type": "code",
        "outputId": "1310bc3e-d1ea-4c25-b50e-684144ccd07d",
        "colab": {
          "base_uri": "https://localhost:8080/",
          "height": 119
        }
      },
      "cell_type": "code",
      "source": [
        "df[\"FullBath\"].groupby(df[\"Fireplaces\"]).count()"
      ],
      "execution_count": 40,
      "outputs": [
        {
          "output_type": "execute_result",
          "data": {
            "text/plain": [
              "Fireplaces\n",
              "0    690\n",
              "1    650\n",
              "2    115\n",
              "3      5\n",
              "Name: FullBath, dtype: int64"
            ]
          },
          "metadata": {
            "tags": []
          },
          "execution_count": 40
        }
      ]
    },
    {
      "metadata": {
        "id": "cTw-ow64jpsW",
        "colab_type": "code",
        "outputId": "15111b93-bc06-4e92-b362-3852afaaec42",
        "colab": {
          "base_uri": "https://localhost:8080/",
          "height": 221
        }
      },
      "cell_type": "code",
      "source": [
        "sa = df.loc[df[\"MSSubClass\"] > 60].groupby(lambda x : x % 20 == 0)[\"OverallQual\"]\n",
        "print(sa.mean())\n",
        "print(sa.max())\n",
        "print(sa.min())\n",
        "print(sa.std())"
      ],
      "execution_count": 41,
      "outputs": [
        {
          "output_type": "stream",
          "text": [
            "False    6.00266\n",
            "True     6.25000\n",
            "Name: OverallQual, dtype: float64\n",
            "False    10\n",
            "True      8\n",
            "Name: OverallQual, dtype: int64\n",
            "False    3\n",
            "True     4\n",
            "Name: OverallQual, dtype: int64\n",
            "False    1.225286\n",
            "True     1.118034\n",
            "Name: OverallQual, dtype: float64\n"
          ],
          "name": "stdout"
        }
      ]
    },
    {
      "metadata": {
        "colab_type": "text",
        "id": "ij15G9X35NtQ"
      },
      "cell_type": "markdown",
      "source": [
        "## Feature extraction"
      ]
    },
    {
      "metadata": {
        "colab_type": "text",
        "id": "BJusnW_-5NtT"
      },
      "cell_type": "markdown",
      "source": [
        "```Load the complete version of the houses table, entitled \"house_prices_larger.csv\"```"
      ]
    },
    {
      "metadata": {
        "colab_type": "code",
        "id": "j1KrefKK5NtU",
        "colab": {}
      },
      "cell_type": "code",
      "source": [
        "df = pd.read_csv('https://raw.githubusercontent.com/roee97/ds_course_ex1/master/house_prices_larger.csv')"
      ],
      "execution_count": 0,
      "outputs": []
    },
    {
      "metadata": {
        "colab_type": "text",
        "id": "WyCh9_WB5NtW"
      },
      "cell_type": "markdown",
      "source": [
        "```As you recall, the feature extraction process is done in order to let us describe the data in more \"meaningful\" manner. Add the following features to your dataframe:```\n",
        "- ```LotArea in squared meters ( it's currently in units of squared feet)```\n",
        "- ```1stFlrSF + 2ndFlrSF```\n",
        "- ```GarageArea**0.5```\n",
        "- ```LotArea / (BedroomAbvGr+1)```\n",
        "- ```LotArea / (mean LotArea for houses built in that same year + 1e-5) - you might want to use``` [pandas merge function](https://www.google.com/search?q=pandas+merge&oq=pandas+merge&aqs=chrome..69i57l2j69i59l3j69i60.2080j0j9&sourceid=chrome&ie=UTF-8)\n",
        "- ```Ranking of LotArea (largest house has 1, the second largest has 2 and so on)```\n",
        "- ```One hot encoding of LotConfig - that is, add feature againts every value possible in LotConfig, which is 1 if the sample's LotConfig is this value and 0 otherwise (consider``` [pandas.get_dummies](https://pandas.pydata.org/pandas-docs/stable/reference/api/pandas.get_dummies.html))\n",
        "\n",
        "```make a list of the names of the features you created.```"
      ]
    },
    {
      "metadata": {
        "colab_type": "code",
        "id": "Xq4ZyrEv5NtW",
        "colab": {}
      },
      "cell_type": "code",
      "source": [
        "sqFeetToSqMetter = 0.09290304\n",
        "df[\"sqMettersLotArea\"] = df[\"LotArea\"] * sqFeetToSqMetter"
      ],
      "execution_count": 0,
      "outputs": []
    },
    {
      "metadata": {
        "id": "lgBIUZyMmYGO",
        "colab_type": "code",
        "colab": {}
      },
      "cell_type": "code",
      "source": [
        "df[\"FlrSF\"] = df[\"1stFlrSF\"] + df[\"2ndFlrSF\"]"
      ],
      "execution_count": 0,
      "outputs": []
    },
    {
      "metadata": {
        "id": "EU0xbawumtBR",
        "colab_type": "code",
        "colab": {}
      },
      "cell_type": "code",
      "source": [
        "df[\"sqrtGarageArea\"] = df[\"GarageArea\"]**0.5"
      ],
      "execution_count": 0,
      "outputs": []
    },
    {
      "metadata": {
        "id": "KcBAB6Wmm5VG",
        "colab_type": "code",
        "colab": {}
      },
      "cell_type": "code",
      "source": [
        "df[\"LotArea_Divided_By_BedRoomAbvGr\"] = df[\"LotArea\"] / (df[\"BedroomAbvGr\"] + 1)"
      ],
      "execution_count": 0,
      "outputs": []
    },
    {
      "metadata": {
        "id": "EwP-G0F_nYL7",
        "colab_type": "code",
        "colab": {}
      },
      "cell_type": "code",
      "source": [
        "sa = df.groupby([\"YearBuilt\"]).mean().loc[: , \"LotArea\"] + 10**(-5)\n",
        "df[\"LotArea_Divided_By_mean\"] = df.apply(lambda x : x[\"LotArea\"] / sa[x[\"YearBuilt\"]] , axis = 1)\n",
        "\n"
      ],
      "execution_count": 0,
      "outputs": []
    },
    {
      "metadata": {
        "id": "Uu7ATpRWnYPE",
        "colab_type": "code",
        "colab": {}
      },
      "cell_type": "code",
      "source": [
        "df[\"Ranking_LotArea\"] = df[\"LotArea\"].rank(method = \"first\")"
      ],
      "execution_count": 0,
      "outputs": []
    },
    {
      "metadata": {
        "id": "NW5FYV3V1M0G",
        "colab_type": "code",
        "colab": {}
      },
      "cell_type": "code",
      "source": [
        "df = pd.concat([df , pd.get_dummies(df[\"LotConfig\"])] , axis = 1)"
      ],
      "execution_count": 0,
      "outputs": []
    },
    {
      "metadata": {
        "id": "jF1AsCOV_cAN",
        "colab_type": "code",
        "colab": {}
      },
      "cell_type": "code",
      "source": [
        "df2 = pd.concat([df.loc[: , [\"sqMettersLotArea\" , \"FlrSF\" , \"sqrtGarageArea\" , \"LotArea_Divided_By_BedRoomAbvGr\"\n",
        "                             , \"LotArea_Divided_By_mean\" , \"Ranking_LotArea\"]] , pd.get_dummies(df[\"LotConfig\"])] , axis = 1)"
      ],
      "execution_count": 0,
      "outputs": []
    },
    {
      "metadata": {
        "colab_type": "text",
        "id": "TJG-f4mz5NtZ"
      },
      "cell_type": "markdown",
      "source": [
        "## Simple linear model"
      ]
    },
    {
      "metadata": {
        "colab_type": "text",
        "id": "_CkO_BQP5Nta"
      },
      "cell_type": "markdown",
      "source": [
        "```Next, we will train a simple linear model, as seen in class, to predict SalePrice. Use the features you computed. Create train and test segments, normalize the data (both the features and the target) and use a linear model. Make sure you don't somehow use the test data when training your model (or when normalizing your data).```"
      ]
    },
    {
      "metadata": {
        "colab_type": "code",
        "id": "QjA-j-WP5Ntb",
        "colab": {}
      },
      "cell_type": "code",
      "source": [
        "from sklearn.linear_model import LinearRegression\n",
        "from sklearn.model_selection import train_test_split\n",
        "from sklearn.preprocessing import StandardScaler\n",
        "from sklearn.metrics import mean_squared_error"
      ],
      "execution_count": 0,
      "outputs": []
    },
    {
      "metadata": {
        "colab_type": "code",
        "id": "I0I7vwPd5Ntf",
        "outputId": "7707db0f-6c3c-4daf-b6a7-4fdae58fce2e",
        "colab": {
          "base_uri": "https://localhost:8080/",
          "height": 34
        }
      },
      "cell_type": "code",
      "source": [
        "\n",
        "X = df2\n",
        "y = df[\"SalePrice\"]\n",
        "maxy = y.max()\n",
        "X_train, X_test, y_train, y_test = train_test_split(X, y, test_size=0.33, random_state=42)\n",
        "#scaler = StandardScaler()\n",
        "#scaler.fit(X_train)\n",
        "#scaled_X_train = scaler.transform(X_train)\n",
        "#scaled_X_test = scaler.transform(X_test)\n",
        "\n",
        "\n",
        "reg = LinearRegression(normalize = True).fit(X_train, y_train / maxy)\n",
        "\n",
        "mean_squared_error(y_test / maxy, reg.predict(X_test))\n"
      ],
      "execution_count": 52,
      "outputs": [
        {
          "output_type": "execute_result",
          "data": {
            "text/plain": [
              "0.004625713181104043"
            ]
          },
          "metadata": {
            "tags": []
          },
          "execution_count": 52
        }
      ]
    },
    {
      "metadata": {
        "colab_type": "text",
        "id": "bPhA2jpq5Nti"
      },
      "cell_type": "markdown",
      "source": [
        "```Next, we will add extra features: for any feature you computed earlier, add feature**2 and feature**3. Now use Ridge regression (regularized linear regression, as we discussed in class). Draw graphs of the loss computed on the train and on the validation as a function of the regularization parameter, for``` 1$\\leq\\alpha\\leq$30. ```What regularization would it be best to take?```"
      ]
    },
    {
      "metadata": {
        "colab_type": "code",
        "id": "KJKFH3lh5Ntj",
        "colab": {}
      },
      "cell_type": "code",
      "source": [
        "from sklearn.linear_model import Ridge\n",
        "import matplotlib.pyplot as plt\n",
        "df = pd.read_csv('https://raw.githubusercontent.com/roee97/ds_course_ex1/master/house_prices_special.csv')"
      ],
      "execution_count": 0,
      "outputs": []
    },
    {
      "metadata": {
        "colab_type": "code",
        "id": "CD8a9kcp5Ntl",
        "colab": {}
      },
      "cell_type": "code",
      "source": [
        "sqFeetToSqMetter = 0.09290304\n",
        "df[\"sqMettersLotArea\"] = df[\"LotArea\"] * sqFeetToSqMetter"
      ],
      "execution_count": 0,
      "outputs": []
    },
    {
      "metadata": {
        "id": "ASWwzOgleIAM",
        "colab_type": "code",
        "colab": {}
      },
      "cell_type": "code",
      "source": [
        "df[\"FlrSF\"] = df[\"1stFlrSF\"] + df[\"2ndFlrSF\"]"
      ],
      "execution_count": 0,
      "outputs": []
    },
    {
      "metadata": {
        "id": "wV4VnvtTDRYD",
        "colab_type": "code",
        "colab": {}
      },
      "cell_type": "code",
      "source": [
        "df[\"sqrtGarageArea\"] = df[\"GarageArea\"]**0.5"
      ],
      "execution_count": 0,
      "outputs": []
    },
    {
      "metadata": {
        "id": "r7IkLGqkeRX5",
        "colab_type": "code",
        "colab": {}
      },
      "cell_type": "code",
      "source": [
        "df[\"LotArea_Divided_By_BedRoomAbvGr\"] = df[\"LotArea\"] / (df[\"BedroomAbvGr\"] + 1)"
      ],
      "execution_count": 0,
      "outputs": []
    },
    {
      "metadata": {
        "id": "bvBh1MKyeRbc",
        "colab_type": "code",
        "colab": {}
      },
      "cell_type": "code",
      "source": [
        "sa = df.groupby([\"YearBuilt\"]).mean().loc[: , \"LotArea\"] + 10**(-5)\n",
        "df[\"LotArea_Divided_By_mean\"] = df.apply(lambda x : x[\"LotArea\"] / sa[x[\"YearBuilt\"]] , axis = 1)"
      ],
      "execution_count": 0,
      "outputs": []
    },
    {
      "metadata": {
        "id": "DO6g-dzBeRgx",
        "colab_type": "code",
        "colab": {}
      },
      "cell_type": "code",
      "source": [
        "df[\"Ranking_LotArea\"] = df[\"LotArea\"].rank(method = \"first\")"
      ],
      "execution_count": 0,
      "outputs": []
    },
    {
      "metadata": {
        "id": "TnLjcX9beReU",
        "colab_type": "code",
        "colab": {}
      },
      "cell_type": "code",
      "source": [
        "df2 = df.loc[: , [\"sqMettersLotArea\" , \"FlrSF\" , \"sqrtGarageArea\" , \"LotArea_Divided_By_BedRoomAbvGr\" , \"LotArea_Divided_By_mean\" , \"Ranking_LotArea\"]]"
      ],
      "execution_count": 0,
      "outputs": []
    },
    {
      "metadata": {
        "id": "6zecaFmEengp",
        "colab_type": "code",
        "colab": {}
      },
      "cell_type": "code",
      "source": [
        "df2 = pd.concat([pd.concat([df2 , df2**2] , axis = 1) , df2**3] , axis = 1)"
      ],
      "execution_count": 0,
      "outputs": []
    },
    {
      "metadata": {
        "id": "DoW6hJUbIE6y",
        "colab_type": "code",
        "colab": {
          "base_uri": "https://localhost:8080/",
          "height": 2321
        },
        "outputId": "2ede5da1-f115-498b-ac18-6d06df48f62b"
      },
      "cell_type": "code",
      "source": [
        "X = df2\n",
        "y = df[\"SalePrice\"]\n",
        "maxy = y.max()\n",
        "X_train, X_test, y_train, y_test = train_test_split(X, y, test_size=0.33, random_state=42)\n",
        "\n",
        "reg = LinearRegression(normalize = True).fit(X_train, y_train / maxy)\n",
        "\n",
        "loss = []\n",
        "maxAlpha = 31\n",
        "for i in range(1,maxAlpha):\n",
        "  clf = Ridge(alpha = i)\n",
        "  clf.fit(X_train, y_train / maxy)\n",
        "  loss.append(mean_squared_error(y_test / maxy, clf.predict(X_test)))\n",
        "  \n",
        "\n",
        "plt.plot(np.array([i for i in range(1,maxAlpha)]) , np.array(loss) ,'.')\n",
        "plt.xlabel(\"alpha\")\n",
        "plt.ylabel(\"Loss\")\n",
        "plt.show()\n"
      ],
      "execution_count": 81,
      "outputs": [
        {
          "output_type": "stream",
          "text": [
            "/usr/local/lib/python3.6/dist-packages/sklearn/linear_model/ridge.py:125: LinAlgWarning: scipy.linalg.solve\n",
            "Ill-conditioned matrix detected. Result is not guaranteed to be accurate.\n",
            "Reciprocal condition number1.399426e-28\n",
            "  overwrite_a=True).T\n",
            "/usr/local/lib/python3.6/dist-packages/sklearn/linear_model/ridge.py:125: LinAlgWarning: scipy.linalg.solve\n",
            "Ill-conditioned matrix detected. Result is not guaranteed to be accurate.\n",
            "Reciprocal condition number1.559877e-28\n",
            "  overwrite_a=True).T\n",
            "/usr/local/lib/python3.6/dist-packages/sklearn/linear_model/ridge.py:125: LinAlgWarning: scipy.linalg.solve\n",
            "Ill-conditioned matrix detected. Result is not guaranteed to be accurate.\n",
            "Reciprocal condition number1.720532e-28\n",
            "  overwrite_a=True).T\n",
            "/usr/local/lib/python3.6/dist-packages/sklearn/linear_model/ridge.py:125: LinAlgWarning: scipy.linalg.solve\n",
            "Ill-conditioned matrix detected. Result is not guaranteed to be accurate.\n",
            "Reciprocal condition number1.881389e-28\n",
            "  overwrite_a=True).T\n",
            "/usr/local/lib/python3.6/dist-packages/sklearn/linear_model/ridge.py:125: LinAlgWarning: scipy.linalg.solve\n",
            "Ill-conditioned matrix detected. Result is not guaranteed to be accurate.\n",
            "Reciprocal condition number2.042445e-28\n",
            "  overwrite_a=True).T\n",
            "/usr/local/lib/python3.6/dist-packages/sklearn/linear_model/ridge.py:125: LinAlgWarning: scipy.linalg.solve\n",
            "Ill-conditioned matrix detected. Result is not guaranteed to be accurate.\n",
            "Reciprocal condition number2.203700e-28\n",
            "  overwrite_a=True).T\n",
            "/usr/local/lib/python3.6/dist-packages/sklearn/linear_model/ridge.py:125: LinAlgWarning: scipy.linalg.solve\n",
            "Ill-conditioned matrix detected. Result is not guaranteed to be accurate.\n",
            "Reciprocal condition number2.365152e-28\n",
            "  overwrite_a=True).T\n",
            "/usr/local/lib/python3.6/dist-packages/sklearn/linear_model/ridge.py:125: LinAlgWarning: scipy.linalg.solve\n",
            "Ill-conditioned matrix detected. Result is not guaranteed to be accurate.\n",
            "Reciprocal condition number2.526799e-28\n",
            "  overwrite_a=True).T\n",
            "/usr/local/lib/python3.6/dist-packages/sklearn/linear_model/ridge.py:125: LinAlgWarning: scipy.linalg.solve\n",
            "Ill-conditioned matrix detected. Result is not guaranteed to be accurate.\n",
            "Reciprocal condition number2.688639e-28\n",
            "  overwrite_a=True).T\n",
            "/usr/local/lib/python3.6/dist-packages/sklearn/linear_model/ridge.py:125: LinAlgWarning: scipy.linalg.solve\n",
            "Ill-conditioned matrix detected. Result is not guaranteed to be accurate.\n",
            "Reciprocal condition number2.850672e-28\n",
            "  overwrite_a=True).T\n",
            "/usr/local/lib/python3.6/dist-packages/sklearn/linear_model/ridge.py:125: LinAlgWarning: scipy.linalg.solve\n",
            "Ill-conditioned matrix detected. Result is not guaranteed to be accurate.\n",
            "Reciprocal condition number3.012895e-28\n",
            "  overwrite_a=True).T\n",
            "/usr/local/lib/python3.6/dist-packages/sklearn/linear_model/ridge.py:125: LinAlgWarning: scipy.linalg.solve\n",
            "Ill-conditioned matrix detected. Result is not guaranteed to be accurate.\n",
            "Reciprocal condition number3.175306e-28\n",
            "  overwrite_a=True).T\n",
            "/usr/local/lib/python3.6/dist-packages/sklearn/linear_model/ridge.py:125: LinAlgWarning: scipy.linalg.solve\n",
            "Ill-conditioned matrix detected. Result is not guaranteed to be accurate.\n",
            "Reciprocal condition number3.337905e-28\n",
            "  overwrite_a=True).T\n",
            "/usr/local/lib/python3.6/dist-packages/sklearn/linear_model/ridge.py:125: LinAlgWarning: scipy.linalg.solve\n",
            "Ill-conditioned matrix detected. Result is not guaranteed to be accurate.\n",
            "Reciprocal condition number3.500690e-28\n",
            "  overwrite_a=True).T\n",
            "/usr/local/lib/python3.6/dist-packages/sklearn/linear_model/ridge.py:125: LinAlgWarning: scipy.linalg.solve\n",
            "Ill-conditioned matrix detected. Result is not guaranteed to be accurate.\n",
            "Reciprocal condition number3.663660e-28\n",
            "  overwrite_a=True).T\n",
            "/usr/local/lib/python3.6/dist-packages/sklearn/linear_model/ridge.py:125: LinAlgWarning: scipy.linalg.solve\n",
            "Ill-conditioned matrix detected. Result is not guaranteed to be accurate.\n",
            "Reciprocal condition number3.826812e-28\n",
            "  overwrite_a=True).T\n",
            "/usr/local/lib/python3.6/dist-packages/sklearn/linear_model/ridge.py:125: LinAlgWarning: scipy.linalg.solve\n",
            "Ill-conditioned matrix detected. Result is not guaranteed to be accurate.\n",
            "Reciprocal condition number3.990145e-28\n",
            "  overwrite_a=True).T\n",
            "/usr/local/lib/python3.6/dist-packages/sklearn/linear_model/ridge.py:125: LinAlgWarning: scipy.linalg.solve\n",
            "Ill-conditioned matrix detected. Result is not guaranteed to be accurate.\n",
            "Reciprocal condition number4.153659e-28\n",
            "  overwrite_a=True).T\n",
            "/usr/local/lib/python3.6/dist-packages/sklearn/linear_model/ridge.py:125: LinAlgWarning: scipy.linalg.solve\n",
            "Ill-conditioned matrix detected. Result is not guaranteed to be accurate.\n",
            "Reciprocal condition number4.317351e-28\n",
            "  overwrite_a=True).T\n",
            "/usr/local/lib/python3.6/dist-packages/sklearn/linear_model/ridge.py:125: LinAlgWarning: scipy.linalg.solve\n",
            "Ill-conditioned matrix detected. Result is not guaranteed to be accurate.\n",
            "Reciprocal condition number4.481220e-28\n",
            "  overwrite_a=True).T\n",
            "/usr/local/lib/python3.6/dist-packages/sklearn/linear_model/ridge.py:125: LinAlgWarning: scipy.linalg.solve\n",
            "Ill-conditioned matrix detected. Result is not guaranteed to be accurate.\n",
            "Reciprocal condition number4.645264e-28\n",
            "  overwrite_a=True).T\n",
            "/usr/local/lib/python3.6/dist-packages/sklearn/linear_model/ridge.py:125: LinAlgWarning: scipy.linalg.solve\n",
            "Ill-conditioned matrix detected. Result is not guaranteed to be accurate.\n",
            "Reciprocal condition number4.809484e-28\n",
            "  overwrite_a=True).T\n",
            "/usr/local/lib/python3.6/dist-packages/sklearn/linear_model/ridge.py:125: LinAlgWarning: scipy.linalg.solve\n",
            "Ill-conditioned matrix detected. Result is not guaranteed to be accurate.\n",
            "Reciprocal condition number4.973876e-28\n",
            "  overwrite_a=True).T\n",
            "/usr/local/lib/python3.6/dist-packages/sklearn/linear_model/ridge.py:125: LinAlgWarning: scipy.linalg.solve\n",
            "Ill-conditioned matrix detected. Result is not guaranteed to be accurate.\n",
            "Reciprocal condition number5.138439e-28\n",
            "  overwrite_a=True).T\n",
            "/usr/local/lib/python3.6/dist-packages/sklearn/linear_model/ridge.py:125: LinAlgWarning: scipy.linalg.solve\n",
            "Ill-conditioned matrix detected. Result is not guaranteed to be accurate.\n",
            "Reciprocal condition number5.303173e-28\n",
            "  overwrite_a=True).T\n",
            "/usr/local/lib/python3.6/dist-packages/sklearn/linear_model/ridge.py:125: LinAlgWarning: scipy.linalg.solve\n",
            "Ill-conditioned matrix detected. Result is not guaranteed to be accurate.\n",
            "Reciprocal condition number5.468076e-28\n",
            "  overwrite_a=True).T\n",
            "/usr/local/lib/python3.6/dist-packages/sklearn/linear_model/ridge.py:125: LinAlgWarning: scipy.linalg.solve\n",
            "Ill-conditioned matrix detected. Result is not guaranteed to be accurate.\n",
            "Reciprocal condition number5.633146e-28\n",
            "  overwrite_a=True).T\n",
            "/usr/local/lib/python3.6/dist-packages/sklearn/linear_model/ridge.py:125: LinAlgWarning: scipy.linalg.solve\n",
            "Ill-conditioned matrix detected. Result is not guaranteed to be accurate.\n",
            "Reciprocal condition number5.798383e-28\n",
            "  overwrite_a=True).T\n",
            "/usr/local/lib/python3.6/dist-packages/sklearn/linear_model/ridge.py:125: LinAlgWarning: scipy.linalg.solve\n",
            "Ill-conditioned matrix detected. Result is not guaranteed to be accurate.\n",
            "Reciprocal condition number5.963785e-28\n",
            "  overwrite_a=True).T\n",
            "/usr/local/lib/python3.6/dist-packages/sklearn/linear_model/ridge.py:125: LinAlgWarning: scipy.linalg.solve\n",
            "Ill-conditioned matrix detected. Result is not guaranteed to be accurate.\n",
            "Reciprocal condition number6.129350e-28\n",
            "  overwrite_a=True).T\n"
          ],
          "name": "stderr"
        },
        {
          "output_type": "display_data",
          "data": {
            "image/png": "[encoded data removed]",
            "text/plain": [
              "<Figure size 432x288 with 1 Axes>"
            ]
          },
          "metadata": {
            "tags": []
          }
        }
      ]
    },
    {
      "metadata": {
        "id": "kdgSxSQclWrX",
        "colab_type": "text"
      },
      "cell_type": "markdown",
      "source": [
        "It's good to take $\\alpha$ = 30"
      ]
    }
  ]
}