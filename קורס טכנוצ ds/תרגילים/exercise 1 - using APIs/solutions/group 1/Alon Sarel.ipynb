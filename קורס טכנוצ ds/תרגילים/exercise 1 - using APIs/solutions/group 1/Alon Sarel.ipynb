{
 "cells": [
  {
   "cell_type": "markdown",
   "metadata": {
    "colab_type": "text",
    "id": "-PVxdKhC5Npr"
   },
   "source": [
    "# Exercise 1\n",
    "```In this exercise you will experience with pandas, matplotlib and numpy. This are main tools we are going to use later in course, and which are extremly useful in a variety of tasks. For each question, answer it in cells directly beneath it.```\n",
    "\n",
    "```You are more than encourged to read relevant parts, mainly from ``` [pandas' API](https://pandas.pydata.org/pandas-docs/stable/reference/index.html)\n",
    "\n",
    "```~ Ittai Haran```"
   ]
  },
  {
   "cell_type": "code",
   "execution_count": null,
   "metadata": {},
   "outputs": [],
   "source": []
  },
  {
   "cell_type": "markdown",
   "metadata": {
    "colab_type": "text",
    "id": "Xr9JHrdn5Npw"
   },
   "source": [
    "## DataFrame basics\n",
    "\n",
    "```A few of the fundamental routines for selecting, sorting, adding and aggregating data in DataFrames```"
   ]
  },
  {
   "cell_type": "markdown",
   "metadata": {
    "colab_type": "text",
    "id": "fbrrYfoj5Np0"
   },
   "source": [
    "```import numpy and pandas```"
   ]
  },
  {
   "cell_type": "code",
   "execution_count": 274,
   "metadata": {
    "colab": {},
    "colab_type": "code",
    "id": "bpJ6A76C5Np3"
   },
   "outputs": [
    {
     "data": {
      "text/plain": [
       "'0.24.2'"
      ]
     },
     "execution_count": 274,
     "metadata": {},
     "output_type": "execute_result"
    }
   ],
   "source": [
    "import pandas as pd\n",
    "import numpy as np\n",
    "pd.__version__"
   ]
  },
  {
   "cell_type": "markdown",
   "metadata": {
    "colab_type": "text",
    "id": "YIARH19T5NqF"
   },
   "source": [
    "```Consider the following Python dictionary `data` and Python list `labels`:```\n",
    "\n",
    "``` python\n",
    "data = {'animal': ['cat', 'cat', 'snake', 'dog', 'dog', 'cat', 'snake', 'cat', 'dog', 'dog'],\n",
    "        'age': [2.5, 3, 0.5, np.nan, 5, 2, 4.5, np.nan, 7, 3],\n",
    "        'visits': [1, 3, 2, 3, 2, 3, 1, 1, 2, 1],\n",
    "        'priority': ['yes', 'yes', 'no', 'yes', 'no', 'no', 'no', 'yes', 'no', 'no']}\n",
    "\n",
    "labels = ['a', 'b', 'c', 'd', 'e', 'f', 'g', 'h', 'i', 'j']\n",
    "```\n",
    "\n",
    "```Create a DataFrame `df` from this dictionary `data` which has the index `labels`.```"
   ]
  },
  {
   "cell_type": "code",
   "execution_count": 250,
   "metadata": {
    "colab": {},
    "colab_type": "code",
    "id": "1pjYEcWj5NqI"
   },
   "outputs": [
    {
     "name": "stdout",
     "output_type": "stream",
     "text": [
      "      animal  age  visits priority\n",
      "index                             \n",
      "a        cat  2.5       1      yes\n",
      "b        cat  3.0       3      yes\n",
      "c      snake  0.5       2       no\n",
      "d        dog  NaN       3      yes\n",
      "e        dog  5.0       2       no\n",
      "f        cat  2.0       3       no\n",
      "g      snake  4.5       1       no\n",
      "h        cat  NaN       1      yes\n",
      "i        dog  7.0       2       no\n",
      "j        dog  3.0       1       no\n"
     ]
    },
    {
     "data": {
      "text/plain": [
       "animal      cat\n",
       "age         2.5\n",
       "visits        1\n",
       "priority    yes\n",
       "Name: a, dtype: object"
      ]
     },
     "execution_count": 250,
     "metadata": {},
     "output_type": "execute_result"
    }
   ],
   "source": [
    "data = {'animal': ['cat', 'cat', 'snake', 'dog', 'dog', 'cat', 'snake', 'cat', 'dog', 'dog'],\n",
    "        'age': [2.5, 3, 0.5, np.nan, 5, 2, 4.5, np.nan, 7, 3],\n",
    "        'visits': [1, 3, 2, 3, 2, 3, 1, 1, 2, 1],\n",
    "        'priority': ['yes', 'yes', 'no', 'yes', 'no', 'no', 'no', 'yes', 'no', 'no']}\n",
    "\n",
    "labels = ['a', 'b', 'c', 'd', 'e', 'f', 'g', 'h', 'i', 'j']\n",
    "\n",
    "df = pd.DataFrame.from_dict(data=data)\n",
    "\n",
    "df['index']=labels\n",
    "df.set_index(['index'],inplace=True,drop=True)\n",
    "print(df)\n",
    "df.loc['a']"
   ]
  },
  {
   "cell_type": "markdown",
   "metadata": {
    "colab_type": "text",
    "id": "RdoKxq165NqT"
   },
   "source": [
    "```Display a summary of the basic information about this DataFrame and its data using the decribe and the info functions```"
   ]
  },
  {
   "cell_type": "code",
   "execution_count": 251,
   "metadata": {
    "colab": {},
    "colab_type": "code",
    "id": "7dTjubPW67Ip"
   },
   "outputs": [
    {
     "name": "stdout",
     "output_type": "stream",
     "text": [
      "            age     visits\n",
      "count  8.000000  10.000000\n",
      "mean   3.437500   1.900000\n",
      "std    2.007797   0.875595\n",
      "min    0.500000   1.000000\n",
      "25%    2.375000   1.000000\n",
      "50%    3.000000   2.000000\n",
      "75%    4.625000   2.750000\n",
      "max    7.000000   3.000000\n",
      "\n",
      "<class 'pandas.core.frame.DataFrame'>\n",
      "Index: 10 entries, a to j\n",
      "Data columns (total 4 columns):\n",
      "animal      10 non-null object\n",
      "age         8 non-null float64\n",
      "visits      10 non-null int64\n",
      "priority    10 non-null object\n",
      "dtypes: float64(1), int64(1), object(2)\n",
      "memory usage: 720.0+ bytes\n",
      "None\n"
     ]
    }
   ],
   "source": [
    "print(df.describe())\n",
    "print()\n",
    "print(df.info())"
   ]
  },
  {
   "cell_type": "markdown",
   "metadata": {
    "colab_type": "text",
    "id": "jqk0L6wY5Nqg"
   },
   "source": [
    "```Return the first 3 rows of the DataFrame `df`. Do it two times: use head and iloc```"
   ]
  },
  {
   "cell_type": "code",
   "execution_count": 252,
   "metadata": {
    "colab": {},
    "colab_type": "code",
    "id": "omBJQsg65Nqj"
   },
   "outputs": [
    {
     "name": "stdout",
     "output_type": "stream",
     "text": [
      "      animal  age  visits priority\n",
      "index                             \n",
      "a        cat  2.5       1      yes\n",
      "b        cat  3.0       3      yes\n",
      "c      snake  0.5       2       no\n",
      "      animal  age  visits priority\n",
      "index                             \n",
      "a        cat  2.5       1      yes\n",
      "b        cat  3.0       3      yes\n",
      "c      snake  0.5       2       no\n"
     ]
    }
   ],
   "source": [
    "print(df.head(3))\n",
    "print(df.iloc[0:3,:])"
   ]
  },
  {
   "cell_type": "markdown",
   "metadata": {
    "colab_type": "text",
    "id": "yi3eBRK-5Nqs"
   },
   "source": [
    "```Select just the 'animal' and 'age' columns from the DataFrame `df`.```"
   ]
  },
  {
   "cell_type": "code",
   "execution_count": 253,
   "metadata": {
    "colab": {},
    "colab_type": "code",
    "id": "L_o_uiY05Nqv"
   },
   "outputs": [
    {
     "name": "stdout",
     "output_type": "stream",
     "text": [
      "      animal  age\n",
      "index            \n",
      "a        cat  2.5\n",
      "b        cat  3.0\n",
      "c      snake  0.5\n",
      "d        dog  NaN\n",
      "e        dog  5.0\n",
      "f        cat  2.0\n",
      "g      snake  4.5\n",
      "h        cat  NaN\n",
      "i        dog  7.0\n",
      "j        dog  3.0\n"
     ]
    }
   ],
   "source": [
    "print(df[['animal','age']])"
   ]
  },
  {
   "cell_type": "markdown",
   "metadata": {
    "colab_type": "text",
    "id": "r6oJ-vHM5Nq5"
   },
   "source": [
    "```Select the data in rows `[3, 4, 8]` *and* in columns `['animal', 'age']`.```"
   ]
  },
  {
   "cell_type": "code",
   "execution_count": 254,
   "metadata": {
    "colab": {},
    "colab_type": "code",
    "id": "K5GkJ4Ad5Nq_"
   },
   "outputs": [
    {
     "data": {
      "text/html": [
       "<div>\n",
       "<style scoped>\n",
       "    .dataframe tbody tr th:only-of-type {\n",
       "        vertical-align: middle;\n",
       "    }\n",
       "\n",
       "    .dataframe tbody tr th {\n",
       "        vertical-align: top;\n",
       "    }\n",
       "\n",
       "    .dataframe thead th {\n",
       "        text-align: right;\n",
       "    }\n",
       "</style>\n",
       "<table border=\"1\" class=\"dataframe\">\n",
       "  <thead>\n",
       "    <tr style=\"text-align: right;\">\n",
       "      <th></th>\n",
       "      <th>animal</th>\n",
       "      <th>age</th>\n",
       "    </tr>\n",
       "    <tr>\n",
       "      <th>index</th>\n",
       "      <th></th>\n",
       "      <th></th>\n",
       "    </tr>\n",
       "  </thead>\n",
       "  <tbody>\n",
       "    <tr>\n",
       "      <th>d</th>\n",
       "      <td>dog</td>\n",
       "      <td>NaN</td>\n",
       "    </tr>\n",
       "    <tr>\n",
       "      <th>e</th>\n",
       "      <td>dog</td>\n",
       "      <td>5.0</td>\n",
       "    </tr>\n",
       "    <tr>\n",
       "      <th>i</th>\n",
       "      <td>dog</td>\n",
       "      <td>7.0</td>\n",
       "    </tr>\n",
       "  </tbody>\n",
       "</table>\n",
       "</div>"
      ],
      "text/plain": [
       "      animal  age\n",
       "index            \n",
       "d        dog  NaN\n",
       "e        dog  5.0\n",
       "i        dog  7.0"
      ]
     },
     "execution_count": 254,
     "metadata": {},
     "output_type": "execute_result"
    }
   ],
   "source": [
    "df.iloc[[3,4,8]][['animal','age']]"
   ]
  },
  {
   "cell_type": "markdown",
   "metadata": {
    "colab_type": "text",
    "id": "c2Zb8qUP5NrI"
   },
   "source": [
    "```Select only the rows where the number of visits is greater than 3. Pandas supports two useful APIs:\n",
    "(df[boolean list/series]) returns the rows for which the value is True\n",
    "(df[column] > num) returns a boolean series```"
   ]
  },
  {
   "cell_type": "code",
   "execution_count": 255,
   "metadata": {
    "colab": {},
    "colab_type": "code",
    "id": "D2gW90OX5NrK"
   },
   "outputs": [
    {
     "data": {
      "text/html": [
       "<div>\n",
       "<style scoped>\n",
       "    .dataframe tbody tr th:only-of-type {\n",
       "        vertical-align: middle;\n",
       "    }\n",
       "\n",
       "    .dataframe tbody tr th {\n",
       "        vertical-align: top;\n",
       "    }\n",
       "\n",
       "    .dataframe thead th {\n",
       "        text-align: right;\n",
       "    }\n",
       "</style>\n",
       "<table border=\"1\" class=\"dataframe\">\n",
       "  <thead>\n",
       "    <tr style=\"text-align: right;\">\n",
       "      <th></th>\n",
       "      <th>animal</th>\n",
       "      <th>age</th>\n",
       "      <th>visits</th>\n",
       "      <th>priority</th>\n",
       "    </tr>\n",
       "    <tr>\n",
       "      <th>index</th>\n",
       "      <th></th>\n",
       "      <th></th>\n",
       "      <th></th>\n",
       "      <th></th>\n",
       "    </tr>\n",
       "  </thead>\n",
       "  <tbody>\n",
       "  </tbody>\n",
       "</table>\n",
       "</div>"
      ],
      "text/plain": [
       "Empty DataFrame\n",
       "Columns: [animal, age, visits, priority]\n",
       "Index: []"
      ]
     },
     "execution_count": 255,
     "metadata": {},
     "output_type": "execute_result"
    }
   ],
   "source": [
    "df[df['visits']>3]"
   ]
  },
  {
   "cell_type": "markdown",
   "metadata": {
    "colab_type": "text",
    "id": "uUfMVcFW5NrQ"
   },
   "source": [
    "```Select the rows where the age is missing, i.e. is `NaN`.```"
   ]
  },
  {
   "cell_type": "code",
   "execution_count": 256,
   "metadata": {
    "colab": {},
    "colab_type": "code",
    "id": "aXg_sBb35NrS"
   },
   "outputs": [
    {
     "data": {
      "text/html": [
       "<div>\n",
       "<style scoped>\n",
       "    .dataframe tbody tr th:only-of-type {\n",
       "        vertical-align: middle;\n",
       "    }\n",
       "\n",
       "    .dataframe tbody tr th {\n",
       "        vertical-align: top;\n",
       "    }\n",
       "\n",
       "    .dataframe thead th {\n",
       "        text-align: right;\n",
       "    }\n",
       "</style>\n",
       "<table border=\"1\" class=\"dataframe\">\n",
       "  <thead>\n",
       "    <tr style=\"text-align: right;\">\n",
       "      <th></th>\n",
       "      <th>animal</th>\n",
       "      <th>age</th>\n",
       "      <th>visits</th>\n",
       "      <th>priority</th>\n",
       "    </tr>\n",
       "    <tr>\n",
       "      <th>index</th>\n",
       "      <th></th>\n",
       "      <th></th>\n",
       "      <th></th>\n",
       "      <th></th>\n",
       "    </tr>\n",
       "  </thead>\n",
       "  <tbody>\n",
       "    <tr>\n",
       "      <th>d</th>\n",
       "      <td>dog</td>\n",
       "      <td>NaN</td>\n",
       "      <td>3</td>\n",
       "      <td>yes</td>\n",
       "    </tr>\n",
       "    <tr>\n",
       "      <th>h</th>\n",
       "      <td>cat</td>\n",
       "      <td>NaN</td>\n",
       "      <td>1</td>\n",
       "      <td>yes</td>\n",
       "    </tr>\n",
       "  </tbody>\n",
       "</table>\n",
       "</div>"
      ],
      "text/plain": [
       "      animal  age  visits priority\n",
       "index                             \n",
       "d        dog  NaN       3      yes\n",
       "h        cat  NaN       1      yes"
      ]
     },
     "execution_count": 256,
     "metadata": {},
     "output_type": "execute_result"
    }
   ],
   "source": [
    "df[df['age'].isnull()]"
   ]
  },
  {
   "cell_type": "markdown",
   "metadata": {
    "colab_type": "text",
    "id": "qPehGTuz5NrX"
   },
   "source": [
    "```Select the rows where the animal is a cat *and* the age is less than 3. You can use logical operands: &, |, ~```"
   ]
  },
  {
   "cell_type": "code",
   "execution_count": 257,
   "metadata": {
    "colab": {},
    "colab_type": "code",
    "id": "aq0Q7Nsj5NrZ"
   },
   "outputs": [
    {
     "data": {
      "text/html": [
       "<div>\n",
       "<style scoped>\n",
       "    .dataframe tbody tr th:only-of-type {\n",
       "        vertical-align: middle;\n",
       "    }\n",
       "\n",
       "    .dataframe tbody tr th {\n",
       "        vertical-align: top;\n",
       "    }\n",
       "\n",
       "    .dataframe thead th {\n",
       "        text-align: right;\n",
       "    }\n",
       "</style>\n",
       "<table border=\"1\" class=\"dataframe\">\n",
       "  <thead>\n",
       "    <tr style=\"text-align: right;\">\n",
       "      <th></th>\n",
       "      <th>animal</th>\n",
       "      <th>age</th>\n",
       "      <th>visits</th>\n",
       "      <th>priority</th>\n",
       "    </tr>\n",
       "    <tr>\n",
       "      <th>index</th>\n",
       "      <th></th>\n",
       "      <th></th>\n",
       "      <th></th>\n",
       "      <th></th>\n",
       "    </tr>\n",
       "  </thead>\n",
       "  <tbody>\n",
       "    <tr>\n",
       "      <th>a</th>\n",
       "      <td>cat</td>\n",
       "      <td>2.5</td>\n",
       "      <td>1</td>\n",
       "      <td>yes</td>\n",
       "    </tr>\n",
       "    <tr>\n",
       "      <th>f</th>\n",
       "      <td>cat</td>\n",
       "      <td>2.0</td>\n",
       "      <td>3</td>\n",
       "      <td>no</td>\n",
       "    </tr>\n",
       "  </tbody>\n",
       "</table>\n",
       "</div>"
      ],
      "text/plain": [
       "      animal  age  visits priority\n",
       "index                             \n",
       "a        cat  2.5       1      yes\n",
       "f        cat  2.0       3       no"
      ]
     },
     "execution_count": 257,
     "metadata": {},
     "output_type": "execute_result"
    }
   ],
   "source": [
    "df[(df['animal']=='cat')&(df['age']<3)]"
   ]
  },
  {
   "cell_type": "markdown",
   "metadata": {
    "colab_type": "text",
    "id": "PMyrpx_G5Nrd"
   },
   "source": [
    "```Select the rows the age is between 2 and 4 (inclusive).```"
   ]
  },
  {
   "cell_type": "code",
   "execution_count": 258,
   "metadata": {
    "colab": {},
    "colab_type": "code",
    "id": "EdA0ltIU5Nrf"
   },
   "outputs": [
    {
     "data": {
      "text/html": [
       "<div>\n",
       "<style scoped>\n",
       "    .dataframe tbody tr th:only-of-type {\n",
       "        vertical-align: middle;\n",
       "    }\n",
       "\n",
       "    .dataframe tbody tr th {\n",
       "        vertical-align: top;\n",
       "    }\n",
       "\n",
       "    .dataframe thead th {\n",
       "        text-align: right;\n",
       "    }\n",
       "</style>\n",
       "<table border=\"1\" class=\"dataframe\">\n",
       "  <thead>\n",
       "    <tr style=\"text-align: right;\">\n",
       "      <th></th>\n",
       "      <th>animal</th>\n",
       "      <th>age</th>\n",
       "      <th>visits</th>\n",
       "      <th>priority</th>\n",
       "    </tr>\n",
       "    <tr>\n",
       "      <th>index</th>\n",
       "      <th></th>\n",
       "      <th></th>\n",
       "      <th></th>\n",
       "      <th></th>\n",
       "    </tr>\n",
       "  </thead>\n",
       "  <tbody>\n",
       "    <tr>\n",
       "      <th>a</th>\n",
       "      <td>cat</td>\n",
       "      <td>2.5</td>\n",
       "      <td>1</td>\n",
       "      <td>yes</td>\n",
       "    </tr>\n",
       "    <tr>\n",
       "      <th>b</th>\n",
       "      <td>cat</td>\n",
       "      <td>3.0</td>\n",
       "      <td>3</td>\n",
       "      <td>yes</td>\n",
       "    </tr>\n",
       "    <tr>\n",
       "      <th>f</th>\n",
       "      <td>cat</td>\n",
       "      <td>2.0</td>\n",
       "      <td>3</td>\n",
       "      <td>no</td>\n",
       "    </tr>\n",
       "    <tr>\n",
       "      <th>j</th>\n",
       "      <td>dog</td>\n",
       "      <td>3.0</td>\n",
       "      <td>1</td>\n",
       "      <td>no</td>\n",
       "    </tr>\n",
       "  </tbody>\n",
       "</table>\n",
       "</div>"
      ],
      "text/plain": [
       "      animal  age  visits priority\n",
       "index                             \n",
       "a        cat  2.5       1      yes\n",
       "b        cat  3.0       3      yes\n",
       "f        cat  2.0       3       no\n",
       "j        dog  3.0       1       no"
      ]
     },
     "execution_count": 258,
     "metadata": {},
     "output_type": "execute_result"
    }
   ],
   "source": [
    "df[(df['age']<=4) & (df['age']>=2)]"
   ]
  },
  {
   "cell_type": "markdown",
   "metadata": {
    "colab_type": "text",
    "id": "G0CI2ctU5Nrk"
   },
   "source": [
    "```Change the age in row 'f' to 1.5.```"
   ]
  },
  {
   "cell_type": "code",
   "execution_count": 259,
   "metadata": {
    "colab": {},
    "colab_type": "code",
    "id": "go28IEkS5Nrm"
   },
   "outputs": [
    {
     "name": "stdout",
     "output_type": "stream",
     "text": [
      "      animal  age  visits priority\n",
      "index                             \n",
      "f        cat  2.0       3       no\n",
      "      animal  age  visits priority\n",
      "index                             \n",
      "f        cat  1.5       3       no\n"
     ]
    },
    {
     "name": "stderr",
     "output_type": "stream",
     "text": [
      "C:\\Users\\T8624389\\AppData\\Local\\Continuum\\anaconda3\\lib\\site-packages\\ipykernel_launcher.py:2: FutureWarning: set_value is deprecated and will be removed in a future release. Please use .at[] or .iat[] accessors instead\n",
      "  \n"
     ]
    }
   ],
   "source": [
    "print (df.loc[['f']])\n",
    "df.set_value('f','age',1.5)\n",
    "print (df.loc[['f']])"
   ]
  },
  {
   "cell_type": "markdown",
   "metadata": {
    "colab_type": "text",
    "id": "QhJ_K8Vq5Nrr"
   },
   "source": [
    "```Calculate the sum of all visits (the total number of visits). Do it twice: using built in pandas functions and using numpy```"
   ]
  },
  {
   "cell_type": "code",
   "execution_count": 260,
   "metadata": {
    "colab": {},
    "colab_type": "code",
    "id": "StCzXdfi5Nrs"
   },
   "outputs": [
    {
     "name": "stdout",
     "output_type": "stream",
     "text": [
      "19\n",
      "19\n"
     ]
    }
   ],
   "source": [
    "print (df['visits'].sum())\n",
    "print(np.sum(df['visits']))"
   ]
  },
  {
   "cell_type": "markdown",
   "metadata": {
    "colab_type": "text",
    "id": "RpnAq9ez5Nry"
   },
   "source": [
    "```Calculate the mean age for each different animal in `df`.```"
   ]
  },
  {
   "cell_type": "code",
   "execution_count": 261,
   "metadata": {
    "colab": {},
    "colab_type": "code",
    "id": "yMNfzZti5Nr1"
   },
   "outputs": [
    {
     "data": {
      "text/plain": [
       "animal\n",
       "cat      2.333333\n",
       "dog      5.000000\n",
       "snake    2.500000\n",
       "Name: age, dtype: float64"
      ]
     },
     "execution_count": 261,
     "metadata": {},
     "output_type": "execute_result"
    }
   ],
   "source": [
    "df.groupby(['animal'])['age'].mean()"
   ]
  },
  {
   "cell_type": "markdown",
   "metadata": {
    "colab_type": "text",
    "id": "NE7_s3mH5Nr7"
   },
   "source": [
    "```Append a new row 'k' to `df` with your choice of values for each column. Then delete that row to return the original DataFrame.```"
   ]
  },
  {
   "cell_type": "code",
   "execution_count": 262,
   "metadata": {
    "colab": {},
    "colab_type": "code",
    "id": "Mw35i_WM5Nr_"
   },
   "outputs": [
    {
     "name": "stdout",
     "output_type": "stream",
     "text": [
      "      animal  age  visits priority  new\n",
      "index                                  \n",
      "a        cat  2.5       1      yes  xyz\n",
      "b        cat  3.0       3      yes  xyz\n",
      "c      snake  0.5       2       no  xyz\n",
      "d        dog  NaN       3      yes  xyz\n",
      "e        dog  5.0       2       no  xyz\n",
      "f        cat  1.5       3       no  xyz\n",
      "g      snake  4.5       1       no  xyz\n",
      "h        cat  NaN       1      yes  xyz\n",
      "i        dog  7.0       2       no  xyz\n",
      "j        dog  3.0       1       no  xyz\n",
      "      animal  age  visits priority\n",
      "index                             \n",
      "a        cat  2.5       1      yes\n",
      "b        cat  3.0       3      yes\n",
      "c      snake  0.5       2       no\n",
      "d        dog  NaN       3      yes\n",
      "e        dog  5.0       2       no\n",
      "f        cat  1.5       3       no\n",
      "g      snake  4.5       1       no\n",
      "h        cat  NaN       1      yes\n",
      "i        dog  7.0       2       no\n",
      "j        dog  3.0       1       no\n"
     ]
    }
   ],
   "source": [
    "new = ['xyz']*len(df)\n",
    "df[\"new\"]=new\n",
    "print (df)\n",
    "df.drop(\"new\",1,inplace=True)\n",
    "print (df)"
   ]
  },
  {
   "cell_type": "markdown",
   "metadata": {
    "colab_type": "text",
    "id": "RNpESFgs5NsG"
   },
   "source": [
    "```Count the number of each type of animal in `df`.```"
   ]
  },
  {
   "cell_type": "code",
   "execution_count": 263,
   "metadata": {
    "colab": {},
    "colab_type": "code",
    "id": "B8teNnug5NsM"
   },
   "outputs": [
    {
     "data": {
      "text/plain": [
       "3"
      ]
     },
     "execution_count": 263,
     "metadata": {},
     "output_type": "execute_result"
    }
   ],
   "source": [
    "len(df.groupby(['animal']))"
   ]
  },
  {
   "cell_type": "markdown",
   "metadata": {
    "colab_type": "text",
    "id": "3EYAU4LK5NsQ"
   },
   "source": [
    "```Sort `df` first by the values in the 'age' in *decending* order, then by the value in the 'visits' column in *ascending* order. You can use the sort_values function```"
   ]
  },
  {
   "cell_type": "code",
   "execution_count": 264,
   "metadata": {
    "colab": {},
    "colab_type": "code",
    "id": "5P170NRV5NsS"
   },
   "outputs": [
    {
     "name": "stdout",
     "output_type": "stream",
     "text": [
      "      animal  age  visits priority\n",
      "index                             \n",
      "i        dog  7.0       2       no\n",
      "e        dog  5.0       2       no\n",
      "g      snake  4.5       1       no\n",
      "b        cat  3.0       3      yes\n",
      "j        dog  3.0       1       no\n",
      "a        cat  2.5       1      yes\n",
      "f        cat  1.5       3       no\n",
      "c      snake  0.5       2       no\n",
      "d        dog  NaN       3      yes\n",
      "h        cat  NaN       1      yes\n",
      "      animal  age  visits priority\n",
      "index                             \n",
      "a        cat  2.5       1      yes\n",
      "g      snake  4.5       1       no\n",
      "h        cat  NaN       1      yes\n",
      "j        dog  3.0       1       no\n",
      "c      snake  0.5       2       no\n",
      "e        dog  5.0       2       no\n",
      "i        dog  7.0       2       no\n",
      "b        cat  3.0       3      yes\n",
      "d        dog  NaN       3      yes\n",
      "f        cat  1.5       3       no\n"
     ]
    }
   ],
   "source": [
    "print(df.sort_values(by='age',ascending=False))\n",
    "print(df.sort_values(by='visits',ascending=True))"
   ]
  },
  {
   "cell_type": "markdown",
   "metadata": {
    "colab_type": "text",
    "id": "LjwhxNMa5Nsb"
   },
   "source": [
    "```The 'priority' column contains the values 'yes' and 'no'. Replace this column with a column of boolean values: 'yes' should be `True` and 'no' should be `False`.```"
   ]
  },
  {
   "cell_type": "code",
   "execution_count": 265,
   "metadata": {
    "colab": {},
    "colab_type": "code",
    "id": "ykZOE0AN5Nsd"
   },
   "outputs": [
    {
     "name": "stdout",
     "output_type": "stream",
     "text": [
      "      animal  age  visits  priority\n",
      "index                              \n",
      "a        cat  2.5       1      True\n",
      "b        cat  3.0       3      True\n",
      "c      snake  0.5       2     False\n",
      "d        dog  NaN       3      True\n",
      "e        dog  5.0       2     False\n",
      "f        cat  1.5       3     False\n",
      "g      snake  4.5       1     False\n",
      "h        cat  NaN       1      True\n",
      "i        dog  7.0       2     False\n",
      "j        dog  3.0       1     False\n"
     ]
    }
   ],
   "source": [
    "df.priority.replace(['yes', 'no'], [True, False], inplace=True)\n",
    "print (df)"
   ]
  },
  {
   "cell_type": "markdown",
   "metadata": {
    "colab_type": "text",
    "id": "J49yUr-95Nsi"
   },
   "source": [
    "```In the 'animal' column, change the 'snake' entries to 'python'.```"
   ]
  },
  {
   "cell_type": "code",
   "execution_count": 266,
   "metadata": {
    "colab": {},
    "colab_type": "code",
    "id": "00wJy7HH5Nsj"
   },
   "outputs": [
    {
     "name": "stdout",
     "output_type": "stream",
     "text": [
      "       animal  age  visits  priority\n",
      "index                               \n",
      "a         cat  2.5       1      True\n",
      "b         cat  3.0       3      True\n",
      "c      python  0.5       2     False\n",
      "d         dog  NaN       3      True\n",
      "e         dog  5.0       2     False\n",
      "f         cat  1.5       3     False\n",
      "g      python  4.5       1     False\n",
      "h         cat  NaN       1      True\n",
      "i         dog  7.0       2     False\n",
      "j         dog  3.0       1     False\n"
     ]
    }
   ],
   "source": [
    "df.animal.replace(['snake'],['python'],inplace=True)\n",
    "print (df)"
   ]
  },
  {
   "cell_type": "markdown",
   "metadata": {
    "colab_type": "text",
    "id": "jNLOUYv05Nsm"
   },
   "source": [
    "```For each animal type and each number of visits, find the mean age. In other words, each row is an animal, each column is a number of visits and the values are the mean ages (hint: use a pivot table).```"
   ]
  },
  {
   "cell_type": "code",
   "execution_count": 273,
   "metadata": {
    "colab": {},
    "colab_type": "code",
    "id": "AYYBVZBd5Nsn"
   },
   "outputs": [
    {
     "name": "stdout",
     "output_type": "stream",
     "text": [
      "visits    1    2     3\n",
      "animal                \n",
      "cat     2.5  NaN  2.25\n",
      "dog     3.0  6.0   NaN\n",
      "python  4.5  0.5   NaN\n"
     ]
    }
   ],
   "source": [
    "table = pd.pivot_table(df,values='age',index='animal',columns='visits',aggfunc=np.mean)\n",
    "print (table)"
   ]
  },
  {
   "cell_type": "markdown",
   "metadata": {
    "colab_type": "text",
    "id": "Tq6pr4wO5Nsq"
   },
   "source": [
    "```Now you will be asked to generate your own test data and manipulate it using functions you will have to create.```"
   ]
  },
  {
   "cell_type": "markdown",
   "metadata": {
    "colab_type": "text",
    "id": "p6Dxg_Zq5Nsr"
   },
   "source": [
    "```Create a dataframe with 1000 rows and 3 columns. The columns are to be the following:```\n",
    "```\n",
    "        - age: an integer, uniformly distributed between 20 to 65\n",
    "        - skill: a float, normally distributed between 0 and 1, with expected value = 0.5 and standard deviation = 0.3\n",
    "        - height: a float with 2 digits after the decimal point, between 1.5 to 2.0\n",
    "```\n",
    "```you might want to use numpy.random```"
   ]
  },
  {
   "cell_type": "code",
   "execution_count": 312,
   "metadata": {
    "colab": {},
    "colab_type": "code",
    "id": "iIlk_3sM5Nst"
   },
   "outputs": [],
   "source": [
    "age = np.random.randint(20,66,1000)\n",
    "\"\"\"s=age\n",
    "import matplotlib.pyplot as plt\n",
    "count, bins, ignored = plt.hist(s, 15, density=True)\n",
    "plt.show()\"\"\"\n",
    "\n",
    "import scipy.stats\n",
    "lower = 0\n",
    "upper = 1\n",
    "mu = 0.5\n",
    "sigma = 0.3\n",
    "N = 1000\n",
    "\n",
    "skill = scipy.stats.truncnorm.rvs((lower-mu)/sigma,(upper-mu)/sigma,loc=mu,scale=sigma,size=N)\n",
    "\"\"\"s=skill\n",
    "count, bins, ignored = plt.hist(s, 30, normed=True)\n",
    "plt.plot(bins, 1/(sigma * np.sqrt(2 * np.pi)) *\n",
    "np.exp( - (bins - mu)**2 / (2 * sigma**2) ),\n",
    "linewidth=2, color='r')\n",
    "plt.show()\"\"\"\n",
    "\n",
    "height = np.around(np.random.uniform(1.5,2,1000),2)\n",
    "\n",
    "data = pd.DataFrame.from_dict({'age':age,'skill':skill,'height':height})"
   ]
  },
  {
   "cell_type": "markdown",
   "metadata": {
    "colab_type": "text",
    "id": "DpCdjYzX5Nsv"
   },
   "source": [
    "```Add the dataframe a new columns, called salary, when:```\n",
    "        <center>$salary = 1000\\cdot((age^2)/1000 + 1.7\\cdot skill + 0.4\\cdot exp(-(height-1.7)^2)$<center>"
   ]
  },
  {
   "cell_type": "code",
   "execution_count": 314,
   "metadata": {
    "colab": {},
    "colab_type": "code",
    "id": "IlX6g4eT5Nsw"
   },
   "outputs": [],
   "source": [
    "data['salary']=1000*((data['age'])**2)/1000+1.7*data['skill']+0.4*np.exp(-(data['height']-1.7)**2)"
   ]
  },
  {
   "cell_type": "markdown",
   "metadata": {
    "colab_type": "text",
    "id": "P1aEipl95Nsz"
   },
   "source": [
    "```Split the dataframe to groups by the age left digit and by the age. for each group compute:```\n",
    "```\n",
    "        - the number of rows\n",
    "        - the mean salary\n",
    "        - the maximum height     \n",
    "```\n",
    "\n",
    "```To do so, read about the groupby and agg functions is the ``` [pandas API](https://pandas.pydata.org/pandas-docs/stable/user_guide/groupby.html)"
   ]
  },
  {
   "cell_type": "code",
   "execution_count": 343,
   "metadata": {
    "colab": {},
    "colab_type": "code",
    "id": "HZXoGYe65Ns0"
   },
   "outputs": [
    {
     "name": "stdout",
     "output_type": "stream",
     "text": [
      "      age       salary height\n",
      "    count         mean    max\n",
      "age                          \n",
      "20     23   401.289987   1.98\n",
      "21     19   442.159186   1.98\n",
      "22     23   485.145756   1.95\n",
      "23     23   530.260440   1.97\n",
      "24     24   577.260635   1.98\n",
      "25     29   626.336447   2.00\n",
      "26     20   677.237931   2.00\n",
      "27     23   730.225439   2.00\n",
      "28     13   785.204497   1.96\n",
      "29     22   842.217082   1.99\n",
      "30     22   901.301923   1.97\n",
      "31     25   962.363218   1.99\n",
      "32     25  1025.168237   1.93\n",
      "33     16  1090.302027   1.91\n",
      "34     20  1157.229759   1.98\n",
      "35     20  1226.213533   1.98\n",
      "36     24  1297.243274   1.98\n",
      "37     23  1370.366003   1.99\n",
      "38     21  1445.277075   2.00\n",
      "39     25  1522.210195   1.98\n",
      "40     25  1601.409127   1.99\n",
      "41     19  1682.198188   2.00\n",
      "42     15  1765.079063   1.99\n",
      "43     30  1850.295304   1.96\n",
      "44     19  1937.203588   1.92\n",
      "45     18  2026.296331   1.97\n",
      "46     12  2117.341215   1.94\n",
      "47     25  2210.324359   1.97\n",
      "48     22  2305.190967   2.00\n",
      "49     20  2402.202300   1.99\n",
      "50     20  2501.262631   1.99\n",
      "51     25  2602.053541   1.97\n",
      "52     29  2705.321893   2.00\n",
      "53     19  2810.303841   1.99\n",
      "54     17  2917.248425   2.00\n",
      "55     27  3026.238937   1.99\n",
      "56     21  3137.066430   1.94\n",
      "57     29  3250.134914   1.96\n",
      "58     21  3365.197784   1.97\n",
      "59     17  3482.361787   1.97\n",
      "60     24  3601.364168   1.99\n",
      "61     14  3722.152158   1.96\n",
      "62     27  3845.272776   2.00\n",
      "63     25  3970.164580   2.00\n",
      "64     22  4097.217440   1.97\n",
      "65     18  4226.213652   1.94\n",
      "                 age       salary height\n",
      "               count         mean    max\n",
      "left_age_digit                          \n",
      "2                219   603.102406    2.0\n",
      "3                221  1202.212475    2.0\n",
      "4                205  1983.837521    2.0\n",
      "5                225  2969.911044    2.0\n",
      "6                130  3906.384455    2.0\n"
     ]
    }
   ],
   "source": [
    "grouped=data.groupby(['age'])\n",
    "print (grouped.agg({'age':['count'],\n",
    "                    'salary':'mean',\n",
    "                    'height':'max'}))\n",
    "data['left_age_digit']=(data['age']/10).astype(int)\n",
    "grouped=data.groupby(['left_age_digit'])\n",
    "print (grouped.agg({'age':['count'],\n",
    "                    'salary':'mean',\n",
    "                    'height':'max'}))\n",
    "data.drop('left_age_digit',1,inplace=True)"
   ]
  },
  {
   "cell_type": "markdown",
   "metadata": {
    "colab_type": "text",
    "id": "IEmXsrJf5Ns5"
   },
   "source": [
    "```Now split the dataframe to groups by age. For each group compute the mean salary, divided by the sum of heights.```"
   ]
  },
  {
   "cell_type": "code",
   "execution_count": 344,
   "metadata": {
    "colab": {},
    "colab_type": "code",
    "id": "Z62WbkJI5Ns6"
   },
   "outputs": [
    {
     "name": "stdout",
     "output_type": "stream",
     "text": [
      "          value\n",
      "age            \n",
      "20    10.447539\n",
      "21    13.406889\n",
      "22    11.990750\n",
      "23    13.387035\n",
      "24    13.711654\n",
      "25    12.240306\n",
      "26    19.727292\n",
      "27    18.416783\n",
      "28    33.772236\n",
      "29    22.181119\n",
      "30    23.163761\n",
      "31    21.936704\n",
      "32    23.930164\n",
      "33    40.247399\n",
      "34    33.866835\n",
      "35    34.405542\n",
      "36    31.161260\n",
      "37    33.579172\n",
      "38    40.235999\n",
      "39    34.230047\n",
      "40    37.468627\n",
      "41    50.760356\n",
      "42    66.306501\n",
      "43    35.733783\n",
      "44    57.552097\n",
      "45    66.218834\n",
      "46    99.733453\n",
      "47    52.056626\n",
      "48    58.433231\n",
      "49    70.096361\n",
      "50    69.673054\n",
      "51    59.475510\n",
      "52    52.165868\n",
      "53    85.758433\n",
      "54    96.406095\n",
      "55    63.616543\n",
      "56    87.068177\n",
      "57    64.295448\n",
      "58    91.644820\n",
      "59   116.897005\n",
      "60    87.052554\n",
      "61   151.553427\n",
      "62    81.605959\n",
      "63    90.601656\n",
      "64   103.753290\n",
      "65   137.259294\n"
     ]
    }
   ],
   "source": [
    "def f(x):\n",
    "    d={}\n",
    "    d['value']=x['salary'].mean()/x['height'].sum()\n",
    "    return pd.Series(d,index=['value'])\n",
    "grouped=data.groupby(['age']).apply(f)\n",
    "print(grouped)"
   ]
  },
  {
   "cell_type": "markdown",
   "metadata": {
    "colab_type": "text",
    "id": "eb2Yd-5G5NtB"
   },
   "source": [
    "```Add these lines to your code:```\n",
    "```python\n",
    "        import matplotlib.pyplot as plt\n",
    "        %matplotlib inline\n",
    "``` \n",
    "       \n",
    "```Now try using the pd.DataFrame.plot function to show your data. Try also using pd.DataFrame.boxplot.```"
   ]
  },
  {
   "cell_type": "code",
   "execution_count": 349,
   "metadata": {
    "colab": {},
    "colab_type": "code",
    "id": "kh0ouwLu5NtC"
   },
   "outputs": [
    {
     "data": {
      "image/png": "[encoded data removed]",
      "text/plain": [
       "<Figure size 432x288 with 1 Axes>"
      ]
     },
     "metadata": {
      "needs_background": "light"
     },
     "output_type": "display_data"
    },
    {
     "data": {
      "image/png": "[encoded data removed]",
      "text/plain": [
       "<Figure size 432x288 with 1 Axes>"
      ]
     },
     "metadata": {
      "needs_background": "light"
     },
     "output_type": "display_data"
    },
    {
     "data": {
      "image/png": "[encoded data removed]",
      "text/plain": [
       "<Figure size 432x288 with 1 Axes>"
      ]
     },
     "metadata": {
      "needs_background": "light"
     },
     "output_type": "display_data"
    },
    {
     "data": {
      "image/png": "[encoded data removed]",
      "text/plain": [
       "<Figure size 432x288 with 1 Axes>"
      ]
     },
     "metadata": {
      "needs_background": "light"
     },
     "output_type": "display_data"
    }
   ],
   "source": [
    "import matplotlib.pyplot as plt\n",
    "%matplotlib inline\n",
    "df=data\n",
    "plt.close('all')\n",
    "\n",
    "df.plot(x = 'age', y = 'salary', kind=\"scatter\")\n",
    "df.plot(x = 'age', y = 'skill', kind=\"scatter\")\n",
    "df.plot(x = 'age', y = 'height', kind=\"scatter\")\n",
    "plt.show()\n",
    "\n",
    "boxp = df.boxplot(column=['age','salary','height','skill']"
   ]
  },
  {
   "cell_type": "markdown",
   "metadata": {
    "colab_type": "text",
    "id": "Lx3jhCSp5NtE"
   },
   "source": [
    "```Save the result as a csv```"
   ]
  },
  {
   "cell_type": "code",
   "execution_count": 350,
   "metadata": {
    "colab": {},
    "colab_type": "code",
    "id": "5hZMI6nW5NtE"
   },
   "outputs": [],
   "source": [
    "df.to_csv('df.csv')"
   ]
  },
  {
   "cell_type": "markdown",
   "metadata": {
    "colab_type": "text",
    "id": "bt77RN435NtG"
   },
   "source": [
    "## Working with real-life data"
   ]
  },
  {
   "cell_type": "markdown",
   "metadata": {
    "colab_type": "text",
    "id": "xvVYUAzF5NtH"
   },
   "source": [
    "```read the csv file entitled house_prices_numeric.csv consider writing the following line of code:```\n",
    "```python\n",
    "pd.options.display.max_columns=50\n",
    "```"
   ]
  },
  {
   "cell_type": "code",
   "execution_count": 467,
   "metadata": {
    "colab": {},
    "colab_type": "code",
    "id": "xOGuCpkq5NtJ"
   },
   "outputs": [],
   "source": [
    "from IPython.display import display, HTML\n",
    "import numpy as np\n",
    "import pandas as pd\n",
    "import matplotlib.pyplot as plt\n",
    "%matplotlib inline\n",
    "pd.options.display.max_columns=50"
   ]
  },
  {
   "cell_type": "code",
   "execution_count": 468,
   "metadata": {
    "colab": {},
    "colab_type": "code",
    "id": "REGh17Up5NtL"
   },
   "outputs": [],
   "source": [
    "df = pd.read_csv('https://raw.githubusercontent.com/roee97/ds_course_ex1/master/house_prices_numeric.csv')"
   ]
  },
  {
   "cell_type": "markdown",
   "metadata": {
    "colab_type": "text",
    "id": "_kbhTFKy5NtN"
   },
   "source": [
    "```In the following questions, print your answer if possible, draw a graph or visualize it in any other means. When drawing a graph, add a title to it. Answer the following questions (try using a single line of code for each):```\n",
    "```\n",
    "- What is oldest house in the dataset (YearBuilt)?\n",
    "- What is the highest price (SalePrice) of houses built in that year?\n",
    "- What is the mean area (LotArea) of houses?\n",
    "- What is the 50-percentile of the area (LotArea) of houses?\n",
    "- What is more common: having a fireplace (Fireplaces) in the house, or not having one?\n",
    "- What is the mean price (SalePrice) of houses that have swimming pools (PoolArea)?\n",
    "- How many houses were sold every year (YrSold)? Draw a graph using plt.plot or pandas.plot\n",
    "- What is the distribution of the overall condition of the houses (OverallCond)? Use plt.hist or pandas.hist\n",
    "- For every number of fireplaces in a house (Fireplaces), compute the mean price of a house, the mean age of the house (we are in 2019) and the count of distinct FullBath values\n",
    "- Take only houses with MSSubClass > 60. Split into groups according to whether or not the MSSubClass is a multiple of 20. For each group compute the mean, max, min and standard deviation of OverallQual\n",
    "```"
   ]
  },
  {
   "cell_type": "code",
   "execution_count": 469,
   "metadata": {},
   "outputs": [
    {
     "data": {
      "text/plain": [
       "'\\n-) 1872\\n-) 122000\\n-) 10516.828082191782\\n-) 9478.5\\n-) True (more common - having a fireplace)\\n-) 288138.5714285714\\n'"
      ]
     },
     "execution_count": 469,
     "metadata": {},
     "output_type": "execute_result"
    }
   ],
   "source": [
    "'''\n",
    "-) 1872\n",
    "-) 122000\n",
    "-) 10516.828082191782\n",
    "-) 9478.5\n",
    "-) True (more common - having a fireplace)\n",
    "-) 288138.5714285714\n",
    "'''"
   ]
  },
  {
   "cell_type": "code",
   "execution_count": 470,
   "metadata": {
    "colab": {},
    "colab_type": "code",
    "id": "bqp1FmJE5NtO"
   },
   "outputs": [
    {
     "name": "stdout",
     "output_type": "stream",
     "text": [
      "['Id', 'MSSubClass', 'LotFrontage', 'LotArea', 'OverallQual', 'OverallCond', 'YearBuilt', 'YearRemodAdd', 'MasVnrArea', 'BsmtFinSF1', 'BsmtFinSF2', 'BsmtUnfSF', 'TotalBsmtSF', '1stFlrSF', '2ndFlrSF', 'LowQualFinSF', 'GrLivArea', 'BsmtFullBath', 'BsmtHalfBath', 'FullBath', 'HalfBath', 'BedroomAbvGr', 'KitchenAbvGr', 'TotRmsAbvGrd', 'Fireplaces', 'GarageYrBlt', 'GarageCars', 'GarageArea', 'WoodDeckSF', 'OpenPorchSF', 'EnclosedPorch', '3SsnPorch', 'ScreenPorch', 'PoolArea', 'MiscVal', 'MoSold', 'YrSold', 'SalePrice']\n",
      "1872\n",
      "122000\n",
      "10516.828082191782\n",
      "9478.5\n",
      "True\n",
      "288138.5714285714\n"
     ]
    },
    {
     "data": {
      "image/png": "[encoded data removed]",
      "text/plain": [
       "<Figure size 432x288 with 1 Axes>"
      ]
     },
     "metadata": {
      "needs_background": "light"
     },
     "output_type": "display_data"
    },
    {
     "name": "stdout",
     "output_type": "stream",
     "text": [
      "                SalePrice  YearBuilt\n",
      "                     mean        age\n",
      "Fireplaces                          \n",
      "0           141331.482609  54.781159\n",
      "1           211843.909231  39.150769\n",
      "2           240588.539130  54.347826\n",
      "3           252000.000000  38.400000\n",
      "  OverallQual                  \n",
      "         mean max min       std\n",
      "0    6.019444   9   3  1.204522\n",
      "1    5.972222  10   4  1.383290\n"
     ]
    },
    {
     "data": {
      "image/png": "[encoded data removed]",
      "text/plain": [
       "<Figure size 432x288 with 1 Axes>"
      ]
     },
     "metadata": {
      "needs_background": "light"
     },
     "output_type": "display_data"
    }
   ],
   "source": [
    "print(list(df.columns.values))\n",
    "#oldest house\n",
    "print (df['YearBuilt'].min())\n",
    "#highet price among oldest houses\n",
    "print (df[df['YearBuilt']==1872]['SalePrice'].max())\n",
    "#mean area\n",
    "print (df['LotArea'].mean())\n",
    "#percentile 0.5\n",
    "print (df['LotArea'].quantile(0.5))\n",
    "#having a fireplace\n",
    "print (df.groupby('Fireplaces').size()[1:].sum()>df.groupby('Fireplaces').size()[0])\n",
    "#mean price of houses with a swimmingpool\n",
    "print (df[df['PoolArea']!=0]['SalePrice'].mean())\n",
    "# number of houses sold every year\n",
    "data = df.groupby('YrSold').size()\n",
    "import matplotlib.pyplot as plt\n",
    "%matplotlib inline\n",
    "plt.close('all')\n",
    "data.plot(kind='bar')\n",
    "plt.show()\n",
    "#distribution of condition\n",
    "pd.Series.hist(df['OverallCond'])\n",
    "# for every number of fireplaces...\n",
    "grouped = df.groupby('Fireplaces')\n",
    "\n",
    "def age(x):\n",
    "    return 2019-x.mean()\n",
    "\n",
    "print (grouped.agg({'SalePrice':['mean'],\n",
    "                    'YearBuilt':age,\n",
    "                    }))\n",
    "\n",
    "#MSSubClass>60\n",
    "data = df[df['MSSubClass'] > 60].groupby(lambda x: df['MSSubClass'].loc[x]%2)\n",
    "print (data.agg({'OverallQual':['mean','max','min','std']}))\n",
    "\n"
   ]
  },
  {
   "cell_type": "markdown",
   "metadata": {
    "colab_type": "text",
    "id": "ij15G9X35NtQ"
   },
   "source": [
    "# Feature extraction"
   ]
  },
  {
   "cell_type": "markdown",
   "metadata": {
    "colab_type": "text",
    "id": "BJusnW_-5NtT"
   },
   "source": [
    "```Load the complete version of the houses table, entitled \"house_prices_larger.csv\"```"
   ]
  },
  {
   "cell_type": "code",
   "execution_count": 516,
   "metadata": {
    "colab": {},
    "colab_type": "code",
    "id": "j1KrefKK5NtU"
   },
   "outputs": [],
   "source": [
    "df = pd.read_csv('https://raw.githubusercontent.com/roee97/ds_course_ex1/master/house_prices_larger.csv')"
   ]
  },
  {
   "cell_type": "markdown",
   "metadata": {
    "colab_type": "text",
    "id": "WyCh9_WB5NtW"
   },
   "source": [
    "```As you recall, the feature extraction process is done in order to let us describe the data in more \"meaningful\" manner. Add the following features to your dataframe:```\n",
    "- ```LotArea in squared meters ( it's currently in units of squared feet)```\n",
    "- ```1stFlrSF + 2ndFlrSF```\n",
    "- ```GarageArea**0.5```\n",
    "- ```LotArea / (BedroomAbvGr+1)```\n",
    "- ```LotArea / (mean LotArea for houses built in that same year + 1e-5) - you might want to use``` [pandas merge function](https://www.google.com/search?q=pandas+merge&oq=pandas+merge&aqs=chrome..69i57l2j69i59l3j69i60.2080j0j9&sourceid=chrome&ie=UTF-8)\n",
    "- ```Ranking of LotArea (largest house has 1, the second largest has 2 and so on)```\n",
    "- ```One hot encoding of LotConfig - that is, add feature againts every value possible in LotConfig, which is 1 if the sample's LotConfig is this value and 0 otherwise (consider``` [pandas.get_dummies](https://pandas.pydata.org/pandas-docs/stable/reference/api/pandas.get_dummies.html))\n",
    "\n",
    "```make a list of the names of the features you created.```"
   ]
  },
  {
   "cell_type": "code",
   "execution_count": 565,
   "metadata": {},
   "outputs": [
    {
     "name": "stdout",
     "output_type": "stream",
     "text": [
      "['Id' 'MSSubClass' 'LotFrontage' 'LotArea' 'OverallQual' 'OverallCond'\n",
      " 'YearBuilt' 'YearRemodAdd' 'MasVnrArea' 'BsmtFinSF1' 'BsmtFinSF2'\n",
      " 'BsmtUnfSF' 'TotalBsmtSF' '1stFlrSF' '2ndFlrSF' 'LowQualFinSF'\n",
      " 'GrLivArea' 'BsmtFullBath' 'BsmtHalfBath' 'FullBath' 'HalfBath'\n",
      " 'BedroomAbvGr' 'KitchenAbvGr' 'TotRmsAbvGrd' 'Fireplaces' 'GarageYrBlt'\n",
      " 'GarageCars' 'GarageArea' 'WoodDeckSF' 'OpenPorchSF' 'EnclosedPorch'\n",
      " '3SsnPorch' 'ScreenPorch' 'PoolArea' 'MiscVal' 'MoSold' 'YrSold'\n",
      " 'SalePrice' 'LotConfig' 'LotAreaSquaredMeters' '1&2FlrSF' 'GarageLength'\n",
      " 'LotArea / (BedroomAbvGr+1)' 'LotArea / mean' 'LotAreaRank' 'Corner'\n",
      " 'CulDSac' 'FR2' 'FR3' 'Inside']\n"
     ]
    }
   ],
   "source": [
    "print (df.columns.values)\n",
    "df['LotAreaSquaredMeters']=df['LotArea']*0.09290304\n",
    "df['1&2FlrSF']=df['1stFlrSF']+df['2ndFlrSF']\n",
    "df['GarageLength']=df['GarageArea']**0.5\n",
    "df['LotArea / (BedroomAbvGr+1)']=df['LotArea'] / (df['BedroomAbvGr']+1)\n",
    "#large = df.merge(df.groupby('YearBuilt')['LotArea'].mean(),on='YearBuilt')\n",
    "large = pd.merge((df.groupby('YearBuilt').mean()['LotArea'] + 1e-5).reset_index(),df,on='YearBuilt')\n",
    "df['LotArea / mean'] = large['LotArea_y']/large['LotArea_x']\n",
    "df['LotAreaRank']=df['LotArea'].rank(method='max')\n",
    "dummies= pd.get_dummies(df['LotConfig'])\n",
    "df[pd.get_dummies(df['LotConfig']).columns]=dummies\n",
    "names=['LotAreaSquaredMeters','1&2FlrSF','GarageLength','LotArea / (BedroomAbvGr+1)','LotArea / mean','LotAreaRank','Corner',\n",
    " 'CulDSac', 'FR2', 'FR3', 'Inside']"
   ]
  },
  {
   "cell_type": "markdown",
   "metadata": {
    "colab_type": "text",
    "id": "TJG-f4mz5NtZ"
   },
   "source": [
    "## Simple linear model"
   ]
  },
  {
   "cell_type": "markdown",
   "metadata": {
    "colab_type": "text",
    "id": "_CkO_BQP5Nta"
   },
   "source": [
    "```Next, we will train a simple linear model, as seen in class, to predict SalePrice. Use the features you computed. Create train and test segments, normalize the data (both the features and the target) and use a linear model. Make sure you don't somehow use the test data when training your model (or when normalizing your data).```"
   ]
  },
  {
   "cell_type": "code",
   "execution_count": 518,
   "metadata": {
    "colab": {},
    "colab_type": "code",
    "id": "QjA-j-WP5Ntb"
   },
   "outputs": [],
   "source": [
    "from sklearn.linear_model import LinearRegrqession\n",
    "from sklearn.model_selection import train_test_split\n",
    "from sklearn.preprocessing import StandardScaler\n",
    "from sklearn.metrics import mean_squared_error"
   ]
  },
  {
   "cell_type": "code",
   "execution_count": 583,
   "metadata": {
    "colab": {},
    "colab_type": "code",
    "id": "I0I7vwPd5Ntf"
   },
   "outputs": [
    {
     "data": {
      "image/png": "[encoded data removed]",
      "text/plain": [
       "<Figure size 432x288 with 1 Axes>"
      ]
     },
     "metadata": {
      "needs_background": "light"
     },
     "output_type": "display_data"
    },
    {
     "name": "stdout",
     "output_type": "stream",
     "text": [
      "Test errstdor 0.004950412904601305\n"
     ]
    },
    {
     "data": {
      "image/png": "[encoded data removed]",
      "text/plain": [
       "<Figure size 432x288 with 1 Axes>"
      ]
     },
     "metadata": {
      "needs_background": "light"
     },
     "output_type": "display_data"
    },
    {
     "name": "stdout",
     "output_type": "stream",
     "text": [
      "Train error 0.004181474981129047\n"
     ]
    }
   ],
   "source": [
    "X_train, X_test, y_train, y_test= train_test_split(df[names], df['SalePrice'], test_size=0.3)\n",
    "y_train /= max(y_train)\n",
    "y_test /= max(y_test)\n",
    "\n",
    "reg = LinearRegression(normalize=True)\n",
    "\n",
    "reg.fit(X_train,y_train)\n",
    "predictions = reg.predict(X_test)\n",
    "\n",
    "plt.scatter(y_test, predictions)\n",
    "plt.xlabel(\"True Values Test\")\n",
    "plt.ylabel(\"Predictions\")\n",
    "plt.plot([0,1],[0,1],'r--')\n",
    "\n",
    "plt.show()\n",
    "print (\"Test errstdor\",mean_squared_error(y_test,predictions))\n",
    "\n",
    "predictions = reg.predict(X_train)\n",
    "\n",
    "plt.scatter(y_train,predictions)\n",
    "plt.xlabel(\"True Values Train\")\n",
    "plt.ylabel(\"Predictions\")\n",
    "plt.plot([0,1],[0,1],'r--')\n",
    "\n",
    "plt.show()\n",
    "print (\"Train error\",mean_squared_error(y_train,predictions))\n"
   ]
  },
  {
   "cell_type": "markdown",
   "metadata": {
    "colab_type": "text",
    "id": "bPhA2jpq5Nti"
   },
   "source": [
    "```Next, we will add extra features: for any feature you computed earlier, add feature**2 and feature**3. Now use Ridge regression (regularized linear regression, as we discussed in class). Draw graphs of the loss computed on the train and on the validation as a function of the regularization parameter, for``` 1$\\leq\\alpha\\leq$30. ```What regularization would it be best to take?```"
   ]
  },
  {
   "cell_type": "code",
   "execution_count": 580,
   "metadata": {
    "colab": {},
    "colab_type": "code",
    "id": "KJKFH3lh5Ntj"
   },
   "outputs": [],
   "source": [
    "from sklearn.linear_model import Ridge\n",
    "#df = pd.read_csv('https://raw.githubusercontent.com/roee97/ds_course_ex1/master/house_prices_special.csv')"
   ]
  },
  {
   "cell_type": "code",
   "execution_count": 588,
   "metadata": {
    "colab": {},
    "colab_type": "code",
    "id": "CD8a9kcp5Ntl"
   },
   "outputs": [
    {
     "data": {
      "image/png": "[encoded data removed]",
      "text/plain": [
       "<Figure size 432x288 with 1 Axes>"
      ]
     },
     "metadata": {
      "needs_background": "light"
     },
     "output_type": "display_data"
    },
    {
     "data": {
      "image/png": "[encoded data removed]",
      "text/plain": [
       "<Figure size 432x288 with 1 Axes>"
      ]
     },
     "metadata": {
      "needs_background": "light"
     },
     "output_type": "display_data"
    }
   ],
   "source": [
    "data = df[names]\n",
    "new_names=names[:]\n",
    "for name in names:\n",
    "    df[\"{0}^2\".format(name)]=df[name]**2\n",
    "    df[\"{0}^3\".format(name)]=df[name]**3\n",
    "    new_names.append(\"{0}^2\".format(name))\n",
    "    new_names.append(\"{0}^3\".format(name))\n",
    "    \n",
    "X_train, X_test, y_train, y_test = train_test_split(\n",
    "    df[new_names], df['SalePrice'], test_size=0.2, random_state=1)\n",
    "X_train, X_val, y_train, y_val = train_test_split(\n",
    "    X_train, y_train, test_size=0.25, random_state=1)\n",
    "y_train /= max(y_train)\n",
    "y_val /= max(y_val)\n",
    "y_test /= max(y_test)\n",
    "\n",
    "train_std=[0]*30\n",
    "val_std=[0]*30\n",
    "for i in range(30):\n",
    "    rr=Ridge(alpha=i,normalize=True)\n",
    "    rr.fit(X_train,y_train)\n",
    "    \n",
    "    train_std[i]=mean_squared_error(y_train,rr.predict(X_train))\n",
    "    val_std[i]=mean_squared_error(y_val,rr.predict(X_val))\n",
    "    \n",
    "plt.scatter(list(range(1,31)),train_std)\n",
    "plt.xlabel(\"alpha\")\n",
    "plt.ylabel(\"Loss train\")\n",
    "plt.show()\n",
    "    \n",
    "    \n",
    "plt.scatter(list(range(1,31)),val_std)\n",
    "plt.xlabel(\"alpha\")\n",
    "plt.ylabel(\"Loss val\")\n",
    "plt.show() \n",
    "    \n",
    "    \n",
    "\n",
    "\n"
   ]
  },
  {
   "cell_type": "code",
   "execution_count": 591,
   "metadata": {},
   "outputs": [
    {
     "data": {
      "text/plain": [
       "'From the graphs above it might be seen that the best regularization to take is alpha=2 (gives almost lowest loss both on test and on train)'"
      ]
     },
     "execution_count": 591,
     "metadata": {},
     "output_type": "execute_result"
    }
   ],
   "source": [
    "\"\"\"From the graphs above it might be seen that the best regularization to take is alpha=2 (gives almost lowest loss both on test and on train)\"\"\""
   ]
  },
  {
   "cell_type": "code",
   "execution_count": null,
   "metadata": {},
   "outputs": [],
   "source": []
  }
 ],
 "metadata": {
  "colab": {
   "collapsed_sections": [],
   "name": "exercise 1 - using APIs.ipynb",
   "provenance": [],
   "version": "0.3.2"
  },
  "kernelspec": {
   "display_name": "Python 3",
   "language": "python",
   "name": "python3"
  },
  "language_info": {
   "codemirror_mode": {
    "name": "ipython",
    "version": 3
   },
   "file_extension": ".py",
   "mimetype": "text/x-python",
   "name": "python",
   "nbconvert_exporter": "python",
   "pygments_lexer": "ipython3",
   "version": "3.7.0"
  }
 },
 "nbformat": 4,
 "nbformat_minor": 1
}
